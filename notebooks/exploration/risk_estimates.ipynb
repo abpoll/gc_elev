{
 "cells": [
  {
   "cell_type": "code",
   "execution_count": 1,
   "id": "08595ee5",
   "metadata": {
    "ExecuteTime": {
     "end_time": "2023-02-07T15:31:35.856218Z",
     "start_time": "2023-02-07T15:31:35.823949Z"
    }
   },
   "outputs": [],
   "source": [
    "%load_ext autoreload\n",
    "%autoreload 2"
   ]
  },
  {
   "cell_type": "code",
   "execution_count": 2,
   "id": "747a5025",
   "metadata": {
    "ExecuteTime": {
     "end_time": "2023-02-07T15:31:58.940565Z",
     "start_time": "2023-02-07T15:31:57.596145Z"
    }
   },
   "outputs": [
    {
     "name": "stderr",
     "output_type": "stream",
     "text": [
      "/tmp/ipykernel_2077215/863041077.py:6: UserWarning: Shapely 2.0 is installed, but because PyGEOS is also installed, GeoPandas will still use PyGEOS by default for now. To force to use and test Shapely 2.0, you have to set the environment variable USE_PYGEOS=0. You can do this before starting the Python process, or in your code before importing geopandas:\n",
      "\n",
      "import os\n",
      "os.environ['USE_PYGEOS'] = '0'\n",
      "import geopandas\n",
      "\n",
      "In a future release, GeoPandas will switch to using Shapely by default. If you are using PyGEOS directly (calling PyGEOS functions on geometries from GeoPandas), this will then stop working and you are encouraged to migrate from PyGEOS to Shapely 2.0 (https://shapely.readthedocs.io/en/latest/migration_pygeos.html).\n",
      "  import geopandas as gpd\n"
     ]
    }
   ],
   "source": [
    "import os\n",
    "from pathlib import Path\n",
    "import sys\n",
    "import glob\n",
    "from os.path import join\n",
    "import geopandas as gpd\n",
    "import pandas as pd\n",
    "import numpy as np"
   ]
  },
  {
   "cell_type": "code",
   "execution_count": 3,
   "id": "b2bc1ee9",
   "metadata": {
    "ExecuteTime": {
     "end_time": "2023-02-07T15:32:20.568583Z",
     "start_time": "2023-02-07T15:32:20.514851Z"
    }
   },
   "outputs": [],
   "source": [
    "# It could make sense to have a lib/ style directory\n",
    "# like PLACES has for common functionality\n",
    "# and this code block would be useful there for getting\n",
    "# a fr() path\n",
    "\n",
    "# Get the absolute path to the precal_hazard directory\n",
    "# Which is two directories above notebooks/exploration/\n",
    "abs_dir = os.path.abspath(Path(os.getcwd()).parents[1])\n",
    "# Get raw data directory\n",
    "fr = join(abs_dir, 'data', 'raw')\n",
    "# Get interim data directory\n",
    "fi = join(abs_dir, 'data', 'interim')\n",
    "# Get processed data directory\n",
    "fp = join(abs_dir, 'data', 'processed')"
   ]
  },
  {
   "cell_type": "markdown",
   "id": "5d9821b6",
   "metadata": {},
   "source": [
    "# Load Data"
   ]
  },
  {
   "cell_type": "code",
   "execution_count": 36,
   "id": "4a2f01f7",
   "metadata": {
    "ExecuteTime": {
     "end_time": "2023-02-07T16:12:59.322396Z",
     "start_time": "2023-02-07T16:12:57.175888Z"
    }
   },
   "outputs": [],
   "source": [
    "# Load structures (linked to hazard)\n",
    "# Probably more reasonable to load hazard as well\n",
    "# Especially as we go on to take in more hazard grids\n",
    "exp_dir = join(fp, 'exposure')\n",
    "exp_filep = join(exp_dir, 'nsi_res.gpkg')\n",
    "nsi_res = gpd.read_file(exp_filep)\n",
    "\n",
    "# Load damage functions\n",
    "# Filepath to NACCS depth damage functions\n",
    "vul_dir = join(fp, 'vulnerability')\n",
    "# Read ddfs\n",
    "naccs = pd.read_csv(join(vul_dir, 'naccs_ddfs.csv'))"
   ]
  },
  {
   "cell_type": "markdown",
   "id": "3ba0320a",
   "metadata": {},
   "source": [
    "# Subset to 1/2 story residences"
   ]
  },
  {
   "cell_type": "code",
   "execution_count": 50,
   "id": "e1d0669a",
   "metadata": {
    "ExecuteTime": {
     "end_time": "2023-02-07T20:14:00.329656Z",
     "start_time": "2023-02-07T20:13:59.759673Z"
    }
   },
   "outputs": [],
   "source": [
    "# Add #story and wb or nb to RES3 homes\n",
    "# Store NB or WB indexed to RES3 homes based on B,C and N found_type\n",
    "# Get num_story + 'S' \n",
    "# Merge these and then add to occtype for RES3 homes\n",
    "\n",
    "# Start with index of res3 homes\n",
    "res3_ind = nsi_res['occtype'].str[:4] == 'RES3'\n",
    "# Get subsetted df\n",
    "res3 = nsi_res.loc[res3_ind]\n",
    "\n",
    "# For this subset\n",
    "# If found_type == B, then WB\n",
    "# Else then NB\n",
    "res3b = np.where(res3['found_type'] == 'B',\n",
    "                 'WB',\n",
    "                 'NB')\n",
    "# For this subset\n",
    "# Get num_story + 'S'\n",
    "res3s = res3['num_story'].astype(str) + 'S'\n",
    "\n",
    "# Adjust occtype column for these homes in nsi_res\n",
    "nsi_res.loc[res3_ind, 'occtype'] = res3['occtype'] + '-' + res3s + res3b\n",
    "\n",
    "# For this case-study, don't use multifamily residences\n",
    "# Drop any RES3 buildings\n",
    "nsi_res_f = nsi_res.loc[~res3_ind]\n",
    "\n",
    "# For this case-study, don't use any building with more \n",
    "# than 2 stories\n",
    "res1_3s_ind = nsi_res_f['num_story'] > 2\n",
    "# Final exposure data\n",
    "res_f = nsi_res_f.loc[~res1_3s_ind]\n",
    "\n"
   ]
  },
  {
   "cell_type": "markdown",
   "id": "64beac72",
   "metadata": {},
   "source": [
    "# Calculate losses"
   ]
  },
  {
   "cell_type": "markdown",
   "id": "d85eac39",
   "metadata": {
    "ExecuteTime": {
     "end_time": "2023-02-07T20:14:29.993305Z",
     "start_time": "2023-02-07T20:14:29.938234Z"
    }
   },
   "source": [
    "## Get inundation depth relative to FFE"
   ]
  },
  {
   "cell_type": "code",
   "execution_count": 67,
   "id": "84df84d4",
   "metadata": {
    "ExecuteTime": {
     "end_time": "2023-02-07T20:33:12.054898Z",
     "start_time": "2023-02-07T20:33:11.997383Z"
    }
   },
   "outputs": [],
   "source": [
    "# Subtract foundation height from depth relative to grade\n",
    "res_f['depth_ffe'] = res_f.loc[:,'depth_ft'] - res_f.loc[:,'found_ht']\n",
    "\n",
    "# Round depth to nearest 10th of a foot\n",
    "res_f['depth_ffe'] = res_f.loc[:,'depth_ffe'].round(1)\n",
    "\n",
    "# For basement homes, we need to adjust to the depth of the basement\n",
    "# In the NACCS region, basements are assumed to have\n",
    "# -8 ft relative to FFE as where damage can be incurred\n",
    "# So we'll adjust the depth by 8\n",
    "bhomes = res_f['found_type'] == 'B'\n",
    "res_f.loc[bhomes, 'depth_ffe'] = res_f.loc[bhomes, 'depth_ffe'] - 8"
   ]
  },
  {
   "cell_type": "markdown",
   "id": "e64d6db7",
   "metadata": {},
   "source": [
    "## Get the reldam from triangular distribution linked to structure"
   ]
  },
  {
   "cell_type": "code",
   "execution_count": 152,
   "id": "8b914740",
   "metadata": {
    "ExecuteTime": {
     "end_time": "2023-02-07T21:30:16.795500Z",
     "start_time": "2023-02-07T21:30:16.700568Z"
    }
   },
   "outputs": [],
   "source": [
    "# For each occtype and damcat combo we need to \n",
    "# linearly interpolate depths at 10th of foot increments\n",
    "# and get the reldam\n",
    "\n",
    "# Store this in a dataframe with the following shape\n",
    "# occtype & depth_ft index, columns reldam_min/ml/max\n",
    "# This way we can merge on occtype and depth_ft and \n",
    "# Add the correct reldam_min/ml/max as columns to the structures dataframe\n",
    "# You then can call the triangular random generator on those columns\n",
    "# using apply and automatically get the reldam associated with \n",
    "# the structure\n",
    "\n",
    "# Get RES1 DDFs\n",
    "naccs_r = naccs.loc[naccs['occtype'].str[:4] == 'RES1']\n",
    "\n",
    "# Loop through occtype, damcat pairs (groupby)\n",
    "# Subset the naccs_r ddfs\n",
    "# Get a full index\n",
    "# Interpolate reldam between the 10th of foot increments\n",
    "# Create a new fully interpolated dataframe\n",
    "# Append to a list of ddfs\n",
    "# After loop, concat these ddfs\n",
    "\n",
    "# List for interpolated ddfs\n",
    "ddf_list = []\n",
    "\n",
    "# Loop through occtype, damcat pairs\n",
    "for n, gb in naccs_r.groupby(['occtype', 'damcat']):\n",
    "    # Get occtype and damcat\n",
    "    occtype = n[0]\n",
    "    damcat = n[1]\n",
    "    \n",
    "    # Get ddf\n",
    "    ddf = naccs_r.loc[(naccs_r['occtype'] == occtype) &\n",
    "                      (naccs_r['damcat'] == damcat)]\n",
    "    \n",
    "    # Get range\n",
    "    min_d = ddf['depth_ft'].min()\n",
    "    max_d = ddf['depth_ft'].max()\n",
    "    \n",
    "    # Get full index\n",
    "    # Round to nearest 10th of foot\n",
    "    # Add extra 10th of foot for inclusive range\n",
    "    full_ind = pd.Index(np.arange(min_d, max_d + .1, .1).round(1))\n",
    "    \n",
    "    # Subset ddf to depth_ft and reldam\n",
    "    # Set index to depth_ft, reindex on full_ind\n",
    "    # Interpolate, reset & rename index, then add back occtype and damcat\n",
    "    keepcols = ['depth_ft', 'reldam']\n",
    "    ddf = ddf[keepcols].set_index('depth_ft')\n",
    "    ddf_new = ddf.reindex(full_ind).interpolate().reset_index()\n",
    "    # Update DDF depth_ft name to match naming convention in structure data\n",
    "    updatecols = ['depth_ffe', 'reldam']\n",
    "    ddf_new.columns = updatecols\n",
    "    ddf_new['occtype'] = occtype\n",
    "    ddf_new['damcat'] = damcat\n",
    "    ddf_list.append(ddf_new)\n",
    "# Concat for dataframe of ddfs\n",
    "naccs_r_f = pd.concat(ddf_list, axis=0)\n",
    "# pivot the dataframe so that you get reldamMin, \n",
    "# reldamML and reldamMax cols\n",
    "naccs_r_f = naccs_r_f.pivot(index=['depth_ffe', 'occtype'],\n",
    "                            columns=['damcat'],\n",
    "                            values='reldam').reset_index()\n"
   ]
  },
  {
   "cell_type": "code",
   "execution_count": 153,
   "id": "16a47e43",
   "metadata": {
    "ExecuteTime": {
     "end_time": "2023-02-07T21:30:17.441789Z",
     "start_time": "2023-02-07T21:30:17.398321Z"
    }
   },
   "outputs": [],
   "source": [
    "# Subset for dataframe of columns needed for loss estimates and merging\n",
    "res_loss_cols = ['bid', 'occtype', 'val_struct', 'depth_ffe']\n",
    "res_loss = res_f.loc[:,res_loss_cols]"
   ]
  },
  {
   "cell_type": "code",
   "execution_count": 163,
   "id": "c00604e8",
   "metadata": {
    "ExecuteTime": {
     "end_time": "2023-02-07T21:44:03.280049Z",
     "start_time": "2023-02-07T21:44:02.586393Z"
    }
   },
   "outputs": [],
   "source": [
    "# Merge DDFs into the structure data\n",
    "res_loss = res_loss.merge(naccs_r_f)\n",
    "\n",
    "# Helper function for drawing triangular distribution from\n",
    "# Min, ML, Max\n",
    "def tri_rd(mindam, mldam, maxdam):\n",
    "    # Function will throw value error if left & right are equal\n",
    "    # In this case, there is no distribution to draw from anyway\n",
    "    # So you can just return any of the values\n",
    "    if mindam == maxdam:\n",
    "        return mindam\n",
    "    return np.random.default_rng().triangular(left=mindam,\n",
    "                                              mode=mldam,\n",
    "                                              right=maxdam)\n",
    "\n",
    "# Get reldam from triangular distribution from (Min, ML, Max)\n",
    "res_loss['reldam'] = res_loss.apply(lambda x: tri_rd(x['Min'],\n",
    "                                                     x['ML'],\n",
    "                                                     x['Max']),\n",
    "                                    axis=1)\n",
    "\n",
    "# Get structure damage\n",
    "res_loss['structdam'] = res_loss['reldam'] * res_loss['val_struct']"
   ]
  }
 ],
 "metadata": {
  "kernelspec": {
   "display_name": "icom_risk",
   "language": "python",
   "name": "icom_risk"
  },
  "language_info": {
   "codemirror_mode": {
    "name": "ipython",
    "version": 3
   },
   "file_extension": ".py",
   "mimetype": "text/x-python",
   "name": "python",
   "nbconvert_exporter": "python",
   "pygments_lexer": "ipython3",
   "version": "3.10.8"
  },
  "toc": {
   "base_numbering": 1,
   "nav_menu": {},
   "number_sections": true,
   "sideBar": true,
   "skip_h1_title": false,
   "title_cell": "Table of Contents",
   "title_sidebar": "Contents",
   "toc_cell": false,
   "toc_position": {
    "height": "calc(100% - 180px)",
    "left": "10px",
    "top": "150px",
    "width": "167.6px"
   },
   "toc_section_display": true,
   "toc_window_display": true
  }
 },
 "nbformat": 4,
 "nbformat_minor": 5
}

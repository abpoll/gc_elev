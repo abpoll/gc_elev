{
 "cells": [
  {
   "cell_type": "code",
   "execution_count": 1,
   "id": "cd01cab0-e55e-4fe4-aa81-88afbb80a320",
   "metadata": {
    "execution": {
     "iopub.execute_input": "2023-12-06T21:54:45.388049Z",
     "iopub.status.busy": "2023-12-06T21:54:45.387504Z",
     "iopub.status.idle": "2023-12-06T21:54:45.395955Z",
     "shell.execute_reply": "2023-12-06T21:54:45.394091Z",
     "shell.execute_reply.started": "2023-12-06T21:54:45.387998Z"
    }
   },
   "outputs": [],
   "source": [
    "# I think this is a util file that evaluates optimal elevation \n",
    "# per house across an ensemble\n",
    "# So it will take in a dataframe -- representing our ensemble --\n",
    "# and return the elevation height for each house\n",
    "# So there needs to be a groupby on fd_id and return that way\n",
    "# I think you want to pass the whole dataframe for speed"
   ]
  },
  {
   "cell_type": "code",
   "execution_count": null,
   "id": "f3319852-a49d-47d9-9d18-a95c8768c53f",
   "metadata": {},
   "outputs": [],
   "source": [
    "# The gist of this is to evaluate costs & benefits for each increment\n",
    "# of elevation from 3 to 10 feet (I think it's up to 10 feet - will\n",
    "# double check)\n",
    "# There are values for costs from the FEMA report that go in the config\n",
    "# file\n",
    "# This gets multipled by sq ft of the building\n",
    "# For benefits, we'll do it \"through\" the DDF by moving along the\n",
    "# x-axis of the DDF. We do this by changing the FFE, which we are\n",
    "# treating under uncertainty. But we are not treating the elevation\n",
    "# as an uncertain amount"
   ]
  }
 ],
 "metadata": {
  "kernelspec": {
   "display_name": "flrisk",
   "language": "python",
   "name": "flrisk"
  },
  "language_info": {
   "codemirror_mode": {
    "name": "ipython",
    "version": 3
   },
   "file_extension": ".py",
   "mimetype": "text/x-python",
   "name": "python",
   "nbconvert_exporter": "python",
   "pygments_lexer": "ipython3",
   "version": "3.11.5"
  },
  "widgets": {
   "application/vnd.jupyter.widget-state+json": {
    "state": {},
    "version_major": 2,
    "version_minor": 0
   }
  }
 },
 "nbformat": 4,
 "nbformat_minor": 5
}

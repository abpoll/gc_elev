{
 "cells": [
  {
   "cell_type": "code",
   "execution_count": 1,
   "id": "386aba49-47a9-46b3-8e2a-df52f32f0085",
   "metadata": {
    "execution": {
     "iopub.execute_input": "2024-01-04T15:02:04.349378Z",
     "iopub.status.busy": "2024-01-04T15:02:04.348826Z",
     "iopub.status.idle": "2024-01-04T15:02:04.614881Z",
     "shell.execute_reply": "2024-01-04T15:02:04.613287Z",
     "shell.execute_reply.started": "2024-01-04T15:02:04.349329Z"
    }
   },
   "outputs": [],
   "source": [
    "%load_ext autoreload\n",
    "%autoreload 2"
   ]
  },
  {
   "cell_type": "code",
   "execution_count": 2,
   "id": "3af8230c-4c9d-4b27-9dd5-793a71a8f17b",
   "metadata": {
    "execution": {
     "iopub.execute_input": "2024-01-04T15:02:04.617869Z",
     "iopub.status.busy": "2024-01-04T15:02:04.617382Z",
     "iopub.status.idle": "2024-01-04T15:02:05.823043Z",
     "shell.execute_reply": "2024-01-04T15:02:05.821900Z",
     "shell.execute_reply.started": "2024-01-04T15:02:04.617821Z"
    }
   },
   "outputs": [],
   "source": [
    "import os\n",
    "from pathlib import Path\n",
    "from os.path import join\n",
    "import pandas as pd\n",
    "import numpy as np\n",
    "import json\n",
    "import pareto\n",
    "\n",
    "from util.files import *\n",
    "from util.const import *\n",
    "from util.ddfs import *"
   ]
  },
  {
   "cell_type": "code",
   "execution_count": 3,
   "id": "844d8e3e-e076-4198-af84-e2518f9e6876",
   "metadata": {
    "execution": {
     "iopub.execute_input": "2024-01-04T15:02:05.824115Z",
     "iopub.status.busy": "2024-01-04T15:02:05.823841Z",
     "iopub.status.idle": "2024-01-04T15:02:05.838117Z",
     "shell.execute_reply": "2024-01-04T15:02:05.836999Z",
     "shell.execute_reply.started": "2024-01-04T15:02:05.824098Z"
    }
   },
   "outputs": [],
   "source": [
    "# FIPS will be passed in as an argument, one day...\n",
    "FIPS = '34007'\n",
    "# STATE ABBR and NATION will be derived from FIPS, one day...\n",
    "STATEABBR = 'NJ'\n",
    "NATION = 'US'\n",
    "\n",
    "# I think it also could make sense to pass in scenario and\n",
    "# ddf type as arguments. For main results\n",
    "# we're using 'mid' and 'naccs' but for generating\n",
    "# our sensitivity analysis results we will need to pass\n",
    "# in the other scenarios and 'hazus'\n",
    "# Very well suited for snakemake :) \n",
    "SCENARIO = 'Mid'\n",
    "DDF_TYPE = 'naccs'"
   ]
  },
  {
   "cell_type": "markdown",
   "id": "73fe3e6a-9afe-460e-b0bc-5cd3a5aaf419",
   "metadata": {},
   "source": [
    "# Load and Prepare Data"
   ]
  },
  {
   "cell_type": "code",
   "execution_count": 4,
   "id": "8e52ad1d-dc21-4e5c-bb38-9762ab207cd5",
   "metadata": {
    "execution": {
     "iopub.execute_input": "2024-01-04T15:02:05.838875Z",
     "iopub.status.busy": "2024-01-04T15:02:05.838723Z",
     "iopub.status.idle": "2024-01-04T15:02:09.025101Z",
     "shell.execute_reply": "2024-01-04T15:02:09.023483Z",
     "shell.execute_reply.started": "2024-01-04T15:02:05.838860Z"
    }
   },
   "outputs": [],
   "source": [
    "# Load the ensemble data, along with the optimal & dfe\n",
    "# elevation results\n",
    "opt_elev_filename = 'ens_opt_elev_' + DDF_TYPE + '_' + SCENARIO + '.pqt'\n",
    "dfe_elev_filename = 'ens_dfe_elev_' + DDF_TYPE + '_' + SCENARIO + '.pqt'\n",
    "ens_filename = 'ensemble_' + SCENARIO + '.pqt'\n",
    "\n",
    "ens_df = pd.read_parquet(join(FO, ens_filename))\n",
    "opt_elev_df = pd.read_parquet(join(EXP_DIR_I, FIPS, opt_elev_filename))\n",
    "dfe_elev_df = pd.read_parquet(join(EXP_DIR_I, FIPS, dfe_elev_filename))"
   ]
  },
  {
   "cell_type": "code",
   "execution_count": 5,
   "id": "28f4df0b-9d37-4511-9cb7-f31f135ef9bf",
   "metadata": {
    "execution": {
     "iopub.execute_input": "2024-01-04T15:02:09.028982Z",
     "iopub.status.busy": "2024-01-04T15:02:09.028453Z",
     "iopub.status.idle": "2024-01-04T15:02:12.416876Z",
     "shell.execute_reply": "2024-01-04T15:02:12.416266Z",
     "shell.execute_reply.started": "2024-01-04T15:02:09.028931Z"
    }
   },
   "outputs": [],
   "source": [
    "# Merge on fd_id and sow_ind to get eal_avoid, elev_cost, and opt_elev\n",
    "# into the ensemble\n",
    "ens_df = ens_df.merge(opt_elev_df,\n",
    "                      on=['fd_id', 'sow_ind'],\n",
    "                      suffixes=['','_opt'])\n",
    "# # Merge dfe_elev_df as well, adding suffixes\n",
    "# ens_df = ens_df.merge(dfe_elev_df,\n",
    "#                       on=['fd_id', 'sow_ind'],\n",
    "#                       suffixes=['','_dfe'])"
   ]
  },
  {
   "cell_type": "code",
   "execution_count": 6,
   "id": "5a0b81e3-e5ce-467e-b34a-ee5dabbe9e06",
   "metadata": {
    "execution": {
     "iopub.execute_input": "2024-01-04T15:02:12.417776Z",
     "iopub.status.busy": "2024-01-04T15:02:12.417583Z",
     "iopub.status.idle": "2024-01-04T15:02:12.439634Z",
     "shell.execute_reply": "2024-01-04T15:02:12.439157Z",
     "shell.execute_reply.started": "2024-01-04T15:02:12.417757Z"
    }
   },
   "outputs": [],
   "source": [
    "# We also need to load in the links between structures and the\n",
    "# social vulnerability data for sorting rules\n",
    "sovi_filepath = join(VULN_DIR_I, 'social', FIPS, 'c_indicators.pqt')\n",
    "sovi_df = pd.read_parquet(sovi_filepath)\n",
    "\n",
    "# Merge these in later after we've aggregated ens_df on the\n",
    "# column we're sorting on for these (npv_opt). The way the\n",
    "# sorting will work for these is subset to communities that\n",
    "# meet the indicator and then spend our budget based on\n",
    "# npv_opt. "
   ]
  },
  {
   "cell_type": "code",
   "execution_count": 7,
   "id": "b6d4ae58-fb71-442c-9e20-27f3570fdb5f",
   "metadata": {
    "execution": {
     "iopub.execute_input": "2024-01-04T15:02:12.440366Z",
     "iopub.status.busy": "2024-01-04T15:02:12.440206Z",
     "iopub.status.idle": "2024-01-04T15:02:12.495580Z",
     "shell.execute_reply": "2024-01-04T15:02:12.495027Z",
     "shell.execute_reply.started": "2024-01-04T15:02:12.440351Z"
    }
   },
   "outputs": [],
   "source": [
    "# Calculate metrics for objectives that can be pre-calculated\n",
    "# and aggregated later, and indicators for sorting\n",
    "\n",
    "# Get the difference of benefits and costs\n",
    "# NPV is an objective we are trying to maximize\n",
    "ens_df['npv_opt'] = ens_df['pv_avoid'] - ens_df['pv_cost']\n",
    "\n",
    "# Upfront cost is an objective we want to minimize\n",
    "# This is respresented by elev_invst\n",
    "\n",
    "# Residual flood risk is an objective we want to minimize\n",
    "# This is represented by pv_resid\n",
    "\n",
    "# The slope of residual relative flood risk \n",
    "# as a funciton of structure value is an objective we want as\n",
    "# close to 0 as possible. In math, this is minimizing the\n",
    "# absolute value of the slope. Values < 0 \n",
    "# indicate that residual relative risk is a larger portion of\n",
    "# structure value when structure value is higher. We interpret this\n",
    "# as households with greater value have higher risk intensities, \n",
    "# but because they have higher values they have a better private\n",
    "# ability to defend themselves\n",
    "# So, we need to calculate residual relative flood risk as a portion\n",
    "# of structure value. This is pv_resid/val_s. However, not\n",
    "# every home will be elevated once we allocate funding. So, \n",
    "# residual risk could also be pv_base/val_s.\n",
    "# This is the resid_rel_eal col\n",
    "\n",
    "# We're going to take the ratio of mean val_s for elevated\n",
    "# vs. not elevated homes at each rel_eal (with precision\n",
    "# .02) and we're going to take the mean of that\n",
    "# then subtract that from 1. When all homes for\n",
    "# a rel_eal bin are elevated, make the value 0\n",
    "# When no homes for a rel_eal bin are elevated, remove\n",
    "# them from the calculation\n",
    "# We need to create bins of rel_eal to prepare this\n",
    "# We'll do it after the aggregation\n",
    "\n",
    "# To calculate the slope, we will take\n",
    "# Where comp = ens_df.groupby('fd_id')[relavent_cols].mean()\n",
    "# We will follow\n",
    "# https://numpy.org/doc/stable/reference/\n",
    "# generated/numpy.linalg.lstsq.html\n",
    "# x = comp['val_s']\n",
    "# A = np.vstack([x, np.ones(len(x))]).T\n",
    "# y = comp['avoid_rel']\n",
    "# m, c = np.linalg.lstsq(A, y, rcond=None)[0]\n",
    "\n",
    "\n",
    "## Sorting rules\n",
    "# NPV (highest to lowest)\n",
    "# This is the npv_opt column\n",
    "\n",
    "# Reduction in relative eal (highest to lowest)\n",
    "# This is the avoid_rel column\n",
    "\n",
    "# Reduction in residual risk (highest to lowest)\n",
    "# This is the pv_resid column\n",
    "\n",
    "# Elevation cost (lowest to highest)\n",
    "# This is the elev_invst column\n",
    "\n",
    "# Relative eal (highest to lowest)\n",
    "ens_df['rel_eal'] = ens_df['base_eal']/ens_df['val_s']\n"
   ]
  },
  {
   "cell_type": "markdown",
   "id": "1ca01e4b-7a6b-4a62-b2d1-afceea043938",
   "metadata": {},
   "source": [
    "# Allocate funding"
   ]
  },
  {
   "cell_type": "code",
   "execution_count": 69,
   "id": "1325c0f3-bd09-439c-af3f-329a3843fe75",
   "metadata": {
    "execution": {
     "iopub.execute_input": "2024-01-04T17:05:25.871106Z",
     "iopub.status.busy": "2024-01-04T17:05:25.870545Z",
     "iopub.status.idle": "2024-01-04T17:05:26.089805Z",
     "shell.execute_reply": "2024-01-04T17:05:26.088428Z",
     "shell.execute_reply.started": "2024-01-04T17:05:25.871059Z"
    }
   },
   "outputs": [],
   "source": [
    "# Now that we have these values we can start sorting! \n",
    "\n",
    "# We will sort until we expend our budget. We get these values\n",
    "# from the hma projects dataset for elevation projects\n",
    "# These roughly make up the 25-75th%ile of project amounts\n",
    "budgets = np.arange(1e6, 6.1e6, 2.5e5)\n",
    "\n",
    "# We need to group by on fd_id and aggregate on our sorting columns\n",
    "sub_cols = ['pv_resid', 'npv_opt', 'fd_id', 'elev_invst',\n",
    "            'avoid_rel_eal', 'rel_eal', 'val_s']\n",
    "sort_df = ens_df.groupby('fd_id')[sub_cols].mean()\n",
    "\n",
    "# To calculate objectives\n",
    "# We need to evaluate the objective in each SOW\n",
    "# and then get our across SOW value\n",
    "# For mean(npv), we take the sum of npv_opt (from elevated homes) \n",
    "# in each SOW and then take the mean of that\n",
    "# For mean(up_cost), we take the sum of elev_invst(from elevated homes)\n",
    "# in each SOW and then take the mean of that\n",
    "# For mean(pv_resid), we take the sum of pv_resid (for elevated)\n",
    "# and pv_base (for not elevated) in each SOW and then take the mean\n",
    "# For mean(resid_rel_eal), we take the mean of resid_rel_eal\n",
    "# (for elevated) and rel_eal (for not elevated) in each SOW and\n",
    "# then take the mean\n",
    "# For mean(slope_resid_rel_eal), we find the slope of the \n",
    "# resid_rel_eal & rel_eal (based on elevated homes) in each SOW\n",
    "# and tehn take the mean"
   ]
  },
  {
   "cell_type": "code",
   "execution_count": 70,
   "id": "b2c4e8c4-bfd3-4f60-a215-6e01ec8384ea",
   "metadata": {
    "execution": {
     "iopub.execute_input": "2024-01-04T17:05:26.341936Z",
     "iopub.status.busy": "2024-01-04T17:05:26.341704Z",
     "iopub.status.idle": "2024-01-04T17:11:33.624117Z",
     "shell.execute_reply": "2024-01-04T17:11:33.623345Z",
     "shell.execute_reply.started": "2024-01-04T17:05:26.341915Z"
    },
    "scrolled": true
   },
   "outputs": [
    {
     "name": "stdout",
     "output_type": "stream",
     "text": [
      "Calculate objective values for policy:\n",
      "Sort by npv_opt\n",
      "With Budget of $M 1000000.0\n",
      "Calculate objective values for policy:\n",
      "Sort by avoid_rel_eal\n",
      "With Budget of $M 1000000.0\n",
      "Calculate objective values for policy:\n",
      "Sort by rel_eal\n",
      "With Budget of $M 1000000.0\n",
      "Calculate objective values for policy:\n",
      "Sort by pv_resid\n",
      "With Budget of $M 1000000.0\n"
     ]
    },
    {
     "name": "stderr",
     "output_type": "stream",
     "text": [
      "/tmp/ipykernel_614793/2233511709.py:99: SettingWithCopyWarning: \n",
      "A value is trying to be set on a copy of a slice from a DataFrame.\n",
      "Try using .loc[row_indexer,col_indexer] = value instead\n",
      "\n",
      "See the caveats in the documentation: https://pandas.pydata.org/pandas-docs/stable/user_guide/indexing.html#returning-a-view-versus-a-copy\n",
      "  pri_df['policy_cost'] = pri_df['elev_invst'].cumsum()\n",
      "/tmp/ipykernel_614793/2233511709.py:100: SettingWithCopyWarning: \n",
      "A value is trying to be set on a copy of a slice from a DataFrame.\n",
      "Try using .loc[row_indexer,col_indexer] = value instead\n",
      "\n",
      "See the caveats in the documentation: https://pandas.pydata.org/pandas-docs/stable/user_guide/indexing.html#returning-a-view-versus-a-copy\n",
      "  slack_df['policy_cost'] = slack_df['elev_invst'].cumsum()\n",
      "/tmp/ipykernel_614793/2233511709.py:112: SettingWithCopyWarning: \n",
      "A value is trying to be set on a copy of a slice from a DataFrame.\n",
      "Try using .loc[row_indexer,col_indexer] = value instead\n",
      "\n",
      "See the caveats in the documentation: https://pandas.pydata.org/pandas-docs/stable/user_guide/indexing.html#returning-a-view-versus-a-copy\n",
      "  slack_elev['npv_check'] = slack_elev['npv_opt'].cumsum()\n"
     ]
    },
    {
     "name": "stdout",
     "output_type": "stream",
     "text": [
      "Calculate objective values for policy:\n",
      "Sort by lmi\n",
      "With Budget of $M 1000000.0\n",
      "Calculate objective values for policy:\n",
      "Sort by sovi\n",
      "With Budget of $M 1000000.0\n"
     ]
    },
    {
     "name": "stderr",
     "output_type": "stream",
     "text": [
      "/tmp/ipykernel_614793/2233511709.py:99: SettingWithCopyWarning: \n",
      "A value is trying to be set on a copy of a slice from a DataFrame.\n",
      "Try using .loc[row_indexer,col_indexer] = value instead\n",
      "\n",
      "See the caveats in the documentation: https://pandas.pydata.org/pandas-docs/stable/user_guide/indexing.html#returning-a-view-versus-a-copy\n",
      "  pri_df['policy_cost'] = pri_df['elev_invst'].cumsum()\n",
      "/tmp/ipykernel_614793/2233511709.py:100: SettingWithCopyWarning: \n",
      "A value is trying to be set on a copy of a slice from a DataFrame.\n",
      "Try using .loc[row_indexer,col_indexer] = value instead\n",
      "\n",
      "See the caveats in the documentation: https://pandas.pydata.org/pandas-docs/stable/user_guide/indexing.html#returning-a-view-versus-a-copy\n",
      "  slack_df['policy_cost'] = slack_df['elev_invst'].cumsum()\n",
      "/tmp/ipykernel_614793/2233511709.py:112: SettingWithCopyWarning: \n",
      "A value is trying to be set on a copy of a slice from a DataFrame.\n",
      "Try using .loc[row_indexer,col_indexer] = value instead\n",
      "\n",
      "See the caveats in the documentation: https://pandas.pydata.org/pandas-docs/stable/user_guide/indexing.html#returning-a-view-versus-a-copy\n",
      "  slack_elev['npv_check'] = slack_elev['npv_opt'].cumsum()\n"
     ]
    },
    {
     "name": "stdout",
     "output_type": "stream",
     "text": [
      "Calculate objective values for policy:\n",
      "Sort by ovb\n",
      "With Budget of $M 1000000.0\n"
     ]
    },
    {
     "name": "stderr",
     "output_type": "stream",
     "text": [
      "/tmp/ipykernel_614793/2233511709.py:99: SettingWithCopyWarning: \n",
      "A value is trying to be set on a copy of a slice from a DataFrame.\n",
      "Try using .loc[row_indexer,col_indexer] = value instead\n",
      "\n",
      "See the caveats in the documentation: https://pandas.pydata.org/pandas-docs/stable/user_guide/indexing.html#returning-a-view-versus-a-copy\n",
      "  pri_df['policy_cost'] = pri_df['elev_invst'].cumsum()\n",
      "/tmp/ipykernel_614793/2233511709.py:100: SettingWithCopyWarning: \n",
      "A value is trying to be set on a copy of a slice from a DataFrame.\n",
      "Try using .loc[row_indexer,col_indexer] = value instead\n",
      "\n",
      "See the caveats in the documentation: https://pandas.pydata.org/pandas-docs/stable/user_guide/indexing.html#returning-a-view-versus-a-copy\n",
      "  slack_df['policy_cost'] = slack_df['elev_invst'].cumsum()\n",
      "/tmp/ipykernel_614793/2233511709.py:112: SettingWithCopyWarning: \n",
      "A value is trying to be set on a copy of a slice from a DataFrame.\n",
      "Try using .loc[row_indexer,col_indexer] = value instead\n",
      "\n",
      "See the caveats in the documentation: https://pandas.pydata.org/pandas-docs/stable/user_guide/indexing.html#returning-a-view-versus-a-copy\n",
      "  slack_elev['npv_check'] = slack_elev['npv_opt'].cumsum()\n"
     ]
    },
    {
     "name": "stdout",
     "output_type": "stream",
     "text": [
      "Calculate objective values for policy:\n",
      "Sort by cejst\n",
      "With Budget of $M 1000000.0\n",
      "Calculate objective values for policy:\n",
      "Sort by npv_opt\n",
      "With Budget of $M 1250000.0\n",
      "Calculate objective values for policy:\n",
      "Sort by avoid_rel_eal\n",
      "With Budget of $M 1250000.0\n",
      "Calculate objective values for policy:\n",
      "Sort by rel_eal\n",
      "With Budget of $M 1250000.0\n",
      "Calculate objective values for policy:\n",
      "Sort by pv_resid\n",
      "With Budget of $M 1250000.0\n"
     ]
    },
    {
     "name": "stderr",
     "output_type": "stream",
     "text": [
      "/tmp/ipykernel_614793/2233511709.py:99: SettingWithCopyWarning: \n",
      "A value is trying to be set on a copy of a slice from a DataFrame.\n",
      "Try using .loc[row_indexer,col_indexer] = value instead\n",
      "\n",
      "See the caveats in the documentation: https://pandas.pydata.org/pandas-docs/stable/user_guide/indexing.html#returning-a-view-versus-a-copy\n",
      "  pri_df['policy_cost'] = pri_df['elev_invst'].cumsum()\n",
      "/tmp/ipykernel_614793/2233511709.py:100: SettingWithCopyWarning: \n",
      "A value is trying to be set on a copy of a slice from a DataFrame.\n",
      "Try using .loc[row_indexer,col_indexer] = value instead\n",
      "\n",
      "See the caveats in the documentation: https://pandas.pydata.org/pandas-docs/stable/user_guide/indexing.html#returning-a-view-versus-a-copy\n",
      "  slack_df['policy_cost'] = slack_df['elev_invst'].cumsum()\n",
      "/tmp/ipykernel_614793/2233511709.py:112: SettingWithCopyWarning: \n",
      "A value is trying to be set on a copy of a slice from a DataFrame.\n",
      "Try using .loc[row_indexer,col_indexer] = value instead\n",
      "\n",
      "See the caveats in the documentation: https://pandas.pydata.org/pandas-docs/stable/user_guide/indexing.html#returning-a-view-versus-a-copy\n",
      "  slack_elev['npv_check'] = slack_elev['npv_opt'].cumsum()\n"
     ]
    },
    {
     "name": "stdout",
     "output_type": "stream",
     "text": [
      "Calculate objective values for policy:\n",
      "Sort by lmi\n",
      "With Budget of $M 1250000.0\n",
      "Calculate objective values for policy:\n",
      "Sort by sovi\n",
      "With Budget of $M 1250000.0\n"
     ]
    },
    {
     "name": "stderr",
     "output_type": "stream",
     "text": [
      "/tmp/ipykernel_614793/2233511709.py:99: SettingWithCopyWarning: \n",
      "A value is trying to be set on a copy of a slice from a DataFrame.\n",
      "Try using .loc[row_indexer,col_indexer] = value instead\n",
      "\n",
      "See the caveats in the documentation: https://pandas.pydata.org/pandas-docs/stable/user_guide/indexing.html#returning-a-view-versus-a-copy\n",
      "  pri_df['policy_cost'] = pri_df['elev_invst'].cumsum()\n",
      "/tmp/ipykernel_614793/2233511709.py:100: SettingWithCopyWarning: \n",
      "A value is trying to be set on a copy of a slice from a DataFrame.\n",
      "Try using .loc[row_indexer,col_indexer] = value instead\n",
      "\n",
      "See the caveats in the documentation: https://pandas.pydata.org/pandas-docs/stable/user_guide/indexing.html#returning-a-view-versus-a-copy\n",
      "  slack_df['policy_cost'] = slack_df['elev_invst'].cumsum()\n",
      "/tmp/ipykernel_614793/2233511709.py:112: SettingWithCopyWarning: \n",
      "A value is trying to be set on a copy of a slice from a DataFrame.\n",
      "Try using .loc[row_indexer,col_indexer] = value instead\n",
      "\n",
      "See the caveats in the documentation: https://pandas.pydata.org/pandas-docs/stable/user_guide/indexing.html#returning-a-view-versus-a-copy\n",
      "  slack_elev['npv_check'] = slack_elev['npv_opt'].cumsum()\n"
     ]
    },
    {
     "name": "stdout",
     "output_type": "stream",
     "text": [
      "Calculate objective values for policy:\n",
      "Sort by ovb\n",
      "With Budget of $M 1250000.0\n"
     ]
    },
    {
     "name": "stderr",
     "output_type": "stream",
     "text": [
      "/tmp/ipykernel_614793/2233511709.py:99: SettingWithCopyWarning: \n",
      "A value is trying to be set on a copy of a slice from a DataFrame.\n",
      "Try using .loc[row_indexer,col_indexer] = value instead\n",
      "\n",
      "See the caveats in the documentation: https://pandas.pydata.org/pandas-docs/stable/user_guide/indexing.html#returning-a-view-versus-a-copy\n",
      "  pri_df['policy_cost'] = pri_df['elev_invst'].cumsum()\n",
      "/tmp/ipykernel_614793/2233511709.py:100: SettingWithCopyWarning: \n",
      "A value is trying to be set on a copy of a slice from a DataFrame.\n",
      "Try using .loc[row_indexer,col_indexer] = value instead\n",
      "\n",
      "See the caveats in the documentation: https://pandas.pydata.org/pandas-docs/stable/user_guide/indexing.html#returning-a-view-versus-a-copy\n",
      "  slack_df['policy_cost'] = slack_df['elev_invst'].cumsum()\n",
      "/tmp/ipykernel_614793/2233511709.py:112: SettingWithCopyWarning: \n",
      "A value is trying to be set on a copy of a slice from a DataFrame.\n",
      "Try using .loc[row_indexer,col_indexer] = value instead\n",
      "\n",
      "See the caveats in the documentation: https://pandas.pydata.org/pandas-docs/stable/user_guide/indexing.html#returning-a-view-versus-a-copy\n",
      "  slack_elev['npv_check'] = slack_elev['npv_opt'].cumsum()\n"
     ]
    },
    {
     "name": "stdout",
     "output_type": "stream",
     "text": [
      "Calculate objective values for policy:\n",
      "Sort by cejst\n",
      "With Budget of $M 1250000.0\n",
      "Calculate objective values for policy:\n",
      "Sort by npv_opt\n",
      "With Budget of $M 1500000.0\n",
      "Calculate objective values for policy:\n",
      "Sort by avoid_rel_eal\n",
      "With Budget of $M 1500000.0\n",
      "Calculate objective values for policy:\n",
      "Sort by rel_eal\n",
      "With Budget of $M 1500000.0\n",
      "Calculate objective values for policy:\n",
      "Sort by pv_resid\n",
      "With Budget of $M 1500000.0\n"
     ]
    },
    {
     "name": "stderr",
     "output_type": "stream",
     "text": [
      "/tmp/ipykernel_614793/2233511709.py:99: SettingWithCopyWarning: \n",
      "A value is trying to be set on a copy of a slice from a DataFrame.\n",
      "Try using .loc[row_indexer,col_indexer] = value instead\n",
      "\n",
      "See the caveats in the documentation: https://pandas.pydata.org/pandas-docs/stable/user_guide/indexing.html#returning-a-view-versus-a-copy\n",
      "  pri_df['policy_cost'] = pri_df['elev_invst'].cumsum()\n",
      "/tmp/ipykernel_614793/2233511709.py:100: SettingWithCopyWarning: \n",
      "A value is trying to be set on a copy of a slice from a DataFrame.\n",
      "Try using .loc[row_indexer,col_indexer] = value instead\n",
      "\n",
      "See the caveats in the documentation: https://pandas.pydata.org/pandas-docs/stable/user_guide/indexing.html#returning-a-view-versus-a-copy\n",
      "  slack_df['policy_cost'] = slack_df['elev_invst'].cumsum()\n",
      "/tmp/ipykernel_614793/2233511709.py:112: SettingWithCopyWarning: \n",
      "A value is trying to be set on a copy of a slice from a DataFrame.\n",
      "Try using .loc[row_indexer,col_indexer] = value instead\n",
      "\n",
      "See the caveats in the documentation: https://pandas.pydata.org/pandas-docs/stable/user_guide/indexing.html#returning-a-view-versus-a-copy\n",
      "  slack_elev['npv_check'] = slack_elev['npv_opt'].cumsum()\n"
     ]
    },
    {
     "name": "stdout",
     "output_type": "stream",
     "text": [
      "Calculate objective values for policy:\n",
      "Sort by lmi\n",
      "With Budget of $M 1500000.0\n",
      "Calculate objective values for policy:\n",
      "Sort by sovi\n",
      "With Budget of $M 1500000.0\n"
     ]
    },
    {
     "name": "stderr",
     "output_type": "stream",
     "text": [
      "/tmp/ipykernel_614793/2233511709.py:99: SettingWithCopyWarning: \n",
      "A value is trying to be set on a copy of a slice from a DataFrame.\n",
      "Try using .loc[row_indexer,col_indexer] = value instead\n",
      "\n",
      "See the caveats in the documentation: https://pandas.pydata.org/pandas-docs/stable/user_guide/indexing.html#returning-a-view-versus-a-copy\n",
      "  pri_df['policy_cost'] = pri_df['elev_invst'].cumsum()\n",
      "/tmp/ipykernel_614793/2233511709.py:100: SettingWithCopyWarning: \n",
      "A value is trying to be set on a copy of a slice from a DataFrame.\n",
      "Try using .loc[row_indexer,col_indexer] = value instead\n",
      "\n",
      "See the caveats in the documentation: https://pandas.pydata.org/pandas-docs/stable/user_guide/indexing.html#returning-a-view-versus-a-copy\n",
      "  slack_df['policy_cost'] = slack_df['elev_invst'].cumsum()\n",
      "/tmp/ipykernel_614793/2233511709.py:112: SettingWithCopyWarning: \n",
      "A value is trying to be set on a copy of a slice from a DataFrame.\n",
      "Try using .loc[row_indexer,col_indexer] = value instead\n",
      "\n",
      "See the caveats in the documentation: https://pandas.pydata.org/pandas-docs/stable/user_guide/indexing.html#returning-a-view-versus-a-copy\n",
      "  slack_elev['npv_check'] = slack_elev['npv_opt'].cumsum()\n"
     ]
    },
    {
     "name": "stdout",
     "output_type": "stream",
     "text": [
      "Calculate objective values for policy:\n",
      "Sort by ovb\n",
      "With Budget of $M 1500000.0\n"
     ]
    },
    {
     "name": "stderr",
     "output_type": "stream",
     "text": [
      "/tmp/ipykernel_614793/2233511709.py:99: SettingWithCopyWarning: \n",
      "A value is trying to be set on a copy of a slice from a DataFrame.\n",
      "Try using .loc[row_indexer,col_indexer] = value instead\n",
      "\n",
      "See the caveats in the documentation: https://pandas.pydata.org/pandas-docs/stable/user_guide/indexing.html#returning-a-view-versus-a-copy\n",
      "  pri_df['policy_cost'] = pri_df['elev_invst'].cumsum()\n",
      "/tmp/ipykernel_614793/2233511709.py:100: SettingWithCopyWarning: \n",
      "A value is trying to be set on a copy of a slice from a DataFrame.\n",
      "Try using .loc[row_indexer,col_indexer] = value instead\n",
      "\n",
      "See the caveats in the documentation: https://pandas.pydata.org/pandas-docs/stable/user_guide/indexing.html#returning-a-view-versus-a-copy\n",
      "  slack_df['policy_cost'] = slack_df['elev_invst'].cumsum()\n",
      "/tmp/ipykernel_614793/2233511709.py:112: SettingWithCopyWarning: \n",
      "A value is trying to be set on a copy of a slice from a DataFrame.\n",
      "Try using .loc[row_indexer,col_indexer] = value instead\n",
      "\n",
      "See the caveats in the documentation: https://pandas.pydata.org/pandas-docs/stable/user_guide/indexing.html#returning-a-view-versus-a-copy\n",
      "  slack_elev['npv_check'] = slack_elev['npv_opt'].cumsum()\n"
     ]
    },
    {
     "name": "stdout",
     "output_type": "stream",
     "text": [
      "Calculate objective values for policy:\n",
      "Sort by cejst\n",
      "With Budget of $M 1500000.0\n",
      "Calculate objective values for policy:\n",
      "Sort by npv_opt\n",
      "With Budget of $M 1750000.0\n",
      "Calculate objective values for policy:\n",
      "Sort by avoid_rel_eal\n",
      "With Budget of $M 1750000.0\n",
      "Calculate objective values for policy:\n",
      "Sort by rel_eal\n",
      "With Budget of $M 1750000.0\n",
      "Calculate objective values for policy:\n",
      "Sort by pv_resid\n",
      "With Budget of $M 1750000.0\n"
     ]
    },
    {
     "name": "stderr",
     "output_type": "stream",
     "text": [
      "/tmp/ipykernel_614793/2233511709.py:99: SettingWithCopyWarning: \n",
      "A value is trying to be set on a copy of a slice from a DataFrame.\n",
      "Try using .loc[row_indexer,col_indexer] = value instead\n",
      "\n",
      "See the caveats in the documentation: https://pandas.pydata.org/pandas-docs/stable/user_guide/indexing.html#returning-a-view-versus-a-copy\n",
      "  pri_df['policy_cost'] = pri_df['elev_invst'].cumsum()\n",
      "/tmp/ipykernel_614793/2233511709.py:100: SettingWithCopyWarning: \n",
      "A value is trying to be set on a copy of a slice from a DataFrame.\n",
      "Try using .loc[row_indexer,col_indexer] = value instead\n",
      "\n",
      "See the caveats in the documentation: https://pandas.pydata.org/pandas-docs/stable/user_guide/indexing.html#returning-a-view-versus-a-copy\n",
      "  slack_df['policy_cost'] = slack_df['elev_invst'].cumsum()\n",
      "/tmp/ipykernel_614793/2233511709.py:112: SettingWithCopyWarning: \n",
      "A value is trying to be set on a copy of a slice from a DataFrame.\n",
      "Try using .loc[row_indexer,col_indexer] = value instead\n",
      "\n",
      "See the caveats in the documentation: https://pandas.pydata.org/pandas-docs/stable/user_guide/indexing.html#returning-a-view-versus-a-copy\n",
      "  slack_elev['npv_check'] = slack_elev['npv_opt'].cumsum()\n"
     ]
    },
    {
     "name": "stdout",
     "output_type": "stream",
     "text": [
      "Calculate objective values for policy:\n",
      "Sort by lmi\n",
      "With Budget of $M 1750000.0\n",
      "Calculate objective values for policy:\n",
      "Sort by sovi\n",
      "With Budget of $M 1750000.0\n"
     ]
    },
    {
     "name": "stderr",
     "output_type": "stream",
     "text": [
      "/tmp/ipykernel_614793/2233511709.py:99: SettingWithCopyWarning: \n",
      "A value is trying to be set on a copy of a slice from a DataFrame.\n",
      "Try using .loc[row_indexer,col_indexer] = value instead\n",
      "\n",
      "See the caveats in the documentation: https://pandas.pydata.org/pandas-docs/stable/user_guide/indexing.html#returning-a-view-versus-a-copy\n",
      "  pri_df['policy_cost'] = pri_df['elev_invst'].cumsum()\n",
      "/tmp/ipykernel_614793/2233511709.py:100: SettingWithCopyWarning: \n",
      "A value is trying to be set on a copy of a slice from a DataFrame.\n",
      "Try using .loc[row_indexer,col_indexer] = value instead\n",
      "\n",
      "See the caveats in the documentation: https://pandas.pydata.org/pandas-docs/stable/user_guide/indexing.html#returning-a-view-versus-a-copy\n",
      "  slack_df['policy_cost'] = slack_df['elev_invst'].cumsum()\n",
      "/tmp/ipykernel_614793/2233511709.py:112: SettingWithCopyWarning: \n",
      "A value is trying to be set on a copy of a slice from a DataFrame.\n",
      "Try using .loc[row_indexer,col_indexer] = value instead\n",
      "\n",
      "See the caveats in the documentation: https://pandas.pydata.org/pandas-docs/stable/user_guide/indexing.html#returning-a-view-versus-a-copy\n",
      "  slack_elev['npv_check'] = slack_elev['npv_opt'].cumsum()\n"
     ]
    },
    {
     "name": "stdout",
     "output_type": "stream",
     "text": [
      "Calculate objective values for policy:\n",
      "Sort by ovb\n",
      "With Budget of $M 1750000.0\n"
     ]
    },
    {
     "name": "stderr",
     "output_type": "stream",
     "text": [
      "/tmp/ipykernel_614793/2233511709.py:99: SettingWithCopyWarning: \n",
      "A value is trying to be set on a copy of a slice from a DataFrame.\n",
      "Try using .loc[row_indexer,col_indexer] = value instead\n",
      "\n",
      "See the caveats in the documentation: https://pandas.pydata.org/pandas-docs/stable/user_guide/indexing.html#returning-a-view-versus-a-copy\n",
      "  pri_df['policy_cost'] = pri_df['elev_invst'].cumsum()\n",
      "/tmp/ipykernel_614793/2233511709.py:100: SettingWithCopyWarning: \n",
      "A value is trying to be set on a copy of a slice from a DataFrame.\n",
      "Try using .loc[row_indexer,col_indexer] = value instead\n",
      "\n",
      "See the caveats in the documentation: https://pandas.pydata.org/pandas-docs/stable/user_guide/indexing.html#returning-a-view-versus-a-copy\n",
      "  slack_df['policy_cost'] = slack_df['elev_invst'].cumsum()\n",
      "/tmp/ipykernel_614793/2233511709.py:112: SettingWithCopyWarning: \n",
      "A value is trying to be set on a copy of a slice from a DataFrame.\n",
      "Try using .loc[row_indexer,col_indexer] = value instead\n",
      "\n",
      "See the caveats in the documentation: https://pandas.pydata.org/pandas-docs/stable/user_guide/indexing.html#returning-a-view-versus-a-copy\n",
      "  slack_elev['npv_check'] = slack_elev['npv_opt'].cumsum()\n"
     ]
    },
    {
     "name": "stdout",
     "output_type": "stream",
     "text": [
      "Calculate objective values for policy:\n",
      "Sort by cejst\n",
      "With Budget of $M 1750000.0\n",
      "Calculate objective values for policy:\n",
      "Sort by npv_opt\n",
      "With Budget of $M 2000000.0\n",
      "Calculate objective values for policy:\n",
      "Sort by avoid_rel_eal\n",
      "With Budget of $M 2000000.0\n",
      "Calculate objective values for policy:\n",
      "Sort by rel_eal\n",
      "With Budget of $M 2000000.0\n",
      "Calculate objective values for policy:\n",
      "Sort by pv_resid\n",
      "With Budget of $M 2000000.0\n"
     ]
    },
    {
     "name": "stderr",
     "output_type": "stream",
     "text": [
      "/tmp/ipykernel_614793/2233511709.py:99: SettingWithCopyWarning: \n",
      "A value is trying to be set on a copy of a slice from a DataFrame.\n",
      "Try using .loc[row_indexer,col_indexer] = value instead\n",
      "\n",
      "See the caveats in the documentation: https://pandas.pydata.org/pandas-docs/stable/user_guide/indexing.html#returning-a-view-versus-a-copy\n",
      "  pri_df['policy_cost'] = pri_df['elev_invst'].cumsum()\n",
      "/tmp/ipykernel_614793/2233511709.py:100: SettingWithCopyWarning: \n",
      "A value is trying to be set on a copy of a slice from a DataFrame.\n",
      "Try using .loc[row_indexer,col_indexer] = value instead\n",
      "\n",
      "See the caveats in the documentation: https://pandas.pydata.org/pandas-docs/stable/user_guide/indexing.html#returning-a-view-versus-a-copy\n",
      "  slack_df['policy_cost'] = slack_df['elev_invst'].cumsum()\n",
      "/tmp/ipykernel_614793/2233511709.py:112: SettingWithCopyWarning: \n",
      "A value is trying to be set on a copy of a slice from a DataFrame.\n",
      "Try using .loc[row_indexer,col_indexer] = value instead\n",
      "\n",
      "See the caveats in the documentation: https://pandas.pydata.org/pandas-docs/stable/user_guide/indexing.html#returning-a-view-versus-a-copy\n",
      "  slack_elev['npv_check'] = slack_elev['npv_opt'].cumsum()\n"
     ]
    },
    {
     "name": "stdout",
     "output_type": "stream",
     "text": [
      "Calculate objective values for policy:\n",
      "Sort by lmi\n",
      "With Budget of $M 2000000.0\n",
      "Calculate objective values for policy:\n",
      "Sort by sovi\n",
      "With Budget of $M 2000000.0\n"
     ]
    },
    {
     "name": "stderr",
     "output_type": "stream",
     "text": [
      "/tmp/ipykernel_614793/2233511709.py:99: SettingWithCopyWarning: \n",
      "A value is trying to be set on a copy of a slice from a DataFrame.\n",
      "Try using .loc[row_indexer,col_indexer] = value instead\n",
      "\n",
      "See the caveats in the documentation: https://pandas.pydata.org/pandas-docs/stable/user_guide/indexing.html#returning-a-view-versus-a-copy\n",
      "  pri_df['policy_cost'] = pri_df['elev_invst'].cumsum()\n",
      "/tmp/ipykernel_614793/2233511709.py:100: SettingWithCopyWarning: \n",
      "A value is trying to be set on a copy of a slice from a DataFrame.\n",
      "Try using .loc[row_indexer,col_indexer] = value instead\n",
      "\n",
      "See the caveats in the documentation: https://pandas.pydata.org/pandas-docs/stable/user_guide/indexing.html#returning-a-view-versus-a-copy\n",
      "  slack_df['policy_cost'] = slack_df['elev_invst'].cumsum()\n",
      "/tmp/ipykernel_614793/2233511709.py:112: SettingWithCopyWarning: \n",
      "A value is trying to be set on a copy of a slice from a DataFrame.\n",
      "Try using .loc[row_indexer,col_indexer] = value instead\n",
      "\n",
      "See the caveats in the documentation: https://pandas.pydata.org/pandas-docs/stable/user_guide/indexing.html#returning-a-view-versus-a-copy\n",
      "  slack_elev['npv_check'] = slack_elev['npv_opt'].cumsum()\n"
     ]
    },
    {
     "name": "stdout",
     "output_type": "stream",
     "text": [
      "Calculate objective values for policy:\n",
      "Sort by ovb\n",
      "With Budget of $M 2000000.0\n"
     ]
    },
    {
     "name": "stderr",
     "output_type": "stream",
     "text": [
      "/tmp/ipykernel_614793/2233511709.py:99: SettingWithCopyWarning: \n",
      "A value is trying to be set on a copy of a slice from a DataFrame.\n",
      "Try using .loc[row_indexer,col_indexer] = value instead\n",
      "\n",
      "See the caveats in the documentation: https://pandas.pydata.org/pandas-docs/stable/user_guide/indexing.html#returning-a-view-versus-a-copy\n",
      "  pri_df['policy_cost'] = pri_df['elev_invst'].cumsum()\n",
      "/tmp/ipykernel_614793/2233511709.py:100: SettingWithCopyWarning: \n",
      "A value is trying to be set on a copy of a slice from a DataFrame.\n",
      "Try using .loc[row_indexer,col_indexer] = value instead\n",
      "\n",
      "See the caveats in the documentation: https://pandas.pydata.org/pandas-docs/stable/user_guide/indexing.html#returning-a-view-versus-a-copy\n",
      "  slack_df['policy_cost'] = slack_df['elev_invst'].cumsum()\n",
      "/tmp/ipykernel_614793/2233511709.py:112: SettingWithCopyWarning: \n",
      "A value is trying to be set on a copy of a slice from a DataFrame.\n",
      "Try using .loc[row_indexer,col_indexer] = value instead\n",
      "\n",
      "See the caveats in the documentation: https://pandas.pydata.org/pandas-docs/stable/user_guide/indexing.html#returning-a-view-versus-a-copy\n",
      "  slack_elev['npv_check'] = slack_elev['npv_opt'].cumsum()\n"
     ]
    },
    {
     "name": "stdout",
     "output_type": "stream",
     "text": [
      "Calculate objective values for policy:\n",
      "Sort by cejst\n",
      "With Budget of $M 2000000.0\n",
      "Calculate objective values for policy:\n",
      "Sort by npv_opt\n",
      "With Budget of $M 2250000.0\n",
      "Calculate objective values for policy:\n",
      "Sort by avoid_rel_eal\n",
      "With Budget of $M 2250000.0\n",
      "Calculate objective values for policy:\n",
      "Sort by rel_eal\n",
      "With Budget of $M 2250000.0\n",
      "Calculate objective values for policy:\n",
      "Sort by pv_resid\n",
      "With Budget of $M 2250000.0\n"
     ]
    },
    {
     "name": "stderr",
     "output_type": "stream",
     "text": [
      "/tmp/ipykernel_614793/2233511709.py:99: SettingWithCopyWarning: \n",
      "A value is trying to be set on a copy of a slice from a DataFrame.\n",
      "Try using .loc[row_indexer,col_indexer] = value instead\n",
      "\n",
      "See the caveats in the documentation: https://pandas.pydata.org/pandas-docs/stable/user_guide/indexing.html#returning-a-view-versus-a-copy\n",
      "  pri_df['policy_cost'] = pri_df['elev_invst'].cumsum()\n",
      "/tmp/ipykernel_614793/2233511709.py:100: SettingWithCopyWarning: \n",
      "A value is trying to be set on a copy of a slice from a DataFrame.\n",
      "Try using .loc[row_indexer,col_indexer] = value instead\n",
      "\n",
      "See the caveats in the documentation: https://pandas.pydata.org/pandas-docs/stable/user_guide/indexing.html#returning-a-view-versus-a-copy\n",
      "  slack_df['policy_cost'] = slack_df['elev_invst'].cumsum()\n",
      "/tmp/ipykernel_614793/2233511709.py:112: SettingWithCopyWarning: \n",
      "A value is trying to be set on a copy of a slice from a DataFrame.\n",
      "Try using .loc[row_indexer,col_indexer] = value instead\n",
      "\n",
      "See the caveats in the documentation: https://pandas.pydata.org/pandas-docs/stable/user_guide/indexing.html#returning-a-view-versus-a-copy\n",
      "  slack_elev['npv_check'] = slack_elev['npv_opt'].cumsum()\n"
     ]
    },
    {
     "name": "stdout",
     "output_type": "stream",
     "text": [
      "Calculate objective values for policy:\n",
      "Sort by lmi\n",
      "With Budget of $M 2250000.0\n",
      "Calculate objective values for policy:\n",
      "Sort by sovi\n",
      "With Budget of $M 2250000.0\n"
     ]
    },
    {
     "name": "stderr",
     "output_type": "stream",
     "text": [
      "/tmp/ipykernel_614793/2233511709.py:99: SettingWithCopyWarning: \n",
      "A value is trying to be set on a copy of a slice from a DataFrame.\n",
      "Try using .loc[row_indexer,col_indexer] = value instead\n",
      "\n",
      "See the caveats in the documentation: https://pandas.pydata.org/pandas-docs/stable/user_guide/indexing.html#returning-a-view-versus-a-copy\n",
      "  pri_df['policy_cost'] = pri_df['elev_invst'].cumsum()\n",
      "/tmp/ipykernel_614793/2233511709.py:100: SettingWithCopyWarning: \n",
      "A value is trying to be set on a copy of a slice from a DataFrame.\n",
      "Try using .loc[row_indexer,col_indexer] = value instead\n",
      "\n",
      "See the caveats in the documentation: https://pandas.pydata.org/pandas-docs/stable/user_guide/indexing.html#returning-a-view-versus-a-copy\n",
      "  slack_df['policy_cost'] = slack_df['elev_invst'].cumsum()\n",
      "/tmp/ipykernel_614793/2233511709.py:112: SettingWithCopyWarning: \n",
      "A value is trying to be set on a copy of a slice from a DataFrame.\n",
      "Try using .loc[row_indexer,col_indexer] = value instead\n",
      "\n",
      "See the caveats in the documentation: https://pandas.pydata.org/pandas-docs/stable/user_guide/indexing.html#returning-a-view-versus-a-copy\n",
      "  slack_elev['npv_check'] = slack_elev['npv_opt'].cumsum()\n"
     ]
    },
    {
     "name": "stdout",
     "output_type": "stream",
     "text": [
      "Calculate objective values for policy:\n",
      "Sort by ovb\n",
      "With Budget of $M 2250000.0\n"
     ]
    },
    {
     "name": "stderr",
     "output_type": "stream",
     "text": [
      "/tmp/ipykernel_614793/2233511709.py:99: SettingWithCopyWarning: \n",
      "A value is trying to be set on a copy of a slice from a DataFrame.\n",
      "Try using .loc[row_indexer,col_indexer] = value instead\n",
      "\n",
      "See the caveats in the documentation: https://pandas.pydata.org/pandas-docs/stable/user_guide/indexing.html#returning-a-view-versus-a-copy\n",
      "  pri_df['policy_cost'] = pri_df['elev_invst'].cumsum()\n",
      "/tmp/ipykernel_614793/2233511709.py:100: SettingWithCopyWarning: \n",
      "A value is trying to be set on a copy of a slice from a DataFrame.\n",
      "Try using .loc[row_indexer,col_indexer] = value instead\n",
      "\n",
      "See the caveats in the documentation: https://pandas.pydata.org/pandas-docs/stable/user_guide/indexing.html#returning-a-view-versus-a-copy\n",
      "  slack_df['policy_cost'] = slack_df['elev_invst'].cumsum()\n",
      "/tmp/ipykernel_614793/2233511709.py:112: SettingWithCopyWarning: \n",
      "A value is trying to be set on a copy of a slice from a DataFrame.\n",
      "Try using .loc[row_indexer,col_indexer] = value instead\n",
      "\n",
      "See the caveats in the documentation: https://pandas.pydata.org/pandas-docs/stable/user_guide/indexing.html#returning-a-view-versus-a-copy\n",
      "  slack_elev['npv_check'] = slack_elev['npv_opt'].cumsum()\n"
     ]
    },
    {
     "name": "stdout",
     "output_type": "stream",
     "text": [
      "Calculate objective values for policy:\n",
      "Sort by cejst\n",
      "With Budget of $M 2250000.0\n",
      "Calculate objective values for policy:\n",
      "Sort by npv_opt\n",
      "With Budget of $M 2500000.0\n",
      "Calculate objective values for policy:\n",
      "Sort by avoid_rel_eal\n",
      "With Budget of $M 2500000.0\n",
      "Calculate objective values for policy:\n",
      "Sort by rel_eal\n",
      "With Budget of $M 2500000.0\n",
      "Calculate objective values for policy:\n",
      "Sort by pv_resid\n",
      "With Budget of $M 2500000.0\n"
     ]
    },
    {
     "name": "stderr",
     "output_type": "stream",
     "text": [
      "/tmp/ipykernel_614793/2233511709.py:99: SettingWithCopyWarning: \n",
      "A value is trying to be set on a copy of a slice from a DataFrame.\n",
      "Try using .loc[row_indexer,col_indexer] = value instead\n",
      "\n",
      "See the caveats in the documentation: https://pandas.pydata.org/pandas-docs/stable/user_guide/indexing.html#returning-a-view-versus-a-copy\n",
      "  pri_df['policy_cost'] = pri_df['elev_invst'].cumsum()\n",
      "/tmp/ipykernel_614793/2233511709.py:100: SettingWithCopyWarning: \n",
      "A value is trying to be set on a copy of a slice from a DataFrame.\n",
      "Try using .loc[row_indexer,col_indexer] = value instead\n",
      "\n",
      "See the caveats in the documentation: https://pandas.pydata.org/pandas-docs/stable/user_guide/indexing.html#returning-a-view-versus-a-copy\n",
      "  slack_df['policy_cost'] = slack_df['elev_invst'].cumsum()\n",
      "/tmp/ipykernel_614793/2233511709.py:112: SettingWithCopyWarning: \n",
      "A value is trying to be set on a copy of a slice from a DataFrame.\n",
      "Try using .loc[row_indexer,col_indexer] = value instead\n",
      "\n",
      "See the caveats in the documentation: https://pandas.pydata.org/pandas-docs/stable/user_guide/indexing.html#returning-a-view-versus-a-copy\n",
      "  slack_elev['npv_check'] = slack_elev['npv_opt'].cumsum()\n"
     ]
    },
    {
     "name": "stdout",
     "output_type": "stream",
     "text": [
      "Calculate objective values for policy:\n",
      "Sort by lmi\n",
      "With Budget of $M 2500000.0\n",
      "Calculate objective values for policy:\n",
      "Sort by sovi\n",
      "With Budget of $M 2500000.0\n"
     ]
    },
    {
     "name": "stderr",
     "output_type": "stream",
     "text": [
      "/tmp/ipykernel_614793/2233511709.py:99: SettingWithCopyWarning: \n",
      "A value is trying to be set on a copy of a slice from a DataFrame.\n",
      "Try using .loc[row_indexer,col_indexer] = value instead\n",
      "\n",
      "See the caveats in the documentation: https://pandas.pydata.org/pandas-docs/stable/user_guide/indexing.html#returning-a-view-versus-a-copy\n",
      "  pri_df['policy_cost'] = pri_df['elev_invst'].cumsum()\n",
      "/tmp/ipykernel_614793/2233511709.py:100: SettingWithCopyWarning: \n",
      "A value is trying to be set on a copy of a slice from a DataFrame.\n",
      "Try using .loc[row_indexer,col_indexer] = value instead\n",
      "\n",
      "See the caveats in the documentation: https://pandas.pydata.org/pandas-docs/stable/user_guide/indexing.html#returning-a-view-versus-a-copy\n",
      "  slack_df['policy_cost'] = slack_df['elev_invst'].cumsum()\n",
      "/tmp/ipykernel_614793/2233511709.py:112: SettingWithCopyWarning: \n",
      "A value is trying to be set on a copy of a slice from a DataFrame.\n",
      "Try using .loc[row_indexer,col_indexer] = value instead\n",
      "\n",
      "See the caveats in the documentation: https://pandas.pydata.org/pandas-docs/stable/user_guide/indexing.html#returning-a-view-versus-a-copy\n",
      "  slack_elev['npv_check'] = slack_elev['npv_opt'].cumsum()\n"
     ]
    },
    {
     "name": "stdout",
     "output_type": "stream",
     "text": [
      "Calculate objective values for policy:\n",
      "Sort by ovb\n",
      "With Budget of $M 2500000.0\n"
     ]
    },
    {
     "name": "stderr",
     "output_type": "stream",
     "text": [
      "/tmp/ipykernel_614793/2233511709.py:99: SettingWithCopyWarning: \n",
      "A value is trying to be set on a copy of a slice from a DataFrame.\n",
      "Try using .loc[row_indexer,col_indexer] = value instead\n",
      "\n",
      "See the caveats in the documentation: https://pandas.pydata.org/pandas-docs/stable/user_guide/indexing.html#returning-a-view-versus-a-copy\n",
      "  pri_df['policy_cost'] = pri_df['elev_invst'].cumsum()\n",
      "/tmp/ipykernel_614793/2233511709.py:100: SettingWithCopyWarning: \n",
      "A value is trying to be set on a copy of a slice from a DataFrame.\n",
      "Try using .loc[row_indexer,col_indexer] = value instead\n",
      "\n",
      "See the caveats in the documentation: https://pandas.pydata.org/pandas-docs/stable/user_guide/indexing.html#returning-a-view-versus-a-copy\n",
      "  slack_df['policy_cost'] = slack_df['elev_invst'].cumsum()\n",
      "/tmp/ipykernel_614793/2233511709.py:112: SettingWithCopyWarning: \n",
      "A value is trying to be set on a copy of a slice from a DataFrame.\n",
      "Try using .loc[row_indexer,col_indexer] = value instead\n",
      "\n",
      "See the caveats in the documentation: https://pandas.pydata.org/pandas-docs/stable/user_guide/indexing.html#returning-a-view-versus-a-copy\n",
      "  slack_elev['npv_check'] = slack_elev['npv_opt'].cumsum()\n"
     ]
    },
    {
     "name": "stdout",
     "output_type": "stream",
     "text": [
      "Calculate objective values for policy:\n",
      "Sort by cejst\n",
      "With Budget of $M 2500000.0\n",
      "Calculate objective values for policy:\n",
      "Sort by npv_opt\n",
      "With Budget of $M 2750000.0\n",
      "Calculate objective values for policy:\n",
      "Sort by avoid_rel_eal\n",
      "With Budget of $M 2750000.0\n",
      "Calculate objective values for policy:\n",
      "Sort by rel_eal\n",
      "With Budget of $M 2750000.0\n",
      "Calculate objective values for policy:\n",
      "Sort by pv_resid\n",
      "With Budget of $M 2750000.0\n"
     ]
    },
    {
     "name": "stderr",
     "output_type": "stream",
     "text": [
      "/tmp/ipykernel_614793/2233511709.py:99: SettingWithCopyWarning: \n",
      "A value is trying to be set on a copy of a slice from a DataFrame.\n",
      "Try using .loc[row_indexer,col_indexer] = value instead\n",
      "\n",
      "See the caveats in the documentation: https://pandas.pydata.org/pandas-docs/stable/user_guide/indexing.html#returning-a-view-versus-a-copy\n",
      "  pri_df['policy_cost'] = pri_df['elev_invst'].cumsum()\n",
      "/tmp/ipykernel_614793/2233511709.py:100: SettingWithCopyWarning: \n",
      "A value is trying to be set on a copy of a slice from a DataFrame.\n",
      "Try using .loc[row_indexer,col_indexer] = value instead\n",
      "\n",
      "See the caveats in the documentation: https://pandas.pydata.org/pandas-docs/stable/user_guide/indexing.html#returning-a-view-versus-a-copy\n",
      "  slack_df['policy_cost'] = slack_df['elev_invst'].cumsum()\n",
      "/tmp/ipykernel_614793/2233511709.py:112: SettingWithCopyWarning: \n",
      "A value is trying to be set on a copy of a slice from a DataFrame.\n",
      "Try using .loc[row_indexer,col_indexer] = value instead\n",
      "\n",
      "See the caveats in the documentation: https://pandas.pydata.org/pandas-docs/stable/user_guide/indexing.html#returning-a-view-versus-a-copy\n",
      "  slack_elev['npv_check'] = slack_elev['npv_opt'].cumsum()\n"
     ]
    },
    {
     "name": "stdout",
     "output_type": "stream",
     "text": [
      "Calculate objective values for policy:\n",
      "Sort by lmi\n",
      "With Budget of $M 2750000.0\n",
      "Calculate objective values for policy:\n",
      "Sort by sovi\n",
      "With Budget of $M 2750000.0\n"
     ]
    },
    {
     "name": "stderr",
     "output_type": "stream",
     "text": [
      "/tmp/ipykernel_614793/2233511709.py:99: SettingWithCopyWarning: \n",
      "A value is trying to be set on a copy of a slice from a DataFrame.\n",
      "Try using .loc[row_indexer,col_indexer] = value instead\n",
      "\n",
      "See the caveats in the documentation: https://pandas.pydata.org/pandas-docs/stable/user_guide/indexing.html#returning-a-view-versus-a-copy\n",
      "  pri_df['policy_cost'] = pri_df['elev_invst'].cumsum()\n",
      "/tmp/ipykernel_614793/2233511709.py:100: SettingWithCopyWarning: \n",
      "A value is trying to be set on a copy of a slice from a DataFrame.\n",
      "Try using .loc[row_indexer,col_indexer] = value instead\n",
      "\n",
      "See the caveats in the documentation: https://pandas.pydata.org/pandas-docs/stable/user_guide/indexing.html#returning-a-view-versus-a-copy\n",
      "  slack_df['policy_cost'] = slack_df['elev_invst'].cumsum()\n",
      "/tmp/ipykernel_614793/2233511709.py:112: SettingWithCopyWarning: \n",
      "A value is trying to be set on a copy of a slice from a DataFrame.\n",
      "Try using .loc[row_indexer,col_indexer] = value instead\n",
      "\n",
      "See the caveats in the documentation: https://pandas.pydata.org/pandas-docs/stable/user_guide/indexing.html#returning-a-view-versus-a-copy\n",
      "  slack_elev['npv_check'] = slack_elev['npv_opt'].cumsum()\n"
     ]
    },
    {
     "name": "stdout",
     "output_type": "stream",
     "text": [
      "Calculate objective values for policy:\n",
      "Sort by ovb\n",
      "With Budget of $M 2750000.0\n"
     ]
    },
    {
     "name": "stderr",
     "output_type": "stream",
     "text": [
      "/tmp/ipykernel_614793/2233511709.py:99: SettingWithCopyWarning: \n",
      "A value is trying to be set on a copy of a slice from a DataFrame.\n",
      "Try using .loc[row_indexer,col_indexer] = value instead\n",
      "\n",
      "See the caveats in the documentation: https://pandas.pydata.org/pandas-docs/stable/user_guide/indexing.html#returning-a-view-versus-a-copy\n",
      "  pri_df['policy_cost'] = pri_df['elev_invst'].cumsum()\n",
      "/tmp/ipykernel_614793/2233511709.py:100: SettingWithCopyWarning: \n",
      "A value is trying to be set on a copy of a slice from a DataFrame.\n",
      "Try using .loc[row_indexer,col_indexer] = value instead\n",
      "\n",
      "See the caveats in the documentation: https://pandas.pydata.org/pandas-docs/stable/user_guide/indexing.html#returning-a-view-versus-a-copy\n",
      "  slack_df['policy_cost'] = slack_df['elev_invst'].cumsum()\n",
      "/tmp/ipykernel_614793/2233511709.py:112: SettingWithCopyWarning: \n",
      "A value is trying to be set on a copy of a slice from a DataFrame.\n",
      "Try using .loc[row_indexer,col_indexer] = value instead\n",
      "\n",
      "See the caveats in the documentation: https://pandas.pydata.org/pandas-docs/stable/user_guide/indexing.html#returning-a-view-versus-a-copy\n",
      "  slack_elev['npv_check'] = slack_elev['npv_opt'].cumsum()\n"
     ]
    },
    {
     "name": "stdout",
     "output_type": "stream",
     "text": [
      "Calculate objective values for policy:\n",
      "Sort by cejst\n",
      "With Budget of $M 2750000.0\n",
      "Calculate objective values for policy:\n",
      "Sort by npv_opt\n",
      "With Budget of $M 3000000.0\n",
      "Calculate objective values for policy:\n",
      "Sort by avoid_rel_eal\n",
      "With Budget of $M 3000000.0\n",
      "Calculate objective values for policy:\n",
      "Sort by rel_eal\n",
      "With Budget of $M 3000000.0\n",
      "Calculate objective values for policy:\n",
      "Sort by pv_resid\n",
      "With Budget of $M 3000000.0\n"
     ]
    },
    {
     "name": "stderr",
     "output_type": "stream",
     "text": [
      "/tmp/ipykernel_614793/2233511709.py:99: SettingWithCopyWarning: \n",
      "A value is trying to be set on a copy of a slice from a DataFrame.\n",
      "Try using .loc[row_indexer,col_indexer] = value instead\n",
      "\n",
      "See the caveats in the documentation: https://pandas.pydata.org/pandas-docs/stable/user_guide/indexing.html#returning-a-view-versus-a-copy\n",
      "  pri_df['policy_cost'] = pri_df['elev_invst'].cumsum()\n",
      "/tmp/ipykernel_614793/2233511709.py:100: SettingWithCopyWarning: \n",
      "A value is trying to be set on a copy of a slice from a DataFrame.\n",
      "Try using .loc[row_indexer,col_indexer] = value instead\n",
      "\n",
      "See the caveats in the documentation: https://pandas.pydata.org/pandas-docs/stable/user_guide/indexing.html#returning-a-view-versus-a-copy\n",
      "  slack_df['policy_cost'] = slack_df['elev_invst'].cumsum()\n",
      "/tmp/ipykernel_614793/2233511709.py:112: SettingWithCopyWarning: \n",
      "A value is trying to be set on a copy of a slice from a DataFrame.\n",
      "Try using .loc[row_indexer,col_indexer] = value instead\n",
      "\n",
      "See the caveats in the documentation: https://pandas.pydata.org/pandas-docs/stable/user_guide/indexing.html#returning-a-view-versus-a-copy\n",
      "  slack_elev['npv_check'] = slack_elev['npv_opt'].cumsum()\n"
     ]
    },
    {
     "name": "stdout",
     "output_type": "stream",
     "text": [
      "Calculate objective values for policy:\n",
      "Sort by lmi\n",
      "With Budget of $M 3000000.0\n",
      "Calculate objective values for policy:\n",
      "Sort by sovi\n",
      "With Budget of $M 3000000.0\n"
     ]
    },
    {
     "name": "stderr",
     "output_type": "stream",
     "text": [
      "/tmp/ipykernel_614793/2233511709.py:99: SettingWithCopyWarning: \n",
      "A value is trying to be set on a copy of a slice from a DataFrame.\n",
      "Try using .loc[row_indexer,col_indexer] = value instead\n",
      "\n",
      "See the caveats in the documentation: https://pandas.pydata.org/pandas-docs/stable/user_guide/indexing.html#returning-a-view-versus-a-copy\n",
      "  pri_df['policy_cost'] = pri_df['elev_invst'].cumsum()\n",
      "/tmp/ipykernel_614793/2233511709.py:100: SettingWithCopyWarning: \n",
      "A value is trying to be set on a copy of a slice from a DataFrame.\n",
      "Try using .loc[row_indexer,col_indexer] = value instead\n",
      "\n",
      "See the caveats in the documentation: https://pandas.pydata.org/pandas-docs/stable/user_guide/indexing.html#returning-a-view-versus-a-copy\n",
      "  slack_df['policy_cost'] = slack_df['elev_invst'].cumsum()\n",
      "/tmp/ipykernel_614793/2233511709.py:112: SettingWithCopyWarning: \n",
      "A value is trying to be set on a copy of a slice from a DataFrame.\n",
      "Try using .loc[row_indexer,col_indexer] = value instead\n",
      "\n",
      "See the caveats in the documentation: https://pandas.pydata.org/pandas-docs/stable/user_guide/indexing.html#returning-a-view-versus-a-copy\n",
      "  slack_elev['npv_check'] = slack_elev['npv_opt'].cumsum()\n"
     ]
    },
    {
     "name": "stdout",
     "output_type": "stream",
     "text": [
      "Calculate objective values for policy:\n",
      "Sort by ovb\n",
      "With Budget of $M 3000000.0\n"
     ]
    },
    {
     "name": "stderr",
     "output_type": "stream",
     "text": [
      "/tmp/ipykernel_614793/2233511709.py:99: SettingWithCopyWarning: \n",
      "A value is trying to be set on a copy of a slice from a DataFrame.\n",
      "Try using .loc[row_indexer,col_indexer] = value instead\n",
      "\n",
      "See the caveats in the documentation: https://pandas.pydata.org/pandas-docs/stable/user_guide/indexing.html#returning-a-view-versus-a-copy\n",
      "  pri_df['policy_cost'] = pri_df['elev_invst'].cumsum()\n",
      "/tmp/ipykernel_614793/2233511709.py:100: SettingWithCopyWarning: \n",
      "A value is trying to be set on a copy of a slice from a DataFrame.\n",
      "Try using .loc[row_indexer,col_indexer] = value instead\n",
      "\n",
      "See the caveats in the documentation: https://pandas.pydata.org/pandas-docs/stable/user_guide/indexing.html#returning-a-view-versus-a-copy\n",
      "  slack_df['policy_cost'] = slack_df['elev_invst'].cumsum()\n",
      "/tmp/ipykernel_614793/2233511709.py:112: SettingWithCopyWarning: \n",
      "A value is trying to be set on a copy of a slice from a DataFrame.\n",
      "Try using .loc[row_indexer,col_indexer] = value instead\n",
      "\n",
      "See the caveats in the documentation: https://pandas.pydata.org/pandas-docs/stable/user_guide/indexing.html#returning-a-view-versus-a-copy\n",
      "  slack_elev['npv_check'] = slack_elev['npv_opt'].cumsum()\n"
     ]
    },
    {
     "name": "stdout",
     "output_type": "stream",
     "text": [
      "Calculate objective values for policy:\n",
      "Sort by cejst\n",
      "With Budget of $M 3000000.0\n",
      "Calculate objective values for policy:\n",
      "Sort by npv_opt\n",
      "With Budget of $M 3250000.0\n",
      "Calculate objective values for policy:\n",
      "Sort by avoid_rel_eal\n",
      "With Budget of $M 3250000.0\n",
      "Calculate objective values for policy:\n",
      "Sort by rel_eal\n",
      "With Budget of $M 3250000.0\n",
      "Calculate objective values for policy:\n",
      "Sort by pv_resid\n",
      "With Budget of $M 3250000.0\n"
     ]
    },
    {
     "name": "stderr",
     "output_type": "stream",
     "text": [
      "/tmp/ipykernel_614793/2233511709.py:99: SettingWithCopyWarning: \n",
      "A value is trying to be set on a copy of a slice from a DataFrame.\n",
      "Try using .loc[row_indexer,col_indexer] = value instead\n",
      "\n",
      "See the caveats in the documentation: https://pandas.pydata.org/pandas-docs/stable/user_guide/indexing.html#returning-a-view-versus-a-copy\n",
      "  pri_df['policy_cost'] = pri_df['elev_invst'].cumsum()\n",
      "/tmp/ipykernel_614793/2233511709.py:100: SettingWithCopyWarning: \n",
      "A value is trying to be set on a copy of a slice from a DataFrame.\n",
      "Try using .loc[row_indexer,col_indexer] = value instead\n",
      "\n",
      "See the caveats in the documentation: https://pandas.pydata.org/pandas-docs/stable/user_guide/indexing.html#returning-a-view-versus-a-copy\n",
      "  slack_df['policy_cost'] = slack_df['elev_invst'].cumsum()\n",
      "/tmp/ipykernel_614793/2233511709.py:112: SettingWithCopyWarning: \n",
      "A value is trying to be set on a copy of a slice from a DataFrame.\n",
      "Try using .loc[row_indexer,col_indexer] = value instead\n",
      "\n",
      "See the caveats in the documentation: https://pandas.pydata.org/pandas-docs/stable/user_guide/indexing.html#returning-a-view-versus-a-copy\n",
      "  slack_elev['npv_check'] = slack_elev['npv_opt'].cumsum()\n"
     ]
    },
    {
     "name": "stdout",
     "output_type": "stream",
     "text": [
      "Calculate objective values for policy:\n",
      "Sort by lmi\n",
      "With Budget of $M 3250000.0\n",
      "Calculate objective values for policy:\n",
      "Sort by sovi\n",
      "With Budget of $M 3250000.0\n"
     ]
    },
    {
     "name": "stderr",
     "output_type": "stream",
     "text": [
      "/tmp/ipykernel_614793/2233511709.py:99: SettingWithCopyWarning: \n",
      "A value is trying to be set on a copy of a slice from a DataFrame.\n",
      "Try using .loc[row_indexer,col_indexer] = value instead\n",
      "\n",
      "See the caveats in the documentation: https://pandas.pydata.org/pandas-docs/stable/user_guide/indexing.html#returning-a-view-versus-a-copy\n",
      "  pri_df['policy_cost'] = pri_df['elev_invst'].cumsum()\n",
      "/tmp/ipykernel_614793/2233511709.py:100: SettingWithCopyWarning: \n",
      "A value is trying to be set on a copy of a slice from a DataFrame.\n",
      "Try using .loc[row_indexer,col_indexer] = value instead\n",
      "\n",
      "See the caveats in the documentation: https://pandas.pydata.org/pandas-docs/stable/user_guide/indexing.html#returning-a-view-versus-a-copy\n",
      "  slack_df['policy_cost'] = slack_df['elev_invst'].cumsum()\n",
      "/tmp/ipykernel_614793/2233511709.py:112: SettingWithCopyWarning: \n",
      "A value is trying to be set on a copy of a slice from a DataFrame.\n",
      "Try using .loc[row_indexer,col_indexer] = value instead\n",
      "\n",
      "See the caveats in the documentation: https://pandas.pydata.org/pandas-docs/stable/user_guide/indexing.html#returning-a-view-versus-a-copy\n",
      "  slack_elev['npv_check'] = slack_elev['npv_opt'].cumsum()\n"
     ]
    },
    {
     "name": "stdout",
     "output_type": "stream",
     "text": [
      "Calculate objective values for policy:\n",
      "Sort by ovb\n",
      "With Budget of $M 3250000.0\n"
     ]
    },
    {
     "name": "stderr",
     "output_type": "stream",
     "text": [
      "/tmp/ipykernel_614793/2233511709.py:99: SettingWithCopyWarning: \n",
      "A value is trying to be set on a copy of a slice from a DataFrame.\n",
      "Try using .loc[row_indexer,col_indexer] = value instead\n",
      "\n",
      "See the caveats in the documentation: https://pandas.pydata.org/pandas-docs/stable/user_guide/indexing.html#returning-a-view-versus-a-copy\n",
      "  pri_df['policy_cost'] = pri_df['elev_invst'].cumsum()\n",
      "/tmp/ipykernel_614793/2233511709.py:100: SettingWithCopyWarning: \n",
      "A value is trying to be set on a copy of a slice from a DataFrame.\n",
      "Try using .loc[row_indexer,col_indexer] = value instead\n",
      "\n",
      "See the caveats in the documentation: https://pandas.pydata.org/pandas-docs/stable/user_guide/indexing.html#returning-a-view-versus-a-copy\n",
      "  slack_df['policy_cost'] = slack_df['elev_invst'].cumsum()\n",
      "/tmp/ipykernel_614793/2233511709.py:112: SettingWithCopyWarning: \n",
      "A value is trying to be set on a copy of a slice from a DataFrame.\n",
      "Try using .loc[row_indexer,col_indexer] = value instead\n",
      "\n",
      "See the caveats in the documentation: https://pandas.pydata.org/pandas-docs/stable/user_guide/indexing.html#returning-a-view-versus-a-copy\n",
      "  slack_elev['npv_check'] = slack_elev['npv_opt'].cumsum()\n"
     ]
    },
    {
     "name": "stdout",
     "output_type": "stream",
     "text": [
      "Calculate objective values for policy:\n",
      "Sort by cejst\n",
      "With Budget of $M 3250000.0\n",
      "Calculate objective values for policy:\n",
      "Sort by npv_opt\n",
      "With Budget of $M 3500000.0\n",
      "Calculate objective values for policy:\n",
      "Sort by avoid_rel_eal\n",
      "With Budget of $M 3500000.0\n",
      "Calculate objective values for policy:\n",
      "Sort by rel_eal\n",
      "With Budget of $M 3500000.0\n",
      "Calculate objective values for policy:\n",
      "Sort by pv_resid\n",
      "With Budget of $M 3500000.0\n"
     ]
    },
    {
     "name": "stderr",
     "output_type": "stream",
     "text": [
      "/tmp/ipykernel_614793/2233511709.py:99: SettingWithCopyWarning: \n",
      "A value is trying to be set on a copy of a slice from a DataFrame.\n",
      "Try using .loc[row_indexer,col_indexer] = value instead\n",
      "\n",
      "See the caveats in the documentation: https://pandas.pydata.org/pandas-docs/stable/user_guide/indexing.html#returning-a-view-versus-a-copy\n",
      "  pri_df['policy_cost'] = pri_df['elev_invst'].cumsum()\n",
      "/tmp/ipykernel_614793/2233511709.py:100: SettingWithCopyWarning: \n",
      "A value is trying to be set on a copy of a slice from a DataFrame.\n",
      "Try using .loc[row_indexer,col_indexer] = value instead\n",
      "\n",
      "See the caveats in the documentation: https://pandas.pydata.org/pandas-docs/stable/user_guide/indexing.html#returning-a-view-versus-a-copy\n",
      "  slack_df['policy_cost'] = slack_df['elev_invst'].cumsum()\n",
      "/tmp/ipykernel_614793/2233511709.py:112: SettingWithCopyWarning: \n",
      "A value is trying to be set on a copy of a slice from a DataFrame.\n",
      "Try using .loc[row_indexer,col_indexer] = value instead\n",
      "\n",
      "See the caveats in the documentation: https://pandas.pydata.org/pandas-docs/stable/user_guide/indexing.html#returning-a-view-versus-a-copy\n",
      "  slack_elev['npv_check'] = slack_elev['npv_opt'].cumsum()\n"
     ]
    },
    {
     "name": "stdout",
     "output_type": "stream",
     "text": [
      "Calculate objective values for policy:\n",
      "Sort by lmi\n",
      "With Budget of $M 3500000.0\n",
      "Calculate objective values for policy:\n",
      "Sort by sovi\n",
      "With Budget of $M 3500000.0\n"
     ]
    },
    {
     "name": "stderr",
     "output_type": "stream",
     "text": [
      "/tmp/ipykernel_614793/2233511709.py:99: SettingWithCopyWarning: \n",
      "A value is trying to be set on a copy of a slice from a DataFrame.\n",
      "Try using .loc[row_indexer,col_indexer] = value instead\n",
      "\n",
      "See the caveats in the documentation: https://pandas.pydata.org/pandas-docs/stable/user_guide/indexing.html#returning-a-view-versus-a-copy\n",
      "  pri_df['policy_cost'] = pri_df['elev_invst'].cumsum()\n",
      "/tmp/ipykernel_614793/2233511709.py:100: SettingWithCopyWarning: \n",
      "A value is trying to be set on a copy of a slice from a DataFrame.\n",
      "Try using .loc[row_indexer,col_indexer] = value instead\n",
      "\n",
      "See the caveats in the documentation: https://pandas.pydata.org/pandas-docs/stable/user_guide/indexing.html#returning-a-view-versus-a-copy\n",
      "  slack_df['policy_cost'] = slack_df['elev_invst'].cumsum()\n",
      "/tmp/ipykernel_614793/2233511709.py:112: SettingWithCopyWarning: \n",
      "A value is trying to be set on a copy of a slice from a DataFrame.\n",
      "Try using .loc[row_indexer,col_indexer] = value instead\n",
      "\n",
      "See the caveats in the documentation: https://pandas.pydata.org/pandas-docs/stable/user_guide/indexing.html#returning-a-view-versus-a-copy\n",
      "  slack_elev['npv_check'] = slack_elev['npv_opt'].cumsum()\n"
     ]
    },
    {
     "name": "stdout",
     "output_type": "stream",
     "text": [
      "Calculate objective values for policy:\n",
      "Sort by ovb\n",
      "With Budget of $M 3500000.0\n"
     ]
    },
    {
     "name": "stderr",
     "output_type": "stream",
     "text": [
      "/tmp/ipykernel_614793/2233511709.py:99: SettingWithCopyWarning: \n",
      "A value is trying to be set on a copy of a slice from a DataFrame.\n",
      "Try using .loc[row_indexer,col_indexer] = value instead\n",
      "\n",
      "See the caveats in the documentation: https://pandas.pydata.org/pandas-docs/stable/user_guide/indexing.html#returning-a-view-versus-a-copy\n",
      "  pri_df['policy_cost'] = pri_df['elev_invst'].cumsum()\n",
      "/tmp/ipykernel_614793/2233511709.py:100: SettingWithCopyWarning: \n",
      "A value is trying to be set on a copy of a slice from a DataFrame.\n",
      "Try using .loc[row_indexer,col_indexer] = value instead\n",
      "\n",
      "See the caveats in the documentation: https://pandas.pydata.org/pandas-docs/stable/user_guide/indexing.html#returning-a-view-versus-a-copy\n",
      "  slack_df['policy_cost'] = slack_df['elev_invst'].cumsum()\n",
      "/tmp/ipykernel_614793/2233511709.py:112: SettingWithCopyWarning: \n",
      "A value is trying to be set on a copy of a slice from a DataFrame.\n",
      "Try using .loc[row_indexer,col_indexer] = value instead\n",
      "\n",
      "See the caveats in the documentation: https://pandas.pydata.org/pandas-docs/stable/user_guide/indexing.html#returning-a-view-versus-a-copy\n",
      "  slack_elev['npv_check'] = slack_elev['npv_opt'].cumsum()\n"
     ]
    },
    {
     "name": "stdout",
     "output_type": "stream",
     "text": [
      "Calculate objective values for policy:\n",
      "Sort by cejst\n",
      "With Budget of $M 3500000.0\n",
      "Calculate objective values for policy:\n",
      "Sort by npv_opt\n",
      "With Budget of $M 3750000.0\n",
      "Calculate objective values for policy:\n",
      "Sort by avoid_rel_eal\n",
      "With Budget of $M 3750000.0\n",
      "Calculate objective values for policy:\n",
      "Sort by rel_eal\n",
      "With Budget of $M 3750000.0\n",
      "Calculate objective values for policy:\n",
      "Sort by pv_resid\n",
      "With Budget of $M 3750000.0\n"
     ]
    },
    {
     "name": "stderr",
     "output_type": "stream",
     "text": [
      "/tmp/ipykernel_614793/2233511709.py:99: SettingWithCopyWarning: \n",
      "A value is trying to be set on a copy of a slice from a DataFrame.\n",
      "Try using .loc[row_indexer,col_indexer] = value instead\n",
      "\n",
      "See the caveats in the documentation: https://pandas.pydata.org/pandas-docs/stable/user_guide/indexing.html#returning-a-view-versus-a-copy\n",
      "  pri_df['policy_cost'] = pri_df['elev_invst'].cumsum()\n",
      "/tmp/ipykernel_614793/2233511709.py:100: SettingWithCopyWarning: \n",
      "A value is trying to be set on a copy of a slice from a DataFrame.\n",
      "Try using .loc[row_indexer,col_indexer] = value instead\n",
      "\n",
      "See the caveats in the documentation: https://pandas.pydata.org/pandas-docs/stable/user_guide/indexing.html#returning-a-view-versus-a-copy\n",
      "  slack_df['policy_cost'] = slack_df['elev_invst'].cumsum()\n",
      "/tmp/ipykernel_614793/2233511709.py:112: SettingWithCopyWarning: \n",
      "A value is trying to be set on a copy of a slice from a DataFrame.\n",
      "Try using .loc[row_indexer,col_indexer] = value instead\n",
      "\n",
      "See the caveats in the documentation: https://pandas.pydata.org/pandas-docs/stable/user_guide/indexing.html#returning-a-view-versus-a-copy\n",
      "  slack_elev['npv_check'] = slack_elev['npv_opt'].cumsum()\n"
     ]
    },
    {
     "name": "stdout",
     "output_type": "stream",
     "text": [
      "Calculate objective values for policy:\n",
      "Sort by lmi\n",
      "With Budget of $M 3750000.0\n",
      "Calculate objective values for policy:\n",
      "Sort by sovi\n",
      "With Budget of $M 3750000.0\n"
     ]
    },
    {
     "name": "stderr",
     "output_type": "stream",
     "text": [
      "/tmp/ipykernel_614793/2233511709.py:99: SettingWithCopyWarning: \n",
      "A value is trying to be set on a copy of a slice from a DataFrame.\n",
      "Try using .loc[row_indexer,col_indexer] = value instead\n",
      "\n",
      "See the caveats in the documentation: https://pandas.pydata.org/pandas-docs/stable/user_guide/indexing.html#returning-a-view-versus-a-copy\n",
      "  pri_df['policy_cost'] = pri_df['elev_invst'].cumsum()\n",
      "/tmp/ipykernel_614793/2233511709.py:100: SettingWithCopyWarning: \n",
      "A value is trying to be set on a copy of a slice from a DataFrame.\n",
      "Try using .loc[row_indexer,col_indexer] = value instead\n",
      "\n",
      "See the caveats in the documentation: https://pandas.pydata.org/pandas-docs/stable/user_guide/indexing.html#returning-a-view-versus-a-copy\n",
      "  slack_df['policy_cost'] = slack_df['elev_invst'].cumsum()\n",
      "/tmp/ipykernel_614793/2233511709.py:112: SettingWithCopyWarning: \n",
      "A value is trying to be set on a copy of a slice from a DataFrame.\n",
      "Try using .loc[row_indexer,col_indexer] = value instead\n",
      "\n",
      "See the caveats in the documentation: https://pandas.pydata.org/pandas-docs/stable/user_guide/indexing.html#returning-a-view-versus-a-copy\n",
      "  slack_elev['npv_check'] = slack_elev['npv_opt'].cumsum()\n"
     ]
    },
    {
     "name": "stdout",
     "output_type": "stream",
     "text": [
      "Calculate objective values for policy:\n",
      "Sort by ovb\n",
      "With Budget of $M 3750000.0\n"
     ]
    },
    {
     "name": "stderr",
     "output_type": "stream",
     "text": [
      "/tmp/ipykernel_614793/2233511709.py:99: SettingWithCopyWarning: \n",
      "A value is trying to be set on a copy of a slice from a DataFrame.\n",
      "Try using .loc[row_indexer,col_indexer] = value instead\n",
      "\n",
      "See the caveats in the documentation: https://pandas.pydata.org/pandas-docs/stable/user_guide/indexing.html#returning-a-view-versus-a-copy\n",
      "  pri_df['policy_cost'] = pri_df['elev_invst'].cumsum()\n",
      "/tmp/ipykernel_614793/2233511709.py:100: SettingWithCopyWarning: \n",
      "A value is trying to be set on a copy of a slice from a DataFrame.\n",
      "Try using .loc[row_indexer,col_indexer] = value instead\n",
      "\n",
      "See the caveats in the documentation: https://pandas.pydata.org/pandas-docs/stable/user_guide/indexing.html#returning-a-view-versus-a-copy\n",
      "  slack_df['policy_cost'] = slack_df['elev_invst'].cumsum()\n",
      "/tmp/ipykernel_614793/2233511709.py:112: SettingWithCopyWarning: \n",
      "A value is trying to be set on a copy of a slice from a DataFrame.\n",
      "Try using .loc[row_indexer,col_indexer] = value instead\n",
      "\n",
      "See the caveats in the documentation: https://pandas.pydata.org/pandas-docs/stable/user_guide/indexing.html#returning-a-view-versus-a-copy\n",
      "  slack_elev['npv_check'] = slack_elev['npv_opt'].cumsum()\n"
     ]
    },
    {
     "name": "stdout",
     "output_type": "stream",
     "text": [
      "Calculate objective values for policy:\n",
      "Sort by cejst\n",
      "With Budget of $M 3750000.0\n",
      "Calculate objective values for policy:\n",
      "Sort by npv_opt\n",
      "With Budget of $M 4000000.0\n",
      "Calculate objective values for policy:\n",
      "Sort by avoid_rel_eal\n",
      "With Budget of $M 4000000.0\n",
      "Calculate objective values for policy:\n",
      "Sort by rel_eal\n",
      "With Budget of $M 4000000.0\n",
      "Calculate objective values for policy:\n",
      "Sort by pv_resid\n",
      "With Budget of $M 4000000.0\n"
     ]
    },
    {
     "name": "stderr",
     "output_type": "stream",
     "text": [
      "/tmp/ipykernel_614793/2233511709.py:99: SettingWithCopyWarning: \n",
      "A value is trying to be set on a copy of a slice from a DataFrame.\n",
      "Try using .loc[row_indexer,col_indexer] = value instead\n",
      "\n",
      "See the caveats in the documentation: https://pandas.pydata.org/pandas-docs/stable/user_guide/indexing.html#returning-a-view-versus-a-copy\n",
      "  pri_df['policy_cost'] = pri_df['elev_invst'].cumsum()\n",
      "/tmp/ipykernel_614793/2233511709.py:100: SettingWithCopyWarning: \n",
      "A value is trying to be set on a copy of a slice from a DataFrame.\n",
      "Try using .loc[row_indexer,col_indexer] = value instead\n",
      "\n",
      "See the caveats in the documentation: https://pandas.pydata.org/pandas-docs/stable/user_guide/indexing.html#returning-a-view-versus-a-copy\n",
      "  slack_df['policy_cost'] = slack_df['elev_invst'].cumsum()\n",
      "/tmp/ipykernel_614793/2233511709.py:112: SettingWithCopyWarning: \n",
      "A value is trying to be set on a copy of a slice from a DataFrame.\n",
      "Try using .loc[row_indexer,col_indexer] = value instead\n",
      "\n",
      "See the caveats in the documentation: https://pandas.pydata.org/pandas-docs/stable/user_guide/indexing.html#returning-a-view-versus-a-copy\n",
      "  slack_elev['npv_check'] = slack_elev['npv_opt'].cumsum()\n"
     ]
    },
    {
     "name": "stdout",
     "output_type": "stream",
     "text": [
      "Calculate objective values for policy:\n",
      "Sort by lmi\n",
      "With Budget of $M 4000000.0\n",
      "Calculate objective values for policy:\n",
      "Sort by sovi\n",
      "With Budget of $M 4000000.0\n"
     ]
    },
    {
     "name": "stderr",
     "output_type": "stream",
     "text": [
      "/tmp/ipykernel_614793/2233511709.py:99: SettingWithCopyWarning: \n",
      "A value is trying to be set on a copy of a slice from a DataFrame.\n",
      "Try using .loc[row_indexer,col_indexer] = value instead\n",
      "\n",
      "See the caveats in the documentation: https://pandas.pydata.org/pandas-docs/stable/user_guide/indexing.html#returning-a-view-versus-a-copy\n",
      "  pri_df['policy_cost'] = pri_df['elev_invst'].cumsum()\n",
      "/tmp/ipykernel_614793/2233511709.py:100: SettingWithCopyWarning: \n",
      "A value is trying to be set on a copy of a slice from a DataFrame.\n",
      "Try using .loc[row_indexer,col_indexer] = value instead\n",
      "\n",
      "See the caveats in the documentation: https://pandas.pydata.org/pandas-docs/stable/user_guide/indexing.html#returning-a-view-versus-a-copy\n",
      "  slack_df['policy_cost'] = slack_df['elev_invst'].cumsum()\n",
      "/tmp/ipykernel_614793/2233511709.py:112: SettingWithCopyWarning: \n",
      "A value is trying to be set on a copy of a slice from a DataFrame.\n",
      "Try using .loc[row_indexer,col_indexer] = value instead\n",
      "\n",
      "See the caveats in the documentation: https://pandas.pydata.org/pandas-docs/stable/user_guide/indexing.html#returning-a-view-versus-a-copy\n",
      "  slack_elev['npv_check'] = slack_elev['npv_opt'].cumsum()\n"
     ]
    },
    {
     "name": "stdout",
     "output_type": "stream",
     "text": [
      "Calculate objective values for policy:\n",
      "Sort by ovb\n",
      "With Budget of $M 4000000.0\n"
     ]
    },
    {
     "name": "stderr",
     "output_type": "stream",
     "text": [
      "/tmp/ipykernel_614793/2233511709.py:99: SettingWithCopyWarning: \n",
      "A value is trying to be set on a copy of a slice from a DataFrame.\n",
      "Try using .loc[row_indexer,col_indexer] = value instead\n",
      "\n",
      "See the caveats in the documentation: https://pandas.pydata.org/pandas-docs/stable/user_guide/indexing.html#returning-a-view-versus-a-copy\n",
      "  pri_df['policy_cost'] = pri_df['elev_invst'].cumsum()\n",
      "/tmp/ipykernel_614793/2233511709.py:100: SettingWithCopyWarning: \n",
      "A value is trying to be set on a copy of a slice from a DataFrame.\n",
      "Try using .loc[row_indexer,col_indexer] = value instead\n",
      "\n",
      "See the caveats in the documentation: https://pandas.pydata.org/pandas-docs/stable/user_guide/indexing.html#returning-a-view-versus-a-copy\n",
      "  slack_df['policy_cost'] = slack_df['elev_invst'].cumsum()\n",
      "/tmp/ipykernel_614793/2233511709.py:112: SettingWithCopyWarning: \n",
      "A value is trying to be set on a copy of a slice from a DataFrame.\n",
      "Try using .loc[row_indexer,col_indexer] = value instead\n",
      "\n",
      "See the caveats in the documentation: https://pandas.pydata.org/pandas-docs/stable/user_guide/indexing.html#returning-a-view-versus-a-copy\n",
      "  slack_elev['npv_check'] = slack_elev['npv_opt'].cumsum()\n"
     ]
    },
    {
     "name": "stdout",
     "output_type": "stream",
     "text": [
      "Calculate objective values for policy:\n",
      "Sort by cejst\n",
      "With Budget of $M 4000000.0\n",
      "Calculate objective values for policy:\n",
      "Sort by npv_opt\n",
      "With Budget of $M 4250000.0\n",
      "Calculate objective values for policy:\n",
      "Sort by avoid_rel_eal\n",
      "With Budget of $M 4250000.0\n",
      "Calculate objective values for policy:\n",
      "Sort by rel_eal\n",
      "With Budget of $M 4250000.0\n",
      "Calculate objective values for policy:\n",
      "Sort by pv_resid\n",
      "With Budget of $M 4250000.0\n"
     ]
    },
    {
     "name": "stderr",
     "output_type": "stream",
     "text": [
      "/tmp/ipykernel_614793/2233511709.py:99: SettingWithCopyWarning: \n",
      "A value is trying to be set on a copy of a slice from a DataFrame.\n",
      "Try using .loc[row_indexer,col_indexer] = value instead\n",
      "\n",
      "See the caveats in the documentation: https://pandas.pydata.org/pandas-docs/stable/user_guide/indexing.html#returning-a-view-versus-a-copy\n",
      "  pri_df['policy_cost'] = pri_df['elev_invst'].cumsum()\n",
      "/tmp/ipykernel_614793/2233511709.py:100: SettingWithCopyWarning: \n",
      "A value is trying to be set on a copy of a slice from a DataFrame.\n",
      "Try using .loc[row_indexer,col_indexer] = value instead\n",
      "\n",
      "See the caveats in the documentation: https://pandas.pydata.org/pandas-docs/stable/user_guide/indexing.html#returning-a-view-versus-a-copy\n",
      "  slack_df['policy_cost'] = slack_df['elev_invst'].cumsum()\n",
      "/tmp/ipykernel_614793/2233511709.py:112: SettingWithCopyWarning: \n",
      "A value is trying to be set on a copy of a slice from a DataFrame.\n",
      "Try using .loc[row_indexer,col_indexer] = value instead\n",
      "\n",
      "See the caveats in the documentation: https://pandas.pydata.org/pandas-docs/stable/user_guide/indexing.html#returning-a-view-versus-a-copy\n",
      "  slack_elev['npv_check'] = slack_elev['npv_opt'].cumsum()\n"
     ]
    },
    {
     "name": "stdout",
     "output_type": "stream",
     "text": [
      "Calculate objective values for policy:\n",
      "Sort by lmi\n",
      "With Budget of $M 4250000.0\n",
      "Calculate objective values for policy:\n",
      "Sort by sovi\n",
      "With Budget of $M 4250000.0\n"
     ]
    },
    {
     "name": "stderr",
     "output_type": "stream",
     "text": [
      "/tmp/ipykernel_614793/2233511709.py:99: SettingWithCopyWarning: \n",
      "A value is trying to be set on a copy of a slice from a DataFrame.\n",
      "Try using .loc[row_indexer,col_indexer] = value instead\n",
      "\n",
      "See the caveats in the documentation: https://pandas.pydata.org/pandas-docs/stable/user_guide/indexing.html#returning-a-view-versus-a-copy\n",
      "  pri_df['policy_cost'] = pri_df['elev_invst'].cumsum()\n",
      "/tmp/ipykernel_614793/2233511709.py:100: SettingWithCopyWarning: \n",
      "A value is trying to be set on a copy of a slice from a DataFrame.\n",
      "Try using .loc[row_indexer,col_indexer] = value instead\n",
      "\n",
      "See the caveats in the documentation: https://pandas.pydata.org/pandas-docs/stable/user_guide/indexing.html#returning-a-view-versus-a-copy\n",
      "  slack_df['policy_cost'] = slack_df['elev_invst'].cumsum()\n",
      "/tmp/ipykernel_614793/2233511709.py:112: SettingWithCopyWarning: \n",
      "A value is trying to be set on a copy of a slice from a DataFrame.\n",
      "Try using .loc[row_indexer,col_indexer] = value instead\n",
      "\n",
      "See the caveats in the documentation: https://pandas.pydata.org/pandas-docs/stable/user_guide/indexing.html#returning-a-view-versus-a-copy\n",
      "  slack_elev['npv_check'] = slack_elev['npv_opt'].cumsum()\n"
     ]
    },
    {
     "name": "stdout",
     "output_type": "stream",
     "text": [
      "Calculate objective values for policy:\n",
      "Sort by ovb\n",
      "With Budget of $M 4250000.0\n"
     ]
    },
    {
     "name": "stderr",
     "output_type": "stream",
     "text": [
      "/tmp/ipykernel_614793/2233511709.py:99: SettingWithCopyWarning: \n",
      "A value is trying to be set on a copy of a slice from a DataFrame.\n",
      "Try using .loc[row_indexer,col_indexer] = value instead\n",
      "\n",
      "See the caveats in the documentation: https://pandas.pydata.org/pandas-docs/stable/user_guide/indexing.html#returning-a-view-versus-a-copy\n",
      "  pri_df['policy_cost'] = pri_df['elev_invst'].cumsum()\n",
      "/tmp/ipykernel_614793/2233511709.py:100: SettingWithCopyWarning: \n",
      "A value is trying to be set on a copy of a slice from a DataFrame.\n",
      "Try using .loc[row_indexer,col_indexer] = value instead\n",
      "\n",
      "See the caveats in the documentation: https://pandas.pydata.org/pandas-docs/stable/user_guide/indexing.html#returning-a-view-versus-a-copy\n",
      "  slack_df['policy_cost'] = slack_df['elev_invst'].cumsum()\n",
      "/tmp/ipykernel_614793/2233511709.py:112: SettingWithCopyWarning: \n",
      "A value is trying to be set on a copy of a slice from a DataFrame.\n",
      "Try using .loc[row_indexer,col_indexer] = value instead\n",
      "\n",
      "See the caveats in the documentation: https://pandas.pydata.org/pandas-docs/stable/user_guide/indexing.html#returning-a-view-versus-a-copy\n",
      "  slack_elev['npv_check'] = slack_elev['npv_opt'].cumsum()\n"
     ]
    },
    {
     "name": "stdout",
     "output_type": "stream",
     "text": [
      "Calculate objective values for policy:\n",
      "Sort by cejst\n",
      "With Budget of $M 4250000.0\n",
      "Calculate objective values for policy:\n",
      "Sort by npv_opt\n",
      "With Budget of $M 4500000.0\n",
      "Calculate objective values for policy:\n",
      "Sort by avoid_rel_eal\n",
      "With Budget of $M 4500000.0\n",
      "Calculate objective values for policy:\n",
      "Sort by rel_eal\n",
      "With Budget of $M 4500000.0\n",
      "Calculate objective values for policy:\n",
      "Sort by pv_resid\n",
      "With Budget of $M 4500000.0\n"
     ]
    },
    {
     "name": "stderr",
     "output_type": "stream",
     "text": [
      "/tmp/ipykernel_614793/2233511709.py:99: SettingWithCopyWarning: \n",
      "A value is trying to be set on a copy of a slice from a DataFrame.\n",
      "Try using .loc[row_indexer,col_indexer] = value instead\n",
      "\n",
      "See the caveats in the documentation: https://pandas.pydata.org/pandas-docs/stable/user_guide/indexing.html#returning-a-view-versus-a-copy\n",
      "  pri_df['policy_cost'] = pri_df['elev_invst'].cumsum()\n",
      "/tmp/ipykernel_614793/2233511709.py:100: SettingWithCopyWarning: \n",
      "A value is trying to be set on a copy of a slice from a DataFrame.\n",
      "Try using .loc[row_indexer,col_indexer] = value instead\n",
      "\n",
      "See the caveats in the documentation: https://pandas.pydata.org/pandas-docs/stable/user_guide/indexing.html#returning-a-view-versus-a-copy\n",
      "  slack_df['policy_cost'] = slack_df['elev_invst'].cumsum()\n",
      "/tmp/ipykernel_614793/2233511709.py:112: SettingWithCopyWarning: \n",
      "A value is trying to be set on a copy of a slice from a DataFrame.\n",
      "Try using .loc[row_indexer,col_indexer] = value instead\n",
      "\n",
      "See the caveats in the documentation: https://pandas.pydata.org/pandas-docs/stable/user_guide/indexing.html#returning-a-view-versus-a-copy\n",
      "  slack_elev['npv_check'] = slack_elev['npv_opt'].cumsum()\n"
     ]
    },
    {
     "name": "stdout",
     "output_type": "stream",
     "text": [
      "Calculate objective values for policy:\n",
      "Sort by lmi\n",
      "With Budget of $M 4500000.0\n",
      "Calculate objective values for policy:\n",
      "Sort by sovi\n",
      "With Budget of $M 4500000.0\n"
     ]
    },
    {
     "name": "stderr",
     "output_type": "stream",
     "text": [
      "/tmp/ipykernel_614793/2233511709.py:99: SettingWithCopyWarning: \n",
      "A value is trying to be set on a copy of a slice from a DataFrame.\n",
      "Try using .loc[row_indexer,col_indexer] = value instead\n",
      "\n",
      "See the caveats in the documentation: https://pandas.pydata.org/pandas-docs/stable/user_guide/indexing.html#returning-a-view-versus-a-copy\n",
      "  pri_df['policy_cost'] = pri_df['elev_invst'].cumsum()\n",
      "/tmp/ipykernel_614793/2233511709.py:100: SettingWithCopyWarning: \n",
      "A value is trying to be set on a copy of a slice from a DataFrame.\n",
      "Try using .loc[row_indexer,col_indexer] = value instead\n",
      "\n",
      "See the caveats in the documentation: https://pandas.pydata.org/pandas-docs/stable/user_guide/indexing.html#returning-a-view-versus-a-copy\n",
      "  slack_df['policy_cost'] = slack_df['elev_invst'].cumsum()\n",
      "/tmp/ipykernel_614793/2233511709.py:112: SettingWithCopyWarning: \n",
      "A value is trying to be set on a copy of a slice from a DataFrame.\n",
      "Try using .loc[row_indexer,col_indexer] = value instead\n",
      "\n",
      "See the caveats in the documentation: https://pandas.pydata.org/pandas-docs/stable/user_guide/indexing.html#returning-a-view-versus-a-copy\n",
      "  slack_elev['npv_check'] = slack_elev['npv_opt'].cumsum()\n"
     ]
    },
    {
     "name": "stdout",
     "output_type": "stream",
     "text": [
      "Calculate objective values for policy:\n",
      "Sort by ovb\n",
      "With Budget of $M 4500000.0\n"
     ]
    },
    {
     "name": "stderr",
     "output_type": "stream",
     "text": [
      "/tmp/ipykernel_614793/2233511709.py:99: SettingWithCopyWarning: \n",
      "A value is trying to be set on a copy of a slice from a DataFrame.\n",
      "Try using .loc[row_indexer,col_indexer] = value instead\n",
      "\n",
      "See the caveats in the documentation: https://pandas.pydata.org/pandas-docs/stable/user_guide/indexing.html#returning-a-view-versus-a-copy\n",
      "  pri_df['policy_cost'] = pri_df['elev_invst'].cumsum()\n",
      "/tmp/ipykernel_614793/2233511709.py:100: SettingWithCopyWarning: \n",
      "A value is trying to be set on a copy of a slice from a DataFrame.\n",
      "Try using .loc[row_indexer,col_indexer] = value instead\n",
      "\n",
      "See the caveats in the documentation: https://pandas.pydata.org/pandas-docs/stable/user_guide/indexing.html#returning-a-view-versus-a-copy\n",
      "  slack_df['policy_cost'] = slack_df['elev_invst'].cumsum()\n",
      "/tmp/ipykernel_614793/2233511709.py:112: SettingWithCopyWarning: \n",
      "A value is trying to be set on a copy of a slice from a DataFrame.\n",
      "Try using .loc[row_indexer,col_indexer] = value instead\n",
      "\n",
      "See the caveats in the documentation: https://pandas.pydata.org/pandas-docs/stable/user_guide/indexing.html#returning-a-view-versus-a-copy\n",
      "  slack_elev['npv_check'] = slack_elev['npv_opt'].cumsum()\n"
     ]
    },
    {
     "name": "stdout",
     "output_type": "stream",
     "text": [
      "Calculate objective values for policy:\n",
      "Sort by cejst\n",
      "With Budget of $M 4500000.0\n",
      "Calculate objective values for policy:\n",
      "Sort by npv_opt\n",
      "With Budget of $M 4750000.0\n",
      "Calculate objective values for policy:\n",
      "Sort by avoid_rel_eal\n",
      "With Budget of $M 4750000.0\n",
      "Calculate objective values for policy:\n",
      "Sort by rel_eal\n",
      "With Budget of $M 4750000.0\n",
      "Calculate objective values for policy:\n",
      "Sort by pv_resid\n",
      "With Budget of $M 4750000.0\n"
     ]
    },
    {
     "name": "stderr",
     "output_type": "stream",
     "text": [
      "/tmp/ipykernel_614793/2233511709.py:99: SettingWithCopyWarning: \n",
      "A value is trying to be set on a copy of a slice from a DataFrame.\n",
      "Try using .loc[row_indexer,col_indexer] = value instead\n",
      "\n",
      "See the caveats in the documentation: https://pandas.pydata.org/pandas-docs/stable/user_guide/indexing.html#returning-a-view-versus-a-copy\n",
      "  pri_df['policy_cost'] = pri_df['elev_invst'].cumsum()\n",
      "/tmp/ipykernel_614793/2233511709.py:100: SettingWithCopyWarning: \n",
      "A value is trying to be set on a copy of a slice from a DataFrame.\n",
      "Try using .loc[row_indexer,col_indexer] = value instead\n",
      "\n",
      "See the caveats in the documentation: https://pandas.pydata.org/pandas-docs/stable/user_guide/indexing.html#returning-a-view-versus-a-copy\n",
      "  slack_df['policy_cost'] = slack_df['elev_invst'].cumsum()\n",
      "/tmp/ipykernel_614793/2233511709.py:112: SettingWithCopyWarning: \n",
      "A value is trying to be set on a copy of a slice from a DataFrame.\n",
      "Try using .loc[row_indexer,col_indexer] = value instead\n",
      "\n",
      "See the caveats in the documentation: https://pandas.pydata.org/pandas-docs/stable/user_guide/indexing.html#returning-a-view-versus-a-copy\n",
      "  slack_elev['npv_check'] = slack_elev['npv_opt'].cumsum()\n"
     ]
    },
    {
     "name": "stdout",
     "output_type": "stream",
     "text": [
      "Calculate objective values for policy:\n",
      "Sort by lmi\n",
      "With Budget of $M 4750000.0\n",
      "Calculate objective values for policy:\n",
      "Sort by sovi\n",
      "With Budget of $M 4750000.0\n"
     ]
    },
    {
     "name": "stderr",
     "output_type": "stream",
     "text": [
      "/tmp/ipykernel_614793/2233511709.py:99: SettingWithCopyWarning: \n",
      "A value is trying to be set on a copy of a slice from a DataFrame.\n",
      "Try using .loc[row_indexer,col_indexer] = value instead\n",
      "\n",
      "See the caveats in the documentation: https://pandas.pydata.org/pandas-docs/stable/user_guide/indexing.html#returning-a-view-versus-a-copy\n",
      "  pri_df['policy_cost'] = pri_df['elev_invst'].cumsum()\n",
      "/tmp/ipykernel_614793/2233511709.py:100: SettingWithCopyWarning: \n",
      "A value is trying to be set on a copy of a slice from a DataFrame.\n",
      "Try using .loc[row_indexer,col_indexer] = value instead\n",
      "\n",
      "See the caveats in the documentation: https://pandas.pydata.org/pandas-docs/stable/user_guide/indexing.html#returning-a-view-versus-a-copy\n",
      "  slack_df['policy_cost'] = slack_df['elev_invst'].cumsum()\n",
      "/tmp/ipykernel_614793/2233511709.py:112: SettingWithCopyWarning: \n",
      "A value is trying to be set on a copy of a slice from a DataFrame.\n",
      "Try using .loc[row_indexer,col_indexer] = value instead\n",
      "\n",
      "See the caveats in the documentation: https://pandas.pydata.org/pandas-docs/stable/user_guide/indexing.html#returning-a-view-versus-a-copy\n",
      "  slack_elev['npv_check'] = slack_elev['npv_opt'].cumsum()\n"
     ]
    },
    {
     "name": "stdout",
     "output_type": "stream",
     "text": [
      "Calculate objective values for policy:\n",
      "Sort by ovb\n",
      "With Budget of $M 4750000.0\n"
     ]
    },
    {
     "name": "stderr",
     "output_type": "stream",
     "text": [
      "/tmp/ipykernel_614793/2233511709.py:99: SettingWithCopyWarning: \n",
      "A value is trying to be set on a copy of a slice from a DataFrame.\n",
      "Try using .loc[row_indexer,col_indexer] = value instead\n",
      "\n",
      "See the caveats in the documentation: https://pandas.pydata.org/pandas-docs/stable/user_guide/indexing.html#returning-a-view-versus-a-copy\n",
      "  pri_df['policy_cost'] = pri_df['elev_invst'].cumsum()\n",
      "/tmp/ipykernel_614793/2233511709.py:100: SettingWithCopyWarning: \n",
      "A value is trying to be set on a copy of a slice from a DataFrame.\n",
      "Try using .loc[row_indexer,col_indexer] = value instead\n",
      "\n",
      "See the caveats in the documentation: https://pandas.pydata.org/pandas-docs/stable/user_guide/indexing.html#returning-a-view-versus-a-copy\n",
      "  slack_df['policy_cost'] = slack_df['elev_invst'].cumsum()\n",
      "/tmp/ipykernel_614793/2233511709.py:112: SettingWithCopyWarning: \n",
      "A value is trying to be set on a copy of a slice from a DataFrame.\n",
      "Try using .loc[row_indexer,col_indexer] = value instead\n",
      "\n",
      "See the caveats in the documentation: https://pandas.pydata.org/pandas-docs/stable/user_guide/indexing.html#returning-a-view-versus-a-copy\n",
      "  slack_elev['npv_check'] = slack_elev['npv_opt'].cumsum()\n"
     ]
    },
    {
     "name": "stdout",
     "output_type": "stream",
     "text": [
      "Calculate objective values for policy:\n",
      "Sort by cejst\n",
      "With Budget of $M 4750000.0\n",
      "Calculate objective values for policy:\n",
      "Sort by npv_opt\n",
      "With Budget of $M 5000000.0\n",
      "Calculate objective values for policy:\n",
      "Sort by avoid_rel_eal\n",
      "With Budget of $M 5000000.0\n",
      "Calculate objective values for policy:\n",
      "Sort by rel_eal\n",
      "With Budget of $M 5000000.0\n",
      "Calculate objective values for policy:\n",
      "Sort by pv_resid\n",
      "With Budget of $M 5000000.0\n"
     ]
    },
    {
     "name": "stderr",
     "output_type": "stream",
     "text": [
      "/tmp/ipykernel_614793/2233511709.py:99: SettingWithCopyWarning: \n",
      "A value is trying to be set on a copy of a slice from a DataFrame.\n",
      "Try using .loc[row_indexer,col_indexer] = value instead\n",
      "\n",
      "See the caveats in the documentation: https://pandas.pydata.org/pandas-docs/stable/user_guide/indexing.html#returning-a-view-versus-a-copy\n",
      "  pri_df['policy_cost'] = pri_df['elev_invst'].cumsum()\n",
      "/tmp/ipykernel_614793/2233511709.py:100: SettingWithCopyWarning: \n",
      "A value is trying to be set on a copy of a slice from a DataFrame.\n",
      "Try using .loc[row_indexer,col_indexer] = value instead\n",
      "\n",
      "See the caveats in the documentation: https://pandas.pydata.org/pandas-docs/stable/user_guide/indexing.html#returning-a-view-versus-a-copy\n",
      "  slack_df['policy_cost'] = slack_df['elev_invst'].cumsum()\n",
      "/tmp/ipykernel_614793/2233511709.py:112: SettingWithCopyWarning: \n",
      "A value is trying to be set on a copy of a slice from a DataFrame.\n",
      "Try using .loc[row_indexer,col_indexer] = value instead\n",
      "\n",
      "See the caveats in the documentation: https://pandas.pydata.org/pandas-docs/stable/user_guide/indexing.html#returning-a-view-versus-a-copy\n",
      "  slack_elev['npv_check'] = slack_elev['npv_opt'].cumsum()\n"
     ]
    },
    {
     "name": "stdout",
     "output_type": "stream",
     "text": [
      "Calculate objective values for policy:\n",
      "Sort by lmi\n",
      "With Budget of $M 5000000.0\n",
      "Calculate objective values for policy:\n",
      "Sort by sovi\n",
      "With Budget of $M 5000000.0\n"
     ]
    },
    {
     "name": "stderr",
     "output_type": "stream",
     "text": [
      "/tmp/ipykernel_614793/2233511709.py:99: SettingWithCopyWarning: \n",
      "A value is trying to be set on a copy of a slice from a DataFrame.\n",
      "Try using .loc[row_indexer,col_indexer] = value instead\n",
      "\n",
      "See the caveats in the documentation: https://pandas.pydata.org/pandas-docs/stable/user_guide/indexing.html#returning-a-view-versus-a-copy\n",
      "  pri_df['policy_cost'] = pri_df['elev_invst'].cumsum()\n",
      "/tmp/ipykernel_614793/2233511709.py:100: SettingWithCopyWarning: \n",
      "A value is trying to be set on a copy of a slice from a DataFrame.\n",
      "Try using .loc[row_indexer,col_indexer] = value instead\n",
      "\n",
      "See the caveats in the documentation: https://pandas.pydata.org/pandas-docs/stable/user_guide/indexing.html#returning-a-view-versus-a-copy\n",
      "  slack_df['policy_cost'] = slack_df['elev_invst'].cumsum()\n",
      "/tmp/ipykernel_614793/2233511709.py:112: SettingWithCopyWarning: \n",
      "A value is trying to be set on a copy of a slice from a DataFrame.\n",
      "Try using .loc[row_indexer,col_indexer] = value instead\n",
      "\n",
      "See the caveats in the documentation: https://pandas.pydata.org/pandas-docs/stable/user_guide/indexing.html#returning-a-view-versus-a-copy\n",
      "  slack_elev['npv_check'] = slack_elev['npv_opt'].cumsum()\n"
     ]
    },
    {
     "name": "stdout",
     "output_type": "stream",
     "text": [
      "Calculate objective values for policy:\n",
      "Sort by ovb\n",
      "With Budget of $M 5000000.0\n"
     ]
    },
    {
     "name": "stderr",
     "output_type": "stream",
     "text": [
      "/tmp/ipykernel_614793/2233511709.py:99: SettingWithCopyWarning: \n",
      "A value is trying to be set on a copy of a slice from a DataFrame.\n",
      "Try using .loc[row_indexer,col_indexer] = value instead\n",
      "\n",
      "See the caveats in the documentation: https://pandas.pydata.org/pandas-docs/stable/user_guide/indexing.html#returning-a-view-versus-a-copy\n",
      "  pri_df['policy_cost'] = pri_df['elev_invst'].cumsum()\n",
      "/tmp/ipykernel_614793/2233511709.py:100: SettingWithCopyWarning: \n",
      "A value is trying to be set on a copy of a slice from a DataFrame.\n",
      "Try using .loc[row_indexer,col_indexer] = value instead\n",
      "\n",
      "See the caveats in the documentation: https://pandas.pydata.org/pandas-docs/stable/user_guide/indexing.html#returning-a-view-versus-a-copy\n",
      "  slack_df['policy_cost'] = slack_df['elev_invst'].cumsum()\n",
      "/tmp/ipykernel_614793/2233511709.py:112: SettingWithCopyWarning: \n",
      "A value is trying to be set on a copy of a slice from a DataFrame.\n",
      "Try using .loc[row_indexer,col_indexer] = value instead\n",
      "\n",
      "See the caveats in the documentation: https://pandas.pydata.org/pandas-docs/stable/user_guide/indexing.html#returning-a-view-versus-a-copy\n",
      "  slack_elev['npv_check'] = slack_elev['npv_opt'].cumsum()\n"
     ]
    },
    {
     "name": "stdout",
     "output_type": "stream",
     "text": [
      "Calculate objective values for policy:\n",
      "Sort by cejst\n",
      "With Budget of $M 5000000.0\n",
      "Calculate objective values for policy:\n",
      "Sort by npv_opt\n",
      "With Budget of $M 5250000.0\n",
      "Calculate objective values for policy:\n",
      "Sort by avoid_rel_eal\n",
      "With Budget of $M 5250000.0\n",
      "Calculate objective values for policy:\n",
      "Sort by rel_eal\n",
      "With Budget of $M 5250000.0\n",
      "Calculate objective values for policy:\n",
      "Sort by pv_resid\n",
      "With Budget of $M 5250000.0\n"
     ]
    },
    {
     "name": "stderr",
     "output_type": "stream",
     "text": [
      "/tmp/ipykernel_614793/2233511709.py:99: SettingWithCopyWarning: \n",
      "A value is trying to be set on a copy of a slice from a DataFrame.\n",
      "Try using .loc[row_indexer,col_indexer] = value instead\n",
      "\n",
      "See the caveats in the documentation: https://pandas.pydata.org/pandas-docs/stable/user_guide/indexing.html#returning-a-view-versus-a-copy\n",
      "  pri_df['policy_cost'] = pri_df['elev_invst'].cumsum()\n",
      "/tmp/ipykernel_614793/2233511709.py:100: SettingWithCopyWarning: \n",
      "A value is trying to be set on a copy of a slice from a DataFrame.\n",
      "Try using .loc[row_indexer,col_indexer] = value instead\n",
      "\n",
      "See the caveats in the documentation: https://pandas.pydata.org/pandas-docs/stable/user_guide/indexing.html#returning-a-view-versus-a-copy\n",
      "  slack_df['policy_cost'] = slack_df['elev_invst'].cumsum()\n",
      "/tmp/ipykernel_614793/2233511709.py:112: SettingWithCopyWarning: \n",
      "A value is trying to be set on a copy of a slice from a DataFrame.\n",
      "Try using .loc[row_indexer,col_indexer] = value instead\n",
      "\n",
      "See the caveats in the documentation: https://pandas.pydata.org/pandas-docs/stable/user_guide/indexing.html#returning-a-view-versus-a-copy\n",
      "  slack_elev['npv_check'] = slack_elev['npv_opt'].cumsum()\n"
     ]
    },
    {
     "name": "stdout",
     "output_type": "stream",
     "text": [
      "Calculate objective values for policy:\n",
      "Sort by lmi\n",
      "With Budget of $M 5250000.0\n",
      "Calculate objective values for policy:\n",
      "Sort by sovi\n",
      "With Budget of $M 5250000.0\n"
     ]
    },
    {
     "name": "stderr",
     "output_type": "stream",
     "text": [
      "/tmp/ipykernel_614793/2233511709.py:99: SettingWithCopyWarning: \n",
      "A value is trying to be set on a copy of a slice from a DataFrame.\n",
      "Try using .loc[row_indexer,col_indexer] = value instead\n",
      "\n",
      "See the caveats in the documentation: https://pandas.pydata.org/pandas-docs/stable/user_guide/indexing.html#returning-a-view-versus-a-copy\n",
      "  pri_df['policy_cost'] = pri_df['elev_invst'].cumsum()\n",
      "/tmp/ipykernel_614793/2233511709.py:100: SettingWithCopyWarning: \n",
      "A value is trying to be set on a copy of a slice from a DataFrame.\n",
      "Try using .loc[row_indexer,col_indexer] = value instead\n",
      "\n",
      "See the caveats in the documentation: https://pandas.pydata.org/pandas-docs/stable/user_guide/indexing.html#returning-a-view-versus-a-copy\n",
      "  slack_df['policy_cost'] = slack_df['elev_invst'].cumsum()\n",
      "/tmp/ipykernel_614793/2233511709.py:112: SettingWithCopyWarning: \n",
      "A value is trying to be set on a copy of a slice from a DataFrame.\n",
      "Try using .loc[row_indexer,col_indexer] = value instead\n",
      "\n",
      "See the caveats in the documentation: https://pandas.pydata.org/pandas-docs/stable/user_guide/indexing.html#returning-a-view-versus-a-copy\n",
      "  slack_elev['npv_check'] = slack_elev['npv_opt'].cumsum()\n"
     ]
    },
    {
     "name": "stdout",
     "output_type": "stream",
     "text": [
      "Calculate objective values for policy:\n",
      "Sort by ovb\n",
      "With Budget of $M 5250000.0\n"
     ]
    },
    {
     "name": "stderr",
     "output_type": "stream",
     "text": [
      "/tmp/ipykernel_614793/2233511709.py:99: SettingWithCopyWarning: \n",
      "A value is trying to be set on a copy of a slice from a DataFrame.\n",
      "Try using .loc[row_indexer,col_indexer] = value instead\n",
      "\n",
      "See the caveats in the documentation: https://pandas.pydata.org/pandas-docs/stable/user_guide/indexing.html#returning-a-view-versus-a-copy\n",
      "  pri_df['policy_cost'] = pri_df['elev_invst'].cumsum()\n",
      "/tmp/ipykernel_614793/2233511709.py:100: SettingWithCopyWarning: \n",
      "A value is trying to be set on a copy of a slice from a DataFrame.\n",
      "Try using .loc[row_indexer,col_indexer] = value instead\n",
      "\n",
      "See the caveats in the documentation: https://pandas.pydata.org/pandas-docs/stable/user_guide/indexing.html#returning-a-view-versus-a-copy\n",
      "  slack_df['policy_cost'] = slack_df['elev_invst'].cumsum()\n",
      "/tmp/ipykernel_614793/2233511709.py:112: SettingWithCopyWarning: \n",
      "A value is trying to be set on a copy of a slice from a DataFrame.\n",
      "Try using .loc[row_indexer,col_indexer] = value instead\n",
      "\n",
      "See the caveats in the documentation: https://pandas.pydata.org/pandas-docs/stable/user_guide/indexing.html#returning-a-view-versus-a-copy\n",
      "  slack_elev['npv_check'] = slack_elev['npv_opt'].cumsum()\n"
     ]
    },
    {
     "name": "stdout",
     "output_type": "stream",
     "text": [
      "Calculate objective values for policy:\n",
      "Sort by cejst\n",
      "With Budget of $M 5250000.0\n",
      "Calculate objective values for policy:\n",
      "Sort by npv_opt\n",
      "With Budget of $M 5500000.0\n",
      "Calculate objective values for policy:\n",
      "Sort by avoid_rel_eal\n",
      "With Budget of $M 5500000.0\n",
      "Calculate objective values for policy:\n",
      "Sort by rel_eal\n",
      "With Budget of $M 5500000.0\n",
      "Calculate objective values for policy:\n",
      "Sort by pv_resid\n",
      "With Budget of $M 5500000.0\n"
     ]
    },
    {
     "name": "stderr",
     "output_type": "stream",
     "text": [
      "/tmp/ipykernel_614793/2233511709.py:99: SettingWithCopyWarning: \n",
      "A value is trying to be set on a copy of a slice from a DataFrame.\n",
      "Try using .loc[row_indexer,col_indexer] = value instead\n",
      "\n",
      "See the caveats in the documentation: https://pandas.pydata.org/pandas-docs/stable/user_guide/indexing.html#returning-a-view-versus-a-copy\n",
      "  pri_df['policy_cost'] = pri_df['elev_invst'].cumsum()\n",
      "/tmp/ipykernel_614793/2233511709.py:100: SettingWithCopyWarning: \n",
      "A value is trying to be set on a copy of a slice from a DataFrame.\n",
      "Try using .loc[row_indexer,col_indexer] = value instead\n",
      "\n",
      "See the caveats in the documentation: https://pandas.pydata.org/pandas-docs/stable/user_guide/indexing.html#returning-a-view-versus-a-copy\n",
      "  slack_df['policy_cost'] = slack_df['elev_invst'].cumsum()\n",
      "/tmp/ipykernel_614793/2233511709.py:112: SettingWithCopyWarning: \n",
      "A value is trying to be set on a copy of a slice from a DataFrame.\n",
      "Try using .loc[row_indexer,col_indexer] = value instead\n",
      "\n",
      "See the caveats in the documentation: https://pandas.pydata.org/pandas-docs/stable/user_guide/indexing.html#returning-a-view-versus-a-copy\n",
      "  slack_elev['npv_check'] = slack_elev['npv_opt'].cumsum()\n"
     ]
    },
    {
     "name": "stdout",
     "output_type": "stream",
     "text": [
      "Calculate objective values for policy:\n",
      "Sort by lmi\n",
      "With Budget of $M 5500000.0\n",
      "Calculate objective values for policy:\n",
      "Sort by sovi\n",
      "With Budget of $M 5500000.0\n"
     ]
    },
    {
     "name": "stderr",
     "output_type": "stream",
     "text": [
      "/tmp/ipykernel_614793/2233511709.py:99: SettingWithCopyWarning: \n",
      "A value is trying to be set on a copy of a slice from a DataFrame.\n",
      "Try using .loc[row_indexer,col_indexer] = value instead\n",
      "\n",
      "See the caveats in the documentation: https://pandas.pydata.org/pandas-docs/stable/user_guide/indexing.html#returning-a-view-versus-a-copy\n",
      "  pri_df['policy_cost'] = pri_df['elev_invst'].cumsum()\n",
      "/tmp/ipykernel_614793/2233511709.py:100: SettingWithCopyWarning: \n",
      "A value is trying to be set on a copy of a slice from a DataFrame.\n",
      "Try using .loc[row_indexer,col_indexer] = value instead\n",
      "\n",
      "See the caveats in the documentation: https://pandas.pydata.org/pandas-docs/stable/user_guide/indexing.html#returning-a-view-versus-a-copy\n",
      "  slack_df['policy_cost'] = slack_df['elev_invst'].cumsum()\n",
      "/tmp/ipykernel_614793/2233511709.py:112: SettingWithCopyWarning: \n",
      "A value is trying to be set on a copy of a slice from a DataFrame.\n",
      "Try using .loc[row_indexer,col_indexer] = value instead\n",
      "\n",
      "See the caveats in the documentation: https://pandas.pydata.org/pandas-docs/stable/user_guide/indexing.html#returning-a-view-versus-a-copy\n",
      "  slack_elev['npv_check'] = slack_elev['npv_opt'].cumsum()\n"
     ]
    },
    {
     "name": "stdout",
     "output_type": "stream",
     "text": [
      "Calculate objective values for policy:\n",
      "Sort by ovb\n",
      "With Budget of $M 5500000.0\n"
     ]
    },
    {
     "name": "stderr",
     "output_type": "stream",
     "text": [
      "/tmp/ipykernel_614793/2233511709.py:99: SettingWithCopyWarning: \n",
      "A value is trying to be set on a copy of a slice from a DataFrame.\n",
      "Try using .loc[row_indexer,col_indexer] = value instead\n",
      "\n",
      "See the caveats in the documentation: https://pandas.pydata.org/pandas-docs/stable/user_guide/indexing.html#returning-a-view-versus-a-copy\n",
      "  pri_df['policy_cost'] = pri_df['elev_invst'].cumsum()\n",
      "/tmp/ipykernel_614793/2233511709.py:100: SettingWithCopyWarning: \n",
      "A value is trying to be set on a copy of a slice from a DataFrame.\n",
      "Try using .loc[row_indexer,col_indexer] = value instead\n",
      "\n",
      "See the caveats in the documentation: https://pandas.pydata.org/pandas-docs/stable/user_guide/indexing.html#returning-a-view-versus-a-copy\n",
      "  slack_df['policy_cost'] = slack_df['elev_invst'].cumsum()\n",
      "/tmp/ipykernel_614793/2233511709.py:112: SettingWithCopyWarning: \n",
      "A value is trying to be set on a copy of a slice from a DataFrame.\n",
      "Try using .loc[row_indexer,col_indexer] = value instead\n",
      "\n",
      "See the caveats in the documentation: https://pandas.pydata.org/pandas-docs/stable/user_guide/indexing.html#returning-a-view-versus-a-copy\n",
      "  slack_elev['npv_check'] = slack_elev['npv_opt'].cumsum()\n"
     ]
    },
    {
     "name": "stdout",
     "output_type": "stream",
     "text": [
      "Calculate objective values for policy:\n",
      "Sort by cejst\n",
      "With Budget of $M 5500000.0\n",
      "Calculate objective values for policy:\n",
      "Sort by npv_opt\n",
      "With Budget of $M 5750000.0\n",
      "Calculate objective values for policy:\n",
      "Sort by avoid_rel_eal\n",
      "With Budget of $M 5750000.0\n",
      "Calculate objective values for policy:\n",
      "Sort by rel_eal\n",
      "With Budget of $M 5750000.0\n",
      "Calculate objective values for policy:\n",
      "Sort by pv_resid\n",
      "With Budget of $M 5750000.0\n"
     ]
    },
    {
     "name": "stderr",
     "output_type": "stream",
     "text": [
      "/tmp/ipykernel_614793/2233511709.py:99: SettingWithCopyWarning: \n",
      "A value is trying to be set on a copy of a slice from a DataFrame.\n",
      "Try using .loc[row_indexer,col_indexer] = value instead\n",
      "\n",
      "See the caveats in the documentation: https://pandas.pydata.org/pandas-docs/stable/user_guide/indexing.html#returning-a-view-versus-a-copy\n",
      "  pri_df['policy_cost'] = pri_df['elev_invst'].cumsum()\n",
      "/tmp/ipykernel_614793/2233511709.py:100: SettingWithCopyWarning: \n",
      "A value is trying to be set on a copy of a slice from a DataFrame.\n",
      "Try using .loc[row_indexer,col_indexer] = value instead\n",
      "\n",
      "See the caveats in the documentation: https://pandas.pydata.org/pandas-docs/stable/user_guide/indexing.html#returning-a-view-versus-a-copy\n",
      "  slack_df['policy_cost'] = slack_df['elev_invst'].cumsum()\n",
      "/tmp/ipykernel_614793/2233511709.py:112: SettingWithCopyWarning: \n",
      "A value is trying to be set on a copy of a slice from a DataFrame.\n",
      "Try using .loc[row_indexer,col_indexer] = value instead\n",
      "\n",
      "See the caveats in the documentation: https://pandas.pydata.org/pandas-docs/stable/user_guide/indexing.html#returning-a-view-versus-a-copy\n",
      "  slack_elev['npv_check'] = slack_elev['npv_opt'].cumsum()\n"
     ]
    },
    {
     "name": "stdout",
     "output_type": "stream",
     "text": [
      "Calculate objective values for policy:\n",
      "Sort by lmi\n",
      "With Budget of $M 5750000.0\n",
      "Calculate objective values for policy:\n",
      "Sort by sovi\n",
      "With Budget of $M 5750000.0\n"
     ]
    },
    {
     "name": "stderr",
     "output_type": "stream",
     "text": [
      "/tmp/ipykernel_614793/2233511709.py:99: SettingWithCopyWarning: \n",
      "A value is trying to be set on a copy of a slice from a DataFrame.\n",
      "Try using .loc[row_indexer,col_indexer] = value instead\n",
      "\n",
      "See the caveats in the documentation: https://pandas.pydata.org/pandas-docs/stable/user_guide/indexing.html#returning-a-view-versus-a-copy\n",
      "  pri_df['policy_cost'] = pri_df['elev_invst'].cumsum()\n",
      "/tmp/ipykernel_614793/2233511709.py:100: SettingWithCopyWarning: \n",
      "A value is trying to be set on a copy of a slice from a DataFrame.\n",
      "Try using .loc[row_indexer,col_indexer] = value instead\n",
      "\n",
      "See the caveats in the documentation: https://pandas.pydata.org/pandas-docs/stable/user_guide/indexing.html#returning-a-view-versus-a-copy\n",
      "  slack_df['policy_cost'] = slack_df['elev_invst'].cumsum()\n",
      "/tmp/ipykernel_614793/2233511709.py:112: SettingWithCopyWarning: \n",
      "A value is trying to be set on a copy of a slice from a DataFrame.\n",
      "Try using .loc[row_indexer,col_indexer] = value instead\n",
      "\n",
      "See the caveats in the documentation: https://pandas.pydata.org/pandas-docs/stable/user_guide/indexing.html#returning-a-view-versus-a-copy\n",
      "  slack_elev['npv_check'] = slack_elev['npv_opt'].cumsum()\n"
     ]
    },
    {
     "name": "stdout",
     "output_type": "stream",
     "text": [
      "Calculate objective values for policy:\n",
      "Sort by ovb\n",
      "With Budget of $M 5750000.0\n"
     ]
    },
    {
     "name": "stderr",
     "output_type": "stream",
     "text": [
      "/tmp/ipykernel_614793/2233511709.py:99: SettingWithCopyWarning: \n",
      "A value is trying to be set on a copy of a slice from a DataFrame.\n",
      "Try using .loc[row_indexer,col_indexer] = value instead\n",
      "\n",
      "See the caveats in the documentation: https://pandas.pydata.org/pandas-docs/stable/user_guide/indexing.html#returning-a-view-versus-a-copy\n",
      "  pri_df['policy_cost'] = pri_df['elev_invst'].cumsum()\n",
      "/tmp/ipykernel_614793/2233511709.py:100: SettingWithCopyWarning: \n",
      "A value is trying to be set on a copy of a slice from a DataFrame.\n",
      "Try using .loc[row_indexer,col_indexer] = value instead\n",
      "\n",
      "See the caveats in the documentation: https://pandas.pydata.org/pandas-docs/stable/user_guide/indexing.html#returning-a-view-versus-a-copy\n",
      "  slack_df['policy_cost'] = slack_df['elev_invst'].cumsum()\n",
      "/tmp/ipykernel_614793/2233511709.py:112: SettingWithCopyWarning: \n",
      "A value is trying to be set on a copy of a slice from a DataFrame.\n",
      "Try using .loc[row_indexer,col_indexer] = value instead\n",
      "\n",
      "See the caveats in the documentation: https://pandas.pydata.org/pandas-docs/stable/user_guide/indexing.html#returning-a-view-versus-a-copy\n",
      "  slack_elev['npv_check'] = slack_elev['npv_opt'].cumsum()\n"
     ]
    },
    {
     "name": "stdout",
     "output_type": "stream",
     "text": [
      "Calculate objective values for policy:\n",
      "Sort by cejst\n",
      "With Budget of $M 5750000.0\n",
      "Calculate objective values for policy:\n",
      "Sort by npv_opt\n",
      "With Budget of $M 6000000.0\n",
      "Calculate objective values for policy:\n",
      "Sort by avoid_rel_eal\n",
      "With Budget of $M 6000000.0\n",
      "Calculate objective values for policy:\n",
      "Sort by rel_eal\n",
      "With Budget of $M 6000000.0\n",
      "Calculate objective values for policy:\n",
      "Sort by pv_resid\n",
      "With Budget of $M 6000000.0\n"
     ]
    },
    {
     "name": "stderr",
     "output_type": "stream",
     "text": [
      "/tmp/ipykernel_614793/2233511709.py:99: SettingWithCopyWarning: \n",
      "A value is trying to be set on a copy of a slice from a DataFrame.\n",
      "Try using .loc[row_indexer,col_indexer] = value instead\n",
      "\n",
      "See the caveats in the documentation: https://pandas.pydata.org/pandas-docs/stable/user_guide/indexing.html#returning-a-view-versus-a-copy\n",
      "  pri_df['policy_cost'] = pri_df['elev_invst'].cumsum()\n",
      "/tmp/ipykernel_614793/2233511709.py:100: SettingWithCopyWarning: \n",
      "A value is trying to be set on a copy of a slice from a DataFrame.\n",
      "Try using .loc[row_indexer,col_indexer] = value instead\n",
      "\n",
      "See the caveats in the documentation: https://pandas.pydata.org/pandas-docs/stable/user_guide/indexing.html#returning-a-view-versus-a-copy\n",
      "  slack_df['policy_cost'] = slack_df['elev_invst'].cumsum()\n",
      "/tmp/ipykernel_614793/2233511709.py:112: SettingWithCopyWarning: \n",
      "A value is trying to be set on a copy of a slice from a DataFrame.\n",
      "Try using .loc[row_indexer,col_indexer] = value instead\n",
      "\n",
      "See the caveats in the documentation: https://pandas.pydata.org/pandas-docs/stable/user_guide/indexing.html#returning-a-view-versus-a-copy\n",
      "  slack_elev['npv_check'] = slack_elev['npv_opt'].cumsum()\n"
     ]
    },
    {
     "name": "stdout",
     "output_type": "stream",
     "text": [
      "Calculate objective values for policy:\n",
      "Sort by lmi\n",
      "With Budget of $M 6000000.0\n",
      "Calculate objective values for policy:\n",
      "Sort by sovi\n",
      "With Budget of $M 6000000.0\n"
     ]
    },
    {
     "name": "stderr",
     "output_type": "stream",
     "text": [
      "/tmp/ipykernel_614793/2233511709.py:99: SettingWithCopyWarning: \n",
      "A value is trying to be set on a copy of a slice from a DataFrame.\n",
      "Try using .loc[row_indexer,col_indexer] = value instead\n",
      "\n",
      "See the caveats in the documentation: https://pandas.pydata.org/pandas-docs/stable/user_guide/indexing.html#returning-a-view-versus-a-copy\n",
      "  pri_df['policy_cost'] = pri_df['elev_invst'].cumsum()\n",
      "/tmp/ipykernel_614793/2233511709.py:100: SettingWithCopyWarning: \n",
      "A value is trying to be set on a copy of a slice from a DataFrame.\n",
      "Try using .loc[row_indexer,col_indexer] = value instead\n",
      "\n",
      "See the caveats in the documentation: https://pandas.pydata.org/pandas-docs/stable/user_guide/indexing.html#returning-a-view-versus-a-copy\n",
      "  slack_df['policy_cost'] = slack_df['elev_invst'].cumsum()\n",
      "/tmp/ipykernel_614793/2233511709.py:112: SettingWithCopyWarning: \n",
      "A value is trying to be set on a copy of a slice from a DataFrame.\n",
      "Try using .loc[row_indexer,col_indexer] = value instead\n",
      "\n",
      "See the caveats in the documentation: https://pandas.pydata.org/pandas-docs/stable/user_guide/indexing.html#returning-a-view-versus-a-copy\n",
      "  slack_elev['npv_check'] = slack_elev['npv_opt'].cumsum()\n"
     ]
    },
    {
     "name": "stdout",
     "output_type": "stream",
     "text": [
      "Calculate objective values for policy:\n",
      "Sort by ovb\n",
      "With Budget of $M 6000000.0\n"
     ]
    },
    {
     "name": "stderr",
     "output_type": "stream",
     "text": [
      "/tmp/ipykernel_614793/2233511709.py:99: SettingWithCopyWarning: \n",
      "A value is trying to be set on a copy of a slice from a DataFrame.\n",
      "Try using .loc[row_indexer,col_indexer] = value instead\n",
      "\n",
      "See the caveats in the documentation: https://pandas.pydata.org/pandas-docs/stable/user_guide/indexing.html#returning-a-view-versus-a-copy\n",
      "  pri_df['policy_cost'] = pri_df['elev_invst'].cumsum()\n",
      "/tmp/ipykernel_614793/2233511709.py:100: SettingWithCopyWarning: \n",
      "A value is trying to be set on a copy of a slice from a DataFrame.\n",
      "Try using .loc[row_indexer,col_indexer] = value instead\n",
      "\n",
      "See the caveats in the documentation: https://pandas.pydata.org/pandas-docs/stable/user_guide/indexing.html#returning-a-view-versus-a-copy\n",
      "  slack_df['policy_cost'] = slack_df['elev_invst'].cumsum()\n",
      "/tmp/ipykernel_614793/2233511709.py:112: SettingWithCopyWarning: \n",
      "A value is trying to be set on a copy of a slice from a DataFrame.\n",
      "Try using .loc[row_indexer,col_indexer] = value instead\n",
      "\n",
      "See the caveats in the documentation: https://pandas.pydata.org/pandas-docs/stable/user_guide/indexing.html#returning-a-view-versus-a-copy\n",
      "  slack_elev['npv_check'] = slack_elev['npv_opt'].cumsum()\n"
     ]
    },
    {
     "name": "stdout",
     "output_type": "stream",
     "text": [
      "Calculate objective values for policy:\n",
      "Sort by cejst\n",
      "With Budget of $M 6000000.0\n"
     ]
    }
   ],
   "source": [
    "# Household based sorting\n",
    "\n",
    "# Dict of sort keys to fd_id values\n",
    "sort_dict = {}\n",
    "# This is for community sorting, more explanation later\n",
    "slack_dict = {}\n",
    "\n",
    "# We also want to write out the ordering and\n",
    "# the allocations\n",
    "elev_dict = {}\n",
    "\n",
    "# We also want to store the objective evaluations for\n",
    "# individual SOWs\n",
    "# The key is the policy\n",
    "# and the values are the evaluations of objectives\n",
    "# across all SOWs\n",
    "objs_all_sows = {}\n",
    "\n",
    "# Columns we sort from top to bottom\n",
    "h_sort_desc = ['npv_opt', 'avoid_rel_eal',\n",
    "              'rel_eal']\n",
    "\n",
    "# Columns we sort from bottom to top\n",
    "h_sort_asc = ['pv_resid']\n",
    "\n",
    "# Loop through ascending columns and sort, store in dict\n",
    "# We want to sort on the col, and give ties to lower\n",
    "# valued structures\n",
    "for col in h_sort_desc:\n",
    "    sort_dict[col] = sort_df.sort_values([col, 'val_s'],\n",
    "                                          ascending=[False, True]).index\n",
    "\n",
    "# Loop through descending columns and sort, store in dict\n",
    "for col in h_sort_asc:\n",
    "    sort_dict[col] = sort_df.sort_values([col, 'val_s'],\n",
    "                                          ascending=[True, True]).index\n",
    "\n",
    "# Community based sorting\n",
    "sort_c_df = sort_df.join(sovi_df, how='inner')\n",
    "\n",
    "# Columns for community sorting\n",
    "c_sort_cols = ['lmi', 'sovi', 'ovb', 'cejst']\n",
    "\n",
    "# Loop through these to subset, sort by npv_opt\n",
    "# and follow the code from above\n",
    "# Loop through ascending columns and sort, store in dict\n",
    "# We add in the remaining observations in case we have\n",
    "# budget left over\n",
    "# TODO if the sort_col is in c_sort_cols,\n",
    "# we need to add a step where we ensure\n",
    "# the majority of benefits come from\n",
    "# the sort_pri. We will need to loop separately\n",
    "# from the remainder of the sort_dict.items() (or put\n",
    "# a switch on the loop) to do the processing separately\n",
    "# and then calculate objectives all the same\n",
    "# The thing that changes is subsetting df based on budget. \n",
    "# We need to add an if/else where if sort_col is in c_sort_cols\n",
    "# there is some cross checking. It will help to have\n",
    "# a separate dict that stores the ids of sort_pri and sort_slack\n",
    "# for each of the columns in c_sort_cols. \n",
    "for col in c_sort_cols:\n",
    "    sort_temp = sort_c_df[sort_c_df[col] == True]\n",
    "    sort_pri = sort_temp.sort_values(['npv_opt', 'val_s'],\n",
    "                                     ascending=[False, True]).index\n",
    "    sort_temp2 = sort_c_df[sort_c_df[col] == False]\n",
    "    sort_slack = sort_temp2.sort_values(['npv_opt', 'val_s'],\n",
    "                                         ascending=[False, True]).index\n",
    "    sort_dict[col] = sort_pri.join(sort_slack, how='outer')\n",
    "    # If we have extra budget, we can use it for\n",
    "    # homes outside the community of interest\n",
    "    slack_dict[col] = sort_slack\n",
    "\n",
    "# Loop through budgets and the keys in sort_dict\n",
    "# Calculate the elev_inst cumulative sum and subset to\n",
    "# the value just under the budget\n",
    "# Then calculate all of the objective values\n",
    "# Store in a dict of\n",
    "# sort_key_budget keys to objectives values\n",
    "obj_dict = {}\n",
    "for budget in budgets:\n",
    "    for sort_col, fd_id in sort_dict.items():\n",
    "        # Key for obj dict\n",
    "        obj_key = sort_col + '_' + str(budget)\n",
    "        # Sort our df according to the rule at hand\n",
    "        sorted_df = sort_df.reindex(fd_id)\n",
    "\n",
    "        # Calculate the cumulative sum of elev_inst\n",
    "        sorted_df['policy_cost'] = sorted_df['elev_invst'].cumsum()\n",
    "\n",
    "        # Subset df based on budget\n",
    "        # But also with some additional rules for\n",
    "        # community based sorting\n",
    "        if sort_col in c_sort_cols:\n",
    "            # First, we get our primary df and our slack df\n",
    "            slack_ids = slack_dict[sort_col]\n",
    "            pri_df = sorted_df[~sorted_df['fd_id'].isin(slack_ids)]\n",
    "            slack_df = sorted_df[sorted_df['fd_id'].isin(slack_ids)]\n",
    "            # We need to recalculate policy costs\n",
    "            pri_df['policy_cost'] = pri_df['elev_invst'].cumsum()\n",
    "            slack_df['policy_cost'] = slack_df['elev_invst'].cumsum()\n",
    "            \n",
    "            # Now subset based on our budget\n",
    "            elevated_sub = pri_df[pri_df['policy_cost'] <= budget]\n",
    "            # Then we check if we have any budget leftover\n",
    "            slack = budget - elevated_sub['policy_cost'].max()\n",
    "            # From our slack dataframe, we'll check which\n",
    "            # rows meet this slack\n",
    "            slack_elev = slack_df[slack_df['policy_cost'] <= budget]\n",
    "            # And we also have to subset based on the majority\n",
    "            # of npv coming from our elevated_sub df\n",
    "            slack_ben_max = elevated_sub['npv_opt'].sum()/2 \n",
    "            slack_elev['npv_check'] = slack_elev['npv_opt'].cumsum()\n",
    "            slack_elev_sub = slack_elev[(slack_elev['npv_check']\n",
    "                                         <= slack_ben_max)]\n",
    "            slack_elev_sub = slack_elev_sub.drop(columns='npv_check')\n",
    "            \n",
    "            # Now concat\n",
    "            elevated = pd.concat([elevated_sub, slack_elev_sub], axis=0)\n",
    "            \n",
    "        # If not community sorting, you just go through the sorted\n",
    "        # dataframe and subset subject to your budget\n",
    "        else:\n",
    "            elevated = sorted_df[sorted_df['policy_cost'] <= budget]\n",
    "\n",
    "        # Calculated objectives\n",
    "        # We do this by finding the subset in ens_df that are elevated\n",
    "        # and the subset that are not. That's where we calculate\n",
    "        # our objectives for within each SOW, and then we take\n",
    "        # the expected values across the SOWs\n",
    "        elev_ens = ens_df[ens_df['fd_id'].isin(elevated['fd_id'])]\n",
    "        orig_ens = ens_df[~ens_df['fd_id'].isin(elevated['fd_id'])]\n",
    "\n",
    "        # For npv, we calculate the sum of npv of elevated homes\n",
    "        npvs = elev_ens.groupby('sow_ind')['npv_opt'].sum()\n",
    "        # Our objective value for this policy is the mean of that\n",
    "        npv = np.mean(npvs)\n",
    "        \n",
    "        # For up_cost, we calculate the sum of elev_invst \n",
    "        up_costs = elev_ens.groupby('sow_ind')['elev_invst'].sum()\n",
    "        # Then we take the mean\n",
    "        up_cost = np.mean(up_costs)\n",
    "\n",
    "        # Get the pv resid based on the whole set\n",
    "        # of homes with risk (there are benefits out of scope\n",
    "        # of our npv calculation which could be associated\n",
    "        # with lowering pv of residual risk, so we want\n",
    "        # policies that balance the npv of elevation while\n",
    "        # also not leaving more residual risk than needed)\n",
    "        \n",
    "        # We calculate the sum of pv_resid for elev_ens\n",
    "        # And we calculate the sum of pv_base for orig_ens\n",
    "        # Since these are indexed on sow_ind, we can add the\n",
    "        # two series. That's our resids, then we take the\n",
    "        # mean for our resid objective value for this policy\n",
    "        resid_elev = elev_ens.groupby('sow_ind')['pv_resid'].sum()\n",
    "        resid_orig = orig_ens.groupby('sow_ind')['pv_base'].sum()\n",
    "        resids = resid_elev + resid_orig\n",
    "        resid = np.mean(resids)\n",
    "\n",
    "        # Slope between residual relative risk and structure\n",
    "        # value. We want to do this for all of the houses\n",
    "        # So, we need to go back to sort_df. For homes in sort_df\n",
    "        # that are in elevated, we want to use their\n",
    "        # reid_rel_eal for \"y\". For homes that are not elevated, \n",
    "        # we want to use rel_eal for \"y\".\n",
    "        # We want to evaluate this for each SOW\n",
    "        # and then take the average of the vaues\n",
    "        x = np.log(ens_df['val_s'])\n",
    "        y = np.where(ens_df['fd_id'].isin(elevated['fd_id']),\n",
    "                     ens_df['resid_rel_eal'],\n",
    "                     ens_df['rel_eal'])\n",
    "        # So we need to take a copy of fd_id & sow_ind from ens_df\n",
    "        ens_resid = ens_df[['fd_id', 'sow_ind']].copy()\n",
    "        # We need to link our x/y for the policy\n",
    "        ens_resid['resid_rel_eal'] = y\n",
    "        ens_resid['val_s'] = x\n",
    "        # We need to group on SOW index\n",
    "        ens_r_gb = ens_resid.groupby('sow_ind')\n",
    "        # Then we evaluate the regression for the slope\n",
    "        resid_eqs = ens_r_gb.apply(lambda x: np.polyfit(x['val_s'],\n",
    "                                                       x['resid_rel_eal'],\n",
    "                                                       deg=1)[0])\n",
    "        # Take the absolute value\n",
    "        resid_eqs = np.abs(resid_eqs)\n",
    "        # Resid_eqs is across SOWs and that goes into the\n",
    "        # objs_all_sows dict\n",
    "        # Resid_eq is the mean of this, which is our objective value\n",
    "        resid_eq = np.mean(resid_eqs)\n",
    "\n",
    "        # The avoid_eq metric is the average residual eal\n",
    "        # after elevation\n",
    "        # We get this by grouping on sow_ind and calculating the\n",
    "        # mean of resid_rel_eal (avoid_eqs) and then taking \n",
    "        # the mean of that. Like above, avoid_eqs goes\n",
    "        # in the objs_all_sows dict\n",
    "        avoid_eqs = ens_r_gb['resid_rel_eal'].mean()\n",
    "        avoid_eq = np.mean(avoid_eqs)\n",
    "\n",
    "        # Store objectives in dict\n",
    "        obj_dict[obj_key] = (npv, resid, up_cost,\n",
    "                             avoid_eq,\n",
    "                             resid_eq)\n",
    "\n",
    "        # Store objective evaluations for SOWs in the dict\n",
    "        # First we can concatenate all of our series into\n",
    "        # a dataframe, then have our policy key point to that\n",
    "        objs_sows = pd.concat([npvs, resids, up_costs,\n",
    "                               avoid_eqs, resid_eqs], axis=1)\n",
    "        objs_all_sows[obj_key] = objs_sows\n",
    "        \n",
    "\n",
    "        # Need to store the fd_id that end up in elevated in a dict\n",
    "        elev_dict[obj_key] = elevated['fd_id'].astype(int).to_list()\n",
    "\n",
    "        print('Calculate objective values for policy:\\n'+\n",
    "              'Sort by ' + sort_col + '\\nWith Budget of $M ' + str(budget))"
   ]
  },
  {
   "cell_type": "code",
   "execution_count": 71,
   "id": "6374e832-5e5f-454d-8cd8-19d091667d44",
   "metadata": {
    "execution": {
     "iopub.execute_input": "2024-01-04T17:11:33.625104Z",
     "iopub.status.busy": "2024-01-04T17:11:33.624979Z",
     "iopub.status.idle": "2024-01-04T17:11:39.537868Z",
     "shell.execute_reply": "2024-01-04T17:11:39.537147Z",
     "shell.execute_reply.started": "2024-01-04T17:11:33.625092Z"
    }
   },
   "outputs": [],
   "source": [
    "# Get the dataframe of objectives\n",
    "objs = pd.DataFrame.from_dict(obj_dict).T.reset_index()\n",
    "objs.columns =  ['policy', 'npv', 'pv_resid', 'up_cost',\n",
    "                 'avoid_eq', 'resid_eq']\n",
    "objs['sort'] = objs['policy'].str.split('_').str[:-1].apply(lambda x: '_'.join(x))\n",
    "objs['budget'] = objs['policy'].str.split('_').str[-1].astype(float).astype(int)\n",
    "\n",
    "# Add a community vs. household indicator\n",
    "objs.loc[objs['sort'].isin(c_sort_cols), 'res'] = 'community'\n",
    "objs.loc[~objs['sort'].isin(c_sort_cols), 'res'] = 'household'\n",
    "\n",
    "# We also want the dataframe of objective evaluations\n",
    "# within each SOW\n",
    "d = []\n",
    "for k, v in objs_all_sows.items():\n",
    "    # Get the sow_ind column back\n",
    "    df = v.reset_index()\n",
    "    df.columns = ['sow_ind', 'npv', 'pv_resid', 'up_cost',\n",
    "                  'avoid_eq', 'resid_eq']\n",
    "    # Add the policy as a column\n",
    "    df['policy'] = k\n",
    "    df['sort'] = df['policy'].str.split('_').str[:-1].apply(lambda x: '_'.join(x))\n",
    "    df['budget'] = df['policy'].str.split('_').str[-1].astype(float).astype(int)\n",
    "    d.append(df)\n",
    "\n",
    "objs_sows = pd.concat(d, axis=0)"
   ]
  },
  {
   "cell_type": "code",
   "execution_count": 72,
   "id": "d2affeff-5fe7-49ba-87ee-8d3a6186d01b",
   "metadata": {
    "execution": {
     "iopub.execute_input": "2024-01-04T17:11:39.538528Z",
     "iopub.status.busy": "2024-01-04T17:11:39.538404Z",
     "iopub.status.idle": "2024-01-04T17:11:39.557657Z",
     "shell.execute_reply": "2024-01-04T17:11:39.557014Z",
     "shell.execute_reply.started": "2024-01-04T17:11:39.538516Z"
    }
   },
   "outputs": [],
   "source": [
    "# To get the pareto front, we need to call pareto.eps_sort\n",
    "# with list(objs.itertuples(False))\n",
    "# We also need to pass in a list of columns with our objectives\n",
    "# \"\" a list of objective columns to maximize\n",
    "obj_cols = [1, 2, 3, 4, 5]\n",
    "max_cols = [1]\n",
    "\n",
    "# A list of columns of the input files to sort (zero-indexed), \n",
    "# separated by spaces. \n",
    "# If not given, all columns of the input files will be sorted. \n",
    "# Ranges and individual column numbers may be mixed, e.g. -o 0 3-7 12\n",
    "\n",
    "\n",
    "nondominated = pareto.eps_sort([list(objs.itertuples(False))],\n",
    "                               objectives=obj_cols,\n",
    "                               maximize=max_cols)\n",
    "\n",
    "objs_c = objs[objs['res'] == 'community']\n",
    "nondominated_c = pareto.eps_sort([list(objs_c.itertuples(False))],\n",
    "                                  objectives=obj_cols,\n",
    "                                  maximize=max_cols)\n",
    "\n",
    "# Store the pareto fronts as dataframes\n",
    "full_pareto = pd.DataFrame(nondominated,\n",
    "                           columns=objs.columns)\n",
    "community_pareto = pd.DataFrame(nondominated_c,\n",
    "                                columns=objs.columns)"
   ]
  },
  {
   "cell_type": "code",
   "execution_count": 73,
   "id": "6c8e698c-7e41-47e7-b58a-e665006a5eab",
   "metadata": {
    "execution": {
     "iopub.execute_input": "2024-01-04T17:11:39.558500Z",
     "iopub.status.busy": "2024-01-04T17:11:39.558384Z",
     "iopub.status.idle": "2024-01-04T17:11:40.484233Z",
     "shell.execute_reply": "2024-01-04T17:11:40.482748Z",
     "shell.execute_reply.started": "2024-01-04T17:11:39.558490Z"
    }
   },
   "outputs": [],
   "source": [
    "# Write out the dataframe of objective values\n",
    "# and the dictionary of policy to fd_ids that are\n",
    "# elevated\n",
    "# TODO Need to add DDF_TYPE & scenario to filepaths...\n",
    "obj_filep = join(FO, 'pol_obj_vals.pqt')\n",
    "objs.to_parquet(obj_filep)\n",
    "\n",
    "elev_ids_filep = join(FO, 'pol_elev_ids.json')\n",
    "with open(elev_ids_filep, 'w') as fp:\n",
    "    json.dump(elev_dict, fp)\n",
    "\n",
    "# Write out the dataframe of the full pareto front\n",
    "# and the pareto front for community rules\n",
    "pareto_f = join(FO, 'pareto_full.pqt')\n",
    "pareto_c = join(FO, 'pareto_community.pqt')\n",
    "\n",
    "full_pareto.to_parquet(pareto_f)\n",
    "community_pareto.to_parquet(pareto_c)\n",
    "\n",
    "# Write out the dataframe of objective evaluations\n",
    "# for each SOW\n",
    "objs_sows_filep = join(FO, 'objs_sows.pqt')\n",
    "# Need to drop the bin column we made\n",
    "objs_sows.to_parquet(objs_sows_filep)"
   ]
  },
  {
   "cell_type": "code",
   "execution_count": null,
   "id": "03807376-04da-418e-8e32-6c170c6b82df",
   "metadata": {},
   "outputs": [],
   "source": []
  }
 ],
 "metadata": {
  "kernelspec": {
   "display_name": "flrisk",
   "language": "python",
   "name": "flrisk"
  },
  "language_info": {
   "codemirror_mode": {
    "name": "ipython",
    "version": 3
   },
   "file_extension": ".py",
   "mimetype": "text/x-python",
   "name": "python",
   "nbconvert_exporter": "python",
   "pygments_lexer": "ipython3",
   "version": "3.11.5"
  },
  "widgets": {
   "application/vnd.jupyter.widget-state+json": {
    "state": {},
    "version_major": 2,
    "version_minor": 0
   }
  }
 },
 "nbformat": 4,
 "nbformat_minor": 5
}

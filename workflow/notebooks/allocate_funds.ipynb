{
 "cells": [
  {
   "cell_type": "code",
   "execution_count": null,
   "id": "e7ee42e2-7802-4a2a-a303-c92dcec79139",
   "metadata": {},
   "outputs": [],
   "source": [
    "# This is where we apply all the decision rules\n",
    "# First, we do some preprocessing like getting the optimal_elev\n",
    "# for each house as well as the benefits/costs from the fixed elevation\n",
    "# standard\n",
    "# Second, we loop through a set of policy rules (I'm not quite sure\n",
    "# how to structure the loop yet) and store two things. One, \n",
    "# we need to store who gets elevated by how much, and two we need\n",
    "# to store our objective values. \n",
    "# That's it! (Famous last words, as Klaus would say)"
   ]
  }
 ],
 "metadata": {
  "kernelspec": {
   "display_name": "flrisk",
   "language": "python",
   "name": "flrisk"
  },
  "language_info": {
   "codemirror_mode": {
    "name": "ipython",
    "version": 3
   },
   "file_extension": ".py",
   "mimetype": "text/x-python",
   "name": "python",
   "nbconvert_exporter": "python",
   "pygments_lexer": "ipython3",
   "version": "3.11.5"
  },
  "widgets": {
   "application/vnd.jupyter.widget-state+json": {
    "state": {},
    "version_major": 2,
    "version_minor": 0
   }
  }
 },
 "nbformat": 4,
 "nbformat_minor": 5
}

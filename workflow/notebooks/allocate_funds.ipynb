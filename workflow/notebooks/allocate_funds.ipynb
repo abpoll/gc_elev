{
 "cells": [
  {
   "cell_type": "code",
   "execution_count": 1,
   "id": "386aba49-47a9-46b3-8e2a-df52f32f0085",
   "metadata": {
    "execution": {
     "iopub.execute_input": "2023-12-28T17:39:42.160742Z",
     "iopub.status.busy": "2023-12-28T17:39:42.160331Z",
     "iopub.status.idle": "2023-12-28T17:39:42.200985Z",
     "shell.execute_reply": "2023-12-28T17:39:42.199574Z",
     "shell.execute_reply.started": "2023-12-28T17:39:42.160696Z"
    }
   },
   "outputs": [],
   "source": [
    "%load_ext autoreload\n",
    "%autoreload 2"
   ]
  },
  {
   "cell_type": "code",
   "execution_count": 2,
   "id": "3af8230c-4c9d-4b27-9dd5-793a71a8f17b",
   "metadata": {
    "execution": {
     "iopub.execute_input": "2023-12-28T17:39:42.204634Z",
     "iopub.status.busy": "2023-12-28T17:39:42.204154Z",
     "iopub.status.idle": "2023-12-28T17:39:43.649784Z",
     "shell.execute_reply": "2023-12-28T17:39:43.648711Z",
     "shell.execute_reply.started": "2023-12-28T17:39:42.204586Z"
    }
   },
   "outputs": [],
   "source": [
    "import os\n",
    "from pathlib import Path\n",
    "from os.path import join\n",
    "import pandas as pd\n",
    "import numpy as np\n",
    "import numpy.ma as ma\n",
    "\n",
    "from util.files import *\n",
    "from util.const import *\n",
    "from util.ddfs import *"
   ]
  },
  {
   "cell_type": "code",
   "execution_count": 3,
   "id": "844d8e3e-e076-4198-af84-e2518f9e6876",
   "metadata": {
    "execution": {
     "iopub.execute_input": "2023-12-28T17:39:43.652266Z",
     "iopub.status.busy": "2023-12-28T17:39:43.651969Z",
     "iopub.status.idle": "2023-12-28T17:39:43.667991Z",
     "shell.execute_reply": "2023-12-28T17:39:43.666972Z",
     "shell.execute_reply.started": "2023-12-28T17:39:43.652246Z"
    }
   },
   "outputs": [],
   "source": [
    "# FIPS will be passed in as an argument, one day...\n",
    "FIPS = '34007'\n",
    "# STATE ABBR and NATION will be derived from FIPS, one day...\n",
    "STATEABBR = 'NJ'\n",
    "NATION = 'US'\n",
    "\n",
    "# I think it also could make sense to pass in scenario and\n",
    "# ddf type as arguments. For main results\n",
    "# we're using 'mid' and 'naccs' but for generating\n",
    "# our sensitivity analysis results we will need to pass\n",
    "# in the other scenarios and 'hazus'\n",
    "# Very well suited for snakemake :) \n",
    "SCENARIO = 'Mid'\n",
    "DDF_TYPE = 'naccs'"
   ]
  },
  {
   "cell_type": "markdown",
   "id": "73fe3e6a-9afe-460e-b0bc-5cd3a5aaf419",
   "metadata": {},
   "source": [
    "# Load and Prepare Data"
   ]
  },
  {
   "cell_type": "code",
   "execution_count": 214,
   "id": "8e52ad1d-dc21-4e5c-bb38-9762ab207cd5",
   "metadata": {
    "execution": {
     "iopub.execute_input": "2023-12-28T22:06:23.519719Z",
     "iopub.status.busy": "2023-12-28T22:06:23.519291Z",
     "iopub.status.idle": "2023-12-28T22:06:26.184718Z",
     "shell.execute_reply": "2023-12-28T22:06:26.182824Z",
     "shell.execute_reply.started": "2023-12-28T22:06:23.519684Z"
    }
   },
   "outputs": [],
   "source": [
    "# Load the ensemble data, along with the optimal & dfe\n",
    "# elevation results\n",
    "opt_elev_filename = 'ens_opt_elev_' + DDF_TYPE + '_' + SCENARIO + '.pqt'\n",
    "dfe_elev_filename = 'ens_dfe_elev_' + DDF_TYPE + '_' + SCENARIO + '.pqt'\n",
    "ens_filename = 'ensemble_' + SCENARIO + '.pqt'\n",
    "\n",
    "ens_df = pd.read_parquet(join(FO, ens_filename))\n",
    "opt_elev_df = pd.read_parquet(join(EXP_DIR_I, FIPS, opt_elev_filename))\n",
    "dfe_elev_df = pd.read_parquet(join(EXP_DIR_I, FIPS, dfe_elev_filename))"
   ]
  },
  {
   "cell_type": "code",
   "execution_count": 215,
   "id": "28f4df0b-9d37-4511-9cb7-f31f135ef9bf",
   "metadata": {
    "execution": {
     "iopub.execute_input": "2023-12-28T22:06:26.187273Z",
     "iopub.status.busy": "2023-12-28T22:06:26.186792Z",
     "iopub.status.idle": "2023-12-28T22:06:29.396715Z",
     "shell.execute_reply": "2023-12-28T22:06:29.394796Z",
     "shell.execute_reply.started": "2023-12-28T22:06:26.187226Z"
    }
   },
   "outputs": [],
   "source": [
    "# Merge on fd_id and sow_ind to get eal_avoid, elev_cost, and opt_elev\n",
    "# into the ensemble\n",
    "ens_df = ens_df.merge(opt_elev_df,\n",
    "                      on=['fd_id', 'sow_ind'],\n",
    "                      suffixes=['','_opt'])\n",
    "# Merge dfe_elev_df as well, adding suffixes\n",
    "ens_df = ens_df.merge(dfe_elev_df,\n",
    "                      on=['fd_id', 'sow_ind'],\n",
    "                      suffixes=['','_dfe'])"
   ]
  },
  {
   "cell_type": "code",
   "execution_count": 216,
   "id": "5a0b81e3-e5ce-467e-b34a-ee5dabbe9e06",
   "metadata": {
    "execution": {
     "iopub.execute_input": "2023-12-28T22:06:31.646586Z",
     "iopub.status.busy": "2023-12-28T22:06:31.646312Z",
     "iopub.status.idle": "2023-12-28T22:06:31.682940Z",
     "shell.execute_reply": "2023-12-28T22:06:31.681503Z",
     "shell.execute_reply.started": "2023-12-28T22:06:31.646566Z"
    }
   },
   "outputs": [],
   "source": [
    "# We also need to load in the links between structures and the\n",
    "# social vulnerability data for sorting rules\n",
    "sovi_filepath = join(VULN_DIR_I, 'social', FIPS, 'c_indicators.pqt')\n",
    "sovi_df = pd.read_parquet(sovi_filepath)"
   ]
  },
  {
   "cell_type": "code",
   "execution_count": 217,
   "id": "8a1468a2-3843-4c49-8648-113baa1964d3",
   "metadata": {
    "execution": {
     "iopub.execute_input": "2023-12-28T22:06:32.462196Z",
     "iopub.status.busy": "2023-12-28T22:06:32.461775Z",
     "iopub.status.idle": "2023-12-28T22:06:33.034186Z",
     "shell.execute_reply": "2023-12-28T22:06:33.032842Z",
     "shell.execute_reply.started": "2023-12-28T22:06:32.462157Z"
    }
   },
   "outputs": [],
   "source": [
    "# Download discount rate chains from external source\n",
    "# The rows correspond to house lifetime, indexed at 0\n",
    "# The columns correspond to states of the world, indexed at 0\n",
    "dr_chains = pd.read_csv(join(FE, 'dr_chains.csv'),\n",
    "                        header=None)\n",
    "\n",
    "# Following https://www.journals.uchicago.edu/doi/10.1086/718145\n",
    "# and https://doi.org/10.1162/rest_a_01109, replace values < 0 with 0\n",
    "# The economic argument is that descriptive discount rates will not\n",
    "# be less than 0 for long. Bauer and Rudebusch (the latter link)\n",
    "# have ~ 3 paragraphs addressing the mechanisms behind this\n",
    "# which I have paraphrased badly here. Some of the intuition is that\n",
    "# when nominal rates are low and inflation is high, households\n",
    "# can hold cash and reduce spending, bringing inflation down\n",
    "# and real rates back up. They offer a more complex, comprehsneive,\n",
    "# and convincing argument. I have had some conversations about\n",
    "# scrutinizing this assumption in a future paper. \n",
    "dr_chains[dr_chains < 0] = 0\n",
    "\n",
    "# Need to turn these into discount factors, following\n",
    "# Maggie's code\n",
    "# We need the rates as percentages, then we take the cumulative\n",
    "# sum of these such that the discount factor in year t\n",
    "# is the sum of all rates leading to that\n",
    "# Then we take e^- of that value\n",
    "dr_factors = np.exp(-(dr_chains/100).cumsum())"
   ]
  },
  {
   "cell_type": "code",
   "execution_count": 218,
   "id": "f760620e-fd54-4173-bea9-71fd3286eab7",
   "metadata": {
    "execution": {
     "iopub.execute_input": "2023-12-28T22:06:33.196603Z",
     "iopub.status.busy": "2023-12-28T22:06:33.196394Z",
     "iopub.status.idle": "2023-12-28T22:06:33.220232Z",
     "shell.execute_reply": "2023-12-28T22:06:33.218543Z",
     "shell.execute_reply.started": "2023-12-28T22:06:33.196587Z"
    }
   },
   "outputs": [],
   "source": [
    "# Generate house lifetime draws from the weibull distribution\n",
    "# following https://www.nature.com/articles/s41467-020-19188-9\n",
    "# Weibull with shape and scale parameters of 2.8 and 73.5\n",
    "# In numpy, you generate draws from a 1 parameter Weibull\n",
    "# using the shape parameter, and multiply these draws from\n",
    "# the scale parameter\n",
    "# It's likely that house lifetime distributions are different for\n",
    "# elevated and non-elevated properties exposed to flooding, but\n",
    "# we don't have this information. While the method can be improved,\n",
    "# Maggie's paper demonstrates the importance of accounting for\n",
    "# house lifetime uncertainty in estimating project benefits. In\n",
    "# particular, when discount rates in the future are low and project\n",
    "# lifetimes are long, the net benefits will be higher than\n",
    "# under the standard procedure (moderate discount rate and\n",
    "# 30 year lifetime). The standard procedure -- which also requires\n",
    "# that the project BCR > 1 -- will tend to under-prefer\n",
    "# investment in lower valued structures which need a longer time\n",
    "# to exceed the BCR > 1 threshold. So again, while future work\n",
    "# should improve on this, accounting for house lifetime uncertainty\n",
    "# matters when you're dealing with a BCR > 1 rule, as we are. \n",
    "# Since this is about the interaction with the discount rate, and\n",
    "# we don't have the ability to associate the parameters with\n",
    "# housing characteristics, I will use the same draws for each house\n",
    "# and interpret this as uncertainty in the house lifetime parameter\n",
    "# whose benchmark value is 30. \n",
    "\n",
    "rng = np.random.default_rng()\n",
    "lifetime = rng.weibull(W_SHAPE, N_SOW)*W_SCALE"
   ]
  },
  {
   "cell_type": "markdown",
   "id": "48d10751-5e7a-4701-ac59-884d436ec023",
   "metadata": {},
   "source": [
    "# Calculate net present benefits"
   ]
  },
  {
   "cell_type": "code",
   "execution_count": 219,
   "id": "9f73e600-5684-492e-9e34-481ad815004e",
   "metadata": {
    "execution": {
     "iopub.execute_input": "2023-12-28T22:06:34.877299Z",
     "iopub.status.busy": "2023-12-28T22:06:34.876875Z",
     "iopub.status.idle": "2023-12-28T22:06:34.914543Z",
     "shell.execute_reply": "2023-12-28T22:06:34.912698Z",
     "shell.execute_reply.started": "2023-12-28T22:06:34.877262Z"
    }
   },
   "outputs": [],
   "source": [
    "# In each SOW, the optimal elevation value corresponds to a discount \n",
    "# rate chain realization over N years, L of which the proeprty will\n",
    "# still be around for (L draws from the lifetime series)\n",
    "# One approach to do this relatively quickly is to process everything\n",
    "# for matrix multiplication. If we can take the eal_avoid series\n",
    "# and expand it column-wise based on house lifetime draws (i.e.\n",
    "# repeat the value for the house lifetime draw then turn to 0)\n",
    "# then we can do matrix multiplication on the dr_chains dataframe\n",
    "# which we would have to repeat column-wise to match\n",
    "# the number of structures we have. If memory allows, I think this is \n",
    "# faster than doing a groupby and apply. This is also\n",
    "# embarassingly parallel, so we could do this step in batches on\n",
    "# our cluster. If I can do it in a single script, I will, because\n",
    "# that workflow is likely more widely accessible. So, I will first\n",
    "# try making the big matrices and doing multiplication, then\n",
    "# I'll use the groupby/apply approach if I have to, and if I need to\n",
    "# I will move to batch processing\n",
    "# Because we are dealing with a small number of structures, the \n",
    "# first approach with matrix multiplication works great. \n"
   ]
  },
  {
   "cell_type": "code",
   "execution_count": 220,
   "id": "3aa42210-d28a-47cf-88af-a8f9fed27a70",
   "metadata": {
    "execution": {
     "iopub.execute_input": "2023-12-28T22:06:35.121724Z",
     "iopub.status.busy": "2023-12-28T22:06:35.121222Z",
     "iopub.status.idle": "2023-12-28T22:06:35.156144Z",
     "shell.execute_reply": "2023-12-28T22:06:35.154332Z",
     "shell.execute_reply.started": "2023-12-28T22:06:35.121677Z"
    }
   },
   "outputs": [],
   "source": [
    "# We need net present values of the following\n",
    "# benefits from optimal elevation\n",
    "# benefits from elevation to design flood elevation standards (BFE + 4)\n",
    "# new - old eal (new under both elevation scenarios)\n"
   ]
  },
  {
   "cell_type": "code",
   "execution_count": 237,
   "id": "2a3da868-dc0e-4d1d-b4f3-a6356e89625f",
   "metadata": {
    "execution": {
     "iopub.execute_input": "2023-12-28T22:36:41.674333Z",
     "iopub.status.busy": "2023-12-28T22:36:41.673758Z",
     "iopub.status.idle": "2023-12-28T22:36:55.933800Z",
     "shell.execute_reply": "2023-12-28T22:36:55.932846Z",
     "shell.execute_reply.started": "2023-12-28T22:36:41.674286Z"
    }
   },
   "outputs": [],
   "source": [
    "# Use the lifetime series to create a mask\n",
    "# Can adapt this code\n",
    "# https://stackoverflow.com/questions/55190295/\n",
    "# create-a-2-d-mask-from-a-1-d-numpy-array\n",
    "# This code is complex, so I want to explain what is happening. You\n",
    "# can also look at the stackoverflow link which provides helpful\n",
    "# information. \n",
    "# So, let's start from the inside out. The first command \n",
    "# is np.less.outer(lifetime, np.arange(100))\n",
    "# This takes the lifetime array, which is N_SOW in length\n",
    "# and broadcasts that with outer into a N_SOW*100 shape 2d array\n",
    "# 100 is the max lifetime we consider since discount rates are\n",
    "# projected through 2100. We're comparing the values in lifetime\n",
    "# to the values in the np.arange(100) array, and when the lifetime\n",
    "# value is less, the element is assigned True. This creates\n",
    "# a mask of True/False values which we need to match up to\n",
    "# our 100x2390000 matrix of eal_avoid values. We do this first by\n",
    "# transposing, then tiling along the columns the same number\n",
    "# of times as we have structures in our sample. \n",
    "lifetime_mask = np.tile(np.less.outer(lifetime, np.arange(100)).T,\n",
    "                        (1, len(ens_df['fd_id'].unique())))\n",
    "\n",
    "# avoided losses from optimal elevation matrix\n",
    "eal_avoid_opt = np.tile(ens_df['eal_avoid'], (100, 1))\n",
    "# same for dfe\n",
    "eal_avoid_dfe = np.tile(ens_df['eal_avoid_dfe'], (100, 1))\n",
    "# Apply the lifetime_mask to eal_avoid\n",
    "eal_av_life_opt = ma.masked_array(eal_avoid_opt, mask=lifetime_mask, fill_value=0)\n",
    "# Same for dfe\n",
    "eal_av_life_dfe = ma.masked_array(eal_avoid_dfe, mask=lifetime_mask, fill_value=0)\n",
    "\n",
    "# discount rate matrix\n",
    "dr_matrix = np.tile(dr_factors, (1, len(ens_df['fd_id'].unique())))\n",
    "\n",
    "# net present value of benefits from matrix multiplication\n",
    "pv_benefits_opt = (eal_av_life_opt*dr_matrix).sum(axis=0)\n",
    "pv_benefits_dfe = (eal_av_life_dfe*dr_matrix).sum(axis=0)\n",
    "\n",
    "# Add back into ens_df\n",
    "ens_df['pv_opt_elev'] = pv_benefits_opt.data\n",
    "ens_df['pv_dfe_elev'] = pv_benefits_dfe.data\n",
    "\n",
    "# Need to also get the present values of the r_eal and r_eal_dfe\n",
    "# and the DDF_TYPE + _eal. For the first two, we add these\n",
    "# back to invst_cost to get the pv of the costs which\n",
    "# we need for calculating net present values of the elevations\n",
    "# We're repeating the procedure from above\n",
    "r_eal_opt = np.tile(ens_df['r_eal'], (100, 1))\n",
    "r_eal_dfe = np.tile(ens_df['r_eal_dfe'], (100, 1))\n",
    "r_eal_opt_life = ma.masked_array(r_eal_opt, mask=lifetime_mask, fill_value=0)\n",
    "r_eal_dfe_life = ma.masked_array(r_eal_dfe, mask=lifetime_mask, fill_value=0)\n",
    "pv_r_eal_opt = (r_eal_opt_life*dr_matrix).sum(axis=0)\n",
    "pv_r_eal_dfe = (r_eal_dfe_life*dr_matrix).sum(axis=0)\n",
    "ens_df['pv_r_eal_opt'] = pv_r_eal_opt.data\n",
    "ens_df['pv_r_eal_dfe'] = pv_r_eal_dfe.data\n",
    "# We're doing it for \"base\" eal as well\n",
    "base_eal = np.tile(ens_df[DDF_TYPE + '_eal'], (100, 1))\n",
    "base_eal_life = ma.masked_array(base_eal, mask=lifetime_mask, fill_value=0)\n",
    "pv_base_eal = (base_eal_life*dr_matrix).sum(axis=0)\n",
    "ens_df['pv_base_eal'] = pv_base_eal.data\n",
    "\n",
    "# Now add pv of residual eal to the invst_cost for the pv_cost columns\n",
    "ens_df['pv_cost_opt'] = ens_df['elev_invst'] + ens_df['pv_r_eal_opt']\n",
    "ens_df['pv_cost_dfe'] = ens_df['elev_invst_dfe'] + ens_df['pv_r_eal_dfe']"
   ]
  },
  {
   "cell_type": "code",
   "execution_count": 239,
   "id": "33645a90-3ed2-4b48-b53c-becef9a2eff8",
   "metadata": {
    "execution": {
     "iopub.execute_input": "2023-12-28T22:37:02.805986Z",
     "iopub.status.busy": "2023-12-28T22:37:02.805773Z",
     "iopub.status.idle": "2023-12-28T22:37:03.477561Z",
     "shell.execute_reply": "2023-12-28T22:37:03.476728Z",
     "shell.execute_reply.started": "2023-12-28T22:37:02.805970Z"
    }
   },
   "outputs": [],
   "source": [
    "# Now get the difference of benefits and costs\n",
    "ens_df['npv_opt'] = ens_df['pv_opt_elev'] - ens_df['pv_cost_opt']\n",
    "ens_df['npv_dfe'] = ens_df['pv_dfe_elev'] - ens_df['pv_cost_dfe']\n",
    "# And the ratio\n",
    "ens_df['bcr_opt'] = ens_df['pv_opt_elev']/ens_df['pv_cost_opt']\n",
    "ens_df['bcr_dfe'] = ens_df['pv_dfe_elev']/ens_df['pv_cost_dfe']"
   ]
  },
  {
   "cell_type": "code",
   "execution_count": 245,
   "id": "76140d70-1bfe-4359-9526-756fb20fbe5c",
   "metadata": {
    "execution": {
     "iopub.execute_input": "2023-12-28T22:40:46.026145Z",
     "iopub.status.busy": "2023-12-28T22:40:46.025915Z",
     "iopub.status.idle": "2023-12-28T22:40:46.286393Z",
     "shell.execute_reply": "2023-12-28T22:40:46.285416Z",
     "shell.execute_reply.started": "2023-12-28T22:40:46.026128Z"
    }
   },
   "outputs": [
    {
     "data": {
      "text/plain": [
       "Text(0.5, 0, 'BCR From Optimal Flood Elevation Standard')"
      ]
     },
     "execution_count": 245,
     "metadata": {},
     "output_type": "execute_result"
    },
    {
     "data": {
      "image/png": "[encoded data removed]",
      "text/plain": [
       "<Figure size 1000x600 with 1 Axes>"
      ]
     },
     "metadata": {},
     "output_type": "display_data"
    }
   ],
   "source": [
    "temp = ens_df.groupby('fd_id')['bcr_opt'].mean()\n",
    "temp2 = ens_df.groupby('fd_id')['bcr_dfe'].mean()\n",
    "comp = pd.concat([temp, temp2], axis=1)\n",
    "\n",
    "import matplotlib.pyplot as plt\n",
    "fig, ax = plt.subplots(figsize=(10, 6))\n",
    "comp.plot(x='bcr_opt', y='bcr_dfe', ax=ax, kind='scatter')\n",
    "ax.axline([0, 0], [1, 1])\n",
    "ax.set_ylabel('BCR From Design Flood Elevation Standard', size=12)\n",
    "ax.set_xlabel('BCR From Optimal Flood Elevation Standard', size=12)\n"
   ]
  },
  {
   "cell_type": "code",
   "execution_count": null,
   "id": "904ea618-98ba-41ad-ae30-514bc004a74b",
   "metadata": {},
   "outputs": [],
   "source": []
  },
  {
   "cell_type": "markdown",
   "id": "1ca01e4b-7a6b-4a62-b2d1-afceea043938",
   "metadata": {},
   "source": [
    "# Allocate funding"
   ]
  },
  {
   "cell_type": "code",
   "execution_count": null,
   "id": "1325c0f3-bd09-439c-af3f-329a3843fe75",
   "metadata": {},
   "outputs": [],
   "source": [
    "# Now that we have these values we can start sorting! \n",
    "# The sovi_df we loaded has the fd_id which are in different\n",
    "# tracts\n",
    "# We still need to calculate the household metrics for sorting\n",
    "# We will sort until we expend our budget, which goes from 1 mil\n",
    "# to 36 mil in investment costs in 5 mil increments\n",
    "# For half the policies, the project BCR must be > 1, for\n",
    "# the other half, the project BCR can be less than 1\n",
    "# I don't think this rule will make a big difference in \n",
    "# our case study, but we shall see"
   ]
  }
 ],
 "metadata": {
  "kernelspec": {
   "display_name": "flrisk",
   "language": "python",
   "name": "flrisk"
  },
  "language_info": {
   "codemirror_mode": {
    "name": "ipython",
    "version": 3
   },
   "file_extension": ".py",
   "mimetype": "text/x-python",
   "name": "python",
   "nbconvert_exporter": "python",
   "pygments_lexer": "ipython3",
   "version": "3.11.5"
  },
  "widgets": {
   "application/vnd.jupyter.widget-state+json": {
    "state": {},
    "version_major": 2,
    "version_minor": 0
   }
  }
 },
 "nbformat": 4,
 "nbformat_minor": 5
}

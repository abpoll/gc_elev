{
 "cells": [
  {
   "cell_type": "code",
   "execution_count": 3,
   "id": "386aba49-47a9-46b3-8e2a-df52f32f0085",
   "metadata": {
    "execution": {
     "iopub.execute_input": "2024-02-29T17:30:36.491899Z",
     "iopub.status.busy": "2024-02-29T17:30:36.491345Z",
     "iopub.status.idle": "2024-02-29T17:30:36.530152Z",
     "shell.execute_reply": "2024-02-29T17:30:36.528677Z",
     "shell.execute_reply.started": "2024-02-29T17:30:36.491849Z"
    }
   },
   "outputs": [],
   "source": [
    "%load_ext autoreload\n",
    "%autoreload 2"
   ]
  },
  {
   "cell_type": "code",
   "execution_count": 4,
   "id": "3af8230c-4c9d-4b27-9dd5-793a71a8f17b",
   "metadata": {
    "execution": {
     "iopub.execute_input": "2024-02-29T17:30:36.676832Z",
     "iopub.status.busy": "2024-02-29T17:30:36.676321Z",
     "iopub.status.idle": "2024-02-29T17:30:38.120144Z",
     "shell.execute_reply": "2024-02-29T17:30:38.118927Z",
     "shell.execute_reply.started": "2024-02-29T17:30:36.676781Z"
    }
   },
   "outputs": [],
   "source": [
    "import os\n",
    "from pathlib import Path\n",
    "from os.path import join\n",
    "import pandas as pd\n",
    "import numpy as np\n",
    "import json\n",
    "\n",
    "from util.files import *\n",
    "from util.const import *\n",
    "from util.ddfs import *"
   ]
  },
  {
   "cell_type": "code",
   "execution_count": 5,
   "id": "844d8e3e-e076-4198-af84-e2518f9e6876",
   "metadata": {
    "execution": {
     "iopub.execute_input": "2024-02-29T17:30:38.121529Z",
     "iopub.status.busy": "2024-02-29T17:30:38.121182Z",
     "iopub.status.idle": "2024-02-29T17:30:38.138950Z",
     "shell.execute_reply": "2024-02-29T17:30:38.137891Z",
     "shell.execute_reply.started": "2024-02-29T17:30:38.121508Z"
    }
   },
   "outputs": [],
   "source": [
    "# FIPS will be passed in as an argument, one day...\n",
    "FIPS = '34007'\n",
    "# STATE ABBR and NATION will be derived from FIPS, one day...\n",
    "STATEABBR = 'NJ'\n",
    "NATION = 'US'\n",
    "\n",
    "# I think it also could make sense to pass in scenario and\n",
    "# ddf type as arguments. For main results\n",
    "# we're using 'mid' and 'naccs' but for generating\n",
    "# our sensitivity analysis results we will need to pass\n",
    "# in the other scenarios and 'hazus'\n",
    "scenarios = ['Lower', 'Mid', 'Upper']\n",
    "ddf_types = ['naccs', 'hazus']"
   ]
  },
  {
   "cell_type": "markdown",
   "id": "73fe3e6a-9afe-460e-b0bc-5cd3a5aaf419",
   "metadata": {},
   "source": [
    "# Load and Prepare Data"
   ]
  },
  {
   "cell_type": "code",
   "execution_count": 6,
   "id": "8e52ad1d-dc21-4e5c-bb38-9762ab207cd5",
   "metadata": {
    "execution": {
     "iopub.execute_input": "2024-02-29T17:30:38.139698Z",
     "iopub.status.busy": "2024-02-29T17:30:38.139510Z",
     "iopub.status.idle": "2024-02-29T17:31:26.481649Z",
     "shell.execute_reply": "2024-02-29T17:31:26.480872Z",
     "shell.execute_reply.started": "2024-02-29T17:30:38.139679Z"
    }
   },
   "outputs": [
    {
     "name": "stdout",
     "output_type": "stream",
     "text": [
      "Load data: Lower\n",
      "Load opt elev: naccs\n",
      "Store ensemble df\n",
      "\n",
      "Store df for sorting\n",
      "\n",
      "Load opt elev: hazus\n",
      "Store ensemble df\n",
      "\n",
      "Store df for sorting\n",
      "\n",
      "Load data: Mid\n",
      "Load opt elev: naccs\n",
      "Store ensemble df\n",
      "\n",
      "Store df for sorting\n",
      "\n",
      "Load opt elev: hazus\n",
      "Store ensemble df\n",
      "\n",
      "Store df for sorting\n",
      "\n",
      "Load data: Upper\n",
      "Load opt elev: naccs\n",
      "Store ensemble df\n",
      "\n",
      "Store df for sorting\n",
      "\n",
      "Load opt elev: hazus\n",
      "Store ensemble df\n",
      "\n",
      "Store df for sorting\n",
      "\n"
     ]
    }
   ],
   "source": [
    "# Load the ensemble data, along with the optimal\n",
    "# elevation results\n",
    "sort_dfs = {}\n",
    "ens_dfs = {}\n",
    "\n",
    "for scen in scenarios:\n",
    "    ens_filep = join(FO, 'ensemble_' + scen + '.pqt')\n",
    "    ens_df = pd.read_parquet(ens_filep)\n",
    "    print('Load data: ' + scen)\n",
    "\n",
    "    for ddf_type in ddf_types:\n",
    "        opt_elev_filename = 'ens_opt_elev_' + ddf_type + '_' + scen + '.pqt'\n",
    "        opt_elev_df = pd.read_parquet(join(EXP_DIR_I, FIPS, opt_elev_filename))\n",
    "        print('Load opt elev: ' + ddf_type)\n",
    "        \n",
    "        # Merge on fd_id and sow_ind to get eal_avoid, elev_cost, and opt_elev\n",
    "        # into the ensemble\n",
    "        ens_df_m = ens_df.merge(opt_elev_df,\n",
    "                                on=['fd_id', 'sow_ind'],\n",
    "                                suffixes=['','_opt'])\n",
    "\n",
    "        # Add metrics for objectives that we don't have yet\n",
    "        ens_df_m['rel_eal'] = ens_df_m['base_eal']/ens_df_m['val_s']\n",
    "        ens_df_m['npv_opt'] = ens_df_m['pv_avoid'] - ens_df_m['pv_cost']\n",
    "\n",
    "        ens_dfs[scen + '_' + ddf_type] = ens_df_m\n",
    "\n",
    "        print('Store ensemble df\\n')\n",
    "        \n",
    "        # We need to group by on fd_id and aggregate on our sorting columns\n",
    "        sub_cols = ['pv_resid', 'npv_opt', 'fd_id', 'elev_invst',\n",
    "                    'avoid_rel_eal', 'rel_eal', 'val_s']\n",
    "        sort_df = ens_df_m.groupby('fd_id')[sub_cols].mean()\n",
    "        \n",
    "        sort_dfs[scen + '_' + ddf_type] = sort_df\n",
    "\n",
    "        print('Store df for sorting\\n')"
   ]
  },
  {
   "cell_type": "code",
   "execution_count": 6,
   "id": "5a0b81e3-e5ce-467e-b34a-ee5dabbe9e06",
   "metadata": {
    "execution": {
     "iopub.execute_input": "2024-02-28T21:14:16.322580Z",
     "iopub.status.busy": "2024-02-28T21:14:16.322244Z",
     "iopub.status.idle": "2024-02-28T21:14:16.349678Z",
     "shell.execute_reply": "2024-02-28T21:14:16.348481Z",
     "shell.execute_reply.started": "2024-02-28T21:14:16.322563Z"
    }
   },
   "outputs": [],
   "source": [
    "# We also need to load in the links between structures and the\n",
    "# social vulnerability data for sorting rules\n",
    "sovi_filepath = join(VULN_DIR_I, 'social', FIPS, 'c_indicators.pqt')\n",
    "sovi_df = pd.read_parquet(sovi_filepath)\n",
    "\n",
    "# Merge these in later after we've aggregated ens_df on the\n",
    "# column we're sorting on for these (npv_opt). The way the\n",
    "# sorting will work for these is subset to communities that\n",
    "# meet the indicator and then spend our budget based on\n",
    "# npv_opt. "
   ]
  },
  {
   "cell_type": "markdown",
   "id": "1ca01e4b-7a6b-4a62-b2d1-afceea043938",
   "metadata": {},
   "source": [
    "# Allocate funding"
   ]
  },
  {
   "cell_type": "code",
   "execution_count": 7,
   "id": "1325c0f3-bd09-439c-af3f-329a3843fe75",
   "metadata": {
    "execution": {
     "iopub.execute_input": "2024-02-28T21:14:17.073907Z",
     "iopub.status.busy": "2024-02-28T21:14:17.072815Z",
     "iopub.status.idle": "2024-02-28T21:14:17.105046Z",
     "shell.execute_reply": "2024-02-28T21:14:17.103854Z",
     "shell.execute_reply.started": "2024-02-28T21:14:17.073856Z"
    }
   },
   "outputs": [],
   "source": [
    "# Now that we have these values we can start sorting! \n",
    "\n",
    "# We will sort until we expend our budget. We get these values\n",
    "# from the hma projects dataset for elevation projects\n",
    "# We will sample by 500K until 6 million (roughly 95th%ile)\n",
    "# then by 1M until 15 million (roughly 99th%ile)\n",
    "budgets_typ = np.arange(1e6, 6.1e6, 5e5)\n",
    "budgets_high = np.arange(7e6, 15.1e6, 1e6)\n",
    "budgets = np.append(budgets_typ, budgets_high)\n",
    "\n",
    "# To calculate objectives\n",
    "# We need to evaluate the objective in each SOW\n",
    "# and then get our across SOW value\n",
    "# For mean(npv), we take the sum of npv_opt (from elevated homes) \n",
    "# in each SOW and then take the mean of that\n",
    "# For mean(up_cost), we take the sum of elev_invst(from elevated homes)\n",
    "# in each SOW and then take the mean of that\n",
    "# For mean(pv_resid), we take the sum of pv_resid (for elevated)\n",
    "# and pv_base (for not elevated) in each SOW and then take the mean\n",
    "# For mean(resid_rel_eal), we take the mean of resid_rel_eal\n",
    "# (for elevated) and rel_eal (for not elevated) in each SOW and\n",
    "# then take the mean\n",
    "# For mean(slope_resid_rel_eal), we find the slope of the \n",
    "# resid_rel_eal & rel_eal (based on elevated homes) in each SOW\n",
    "# and tehn take the mean"
   ]
  },
  {
   "cell_type": "code",
   "execution_count": 71,
   "id": "b2c4e8c4-bfd3-4f60-a215-6e01ec8384ea",
   "metadata": {
    "execution": {
     "iopub.execute_input": "2024-02-28T18:52:27.651867Z",
     "iopub.status.busy": "2024-02-28T18:52:27.651333Z",
     "iopub.status.idle": "2024-02-28T19:39:56.286955Z",
     "shell.execute_reply": "2024-02-28T19:39:56.286073Z",
     "shell.execute_reply.started": "2024-02-28T18:52:27.651817Z"
    },
    "scrolled": true
   },
   "outputs": [
    {
     "name": "stdout",
     "output_type": "stream",
     "text": [
      "Scenario: Lower_naccs\n",
      "Calculate objective values for policy:\n",
      "Sort by npv_opt\n",
      "With Budget of $M 1000000.0\n",
      "Calculate objective values for policy:\n",
      "Sort by avoid_rel_eal\n",
      "With Budget of $M 1000000.0\n",
      "Calculate objective values for policy:\n",
      "Sort by rel_eal\n",
      "With Budget of $M 1000000.0\n"
     ]
    },
    {
     "name": "stderr",
     "output_type": "stream",
     "text": [
      "/tmp/ipykernel_1041572/369906587.py:94: SettingWithCopyWarning: \n",
      "A value is trying to be set on a copy of a slice from a DataFrame.\n",
      "Try using .loc[row_indexer,col_indexer] = value instead\n",
      "\n",
      "See the caveats in the documentation: https://pandas.pydata.org/pandas-docs/stable/user_guide/indexing.html#returning-a-view-versus-a-copy\n",
      "  pri_df['policy_cost'] = pri_df['elev_invst'].cumsum()\n",
      "/tmp/ipykernel_1041572/369906587.py:95: SettingWithCopyWarning: \n",
      "A value is trying to be set on a copy of a slice from a DataFrame.\n",
      "Try using .loc[row_indexer,col_indexer] = value instead\n",
      "\n",
      "See the caveats in the documentation: https://pandas.pydata.org/pandas-docs/stable/user_guide/indexing.html#returning-a-view-versus-a-copy\n",
      "  slack_df['policy_cost'] = slack_df['elev_invst'].cumsum()\n"
     ]
    },
    {
     "name": "stdout",
     "output_type": "stream",
     "text": [
      "Calculate objective values for policy:\n",
      "Sort by lmi\n",
      "With Budget of $M 1000000.0\n"
     ]
    },
    {
     "name": "stderr",
     "output_type": "stream",
     "text": [
      "/tmp/ipykernel_1041572/369906587.py:94: SettingWithCopyWarning: \n",
      "A value is trying to be set on a copy of a slice from a DataFrame.\n",
      "Try using .loc[row_indexer,col_indexer] = value instead\n",
      "\n",
      "See the caveats in the documentation: https://pandas.pydata.org/pandas-docs/stable/user_guide/indexing.html#returning-a-view-versus-a-copy\n",
      "  pri_df['policy_cost'] = pri_df['elev_invst'].cumsum()\n",
      "/tmp/ipykernel_1041572/369906587.py:95: SettingWithCopyWarning: \n",
      "A value is trying to be set on a copy of a slice from a DataFrame.\n",
      "Try using .loc[row_indexer,col_indexer] = value instead\n",
      "\n",
      "See the caveats in the documentation: https://pandas.pydata.org/pandas-docs/stable/user_guide/indexing.html#returning-a-view-versus-a-copy\n",
      "  slack_df['policy_cost'] = slack_df['elev_invst'].cumsum()\n"
     ]
    },
    {
     "name": "stdout",
     "output_type": "stream",
     "text": [
      "Calculate objective values for policy:\n",
      "Sort by ovb\n",
      "With Budget of $M 1000000.0\n"
     ]
    },
    {
     "name": "stderr",
     "output_type": "stream",
     "text": [
      "/tmp/ipykernel_1041572/369906587.py:94: SettingWithCopyWarning: \n",
      "A value is trying to be set on a copy of a slice from a DataFrame.\n",
      "Try using .loc[row_indexer,col_indexer] = value instead\n",
      "\n",
      "See the caveats in the documentation: https://pandas.pydata.org/pandas-docs/stable/user_guide/indexing.html#returning-a-view-versus-a-copy\n",
      "  pri_df['policy_cost'] = pri_df['elev_invst'].cumsum()\n",
      "/tmp/ipykernel_1041572/369906587.py:95: SettingWithCopyWarning: \n",
      "A value is trying to be set on a copy of a slice from a DataFrame.\n",
      "Try using .loc[row_indexer,col_indexer] = value instead\n",
      "\n",
      "See the caveats in the documentation: https://pandas.pydata.org/pandas-docs/stable/user_guide/indexing.html#returning-a-view-versus-a-copy\n",
      "  slack_df['policy_cost'] = slack_df['elev_invst'].cumsum()\n",
      "/tmp/ipykernel_1041572/369906587.py:107: SettingWithCopyWarning: \n",
      "A value is trying to be set on a copy of a slice from a DataFrame.\n",
      "Try using .loc[row_indexer,col_indexer] = value instead\n",
      "\n",
      "See the caveats in the documentation: https://pandas.pydata.org/pandas-docs/stable/user_guide/indexing.html#returning-a-view-versus-a-copy\n",
      "  slack_elev['npv_check'] = slack_elev['npv_opt'].cumsum()\n"
     ]
    },
    {
     "name": "stdout",
     "output_type": "stream",
     "text": [
      "Calculate objective values for policy:\n",
      "Sort by cejst\n",
      "With Budget of $M 1000000.0\n",
      "Calculate objective values for policy:\n",
      "Sort by npv_opt\n",
      "With Budget of $M 1500000.0\n",
      "Calculate objective values for policy:\n",
      "Sort by avoid_rel_eal\n",
      "With Budget of $M 1500000.0\n",
      "Calculate objective values for policy:\n",
      "Sort by rel_eal\n",
      "With Budget of $M 1500000.0\n"
     ]
    },
    {
     "name": "stderr",
     "output_type": "stream",
     "text": [
      "/tmp/ipykernel_1041572/369906587.py:94: SettingWithCopyWarning: \n",
      "A value is trying to be set on a copy of a slice from a DataFrame.\n",
      "Try using .loc[row_indexer,col_indexer] = value instead\n",
      "\n",
      "See the caveats in the documentation: https://pandas.pydata.org/pandas-docs/stable/user_guide/indexing.html#returning-a-view-versus-a-copy\n",
      "  pri_df['policy_cost'] = pri_df['elev_invst'].cumsum()\n",
      "/tmp/ipykernel_1041572/369906587.py:95: SettingWithCopyWarning: \n",
      "A value is trying to be set on a copy of a slice from a DataFrame.\n",
      "Try using .loc[row_indexer,col_indexer] = value instead\n",
      "\n",
      "See the caveats in the documentation: https://pandas.pydata.org/pandas-docs/stable/user_guide/indexing.html#returning-a-view-versus-a-copy\n",
      "  slack_df['policy_cost'] = slack_df['elev_invst'].cumsum()\n"
     ]
    },
    {
     "name": "stdout",
     "output_type": "stream",
     "text": [
      "Calculate objective values for policy:\n",
      "Sort by lmi\n",
      "With Budget of $M 1500000.0\n"
     ]
    },
    {
     "name": "stderr",
     "output_type": "stream",
     "text": [
      "/tmp/ipykernel_1041572/369906587.py:94: SettingWithCopyWarning: \n",
      "A value is trying to be set on a copy of a slice from a DataFrame.\n",
      "Try using .loc[row_indexer,col_indexer] = value instead\n",
      "\n",
      "See the caveats in the documentation: https://pandas.pydata.org/pandas-docs/stable/user_guide/indexing.html#returning-a-view-versus-a-copy\n",
      "  pri_df['policy_cost'] = pri_df['elev_invst'].cumsum()\n",
      "/tmp/ipykernel_1041572/369906587.py:95: SettingWithCopyWarning: \n",
      "A value is trying to be set on a copy of a slice from a DataFrame.\n",
      "Try using .loc[row_indexer,col_indexer] = value instead\n",
      "\n",
      "See the caveats in the documentation: https://pandas.pydata.org/pandas-docs/stable/user_guide/indexing.html#returning-a-view-versus-a-copy\n",
      "  slack_df['policy_cost'] = slack_df['elev_invst'].cumsum()\n"
     ]
    },
    {
     "name": "stdout",
     "output_type": "stream",
     "text": [
      "Calculate objective values for policy:\n",
      "Sort by ovb\n",
      "With Budget of $M 1500000.0\n"
     ]
    },
    {
     "name": "stderr",
     "output_type": "stream",
     "text": [
      "/tmp/ipykernel_1041572/369906587.py:94: SettingWithCopyWarning: \n",
      "A value is trying to be set on a copy of a slice from a DataFrame.\n",
      "Try using .loc[row_indexer,col_indexer] = value instead\n",
      "\n",
      "See the caveats in the documentation: https://pandas.pydata.org/pandas-docs/stable/user_guide/indexing.html#returning-a-view-versus-a-copy\n",
      "  pri_df['policy_cost'] = pri_df['elev_invst'].cumsum()\n",
      "/tmp/ipykernel_1041572/369906587.py:95: SettingWithCopyWarning: \n",
      "A value is trying to be set on a copy of a slice from a DataFrame.\n",
      "Try using .loc[row_indexer,col_indexer] = value instead\n",
      "\n",
      "See the caveats in the documentation: https://pandas.pydata.org/pandas-docs/stable/user_guide/indexing.html#returning-a-view-versus-a-copy\n",
      "  slack_df['policy_cost'] = slack_df['elev_invst'].cumsum()\n",
      "/tmp/ipykernel_1041572/369906587.py:107: SettingWithCopyWarning: \n",
      "A value is trying to be set on a copy of a slice from a DataFrame.\n",
      "Try using .loc[row_indexer,col_indexer] = value instead\n",
      "\n",
      "See the caveats in the documentation: https://pandas.pydata.org/pandas-docs/stable/user_guide/indexing.html#returning-a-view-versus-a-copy\n",
      "  slack_elev['npv_check'] = slack_elev['npv_opt'].cumsum()\n"
     ]
    },
    {
     "name": "stdout",
     "output_type": "stream",
     "text": [
      "Calculate objective values for policy:\n",
      "Sort by cejst\n",
      "With Budget of $M 1500000.0\n",
      "Calculate objective values for policy:\n",
      "Sort by npv_opt\n",
      "With Budget of $M 2000000.0\n",
      "Calculate objective values for policy:\n",
      "Sort by avoid_rel_eal\n",
      "With Budget of $M 2000000.0\n",
      "Calculate objective values for policy:\n",
      "Sort by rel_eal\n",
      "With Budget of $M 2000000.0\n"
     ]
    },
    {
     "name": "stderr",
     "output_type": "stream",
     "text": [
      "/tmp/ipykernel_1041572/369906587.py:94: SettingWithCopyWarning: \n",
      "A value is trying to be set on a copy of a slice from a DataFrame.\n",
      "Try using .loc[row_indexer,col_indexer] = value instead\n",
      "\n",
      "See the caveats in the documentation: https://pandas.pydata.org/pandas-docs/stable/user_guide/indexing.html#returning-a-view-versus-a-copy\n",
      "  pri_df['policy_cost'] = pri_df['elev_invst'].cumsum()\n",
      "/tmp/ipykernel_1041572/369906587.py:95: SettingWithCopyWarning: \n",
      "A value is trying to be set on a copy of a slice from a DataFrame.\n",
      "Try using .loc[row_indexer,col_indexer] = value instead\n",
      "\n",
      "See the caveats in the documentation: https://pandas.pydata.org/pandas-docs/stable/user_guide/indexing.html#returning-a-view-versus-a-copy\n",
      "  slack_df['policy_cost'] = slack_df['elev_invst'].cumsum()\n"
     ]
    },
    {
     "name": "stdout",
     "output_type": "stream",
     "text": [
      "Calculate objective values for policy:\n",
      "Sort by lmi\n",
      "With Budget of $M 2000000.0\n"
     ]
    },
    {
     "name": "stderr",
     "output_type": "stream",
     "text": [
      "/tmp/ipykernel_1041572/369906587.py:94: SettingWithCopyWarning: \n",
      "A value is trying to be set on a copy of a slice from a DataFrame.\n",
      "Try using .loc[row_indexer,col_indexer] = value instead\n",
      "\n",
      "See the caveats in the documentation: https://pandas.pydata.org/pandas-docs/stable/user_guide/indexing.html#returning-a-view-versus-a-copy\n",
      "  pri_df['policy_cost'] = pri_df['elev_invst'].cumsum()\n",
      "/tmp/ipykernel_1041572/369906587.py:95: SettingWithCopyWarning: \n",
      "A value is trying to be set on a copy of a slice from a DataFrame.\n",
      "Try using .loc[row_indexer,col_indexer] = value instead\n",
      "\n",
      "See the caveats in the documentation: https://pandas.pydata.org/pandas-docs/stable/user_guide/indexing.html#returning-a-view-versus-a-copy\n",
      "  slack_df['policy_cost'] = slack_df['elev_invst'].cumsum()\n"
     ]
    },
    {
     "name": "stdout",
     "output_type": "stream",
     "text": [
      "Calculate objective values for policy:\n",
      "Sort by ovb\n",
      "With Budget of $M 2000000.0\n"
     ]
    },
    {
     "name": "stderr",
     "output_type": "stream",
     "text": [
      "/tmp/ipykernel_1041572/369906587.py:94: SettingWithCopyWarning: \n",
      "A value is trying to be set on a copy of a slice from a DataFrame.\n",
      "Try using .loc[row_indexer,col_indexer] = value instead\n",
      "\n",
      "See the caveats in the documentation: https://pandas.pydata.org/pandas-docs/stable/user_guide/indexing.html#returning-a-view-versus-a-copy\n",
      "  pri_df['policy_cost'] = pri_df['elev_invst'].cumsum()\n",
      "/tmp/ipykernel_1041572/369906587.py:95: SettingWithCopyWarning: \n",
      "A value is trying to be set on a copy of a slice from a DataFrame.\n",
      "Try using .loc[row_indexer,col_indexer] = value instead\n",
      "\n",
      "See the caveats in the documentation: https://pandas.pydata.org/pandas-docs/stable/user_guide/indexing.html#returning-a-view-versus-a-copy\n",
      "  slack_df['policy_cost'] = slack_df['elev_invst'].cumsum()\n",
      "/tmp/ipykernel_1041572/369906587.py:107: SettingWithCopyWarning: \n",
      "A value is trying to be set on a copy of a slice from a DataFrame.\n",
      "Try using .loc[row_indexer,col_indexer] = value instead\n",
      "\n",
      "See the caveats in the documentation: https://pandas.pydata.org/pandas-docs/stable/user_guide/indexing.html#returning-a-view-versus-a-copy\n",
      "  slack_elev['npv_check'] = slack_elev['npv_opt'].cumsum()\n"
     ]
    },
    {
     "name": "stdout",
     "output_type": "stream",
     "text": [
      "Calculate objective values for policy:\n",
      "Sort by cejst\n",
      "With Budget of $M 2000000.0\n",
      "Calculate objective values for policy:\n",
      "Sort by npv_opt\n",
      "With Budget of $M 2500000.0\n",
      "Calculate objective values for policy:\n",
      "Sort by avoid_rel_eal\n",
      "With Budget of $M 2500000.0\n",
      "Calculate objective values for policy:\n",
      "Sort by rel_eal\n",
      "With Budget of $M 2500000.0\n"
     ]
    },
    {
     "name": "stderr",
     "output_type": "stream",
     "text": [
      "/tmp/ipykernel_1041572/369906587.py:94: SettingWithCopyWarning: \n",
      "A value is trying to be set on a copy of a slice from a DataFrame.\n",
      "Try using .loc[row_indexer,col_indexer] = value instead\n",
      "\n",
      "See the caveats in the documentation: https://pandas.pydata.org/pandas-docs/stable/user_guide/indexing.html#returning-a-view-versus-a-copy\n",
      "  pri_df['policy_cost'] = pri_df['elev_invst'].cumsum()\n",
      "/tmp/ipykernel_1041572/369906587.py:95: SettingWithCopyWarning: \n",
      "A value is trying to be set on a copy of a slice from a DataFrame.\n",
      "Try using .loc[row_indexer,col_indexer] = value instead\n",
      "\n",
      "See the caveats in the documentation: https://pandas.pydata.org/pandas-docs/stable/user_guide/indexing.html#returning-a-view-versus-a-copy\n",
      "  slack_df['policy_cost'] = slack_df['elev_invst'].cumsum()\n"
     ]
    },
    {
     "name": "stdout",
     "output_type": "stream",
     "text": [
      "Calculate objective values for policy:\n",
      "Sort by lmi\n",
      "With Budget of $M 2500000.0\n"
     ]
    },
    {
     "name": "stderr",
     "output_type": "stream",
     "text": [
      "/tmp/ipykernel_1041572/369906587.py:94: SettingWithCopyWarning: \n",
      "A value is trying to be set on a copy of a slice from a DataFrame.\n",
      "Try using .loc[row_indexer,col_indexer] = value instead\n",
      "\n",
      "See the caveats in the documentation: https://pandas.pydata.org/pandas-docs/stable/user_guide/indexing.html#returning-a-view-versus-a-copy\n",
      "  pri_df['policy_cost'] = pri_df['elev_invst'].cumsum()\n",
      "/tmp/ipykernel_1041572/369906587.py:95: SettingWithCopyWarning: \n",
      "A value is trying to be set on a copy of a slice from a DataFrame.\n",
      "Try using .loc[row_indexer,col_indexer] = value instead\n",
      "\n",
      "See the caveats in the documentation: https://pandas.pydata.org/pandas-docs/stable/user_guide/indexing.html#returning-a-view-versus-a-copy\n",
      "  slack_df['policy_cost'] = slack_df['elev_invst'].cumsum()\n"
     ]
    },
    {
     "name": "stdout",
     "output_type": "stream",
     "text": [
      "Calculate objective values for policy:\n",
      "Sort by ovb\n",
      "With Budget of $M 2500000.0\n"
     ]
    },
    {
     "name": "stderr",
     "output_type": "stream",
     "text": [
      "/tmp/ipykernel_1041572/369906587.py:94: SettingWithCopyWarning: \n",
      "A value is trying to be set on a copy of a slice from a DataFrame.\n",
      "Try using .loc[row_indexer,col_indexer] = value instead\n",
      "\n",
      "See the caveats in the documentation: https://pandas.pydata.org/pandas-docs/stable/user_guide/indexing.html#returning-a-view-versus-a-copy\n",
      "  pri_df['policy_cost'] = pri_df['elev_invst'].cumsum()\n",
      "/tmp/ipykernel_1041572/369906587.py:95: SettingWithCopyWarning: \n",
      "A value is trying to be set on a copy of a slice from a DataFrame.\n",
      "Try using .loc[row_indexer,col_indexer] = value instead\n",
      "\n",
      "See the caveats in the documentation: https://pandas.pydata.org/pandas-docs/stable/user_guide/indexing.html#returning-a-view-versus-a-copy\n",
      "  slack_df['policy_cost'] = slack_df['elev_invst'].cumsum()\n",
      "/tmp/ipykernel_1041572/369906587.py:107: SettingWithCopyWarning: \n",
      "A value is trying to be set on a copy of a slice from a DataFrame.\n",
      "Try using .loc[row_indexer,col_indexer] = value instead\n",
      "\n",
      "See the caveats in the documentation: https://pandas.pydata.org/pandas-docs/stable/user_guide/indexing.html#returning-a-view-versus-a-copy\n",
      "  slack_elev['npv_check'] = slack_elev['npv_opt'].cumsum()\n"
     ]
    },
    {
     "name": "stdout",
     "output_type": "stream",
     "text": [
      "Calculate objective values for policy:\n",
      "Sort by cejst\n",
      "With Budget of $M 2500000.0\n",
      "Calculate objective values for policy:\n",
      "Sort by npv_opt\n",
      "With Budget of $M 3000000.0\n",
      "Calculate objective values for policy:\n",
      "Sort by avoid_rel_eal\n",
      "With Budget of $M 3000000.0\n",
      "Calculate objective values for policy:\n",
      "Sort by rel_eal\n",
      "With Budget of $M 3000000.0\n"
     ]
    },
    {
     "name": "stderr",
     "output_type": "stream",
     "text": [
      "/tmp/ipykernel_1041572/369906587.py:94: SettingWithCopyWarning: \n",
      "A value is trying to be set on a copy of a slice from a DataFrame.\n",
      "Try using .loc[row_indexer,col_indexer] = value instead\n",
      "\n",
      "See the caveats in the documentation: https://pandas.pydata.org/pandas-docs/stable/user_guide/indexing.html#returning-a-view-versus-a-copy\n",
      "  pri_df['policy_cost'] = pri_df['elev_invst'].cumsum()\n",
      "/tmp/ipykernel_1041572/369906587.py:95: SettingWithCopyWarning: \n",
      "A value is trying to be set on a copy of a slice from a DataFrame.\n",
      "Try using .loc[row_indexer,col_indexer] = value instead\n",
      "\n",
      "See the caveats in the documentation: https://pandas.pydata.org/pandas-docs/stable/user_guide/indexing.html#returning-a-view-versus-a-copy\n",
      "  slack_df['policy_cost'] = slack_df['elev_invst'].cumsum()\n"
     ]
    },
    {
     "name": "stdout",
     "output_type": "stream",
     "text": [
      "Calculate objective values for policy:\n",
      "Sort by lmi\n",
      "With Budget of $M 3000000.0\n"
     ]
    },
    {
     "name": "stderr",
     "output_type": "stream",
     "text": [
      "/tmp/ipykernel_1041572/369906587.py:94: SettingWithCopyWarning: \n",
      "A value is trying to be set on a copy of a slice from a DataFrame.\n",
      "Try using .loc[row_indexer,col_indexer] = value instead\n",
      "\n",
      "See the caveats in the documentation: https://pandas.pydata.org/pandas-docs/stable/user_guide/indexing.html#returning-a-view-versus-a-copy\n",
      "  pri_df['policy_cost'] = pri_df['elev_invst'].cumsum()\n",
      "/tmp/ipykernel_1041572/369906587.py:95: SettingWithCopyWarning: \n",
      "A value is trying to be set on a copy of a slice from a DataFrame.\n",
      "Try using .loc[row_indexer,col_indexer] = value instead\n",
      "\n",
      "See the caveats in the documentation: https://pandas.pydata.org/pandas-docs/stable/user_guide/indexing.html#returning-a-view-versus-a-copy\n",
      "  slack_df['policy_cost'] = slack_df['elev_invst'].cumsum()\n"
     ]
    },
    {
     "name": "stdout",
     "output_type": "stream",
     "text": [
      "Calculate objective values for policy:\n",
      "Sort by ovb\n",
      "With Budget of $M 3000000.0\n"
     ]
    },
    {
     "name": "stderr",
     "output_type": "stream",
     "text": [
      "/tmp/ipykernel_1041572/369906587.py:94: SettingWithCopyWarning: \n",
      "A value is trying to be set on a copy of a slice from a DataFrame.\n",
      "Try using .loc[row_indexer,col_indexer] = value instead\n",
      "\n",
      "See the caveats in the documentation: https://pandas.pydata.org/pandas-docs/stable/user_guide/indexing.html#returning-a-view-versus-a-copy\n",
      "  pri_df['policy_cost'] = pri_df['elev_invst'].cumsum()\n",
      "/tmp/ipykernel_1041572/369906587.py:95: SettingWithCopyWarning: \n",
      "A value is trying to be set on a copy of a slice from a DataFrame.\n",
      "Try using .loc[row_indexer,col_indexer] = value instead\n",
      "\n",
      "See the caveats in the documentation: https://pandas.pydata.org/pandas-docs/stable/user_guide/indexing.html#returning-a-view-versus-a-copy\n",
      "  slack_df['policy_cost'] = slack_df['elev_invst'].cumsum()\n",
      "/tmp/ipykernel_1041572/369906587.py:107: SettingWithCopyWarning: \n",
      "A value is trying to be set on a copy of a slice from a DataFrame.\n",
      "Try using .loc[row_indexer,col_indexer] = value instead\n",
      "\n",
      "See the caveats in the documentation: https://pandas.pydata.org/pandas-docs/stable/user_guide/indexing.html#returning-a-view-versus-a-copy\n",
      "  slack_elev['npv_check'] = slack_elev['npv_opt'].cumsum()\n"
     ]
    },
    {
     "name": "stdout",
     "output_type": "stream",
     "text": [
      "Calculate objective values for policy:\n",
      "Sort by cejst\n",
      "With Budget of $M 3000000.0\n",
      "Calculate objective values for policy:\n",
      "Sort by npv_opt\n",
      "With Budget of $M 3500000.0\n",
      "Calculate objective values for policy:\n",
      "Sort by avoid_rel_eal\n",
      "With Budget of $M 3500000.0\n",
      "Calculate objective values for policy:\n",
      "Sort by rel_eal\n",
      "With Budget of $M 3500000.0\n"
     ]
    },
    {
     "name": "stderr",
     "output_type": "stream",
     "text": [
      "/tmp/ipykernel_1041572/369906587.py:94: SettingWithCopyWarning: \n",
      "A value is trying to be set on a copy of a slice from a DataFrame.\n",
      "Try using .loc[row_indexer,col_indexer] = value instead\n",
      "\n",
      "See the caveats in the documentation: https://pandas.pydata.org/pandas-docs/stable/user_guide/indexing.html#returning-a-view-versus-a-copy\n",
      "  pri_df['policy_cost'] = pri_df['elev_invst'].cumsum()\n",
      "/tmp/ipykernel_1041572/369906587.py:95: SettingWithCopyWarning: \n",
      "A value is trying to be set on a copy of a slice from a DataFrame.\n",
      "Try using .loc[row_indexer,col_indexer] = value instead\n",
      "\n",
      "See the caveats in the documentation: https://pandas.pydata.org/pandas-docs/stable/user_guide/indexing.html#returning-a-view-versus-a-copy\n",
      "  slack_df['policy_cost'] = slack_df['elev_invst'].cumsum()\n"
     ]
    },
    {
     "name": "stdout",
     "output_type": "stream",
     "text": [
      "Calculate objective values for policy:\n",
      "Sort by lmi\n",
      "With Budget of $M 3500000.0\n"
     ]
    },
    {
     "name": "stderr",
     "output_type": "stream",
     "text": [
      "/tmp/ipykernel_1041572/369906587.py:94: SettingWithCopyWarning: \n",
      "A value is trying to be set on a copy of a slice from a DataFrame.\n",
      "Try using .loc[row_indexer,col_indexer] = value instead\n",
      "\n",
      "See the caveats in the documentation: https://pandas.pydata.org/pandas-docs/stable/user_guide/indexing.html#returning-a-view-versus-a-copy\n",
      "  pri_df['policy_cost'] = pri_df['elev_invst'].cumsum()\n",
      "/tmp/ipykernel_1041572/369906587.py:95: SettingWithCopyWarning: \n",
      "A value is trying to be set on a copy of a slice from a DataFrame.\n",
      "Try using .loc[row_indexer,col_indexer] = value instead\n",
      "\n",
      "See the caveats in the documentation: https://pandas.pydata.org/pandas-docs/stable/user_guide/indexing.html#returning-a-view-versus-a-copy\n",
      "  slack_df['policy_cost'] = slack_df['elev_invst'].cumsum()\n",
      "/tmp/ipykernel_1041572/369906587.py:107: SettingWithCopyWarning: \n",
      "A value is trying to be set on a copy of a slice from a DataFrame.\n",
      "Try using .loc[row_indexer,col_indexer] = value instead\n",
      "\n",
      "See the caveats in the documentation: https://pandas.pydata.org/pandas-docs/stable/user_guide/indexing.html#returning-a-view-versus-a-copy\n",
      "  slack_elev['npv_check'] = slack_elev['npv_opt'].cumsum()\n"
     ]
    },
    {
     "name": "stdout",
     "output_type": "stream",
     "text": [
      "Calculate objective values for policy:\n",
      "Sort by ovb\n",
      "With Budget of $M 3500000.0\n"
     ]
    },
    {
     "name": "stderr",
     "output_type": "stream",
     "text": [
      "/tmp/ipykernel_1041572/369906587.py:94: SettingWithCopyWarning: \n",
      "A value is trying to be set on a copy of a slice from a DataFrame.\n",
      "Try using .loc[row_indexer,col_indexer] = value instead\n",
      "\n",
      "See the caveats in the documentation: https://pandas.pydata.org/pandas-docs/stable/user_guide/indexing.html#returning-a-view-versus-a-copy\n",
      "  pri_df['policy_cost'] = pri_df['elev_invst'].cumsum()\n",
      "/tmp/ipykernel_1041572/369906587.py:95: SettingWithCopyWarning: \n",
      "A value is trying to be set on a copy of a slice from a DataFrame.\n",
      "Try using .loc[row_indexer,col_indexer] = value instead\n",
      "\n",
      "See the caveats in the documentation: https://pandas.pydata.org/pandas-docs/stable/user_guide/indexing.html#returning-a-view-versus-a-copy\n",
      "  slack_df['policy_cost'] = slack_df['elev_invst'].cumsum()\n",
      "/tmp/ipykernel_1041572/369906587.py:107: SettingWithCopyWarning: \n",
      "A value is trying to be set on a copy of a slice from a DataFrame.\n",
      "Try using .loc[row_indexer,col_indexer] = value instead\n",
      "\n",
      "See the caveats in the documentation: https://pandas.pydata.org/pandas-docs/stable/user_guide/indexing.html#returning-a-view-versus-a-copy\n",
      "  slack_elev['npv_check'] = slack_elev['npv_opt'].cumsum()\n"
     ]
    },
    {
     "name": "stdout",
     "output_type": "stream",
     "text": [
      "Calculate objective values for policy:\n",
      "Sort by cejst\n",
      "With Budget of $M 3500000.0\n",
      "Calculate objective values for policy:\n",
      "Sort by npv_opt\n",
      "With Budget of $M 4000000.0\n",
      "Calculate objective values for policy:\n",
      "Sort by avoid_rel_eal\n",
      "With Budget of $M 4000000.0\n",
      "Calculate objective values for policy:\n",
      "Sort by rel_eal\n",
      "With Budget of $M 4000000.0\n"
     ]
    },
    {
     "name": "stderr",
     "output_type": "stream",
     "text": [
      "/tmp/ipykernel_1041572/369906587.py:94: SettingWithCopyWarning: \n",
      "A value is trying to be set on a copy of a slice from a DataFrame.\n",
      "Try using .loc[row_indexer,col_indexer] = value instead\n",
      "\n",
      "See the caveats in the documentation: https://pandas.pydata.org/pandas-docs/stable/user_guide/indexing.html#returning-a-view-versus-a-copy\n",
      "  pri_df['policy_cost'] = pri_df['elev_invst'].cumsum()\n",
      "/tmp/ipykernel_1041572/369906587.py:95: SettingWithCopyWarning: \n",
      "A value is trying to be set on a copy of a slice from a DataFrame.\n",
      "Try using .loc[row_indexer,col_indexer] = value instead\n",
      "\n",
      "See the caveats in the documentation: https://pandas.pydata.org/pandas-docs/stable/user_guide/indexing.html#returning-a-view-versus-a-copy\n",
      "  slack_df['policy_cost'] = slack_df['elev_invst'].cumsum()\n"
     ]
    },
    {
     "name": "stdout",
     "output_type": "stream",
     "text": [
      "Calculate objective values for policy:\n",
      "Sort by lmi\n",
      "With Budget of $M 4000000.0\n"
     ]
    },
    {
     "name": "stderr",
     "output_type": "stream",
     "text": [
      "/tmp/ipykernel_1041572/369906587.py:94: SettingWithCopyWarning: \n",
      "A value is trying to be set on a copy of a slice from a DataFrame.\n",
      "Try using .loc[row_indexer,col_indexer] = value instead\n",
      "\n",
      "See the caveats in the documentation: https://pandas.pydata.org/pandas-docs/stable/user_guide/indexing.html#returning-a-view-versus-a-copy\n",
      "  pri_df['policy_cost'] = pri_df['elev_invst'].cumsum()\n",
      "/tmp/ipykernel_1041572/369906587.py:95: SettingWithCopyWarning: \n",
      "A value is trying to be set on a copy of a slice from a DataFrame.\n",
      "Try using .loc[row_indexer,col_indexer] = value instead\n",
      "\n",
      "See the caveats in the documentation: https://pandas.pydata.org/pandas-docs/stable/user_guide/indexing.html#returning-a-view-versus-a-copy\n",
      "  slack_df['policy_cost'] = slack_df['elev_invst'].cumsum()\n"
     ]
    },
    {
     "name": "stdout",
     "output_type": "stream",
     "text": [
      "Calculate objective values for policy:\n",
      "Sort by ovb\n",
      "With Budget of $M 4000000.0\n"
     ]
    },
    {
     "name": "stderr",
     "output_type": "stream",
     "text": [
      "/tmp/ipykernel_1041572/369906587.py:94: SettingWithCopyWarning: \n",
      "A value is trying to be set on a copy of a slice from a DataFrame.\n",
      "Try using .loc[row_indexer,col_indexer] = value instead\n",
      "\n",
      "See the caveats in the documentation: https://pandas.pydata.org/pandas-docs/stable/user_guide/indexing.html#returning-a-view-versus-a-copy\n",
      "  pri_df['policy_cost'] = pri_df['elev_invst'].cumsum()\n",
      "/tmp/ipykernel_1041572/369906587.py:95: SettingWithCopyWarning: \n",
      "A value is trying to be set on a copy of a slice from a DataFrame.\n",
      "Try using .loc[row_indexer,col_indexer] = value instead\n",
      "\n",
      "See the caveats in the documentation: https://pandas.pydata.org/pandas-docs/stable/user_guide/indexing.html#returning-a-view-versus-a-copy\n",
      "  slack_df['policy_cost'] = slack_df['elev_invst'].cumsum()\n",
      "/tmp/ipykernel_1041572/369906587.py:107: SettingWithCopyWarning: \n",
      "A value is trying to be set on a copy of a slice from a DataFrame.\n",
      "Try using .loc[row_indexer,col_indexer] = value instead\n",
      "\n",
      "See the caveats in the documentation: https://pandas.pydata.org/pandas-docs/stable/user_guide/indexing.html#returning-a-view-versus-a-copy\n",
      "  slack_elev['npv_check'] = slack_elev['npv_opt'].cumsum()\n"
     ]
    },
    {
     "name": "stdout",
     "output_type": "stream",
     "text": [
      "Calculate objective values for policy:\n",
      "Sort by cejst\n",
      "With Budget of $M 4000000.0\n",
      "Calculate objective values for policy:\n",
      "Sort by npv_opt\n",
      "With Budget of $M 4500000.0\n",
      "Calculate objective values for policy:\n",
      "Sort by avoid_rel_eal\n",
      "With Budget of $M 4500000.0\n",
      "Calculate objective values for policy:\n",
      "Sort by rel_eal\n",
      "With Budget of $M 4500000.0\n"
     ]
    },
    {
     "name": "stderr",
     "output_type": "stream",
     "text": [
      "/tmp/ipykernel_1041572/369906587.py:94: SettingWithCopyWarning: \n",
      "A value is trying to be set on a copy of a slice from a DataFrame.\n",
      "Try using .loc[row_indexer,col_indexer] = value instead\n",
      "\n",
      "See the caveats in the documentation: https://pandas.pydata.org/pandas-docs/stable/user_guide/indexing.html#returning-a-view-versus-a-copy\n",
      "  pri_df['policy_cost'] = pri_df['elev_invst'].cumsum()\n",
      "/tmp/ipykernel_1041572/369906587.py:95: SettingWithCopyWarning: \n",
      "A value is trying to be set on a copy of a slice from a DataFrame.\n",
      "Try using .loc[row_indexer,col_indexer] = value instead\n",
      "\n",
      "See the caveats in the documentation: https://pandas.pydata.org/pandas-docs/stable/user_guide/indexing.html#returning-a-view-versus-a-copy\n",
      "  slack_df['policy_cost'] = slack_df['elev_invst'].cumsum()\n"
     ]
    },
    {
     "name": "stdout",
     "output_type": "stream",
     "text": [
      "Calculate objective values for policy:\n",
      "Sort by lmi\n",
      "With Budget of $M 4500000.0\n"
     ]
    },
    {
     "name": "stderr",
     "output_type": "stream",
     "text": [
      "/tmp/ipykernel_1041572/369906587.py:94: SettingWithCopyWarning: \n",
      "A value is trying to be set on a copy of a slice from a DataFrame.\n",
      "Try using .loc[row_indexer,col_indexer] = value instead\n",
      "\n",
      "See the caveats in the documentation: https://pandas.pydata.org/pandas-docs/stable/user_guide/indexing.html#returning-a-view-versus-a-copy\n",
      "  pri_df['policy_cost'] = pri_df['elev_invst'].cumsum()\n",
      "/tmp/ipykernel_1041572/369906587.py:95: SettingWithCopyWarning: \n",
      "A value is trying to be set on a copy of a slice from a DataFrame.\n",
      "Try using .loc[row_indexer,col_indexer] = value instead\n",
      "\n",
      "See the caveats in the documentation: https://pandas.pydata.org/pandas-docs/stable/user_guide/indexing.html#returning-a-view-versus-a-copy\n",
      "  slack_df['policy_cost'] = slack_df['elev_invst'].cumsum()\n"
     ]
    },
    {
     "name": "stdout",
     "output_type": "stream",
     "text": [
      "Calculate objective values for policy:\n",
      "Sort by ovb\n",
      "With Budget of $M 4500000.0\n"
     ]
    },
    {
     "name": "stderr",
     "output_type": "stream",
     "text": [
      "/tmp/ipykernel_1041572/369906587.py:94: SettingWithCopyWarning: \n",
      "A value is trying to be set on a copy of a slice from a DataFrame.\n",
      "Try using .loc[row_indexer,col_indexer] = value instead\n",
      "\n",
      "See the caveats in the documentation: https://pandas.pydata.org/pandas-docs/stable/user_guide/indexing.html#returning-a-view-versus-a-copy\n",
      "  pri_df['policy_cost'] = pri_df['elev_invst'].cumsum()\n",
      "/tmp/ipykernel_1041572/369906587.py:95: SettingWithCopyWarning: \n",
      "A value is trying to be set on a copy of a slice from a DataFrame.\n",
      "Try using .loc[row_indexer,col_indexer] = value instead\n",
      "\n",
      "See the caveats in the documentation: https://pandas.pydata.org/pandas-docs/stable/user_guide/indexing.html#returning-a-view-versus-a-copy\n",
      "  slack_df['policy_cost'] = slack_df['elev_invst'].cumsum()\n",
      "/tmp/ipykernel_1041572/369906587.py:107: SettingWithCopyWarning: \n",
      "A value is trying to be set on a copy of a slice from a DataFrame.\n",
      "Try using .loc[row_indexer,col_indexer] = value instead\n",
      "\n",
      "See the caveats in the documentation: https://pandas.pydata.org/pandas-docs/stable/user_guide/indexing.html#returning-a-view-versus-a-copy\n",
      "  slack_elev['npv_check'] = slack_elev['npv_opt'].cumsum()\n"
     ]
    },
    {
     "name": "stdout",
     "output_type": "stream",
     "text": [
      "Calculate objective values for policy:\n",
      "Sort by cejst\n",
      "With Budget of $M 4500000.0\n",
      "Calculate objective values for policy:\n",
      "Sort by npv_opt\n",
      "With Budget of $M 5000000.0\n",
      "Calculate objective values for policy:\n",
      "Sort by avoid_rel_eal\n",
      "With Budget of $M 5000000.0\n",
      "Calculate objective values for policy:\n",
      "Sort by rel_eal\n",
      "With Budget of $M 5000000.0\n"
     ]
    },
    {
     "name": "stderr",
     "output_type": "stream",
     "text": [
      "/tmp/ipykernel_1041572/369906587.py:94: SettingWithCopyWarning: \n",
      "A value is trying to be set on a copy of a slice from a DataFrame.\n",
      "Try using .loc[row_indexer,col_indexer] = value instead\n",
      "\n",
      "See the caveats in the documentation: https://pandas.pydata.org/pandas-docs/stable/user_guide/indexing.html#returning-a-view-versus-a-copy\n",
      "  pri_df['policy_cost'] = pri_df['elev_invst'].cumsum()\n",
      "/tmp/ipykernel_1041572/369906587.py:95: SettingWithCopyWarning: \n",
      "A value is trying to be set on a copy of a slice from a DataFrame.\n",
      "Try using .loc[row_indexer,col_indexer] = value instead\n",
      "\n",
      "See the caveats in the documentation: https://pandas.pydata.org/pandas-docs/stable/user_guide/indexing.html#returning-a-view-versus-a-copy\n",
      "  slack_df['policy_cost'] = slack_df['elev_invst'].cumsum()\n"
     ]
    },
    {
     "name": "stdout",
     "output_type": "stream",
     "text": [
      "Calculate objective values for policy:\n",
      "Sort by lmi\n",
      "With Budget of $M 5000000.0\n"
     ]
    },
    {
     "name": "stderr",
     "output_type": "stream",
     "text": [
      "/tmp/ipykernel_1041572/369906587.py:94: SettingWithCopyWarning: \n",
      "A value is trying to be set on a copy of a slice from a DataFrame.\n",
      "Try using .loc[row_indexer,col_indexer] = value instead\n",
      "\n",
      "See the caveats in the documentation: https://pandas.pydata.org/pandas-docs/stable/user_guide/indexing.html#returning-a-view-versus-a-copy\n",
      "  pri_df['policy_cost'] = pri_df['elev_invst'].cumsum()\n",
      "/tmp/ipykernel_1041572/369906587.py:95: SettingWithCopyWarning: \n",
      "A value is trying to be set on a copy of a slice from a DataFrame.\n",
      "Try using .loc[row_indexer,col_indexer] = value instead\n",
      "\n",
      "See the caveats in the documentation: https://pandas.pydata.org/pandas-docs/stable/user_guide/indexing.html#returning-a-view-versus-a-copy\n",
      "  slack_df['policy_cost'] = slack_df['elev_invst'].cumsum()\n"
     ]
    },
    {
     "name": "stdout",
     "output_type": "stream",
     "text": [
      "Calculate objective values for policy:\n",
      "Sort by ovb\n",
      "With Budget of $M 5000000.0\n"
     ]
    },
    {
     "name": "stderr",
     "output_type": "stream",
     "text": [
      "/tmp/ipykernel_1041572/369906587.py:94: SettingWithCopyWarning: \n",
      "A value is trying to be set on a copy of a slice from a DataFrame.\n",
      "Try using .loc[row_indexer,col_indexer] = value instead\n",
      "\n",
      "See the caveats in the documentation: https://pandas.pydata.org/pandas-docs/stable/user_guide/indexing.html#returning-a-view-versus-a-copy\n",
      "  pri_df['policy_cost'] = pri_df['elev_invst'].cumsum()\n",
      "/tmp/ipykernel_1041572/369906587.py:95: SettingWithCopyWarning: \n",
      "A value is trying to be set on a copy of a slice from a DataFrame.\n",
      "Try using .loc[row_indexer,col_indexer] = value instead\n",
      "\n",
      "See the caveats in the documentation: https://pandas.pydata.org/pandas-docs/stable/user_guide/indexing.html#returning-a-view-versus-a-copy\n",
      "  slack_df['policy_cost'] = slack_df['elev_invst'].cumsum()\n",
      "/tmp/ipykernel_1041572/369906587.py:107: SettingWithCopyWarning: \n",
      "A value is trying to be set on a copy of a slice from a DataFrame.\n",
      "Try using .loc[row_indexer,col_indexer] = value instead\n",
      "\n",
      "See the caveats in the documentation: https://pandas.pydata.org/pandas-docs/stable/user_guide/indexing.html#returning-a-view-versus-a-copy\n",
      "  slack_elev['npv_check'] = slack_elev['npv_opt'].cumsum()\n"
     ]
    },
    {
     "name": "stdout",
     "output_type": "stream",
     "text": [
      "Calculate objective values for policy:\n",
      "Sort by cejst\n",
      "With Budget of $M 5000000.0\n",
      "Calculate objective values for policy:\n",
      "Sort by npv_opt\n",
      "With Budget of $M 5500000.0\n",
      "Calculate objective values for policy:\n",
      "Sort by avoid_rel_eal\n",
      "With Budget of $M 5500000.0\n",
      "Calculate objective values for policy:\n",
      "Sort by rel_eal\n",
      "With Budget of $M 5500000.0\n"
     ]
    },
    {
     "name": "stderr",
     "output_type": "stream",
     "text": [
      "/tmp/ipykernel_1041572/369906587.py:94: SettingWithCopyWarning: \n",
      "A value is trying to be set on a copy of a slice from a DataFrame.\n",
      "Try using .loc[row_indexer,col_indexer] = value instead\n",
      "\n",
      "See the caveats in the documentation: https://pandas.pydata.org/pandas-docs/stable/user_guide/indexing.html#returning-a-view-versus-a-copy\n",
      "  pri_df['policy_cost'] = pri_df['elev_invst'].cumsum()\n",
      "/tmp/ipykernel_1041572/369906587.py:95: SettingWithCopyWarning: \n",
      "A value is trying to be set on a copy of a slice from a DataFrame.\n",
      "Try using .loc[row_indexer,col_indexer] = value instead\n",
      "\n",
      "See the caveats in the documentation: https://pandas.pydata.org/pandas-docs/stable/user_guide/indexing.html#returning-a-view-versus-a-copy\n",
      "  slack_df['policy_cost'] = slack_df['elev_invst'].cumsum()\n"
     ]
    },
    {
     "name": "stdout",
     "output_type": "stream",
     "text": [
      "Calculate objective values for policy:\n",
      "Sort by lmi\n",
      "With Budget of $M 5500000.0\n"
     ]
    },
    {
     "name": "stderr",
     "output_type": "stream",
     "text": [
      "/tmp/ipykernel_1041572/369906587.py:94: SettingWithCopyWarning: \n",
      "A value is trying to be set on a copy of a slice from a DataFrame.\n",
      "Try using .loc[row_indexer,col_indexer] = value instead\n",
      "\n",
      "See the caveats in the documentation: https://pandas.pydata.org/pandas-docs/stable/user_guide/indexing.html#returning-a-view-versus-a-copy\n",
      "  pri_df['policy_cost'] = pri_df['elev_invst'].cumsum()\n",
      "/tmp/ipykernel_1041572/369906587.py:95: SettingWithCopyWarning: \n",
      "A value is trying to be set on a copy of a slice from a DataFrame.\n",
      "Try using .loc[row_indexer,col_indexer] = value instead\n",
      "\n",
      "See the caveats in the documentation: https://pandas.pydata.org/pandas-docs/stable/user_guide/indexing.html#returning-a-view-versus-a-copy\n",
      "  slack_df['policy_cost'] = slack_df['elev_invst'].cumsum()\n"
     ]
    },
    {
     "name": "stdout",
     "output_type": "stream",
     "text": [
      "Calculate objective values for policy:\n",
      "Sort by ovb\n",
      "With Budget of $M 5500000.0\n"
     ]
    },
    {
     "name": "stderr",
     "output_type": "stream",
     "text": [
      "/tmp/ipykernel_1041572/369906587.py:94: SettingWithCopyWarning: \n",
      "A value is trying to be set on a copy of a slice from a DataFrame.\n",
      "Try using .loc[row_indexer,col_indexer] = value instead\n",
      "\n",
      "See the caveats in the documentation: https://pandas.pydata.org/pandas-docs/stable/user_guide/indexing.html#returning-a-view-versus-a-copy\n",
      "  pri_df['policy_cost'] = pri_df['elev_invst'].cumsum()\n",
      "/tmp/ipykernel_1041572/369906587.py:95: SettingWithCopyWarning: \n",
      "A value is trying to be set on a copy of a slice from a DataFrame.\n",
      "Try using .loc[row_indexer,col_indexer] = value instead\n",
      "\n",
      "See the caveats in the documentation: https://pandas.pydata.org/pandas-docs/stable/user_guide/indexing.html#returning-a-view-versus-a-copy\n",
      "  slack_df['policy_cost'] = slack_df['elev_invst'].cumsum()\n",
      "/tmp/ipykernel_1041572/369906587.py:107: SettingWithCopyWarning: \n",
      "A value is trying to be set on a copy of a slice from a DataFrame.\n",
      "Try using .loc[row_indexer,col_indexer] = value instead\n",
      "\n",
      "See the caveats in the documentation: https://pandas.pydata.org/pandas-docs/stable/user_guide/indexing.html#returning-a-view-versus-a-copy\n",
      "  slack_elev['npv_check'] = slack_elev['npv_opt'].cumsum()\n"
     ]
    },
    {
     "name": "stdout",
     "output_type": "stream",
     "text": [
      "Calculate objective values for policy:\n",
      "Sort by cejst\n",
      "With Budget of $M 5500000.0\n",
      "Calculate objective values for policy:\n",
      "Sort by npv_opt\n",
      "With Budget of $M 6000000.0\n",
      "Calculate objective values for policy:\n",
      "Sort by avoid_rel_eal\n",
      "With Budget of $M 6000000.0\n",
      "Calculate objective values for policy:\n",
      "Sort by rel_eal\n",
      "With Budget of $M 6000000.0\n"
     ]
    },
    {
     "name": "stderr",
     "output_type": "stream",
     "text": [
      "/tmp/ipykernel_1041572/369906587.py:94: SettingWithCopyWarning: \n",
      "A value is trying to be set on a copy of a slice from a DataFrame.\n",
      "Try using .loc[row_indexer,col_indexer] = value instead\n",
      "\n",
      "See the caveats in the documentation: https://pandas.pydata.org/pandas-docs/stable/user_guide/indexing.html#returning-a-view-versus-a-copy\n",
      "  pri_df['policy_cost'] = pri_df['elev_invst'].cumsum()\n",
      "/tmp/ipykernel_1041572/369906587.py:95: SettingWithCopyWarning: \n",
      "A value is trying to be set on a copy of a slice from a DataFrame.\n",
      "Try using .loc[row_indexer,col_indexer] = value instead\n",
      "\n",
      "See the caveats in the documentation: https://pandas.pydata.org/pandas-docs/stable/user_guide/indexing.html#returning-a-view-versus-a-copy\n",
      "  slack_df['policy_cost'] = slack_df['elev_invst'].cumsum()\n",
      "/tmp/ipykernel_1041572/369906587.py:107: SettingWithCopyWarning: \n",
      "A value is trying to be set on a copy of a slice from a DataFrame.\n",
      "Try using .loc[row_indexer,col_indexer] = value instead\n",
      "\n",
      "See the caveats in the documentation: https://pandas.pydata.org/pandas-docs/stable/user_guide/indexing.html#returning-a-view-versus-a-copy\n",
      "  slack_elev['npv_check'] = slack_elev['npv_opt'].cumsum()\n"
     ]
    },
    {
     "name": "stdout",
     "output_type": "stream",
     "text": [
      "Calculate objective values for policy:\n",
      "Sort by lmi\n",
      "With Budget of $M 6000000.0\n"
     ]
    },
    {
     "name": "stderr",
     "output_type": "stream",
     "text": [
      "/tmp/ipykernel_1041572/369906587.py:94: SettingWithCopyWarning: \n",
      "A value is trying to be set on a copy of a slice from a DataFrame.\n",
      "Try using .loc[row_indexer,col_indexer] = value instead\n",
      "\n",
      "See the caveats in the documentation: https://pandas.pydata.org/pandas-docs/stable/user_guide/indexing.html#returning-a-view-versus-a-copy\n",
      "  pri_df['policy_cost'] = pri_df['elev_invst'].cumsum()\n",
      "/tmp/ipykernel_1041572/369906587.py:95: SettingWithCopyWarning: \n",
      "A value is trying to be set on a copy of a slice from a DataFrame.\n",
      "Try using .loc[row_indexer,col_indexer] = value instead\n",
      "\n",
      "See the caveats in the documentation: https://pandas.pydata.org/pandas-docs/stable/user_guide/indexing.html#returning-a-view-versus-a-copy\n",
      "  slack_df['policy_cost'] = slack_df['elev_invst'].cumsum()\n"
     ]
    },
    {
     "name": "stdout",
     "output_type": "stream",
     "text": [
      "Calculate objective values for policy:\n",
      "Sort by ovb\n",
      "With Budget of $M 6000000.0\n"
     ]
    },
    {
     "name": "stderr",
     "output_type": "stream",
     "text": [
      "/tmp/ipykernel_1041572/369906587.py:94: SettingWithCopyWarning: \n",
      "A value is trying to be set on a copy of a slice from a DataFrame.\n",
      "Try using .loc[row_indexer,col_indexer] = value instead\n",
      "\n",
      "See the caveats in the documentation: https://pandas.pydata.org/pandas-docs/stable/user_guide/indexing.html#returning-a-view-versus-a-copy\n",
      "  pri_df['policy_cost'] = pri_df['elev_invst'].cumsum()\n",
      "/tmp/ipykernel_1041572/369906587.py:95: SettingWithCopyWarning: \n",
      "A value is trying to be set on a copy of a slice from a DataFrame.\n",
      "Try using .loc[row_indexer,col_indexer] = value instead\n",
      "\n",
      "See the caveats in the documentation: https://pandas.pydata.org/pandas-docs/stable/user_guide/indexing.html#returning-a-view-versus-a-copy\n",
      "  slack_df['policy_cost'] = slack_df['elev_invst'].cumsum()\n",
      "/tmp/ipykernel_1041572/369906587.py:107: SettingWithCopyWarning: \n",
      "A value is trying to be set on a copy of a slice from a DataFrame.\n",
      "Try using .loc[row_indexer,col_indexer] = value instead\n",
      "\n",
      "See the caveats in the documentation: https://pandas.pydata.org/pandas-docs/stable/user_guide/indexing.html#returning-a-view-versus-a-copy\n",
      "  slack_elev['npv_check'] = slack_elev['npv_opt'].cumsum()\n"
     ]
    },
    {
     "name": "stdout",
     "output_type": "stream",
     "text": [
      "Calculate objective values for policy:\n",
      "Sort by cejst\n",
      "With Budget of $M 6000000.0\n",
      "Calculate objective values for policy:\n",
      "Sort by npv_opt\n",
      "With Budget of $M 7000000.0\n",
      "Calculate objective values for policy:\n",
      "Sort by avoid_rel_eal\n",
      "With Budget of $M 7000000.0\n",
      "Calculate objective values for policy:\n",
      "Sort by rel_eal\n",
      "With Budget of $M 7000000.0\n"
     ]
    },
    {
     "name": "stderr",
     "output_type": "stream",
     "text": [
      "/tmp/ipykernel_1041572/369906587.py:94: SettingWithCopyWarning: \n",
      "A value is trying to be set on a copy of a slice from a DataFrame.\n",
      "Try using .loc[row_indexer,col_indexer] = value instead\n",
      "\n",
      "See the caveats in the documentation: https://pandas.pydata.org/pandas-docs/stable/user_guide/indexing.html#returning-a-view-versus-a-copy\n",
      "  pri_df['policy_cost'] = pri_df['elev_invst'].cumsum()\n",
      "/tmp/ipykernel_1041572/369906587.py:95: SettingWithCopyWarning: \n",
      "A value is trying to be set on a copy of a slice from a DataFrame.\n",
      "Try using .loc[row_indexer,col_indexer] = value instead\n",
      "\n",
      "See the caveats in the documentation: https://pandas.pydata.org/pandas-docs/stable/user_guide/indexing.html#returning-a-view-versus-a-copy\n",
      "  slack_df['policy_cost'] = slack_df['elev_invst'].cumsum()\n"
     ]
    },
    {
     "name": "stdout",
     "output_type": "stream",
     "text": [
      "Calculate objective values for policy:\n",
      "Sort by lmi\n",
      "With Budget of $M 7000000.0\n"
     ]
    },
    {
     "name": "stderr",
     "output_type": "stream",
     "text": [
      "/tmp/ipykernel_1041572/369906587.py:94: SettingWithCopyWarning: \n",
      "A value is trying to be set on a copy of a slice from a DataFrame.\n",
      "Try using .loc[row_indexer,col_indexer] = value instead\n",
      "\n",
      "See the caveats in the documentation: https://pandas.pydata.org/pandas-docs/stable/user_guide/indexing.html#returning-a-view-versus-a-copy\n",
      "  pri_df['policy_cost'] = pri_df['elev_invst'].cumsum()\n",
      "/tmp/ipykernel_1041572/369906587.py:95: SettingWithCopyWarning: \n",
      "A value is trying to be set on a copy of a slice from a DataFrame.\n",
      "Try using .loc[row_indexer,col_indexer] = value instead\n",
      "\n",
      "See the caveats in the documentation: https://pandas.pydata.org/pandas-docs/stable/user_guide/indexing.html#returning-a-view-versus-a-copy\n",
      "  slack_df['policy_cost'] = slack_df['elev_invst'].cumsum()\n"
     ]
    },
    {
     "name": "stdout",
     "output_type": "stream",
     "text": [
      "Calculate objective values for policy:\n",
      "Sort by ovb\n",
      "With Budget of $M 7000000.0\n"
     ]
    },
    {
     "name": "stderr",
     "output_type": "stream",
     "text": [
      "/tmp/ipykernel_1041572/369906587.py:94: SettingWithCopyWarning: \n",
      "A value is trying to be set on a copy of a slice from a DataFrame.\n",
      "Try using .loc[row_indexer,col_indexer] = value instead\n",
      "\n",
      "See the caveats in the documentation: https://pandas.pydata.org/pandas-docs/stable/user_guide/indexing.html#returning-a-view-versus-a-copy\n",
      "  pri_df['policy_cost'] = pri_df['elev_invst'].cumsum()\n",
      "/tmp/ipykernel_1041572/369906587.py:95: SettingWithCopyWarning: \n",
      "A value is trying to be set on a copy of a slice from a DataFrame.\n",
      "Try using .loc[row_indexer,col_indexer] = value instead\n",
      "\n",
      "See the caveats in the documentation: https://pandas.pydata.org/pandas-docs/stable/user_guide/indexing.html#returning-a-view-versus-a-copy\n",
      "  slack_df['policy_cost'] = slack_df['elev_invst'].cumsum()\n",
      "/tmp/ipykernel_1041572/369906587.py:107: SettingWithCopyWarning: \n",
      "A value is trying to be set on a copy of a slice from a DataFrame.\n",
      "Try using .loc[row_indexer,col_indexer] = value instead\n",
      "\n",
      "See the caveats in the documentation: https://pandas.pydata.org/pandas-docs/stable/user_guide/indexing.html#returning-a-view-versus-a-copy\n",
      "  slack_elev['npv_check'] = slack_elev['npv_opt'].cumsum()\n"
     ]
    },
    {
     "name": "stdout",
     "output_type": "stream",
     "text": [
      "Calculate objective values for policy:\n",
      "Sort by cejst\n",
      "With Budget of $M 7000000.0\n",
      "Calculate objective values for policy:\n",
      "Sort by npv_opt\n",
      "With Budget of $M 8000000.0\n",
      "Calculate objective values for policy:\n",
      "Sort by avoid_rel_eal\n",
      "With Budget of $M 8000000.0\n",
      "Calculate objective values for policy:\n",
      "Sort by rel_eal\n",
      "With Budget of $M 8000000.0\n"
     ]
    },
    {
     "name": "stderr",
     "output_type": "stream",
     "text": [
      "/tmp/ipykernel_1041572/369906587.py:94: SettingWithCopyWarning: \n",
      "A value is trying to be set on a copy of a slice from a DataFrame.\n",
      "Try using .loc[row_indexer,col_indexer] = value instead\n",
      "\n",
      "See the caveats in the documentation: https://pandas.pydata.org/pandas-docs/stable/user_guide/indexing.html#returning-a-view-versus-a-copy\n",
      "  pri_df['policy_cost'] = pri_df['elev_invst'].cumsum()\n",
      "/tmp/ipykernel_1041572/369906587.py:95: SettingWithCopyWarning: \n",
      "A value is trying to be set on a copy of a slice from a DataFrame.\n",
      "Try using .loc[row_indexer,col_indexer] = value instead\n",
      "\n",
      "See the caveats in the documentation: https://pandas.pydata.org/pandas-docs/stable/user_guide/indexing.html#returning-a-view-versus-a-copy\n",
      "  slack_df['policy_cost'] = slack_df['elev_invst'].cumsum()\n"
     ]
    },
    {
     "name": "stdout",
     "output_type": "stream",
     "text": [
      "Calculate objective values for policy:\n",
      "Sort by lmi\n",
      "With Budget of $M 8000000.0\n"
     ]
    },
    {
     "name": "stderr",
     "output_type": "stream",
     "text": [
      "/tmp/ipykernel_1041572/369906587.py:94: SettingWithCopyWarning: \n",
      "A value is trying to be set on a copy of a slice from a DataFrame.\n",
      "Try using .loc[row_indexer,col_indexer] = value instead\n",
      "\n",
      "See the caveats in the documentation: https://pandas.pydata.org/pandas-docs/stable/user_guide/indexing.html#returning-a-view-versus-a-copy\n",
      "  pri_df['policy_cost'] = pri_df['elev_invst'].cumsum()\n",
      "/tmp/ipykernel_1041572/369906587.py:95: SettingWithCopyWarning: \n",
      "A value is trying to be set on a copy of a slice from a DataFrame.\n",
      "Try using .loc[row_indexer,col_indexer] = value instead\n",
      "\n",
      "See the caveats in the documentation: https://pandas.pydata.org/pandas-docs/stable/user_guide/indexing.html#returning-a-view-versus-a-copy\n",
      "  slack_df['policy_cost'] = slack_df['elev_invst'].cumsum()\n"
     ]
    },
    {
     "name": "stdout",
     "output_type": "stream",
     "text": [
      "Calculate objective values for policy:\n",
      "Sort by ovb\n",
      "With Budget of $M 8000000.0\n"
     ]
    },
    {
     "name": "stderr",
     "output_type": "stream",
     "text": [
      "/tmp/ipykernel_1041572/369906587.py:94: SettingWithCopyWarning: \n",
      "A value is trying to be set on a copy of a slice from a DataFrame.\n",
      "Try using .loc[row_indexer,col_indexer] = value instead\n",
      "\n",
      "See the caveats in the documentation: https://pandas.pydata.org/pandas-docs/stable/user_guide/indexing.html#returning-a-view-versus-a-copy\n",
      "  pri_df['policy_cost'] = pri_df['elev_invst'].cumsum()\n",
      "/tmp/ipykernel_1041572/369906587.py:95: SettingWithCopyWarning: \n",
      "A value is trying to be set on a copy of a slice from a DataFrame.\n",
      "Try using .loc[row_indexer,col_indexer] = value instead\n",
      "\n",
      "See the caveats in the documentation: https://pandas.pydata.org/pandas-docs/stable/user_guide/indexing.html#returning-a-view-versus-a-copy\n",
      "  slack_df['policy_cost'] = slack_df['elev_invst'].cumsum()\n",
      "/tmp/ipykernel_1041572/369906587.py:107: SettingWithCopyWarning: \n",
      "A value is trying to be set on a copy of a slice from a DataFrame.\n",
      "Try using .loc[row_indexer,col_indexer] = value instead\n",
      "\n",
      "See the caveats in the documentation: https://pandas.pydata.org/pandas-docs/stable/user_guide/indexing.html#returning-a-view-versus-a-copy\n",
      "  slack_elev['npv_check'] = slack_elev['npv_opt'].cumsum()\n"
     ]
    },
    {
     "name": "stdout",
     "output_type": "stream",
     "text": [
      "Calculate objective values for policy:\n",
      "Sort by cejst\n",
      "With Budget of $M 8000000.0\n",
      "Calculate objective values for policy:\n",
      "Sort by npv_opt\n",
      "With Budget of $M 9000000.0\n",
      "Calculate objective values for policy:\n",
      "Sort by avoid_rel_eal\n",
      "With Budget of $M 9000000.0\n",
      "Calculate objective values for policy:\n",
      "Sort by rel_eal\n",
      "With Budget of $M 9000000.0\n"
     ]
    },
    {
     "name": "stderr",
     "output_type": "stream",
     "text": [
      "/tmp/ipykernel_1041572/369906587.py:94: SettingWithCopyWarning: \n",
      "A value is trying to be set on a copy of a slice from a DataFrame.\n",
      "Try using .loc[row_indexer,col_indexer] = value instead\n",
      "\n",
      "See the caveats in the documentation: https://pandas.pydata.org/pandas-docs/stable/user_guide/indexing.html#returning-a-view-versus-a-copy\n",
      "  pri_df['policy_cost'] = pri_df['elev_invst'].cumsum()\n",
      "/tmp/ipykernel_1041572/369906587.py:95: SettingWithCopyWarning: \n",
      "A value is trying to be set on a copy of a slice from a DataFrame.\n",
      "Try using .loc[row_indexer,col_indexer] = value instead\n",
      "\n",
      "See the caveats in the documentation: https://pandas.pydata.org/pandas-docs/stable/user_guide/indexing.html#returning-a-view-versus-a-copy\n",
      "  slack_df['policy_cost'] = slack_df['elev_invst'].cumsum()\n"
     ]
    },
    {
     "name": "stdout",
     "output_type": "stream",
     "text": [
      "Calculate objective values for policy:\n",
      "Sort by lmi\n",
      "With Budget of $M 9000000.0\n"
     ]
    },
    {
     "name": "stderr",
     "output_type": "stream",
     "text": [
      "/tmp/ipykernel_1041572/369906587.py:94: SettingWithCopyWarning: \n",
      "A value is trying to be set on a copy of a slice from a DataFrame.\n",
      "Try using .loc[row_indexer,col_indexer] = value instead\n",
      "\n",
      "See the caveats in the documentation: https://pandas.pydata.org/pandas-docs/stable/user_guide/indexing.html#returning-a-view-versus-a-copy\n",
      "  pri_df['policy_cost'] = pri_df['elev_invst'].cumsum()\n",
      "/tmp/ipykernel_1041572/369906587.py:95: SettingWithCopyWarning: \n",
      "A value is trying to be set on a copy of a slice from a DataFrame.\n",
      "Try using .loc[row_indexer,col_indexer] = value instead\n",
      "\n",
      "See the caveats in the documentation: https://pandas.pydata.org/pandas-docs/stable/user_guide/indexing.html#returning-a-view-versus-a-copy\n",
      "  slack_df['policy_cost'] = slack_df['elev_invst'].cumsum()\n"
     ]
    },
    {
     "name": "stdout",
     "output_type": "stream",
     "text": [
      "Calculate objective values for policy:\n",
      "Sort by ovb\n",
      "With Budget of $M 9000000.0\n"
     ]
    },
    {
     "name": "stderr",
     "output_type": "stream",
     "text": [
      "/tmp/ipykernel_1041572/369906587.py:94: SettingWithCopyWarning: \n",
      "A value is trying to be set on a copy of a slice from a DataFrame.\n",
      "Try using .loc[row_indexer,col_indexer] = value instead\n",
      "\n",
      "See the caveats in the documentation: https://pandas.pydata.org/pandas-docs/stable/user_guide/indexing.html#returning-a-view-versus-a-copy\n",
      "  pri_df['policy_cost'] = pri_df['elev_invst'].cumsum()\n",
      "/tmp/ipykernel_1041572/369906587.py:95: SettingWithCopyWarning: \n",
      "A value is trying to be set on a copy of a slice from a DataFrame.\n",
      "Try using .loc[row_indexer,col_indexer] = value instead\n",
      "\n",
      "See the caveats in the documentation: https://pandas.pydata.org/pandas-docs/stable/user_guide/indexing.html#returning-a-view-versus-a-copy\n",
      "  slack_df['policy_cost'] = slack_df['elev_invst'].cumsum()\n",
      "/tmp/ipykernel_1041572/369906587.py:107: SettingWithCopyWarning: \n",
      "A value is trying to be set on a copy of a slice from a DataFrame.\n",
      "Try using .loc[row_indexer,col_indexer] = value instead\n",
      "\n",
      "See the caveats in the documentation: https://pandas.pydata.org/pandas-docs/stable/user_guide/indexing.html#returning-a-view-versus-a-copy\n",
      "  slack_elev['npv_check'] = slack_elev['npv_opt'].cumsum()\n"
     ]
    },
    {
     "name": "stdout",
     "output_type": "stream",
     "text": [
      "Calculate objective values for policy:\n",
      "Sort by cejst\n",
      "With Budget of $M 9000000.0\n",
      "Calculate objective values for policy:\n",
      "Sort by npv_opt\n",
      "With Budget of $M 10000000.0\n",
      "Calculate objective values for policy:\n",
      "Sort by avoid_rel_eal\n",
      "With Budget of $M 10000000.0\n",
      "Calculate objective values for policy:\n",
      "Sort by rel_eal\n",
      "With Budget of $M 10000000.0\n"
     ]
    },
    {
     "name": "stderr",
     "output_type": "stream",
     "text": [
      "/tmp/ipykernel_1041572/369906587.py:94: SettingWithCopyWarning: \n",
      "A value is trying to be set on a copy of a slice from a DataFrame.\n",
      "Try using .loc[row_indexer,col_indexer] = value instead\n",
      "\n",
      "See the caveats in the documentation: https://pandas.pydata.org/pandas-docs/stable/user_guide/indexing.html#returning-a-view-versus-a-copy\n",
      "  pri_df['policy_cost'] = pri_df['elev_invst'].cumsum()\n",
      "/tmp/ipykernel_1041572/369906587.py:95: SettingWithCopyWarning: \n",
      "A value is trying to be set on a copy of a slice from a DataFrame.\n",
      "Try using .loc[row_indexer,col_indexer] = value instead\n",
      "\n",
      "See the caveats in the documentation: https://pandas.pydata.org/pandas-docs/stable/user_guide/indexing.html#returning-a-view-versus-a-copy\n",
      "  slack_df['policy_cost'] = slack_df['elev_invst'].cumsum()\n"
     ]
    },
    {
     "name": "stdout",
     "output_type": "stream",
     "text": [
      "Calculate objective values for policy:\n",
      "Sort by lmi\n",
      "With Budget of $M 10000000.0\n"
     ]
    },
    {
     "name": "stderr",
     "output_type": "stream",
     "text": [
      "/tmp/ipykernel_1041572/369906587.py:94: SettingWithCopyWarning: \n",
      "A value is trying to be set on a copy of a slice from a DataFrame.\n",
      "Try using .loc[row_indexer,col_indexer] = value instead\n",
      "\n",
      "See the caveats in the documentation: https://pandas.pydata.org/pandas-docs/stable/user_guide/indexing.html#returning-a-view-versus-a-copy\n",
      "  pri_df['policy_cost'] = pri_df['elev_invst'].cumsum()\n",
      "/tmp/ipykernel_1041572/369906587.py:95: SettingWithCopyWarning: \n",
      "A value is trying to be set on a copy of a slice from a DataFrame.\n",
      "Try using .loc[row_indexer,col_indexer] = value instead\n",
      "\n",
      "See the caveats in the documentation: https://pandas.pydata.org/pandas-docs/stable/user_guide/indexing.html#returning-a-view-versus-a-copy\n",
      "  slack_df['policy_cost'] = slack_df['elev_invst'].cumsum()\n"
     ]
    },
    {
     "name": "stdout",
     "output_type": "stream",
     "text": [
      "Calculate objective values for policy:\n",
      "Sort by ovb\n",
      "With Budget of $M 10000000.0\n"
     ]
    },
    {
     "name": "stderr",
     "output_type": "stream",
     "text": [
      "/tmp/ipykernel_1041572/369906587.py:94: SettingWithCopyWarning: \n",
      "A value is trying to be set on a copy of a slice from a DataFrame.\n",
      "Try using .loc[row_indexer,col_indexer] = value instead\n",
      "\n",
      "See the caveats in the documentation: https://pandas.pydata.org/pandas-docs/stable/user_guide/indexing.html#returning-a-view-versus-a-copy\n",
      "  pri_df['policy_cost'] = pri_df['elev_invst'].cumsum()\n",
      "/tmp/ipykernel_1041572/369906587.py:95: SettingWithCopyWarning: \n",
      "A value is trying to be set on a copy of a slice from a DataFrame.\n",
      "Try using .loc[row_indexer,col_indexer] = value instead\n",
      "\n",
      "See the caveats in the documentation: https://pandas.pydata.org/pandas-docs/stable/user_guide/indexing.html#returning-a-view-versus-a-copy\n",
      "  slack_df['policy_cost'] = slack_df['elev_invst'].cumsum()\n",
      "/tmp/ipykernel_1041572/369906587.py:107: SettingWithCopyWarning: \n",
      "A value is trying to be set on a copy of a slice from a DataFrame.\n",
      "Try using .loc[row_indexer,col_indexer] = value instead\n",
      "\n",
      "See the caveats in the documentation: https://pandas.pydata.org/pandas-docs/stable/user_guide/indexing.html#returning-a-view-versus-a-copy\n",
      "  slack_elev['npv_check'] = slack_elev['npv_opt'].cumsum()\n"
     ]
    },
    {
     "name": "stdout",
     "output_type": "stream",
     "text": [
      "Calculate objective values for policy:\n",
      "Sort by cejst\n",
      "With Budget of $M 10000000.0\n",
      "Calculate objective values for policy:\n",
      "Sort by npv_opt\n",
      "With Budget of $M 11000000.0\n",
      "Calculate objective values for policy:\n",
      "Sort by avoid_rel_eal\n",
      "With Budget of $M 11000000.0\n",
      "Calculate objective values for policy:\n",
      "Sort by rel_eal\n",
      "With Budget of $M 11000000.0\n"
     ]
    },
    {
     "name": "stderr",
     "output_type": "stream",
     "text": [
      "/tmp/ipykernel_1041572/369906587.py:94: SettingWithCopyWarning: \n",
      "A value is trying to be set on a copy of a slice from a DataFrame.\n",
      "Try using .loc[row_indexer,col_indexer] = value instead\n",
      "\n",
      "See the caveats in the documentation: https://pandas.pydata.org/pandas-docs/stable/user_guide/indexing.html#returning-a-view-versus-a-copy\n",
      "  pri_df['policy_cost'] = pri_df['elev_invst'].cumsum()\n",
      "/tmp/ipykernel_1041572/369906587.py:95: SettingWithCopyWarning: \n",
      "A value is trying to be set on a copy of a slice from a DataFrame.\n",
      "Try using .loc[row_indexer,col_indexer] = value instead\n",
      "\n",
      "See the caveats in the documentation: https://pandas.pydata.org/pandas-docs/stable/user_guide/indexing.html#returning-a-view-versus-a-copy\n",
      "  slack_df['policy_cost'] = slack_df['elev_invst'].cumsum()\n"
     ]
    },
    {
     "name": "stdout",
     "output_type": "stream",
     "text": [
      "Calculate objective values for policy:\n",
      "Sort by lmi\n",
      "With Budget of $M 11000000.0\n"
     ]
    },
    {
     "name": "stderr",
     "output_type": "stream",
     "text": [
      "/tmp/ipykernel_1041572/369906587.py:94: SettingWithCopyWarning: \n",
      "A value is trying to be set on a copy of a slice from a DataFrame.\n",
      "Try using .loc[row_indexer,col_indexer] = value instead\n",
      "\n",
      "See the caveats in the documentation: https://pandas.pydata.org/pandas-docs/stable/user_guide/indexing.html#returning-a-view-versus-a-copy\n",
      "  pri_df['policy_cost'] = pri_df['elev_invst'].cumsum()\n",
      "/tmp/ipykernel_1041572/369906587.py:95: SettingWithCopyWarning: \n",
      "A value is trying to be set on a copy of a slice from a DataFrame.\n",
      "Try using .loc[row_indexer,col_indexer] = value instead\n",
      "\n",
      "See the caveats in the documentation: https://pandas.pydata.org/pandas-docs/stable/user_guide/indexing.html#returning-a-view-versus-a-copy\n",
      "  slack_df['policy_cost'] = slack_df['elev_invst'].cumsum()\n",
      "/tmp/ipykernel_1041572/369906587.py:107: SettingWithCopyWarning: \n",
      "A value is trying to be set on a copy of a slice from a DataFrame.\n",
      "Try using .loc[row_indexer,col_indexer] = value instead\n",
      "\n",
      "See the caveats in the documentation: https://pandas.pydata.org/pandas-docs/stable/user_guide/indexing.html#returning-a-view-versus-a-copy\n",
      "  slack_elev['npv_check'] = slack_elev['npv_opt'].cumsum()\n"
     ]
    },
    {
     "name": "stdout",
     "output_type": "stream",
     "text": [
      "Calculate objective values for policy:\n",
      "Sort by ovb\n",
      "With Budget of $M 11000000.0\n"
     ]
    },
    {
     "name": "stderr",
     "output_type": "stream",
     "text": [
      "/tmp/ipykernel_1041572/369906587.py:94: SettingWithCopyWarning: \n",
      "A value is trying to be set on a copy of a slice from a DataFrame.\n",
      "Try using .loc[row_indexer,col_indexer] = value instead\n",
      "\n",
      "See the caveats in the documentation: https://pandas.pydata.org/pandas-docs/stable/user_guide/indexing.html#returning-a-view-versus-a-copy\n",
      "  pri_df['policy_cost'] = pri_df['elev_invst'].cumsum()\n",
      "/tmp/ipykernel_1041572/369906587.py:95: SettingWithCopyWarning: \n",
      "A value is trying to be set on a copy of a slice from a DataFrame.\n",
      "Try using .loc[row_indexer,col_indexer] = value instead\n",
      "\n",
      "See the caveats in the documentation: https://pandas.pydata.org/pandas-docs/stable/user_guide/indexing.html#returning-a-view-versus-a-copy\n",
      "  slack_df['policy_cost'] = slack_df['elev_invst'].cumsum()\n",
      "/tmp/ipykernel_1041572/369906587.py:107: SettingWithCopyWarning: \n",
      "A value is trying to be set on a copy of a slice from a DataFrame.\n",
      "Try using .loc[row_indexer,col_indexer] = value instead\n",
      "\n",
      "See the caveats in the documentation: https://pandas.pydata.org/pandas-docs/stable/user_guide/indexing.html#returning-a-view-versus-a-copy\n",
      "  slack_elev['npv_check'] = slack_elev['npv_opt'].cumsum()\n"
     ]
    },
    {
     "name": "stdout",
     "output_type": "stream",
     "text": [
      "Calculate objective values for policy:\n",
      "Sort by cejst\n",
      "With Budget of $M 11000000.0\n",
      "Calculate objective values for policy:\n",
      "Sort by npv_opt\n",
      "With Budget of $M 12000000.0\n",
      "Calculate objective values for policy:\n",
      "Sort by avoid_rel_eal\n",
      "With Budget of $M 12000000.0\n",
      "Calculate objective values for policy:\n",
      "Sort by rel_eal\n",
      "With Budget of $M 12000000.0\n"
     ]
    },
    {
     "name": "stderr",
     "output_type": "stream",
     "text": [
      "/tmp/ipykernel_1041572/369906587.py:94: SettingWithCopyWarning: \n",
      "A value is trying to be set on a copy of a slice from a DataFrame.\n",
      "Try using .loc[row_indexer,col_indexer] = value instead\n",
      "\n",
      "See the caveats in the documentation: https://pandas.pydata.org/pandas-docs/stable/user_guide/indexing.html#returning-a-view-versus-a-copy\n",
      "  pri_df['policy_cost'] = pri_df['elev_invst'].cumsum()\n",
      "/tmp/ipykernel_1041572/369906587.py:95: SettingWithCopyWarning: \n",
      "A value is trying to be set on a copy of a slice from a DataFrame.\n",
      "Try using .loc[row_indexer,col_indexer] = value instead\n",
      "\n",
      "See the caveats in the documentation: https://pandas.pydata.org/pandas-docs/stable/user_guide/indexing.html#returning-a-view-versus-a-copy\n",
      "  slack_df['policy_cost'] = slack_df['elev_invst'].cumsum()\n"
     ]
    },
    {
     "name": "stdout",
     "output_type": "stream",
     "text": [
      "Calculate objective values for policy:\n",
      "Sort by lmi\n",
      "With Budget of $M 12000000.0\n"
     ]
    },
    {
     "name": "stderr",
     "output_type": "stream",
     "text": [
      "/tmp/ipykernel_1041572/369906587.py:94: SettingWithCopyWarning: \n",
      "A value is trying to be set on a copy of a slice from a DataFrame.\n",
      "Try using .loc[row_indexer,col_indexer] = value instead\n",
      "\n",
      "See the caveats in the documentation: https://pandas.pydata.org/pandas-docs/stable/user_guide/indexing.html#returning-a-view-versus-a-copy\n",
      "  pri_df['policy_cost'] = pri_df['elev_invst'].cumsum()\n",
      "/tmp/ipykernel_1041572/369906587.py:95: SettingWithCopyWarning: \n",
      "A value is trying to be set on a copy of a slice from a DataFrame.\n",
      "Try using .loc[row_indexer,col_indexer] = value instead\n",
      "\n",
      "See the caveats in the documentation: https://pandas.pydata.org/pandas-docs/stable/user_guide/indexing.html#returning-a-view-versus-a-copy\n",
      "  slack_df['policy_cost'] = slack_df['elev_invst'].cumsum()\n",
      "/tmp/ipykernel_1041572/369906587.py:107: SettingWithCopyWarning: \n",
      "A value is trying to be set on a copy of a slice from a DataFrame.\n",
      "Try using .loc[row_indexer,col_indexer] = value instead\n",
      "\n",
      "See the caveats in the documentation: https://pandas.pydata.org/pandas-docs/stable/user_guide/indexing.html#returning-a-view-versus-a-copy\n",
      "  slack_elev['npv_check'] = slack_elev['npv_opt'].cumsum()\n"
     ]
    },
    {
     "name": "stdout",
     "output_type": "stream",
     "text": [
      "Calculate objective values for policy:\n",
      "Sort by ovb\n",
      "With Budget of $M 12000000.0\n"
     ]
    },
    {
     "name": "stderr",
     "output_type": "stream",
     "text": [
      "/tmp/ipykernel_1041572/369906587.py:94: SettingWithCopyWarning: \n",
      "A value is trying to be set on a copy of a slice from a DataFrame.\n",
      "Try using .loc[row_indexer,col_indexer] = value instead\n",
      "\n",
      "See the caveats in the documentation: https://pandas.pydata.org/pandas-docs/stable/user_guide/indexing.html#returning-a-view-versus-a-copy\n",
      "  pri_df['policy_cost'] = pri_df['elev_invst'].cumsum()\n",
      "/tmp/ipykernel_1041572/369906587.py:95: SettingWithCopyWarning: \n",
      "A value is trying to be set on a copy of a slice from a DataFrame.\n",
      "Try using .loc[row_indexer,col_indexer] = value instead\n",
      "\n",
      "See the caveats in the documentation: https://pandas.pydata.org/pandas-docs/stable/user_guide/indexing.html#returning-a-view-versus-a-copy\n",
      "  slack_df['policy_cost'] = slack_df['elev_invst'].cumsum()\n",
      "/tmp/ipykernel_1041572/369906587.py:107: SettingWithCopyWarning: \n",
      "A value is trying to be set on a copy of a slice from a DataFrame.\n",
      "Try using .loc[row_indexer,col_indexer] = value instead\n",
      "\n",
      "See the caveats in the documentation: https://pandas.pydata.org/pandas-docs/stable/user_guide/indexing.html#returning-a-view-versus-a-copy\n",
      "  slack_elev['npv_check'] = slack_elev['npv_opt'].cumsum()\n"
     ]
    },
    {
     "name": "stdout",
     "output_type": "stream",
     "text": [
      "Calculate objective values for policy:\n",
      "Sort by cejst\n",
      "With Budget of $M 12000000.0\n",
      "Calculate objective values for policy:\n",
      "Sort by npv_opt\n",
      "With Budget of $M 13000000.0\n",
      "Calculate objective values for policy:\n",
      "Sort by avoid_rel_eal\n",
      "With Budget of $M 13000000.0\n",
      "Calculate objective values for policy:\n",
      "Sort by rel_eal\n",
      "With Budget of $M 13000000.0\n"
     ]
    },
    {
     "name": "stderr",
     "output_type": "stream",
     "text": [
      "/tmp/ipykernel_1041572/369906587.py:94: SettingWithCopyWarning: \n",
      "A value is trying to be set on a copy of a slice from a DataFrame.\n",
      "Try using .loc[row_indexer,col_indexer] = value instead\n",
      "\n",
      "See the caveats in the documentation: https://pandas.pydata.org/pandas-docs/stable/user_guide/indexing.html#returning-a-view-versus-a-copy\n",
      "  pri_df['policy_cost'] = pri_df['elev_invst'].cumsum()\n",
      "/tmp/ipykernel_1041572/369906587.py:95: SettingWithCopyWarning: \n",
      "A value is trying to be set on a copy of a slice from a DataFrame.\n",
      "Try using .loc[row_indexer,col_indexer] = value instead\n",
      "\n",
      "See the caveats in the documentation: https://pandas.pydata.org/pandas-docs/stable/user_guide/indexing.html#returning-a-view-versus-a-copy\n",
      "  slack_df['policy_cost'] = slack_df['elev_invst'].cumsum()\n"
     ]
    },
    {
     "name": "stdout",
     "output_type": "stream",
     "text": [
      "Calculate objective values for policy:\n",
      "Sort by lmi\n",
      "With Budget of $M 13000000.0\n"
     ]
    },
    {
     "name": "stderr",
     "output_type": "stream",
     "text": [
      "/tmp/ipykernel_1041572/369906587.py:94: SettingWithCopyWarning: \n",
      "A value is trying to be set on a copy of a slice from a DataFrame.\n",
      "Try using .loc[row_indexer,col_indexer] = value instead\n",
      "\n",
      "See the caveats in the documentation: https://pandas.pydata.org/pandas-docs/stable/user_guide/indexing.html#returning-a-view-versus-a-copy\n",
      "  pri_df['policy_cost'] = pri_df['elev_invst'].cumsum()\n",
      "/tmp/ipykernel_1041572/369906587.py:95: SettingWithCopyWarning: \n",
      "A value is trying to be set on a copy of a slice from a DataFrame.\n",
      "Try using .loc[row_indexer,col_indexer] = value instead\n",
      "\n",
      "See the caveats in the documentation: https://pandas.pydata.org/pandas-docs/stable/user_guide/indexing.html#returning-a-view-versus-a-copy\n",
      "  slack_df['policy_cost'] = slack_df['elev_invst'].cumsum()\n"
     ]
    },
    {
     "name": "stdout",
     "output_type": "stream",
     "text": [
      "Calculate objective values for policy:\n",
      "Sort by ovb\n",
      "With Budget of $M 13000000.0\n"
     ]
    },
    {
     "name": "stderr",
     "output_type": "stream",
     "text": [
      "/tmp/ipykernel_1041572/369906587.py:94: SettingWithCopyWarning: \n",
      "A value is trying to be set on a copy of a slice from a DataFrame.\n",
      "Try using .loc[row_indexer,col_indexer] = value instead\n",
      "\n",
      "See the caveats in the documentation: https://pandas.pydata.org/pandas-docs/stable/user_guide/indexing.html#returning-a-view-versus-a-copy\n",
      "  pri_df['policy_cost'] = pri_df['elev_invst'].cumsum()\n",
      "/tmp/ipykernel_1041572/369906587.py:95: SettingWithCopyWarning: \n",
      "A value is trying to be set on a copy of a slice from a DataFrame.\n",
      "Try using .loc[row_indexer,col_indexer] = value instead\n",
      "\n",
      "See the caveats in the documentation: https://pandas.pydata.org/pandas-docs/stable/user_guide/indexing.html#returning-a-view-versus-a-copy\n",
      "  slack_df['policy_cost'] = slack_df['elev_invst'].cumsum()\n",
      "/tmp/ipykernel_1041572/369906587.py:107: SettingWithCopyWarning: \n",
      "A value is trying to be set on a copy of a slice from a DataFrame.\n",
      "Try using .loc[row_indexer,col_indexer] = value instead\n",
      "\n",
      "See the caveats in the documentation: https://pandas.pydata.org/pandas-docs/stable/user_guide/indexing.html#returning-a-view-versus-a-copy\n",
      "  slack_elev['npv_check'] = slack_elev['npv_opt'].cumsum()\n"
     ]
    },
    {
     "name": "stdout",
     "output_type": "stream",
     "text": [
      "Calculate objective values for policy:\n",
      "Sort by cejst\n",
      "With Budget of $M 13000000.0\n",
      "Calculate objective values for policy:\n",
      "Sort by npv_opt\n",
      "With Budget of $M 14000000.0\n",
      "Calculate objective values for policy:\n",
      "Sort by avoid_rel_eal\n",
      "With Budget of $M 14000000.0\n",
      "Calculate objective values for policy:\n",
      "Sort by rel_eal\n",
      "With Budget of $M 14000000.0\n"
     ]
    },
    {
     "name": "stderr",
     "output_type": "stream",
     "text": [
      "/tmp/ipykernel_1041572/369906587.py:94: SettingWithCopyWarning: \n",
      "A value is trying to be set on a copy of a slice from a DataFrame.\n",
      "Try using .loc[row_indexer,col_indexer] = value instead\n",
      "\n",
      "See the caveats in the documentation: https://pandas.pydata.org/pandas-docs/stable/user_guide/indexing.html#returning-a-view-versus-a-copy\n",
      "  pri_df['policy_cost'] = pri_df['elev_invst'].cumsum()\n",
      "/tmp/ipykernel_1041572/369906587.py:95: SettingWithCopyWarning: \n",
      "A value is trying to be set on a copy of a slice from a DataFrame.\n",
      "Try using .loc[row_indexer,col_indexer] = value instead\n",
      "\n",
      "See the caveats in the documentation: https://pandas.pydata.org/pandas-docs/stable/user_guide/indexing.html#returning-a-view-versus-a-copy\n",
      "  slack_df['policy_cost'] = slack_df['elev_invst'].cumsum()\n"
     ]
    },
    {
     "name": "stdout",
     "output_type": "stream",
     "text": [
      "Calculate objective values for policy:\n",
      "Sort by lmi\n",
      "With Budget of $M 14000000.0\n"
     ]
    },
    {
     "name": "stderr",
     "output_type": "stream",
     "text": [
      "/tmp/ipykernel_1041572/369906587.py:94: SettingWithCopyWarning: \n",
      "A value is trying to be set on a copy of a slice from a DataFrame.\n",
      "Try using .loc[row_indexer,col_indexer] = value instead\n",
      "\n",
      "See the caveats in the documentation: https://pandas.pydata.org/pandas-docs/stable/user_guide/indexing.html#returning-a-view-versus-a-copy\n",
      "  pri_df['policy_cost'] = pri_df['elev_invst'].cumsum()\n",
      "/tmp/ipykernel_1041572/369906587.py:95: SettingWithCopyWarning: \n",
      "A value is trying to be set on a copy of a slice from a DataFrame.\n",
      "Try using .loc[row_indexer,col_indexer] = value instead\n",
      "\n",
      "See the caveats in the documentation: https://pandas.pydata.org/pandas-docs/stable/user_guide/indexing.html#returning-a-view-versus-a-copy\n",
      "  slack_df['policy_cost'] = slack_df['elev_invst'].cumsum()\n"
     ]
    },
    {
     "name": "stdout",
     "output_type": "stream",
     "text": [
      "Calculate objective values for policy:\n",
      "Sort by ovb\n",
      "With Budget of $M 14000000.0\n"
     ]
    },
    {
     "name": "stderr",
     "output_type": "stream",
     "text": [
      "/tmp/ipykernel_1041572/369906587.py:94: SettingWithCopyWarning: \n",
      "A value is trying to be set on a copy of a slice from a DataFrame.\n",
      "Try using .loc[row_indexer,col_indexer] = value instead\n",
      "\n",
      "See the caveats in the documentation: https://pandas.pydata.org/pandas-docs/stable/user_guide/indexing.html#returning-a-view-versus-a-copy\n",
      "  pri_df['policy_cost'] = pri_df['elev_invst'].cumsum()\n",
      "/tmp/ipykernel_1041572/369906587.py:95: SettingWithCopyWarning: \n",
      "A value is trying to be set on a copy of a slice from a DataFrame.\n",
      "Try using .loc[row_indexer,col_indexer] = value instead\n",
      "\n",
      "See the caveats in the documentation: https://pandas.pydata.org/pandas-docs/stable/user_guide/indexing.html#returning-a-view-versus-a-copy\n",
      "  slack_df['policy_cost'] = slack_df['elev_invst'].cumsum()\n",
      "/tmp/ipykernel_1041572/369906587.py:107: SettingWithCopyWarning: \n",
      "A value is trying to be set on a copy of a slice from a DataFrame.\n",
      "Try using .loc[row_indexer,col_indexer] = value instead\n",
      "\n",
      "See the caveats in the documentation: https://pandas.pydata.org/pandas-docs/stable/user_guide/indexing.html#returning-a-view-versus-a-copy\n",
      "  slack_elev['npv_check'] = slack_elev['npv_opt'].cumsum()\n"
     ]
    },
    {
     "name": "stdout",
     "output_type": "stream",
     "text": [
      "Calculate objective values for policy:\n",
      "Sort by cejst\n",
      "With Budget of $M 14000000.0\n",
      "Calculate objective values for policy:\n",
      "Sort by npv_opt\n",
      "With Budget of $M 15000000.0\n",
      "Calculate objective values for policy:\n",
      "Sort by avoid_rel_eal\n",
      "With Budget of $M 15000000.0\n",
      "Calculate objective values for policy:\n",
      "Sort by rel_eal\n",
      "With Budget of $M 15000000.0\n"
     ]
    },
    {
     "name": "stderr",
     "output_type": "stream",
     "text": [
      "/tmp/ipykernel_1041572/369906587.py:94: SettingWithCopyWarning: \n",
      "A value is trying to be set on a copy of a slice from a DataFrame.\n",
      "Try using .loc[row_indexer,col_indexer] = value instead\n",
      "\n",
      "See the caveats in the documentation: https://pandas.pydata.org/pandas-docs/stable/user_guide/indexing.html#returning-a-view-versus-a-copy\n",
      "  pri_df['policy_cost'] = pri_df['elev_invst'].cumsum()\n",
      "/tmp/ipykernel_1041572/369906587.py:95: SettingWithCopyWarning: \n",
      "A value is trying to be set on a copy of a slice from a DataFrame.\n",
      "Try using .loc[row_indexer,col_indexer] = value instead\n",
      "\n",
      "See the caveats in the documentation: https://pandas.pydata.org/pandas-docs/stable/user_guide/indexing.html#returning-a-view-versus-a-copy\n",
      "  slack_df['policy_cost'] = slack_df['elev_invst'].cumsum()\n"
     ]
    },
    {
     "name": "stdout",
     "output_type": "stream",
     "text": [
      "Calculate objective values for policy:\n",
      "Sort by lmi\n",
      "With Budget of $M 15000000.0\n"
     ]
    },
    {
     "name": "stderr",
     "output_type": "stream",
     "text": [
      "/tmp/ipykernel_1041572/369906587.py:94: SettingWithCopyWarning: \n",
      "A value is trying to be set on a copy of a slice from a DataFrame.\n",
      "Try using .loc[row_indexer,col_indexer] = value instead\n",
      "\n",
      "See the caveats in the documentation: https://pandas.pydata.org/pandas-docs/stable/user_guide/indexing.html#returning-a-view-versus-a-copy\n",
      "  pri_df['policy_cost'] = pri_df['elev_invst'].cumsum()\n",
      "/tmp/ipykernel_1041572/369906587.py:95: SettingWithCopyWarning: \n",
      "A value is trying to be set on a copy of a slice from a DataFrame.\n",
      "Try using .loc[row_indexer,col_indexer] = value instead\n",
      "\n",
      "See the caveats in the documentation: https://pandas.pydata.org/pandas-docs/stable/user_guide/indexing.html#returning-a-view-versus-a-copy\n",
      "  slack_df['policy_cost'] = slack_df['elev_invst'].cumsum()\n"
     ]
    },
    {
     "name": "stdout",
     "output_type": "stream",
     "text": [
      "Calculate objective values for policy:\n",
      "Sort by ovb\n",
      "With Budget of $M 15000000.0\n"
     ]
    },
    {
     "name": "stderr",
     "output_type": "stream",
     "text": [
      "/tmp/ipykernel_1041572/369906587.py:94: SettingWithCopyWarning: \n",
      "A value is trying to be set on a copy of a slice from a DataFrame.\n",
      "Try using .loc[row_indexer,col_indexer] = value instead\n",
      "\n",
      "See the caveats in the documentation: https://pandas.pydata.org/pandas-docs/stable/user_guide/indexing.html#returning-a-view-versus-a-copy\n",
      "  pri_df['policy_cost'] = pri_df['elev_invst'].cumsum()\n",
      "/tmp/ipykernel_1041572/369906587.py:95: SettingWithCopyWarning: \n",
      "A value is trying to be set on a copy of a slice from a DataFrame.\n",
      "Try using .loc[row_indexer,col_indexer] = value instead\n",
      "\n",
      "See the caveats in the documentation: https://pandas.pydata.org/pandas-docs/stable/user_guide/indexing.html#returning-a-view-versus-a-copy\n",
      "  slack_df['policy_cost'] = slack_df['elev_invst'].cumsum()\n",
      "/tmp/ipykernel_1041572/369906587.py:107: SettingWithCopyWarning: \n",
      "A value is trying to be set on a copy of a slice from a DataFrame.\n",
      "Try using .loc[row_indexer,col_indexer] = value instead\n",
      "\n",
      "See the caveats in the documentation: https://pandas.pydata.org/pandas-docs/stable/user_guide/indexing.html#returning-a-view-versus-a-copy\n",
      "  slack_elev['npv_check'] = slack_elev['npv_opt'].cumsum()\n"
     ]
    },
    {
     "name": "stdout",
     "output_type": "stream",
     "text": [
      "Calculate objective values for policy:\n",
      "Sort by cejst\n",
      "With Budget of $M 15000000.0\n",
      "Scenario: Lower_hazus\n",
      "Calculate objective values for policy:\n",
      "Sort by npv_opt\n",
      "With Budget of $M 1000000.0\n",
      "Calculate objective values for policy:\n",
      "Sort by avoid_rel_eal\n",
      "With Budget of $M 1000000.0\n",
      "Calculate objective values for policy:\n",
      "Sort by rel_eal\n",
      "With Budget of $M 1000000.0\n"
     ]
    },
    {
     "name": "stderr",
     "output_type": "stream",
     "text": [
      "/tmp/ipykernel_1041572/369906587.py:94: SettingWithCopyWarning: \n",
      "A value is trying to be set on a copy of a slice from a DataFrame.\n",
      "Try using .loc[row_indexer,col_indexer] = value instead\n",
      "\n",
      "See the caveats in the documentation: https://pandas.pydata.org/pandas-docs/stable/user_guide/indexing.html#returning-a-view-versus-a-copy\n",
      "  pri_df['policy_cost'] = pri_df['elev_invst'].cumsum()\n",
      "/tmp/ipykernel_1041572/369906587.py:95: SettingWithCopyWarning: \n",
      "A value is trying to be set on a copy of a slice from a DataFrame.\n",
      "Try using .loc[row_indexer,col_indexer] = value instead\n",
      "\n",
      "See the caveats in the documentation: https://pandas.pydata.org/pandas-docs/stable/user_guide/indexing.html#returning-a-view-versus-a-copy\n",
      "  slack_df['policy_cost'] = slack_df['elev_invst'].cumsum()\n"
     ]
    },
    {
     "name": "stdout",
     "output_type": "stream",
     "text": [
      "Calculate objective values for policy:\n",
      "Sort by lmi\n",
      "With Budget of $M 1000000.0\n"
     ]
    },
    {
     "name": "stderr",
     "output_type": "stream",
     "text": [
      "/tmp/ipykernel_1041572/369906587.py:94: SettingWithCopyWarning: \n",
      "A value is trying to be set on a copy of a slice from a DataFrame.\n",
      "Try using .loc[row_indexer,col_indexer] = value instead\n",
      "\n",
      "See the caveats in the documentation: https://pandas.pydata.org/pandas-docs/stable/user_guide/indexing.html#returning-a-view-versus-a-copy\n",
      "  pri_df['policy_cost'] = pri_df['elev_invst'].cumsum()\n",
      "/tmp/ipykernel_1041572/369906587.py:95: SettingWithCopyWarning: \n",
      "A value is trying to be set on a copy of a slice from a DataFrame.\n",
      "Try using .loc[row_indexer,col_indexer] = value instead\n",
      "\n",
      "See the caveats in the documentation: https://pandas.pydata.org/pandas-docs/stable/user_guide/indexing.html#returning-a-view-versus-a-copy\n",
      "  slack_df['policy_cost'] = slack_df['elev_invst'].cumsum()\n"
     ]
    },
    {
     "name": "stdout",
     "output_type": "stream",
     "text": [
      "Calculate objective values for policy:\n",
      "Sort by ovb\n",
      "With Budget of $M 1000000.0\n"
     ]
    },
    {
     "name": "stderr",
     "output_type": "stream",
     "text": [
      "/tmp/ipykernel_1041572/369906587.py:94: SettingWithCopyWarning: \n",
      "A value is trying to be set on a copy of a slice from a DataFrame.\n",
      "Try using .loc[row_indexer,col_indexer] = value instead\n",
      "\n",
      "See the caveats in the documentation: https://pandas.pydata.org/pandas-docs/stable/user_guide/indexing.html#returning-a-view-versus-a-copy\n",
      "  pri_df['policy_cost'] = pri_df['elev_invst'].cumsum()\n",
      "/tmp/ipykernel_1041572/369906587.py:95: SettingWithCopyWarning: \n",
      "A value is trying to be set on a copy of a slice from a DataFrame.\n",
      "Try using .loc[row_indexer,col_indexer] = value instead\n",
      "\n",
      "See the caveats in the documentation: https://pandas.pydata.org/pandas-docs/stable/user_guide/indexing.html#returning-a-view-versus-a-copy\n",
      "  slack_df['policy_cost'] = slack_df['elev_invst'].cumsum()\n",
      "/tmp/ipykernel_1041572/369906587.py:107: SettingWithCopyWarning: \n",
      "A value is trying to be set on a copy of a slice from a DataFrame.\n",
      "Try using .loc[row_indexer,col_indexer] = value instead\n",
      "\n",
      "See the caveats in the documentation: https://pandas.pydata.org/pandas-docs/stable/user_guide/indexing.html#returning-a-view-versus-a-copy\n",
      "  slack_elev['npv_check'] = slack_elev['npv_opt'].cumsum()\n"
     ]
    },
    {
     "name": "stdout",
     "output_type": "stream",
     "text": [
      "Calculate objective values for policy:\n",
      "Sort by cejst\n",
      "With Budget of $M 1000000.0\n",
      "Calculate objective values for policy:\n",
      "Sort by npv_opt\n",
      "With Budget of $M 1500000.0\n",
      "Calculate objective values for policy:\n",
      "Sort by avoid_rel_eal\n",
      "With Budget of $M 1500000.0\n",
      "Calculate objective values for policy:\n",
      "Sort by rel_eal\n",
      "With Budget of $M 1500000.0\n"
     ]
    },
    {
     "name": "stderr",
     "output_type": "stream",
     "text": [
      "/tmp/ipykernel_1041572/369906587.py:94: SettingWithCopyWarning: \n",
      "A value is trying to be set on a copy of a slice from a DataFrame.\n",
      "Try using .loc[row_indexer,col_indexer] = value instead\n",
      "\n",
      "See the caveats in the documentation: https://pandas.pydata.org/pandas-docs/stable/user_guide/indexing.html#returning-a-view-versus-a-copy\n",
      "  pri_df['policy_cost'] = pri_df['elev_invst'].cumsum()\n",
      "/tmp/ipykernel_1041572/369906587.py:95: SettingWithCopyWarning: \n",
      "A value is trying to be set on a copy of a slice from a DataFrame.\n",
      "Try using .loc[row_indexer,col_indexer] = value instead\n",
      "\n",
      "See the caveats in the documentation: https://pandas.pydata.org/pandas-docs/stable/user_guide/indexing.html#returning-a-view-versus-a-copy\n",
      "  slack_df['policy_cost'] = slack_df['elev_invst'].cumsum()\n"
     ]
    },
    {
     "name": "stdout",
     "output_type": "stream",
     "text": [
      "Calculate objective values for policy:\n",
      "Sort by lmi\n",
      "With Budget of $M 1500000.0\n"
     ]
    },
    {
     "name": "stderr",
     "output_type": "stream",
     "text": [
      "/tmp/ipykernel_1041572/369906587.py:94: SettingWithCopyWarning: \n",
      "A value is trying to be set on a copy of a slice from a DataFrame.\n",
      "Try using .loc[row_indexer,col_indexer] = value instead\n",
      "\n",
      "See the caveats in the documentation: https://pandas.pydata.org/pandas-docs/stable/user_guide/indexing.html#returning-a-view-versus-a-copy\n",
      "  pri_df['policy_cost'] = pri_df['elev_invst'].cumsum()\n",
      "/tmp/ipykernel_1041572/369906587.py:95: SettingWithCopyWarning: \n",
      "A value is trying to be set on a copy of a slice from a DataFrame.\n",
      "Try using .loc[row_indexer,col_indexer] = value instead\n",
      "\n",
      "See the caveats in the documentation: https://pandas.pydata.org/pandas-docs/stable/user_guide/indexing.html#returning-a-view-versus-a-copy\n",
      "  slack_df['policy_cost'] = slack_df['elev_invst'].cumsum()\n"
     ]
    },
    {
     "name": "stdout",
     "output_type": "stream",
     "text": [
      "Calculate objective values for policy:\n",
      "Sort by ovb\n",
      "With Budget of $M 1500000.0\n"
     ]
    },
    {
     "name": "stderr",
     "output_type": "stream",
     "text": [
      "/tmp/ipykernel_1041572/369906587.py:94: SettingWithCopyWarning: \n",
      "A value is trying to be set on a copy of a slice from a DataFrame.\n",
      "Try using .loc[row_indexer,col_indexer] = value instead\n",
      "\n",
      "See the caveats in the documentation: https://pandas.pydata.org/pandas-docs/stable/user_guide/indexing.html#returning-a-view-versus-a-copy\n",
      "  pri_df['policy_cost'] = pri_df['elev_invst'].cumsum()\n",
      "/tmp/ipykernel_1041572/369906587.py:95: SettingWithCopyWarning: \n",
      "A value is trying to be set on a copy of a slice from a DataFrame.\n",
      "Try using .loc[row_indexer,col_indexer] = value instead\n",
      "\n",
      "See the caveats in the documentation: https://pandas.pydata.org/pandas-docs/stable/user_guide/indexing.html#returning-a-view-versus-a-copy\n",
      "  slack_df['policy_cost'] = slack_df['elev_invst'].cumsum()\n",
      "/tmp/ipykernel_1041572/369906587.py:107: SettingWithCopyWarning: \n",
      "A value is trying to be set on a copy of a slice from a DataFrame.\n",
      "Try using .loc[row_indexer,col_indexer] = value instead\n",
      "\n",
      "See the caveats in the documentation: https://pandas.pydata.org/pandas-docs/stable/user_guide/indexing.html#returning-a-view-versus-a-copy\n",
      "  slack_elev['npv_check'] = slack_elev['npv_opt'].cumsum()\n"
     ]
    },
    {
     "name": "stdout",
     "output_type": "stream",
     "text": [
      "Calculate objective values for policy:\n",
      "Sort by cejst\n",
      "With Budget of $M 1500000.0\n",
      "Calculate objective values for policy:\n",
      "Sort by npv_opt\n",
      "With Budget of $M 2000000.0\n",
      "Calculate objective values for policy:\n",
      "Sort by avoid_rel_eal\n",
      "With Budget of $M 2000000.0\n",
      "Calculate objective values for policy:\n",
      "Sort by rel_eal\n",
      "With Budget of $M 2000000.0\n"
     ]
    },
    {
     "name": "stderr",
     "output_type": "stream",
     "text": [
      "/tmp/ipykernel_1041572/369906587.py:94: SettingWithCopyWarning: \n",
      "A value is trying to be set on a copy of a slice from a DataFrame.\n",
      "Try using .loc[row_indexer,col_indexer] = value instead\n",
      "\n",
      "See the caveats in the documentation: https://pandas.pydata.org/pandas-docs/stable/user_guide/indexing.html#returning-a-view-versus-a-copy\n",
      "  pri_df['policy_cost'] = pri_df['elev_invst'].cumsum()\n",
      "/tmp/ipykernel_1041572/369906587.py:95: SettingWithCopyWarning: \n",
      "A value is trying to be set on a copy of a slice from a DataFrame.\n",
      "Try using .loc[row_indexer,col_indexer] = value instead\n",
      "\n",
      "See the caveats in the documentation: https://pandas.pydata.org/pandas-docs/stable/user_guide/indexing.html#returning-a-view-versus-a-copy\n",
      "  slack_df['policy_cost'] = slack_df['elev_invst'].cumsum()\n"
     ]
    },
    {
     "name": "stdout",
     "output_type": "stream",
     "text": [
      "Calculate objective values for policy:\n",
      "Sort by lmi\n",
      "With Budget of $M 2000000.0\n"
     ]
    },
    {
     "name": "stderr",
     "output_type": "stream",
     "text": [
      "/tmp/ipykernel_1041572/369906587.py:94: SettingWithCopyWarning: \n",
      "A value is trying to be set on a copy of a slice from a DataFrame.\n",
      "Try using .loc[row_indexer,col_indexer] = value instead\n",
      "\n",
      "See the caveats in the documentation: https://pandas.pydata.org/pandas-docs/stable/user_guide/indexing.html#returning-a-view-versus-a-copy\n",
      "  pri_df['policy_cost'] = pri_df['elev_invst'].cumsum()\n",
      "/tmp/ipykernel_1041572/369906587.py:95: SettingWithCopyWarning: \n",
      "A value is trying to be set on a copy of a slice from a DataFrame.\n",
      "Try using .loc[row_indexer,col_indexer] = value instead\n",
      "\n",
      "See the caveats in the documentation: https://pandas.pydata.org/pandas-docs/stable/user_guide/indexing.html#returning-a-view-versus-a-copy\n",
      "  slack_df['policy_cost'] = slack_df['elev_invst'].cumsum()\n"
     ]
    },
    {
     "name": "stdout",
     "output_type": "stream",
     "text": [
      "Calculate objective values for policy:\n",
      "Sort by ovb\n",
      "With Budget of $M 2000000.0\n"
     ]
    },
    {
     "name": "stderr",
     "output_type": "stream",
     "text": [
      "/tmp/ipykernel_1041572/369906587.py:94: SettingWithCopyWarning: \n",
      "A value is trying to be set on a copy of a slice from a DataFrame.\n",
      "Try using .loc[row_indexer,col_indexer] = value instead\n",
      "\n",
      "See the caveats in the documentation: https://pandas.pydata.org/pandas-docs/stable/user_guide/indexing.html#returning-a-view-versus-a-copy\n",
      "  pri_df['policy_cost'] = pri_df['elev_invst'].cumsum()\n",
      "/tmp/ipykernel_1041572/369906587.py:95: SettingWithCopyWarning: \n",
      "A value is trying to be set on a copy of a slice from a DataFrame.\n",
      "Try using .loc[row_indexer,col_indexer] = value instead\n",
      "\n",
      "See the caveats in the documentation: https://pandas.pydata.org/pandas-docs/stable/user_guide/indexing.html#returning-a-view-versus-a-copy\n",
      "  slack_df['policy_cost'] = slack_df['elev_invst'].cumsum()\n",
      "/tmp/ipykernel_1041572/369906587.py:107: SettingWithCopyWarning: \n",
      "A value is trying to be set on a copy of a slice from a DataFrame.\n",
      "Try using .loc[row_indexer,col_indexer] = value instead\n",
      "\n",
      "See the caveats in the documentation: https://pandas.pydata.org/pandas-docs/stable/user_guide/indexing.html#returning-a-view-versus-a-copy\n",
      "  slack_elev['npv_check'] = slack_elev['npv_opt'].cumsum()\n"
     ]
    },
    {
     "name": "stdout",
     "output_type": "stream",
     "text": [
      "Calculate objective values for policy:\n",
      "Sort by cejst\n",
      "With Budget of $M 2000000.0\n",
      "Calculate objective values for policy:\n",
      "Sort by npv_opt\n",
      "With Budget of $M 2500000.0\n",
      "Calculate objective values for policy:\n",
      "Sort by avoid_rel_eal\n",
      "With Budget of $M 2500000.0\n",
      "Calculate objective values for policy:\n",
      "Sort by rel_eal\n",
      "With Budget of $M 2500000.0\n"
     ]
    },
    {
     "name": "stderr",
     "output_type": "stream",
     "text": [
      "/tmp/ipykernel_1041572/369906587.py:94: SettingWithCopyWarning: \n",
      "A value is trying to be set on a copy of a slice from a DataFrame.\n",
      "Try using .loc[row_indexer,col_indexer] = value instead\n",
      "\n",
      "See the caveats in the documentation: https://pandas.pydata.org/pandas-docs/stable/user_guide/indexing.html#returning-a-view-versus-a-copy\n",
      "  pri_df['policy_cost'] = pri_df['elev_invst'].cumsum()\n",
      "/tmp/ipykernel_1041572/369906587.py:95: SettingWithCopyWarning: \n",
      "A value is trying to be set on a copy of a slice from a DataFrame.\n",
      "Try using .loc[row_indexer,col_indexer] = value instead\n",
      "\n",
      "See the caveats in the documentation: https://pandas.pydata.org/pandas-docs/stable/user_guide/indexing.html#returning-a-view-versus-a-copy\n",
      "  slack_df['policy_cost'] = slack_df['elev_invst'].cumsum()\n"
     ]
    },
    {
     "name": "stdout",
     "output_type": "stream",
     "text": [
      "Calculate objective values for policy:\n",
      "Sort by lmi\n",
      "With Budget of $M 2500000.0\n"
     ]
    },
    {
     "name": "stderr",
     "output_type": "stream",
     "text": [
      "/tmp/ipykernel_1041572/369906587.py:94: SettingWithCopyWarning: \n",
      "A value is trying to be set on a copy of a slice from a DataFrame.\n",
      "Try using .loc[row_indexer,col_indexer] = value instead\n",
      "\n",
      "See the caveats in the documentation: https://pandas.pydata.org/pandas-docs/stable/user_guide/indexing.html#returning-a-view-versus-a-copy\n",
      "  pri_df['policy_cost'] = pri_df['elev_invst'].cumsum()\n",
      "/tmp/ipykernel_1041572/369906587.py:95: SettingWithCopyWarning: \n",
      "A value is trying to be set on a copy of a slice from a DataFrame.\n",
      "Try using .loc[row_indexer,col_indexer] = value instead\n",
      "\n",
      "See the caveats in the documentation: https://pandas.pydata.org/pandas-docs/stable/user_guide/indexing.html#returning-a-view-versus-a-copy\n",
      "  slack_df['policy_cost'] = slack_df['elev_invst'].cumsum()\n"
     ]
    },
    {
     "name": "stdout",
     "output_type": "stream",
     "text": [
      "Calculate objective values for policy:\n",
      "Sort by ovb\n",
      "With Budget of $M 2500000.0\n"
     ]
    },
    {
     "name": "stderr",
     "output_type": "stream",
     "text": [
      "/tmp/ipykernel_1041572/369906587.py:94: SettingWithCopyWarning: \n",
      "A value is trying to be set on a copy of a slice from a DataFrame.\n",
      "Try using .loc[row_indexer,col_indexer] = value instead\n",
      "\n",
      "See the caveats in the documentation: https://pandas.pydata.org/pandas-docs/stable/user_guide/indexing.html#returning-a-view-versus-a-copy\n",
      "  pri_df['policy_cost'] = pri_df['elev_invst'].cumsum()\n",
      "/tmp/ipykernel_1041572/369906587.py:95: SettingWithCopyWarning: \n",
      "A value is trying to be set on a copy of a slice from a DataFrame.\n",
      "Try using .loc[row_indexer,col_indexer] = value instead\n",
      "\n",
      "See the caveats in the documentation: https://pandas.pydata.org/pandas-docs/stable/user_guide/indexing.html#returning-a-view-versus-a-copy\n",
      "  slack_df['policy_cost'] = slack_df['elev_invst'].cumsum()\n",
      "/tmp/ipykernel_1041572/369906587.py:107: SettingWithCopyWarning: \n",
      "A value is trying to be set on a copy of a slice from a DataFrame.\n",
      "Try using .loc[row_indexer,col_indexer] = value instead\n",
      "\n",
      "See the caveats in the documentation: https://pandas.pydata.org/pandas-docs/stable/user_guide/indexing.html#returning-a-view-versus-a-copy\n",
      "  slack_elev['npv_check'] = slack_elev['npv_opt'].cumsum()\n"
     ]
    },
    {
     "name": "stdout",
     "output_type": "stream",
     "text": [
      "Calculate objective values for policy:\n",
      "Sort by cejst\n",
      "With Budget of $M 2500000.0\n",
      "Calculate objective values for policy:\n",
      "Sort by npv_opt\n",
      "With Budget of $M 3000000.0\n",
      "Calculate objective values for policy:\n",
      "Sort by avoid_rel_eal\n",
      "With Budget of $M 3000000.0\n",
      "Calculate objective values for policy:\n",
      "Sort by rel_eal\n",
      "With Budget of $M 3000000.0\n"
     ]
    },
    {
     "name": "stderr",
     "output_type": "stream",
     "text": [
      "/tmp/ipykernel_1041572/369906587.py:94: SettingWithCopyWarning: \n",
      "A value is trying to be set on a copy of a slice from a DataFrame.\n",
      "Try using .loc[row_indexer,col_indexer] = value instead\n",
      "\n",
      "See the caveats in the documentation: https://pandas.pydata.org/pandas-docs/stable/user_guide/indexing.html#returning-a-view-versus-a-copy\n",
      "  pri_df['policy_cost'] = pri_df['elev_invst'].cumsum()\n",
      "/tmp/ipykernel_1041572/369906587.py:95: SettingWithCopyWarning: \n",
      "A value is trying to be set on a copy of a slice from a DataFrame.\n",
      "Try using .loc[row_indexer,col_indexer] = value instead\n",
      "\n",
      "See the caveats in the documentation: https://pandas.pydata.org/pandas-docs/stable/user_guide/indexing.html#returning-a-view-versus-a-copy\n",
      "  slack_df['policy_cost'] = slack_df['elev_invst'].cumsum()\n"
     ]
    },
    {
     "name": "stdout",
     "output_type": "stream",
     "text": [
      "Calculate objective values for policy:\n",
      "Sort by lmi\n",
      "With Budget of $M 3000000.0\n"
     ]
    },
    {
     "name": "stderr",
     "output_type": "stream",
     "text": [
      "/tmp/ipykernel_1041572/369906587.py:94: SettingWithCopyWarning: \n",
      "A value is trying to be set on a copy of a slice from a DataFrame.\n",
      "Try using .loc[row_indexer,col_indexer] = value instead\n",
      "\n",
      "See the caveats in the documentation: https://pandas.pydata.org/pandas-docs/stable/user_guide/indexing.html#returning-a-view-versus-a-copy\n",
      "  pri_df['policy_cost'] = pri_df['elev_invst'].cumsum()\n",
      "/tmp/ipykernel_1041572/369906587.py:95: SettingWithCopyWarning: \n",
      "A value is trying to be set on a copy of a slice from a DataFrame.\n",
      "Try using .loc[row_indexer,col_indexer] = value instead\n",
      "\n",
      "See the caveats in the documentation: https://pandas.pydata.org/pandas-docs/stable/user_guide/indexing.html#returning-a-view-versus-a-copy\n",
      "  slack_df['policy_cost'] = slack_df['elev_invst'].cumsum()\n"
     ]
    },
    {
     "name": "stdout",
     "output_type": "stream",
     "text": [
      "Calculate objective values for policy:\n",
      "Sort by ovb\n",
      "With Budget of $M 3000000.0\n"
     ]
    },
    {
     "name": "stderr",
     "output_type": "stream",
     "text": [
      "/tmp/ipykernel_1041572/369906587.py:94: SettingWithCopyWarning: \n",
      "A value is trying to be set on a copy of a slice from a DataFrame.\n",
      "Try using .loc[row_indexer,col_indexer] = value instead\n",
      "\n",
      "See the caveats in the documentation: https://pandas.pydata.org/pandas-docs/stable/user_guide/indexing.html#returning-a-view-versus-a-copy\n",
      "  pri_df['policy_cost'] = pri_df['elev_invst'].cumsum()\n",
      "/tmp/ipykernel_1041572/369906587.py:95: SettingWithCopyWarning: \n",
      "A value is trying to be set on a copy of a slice from a DataFrame.\n",
      "Try using .loc[row_indexer,col_indexer] = value instead\n",
      "\n",
      "See the caveats in the documentation: https://pandas.pydata.org/pandas-docs/stable/user_guide/indexing.html#returning-a-view-versus-a-copy\n",
      "  slack_df['policy_cost'] = slack_df['elev_invst'].cumsum()\n",
      "/tmp/ipykernel_1041572/369906587.py:107: SettingWithCopyWarning: \n",
      "A value is trying to be set on a copy of a slice from a DataFrame.\n",
      "Try using .loc[row_indexer,col_indexer] = value instead\n",
      "\n",
      "See the caveats in the documentation: https://pandas.pydata.org/pandas-docs/stable/user_guide/indexing.html#returning-a-view-versus-a-copy\n",
      "  slack_elev['npv_check'] = slack_elev['npv_opt'].cumsum()\n"
     ]
    },
    {
     "name": "stdout",
     "output_type": "stream",
     "text": [
      "Calculate objective values for policy:\n",
      "Sort by cejst\n",
      "With Budget of $M 3000000.0\n",
      "Calculate objective values for policy:\n",
      "Sort by npv_opt\n",
      "With Budget of $M 3500000.0\n",
      "Calculate objective values for policy:\n",
      "Sort by avoid_rel_eal\n",
      "With Budget of $M 3500000.0\n",
      "Calculate objective values for policy:\n",
      "Sort by rel_eal\n",
      "With Budget of $M 3500000.0\n"
     ]
    },
    {
     "name": "stderr",
     "output_type": "stream",
     "text": [
      "/tmp/ipykernel_1041572/369906587.py:94: SettingWithCopyWarning: \n",
      "A value is trying to be set on a copy of a slice from a DataFrame.\n",
      "Try using .loc[row_indexer,col_indexer] = value instead\n",
      "\n",
      "See the caveats in the documentation: https://pandas.pydata.org/pandas-docs/stable/user_guide/indexing.html#returning-a-view-versus-a-copy\n",
      "  pri_df['policy_cost'] = pri_df['elev_invst'].cumsum()\n",
      "/tmp/ipykernel_1041572/369906587.py:95: SettingWithCopyWarning: \n",
      "A value is trying to be set on a copy of a slice from a DataFrame.\n",
      "Try using .loc[row_indexer,col_indexer] = value instead\n",
      "\n",
      "See the caveats in the documentation: https://pandas.pydata.org/pandas-docs/stable/user_guide/indexing.html#returning-a-view-versus-a-copy\n",
      "  slack_df['policy_cost'] = slack_df['elev_invst'].cumsum()\n"
     ]
    },
    {
     "name": "stdout",
     "output_type": "stream",
     "text": [
      "Calculate objective values for policy:\n",
      "Sort by lmi\n",
      "With Budget of $M 3500000.0\n"
     ]
    },
    {
     "name": "stderr",
     "output_type": "stream",
     "text": [
      "/tmp/ipykernel_1041572/369906587.py:94: SettingWithCopyWarning: \n",
      "A value is trying to be set on a copy of a slice from a DataFrame.\n",
      "Try using .loc[row_indexer,col_indexer] = value instead\n",
      "\n",
      "See the caveats in the documentation: https://pandas.pydata.org/pandas-docs/stable/user_guide/indexing.html#returning-a-view-versus-a-copy\n",
      "  pri_df['policy_cost'] = pri_df['elev_invst'].cumsum()\n",
      "/tmp/ipykernel_1041572/369906587.py:95: SettingWithCopyWarning: \n",
      "A value is trying to be set on a copy of a slice from a DataFrame.\n",
      "Try using .loc[row_indexer,col_indexer] = value instead\n",
      "\n",
      "See the caveats in the documentation: https://pandas.pydata.org/pandas-docs/stable/user_guide/indexing.html#returning-a-view-versus-a-copy\n",
      "  slack_df['policy_cost'] = slack_df['elev_invst'].cumsum()\n",
      "/tmp/ipykernel_1041572/369906587.py:107: SettingWithCopyWarning: \n",
      "A value is trying to be set on a copy of a slice from a DataFrame.\n",
      "Try using .loc[row_indexer,col_indexer] = value instead\n",
      "\n",
      "See the caveats in the documentation: https://pandas.pydata.org/pandas-docs/stable/user_guide/indexing.html#returning-a-view-versus-a-copy\n",
      "  slack_elev['npv_check'] = slack_elev['npv_opt'].cumsum()\n"
     ]
    },
    {
     "name": "stdout",
     "output_type": "stream",
     "text": [
      "Calculate objective values for policy:\n",
      "Sort by ovb\n",
      "With Budget of $M 3500000.0\n"
     ]
    },
    {
     "name": "stderr",
     "output_type": "stream",
     "text": [
      "/tmp/ipykernel_1041572/369906587.py:94: SettingWithCopyWarning: \n",
      "A value is trying to be set on a copy of a slice from a DataFrame.\n",
      "Try using .loc[row_indexer,col_indexer] = value instead\n",
      "\n",
      "See the caveats in the documentation: https://pandas.pydata.org/pandas-docs/stable/user_guide/indexing.html#returning-a-view-versus-a-copy\n",
      "  pri_df['policy_cost'] = pri_df['elev_invst'].cumsum()\n",
      "/tmp/ipykernel_1041572/369906587.py:95: SettingWithCopyWarning: \n",
      "A value is trying to be set on a copy of a slice from a DataFrame.\n",
      "Try using .loc[row_indexer,col_indexer] = value instead\n",
      "\n",
      "See the caveats in the documentation: https://pandas.pydata.org/pandas-docs/stable/user_guide/indexing.html#returning-a-view-versus-a-copy\n",
      "  slack_df['policy_cost'] = slack_df['elev_invst'].cumsum()\n",
      "/tmp/ipykernel_1041572/369906587.py:107: SettingWithCopyWarning: \n",
      "A value is trying to be set on a copy of a slice from a DataFrame.\n",
      "Try using .loc[row_indexer,col_indexer] = value instead\n",
      "\n",
      "See the caveats in the documentation: https://pandas.pydata.org/pandas-docs/stable/user_guide/indexing.html#returning-a-view-versus-a-copy\n",
      "  slack_elev['npv_check'] = slack_elev['npv_opt'].cumsum()\n"
     ]
    },
    {
     "name": "stdout",
     "output_type": "stream",
     "text": [
      "Calculate objective values for policy:\n",
      "Sort by cejst\n",
      "With Budget of $M 3500000.0\n",
      "Calculate objective values for policy:\n",
      "Sort by npv_opt\n",
      "With Budget of $M 4000000.0\n",
      "Calculate objective values for policy:\n",
      "Sort by avoid_rel_eal\n",
      "With Budget of $M 4000000.0\n",
      "Calculate objective values for policy:\n",
      "Sort by rel_eal\n",
      "With Budget of $M 4000000.0\n"
     ]
    },
    {
     "name": "stderr",
     "output_type": "stream",
     "text": [
      "/tmp/ipykernel_1041572/369906587.py:94: SettingWithCopyWarning: \n",
      "A value is trying to be set on a copy of a slice from a DataFrame.\n",
      "Try using .loc[row_indexer,col_indexer] = value instead\n",
      "\n",
      "See the caveats in the documentation: https://pandas.pydata.org/pandas-docs/stable/user_guide/indexing.html#returning-a-view-versus-a-copy\n",
      "  pri_df['policy_cost'] = pri_df['elev_invst'].cumsum()\n",
      "/tmp/ipykernel_1041572/369906587.py:95: SettingWithCopyWarning: \n",
      "A value is trying to be set on a copy of a slice from a DataFrame.\n",
      "Try using .loc[row_indexer,col_indexer] = value instead\n",
      "\n",
      "See the caveats in the documentation: https://pandas.pydata.org/pandas-docs/stable/user_guide/indexing.html#returning-a-view-versus-a-copy\n",
      "  slack_df['policy_cost'] = slack_df['elev_invst'].cumsum()\n"
     ]
    },
    {
     "name": "stdout",
     "output_type": "stream",
     "text": [
      "Calculate objective values for policy:\n",
      "Sort by lmi\n",
      "With Budget of $M 4000000.0\n"
     ]
    },
    {
     "name": "stderr",
     "output_type": "stream",
     "text": [
      "/tmp/ipykernel_1041572/369906587.py:94: SettingWithCopyWarning: \n",
      "A value is trying to be set on a copy of a slice from a DataFrame.\n",
      "Try using .loc[row_indexer,col_indexer] = value instead\n",
      "\n",
      "See the caveats in the documentation: https://pandas.pydata.org/pandas-docs/stable/user_guide/indexing.html#returning-a-view-versus-a-copy\n",
      "  pri_df['policy_cost'] = pri_df['elev_invst'].cumsum()\n",
      "/tmp/ipykernel_1041572/369906587.py:95: SettingWithCopyWarning: \n",
      "A value is trying to be set on a copy of a slice from a DataFrame.\n",
      "Try using .loc[row_indexer,col_indexer] = value instead\n",
      "\n",
      "See the caveats in the documentation: https://pandas.pydata.org/pandas-docs/stable/user_guide/indexing.html#returning-a-view-versus-a-copy\n",
      "  slack_df['policy_cost'] = slack_df['elev_invst'].cumsum()\n"
     ]
    },
    {
     "name": "stdout",
     "output_type": "stream",
     "text": [
      "Calculate objective values for policy:\n",
      "Sort by ovb\n",
      "With Budget of $M 4000000.0\n"
     ]
    },
    {
     "name": "stderr",
     "output_type": "stream",
     "text": [
      "/tmp/ipykernel_1041572/369906587.py:94: SettingWithCopyWarning: \n",
      "A value is trying to be set on a copy of a slice from a DataFrame.\n",
      "Try using .loc[row_indexer,col_indexer] = value instead\n",
      "\n",
      "See the caveats in the documentation: https://pandas.pydata.org/pandas-docs/stable/user_guide/indexing.html#returning-a-view-versus-a-copy\n",
      "  pri_df['policy_cost'] = pri_df['elev_invst'].cumsum()\n",
      "/tmp/ipykernel_1041572/369906587.py:95: SettingWithCopyWarning: \n",
      "A value is trying to be set on a copy of a slice from a DataFrame.\n",
      "Try using .loc[row_indexer,col_indexer] = value instead\n",
      "\n",
      "See the caveats in the documentation: https://pandas.pydata.org/pandas-docs/stable/user_guide/indexing.html#returning-a-view-versus-a-copy\n",
      "  slack_df['policy_cost'] = slack_df['elev_invst'].cumsum()\n",
      "/tmp/ipykernel_1041572/369906587.py:107: SettingWithCopyWarning: \n",
      "A value is trying to be set on a copy of a slice from a DataFrame.\n",
      "Try using .loc[row_indexer,col_indexer] = value instead\n",
      "\n",
      "See the caveats in the documentation: https://pandas.pydata.org/pandas-docs/stable/user_guide/indexing.html#returning-a-view-versus-a-copy\n",
      "  slack_elev['npv_check'] = slack_elev['npv_opt'].cumsum()\n"
     ]
    },
    {
     "name": "stdout",
     "output_type": "stream",
     "text": [
      "Calculate objective values for policy:\n",
      "Sort by cejst\n",
      "With Budget of $M 4000000.0\n",
      "Calculate objective values for policy:\n",
      "Sort by npv_opt\n",
      "With Budget of $M 4500000.0\n",
      "Calculate objective values for policy:\n",
      "Sort by avoid_rel_eal\n",
      "With Budget of $M 4500000.0\n",
      "Calculate objective values for policy:\n",
      "Sort by rel_eal\n",
      "With Budget of $M 4500000.0\n"
     ]
    },
    {
     "name": "stderr",
     "output_type": "stream",
     "text": [
      "/tmp/ipykernel_1041572/369906587.py:94: SettingWithCopyWarning: \n",
      "A value is trying to be set on a copy of a slice from a DataFrame.\n",
      "Try using .loc[row_indexer,col_indexer] = value instead\n",
      "\n",
      "See the caveats in the documentation: https://pandas.pydata.org/pandas-docs/stable/user_guide/indexing.html#returning-a-view-versus-a-copy\n",
      "  pri_df['policy_cost'] = pri_df['elev_invst'].cumsum()\n",
      "/tmp/ipykernel_1041572/369906587.py:95: SettingWithCopyWarning: \n",
      "A value is trying to be set on a copy of a slice from a DataFrame.\n",
      "Try using .loc[row_indexer,col_indexer] = value instead\n",
      "\n",
      "See the caveats in the documentation: https://pandas.pydata.org/pandas-docs/stable/user_guide/indexing.html#returning-a-view-versus-a-copy\n",
      "  slack_df['policy_cost'] = slack_df['elev_invst'].cumsum()\n"
     ]
    },
    {
     "name": "stdout",
     "output_type": "stream",
     "text": [
      "Calculate objective values for policy:\n",
      "Sort by lmi\n",
      "With Budget of $M 4500000.0\n"
     ]
    },
    {
     "name": "stderr",
     "output_type": "stream",
     "text": [
      "/tmp/ipykernel_1041572/369906587.py:94: SettingWithCopyWarning: \n",
      "A value is trying to be set on a copy of a slice from a DataFrame.\n",
      "Try using .loc[row_indexer,col_indexer] = value instead\n",
      "\n",
      "See the caveats in the documentation: https://pandas.pydata.org/pandas-docs/stable/user_guide/indexing.html#returning-a-view-versus-a-copy\n",
      "  pri_df['policy_cost'] = pri_df['elev_invst'].cumsum()\n",
      "/tmp/ipykernel_1041572/369906587.py:95: SettingWithCopyWarning: \n",
      "A value is trying to be set on a copy of a slice from a DataFrame.\n",
      "Try using .loc[row_indexer,col_indexer] = value instead\n",
      "\n",
      "See the caveats in the documentation: https://pandas.pydata.org/pandas-docs/stable/user_guide/indexing.html#returning-a-view-versus-a-copy\n",
      "  slack_df['policy_cost'] = slack_df['elev_invst'].cumsum()\n"
     ]
    },
    {
     "name": "stdout",
     "output_type": "stream",
     "text": [
      "Calculate objective values for policy:\n",
      "Sort by ovb\n",
      "With Budget of $M 4500000.0\n"
     ]
    },
    {
     "name": "stderr",
     "output_type": "stream",
     "text": [
      "/tmp/ipykernel_1041572/369906587.py:94: SettingWithCopyWarning: \n",
      "A value is trying to be set on a copy of a slice from a DataFrame.\n",
      "Try using .loc[row_indexer,col_indexer] = value instead\n",
      "\n",
      "See the caveats in the documentation: https://pandas.pydata.org/pandas-docs/stable/user_guide/indexing.html#returning-a-view-versus-a-copy\n",
      "  pri_df['policy_cost'] = pri_df['elev_invst'].cumsum()\n",
      "/tmp/ipykernel_1041572/369906587.py:95: SettingWithCopyWarning: \n",
      "A value is trying to be set on a copy of a slice from a DataFrame.\n",
      "Try using .loc[row_indexer,col_indexer] = value instead\n",
      "\n",
      "See the caveats in the documentation: https://pandas.pydata.org/pandas-docs/stable/user_guide/indexing.html#returning-a-view-versus-a-copy\n",
      "  slack_df['policy_cost'] = slack_df['elev_invst'].cumsum()\n",
      "/tmp/ipykernel_1041572/369906587.py:107: SettingWithCopyWarning: \n",
      "A value is trying to be set on a copy of a slice from a DataFrame.\n",
      "Try using .loc[row_indexer,col_indexer] = value instead\n",
      "\n",
      "See the caveats in the documentation: https://pandas.pydata.org/pandas-docs/stable/user_guide/indexing.html#returning-a-view-versus-a-copy\n",
      "  slack_elev['npv_check'] = slack_elev['npv_opt'].cumsum()\n"
     ]
    },
    {
     "name": "stdout",
     "output_type": "stream",
     "text": [
      "Calculate objective values for policy:\n",
      "Sort by cejst\n",
      "With Budget of $M 4500000.0\n",
      "Calculate objective values for policy:\n",
      "Sort by npv_opt\n",
      "With Budget of $M 5000000.0\n",
      "Calculate objective values for policy:\n",
      "Sort by avoid_rel_eal\n",
      "With Budget of $M 5000000.0\n",
      "Calculate objective values for policy:\n",
      "Sort by rel_eal\n",
      "With Budget of $M 5000000.0\n"
     ]
    },
    {
     "name": "stderr",
     "output_type": "stream",
     "text": [
      "/tmp/ipykernel_1041572/369906587.py:94: SettingWithCopyWarning: \n",
      "A value is trying to be set on a copy of a slice from a DataFrame.\n",
      "Try using .loc[row_indexer,col_indexer] = value instead\n",
      "\n",
      "See the caveats in the documentation: https://pandas.pydata.org/pandas-docs/stable/user_guide/indexing.html#returning-a-view-versus-a-copy\n",
      "  pri_df['policy_cost'] = pri_df['elev_invst'].cumsum()\n",
      "/tmp/ipykernel_1041572/369906587.py:95: SettingWithCopyWarning: \n",
      "A value is trying to be set on a copy of a slice from a DataFrame.\n",
      "Try using .loc[row_indexer,col_indexer] = value instead\n",
      "\n",
      "See the caveats in the documentation: https://pandas.pydata.org/pandas-docs/stable/user_guide/indexing.html#returning-a-view-versus-a-copy\n",
      "  slack_df['policy_cost'] = slack_df['elev_invst'].cumsum()\n"
     ]
    },
    {
     "name": "stdout",
     "output_type": "stream",
     "text": [
      "Calculate objective values for policy:\n",
      "Sort by lmi\n",
      "With Budget of $M 5000000.0\n"
     ]
    },
    {
     "name": "stderr",
     "output_type": "stream",
     "text": [
      "/tmp/ipykernel_1041572/369906587.py:94: SettingWithCopyWarning: \n",
      "A value is trying to be set on a copy of a slice from a DataFrame.\n",
      "Try using .loc[row_indexer,col_indexer] = value instead\n",
      "\n",
      "See the caveats in the documentation: https://pandas.pydata.org/pandas-docs/stable/user_guide/indexing.html#returning-a-view-versus-a-copy\n",
      "  pri_df['policy_cost'] = pri_df['elev_invst'].cumsum()\n",
      "/tmp/ipykernel_1041572/369906587.py:95: SettingWithCopyWarning: \n",
      "A value is trying to be set on a copy of a slice from a DataFrame.\n",
      "Try using .loc[row_indexer,col_indexer] = value instead\n",
      "\n",
      "See the caveats in the documentation: https://pandas.pydata.org/pandas-docs/stable/user_guide/indexing.html#returning-a-view-versus-a-copy\n",
      "  slack_df['policy_cost'] = slack_df['elev_invst'].cumsum()\n"
     ]
    },
    {
     "name": "stdout",
     "output_type": "stream",
     "text": [
      "Calculate objective values for policy:\n",
      "Sort by ovb\n",
      "With Budget of $M 5000000.0\n"
     ]
    },
    {
     "name": "stderr",
     "output_type": "stream",
     "text": [
      "/tmp/ipykernel_1041572/369906587.py:94: SettingWithCopyWarning: \n",
      "A value is trying to be set on a copy of a slice from a DataFrame.\n",
      "Try using .loc[row_indexer,col_indexer] = value instead\n",
      "\n",
      "See the caveats in the documentation: https://pandas.pydata.org/pandas-docs/stable/user_guide/indexing.html#returning-a-view-versus-a-copy\n",
      "  pri_df['policy_cost'] = pri_df['elev_invst'].cumsum()\n",
      "/tmp/ipykernel_1041572/369906587.py:95: SettingWithCopyWarning: \n",
      "A value is trying to be set on a copy of a slice from a DataFrame.\n",
      "Try using .loc[row_indexer,col_indexer] = value instead\n",
      "\n",
      "See the caveats in the documentation: https://pandas.pydata.org/pandas-docs/stable/user_guide/indexing.html#returning-a-view-versus-a-copy\n",
      "  slack_df['policy_cost'] = slack_df['elev_invst'].cumsum()\n",
      "/tmp/ipykernel_1041572/369906587.py:107: SettingWithCopyWarning: \n",
      "A value is trying to be set on a copy of a slice from a DataFrame.\n",
      "Try using .loc[row_indexer,col_indexer] = value instead\n",
      "\n",
      "See the caveats in the documentation: https://pandas.pydata.org/pandas-docs/stable/user_guide/indexing.html#returning-a-view-versus-a-copy\n",
      "  slack_elev['npv_check'] = slack_elev['npv_opt'].cumsum()\n"
     ]
    },
    {
     "name": "stdout",
     "output_type": "stream",
     "text": [
      "Calculate objective values for policy:\n",
      "Sort by cejst\n",
      "With Budget of $M 5000000.0\n",
      "Calculate objective values for policy:\n",
      "Sort by npv_opt\n",
      "With Budget of $M 5500000.0\n",
      "Calculate objective values for policy:\n",
      "Sort by avoid_rel_eal\n",
      "With Budget of $M 5500000.0\n",
      "Calculate objective values for policy:\n",
      "Sort by rel_eal\n",
      "With Budget of $M 5500000.0\n"
     ]
    },
    {
     "name": "stderr",
     "output_type": "stream",
     "text": [
      "/tmp/ipykernel_1041572/369906587.py:94: SettingWithCopyWarning: \n",
      "A value is trying to be set on a copy of a slice from a DataFrame.\n",
      "Try using .loc[row_indexer,col_indexer] = value instead\n",
      "\n",
      "See the caveats in the documentation: https://pandas.pydata.org/pandas-docs/stable/user_guide/indexing.html#returning-a-view-versus-a-copy\n",
      "  pri_df['policy_cost'] = pri_df['elev_invst'].cumsum()\n",
      "/tmp/ipykernel_1041572/369906587.py:95: SettingWithCopyWarning: \n",
      "A value is trying to be set on a copy of a slice from a DataFrame.\n",
      "Try using .loc[row_indexer,col_indexer] = value instead\n",
      "\n",
      "See the caveats in the documentation: https://pandas.pydata.org/pandas-docs/stable/user_guide/indexing.html#returning-a-view-versus-a-copy\n",
      "  slack_df['policy_cost'] = slack_df['elev_invst'].cumsum()\n"
     ]
    },
    {
     "name": "stdout",
     "output_type": "stream",
     "text": [
      "Calculate objective values for policy:\n",
      "Sort by lmi\n",
      "With Budget of $M 5500000.0\n"
     ]
    },
    {
     "name": "stderr",
     "output_type": "stream",
     "text": [
      "/tmp/ipykernel_1041572/369906587.py:94: SettingWithCopyWarning: \n",
      "A value is trying to be set on a copy of a slice from a DataFrame.\n",
      "Try using .loc[row_indexer,col_indexer] = value instead\n",
      "\n",
      "See the caveats in the documentation: https://pandas.pydata.org/pandas-docs/stable/user_guide/indexing.html#returning-a-view-versus-a-copy\n",
      "  pri_df['policy_cost'] = pri_df['elev_invst'].cumsum()\n",
      "/tmp/ipykernel_1041572/369906587.py:95: SettingWithCopyWarning: \n",
      "A value is trying to be set on a copy of a slice from a DataFrame.\n",
      "Try using .loc[row_indexer,col_indexer] = value instead\n",
      "\n",
      "See the caveats in the documentation: https://pandas.pydata.org/pandas-docs/stable/user_guide/indexing.html#returning-a-view-versus-a-copy\n",
      "  slack_df['policy_cost'] = slack_df['elev_invst'].cumsum()\n"
     ]
    },
    {
     "name": "stdout",
     "output_type": "stream",
     "text": [
      "Calculate objective values for policy:\n",
      "Sort by ovb\n",
      "With Budget of $M 5500000.0\n"
     ]
    },
    {
     "name": "stderr",
     "output_type": "stream",
     "text": [
      "/tmp/ipykernel_1041572/369906587.py:94: SettingWithCopyWarning: \n",
      "A value is trying to be set on a copy of a slice from a DataFrame.\n",
      "Try using .loc[row_indexer,col_indexer] = value instead\n",
      "\n",
      "See the caveats in the documentation: https://pandas.pydata.org/pandas-docs/stable/user_guide/indexing.html#returning-a-view-versus-a-copy\n",
      "  pri_df['policy_cost'] = pri_df['elev_invst'].cumsum()\n",
      "/tmp/ipykernel_1041572/369906587.py:95: SettingWithCopyWarning: \n",
      "A value is trying to be set on a copy of a slice from a DataFrame.\n",
      "Try using .loc[row_indexer,col_indexer] = value instead\n",
      "\n",
      "See the caveats in the documentation: https://pandas.pydata.org/pandas-docs/stable/user_guide/indexing.html#returning-a-view-versus-a-copy\n",
      "  slack_df['policy_cost'] = slack_df['elev_invst'].cumsum()\n",
      "/tmp/ipykernel_1041572/369906587.py:107: SettingWithCopyWarning: \n",
      "A value is trying to be set on a copy of a slice from a DataFrame.\n",
      "Try using .loc[row_indexer,col_indexer] = value instead\n",
      "\n",
      "See the caveats in the documentation: https://pandas.pydata.org/pandas-docs/stable/user_guide/indexing.html#returning-a-view-versus-a-copy\n",
      "  slack_elev['npv_check'] = slack_elev['npv_opt'].cumsum()\n"
     ]
    },
    {
     "name": "stdout",
     "output_type": "stream",
     "text": [
      "Calculate objective values for policy:\n",
      "Sort by cejst\n",
      "With Budget of $M 5500000.0\n",
      "Calculate objective values for policy:\n",
      "Sort by npv_opt\n",
      "With Budget of $M 6000000.0\n",
      "Calculate objective values for policy:\n",
      "Sort by avoid_rel_eal\n",
      "With Budget of $M 6000000.0\n",
      "Calculate objective values for policy:\n",
      "Sort by rel_eal\n",
      "With Budget of $M 6000000.0\n"
     ]
    },
    {
     "name": "stderr",
     "output_type": "stream",
     "text": [
      "/tmp/ipykernel_1041572/369906587.py:94: SettingWithCopyWarning: \n",
      "A value is trying to be set on a copy of a slice from a DataFrame.\n",
      "Try using .loc[row_indexer,col_indexer] = value instead\n",
      "\n",
      "See the caveats in the documentation: https://pandas.pydata.org/pandas-docs/stable/user_guide/indexing.html#returning-a-view-versus-a-copy\n",
      "  pri_df['policy_cost'] = pri_df['elev_invst'].cumsum()\n",
      "/tmp/ipykernel_1041572/369906587.py:95: SettingWithCopyWarning: \n",
      "A value is trying to be set on a copy of a slice from a DataFrame.\n",
      "Try using .loc[row_indexer,col_indexer] = value instead\n",
      "\n",
      "See the caveats in the documentation: https://pandas.pydata.org/pandas-docs/stable/user_guide/indexing.html#returning-a-view-versus-a-copy\n",
      "  slack_df['policy_cost'] = slack_df['elev_invst'].cumsum()\n",
      "/tmp/ipykernel_1041572/369906587.py:107: SettingWithCopyWarning: \n",
      "A value is trying to be set on a copy of a slice from a DataFrame.\n",
      "Try using .loc[row_indexer,col_indexer] = value instead\n",
      "\n",
      "See the caveats in the documentation: https://pandas.pydata.org/pandas-docs/stable/user_guide/indexing.html#returning-a-view-versus-a-copy\n",
      "  slack_elev['npv_check'] = slack_elev['npv_opt'].cumsum()\n"
     ]
    },
    {
     "name": "stdout",
     "output_type": "stream",
     "text": [
      "Calculate objective values for policy:\n",
      "Sort by lmi\n",
      "With Budget of $M 6000000.0\n"
     ]
    },
    {
     "name": "stderr",
     "output_type": "stream",
     "text": [
      "/tmp/ipykernel_1041572/369906587.py:94: SettingWithCopyWarning: \n",
      "A value is trying to be set on a copy of a slice from a DataFrame.\n",
      "Try using .loc[row_indexer,col_indexer] = value instead\n",
      "\n",
      "See the caveats in the documentation: https://pandas.pydata.org/pandas-docs/stable/user_guide/indexing.html#returning-a-view-versus-a-copy\n",
      "  pri_df['policy_cost'] = pri_df['elev_invst'].cumsum()\n",
      "/tmp/ipykernel_1041572/369906587.py:95: SettingWithCopyWarning: \n",
      "A value is trying to be set on a copy of a slice from a DataFrame.\n",
      "Try using .loc[row_indexer,col_indexer] = value instead\n",
      "\n",
      "See the caveats in the documentation: https://pandas.pydata.org/pandas-docs/stable/user_guide/indexing.html#returning-a-view-versus-a-copy\n",
      "  slack_df['policy_cost'] = slack_df['elev_invst'].cumsum()\n"
     ]
    },
    {
     "name": "stdout",
     "output_type": "stream",
     "text": [
      "Calculate objective values for policy:\n",
      "Sort by ovb\n",
      "With Budget of $M 6000000.0\n"
     ]
    },
    {
     "name": "stderr",
     "output_type": "stream",
     "text": [
      "/tmp/ipykernel_1041572/369906587.py:94: SettingWithCopyWarning: \n",
      "A value is trying to be set on a copy of a slice from a DataFrame.\n",
      "Try using .loc[row_indexer,col_indexer] = value instead\n",
      "\n",
      "See the caveats in the documentation: https://pandas.pydata.org/pandas-docs/stable/user_guide/indexing.html#returning-a-view-versus-a-copy\n",
      "  pri_df['policy_cost'] = pri_df['elev_invst'].cumsum()\n",
      "/tmp/ipykernel_1041572/369906587.py:95: SettingWithCopyWarning: \n",
      "A value is trying to be set on a copy of a slice from a DataFrame.\n",
      "Try using .loc[row_indexer,col_indexer] = value instead\n",
      "\n",
      "See the caveats in the documentation: https://pandas.pydata.org/pandas-docs/stable/user_guide/indexing.html#returning-a-view-versus-a-copy\n",
      "  slack_df['policy_cost'] = slack_df['elev_invst'].cumsum()\n",
      "/tmp/ipykernel_1041572/369906587.py:107: SettingWithCopyWarning: \n",
      "A value is trying to be set on a copy of a slice from a DataFrame.\n",
      "Try using .loc[row_indexer,col_indexer] = value instead\n",
      "\n",
      "See the caveats in the documentation: https://pandas.pydata.org/pandas-docs/stable/user_guide/indexing.html#returning-a-view-versus-a-copy\n",
      "  slack_elev['npv_check'] = slack_elev['npv_opt'].cumsum()\n"
     ]
    },
    {
     "name": "stdout",
     "output_type": "stream",
     "text": [
      "Calculate objective values for policy:\n",
      "Sort by cejst\n",
      "With Budget of $M 6000000.0\n",
      "Calculate objective values for policy:\n",
      "Sort by npv_opt\n",
      "With Budget of $M 7000000.0\n",
      "Calculate objective values for policy:\n",
      "Sort by avoid_rel_eal\n",
      "With Budget of $M 7000000.0\n",
      "Calculate objective values for policy:\n",
      "Sort by rel_eal\n",
      "With Budget of $M 7000000.0\n"
     ]
    },
    {
     "name": "stderr",
     "output_type": "stream",
     "text": [
      "/tmp/ipykernel_1041572/369906587.py:94: SettingWithCopyWarning: \n",
      "A value is trying to be set on a copy of a slice from a DataFrame.\n",
      "Try using .loc[row_indexer,col_indexer] = value instead\n",
      "\n",
      "See the caveats in the documentation: https://pandas.pydata.org/pandas-docs/stable/user_guide/indexing.html#returning-a-view-versus-a-copy\n",
      "  pri_df['policy_cost'] = pri_df['elev_invst'].cumsum()\n",
      "/tmp/ipykernel_1041572/369906587.py:95: SettingWithCopyWarning: \n",
      "A value is trying to be set on a copy of a slice from a DataFrame.\n",
      "Try using .loc[row_indexer,col_indexer] = value instead\n",
      "\n",
      "See the caveats in the documentation: https://pandas.pydata.org/pandas-docs/stable/user_guide/indexing.html#returning-a-view-versus-a-copy\n",
      "  slack_df['policy_cost'] = slack_df['elev_invst'].cumsum()\n"
     ]
    },
    {
     "name": "stdout",
     "output_type": "stream",
     "text": [
      "Calculate objective values for policy:\n",
      "Sort by lmi\n",
      "With Budget of $M 7000000.0\n"
     ]
    },
    {
     "name": "stderr",
     "output_type": "stream",
     "text": [
      "/tmp/ipykernel_1041572/369906587.py:94: SettingWithCopyWarning: \n",
      "A value is trying to be set on a copy of a slice from a DataFrame.\n",
      "Try using .loc[row_indexer,col_indexer] = value instead\n",
      "\n",
      "See the caveats in the documentation: https://pandas.pydata.org/pandas-docs/stable/user_guide/indexing.html#returning-a-view-versus-a-copy\n",
      "  pri_df['policy_cost'] = pri_df['elev_invst'].cumsum()\n",
      "/tmp/ipykernel_1041572/369906587.py:95: SettingWithCopyWarning: \n",
      "A value is trying to be set on a copy of a slice from a DataFrame.\n",
      "Try using .loc[row_indexer,col_indexer] = value instead\n",
      "\n",
      "See the caveats in the documentation: https://pandas.pydata.org/pandas-docs/stable/user_guide/indexing.html#returning-a-view-versus-a-copy\n",
      "  slack_df['policy_cost'] = slack_df['elev_invst'].cumsum()\n"
     ]
    },
    {
     "name": "stdout",
     "output_type": "stream",
     "text": [
      "Calculate objective values for policy:\n",
      "Sort by ovb\n",
      "With Budget of $M 7000000.0\n"
     ]
    },
    {
     "name": "stderr",
     "output_type": "stream",
     "text": [
      "/tmp/ipykernel_1041572/369906587.py:94: SettingWithCopyWarning: \n",
      "A value is trying to be set on a copy of a slice from a DataFrame.\n",
      "Try using .loc[row_indexer,col_indexer] = value instead\n",
      "\n",
      "See the caveats in the documentation: https://pandas.pydata.org/pandas-docs/stable/user_guide/indexing.html#returning-a-view-versus-a-copy\n",
      "  pri_df['policy_cost'] = pri_df['elev_invst'].cumsum()\n",
      "/tmp/ipykernel_1041572/369906587.py:95: SettingWithCopyWarning: \n",
      "A value is trying to be set on a copy of a slice from a DataFrame.\n",
      "Try using .loc[row_indexer,col_indexer] = value instead\n",
      "\n",
      "See the caveats in the documentation: https://pandas.pydata.org/pandas-docs/stable/user_guide/indexing.html#returning-a-view-versus-a-copy\n",
      "  slack_df['policy_cost'] = slack_df['elev_invst'].cumsum()\n",
      "/tmp/ipykernel_1041572/369906587.py:107: SettingWithCopyWarning: \n",
      "A value is trying to be set on a copy of a slice from a DataFrame.\n",
      "Try using .loc[row_indexer,col_indexer] = value instead\n",
      "\n",
      "See the caveats in the documentation: https://pandas.pydata.org/pandas-docs/stable/user_guide/indexing.html#returning-a-view-versus-a-copy\n",
      "  slack_elev['npv_check'] = slack_elev['npv_opt'].cumsum()\n"
     ]
    },
    {
     "name": "stdout",
     "output_type": "stream",
     "text": [
      "Calculate objective values for policy:\n",
      "Sort by cejst\n",
      "With Budget of $M 7000000.0\n",
      "Calculate objective values for policy:\n",
      "Sort by npv_opt\n",
      "With Budget of $M 8000000.0\n",
      "Calculate objective values for policy:\n",
      "Sort by avoid_rel_eal\n",
      "With Budget of $M 8000000.0\n",
      "Calculate objective values for policy:\n",
      "Sort by rel_eal\n",
      "With Budget of $M 8000000.0\n"
     ]
    },
    {
     "name": "stderr",
     "output_type": "stream",
     "text": [
      "/tmp/ipykernel_1041572/369906587.py:94: SettingWithCopyWarning: \n",
      "A value is trying to be set on a copy of a slice from a DataFrame.\n",
      "Try using .loc[row_indexer,col_indexer] = value instead\n",
      "\n",
      "See the caveats in the documentation: https://pandas.pydata.org/pandas-docs/stable/user_guide/indexing.html#returning-a-view-versus-a-copy\n",
      "  pri_df['policy_cost'] = pri_df['elev_invst'].cumsum()\n",
      "/tmp/ipykernel_1041572/369906587.py:95: SettingWithCopyWarning: \n",
      "A value is trying to be set on a copy of a slice from a DataFrame.\n",
      "Try using .loc[row_indexer,col_indexer] = value instead\n",
      "\n",
      "See the caveats in the documentation: https://pandas.pydata.org/pandas-docs/stable/user_guide/indexing.html#returning-a-view-versus-a-copy\n",
      "  slack_df['policy_cost'] = slack_df['elev_invst'].cumsum()\n"
     ]
    },
    {
     "name": "stdout",
     "output_type": "stream",
     "text": [
      "Calculate objective values for policy:\n",
      "Sort by lmi\n",
      "With Budget of $M 8000000.0\n"
     ]
    },
    {
     "name": "stderr",
     "output_type": "stream",
     "text": [
      "/tmp/ipykernel_1041572/369906587.py:94: SettingWithCopyWarning: \n",
      "A value is trying to be set on a copy of a slice from a DataFrame.\n",
      "Try using .loc[row_indexer,col_indexer] = value instead\n",
      "\n",
      "See the caveats in the documentation: https://pandas.pydata.org/pandas-docs/stable/user_guide/indexing.html#returning-a-view-versus-a-copy\n",
      "  pri_df['policy_cost'] = pri_df['elev_invst'].cumsum()\n",
      "/tmp/ipykernel_1041572/369906587.py:95: SettingWithCopyWarning: \n",
      "A value is trying to be set on a copy of a slice from a DataFrame.\n",
      "Try using .loc[row_indexer,col_indexer] = value instead\n",
      "\n",
      "See the caveats in the documentation: https://pandas.pydata.org/pandas-docs/stable/user_guide/indexing.html#returning-a-view-versus-a-copy\n",
      "  slack_df['policy_cost'] = slack_df['elev_invst'].cumsum()\n"
     ]
    },
    {
     "name": "stdout",
     "output_type": "stream",
     "text": [
      "Calculate objective values for policy:\n",
      "Sort by ovb\n",
      "With Budget of $M 8000000.0\n"
     ]
    },
    {
     "name": "stderr",
     "output_type": "stream",
     "text": [
      "/tmp/ipykernel_1041572/369906587.py:94: SettingWithCopyWarning: \n",
      "A value is trying to be set on a copy of a slice from a DataFrame.\n",
      "Try using .loc[row_indexer,col_indexer] = value instead\n",
      "\n",
      "See the caveats in the documentation: https://pandas.pydata.org/pandas-docs/stable/user_guide/indexing.html#returning-a-view-versus-a-copy\n",
      "  pri_df['policy_cost'] = pri_df['elev_invst'].cumsum()\n",
      "/tmp/ipykernel_1041572/369906587.py:95: SettingWithCopyWarning: \n",
      "A value is trying to be set on a copy of a slice from a DataFrame.\n",
      "Try using .loc[row_indexer,col_indexer] = value instead\n",
      "\n",
      "See the caveats in the documentation: https://pandas.pydata.org/pandas-docs/stable/user_guide/indexing.html#returning-a-view-versus-a-copy\n",
      "  slack_df['policy_cost'] = slack_df['elev_invst'].cumsum()\n",
      "/tmp/ipykernel_1041572/369906587.py:107: SettingWithCopyWarning: \n",
      "A value is trying to be set on a copy of a slice from a DataFrame.\n",
      "Try using .loc[row_indexer,col_indexer] = value instead\n",
      "\n",
      "See the caveats in the documentation: https://pandas.pydata.org/pandas-docs/stable/user_guide/indexing.html#returning-a-view-versus-a-copy\n",
      "  slack_elev['npv_check'] = slack_elev['npv_opt'].cumsum()\n"
     ]
    },
    {
     "name": "stdout",
     "output_type": "stream",
     "text": [
      "Calculate objective values for policy:\n",
      "Sort by cejst\n",
      "With Budget of $M 8000000.0\n",
      "Calculate objective values for policy:\n",
      "Sort by npv_opt\n",
      "With Budget of $M 9000000.0\n",
      "Calculate objective values for policy:\n",
      "Sort by avoid_rel_eal\n",
      "With Budget of $M 9000000.0\n",
      "Calculate objective values for policy:\n",
      "Sort by rel_eal\n",
      "With Budget of $M 9000000.0\n"
     ]
    },
    {
     "name": "stderr",
     "output_type": "stream",
     "text": [
      "/tmp/ipykernel_1041572/369906587.py:94: SettingWithCopyWarning: \n",
      "A value is trying to be set on a copy of a slice from a DataFrame.\n",
      "Try using .loc[row_indexer,col_indexer] = value instead\n",
      "\n",
      "See the caveats in the documentation: https://pandas.pydata.org/pandas-docs/stable/user_guide/indexing.html#returning-a-view-versus-a-copy\n",
      "  pri_df['policy_cost'] = pri_df['elev_invst'].cumsum()\n",
      "/tmp/ipykernel_1041572/369906587.py:95: SettingWithCopyWarning: \n",
      "A value is trying to be set on a copy of a slice from a DataFrame.\n",
      "Try using .loc[row_indexer,col_indexer] = value instead\n",
      "\n",
      "See the caveats in the documentation: https://pandas.pydata.org/pandas-docs/stable/user_guide/indexing.html#returning-a-view-versus-a-copy\n",
      "  slack_df['policy_cost'] = slack_df['elev_invst'].cumsum()\n"
     ]
    },
    {
     "name": "stdout",
     "output_type": "stream",
     "text": [
      "Calculate objective values for policy:\n",
      "Sort by lmi\n",
      "With Budget of $M 9000000.0\n"
     ]
    },
    {
     "name": "stderr",
     "output_type": "stream",
     "text": [
      "/tmp/ipykernel_1041572/369906587.py:94: SettingWithCopyWarning: \n",
      "A value is trying to be set on a copy of a slice from a DataFrame.\n",
      "Try using .loc[row_indexer,col_indexer] = value instead\n",
      "\n",
      "See the caveats in the documentation: https://pandas.pydata.org/pandas-docs/stable/user_guide/indexing.html#returning-a-view-versus-a-copy\n",
      "  pri_df['policy_cost'] = pri_df['elev_invst'].cumsum()\n",
      "/tmp/ipykernel_1041572/369906587.py:95: SettingWithCopyWarning: \n",
      "A value is trying to be set on a copy of a slice from a DataFrame.\n",
      "Try using .loc[row_indexer,col_indexer] = value instead\n",
      "\n",
      "See the caveats in the documentation: https://pandas.pydata.org/pandas-docs/stable/user_guide/indexing.html#returning-a-view-versus-a-copy\n",
      "  slack_df['policy_cost'] = slack_df['elev_invst'].cumsum()\n"
     ]
    },
    {
     "name": "stdout",
     "output_type": "stream",
     "text": [
      "Calculate objective values for policy:\n",
      "Sort by ovb\n",
      "With Budget of $M 9000000.0\n"
     ]
    },
    {
     "name": "stderr",
     "output_type": "stream",
     "text": [
      "/tmp/ipykernel_1041572/369906587.py:94: SettingWithCopyWarning: \n",
      "A value is trying to be set on a copy of a slice from a DataFrame.\n",
      "Try using .loc[row_indexer,col_indexer] = value instead\n",
      "\n",
      "See the caveats in the documentation: https://pandas.pydata.org/pandas-docs/stable/user_guide/indexing.html#returning-a-view-versus-a-copy\n",
      "  pri_df['policy_cost'] = pri_df['elev_invst'].cumsum()\n",
      "/tmp/ipykernel_1041572/369906587.py:95: SettingWithCopyWarning: \n",
      "A value is trying to be set on a copy of a slice from a DataFrame.\n",
      "Try using .loc[row_indexer,col_indexer] = value instead\n",
      "\n",
      "See the caveats in the documentation: https://pandas.pydata.org/pandas-docs/stable/user_guide/indexing.html#returning-a-view-versus-a-copy\n",
      "  slack_df['policy_cost'] = slack_df['elev_invst'].cumsum()\n",
      "/tmp/ipykernel_1041572/369906587.py:107: SettingWithCopyWarning: \n",
      "A value is trying to be set on a copy of a slice from a DataFrame.\n",
      "Try using .loc[row_indexer,col_indexer] = value instead\n",
      "\n",
      "See the caveats in the documentation: https://pandas.pydata.org/pandas-docs/stable/user_guide/indexing.html#returning-a-view-versus-a-copy\n",
      "  slack_elev['npv_check'] = slack_elev['npv_opt'].cumsum()\n"
     ]
    },
    {
     "name": "stdout",
     "output_type": "stream",
     "text": [
      "Calculate objective values for policy:\n",
      "Sort by cejst\n",
      "With Budget of $M 9000000.0\n",
      "Calculate objective values for policy:\n",
      "Sort by npv_opt\n",
      "With Budget of $M 10000000.0\n",
      "Calculate objective values for policy:\n",
      "Sort by avoid_rel_eal\n",
      "With Budget of $M 10000000.0\n",
      "Calculate objective values for policy:\n",
      "Sort by rel_eal\n",
      "With Budget of $M 10000000.0\n"
     ]
    },
    {
     "name": "stderr",
     "output_type": "stream",
     "text": [
      "/tmp/ipykernel_1041572/369906587.py:94: SettingWithCopyWarning: \n",
      "A value is trying to be set on a copy of a slice from a DataFrame.\n",
      "Try using .loc[row_indexer,col_indexer] = value instead\n",
      "\n",
      "See the caveats in the documentation: https://pandas.pydata.org/pandas-docs/stable/user_guide/indexing.html#returning-a-view-versus-a-copy\n",
      "  pri_df['policy_cost'] = pri_df['elev_invst'].cumsum()\n",
      "/tmp/ipykernel_1041572/369906587.py:95: SettingWithCopyWarning: \n",
      "A value is trying to be set on a copy of a slice from a DataFrame.\n",
      "Try using .loc[row_indexer,col_indexer] = value instead\n",
      "\n",
      "See the caveats in the documentation: https://pandas.pydata.org/pandas-docs/stable/user_guide/indexing.html#returning-a-view-versus-a-copy\n",
      "  slack_df['policy_cost'] = slack_df['elev_invst'].cumsum()\n"
     ]
    },
    {
     "name": "stdout",
     "output_type": "stream",
     "text": [
      "Calculate objective values for policy:\n",
      "Sort by lmi\n",
      "With Budget of $M 10000000.0\n"
     ]
    },
    {
     "name": "stderr",
     "output_type": "stream",
     "text": [
      "/tmp/ipykernel_1041572/369906587.py:94: SettingWithCopyWarning: \n",
      "A value is trying to be set on a copy of a slice from a DataFrame.\n",
      "Try using .loc[row_indexer,col_indexer] = value instead\n",
      "\n",
      "See the caveats in the documentation: https://pandas.pydata.org/pandas-docs/stable/user_guide/indexing.html#returning-a-view-versus-a-copy\n",
      "  pri_df['policy_cost'] = pri_df['elev_invst'].cumsum()\n",
      "/tmp/ipykernel_1041572/369906587.py:95: SettingWithCopyWarning: \n",
      "A value is trying to be set on a copy of a slice from a DataFrame.\n",
      "Try using .loc[row_indexer,col_indexer] = value instead\n",
      "\n",
      "See the caveats in the documentation: https://pandas.pydata.org/pandas-docs/stable/user_guide/indexing.html#returning-a-view-versus-a-copy\n",
      "  slack_df['policy_cost'] = slack_df['elev_invst'].cumsum()\n"
     ]
    },
    {
     "name": "stdout",
     "output_type": "stream",
     "text": [
      "Calculate objective values for policy:\n",
      "Sort by ovb\n",
      "With Budget of $M 10000000.0\n"
     ]
    },
    {
     "name": "stderr",
     "output_type": "stream",
     "text": [
      "/tmp/ipykernel_1041572/369906587.py:94: SettingWithCopyWarning: \n",
      "A value is trying to be set on a copy of a slice from a DataFrame.\n",
      "Try using .loc[row_indexer,col_indexer] = value instead\n",
      "\n",
      "See the caveats in the documentation: https://pandas.pydata.org/pandas-docs/stable/user_guide/indexing.html#returning-a-view-versus-a-copy\n",
      "  pri_df['policy_cost'] = pri_df['elev_invst'].cumsum()\n",
      "/tmp/ipykernel_1041572/369906587.py:95: SettingWithCopyWarning: \n",
      "A value is trying to be set on a copy of a slice from a DataFrame.\n",
      "Try using .loc[row_indexer,col_indexer] = value instead\n",
      "\n",
      "See the caveats in the documentation: https://pandas.pydata.org/pandas-docs/stable/user_guide/indexing.html#returning-a-view-versus-a-copy\n",
      "  slack_df['policy_cost'] = slack_df['elev_invst'].cumsum()\n",
      "/tmp/ipykernel_1041572/369906587.py:107: SettingWithCopyWarning: \n",
      "A value is trying to be set on a copy of a slice from a DataFrame.\n",
      "Try using .loc[row_indexer,col_indexer] = value instead\n",
      "\n",
      "See the caveats in the documentation: https://pandas.pydata.org/pandas-docs/stable/user_guide/indexing.html#returning-a-view-versus-a-copy\n",
      "  slack_elev['npv_check'] = slack_elev['npv_opt'].cumsum()\n"
     ]
    },
    {
     "name": "stdout",
     "output_type": "stream",
     "text": [
      "Calculate objective values for policy:\n",
      "Sort by cejst\n",
      "With Budget of $M 10000000.0\n",
      "Calculate objective values for policy:\n",
      "Sort by npv_opt\n",
      "With Budget of $M 11000000.0\n",
      "Calculate objective values for policy:\n",
      "Sort by avoid_rel_eal\n",
      "With Budget of $M 11000000.0\n",
      "Calculate objective values for policy:\n",
      "Sort by rel_eal\n",
      "With Budget of $M 11000000.0\n"
     ]
    },
    {
     "name": "stderr",
     "output_type": "stream",
     "text": [
      "/tmp/ipykernel_1041572/369906587.py:94: SettingWithCopyWarning: \n",
      "A value is trying to be set on a copy of a slice from a DataFrame.\n",
      "Try using .loc[row_indexer,col_indexer] = value instead\n",
      "\n",
      "See the caveats in the documentation: https://pandas.pydata.org/pandas-docs/stable/user_guide/indexing.html#returning-a-view-versus-a-copy\n",
      "  pri_df['policy_cost'] = pri_df['elev_invst'].cumsum()\n",
      "/tmp/ipykernel_1041572/369906587.py:95: SettingWithCopyWarning: \n",
      "A value is trying to be set on a copy of a slice from a DataFrame.\n",
      "Try using .loc[row_indexer,col_indexer] = value instead\n",
      "\n",
      "See the caveats in the documentation: https://pandas.pydata.org/pandas-docs/stable/user_guide/indexing.html#returning-a-view-versus-a-copy\n",
      "  slack_df['policy_cost'] = slack_df['elev_invst'].cumsum()\n"
     ]
    },
    {
     "name": "stdout",
     "output_type": "stream",
     "text": [
      "Calculate objective values for policy:\n",
      "Sort by lmi\n",
      "With Budget of $M 11000000.0\n"
     ]
    },
    {
     "name": "stderr",
     "output_type": "stream",
     "text": [
      "/tmp/ipykernel_1041572/369906587.py:94: SettingWithCopyWarning: \n",
      "A value is trying to be set on a copy of a slice from a DataFrame.\n",
      "Try using .loc[row_indexer,col_indexer] = value instead\n",
      "\n",
      "See the caveats in the documentation: https://pandas.pydata.org/pandas-docs/stable/user_guide/indexing.html#returning-a-view-versus-a-copy\n",
      "  pri_df['policy_cost'] = pri_df['elev_invst'].cumsum()\n",
      "/tmp/ipykernel_1041572/369906587.py:95: SettingWithCopyWarning: \n",
      "A value is trying to be set on a copy of a slice from a DataFrame.\n",
      "Try using .loc[row_indexer,col_indexer] = value instead\n",
      "\n",
      "See the caveats in the documentation: https://pandas.pydata.org/pandas-docs/stable/user_guide/indexing.html#returning-a-view-versus-a-copy\n",
      "  slack_df['policy_cost'] = slack_df['elev_invst'].cumsum()\n",
      "/tmp/ipykernel_1041572/369906587.py:107: SettingWithCopyWarning: \n",
      "A value is trying to be set on a copy of a slice from a DataFrame.\n",
      "Try using .loc[row_indexer,col_indexer] = value instead\n",
      "\n",
      "See the caveats in the documentation: https://pandas.pydata.org/pandas-docs/stable/user_guide/indexing.html#returning-a-view-versus-a-copy\n",
      "  slack_elev['npv_check'] = slack_elev['npv_opt'].cumsum()\n"
     ]
    },
    {
     "name": "stdout",
     "output_type": "stream",
     "text": [
      "Calculate objective values for policy:\n",
      "Sort by ovb\n",
      "With Budget of $M 11000000.0\n"
     ]
    },
    {
     "name": "stderr",
     "output_type": "stream",
     "text": [
      "/tmp/ipykernel_1041572/369906587.py:94: SettingWithCopyWarning: \n",
      "A value is trying to be set on a copy of a slice from a DataFrame.\n",
      "Try using .loc[row_indexer,col_indexer] = value instead\n",
      "\n",
      "See the caveats in the documentation: https://pandas.pydata.org/pandas-docs/stable/user_guide/indexing.html#returning-a-view-versus-a-copy\n",
      "  pri_df['policy_cost'] = pri_df['elev_invst'].cumsum()\n",
      "/tmp/ipykernel_1041572/369906587.py:95: SettingWithCopyWarning: \n",
      "A value is trying to be set on a copy of a slice from a DataFrame.\n",
      "Try using .loc[row_indexer,col_indexer] = value instead\n",
      "\n",
      "See the caveats in the documentation: https://pandas.pydata.org/pandas-docs/stable/user_guide/indexing.html#returning-a-view-versus-a-copy\n",
      "  slack_df['policy_cost'] = slack_df['elev_invst'].cumsum()\n",
      "/tmp/ipykernel_1041572/369906587.py:107: SettingWithCopyWarning: \n",
      "A value is trying to be set on a copy of a slice from a DataFrame.\n",
      "Try using .loc[row_indexer,col_indexer] = value instead\n",
      "\n",
      "See the caveats in the documentation: https://pandas.pydata.org/pandas-docs/stable/user_guide/indexing.html#returning-a-view-versus-a-copy\n",
      "  slack_elev['npv_check'] = slack_elev['npv_opt'].cumsum()\n"
     ]
    },
    {
     "name": "stdout",
     "output_type": "stream",
     "text": [
      "Calculate objective values for policy:\n",
      "Sort by cejst\n",
      "With Budget of $M 11000000.0\n",
      "Calculate objective values for policy:\n",
      "Sort by npv_opt\n",
      "With Budget of $M 12000000.0\n",
      "Calculate objective values for policy:\n",
      "Sort by avoid_rel_eal\n",
      "With Budget of $M 12000000.0\n",
      "Calculate objective values for policy:\n",
      "Sort by rel_eal\n",
      "With Budget of $M 12000000.0\n"
     ]
    },
    {
     "name": "stderr",
     "output_type": "stream",
     "text": [
      "/tmp/ipykernel_1041572/369906587.py:94: SettingWithCopyWarning: \n",
      "A value is trying to be set on a copy of a slice from a DataFrame.\n",
      "Try using .loc[row_indexer,col_indexer] = value instead\n",
      "\n",
      "See the caveats in the documentation: https://pandas.pydata.org/pandas-docs/stable/user_guide/indexing.html#returning-a-view-versus-a-copy\n",
      "  pri_df['policy_cost'] = pri_df['elev_invst'].cumsum()\n",
      "/tmp/ipykernel_1041572/369906587.py:95: SettingWithCopyWarning: \n",
      "A value is trying to be set on a copy of a slice from a DataFrame.\n",
      "Try using .loc[row_indexer,col_indexer] = value instead\n",
      "\n",
      "See the caveats in the documentation: https://pandas.pydata.org/pandas-docs/stable/user_guide/indexing.html#returning-a-view-versus-a-copy\n",
      "  slack_df['policy_cost'] = slack_df['elev_invst'].cumsum()\n"
     ]
    },
    {
     "name": "stdout",
     "output_type": "stream",
     "text": [
      "Calculate objective values for policy:\n",
      "Sort by lmi\n",
      "With Budget of $M 12000000.0\n"
     ]
    },
    {
     "name": "stderr",
     "output_type": "stream",
     "text": [
      "/tmp/ipykernel_1041572/369906587.py:94: SettingWithCopyWarning: \n",
      "A value is trying to be set on a copy of a slice from a DataFrame.\n",
      "Try using .loc[row_indexer,col_indexer] = value instead\n",
      "\n",
      "See the caveats in the documentation: https://pandas.pydata.org/pandas-docs/stable/user_guide/indexing.html#returning-a-view-versus-a-copy\n",
      "  pri_df['policy_cost'] = pri_df['elev_invst'].cumsum()\n",
      "/tmp/ipykernel_1041572/369906587.py:95: SettingWithCopyWarning: \n",
      "A value is trying to be set on a copy of a slice from a DataFrame.\n",
      "Try using .loc[row_indexer,col_indexer] = value instead\n",
      "\n",
      "See the caveats in the documentation: https://pandas.pydata.org/pandas-docs/stable/user_guide/indexing.html#returning-a-view-versus-a-copy\n",
      "  slack_df['policy_cost'] = slack_df['elev_invst'].cumsum()\n",
      "/tmp/ipykernel_1041572/369906587.py:107: SettingWithCopyWarning: \n",
      "A value is trying to be set on a copy of a slice from a DataFrame.\n",
      "Try using .loc[row_indexer,col_indexer] = value instead\n",
      "\n",
      "See the caveats in the documentation: https://pandas.pydata.org/pandas-docs/stable/user_guide/indexing.html#returning-a-view-versus-a-copy\n",
      "  slack_elev['npv_check'] = slack_elev['npv_opt'].cumsum()\n"
     ]
    },
    {
     "name": "stdout",
     "output_type": "stream",
     "text": [
      "Calculate objective values for policy:\n",
      "Sort by ovb\n",
      "With Budget of $M 12000000.0\n"
     ]
    },
    {
     "name": "stderr",
     "output_type": "stream",
     "text": [
      "/tmp/ipykernel_1041572/369906587.py:94: SettingWithCopyWarning: \n",
      "A value is trying to be set on a copy of a slice from a DataFrame.\n",
      "Try using .loc[row_indexer,col_indexer] = value instead\n",
      "\n",
      "See the caveats in the documentation: https://pandas.pydata.org/pandas-docs/stable/user_guide/indexing.html#returning-a-view-versus-a-copy\n",
      "  pri_df['policy_cost'] = pri_df['elev_invst'].cumsum()\n",
      "/tmp/ipykernel_1041572/369906587.py:95: SettingWithCopyWarning: \n",
      "A value is trying to be set on a copy of a slice from a DataFrame.\n",
      "Try using .loc[row_indexer,col_indexer] = value instead\n",
      "\n",
      "See the caveats in the documentation: https://pandas.pydata.org/pandas-docs/stable/user_guide/indexing.html#returning-a-view-versus-a-copy\n",
      "  slack_df['policy_cost'] = slack_df['elev_invst'].cumsum()\n",
      "/tmp/ipykernel_1041572/369906587.py:107: SettingWithCopyWarning: \n",
      "A value is trying to be set on a copy of a slice from a DataFrame.\n",
      "Try using .loc[row_indexer,col_indexer] = value instead\n",
      "\n",
      "See the caveats in the documentation: https://pandas.pydata.org/pandas-docs/stable/user_guide/indexing.html#returning-a-view-versus-a-copy\n",
      "  slack_elev['npv_check'] = slack_elev['npv_opt'].cumsum()\n"
     ]
    },
    {
     "name": "stdout",
     "output_type": "stream",
     "text": [
      "Calculate objective values for policy:\n",
      "Sort by cejst\n",
      "With Budget of $M 12000000.0\n",
      "Calculate objective values for policy:\n",
      "Sort by npv_opt\n",
      "With Budget of $M 13000000.0\n",
      "Calculate objective values for policy:\n",
      "Sort by avoid_rel_eal\n",
      "With Budget of $M 13000000.0\n",
      "Calculate objective values for policy:\n",
      "Sort by rel_eal\n",
      "With Budget of $M 13000000.0\n"
     ]
    },
    {
     "name": "stderr",
     "output_type": "stream",
     "text": [
      "/tmp/ipykernel_1041572/369906587.py:94: SettingWithCopyWarning: \n",
      "A value is trying to be set on a copy of a slice from a DataFrame.\n",
      "Try using .loc[row_indexer,col_indexer] = value instead\n",
      "\n",
      "See the caveats in the documentation: https://pandas.pydata.org/pandas-docs/stable/user_guide/indexing.html#returning-a-view-versus-a-copy\n",
      "  pri_df['policy_cost'] = pri_df['elev_invst'].cumsum()\n",
      "/tmp/ipykernel_1041572/369906587.py:95: SettingWithCopyWarning: \n",
      "A value is trying to be set on a copy of a slice from a DataFrame.\n",
      "Try using .loc[row_indexer,col_indexer] = value instead\n",
      "\n",
      "See the caveats in the documentation: https://pandas.pydata.org/pandas-docs/stable/user_guide/indexing.html#returning-a-view-versus-a-copy\n",
      "  slack_df['policy_cost'] = slack_df['elev_invst'].cumsum()\n"
     ]
    },
    {
     "name": "stdout",
     "output_type": "stream",
     "text": [
      "Calculate objective values for policy:\n",
      "Sort by lmi\n",
      "With Budget of $M 13000000.0\n"
     ]
    },
    {
     "name": "stderr",
     "output_type": "stream",
     "text": [
      "/tmp/ipykernel_1041572/369906587.py:94: SettingWithCopyWarning: \n",
      "A value is trying to be set on a copy of a slice from a DataFrame.\n",
      "Try using .loc[row_indexer,col_indexer] = value instead\n",
      "\n",
      "See the caveats in the documentation: https://pandas.pydata.org/pandas-docs/stable/user_guide/indexing.html#returning-a-view-versus-a-copy\n",
      "  pri_df['policy_cost'] = pri_df['elev_invst'].cumsum()\n",
      "/tmp/ipykernel_1041572/369906587.py:95: SettingWithCopyWarning: \n",
      "A value is trying to be set on a copy of a slice from a DataFrame.\n",
      "Try using .loc[row_indexer,col_indexer] = value instead\n",
      "\n",
      "See the caveats in the documentation: https://pandas.pydata.org/pandas-docs/stable/user_guide/indexing.html#returning-a-view-versus-a-copy\n",
      "  slack_df['policy_cost'] = slack_df['elev_invst'].cumsum()\n"
     ]
    },
    {
     "name": "stdout",
     "output_type": "stream",
     "text": [
      "Calculate objective values for policy:\n",
      "Sort by ovb\n",
      "With Budget of $M 13000000.0\n"
     ]
    },
    {
     "name": "stderr",
     "output_type": "stream",
     "text": [
      "/tmp/ipykernel_1041572/369906587.py:94: SettingWithCopyWarning: \n",
      "A value is trying to be set on a copy of a slice from a DataFrame.\n",
      "Try using .loc[row_indexer,col_indexer] = value instead\n",
      "\n",
      "See the caveats in the documentation: https://pandas.pydata.org/pandas-docs/stable/user_guide/indexing.html#returning-a-view-versus-a-copy\n",
      "  pri_df['policy_cost'] = pri_df['elev_invst'].cumsum()\n",
      "/tmp/ipykernel_1041572/369906587.py:95: SettingWithCopyWarning: \n",
      "A value is trying to be set on a copy of a slice from a DataFrame.\n",
      "Try using .loc[row_indexer,col_indexer] = value instead\n",
      "\n",
      "See the caveats in the documentation: https://pandas.pydata.org/pandas-docs/stable/user_guide/indexing.html#returning-a-view-versus-a-copy\n",
      "  slack_df['policy_cost'] = slack_df['elev_invst'].cumsum()\n",
      "/tmp/ipykernel_1041572/369906587.py:107: SettingWithCopyWarning: \n",
      "A value is trying to be set on a copy of a slice from a DataFrame.\n",
      "Try using .loc[row_indexer,col_indexer] = value instead\n",
      "\n",
      "See the caveats in the documentation: https://pandas.pydata.org/pandas-docs/stable/user_guide/indexing.html#returning-a-view-versus-a-copy\n",
      "  slack_elev['npv_check'] = slack_elev['npv_opt'].cumsum()\n"
     ]
    },
    {
     "name": "stdout",
     "output_type": "stream",
     "text": [
      "Calculate objective values for policy:\n",
      "Sort by cejst\n",
      "With Budget of $M 13000000.0\n",
      "Calculate objective values for policy:\n",
      "Sort by npv_opt\n",
      "With Budget of $M 14000000.0\n",
      "Calculate objective values for policy:\n",
      "Sort by avoid_rel_eal\n",
      "With Budget of $M 14000000.0\n",
      "Calculate objective values for policy:\n",
      "Sort by rel_eal\n",
      "With Budget of $M 14000000.0\n"
     ]
    },
    {
     "name": "stderr",
     "output_type": "stream",
     "text": [
      "/tmp/ipykernel_1041572/369906587.py:94: SettingWithCopyWarning: \n",
      "A value is trying to be set on a copy of a slice from a DataFrame.\n",
      "Try using .loc[row_indexer,col_indexer] = value instead\n",
      "\n",
      "See the caveats in the documentation: https://pandas.pydata.org/pandas-docs/stable/user_guide/indexing.html#returning-a-view-versus-a-copy\n",
      "  pri_df['policy_cost'] = pri_df['elev_invst'].cumsum()\n",
      "/tmp/ipykernel_1041572/369906587.py:95: SettingWithCopyWarning: \n",
      "A value is trying to be set on a copy of a slice from a DataFrame.\n",
      "Try using .loc[row_indexer,col_indexer] = value instead\n",
      "\n",
      "See the caveats in the documentation: https://pandas.pydata.org/pandas-docs/stable/user_guide/indexing.html#returning-a-view-versus-a-copy\n",
      "  slack_df['policy_cost'] = slack_df['elev_invst'].cumsum()\n"
     ]
    },
    {
     "name": "stdout",
     "output_type": "stream",
     "text": [
      "Calculate objective values for policy:\n",
      "Sort by lmi\n",
      "With Budget of $M 14000000.0\n"
     ]
    },
    {
     "name": "stderr",
     "output_type": "stream",
     "text": [
      "/tmp/ipykernel_1041572/369906587.py:94: SettingWithCopyWarning: \n",
      "A value is trying to be set on a copy of a slice from a DataFrame.\n",
      "Try using .loc[row_indexer,col_indexer] = value instead\n",
      "\n",
      "See the caveats in the documentation: https://pandas.pydata.org/pandas-docs/stable/user_guide/indexing.html#returning-a-view-versus-a-copy\n",
      "  pri_df['policy_cost'] = pri_df['elev_invst'].cumsum()\n",
      "/tmp/ipykernel_1041572/369906587.py:95: SettingWithCopyWarning: \n",
      "A value is trying to be set on a copy of a slice from a DataFrame.\n",
      "Try using .loc[row_indexer,col_indexer] = value instead\n",
      "\n",
      "See the caveats in the documentation: https://pandas.pydata.org/pandas-docs/stable/user_guide/indexing.html#returning-a-view-versus-a-copy\n",
      "  slack_df['policy_cost'] = slack_df['elev_invst'].cumsum()\n"
     ]
    },
    {
     "name": "stdout",
     "output_type": "stream",
     "text": [
      "Calculate objective values for policy:\n",
      "Sort by ovb\n",
      "With Budget of $M 14000000.0\n"
     ]
    },
    {
     "name": "stderr",
     "output_type": "stream",
     "text": [
      "/tmp/ipykernel_1041572/369906587.py:94: SettingWithCopyWarning: \n",
      "A value is trying to be set on a copy of a slice from a DataFrame.\n",
      "Try using .loc[row_indexer,col_indexer] = value instead\n",
      "\n",
      "See the caveats in the documentation: https://pandas.pydata.org/pandas-docs/stable/user_guide/indexing.html#returning-a-view-versus-a-copy\n",
      "  pri_df['policy_cost'] = pri_df['elev_invst'].cumsum()\n",
      "/tmp/ipykernel_1041572/369906587.py:95: SettingWithCopyWarning: \n",
      "A value is trying to be set on a copy of a slice from a DataFrame.\n",
      "Try using .loc[row_indexer,col_indexer] = value instead\n",
      "\n",
      "See the caveats in the documentation: https://pandas.pydata.org/pandas-docs/stable/user_guide/indexing.html#returning-a-view-versus-a-copy\n",
      "  slack_df['policy_cost'] = slack_df['elev_invst'].cumsum()\n",
      "/tmp/ipykernel_1041572/369906587.py:107: SettingWithCopyWarning: \n",
      "A value is trying to be set on a copy of a slice from a DataFrame.\n",
      "Try using .loc[row_indexer,col_indexer] = value instead\n",
      "\n",
      "See the caveats in the documentation: https://pandas.pydata.org/pandas-docs/stable/user_guide/indexing.html#returning-a-view-versus-a-copy\n",
      "  slack_elev['npv_check'] = slack_elev['npv_opt'].cumsum()\n"
     ]
    },
    {
     "name": "stdout",
     "output_type": "stream",
     "text": [
      "Calculate objective values for policy:\n",
      "Sort by cejst\n",
      "With Budget of $M 14000000.0\n",
      "Calculate objective values for policy:\n",
      "Sort by npv_opt\n",
      "With Budget of $M 15000000.0\n",
      "Calculate objective values for policy:\n",
      "Sort by avoid_rel_eal\n",
      "With Budget of $M 15000000.0\n",
      "Calculate objective values for policy:\n",
      "Sort by rel_eal\n",
      "With Budget of $M 15000000.0\n"
     ]
    },
    {
     "name": "stderr",
     "output_type": "stream",
     "text": [
      "/tmp/ipykernel_1041572/369906587.py:94: SettingWithCopyWarning: \n",
      "A value is trying to be set on a copy of a slice from a DataFrame.\n",
      "Try using .loc[row_indexer,col_indexer] = value instead\n",
      "\n",
      "See the caveats in the documentation: https://pandas.pydata.org/pandas-docs/stable/user_guide/indexing.html#returning-a-view-versus-a-copy\n",
      "  pri_df['policy_cost'] = pri_df['elev_invst'].cumsum()\n",
      "/tmp/ipykernel_1041572/369906587.py:95: SettingWithCopyWarning: \n",
      "A value is trying to be set on a copy of a slice from a DataFrame.\n",
      "Try using .loc[row_indexer,col_indexer] = value instead\n",
      "\n",
      "See the caveats in the documentation: https://pandas.pydata.org/pandas-docs/stable/user_guide/indexing.html#returning-a-view-versus-a-copy\n",
      "  slack_df['policy_cost'] = slack_df['elev_invst'].cumsum()\n"
     ]
    },
    {
     "name": "stdout",
     "output_type": "stream",
     "text": [
      "Calculate objective values for policy:\n",
      "Sort by lmi\n",
      "With Budget of $M 15000000.0\n"
     ]
    },
    {
     "name": "stderr",
     "output_type": "stream",
     "text": [
      "/tmp/ipykernel_1041572/369906587.py:94: SettingWithCopyWarning: \n",
      "A value is trying to be set on a copy of a slice from a DataFrame.\n",
      "Try using .loc[row_indexer,col_indexer] = value instead\n",
      "\n",
      "See the caveats in the documentation: https://pandas.pydata.org/pandas-docs/stable/user_guide/indexing.html#returning-a-view-versus-a-copy\n",
      "  pri_df['policy_cost'] = pri_df['elev_invst'].cumsum()\n",
      "/tmp/ipykernel_1041572/369906587.py:95: SettingWithCopyWarning: \n",
      "A value is trying to be set on a copy of a slice from a DataFrame.\n",
      "Try using .loc[row_indexer,col_indexer] = value instead\n",
      "\n",
      "See the caveats in the documentation: https://pandas.pydata.org/pandas-docs/stable/user_guide/indexing.html#returning-a-view-versus-a-copy\n",
      "  slack_df['policy_cost'] = slack_df['elev_invst'].cumsum()\n"
     ]
    },
    {
     "name": "stdout",
     "output_type": "stream",
     "text": [
      "Calculate objective values for policy:\n",
      "Sort by ovb\n",
      "With Budget of $M 15000000.0\n"
     ]
    },
    {
     "name": "stderr",
     "output_type": "stream",
     "text": [
      "/tmp/ipykernel_1041572/369906587.py:94: SettingWithCopyWarning: \n",
      "A value is trying to be set on a copy of a slice from a DataFrame.\n",
      "Try using .loc[row_indexer,col_indexer] = value instead\n",
      "\n",
      "See the caveats in the documentation: https://pandas.pydata.org/pandas-docs/stable/user_guide/indexing.html#returning-a-view-versus-a-copy\n",
      "  pri_df['policy_cost'] = pri_df['elev_invst'].cumsum()\n",
      "/tmp/ipykernel_1041572/369906587.py:95: SettingWithCopyWarning: \n",
      "A value is trying to be set on a copy of a slice from a DataFrame.\n",
      "Try using .loc[row_indexer,col_indexer] = value instead\n",
      "\n",
      "See the caveats in the documentation: https://pandas.pydata.org/pandas-docs/stable/user_guide/indexing.html#returning-a-view-versus-a-copy\n",
      "  slack_df['policy_cost'] = slack_df['elev_invst'].cumsum()\n",
      "/tmp/ipykernel_1041572/369906587.py:107: SettingWithCopyWarning: \n",
      "A value is trying to be set on a copy of a slice from a DataFrame.\n",
      "Try using .loc[row_indexer,col_indexer] = value instead\n",
      "\n",
      "See the caveats in the documentation: https://pandas.pydata.org/pandas-docs/stable/user_guide/indexing.html#returning-a-view-versus-a-copy\n",
      "  slack_elev['npv_check'] = slack_elev['npv_opt'].cumsum()\n"
     ]
    },
    {
     "name": "stdout",
     "output_type": "stream",
     "text": [
      "Calculate objective values for policy:\n",
      "Sort by cejst\n",
      "With Budget of $M 15000000.0\n",
      "Scenario: Mid_naccs\n",
      "Calculate objective values for policy:\n",
      "Sort by npv_opt\n",
      "With Budget of $M 1000000.0\n",
      "Calculate objective values for policy:\n",
      "Sort by avoid_rel_eal\n",
      "With Budget of $M 1000000.0\n",
      "Calculate objective values for policy:\n",
      "Sort by rel_eal\n",
      "With Budget of $M 1000000.0\n"
     ]
    },
    {
     "name": "stderr",
     "output_type": "stream",
     "text": [
      "/tmp/ipykernel_1041572/369906587.py:94: SettingWithCopyWarning: \n",
      "A value is trying to be set on a copy of a slice from a DataFrame.\n",
      "Try using .loc[row_indexer,col_indexer] = value instead\n",
      "\n",
      "See the caveats in the documentation: https://pandas.pydata.org/pandas-docs/stable/user_guide/indexing.html#returning-a-view-versus-a-copy\n",
      "  pri_df['policy_cost'] = pri_df['elev_invst'].cumsum()\n",
      "/tmp/ipykernel_1041572/369906587.py:95: SettingWithCopyWarning: \n",
      "A value is trying to be set on a copy of a slice from a DataFrame.\n",
      "Try using .loc[row_indexer,col_indexer] = value instead\n",
      "\n",
      "See the caveats in the documentation: https://pandas.pydata.org/pandas-docs/stable/user_guide/indexing.html#returning-a-view-versus-a-copy\n",
      "  slack_df['policy_cost'] = slack_df['elev_invst'].cumsum()\n"
     ]
    },
    {
     "name": "stdout",
     "output_type": "stream",
     "text": [
      "Calculate objective values for policy:\n",
      "Sort by lmi\n",
      "With Budget of $M 1000000.0\n"
     ]
    },
    {
     "name": "stderr",
     "output_type": "stream",
     "text": [
      "/tmp/ipykernel_1041572/369906587.py:94: SettingWithCopyWarning: \n",
      "A value is trying to be set on a copy of a slice from a DataFrame.\n",
      "Try using .loc[row_indexer,col_indexer] = value instead\n",
      "\n",
      "See the caveats in the documentation: https://pandas.pydata.org/pandas-docs/stable/user_guide/indexing.html#returning-a-view-versus-a-copy\n",
      "  pri_df['policy_cost'] = pri_df['elev_invst'].cumsum()\n",
      "/tmp/ipykernel_1041572/369906587.py:95: SettingWithCopyWarning: \n",
      "A value is trying to be set on a copy of a slice from a DataFrame.\n",
      "Try using .loc[row_indexer,col_indexer] = value instead\n",
      "\n",
      "See the caveats in the documentation: https://pandas.pydata.org/pandas-docs/stable/user_guide/indexing.html#returning-a-view-versus-a-copy\n",
      "  slack_df['policy_cost'] = slack_df['elev_invst'].cumsum()\n"
     ]
    },
    {
     "name": "stdout",
     "output_type": "stream",
     "text": [
      "Calculate objective values for policy:\n",
      "Sort by ovb\n",
      "With Budget of $M 1000000.0\n"
     ]
    },
    {
     "name": "stderr",
     "output_type": "stream",
     "text": [
      "/tmp/ipykernel_1041572/369906587.py:94: SettingWithCopyWarning: \n",
      "A value is trying to be set on a copy of a slice from a DataFrame.\n",
      "Try using .loc[row_indexer,col_indexer] = value instead\n",
      "\n",
      "See the caveats in the documentation: https://pandas.pydata.org/pandas-docs/stable/user_guide/indexing.html#returning-a-view-versus-a-copy\n",
      "  pri_df['policy_cost'] = pri_df['elev_invst'].cumsum()\n",
      "/tmp/ipykernel_1041572/369906587.py:95: SettingWithCopyWarning: \n",
      "A value is trying to be set on a copy of a slice from a DataFrame.\n",
      "Try using .loc[row_indexer,col_indexer] = value instead\n",
      "\n",
      "See the caveats in the documentation: https://pandas.pydata.org/pandas-docs/stable/user_guide/indexing.html#returning-a-view-versus-a-copy\n",
      "  slack_df['policy_cost'] = slack_df['elev_invst'].cumsum()\n",
      "/tmp/ipykernel_1041572/369906587.py:107: SettingWithCopyWarning: \n",
      "A value is trying to be set on a copy of a slice from a DataFrame.\n",
      "Try using .loc[row_indexer,col_indexer] = value instead\n",
      "\n",
      "See the caveats in the documentation: https://pandas.pydata.org/pandas-docs/stable/user_guide/indexing.html#returning-a-view-versus-a-copy\n",
      "  slack_elev['npv_check'] = slack_elev['npv_opt'].cumsum()\n"
     ]
    },
    {
     "name": "stdout",
     "output_type": "stream",
     "text": [
      "Calculate objective values for policy:\n",
      "Sort by cejst\n",
      "With Budget of $M 1000000.0\n",
      "Calculate objective values for policy:\n",
      "Sort by npv_opt\n",
      "With Budget of $M 1500000.0\n",
      "Calculate objective values for policy:\n",
      "Sort by avoid_rel_eal\n",
      "With Budget of $M 1500000.0\n",
      "Calculate objective values for policy:\n",
      "Sort by rel_eal\n",
      "With Budget of $M 1500000.0\n"
     ]
    },
    {
     "name": "stderr",
     "output_type": "stream",
     "text": [
      "/tmp/ipykernel_1041572/369906587.py:94: SettingWithCopyWarning: \n",
      "A value is trying to be set on a copy of a slice from a DataFrame.\n",
      "Try using .loc[row_indexer,col_indexer] = value instead\n",
      "\n",
      "See the caveats in the documentation: https://pandas.pydata.org/pandas-docs/stable/user_guide/indexing.html#returning-a-view-versus-a-copy\n",
      "  pri_df['policy_cost'] = pri_df['elev_invst'].cumsum()\n",
      "/tmp/ipykernel_1041572/369906587.py:95: SettingWithCopyWarning: \n",
      "A value is trying to be set on a copy of a slice from a DataFrame.\n",
      "Try using .loc[row_indexer,col_indexer] = value instead\n",
      "\n",
      "See the caveats in the documentation: https://pandas.pydata.org/pandas-docs/stable/user_guide/indexing.html#returning-a-view-versus-a-copy\n",
      "  slack_df['policy_cost'] = slack_df['elev_invst'].cumsum()\n"
     ]
    },
    {
     "name": "stdout",
     "output_type": "stream",
     "text": [
      "Calculate objective values for policy:\n",
      "Sort by lmi\n",
      "With Budget of $M 1500000.0\n"
     ]
    },
    {
     "name": "stderr",
     "output_type": "stream",
     "text": [
      "/tmp/ipykernel_1041572/369906587.py:94: SettingWithCopyWarning: \n",
      "A value is trying to be set on a copy of a slice from a DataFrame.\n",
      "Try using .loc[row_indexer,col_indexer] = value instead\n",
      "\n",
      "See the caveats in the documentation: https://pandas.pydata.org/pandas-docs/stable/user_guide/indexing.html#returning-a-view-versus-a-copy\n",
      "  pri_df['policy_cost'] = pri_df['elev_invst'].cumsum()\n",
      "/tmp/ipykernel_1041572/369906587.py:95: SettingWithCopyWarning: \n",
      "A value is trying to be set on a copy of a slice from a DataFrame.\n",
      "Try using .loc[row_indexer,col_indexer] = value instead\n",
      "\n",
      "See the caveats in the documentation: https://pandas.pydata.org/pandas-docs/stable/user_guide/indexing.html#returning-a-view-versus-a-copy\n",
      "  slack_df['policy_cost'] = slack_df['elev_invst'].cumsum()\n"
     ]
    },
    {
     "name": "stdout",
     "output_type": "stream",
     "text": [
      "Calculate objective values for policy:\n",
      "Sort by ovb\n",
      "With Budget of $M 1500000.0\n"
     ]
    },
    {
     "name": "stderr",
     "output_type": "stream",
     "text": [
      "/tmp/ipykernel_1041572/369906587.py:94: SettingWithCopyWarning: \n",
      "A value is trying to be set on a copy of a slice from a DataFrame.\n",
      "Try using .loc[row_indexer,col_indexer] = value instead\n",
      "\n",
      "See the caveats in the documentation: https://pandas.pydata.org/pandas-docs/stable/user_guide/indexing.html#returning-a-view-versus-a-copy\n",
      "  pri_df['policy_cost'] = pri_df['elev_invst'].cumsum()\n",
      "/tmp/ipykernel_1041572/369906587.py:95: SettingWithCopyWarning: \n",
      "A value is trying to be set on a copy of a slice from a DataFrame.\n",
      "Try using .loc[row_indexer,col_indexer] = value instead\n",
      "\n",
      "See the caveats in the documentation: https://pandas.pydata.org/pandas-docs/stable/user_guide/indexing.html#returning-a-view-versus-a-copy\n",
      "  slack_df['policy_cost'] = slack_df['elev_invst'].cumsum()\n",
      "/tmp/ipykernel_1041572/369906587.py:107: SettingWithCopyWarning: \n",
      "A value is trying to be set on a copy of a slice from a DataFrame.\n",
      "Try using .loc[row_indexer,col_indexer] = value instead\n",
      "\n",
      "See the caveats in the documentation: https://pandas.pydata.org/pandas-docs/stable/user_guide/indexing.html#returning-a-view-versus-a-copy\n",
      "  slack_elev['npv_check'] = slack_elev['npv_opt'].cumsum()\n"
     ]
    },
    {
     "name": "stdout",
     "output_type": "stream",
     "text": [
      "Calculate objective values for policy:\n",
      "Sort by cejst\n",
      "With Budget of $M 1500000.0\n",
      "Calculate objective values for policy:\n",
      "Sort by npv_opt\n",
      "With Budget of $M 2000000.0\n",
      "Calculate objective values for policy:\n",
      "Sort by avoid_rel_eal\n",
      "With Budget of $M 2000000.0\n",
      "Calculate objective values for policy:\n",
      "Sort by rel_eal\n",
      "With Budget of $M 2000000.0\n"
     ]
    },
    {
     "name": "stderr",
     "output_type": "stream",
     "text": [
      "/tmp/ipykernel_1041572/369906587.py:94: SettingWithCopyWarning: \n",
      "A value is trying to be set on a copy of a slice from a DataFrame.\n",
      "Try using .loc[row_indexer,col_indexer] = value instead\n",
      "\n",
      "See the caveats in the documentation: https://pandas.pydata.org/pandas-docs/stable/user_guide/indexing.html#returning-a-view-versus-a-copy\n",
      "  pri_df['policy_cost'] = pri_df['elev_invst'].cumsum()\n",
      "/tmp/ipykernel_1041572/369906587.py:95: SettingWithCopyWarning: \n",
      "A value is trying to be set on a copy of a slice from a DataFrame.\n",
      "Try using .loc[row_indexer,col_indexer] = value instead\n",
      "\n",
      "See the caveats in the documentation: https://pandas.pydata.org/pandas-docs/stable/user_guide/indexing.html#returning-a-view-versus-a-copy\n",
      "  slack_df['policy_cost'] = slack_df['elev_invst'].cumsum()\n"
     ]
    },
    {
     "name": "stdout",
     "output_type": "stream",
     "text": [
      "Calculate objective values for policy:\n",
      "Sort by lmi\n",
      "With Budget of $M 2000000.0\n"
     ]
    },
    {
     "name": "stderr",
     "output_type": "stream",
     "text": [
      "/tmp/ipykernel_1041572/369906587.py:94: SettingWithCopyWarning: \n",
      "A value is trying to be set on a copy of a slice from a DataFrame.\n",
      "Try using .loc[row_indexer,col_indexer] = value instead\n",
      "\n",
      "See the caveats in the documentation: https://pandas.pydata.org/pandas-docs/stable/user_guide/indexing.html#returning-a-view-versus-a-copy\n",
      "  pri_df['policy_cost'] = pri_df['elev_invst'].cumsum()\n",
      "/tmp/ipykernel_1041572/369906587.py:95: SettingWithCopyWarning: \n",
      "A value is trying to be set on a copy of a slice from a DataFrame.\n",
      "Try using .loc[row_indexer,col_indexer] = value instead\n",
      "\n",
      "See the caveats in the documentation: https://pandas.pydata.org/pandas-docs/stable/user_guide/indexing.html#returning-a-view-versus-a-copy\n",
      "  slack_df['policy_cost'] = slack_df['elev_invst'].cumsum()\n"
     ]
    },
    {
     "name": "stdout",
     "output_type": "stream",
     "text": [
      "Calculate objective values for policy:\n",
      "Sort by ovb\n",
      "With Budget of $M 2000000.0\n"
     ]
    },
    {
     "name": "stderr",
     "output_type": "stream",
     "text": [
      "/tmp/ipykernel_1041572/369906587.py:94: SettingWithCopyWarning: \n",
      "A value is trying to be set on a copy of a slice from a DataFrame.\n",
      "Try using .loc[row_indexer,col_indexer] = value instead\n",
      "\n",
      "See the caveats in the documentation: https://pandas.pydata.org/pandas-docs/stable/user_guide/indexing.html#returning-a-view-versus-a-copy\n",
      "  pri_df['policy_cost'] = pri_df['elev_invst'].cumsum()\n",
      "/tmp/ipykernel_1041572/369906587.py:95: SettingWithCopyWarning: \n",
      "A value is trying to be set on a copy of a slice from a DataFrame.\n",
      "Try using .loc[row_indexer,col_indexer] = value instead\n",
      "\n",
      "See the caveats in the documentation: https://pandas.pydata.org/pandas-docs/stable/user_guide/indexing.html#returning-a-view-versus-a-copy\n",
      "  slack_df['policy_cost'] = slack_df['elev_invst'].cumsum()\n",
      "/tmp/ipykernel_1041572/369906587.py:107: SettingWithCopyWarning: \n",
      "A value is trying to be set on a copy of a slice from a DataFrame.\n",
      "Try using .loc[row_indexer,col_indexer] = value instead\n",
      "\n",
      "See the caveats in the documentation: https://pandas.pydata.org/pandas-docs/stable/user_guide/indexing.html#returning-a-view-versus-a-copy\n",
      "  slack_elev['npv_check'] = slack_elev['npv_opt'].cumsum()\n"
     ]
    },
    {
     "name": "stdout",
     "output_type": "stream",
     "text": [
      "Calculate objective values for policy:\n",
      "Sort by cejst\n",
      "With Budget of $M 2000000.0\n",
      "Calculate objective values for policy:\n",
      "Sort by npv_opt\n",
      "With Budget of $M 2500000.0\n",
      "Calculate objective values for policy:\n",
      "Sort by avoid_rel_eal\n",
      "With Budget of $M 2500000.0\n",
      "Calculate objective values for policy:\n",
      "Sort by rel_eal\n",
      "With Budget of $M 2500000.0\n"
     ]
    },
    {
     "name": "stderr",
     "output_type": "stream",
     "text": [
      "/tmp/ipykernel_1041572/369906587.py:94: SettingWithCopyWarning: \n",
      "A value is trying to be set on a copy of a slice from a DataFrame.\n",
      "Try using .loc[row_indexer,col_indexer] = value instead\n",
      "\n",
      "See the caveats in the documentation: https://pandas.pydata.org/pandas-docs/stable/user_guide/indexing.html#returning-a-view-versus-a-copy\n",
      "  pri_df['policy_cost'] = pri_df['elev_invst'].cumsum()\n",
      "/tmp/ipykernel_1041572/369906587.py:95: SettingWithCopyWarning: \n",
      "A value is trying to be set on a copy of a slice from a DataFrame.\n",
      "Try using .loc[row_indexer,col_indexer] = value instead\n",
      "\n",
      "See the caveats in the documentation: https://pandas.pydata.org/pandas-docs/stable/user_guide/indexing.html#returning-a-view-versus-a-copy\n",
      "  slack_df['policy_cost'] = slack_df['elev_invst'].cumsum()\n"
     ]
    },
    {
     "name": "stdout",
     "output_type": "stream",
     "text": [
      "Calculate objective values for policy:\n",
      "Sort by lmi\n",
      "With Budget of $M 2500000.0\n"
     ]
    },
    {
     "name": "stderr",
     "output_type": "stream",
     "text": [
      "/tmp/ipykernel_1041572/369906587.py:94: SettingWithCopyWarning: \n",
      "A value is trying to be set on a copy of a slice from a DataFrame.\n",
      "Try using .loc[row_indexer,col_indexer] = value instead\n",
      "\n",
      "See the caveats in the documentation: https://pandas.pydata.org/pandas-docs/stable/user_guide/indexing.html#returning-a-view-versus-a-copy\n",
      "  pri_df['policy_cost'] = pri_df['elev_invst'].cumsum()\n",
      "/tmp/ipykernel_1041572/369906587.py:95: SettingWithCopyWarning: \n",
      "A value is trying to be set on a copy of a slice from a DataFrame.\n",
      "Try using .loc[row_indexer,col_indexer] = value instead\n",
      "\n",
      "See the caveats in the documentation: https://pandas.pydata.org/pandas-docs/stable/user_guide/indexing.html#returning-a-view-versus-a-copy\n",
      "  slack_df['policy_cost'] = slack_df['elev_invst'].cumsum()\n"
     ]
    },
    {
     "name": "stdout",
     "output_type": "stream",
     "text": [
      "Calculate objective values for policy:\n",
      "Sort by ovb\n",
      "With Budget of $M 2500000.0\n"
     ]
    },
    {
     "name": "stderr",
     "output_type": "stream",
     "text": [
      "/tmp/ipykernel_1041572/369906587.py:94: SettingWithCopyWarning: \n",
      "A value is trying to be set on a copy of a slice from a DataFrame.\n",
      "Try using .loc[row_indexer,col_indexer] = value instead\n",
      "\n",
      "See the caveats in the documentation: https://pandas.pydata.org/pandas-docs/stable/user_guide/indexing.html#returning-a-view-versus-a-copy\n",
      "  pri_df['policy_cost'] = pri_df['elev_invst'].cumsum()\n",
      "/tmp/ipykernel_1041572/369906587.py:95: SettingWithCopyWarning: \n",
      "A value is trying to be set on a copy of a slice from a DataFrame.\n",
      "Try using .loc[row_indexer,col_indexer] = value instead\n",
      "\n",
      "See the caveats in the documentation: https://pandas.pydata.org/pandas-docs/stable/user_guide/indexing.html#returning-a-view-versus-a-copy\n",
      "  slack_df['policy_cost'] = slack_df['elev_invst'].cumsum()\n",
      "/tmp/ipykernel_1041572/369906587.py:107: SettingWithCopyWarning: \n",
      "A value is trying to be set on a copy of a slice from a DataFrame.\n",
      "Try using .loc[row_indexer,col_indexer] = value instead\n",
      "\n",
      "See the caveats in the documentation: https://pandas.pydata.org/pandas-docs/stable/user_guide/indexing.html#returning-a-view-versus-a-copy\n",
      "  slack_elev['npv_check'] = slack_elev['npv_opt'].cumsum()\n"
     ]
    },
    {
     "name": "stdout",
     "output_type": "stream",
     "text": [
      "Calculate objective values for policy:\n",
      "Sort by cejst\n",
      "With Budget of $M 2500000.0\n",
      "Calculate objective values for policy:\n",
      "Sort by npv_opt\n",
      "With Budget of $M 3000000.0\n",
      "Calculate objective values for policy:\n",
      "Sort by avoid_rel_eal\n",
      "With Budget of $M 3000000.0\n",
      "Calculate objective values for policy:\n",
      "Sort by rel_eal\n",
      "With Budget of $M 3000000.0\n"
     ]
    },
    {
     "name": "stderr",
     "output_type": "stream",
     "text": [
      "/tmp/ipykernel_1041572/369906587.py:94: SettingWithCopyWarning: \n",
      "A value is trying to be set on a copy of a slice from a DataFrame.\n",
      "Try using .loc[row_indexer,col_indexer] = value instead\n",
      "\n",
      "See the caveats in the documentation: https://pandas.pydata.org/pandas-docs/stable/user_guide/indexing.html#returning-a-view-versus-a-copy\n",
      "  pri_df['policy_cost'] = pri_df['elev_invst'].cumsum()\n",
      "/tmp/ipykernel_1041572/369906587.py:95: SettingWithCopyWarning: \n",
      "A value is trying to be set on a copy of a slice from a DataFrame.\n",
      "Try using .loc[row_indexer,col_indexer] = value instead\n",
      "\n",
      "See the caveats in the documentation: https://pandas.pydata.org/pandas-docs/stable/user_guide/indexing.html#returning-a-view-versus-a-copy\n",
      "  slack_df['policy_cost'] = slack_df['elev_invst'].cumsum()\n"
     ]
    },
    {
     "name": "stdout",
     "output_type": "stream",
     "text": [
      "Calculate objective values for policy:\n",
      "Sort by lmi\n",
      "With Budget of $M 3000000.0\n"
     ]
    },
    {
     "name": "stderr",
     "output_type": "stream",
     "text": [
      "/tmp/ipykernel_1041572/369906587.py:94: SettingWithCopyWarning: \n",
      "A value is trying to be set on a copy of a slice from a DataFrame.\n",
      "Try using .loc[row_indexer,col_indexer] = value instead\n",
      "\n",
      "See the caveats in the documentation: https://pandas.pydata.org/pandas-docs/stable/user_guide/indexing.html#returning-a-view-versus-a-copy\n",
      "  pri_df['policy_cost'] = pri_df['elev_invst'].cumsum()\n",
      "/tmp/ipykernel_1041572/369906587.py:95: SettingWithCopyWarning: \n",
      "A value is trying to be set on a copy of a slice from a DataFrame.\n",
      "Try using .loc[row_indexer,col_indexer] = value instead\n",
      "\n",
      "See the caveats in the documentation: https://pandas.pydata.org/pandas-docs/stable/user_guide/indexing.html#returning-a-view-versus-a-copy\n",
      "  slack_df['policy_cost'] = slack_df['elev_invst'].cumsum()\n",
      "/tmp/ipykernel_1041572/369906587.py:107: SettingWithCopyWarning: \n",
      "A value is trying to be set on a copy of a slice from a DataFrame.\n",
      "Try using .loc[row_indexer,col_indexer] = value instead\n",
      "\n",
      "See the caveats in the documentation: https://pandas.pydata.org/pandas-docs/stable/user_guide/indexing.html#returning-a-view-versus-a-copy\n",
      "  slack_elev['npv_check'] = slack_elev['npv_opt'].cumsum()\n"
     ]
    },
    {
     "name": "stdout",
     "output_type": "stream",
     "text": [
      "Calculate objective values for policy:\n",
      "Sort by ovb\n",
      "With Budget of $M 3000000.0\n"
     ]
    },
    {
     "name": "stderr",
     "output_type": "stream",
     "text": [
      "/tmp/ipykernel_1041572/369906587.py:94: SettingWithCopyWarning: \n",
      "A value is trying to be set on a copy of a slice from a DataFrame.\n",
      "Try using .loc[row_indexer,col_indexer] = value instead\n",
      "\n",
      "See the caveats in the documentation: https://pandas.pydata.org/pandas-docs/stable/user_guide/indexing.html#returning-a-view-versus-a-copy\n",
      "  pri_df['policy_cost'] = pri_df['elev_invst'].cumsum()\n",
      "/tmp/ipykernel_1041572/369906587.py:95: SettingWithCopyWarning: \n",
      "A value is trying to be set on a copy of a slice from a DataFrame.\n",
      "Try using .loc[row_indexer,col_indexer] = value instead\n",
      "\n",
      "See the caveats in the documentation: https://pandas.pydata.org/pandas-docs/stable/user_guide/indexing.html#returning-a-view-versus-a-copy\n",
      "  slack_df['policy_cost'] = slack_df['elev_invst'].cumsum()\n",
      "/tmp/ipykernel_1041572/369906587.py:107: SettingWithCopyWarning: \n",
      "A value is trying to be set on a copy of a slice from a DataFrame.\n",
      "Try using .loc[row_indexer,col_indexer] = value instead\n",
      "\n",
      "See the caveats in the documentation: https://pandas.pydata.org/pandas-docs/stable/user_guide/indexing.html#returning-a-view-versus-a-copy\n",
      "  slack_elev['npv_check'] = slack_elev['npv_opt'].cumsum()\n"
     ]
    },
    {
     "name": "stdout",
     "output_type": "stream",
     "text": [
      "Calculate objective values for policy:\n",
      "Sort by cejst\n",
      "With Budget of $M 3000000.0\n",
      "Calculate objective values for policy:\n",
      "Sort by npv_opt\n",
      "With Budget of $M 3500000.0\n",
      "Calculate objective values for policy:\n",
      "Sort by avoid_rel_eal\n",
      "With Budget of $M 3500000.0\n",
      "Calculate objective values for policy:\n",
      "Sort by rel_eal\n",
      "With Budget of $M 3500000.0\n"
     ]
    },
    {
     "name": "stderr",
     "output_type": "stream",
     "text": [
      "/tmp/ipykernel_1041572/369906587.py:94: SettingWithCopyWarning: \n",
      "A value is trying to be set on a copy of a slice from a DataFrame.\n",
      "Try using .loc[row_indexer,col_indexer] = value instead\n",
      "\n",
      "See the caveats in the documentation: https://pandas.pydata.org/pandas-docs/stable/user_guide/indexing.html#returning-a-view-versus-a-copy\n",
      "  pri_df['policy_cost'] = pri_df['elev_invst'].cumsum()\n",
      "/tmp/ipykernel_1041572/369906587.py:95: SettingWithCopyWarning: \n",
      "A value is trying to be set on a copy of a slice from a DataFrame.\n",
      "Try using .loc[row_indexer,col_indexer] = value instead\n",
      "\n",
      "See the caveats in the documentation: https://pandas.pydata.org/pandas-docs/stable/user_guide/indexing.html#returning-a-view-versus-a-copy\n",
      "  slack_df['policy_cost'] = slack_df['elev_invst'].cumsum()\n"
     ]
    },
    {
     "name": "stdout",
     "output_type": "stream",
     "text": [
      "Calculate objective values for policy:\n",
      "Sort by lmi\n",
      "With Budget of $M 3500000.0\n"
     ]
    },
    {
     "name": "stderr",
     "output_type": "stream",
     "text": [
      "/tmp/ipykernel_1041572/369906587.py:94: SettingWithCopyWarning: \n",
      "A value is trying to be set on a copy of a slice from a DataFrame.\n",
      "Try using .loc[row_indexer,col_indexer] = value instead\n",
      "\n",
      "See the caveats in the documentation: https://pandas.pydata.org/pandas-docs/stable/user_guide/indexing.html#returning-a-view-versus-a-copy\n",
      "  pri_df['policy_cost'] = pri_df['elev_invst'].cumsum()\n",
      "/tmp/ipykernel_1041572/369906587.py:95: SettingWithCopyWarning: \n",
      "A value is trying to be set on a copy of a slice from a DataFrame.\n",
      "Try using .loc[row_indexer,col_indexer] = value instead\n",
      "\n",
      "See the caveats in the documentation: https://pandas.pydata.org/pandas-docs/stable/user_guide/indexing.html#returning-a-view-versus-a-copy\n",
      "  slack_df['policy_cost'] = slack_df['elev_invst'].cumsum()\n"
     ]
    },
    {
     "name": "stdout",
     "output_type": "stream",
     "text": [
      "Calculate objective values for policy:\n",
      "Sort by ovb\n",
      "With Budget of $M 3500000.0\n"
     ]
    },
    {
     "name": "stderr",
     "output_type": "stream",
     "text": [
      "/tmp/ipykernel_1041572/369906587.py:94: SettingWithCopyWarning: \n",
      "A value is trying to be set on a copy of a slice from a DataFrame.\n",
      "Try using .loc[row_indexer,col_indexer] = value instead\n",
      "\n",
      "See the caveats in the documentation: https://pandas.pydata.org/pandas-docs/stable/user_guide/indexing.html#returning-a-view-versus-a-copy\n",
      "  pri_df['policy_cost'] = pri_df['elev_invst'].cumsum()\n",
      "/tmp/ipykernel_1041572/369906587.py:95: SettingWithCopyWarning: \n",
      "A value is trying to be set on a copy of a slice from a DataFrame.\n",
      "Try using .loc[row_indexer,col_indexer] = value instead\n",
      "\n",
      "See the caveats in the documentation: https://pandas.pydata.org/pandas-docs/stable/user_guide/indexing.html#returning-a-view-versus-a-copy\n",
      "  slack_df['policy_cost'] = slack_df['elev_invst'].cumsum()\n",
      "/tmp/ipykernel_1041572/369906587.py:107: SettingWithCopyWarning: \n",
      "A value is trying to be set on a copy of a slice from a DataFrame.\n",
      "Try using .loc[row_indexer,col_indexer] = value instead\n",
      "\n",
      "See the caveats in the documentation: https://pandas.pydata.org/pandas-docs/stable/user_guide/indexing.html#returning-a-view-versus-a-copy\n",
      "  slack_elev['npv_check'] = slack_elev['npv_opt'].cumsum()\n"
     ]
    },
    {
     "name": "stdout",
     "output_type": "stream",
     "text": [
      "Calculate objective values for policy:\n",
      "Sort by cejst\n",
      "With Budget of $M 3500000.0\n",
      "Calculate objective values for policy:\n",
      "Sort by npv_opt\n",
      "With Budget of $M 4000000.0\n",
      "Calculate objective values for policy:\n",
      "Sort by avoid_rel_eal\n",
      "With Budget of $M 4000000.0\n",
      "Calculate objective values for policy:\n",
      "Sort by rel_eal\n",
      "With Budget of $M 4000000.0\n"
     ]
    },
    {
     "name": "stderr",
     "output_type": "stream",
     "text": [
      "/tmp/ipykernel_1041572/369906587.py:94: SettingWithCopyWarning: \n",
      "A value is trying to be set on a copy of a slice from a DataFrame.\n",
      "Try using .loc[row_indexer,col_indexer] = value instead\n",
      "\n",
      "See the caveats in the documentation: https://pandas.pydata.org/pandas-docs/stable/user_guide/indexing.html#returning-a-view-versus-a-copy\n",
      "  pri_df['policy_cost'] = pri_df['elev_invst'].cumsum()\n",
      "/tmp/ipykernel_1041572/369906587.py:95: SettingWithCopyWarning: \n",
      "A value is trying to be set on a copy of a slice from a DataFrame.\n",
      "Try using .loc[row_indexer,col_indexer] = value instead\n",
      "\n",
      "See the caveats in the documentation: https://pandas.pydata.org/pandas-docs/stable/user_guide/indexing.html#returning-a-view-versus-a-copy\n",
      "  slack_df['policy_cost'] = slack_df['elev_invst'].cumsum()\n"
     ]
    },
    {
     "name": "stdout",
     "output_type": "stream",
     "text": [
      "Calculate objective values for policy:\n",
      "Sort by lmi\n",
      "With Budget of $M 4000000.0\n"
     ]
    },
    {
     "name": "stderr",
     "output_type": "stream",
     "text": [
      "/tmp/ipykernel_1041572/369906587.py:94: SettingWithCopyWarning: \n",
      "A value is trying to be set on a copy of a slice from a DataFrame.\n",
      "Try using .loc[row_indexer,col_indexer] = value instead\n",
      "\n",
      "See the caveats in the documentation: https://pandas.pydata.org/pandas-docs/stable/user_guide/indexing.html#returning-a-view-versus-a-copy\n",
      "  pri_df['policy_cost'] = pri_df['elev_invst'].cumsum()\n",
      "/tmp/ipykernel_1041572/369906587.py:95: SettingWithCopyWarning: \n",
      "A value is trying to be set on a copy of a slice from a DataFrame.\n",
      "Try using .loc[row_indexer,col_indexer] = value instead\n",
      "\n",
      "See the caveats in the documentation: https://pandas.pydata.org/pandas-docs/stable/user_guide/indexing.html#returning-a-view-versus-a-copy\n",
      "  slack_df['policy_cost'] = slack_df['elev_invst'].cumsum()\n"
     ]
    },
    {
     "name": "stdout",
     "output_type": "stream",
     "text": [
      "Calculate objective values for policy:\n",
      "Sort by ovb\n",
      "With Budget of $M 4000000.0\n"
     ]
    },
    {
     "name": "stderr",
     "output_type": "stream",
     "text": [
      "/tmp/ipykernel_1041572/369906587.py:94: SettingWithCopyWarning: \n",
      "A value is trying to be set on a copy of a slice from a DataFrame.\n",
      "Try using .loc[row_indexer,col_indexer] = value instead\n",
      "\n",
      "See the caveats in the documentation: https://pandas.pydata.org/pandas-docs/stable/user_guide/indexing.html#returning-a-view-versus-a-copy\n",
      "  pri_df['policy_cost'] = pri_df['elev_invst'].cumsum()\n",
      "/tmp/ipykernel_1041572/369906587.py:95: SettingWithCopyWarning: \n",
      "A value is trying to be set on a copy of a slice from a DataFrame.\n",
      "Try using .loc[row_indexer,col_indexer] = value instead\n",
      "\n",
      "See the caveats in the documentation: https://pandas.pydata.org/pandas-docs/stable/user_guide/indexing.html#returning-a-view-versus-a-copy\n",
      "  slack_df['policy_cost'] = slack_df['elev_invst'].cumsum()\n",
      "/tmp/ipykernel_1041572/369906587.py:107: SettingWithCopyWarning: \n",
      "A value is trying to be set on a copy of a slice from a DataFrame.\n",
      "Try using .loc[row_indexer,col_indexer] = value instead\n",
      "\n",
      "See the caveats in the documentation: https://pandas.pydata.org/pandas-docs/stable/user_guide/indexing.html#returning-a-view-versus-a-copy\n",
      "  slack_elev['npv_check'] = slack_elev['npv_opt'].cumsum()\n"
     ]
    },
    {
     "name": "stdout",
     "output_type": "stream",
     "text": [
      "Calculate objective values for policy:\n",
      "Sort by cejst\n",
      "With Budget of $M 4000000.0\n",
      "Calculate objective values for policy:\n",
      "Sort by npv_opt\n",
      "With Budget of $M 4500000.0\n",
      "Calculate objective values for policy:\n",
      "Sort by avoid_rel_eal\n",
      "With Budget of $M 4500000.0\n",
      "Calculate objective values for policy:\n",
      "Sort by rel_eal\n",
      "With Budget of $M 4500000.0\n"
     ]
    },
    {
     "name": "stderr",
     "output_type": "stream",
     "text": [
      "/tmp/ipykernel_1041572/369906587.py:94: SettingWithCopyWarning: \n",
      "A value is trying to be set on a copy of a slice from a DataFrame.\n",
      "Try using .loc[row_indexer,col_indexer] = value instead\n",
      "\n",
      "See the caveats in the documentation: https://pandas.pydata.org/pandas-docs/stable/user_guide/indexing.html#returning-a-view-versus-a-copy\n",
      "  pri_df['policy_cost'] = pri_df['elev_invst'].cumsum()\n",
      "/tmp/ipykernel_1041572/369906587.py:95: SettingWithCopyWarning: \n",
      "A value is trying to be set on a copy of a slice from a DataFrame.\n",
      "Try using .loc[row_indexer,col_indexer] = value instead\n",
      "\n",
      "See the caveats in the documentation: https://pandas.pydata.org/pandas-docs/stable/user_guide/indexing.html#returning-a-view-versus-a-copy\n",
      "  slack_df['policy_cost'] = slack_df['elev_invst'].cumsum()\n"
     ]
    },
    {
     "name": "stdout",
     "output_type": "stream",
     "text": [
      "Calculate objective values for policy:\n",
      "Sort by lmi\n",
      "With Budget of $M 4500000.0\n"
     ]
    },
    {
     "name": "stderr",
     "output_type": "stream",
     "text": [
      "/tmp/ipykernel_1041572/369906587.py:94: SettingWithCopyWarning: \n",
      "A value is trying to be set on a copy of a slice from a DataFrame.\n",
      "Try using .loc[row_indexer,col_indexer] = value instead\n",
      "\n",
      "See the caveats in the documentation: https://pandas.pydata.org/pandas-docs/stable/user_guide/indexing.html#returning-a-view-versus-a-copy\n",
      "  pri_df['policy_cost'] = pri_df['elev_invst'].cumsum()\n",
      "/tmp/ipykernel_1041572/369906587.py:95: SettingWithCopyWarning: \n",
      "A value is trying to be set on a copy of a slice from a DataFrame.\n",
      "Try using .loc[row_indexer,col_indexer] = value instead\n",
      "\n",
      "See the caveats in the documentation: https://pandas.pydata.org/pandas-docs/stable/user_guide/indexing.html#returning-a-view-versus-a-copy\n",
      "  slack_df['policy_cost'] = slack_df['elev_invst'].cumsum()\n"
     ]
    },
    {
     "name": "stdout",
     "output_type": "stream",
     "text": [
      "Calculate objective values for policy:\n",
      "Sort by ovb\n",
      "With Budget of $M 4500000.0\n"
     ]
    },
    {
     "name": "stderr",
     "output_type": "stream",
     "text": [
      "/tmp/ipykernel_1041572/369906587.py:94: SettingWithCopyWarning: \n",
      "A value is trying to be set on a copy of a slice from a DataFrame.\n",
      "Try using .loc[row_indexer,col_indexer] = value instead\n",
      "\n",
      "See the caveats in the documentation: https://pandas.pydata.org/pandas-docs/stable/user_guide/indexing.html#returning-a-view-versus-a-copy\n",
      "  pri_df['policy_cost'] = pri_df['elev_invst'].cumsum()\n",
      "/tmp/ipykernel_1041572/369906587.py:95: SettingWithCopyWarning: \n",
      "A value is trying to be set on a copy of a slice from a DataFrame.\n",
      "Try using .loc[row_indexer,col_indexer] = value instead\n",
      "\n",
      "See the caveats in the documentation: https://pandas.pydata.org/pandas-docs/stable/user_guide/indexing.html#returning-a-view-versus-a-copy\n",
      "  slack_df['policy_cost'] = slack_df['elev_invst'].cumsum()\n",
      "/tmp/ipykernel_1041572/369906587.py:107: SettingWithCopyWarning: \n",
      "A value is trying to be set on a copy of a slice from a DataFrame.\n",
      "Try using .loc[row_indexer,col_indexer] = value instead\n",
      "\n",
      "See the caveats in the documentation: https://pandas.pydata.org/pandas-docs/stable/user_guide/indexing.html#returning-a-view-versus-a-copy\n",
      "  slack_elev['npv_check'] = slack_elev['npv_opt'].cumsum()\n"
     ]
    },
    {
     "name": "stdout",
     "output_type": "stream",
     "text": [
      "Calculate objective values for policy:\n",
      "Sort by cejst\n",
      "With Budget of $M 4500000.0\n",
      "Calculate objective values for policy:\n",
      "Sort by npv_opt\n",
      "With Budget of $M 5000000.0\n",
      "Calculate objective values for policy:\n",
      "Sort by avoid_rel_eal\n",
      "With Budget of $M 5000000.0\n",
      "Calculate objective values for policy:\n",
      "Sort by rel_eal\n",
      "With Budget of $M 5000000.0\n"
     ]
    },
    {
     "name": "stderr",
     "output_type": "stream",
     "text": [
      "/tmp/ipykernel_1041572/369906587.py:94: SettingWithCopyWarning: \n",
      "A value is trying to be set on a copy of a slice from a DataFrame.\n",
      "Try using .loc[row_indexer,col_indexer] = value instead\n",
      "\n",
      "See the caveats in the documentation: https://pandas.pydata.org/pandas-docs/stable/user_guide/indexing.html#returning-a-view-versus-a-copy\n",
      "  pri_df['policy_cost'] = pri_df['elev_invst'].cumsum()\n",
      "/tmp/ipykernel_1041572/369906587.py:95: SettingWithCopyWarning: \n",
      "A value is trying to be set on a copy of a slice from a DataFrame.\n",
      "Try using .loc[row_indexer,col_indexer] = value instead\n",
      "\n",
      "See the caveats in the documentation: https://pandas.pydata.org/pandas-docs/stable/user_guide/indexing.html#returning-a-view-versus-a-copy\n",
      "  slack_df['policy_cost'] = slack_df['elev_invst'].cumsum()\n"
     ]
    },
    {
     "name": "stdout",
     "output_type": "stream",
     "text": [
      "Calculate objective values for policy:\n",
      "Sort by lmi\n",
      "With Budget of $M 5000000.0\n"
     ]
    },
    {
     "name": "stderr",
     "output_type": "stream",
     "text": [
      "/tmp/ipykernel_1041572/369906587.py:94: SettingWithCopyWarning: \n",
      "A value is trying to be set on a copy of a slice from a DataFrame.\n",
      "Try using .loc[row_indexer,col_indexer] = value instead\n",
      "\n",
      "See the caveats in the documentation: https://pandas.pydata.org/pandas-docs/stable/user_guide/indexing.html#returning-a-view-versus-a-copy\n",
      "  pri_df['policy_cost'] = pri_df['elev_invst'].cumsum()\n",
      "/tmp/ipykernel_1041572/369906587.py:95: SettingWithCopyWarning: \n",
      "A value is trying to be set on a copy of a slice from a DataFrame.\n",
      "Try using .loc[row_indexer,col_indexer] = value instead\n",
      "\n",
      "See the caveats in the documentation: https://pandas.pydata.org/pandas-docs/stable/user_guide/indexing.html#returning-a-view-versus-a-copy\n",
      "  slack_df['policy_cost'] = slack_df['elev_invst'].cumsum()\n"
     ]
    },
    {
     "name": "stdout",
     "output_type": "stream",
     "text": [
      "Calculate objective values for policy:\n",
      "Sort by ovb\n",
      "With Budget of $M 5000000.0\n"
     ]
    },
    {
     "name": "stderr",
     "output_type": "stream",
     "text": [
      "/tmp/ipykernel_1041572/369906587.py:94: SettingWithCopyWarning: \n",
      "A value is trying to be set on a copy of a slice from a DataFrame.\n",
      "Try using .loc[row_indexer,col_indexer] = value instead\n",
      "\n",
      "See the caveats in the documentation: https://pandas.pydata.org/pandas-docs/stable/user_guide/indexing.html#returning-a-view-versus-a-copy\n",
      "  pri_df['policy_cost'] = pri_df['elev_invst'].cumsum()\n",
      "/tmp/ipykernel_1041572/369906587.py:95: SettingWithCopyWarning: \n",
      "A value is trying to be set on a copy of a slice from a DataFrame.\n",
      "Try using .loc[row_indexer,col_indexer] = value instead\n",
      "\n",
      "See the caveats in the documentation: https://pandas.pydata.org/pandas-docs/stable/user_guide/indexing.html#returning-a-view-versus-a-copy\n",
      "  slack_df['policy_cost'] = slack_df['elev_invst'].cumsum()\n",
      "/tmp/ipykernel_1041572/369906587.py:107: SettingWithCopyWarning: \n",
      "A value is trying to be set on a copy of a slice from a DataFrame.\n",
      "Try using .loc[row_indexer,col_indexer] = value instead\n",
      "\n",
      "See the caveats in the documentation: https://pandas.pydata.org/pandas-docs/stable/user_guide/indexing.html#returning-a-view-versus-a-copy\n",
      "  slack_elev['npv_check'] = slack_elev['npv_opt'].cumsum()\n"
     ]
    },
    {
     "name": "stdout",
     "output_type": "stream",
     "text": [
      "Calculate objective values for policy:\n",
      "Sort by cejst\n",
      "With Budget of $M 5000000.0\n",
      "Calculate objective values for policy:\n",
      "Sort by npv_opt\n",
      "With Budget of $M 5500000.0\n",
      "Calculate objective values for policy:\n",
      "Sort by avoid_rel_eal\n",
      "With Budget of $M 5500000.0\n",
      "Calculate objective values for policy:\n",
      "Sort by rel_eal\n",
      "With Budget of $M 5500000.0\n"
     ]
    },
    {
     "name": "stderr",
     "output_type": "stream",
     "text": [
      "/tmp/ipykernel_1041572/369906587.py:94: SettingWithCopyWarning: \n",
      "A value is trying to be set on a copy of a slice from a DataFrame.\n",
      "Try using .loc[row_indexer,col_indexer] = value instead\n",
      "\n",
      "See the caveats in the documentation: https://pandas.pydata.org/pandas-docs/stable/user_guide/indexing.html#returning-a-view-versus-a-copy\n",
      "  pri_df['policy_cost'] = pri_df['elev_invst'].cumsum()\n",
      "/tmp/ipykernel_1041572/369906587.py:95: SettingWithCopyWarning: \n",
      "A value is trying to be set on a copy of a slice from a DataFrame.\n",
      "Try using .loc[row_indexer,col_indexer] = value instead\n",
      "\n",
      "See the caveats in the documentation: https://pandas.pydata.org/pandas-docs/stable/user_guide/indexing.html#returning-a-view-versus-a-copy\n",
      "  slack_df['policy_cost'] = slack_df['elev_invst'].cumsum()\n"
     ]
    },
    {
     "name": "stdout",
     "output_type": "stream",
     "text": [
      "Calculate objective values for policy:\n",
      "Sort by lmi\n",
      "With Budget of $M 5500000.0\n"
     ]
    },
    {
     "name": "stderr",
     "output_type": "stream",
     "text": [
      "/tmp/ipykernel_1041572/369906587.py:94: SettingWithCopyWarning: \n",
      "A value is trying to be set on a copy of a slice from a DataFrame.\n",
      "Try using .loc[row_indexer,col_indexer] = value instead\n",
      "\n",
      "See the caveats in the documentation: https://pandas.pydata.org/pandas-docs/stable/user_guide/indexing.html#returning-a-view-versus-a-copy\n",
      "  pri_df['policy_cost'] = pri_df['elev_invst'].cumsum()\n",
      "/tmp/ipykernel_1041572/369906587.py:95: SettingWithCopyWarning: \n",
      "A value is trying to be set on a copy of a slice from a DataFrame.\n",
      "Try using .loc[row_indexer,col_indexer] = value instead\n",
      "\n",
      "See the caveats in the documentation: https://pandas.pydata.org/pandas-docs/stable/user_guide/indexing.html#returning-a-view-versus-a-copy\n",
      "  slack_df['policy_cost'] = slack_df['elev_invst'].cumsum()\n"
     ]
    },
    {
     "name": "stdout",
     "output_type": "stream",
     "text": [
      "Calculate objective values for policy:\n",
      "Sort by ovb\n",
      "With Budget of $M 5500000.0\n"
     ]
    },
    {
     "name": "stderr",
     "output_type": "stream",
     "text": [
      "/tmp/ipykernel_1041572/369906587.py:94: SettingWithCopyWarning: \n",
      "A value is trying to be set on a copy of a slice from a DataFrame.\n",
      "Try using .loc[row_indexer,col_indexer] = value instead\n",
      "\n",
      "See the caveats in the documentation: https://pandas.pydata.org/pandas-docs/stable/user_guide/indexing.html#returning-a-view-versus-a-copy\n",
      "  pri_df['policy_cost'] = pri_df['elev_invst'].cumsum()\n",
      "/tmp/ipykernel_1041572/369906587.py:95: SettingWithCopyWarning: \n",
      "A value is trying to be set on a copy of a slice from a DataFrame.\n",
      "Try using .loc[row_indexer,col_indexer] = value instead\n",
      "\n",
      "See the caveats in the documentation: https://pandas.pydata.org/pandas-docs/stable/user_guide/indexing.html#returning-a-view-versus-a-copy\n",
      "  slack_df['policy_cost'] = slack_df['elev_invst'].cumsum()\n",
      "/tmp/ipykernel_1041572/369906587.py:107: SettingWithCopyWarning: \n",
      "A value is trying to be set on a copy of a slice from a DataFrame.\n",
      "Try using .loc[row_indexer,col_indexer] = value instead\n",
      "\n",
      "See the caveats in the documentation: https://pandas.pydata.org/pandas-docs/stable/user_guide/indexing.html#returning-a-view-versus-a-copy\n",
      "  slack_elev['npv_check'] = slack_elev['npv_opt'].cumsum()\n"
     ]
    },
    {
     "name": "stdout",
     "output_type": "stream",
     "text": [
      "Calculate objective values for policy:\n",
      "Sort by cejst\n",
      "With Budget of $M 5500000.0\n",
      "Calculate objective values for policy:\n",
      "Sort by npv_opt\n",
      "With Budget of $M 6000000.0\n",
      "Calculate objective values for policy:\n",
      "Sort by avoid_rel_eal\n",
      "With Budget of $M 6000000.0\n",
      "Calculate objective values for policy:\n",
      "Sort by rel_eal\n",
      "With Budget of $M 6000000.0\n"
     ]
    },
    {
     "name": "stderr",
     "output_type": "stream",
     "text": [
      "/tmp/ipykernel_1041572/369906587.py:94: SettingWithCopyWarning: \n",
      "A value is trying to be set on a copy of a slice from a DataFrame.\n",
      "Try using .loc[row_indexer,col_indexer] = value instead\n",
      "\n",
      "See the caveats in the documentation: https://pandas.pydata.org/pandas-docs/stable/user_guide/indexing.html#returning-a-view-versus-a-copy\n",
      "  pri_df['policy_cost'] = pri_df['elev_invst'].cumsum()\n",
      "/tmp/ipykernel_1041572/369906587.py:95: SettingWithCopyWarning: \n",
      "A value is trying to be set on a copy of a slice from a DataFrame.\n",
      "Try using .loc[row_indexer,col_indexer] = value instead\n",
      "\n",
      "See the caveats in the documentation: https://pandas.pydata.org/pandas-docs/stable/user_guide/indexing.html#returning-a-view-versus-a-copy\n",
      "  slack_df['policy_cost'] = slack_df['elev_invst'].cumsum()\n"
     ]
    },
    {
     "name": "stdout",
     "output_type": "stream",
     "text": [
      "Calculate objective values for policy:\n",
      "Sort by lmi\n",
      "With Budget of $M 6000000.0\n"
     ]
    },
    {
     "name": "stderr",
     "output_type": "stream",
     "text": [
      "/tmp/ipykernel_1041572/369906587.py:94: SettingWithCopyWarning: \n",
      "A value is trying to be set on a copy of a slice from a DataFrame.\n",
      "Try using .loc[row_indexer,col_indexer] = value instead\n",
      "\n",
      "See the caveats in the documentation: https://pandas.pydata.org/pandas-docs/stable/user_guide/indexing.html#returning-a-view-versus-a-copy\n",
      "  pri_df['policy_cost'] = pri_df['elev_invst'].cumsum()\n",
      "/tmp/ipykernel_1041572/369906587.py:95: SettingWithCopyWarning: \n",
      "A value is trying to be set on a copy of a slice from a DataFrame.\n",
      "Try using .loc[row_indexer,col_indexer] = value instead\n",
      "\n",
      "See the caveats in the documentation: https://pandas.pydata.org/pandas-docs/stable/user_guide/indexing.html#returning-a-view-versus-a-copy\n",
      "  slack_df['policy_cost'] = slack_df['elev_invst'].cumsum()\n"
     ]
    },
    {
     "name": "stdout",
     "output_type": "stream",
     "text": [
      "Calculate objective values for policy:\n",
      "Sort by ovb\n",
      "With Budget of $M 6000000.0\n"
     ]
    },
    {
     "name": "stderr",
     "output_type": "stream",
     "text": [
      "/tmp/ipykernel_1041572/369906587.py:94: SettingWithCopyWarning: \n",
      "A value is trying to be set on a copy of a slice from a DataFrame.\n",
      "Try using .loc[row_indexer,col_indexer] = value instead\n",
      "\n",
      "See the caveats in the documentation: https://pandas.pydata.org/pandas-docs/stable/user_guide/indexing.html#returning-a-view-versus-a-copy\n",
      "  pri_df['policy_cost'] = pri_df['elev_invst'].cumsum()\n",
      "/tmp/ipykernel_1041572/369906587.py:95: SettingWithCopyWarning: \n",
      "A value is trying to be set on a copy of a slice from a DataFrame.\n",
      "Try using .loc[row_indexer,col_indexer] = value instead\n",
      "\n",
      "See the caveats in the documentation: https://pandas.pydata.org/pandas-docs/stable/user_guide/indexing.html#returning-a-view-versus-a-copy\n",
      "  slack_df['policy_cost'] = slack_df['elev_invst'].cumsum()\n",
      "/tmp/ipykernel_1041572/369906587.py:107: SettingWithCopyWarning: \n",
      "A value is trying to be set on a copy of a slice from a DataFrame.\n",
      "Try using .loc[row_indexer,col_indexer] = value instead\n",
      "\n",
      "See the caveats in the documentation: https://pandas.pydata.org/pandas-docs/stable/user_guide/indexing.html#returning-a-view-versus-a-copy\n",
      "  slack_elev['npv_check'] = slack_elev['npv_opt'].cumsum()\n"
     ]
    },
    {
     "name": "stdout",
     "output_type": "stream",
     "text": [
      "Calculate objective values for policy:\n",
      "Sort by cejst\n",
      "With Budget of $M 6000000.0\n",
      "Calculate objective values for policy:\n",
      "Sort by npv_opt\n",
      "With Budget of $M 7000000.0\n",
      "Calculate objective values for policy:\n",
      "Sort by avoid_rel_eal\n",
      "With Budget of $M 7000000.0\n",
      "Calculate objective values for policy:\n",
      "Sort by rel_eal\n",
      "With Budget of $M 7000000.0\n"
     ]
    },
    {
     "name": "stderr",
     "output_type": "stream",
     "text": [
      "/tmp/ipykernel_1041572/369906587.py:94: SettingWithCopyWarning: \n",
      "A value is trying to be set on a copy of a slice from a DataFrame.\n",
      "Try using .loc[row_indexer,col_indexer] = value instead\n",
      "\n",
      "See the caveats in the documentation: https://pandas.pydata.org/pandas-docs/stable/user_guide/indexing.html#returning-a-view-versus-a-copy\n",
      "  pri_df['policy_cost'] = pri_df['elev_invst'].cumsum()\n",
      "/tmp/ipykernel_1041572/369906587.py:95: SettingWithCopyWarning: \n",
      "A value is trying to be set on a copy of a slice from a DataFrame.\n",
      "Try using .loc[row_indexer,col_indexer] = value instead\n",
      "\n",
      "See the caveats in the documentation: https://pandas.pydata.org/pandas-docs/stable/user_guide/indexing.html#returning-a-view-versus-a-copy\n",
      "  slack_df['policy_cost'] = slack_df['elev_invst'].cumsum()\n"
     ]
    },
    {
     "name": "stdout",
     "output_type": "stream",
     "text": [
      "Calculate objective values for policy:\n",
      "Sort by lmi\n",
      "With Budget of $M 7000000.0\n"
     ]
    },
    {
     "name": "stderr",
     "output_type": "stream",
     "text": [
      "/tmp/ipykernel_1041572/369906587.py:94: SettingWithCopyWarning: \n",
      "A value is trying to be set on a copy of a slice from a DataFrame.\n",
      "Try using .loc[row_indexer,col_indexer] = value instead\n",
      "\n",
      "See the caveats in the documentation: https://pandas.pydata.org/pandas-docs/stable/user_guide/indexing.html#returning-a-view-versus-a-copy\n",
      "  pri_df['policy_cost'] = pri_df['elev_invst'].cumsum()\n",
      "/tmp/ipykernel_1041572/369906587.py:95: SettingWithCopyWarning: \n",
      "A value is trying to be set on a copy of a slice from a DataFrame.\n",
      "Try using .loc[row_indexer,col_indexer] = value instead\n",
      "\n",
      "See the caveats in the documentation: https://pandas.pydata.org/pandas-docs/stable/user_guide/indexing.html#returning-a-view-versus-a-copy\n",
      "  slack_df['policy_cost'] = slack_df['elev_invst'].cumsum()\n"
     ]
    },
    {
     "name": "stdout",
     "output_type": "stream",
     "text": [
      "Calculate objective values for policy:\n",
      "Sort by ovb\n",
      "With Budget of $M 7000000.0\n"
     ]
    },
    {
     "name": "stderr",
     "output_type": "stream",
     "text": [
      "/tmp/ipykernel_1041572/369906587.py:94: SettingWithCopyWarning: \n",
      "A value is trying to be set on a copy of a slice from a DataFrame.\n",
      "Try using .loc[row_indexer,col_indexer] = value instead\n",
      "\n",
      "See the caveats in the documentation: https://pandas.pydata.org/pandas-docs/stable/user_guide/indexing.html#returning-a-view-versus-a-copy\n",
      "  pri_df['policy_cost'] = pri_df['elev_invst'].cumsum()\n",
      "/tmp/ipykernel_1041572/369906587.py:95: SettingWithCopyWarning: \n",
      "A value is trying to be set on a copy of a slice from a DataFrame.\n",
      "Try using .loc[row_indexer,col_indexer] = value instead\n",
      "\n",
      "See the caveats in the documentation: https://pandas.pydata.org/pandas-docs/stable/user_guide/indexing.html#returning-a-view-versus-a-copy\n",
      "  slack_df['policy_cost'] = slack_df['elev_invst'].cumsum()\n",
      "/tmp/ipykernel_1041572/369906587.py:107: SettingWithCopyWarning: \n",
      "A value is trying to be set on a copy of a slice from a DataFrame.\n",
      "Try using .loc[row_indexer,col_indexer] = value instead\n",
      "\n",
      "See the caveats in the documentation: https://pandas.pydata.org/pandas-docs/stable/user_guide/indexing.html#returning-a-view-versus-a-copy\n",
      "  slack_elev['npv_check'] = slack_elev['npv_opt'].cumsum()\n"
     ]
    },
    {
     "name": "stdout",
     "output_type": "stream",
     "text": [
      "Calculate objective values for policy:\n",
      "Sort by cejst\n",
      "With Budget of $M 7000000.0\n",
      "Calculate objective values for policy:\n",
      "Sort by npv_opt\n",
      "With Budget of $M 8000000.0\n",
      "Calculate objective values for policy:\n",
      "Sort by avoid_rel_eal\n",
      "With Budget of $M 8000000.0\n",
      "Calculate objective values for policy:\n",
      "Sort by rel_eal\n",
      "With Budget of $M 8000000.0\n"
     ]
    },
    {
     "name": "stderr",
     "output_type": "stream",
     "text": [
      "/tmp/ipykernel_1041572/369906587.py:94: SettingWithCopyWarning: \n",
      "A value is trying to be set on a copy of a slice from a DataFrame.\n",
      "Try using .loc[row_indexer,col_indexer] = value instead\n",
      "\n",
      "See the caveats in the documentation: https://pandas.pydata.org/pandas-docs/stable/user_guide/indexing.html#returning-a-view-versus-a-copy\n",
      "  pri_df['policy_cost'] = pri_df['elev_invst'].cumsum()\n",
      "/tmp/ipykernel_1041572/369906587.py:95: SettingWithCopyWarning: \n",
      "A value is trying to be set on a copy of a slice from a DataFrame.\n",
      "Try using .loc[row_indexer,col_indexer] = value instead\n",
      "\n",
      "See the caveats in the documentation: https://pandas.pydata.org/pandas-docs/stable/user_guide/indexing.html#returning-a-view-versus-a-copy\n",
      "  slack_df['policy_cost'] = slack_df['elev_invst'].cumsum()\n"
     ]
    },
    {
     "name": "stdout",
     "output_type": "stream",
     "text": [
      "Calculate objective values for policy:\n",
      "Sort by lmi\n",
      "With Budget of $M 8000000.0\n"
     ]
    },
    {
     "name": "stderr",
     "output_type": "stream",
     "text": [
      "/tmp/ipykernel_1041572/369906587.py:94: SettingWithCopyWarning: \n",
      "A value is trying to be set on a copy of a slice from a DataFrame.\n",
      "Try using .loc[row_indexer,col_indexer] = value instead\n",
      "\n",
      "See the caveats in the documentation: https://pandas.pydata.org/pandas-docs/stable/user_guide/indexing.html#returning-a-view-versus-a-copy\n",
      "  pri_df['policy_cost'] = pri_df['elev_invst'].cumsum()\n",
      "/tmp/ipykernel_1041572/369906587.py:95: SettingWithCopyWarning: \n",
      "A value is trying to be set on a copy of a slice from a DataFrame.\n",
      "Try using .loc[row_indexer,col_indexer] = value instead\n",
      "\n",
      "See the caveats in the documentation: https://pandas.pydata.org/pandas-docs/stable/user_guide/indexing.html#returning-a-view-versus-a-copy\n",
      "  slack_df['policy_cost'] = slack_df['elev_invst'].cumsum()\n"
     ]
    },
    {
     "name": "stdout",
     "output_type": "stream",
     "text": [
      "Calculate objective values for policy:\n",
      "Sort by ovb\n",
      "With Budget of $M 8000000.0\n"
     ]
    },
    {
     "name": "stderr",
     "output_type": "stream",
     "text": [
      "/tmp/ipykernel_1041572/369906587.py:94: SettingWithCopyWarning: \n",
      "A value is trying to be set on a copy of a slice from a DataFrame.\n",
      "Try using .loc[row_indexer,col_indexer] = value instead\n",
      "\n",
      "See the caveats in the documentation: https://pandas.pydata.org/pandas-docs/stable/user_guide/indexing.html#returning-a-view-versus-a-copy\n",
      "  pri_df['policy_cost'] = pri_df['elev_invst'].cumsum()\n",
      "/tmp/ipykernel_1041572/369906587.py:95: SettingWithCopyWarning: \n",
      "A value is trying to be set on a copy of a slice from a DataFrame.\n",
      "Try using .loc[row_indexer,col_indexer] = value instead\n",
      "\n",
      "See the caveats in the documentation: https://pandas.pydata.org/pandas-docs/stable/user_guide/indexing.html#returning-a-view-versus-a-copy\n",
      "  slack_df['policy_cost'] = slack_df['elev_invst'].cumsum()\n",
      "/tmp/ipykernel_1041572/369906587.py:107: SettingWithCopyWarning: \n",
      "A value is trying to be set on a copy of a slice from a DataFrame.\n",
      "Try using .loc[row_indexer,col_indexer] = value instead\n",
      "\n",
      "See the caveats in the documentation: https://pandas.pydata.org/pandas-docs/stable/user_guide/indexing.html#returning-a-view-versus-a-copy\n",
      "  slack_elev['npv_check'] = slack_elev['npv_opt'].cumsum()\n"
     ]
    },
    {
     "name": "stdout",
     "output_type": "stream",
     "text": [
      "Calculate objective values for policy:\n",
      "Sort by cejst\n",
      "With Budget of $M 8000000.0\n",
      "Calculate objective values for policy:\n",
      "Sort by npv_opt\n",
      "With Budget of $M 9000000.0\n",
      "Calculate objective values for policy:\n",
      "Sort by avoid_rel_eal\n",
      "With Budget of $M 9000000.0\n",
      "Calculate objective values for policy:\n",
      "Sort by rel_eal\n",
      "With Budget of $M 9000000.0\n"
     ]
    },
    {
     "name": "stderr",
     "output_type": "stream",
     "text": [
      "/tmp/ipykernel_1041572/369906587.py:94: SettingWithCopyWarning: \n",
      "A value is trying to be set on a copy of a slice from a DataFrame.\n",
      "Try using .loc[row_indexer,col_indexer] = value instead\n",
      "\n",
      "See the caveats in the documentation: https://pandas.pydata.org/pandas-docs/stable/user_guide/indexing.html#returning-a-view-versus-a-copy\n",
      "  pri_df['policy_cost'] = pri_df['elev_invst'].cumsum()\n",
      "/tmp/ipykernel_1041572/369906587.py:95: SettingWithCopyWarning: \n",
      "A value is trying to be set on a copy of a slice from a DataFrame.\n",
      "Try using .loc[row_indexer,col_indexer] = value instead\n",
      "\n",
      "See the caveats in the documentation: https://pandas.pydata.org/pandas-docs/stable/user_guide/indexing.html#returning-a-view-versus-a-copy\n",
      "  slack_df['policy_cost'] = slack_df['elev_invst'].cumsum()\n"
     ]
    },
    {
     "name": "stdout",
     "output_type": "stream",
     "text": [
      "Calculate objective values for policy:\n",
      "Sort by lmi\n",
      "With Budget of $M 9000000.0\n"
     ]
    },
    {
     "name": "stderr",
     "output_type": "stream",
     "text": [
      "/tmp/ipykernel_1041572/369906587.py:94: SettingWithCopyWarning: \n",
      "A value is trying to be set on a copy of a slice from a DataFrame.\n",
      "Try using .loc[row_indexer,col_indexer] = value instead\n",
      "\n",
      "See the caveats in the documentation: https://pandas.pydata.org/pandas-docs/stable/user_guide/indexing.html#returning-a-view-versus-a-copy\n",
      "  pri_df['policy_cost'] = pri_df['elev_invst'].cumsum()\n",
      "/tmp/ipykernel_1041572/369906587.py:95: SettingWithCopyWarning: \n",
      "A value is trying to be set on a copy of a slice from a DataFrame.\n",
      "Try using .loc[row_indexer,col_indexer] = value instead\n",
      "\n",
      "See the caveats in the documentation: https://pandas.pydata.org/pandas-docs/stable/user_guide/indexing.html#returning-a-view-versus-a-copy\n",
      "  slack_df['policy_cost'] = slack_df['elev_invst'].cumsum()\n"
     ]
    },
    {
     "name": "stdout",
     "output_type": "stream",
     "text": [
      "Calculate objective values for policy:\n",
      "Sort by ovb\n",
      "With Budget of $M 9000000.0\n"
     ]
    },
    {
     "name": "stderr",
     "output_type": "stream",
     "text": [
      "/tmp/ipykernel_1041572/369906587.py:94: SettingWithCopyWarning: \n",
      "A value is trying to be set on a copy of a slice from a DataFrame.\n",
      "Try using .loc[row_indexer,col_indexer] = value instead\n",
      "\n",
      "See the caveats in the documentation: https://pandas.pydata.org/pandas-docs/stable/user_guide/indexing.html#returning-a-view-versus-a-copy\n",
      "  pri_df['policy_cost'] = pri_df['elev_invst'].cumsum()\n",
      "/tmp/ipykernel_1041572/369906587.py:95: SettingWithCopyWarning: \n",
      "A value is trying to be set on a copy of a slice from a DataFrame.\n",
      "Try using .loc[row_indexer,col_indexer] = value instead\n",
      "\n",
      "See the caveats in the documentation: https://pandas.pydata.org/pandas-docs/stable/user_guide/indexing.html#returning-a-view-versus-a-copy\n",
      "  slack_df['policy_cost'] = slack_df['elev_invst'].cumsum()\n",
      "/tmp/ipykernel_1041572/369906587.py:107: SettingWithCopyWarning: \n",
      "A value is trying to be set on a copy of a slice from a DataFrame.\n",
      "Try using .loc[row_indexer,col_indexer] = value instead\n",
      "\n",
      "See the caveats in the documentation: https://pandas.pydata.org/pandas-docs/stable/user_guide/indexing.html#returning-a-view-versus-a-copy\n",
      "  slack_elev['npv_check'] = slack_elev['npv_opt'].cumsum()\n"
     ]
    },
    {
     "name": "stdout",
     "output_type": "stream",
     "text": [
      "Calculate objective values for policy:\n",
      "Sort by cejst\n",
      "With Budget of $M 9000000.0\n",
      "Calculate objective values for policy:\n",
      "Sort by npv_opt\n",
      "With Budget of $M 10000000.0\n",
      "Calculate objective values for policy:\n",
      "Sort by avoid_rel_eal\n",
      "With Budget of $M 10000000.0\n",
      "Calculate objective values for policy:\n",
      "Sort by rel_eal\n",
      "With Budget of $M 10000000.0\n"
     ]
    },
    {
     "name": "stderr",
     "output_type": "stream",
     "text": [
      "/tmp/ipykernel_1041572/369906587.py:94: SettingWithCopyWarning: \n",
      "A value is trying to be set on a copy of a slice from a DataFrame.\n",
      "Try using .loc[row_indexer,col_indexer] = value instead\n",
      "\n",
      "See the caveats in the documentation: https://pandas.pydata.org/pandas-docs/stable/user_guide/indexing.html#returning-a-view-versus-a-copy\n",
      "  pri_df['policy_cost'] = pri_df['elev_invst'].cumsum()\n",
      "/tmp/ipykernel_1041572/369906587.py:95: SettingWithCopyWarning: \n",
      "A value is trying to be set on a copy of a slice from a DataFrame.\n",
      "Try using .loc[row_indexer,col_indexer] = value instead\n",
      "\n",
      "See the caveats in the documentation: https://pandas.pydata.org/pandas-docs/stable/user_guide/indexing.html#returning-a-view-versus-a-copy\n",
      "  slack_df['policy_cost'] = slack_df['elev_invst'].cumsum()\n"
     ]
    },
    {
     "name": "stdout",
     "output_type": "stream",
     "text": [
      "Calculate objective values for policy:\n",
      "Sort by lmi\n",
      "With Budget of $M 10000000.0\n"
     ]
    },
    {
     "name": "stderr",
     "output_type": "stream",
     "text": [
      "/tmp/ipykernel_1041572/369906587.py:94: SettingWithCopyWarning: \n",
      "A value is trying to be set on a copy of a slice from a DataFrame.\n",
      "Try using .loc[row_indexer,col_indexer] = value instead\n",
      "\n",
      "See the caveats in the documentation: https://pandas.pydata.org/pandas-docs/stable/user_guide/indexing.html#returning-a-view-versus-a-copy\n",
      "  pri_df['policy_cost'] = pri_df['elev_invst'].cumsum()\n",
      "/tmp/ipykernel_1041572/369906587.py:95: SettingWithCopyWarning: \n",
      "A value is trying to be set on a copy of a slice from a DataFrame.\n",
      "Try using .loc[row_indexer,col_indexer] = value instead\n",
      "\n",
      "See the caveats in the documentation: https://pandas.pydata.org/pandas-docs/stable/user_guide/indexing.html#returning-a-view-versus-a-copy\n",
      "  slack_df['policy_cost'] = slack_df['elev_invst'].cumsum()\n"
     ]
    },
    {
     "name": "stdout",
     "output_type": "stream",
     "text": [
      "Calculate objective values for policy:\n",
      "Sort by ovb\n",
      "With Budget of $M 10000000.0\n"
     ]
    },
    {
     "name": "stderr",
     "output_type": "stream",
     "text": [
      "/tmp/ipykernel_1041572/369906587.py:94: SettingWithCopyWarning: \n",
      "A value is trying to be set on a copy of a slice from a DataFrame.\n",
      "Try using .loc[row_indexer,col_indexer] = value instead\n",
      "\n",
      "See the caveats in the documentation: https://pandas.pydata.org/pandas-docs/stable/user_guide/indexing.html#returning-a-view-versus-a-copy\n",
      "  pri_df['policy_cost'] = pri_df['elev_invst'].cumsum()\n",
      "/tmp/ipykernel_1041572/369906587.py:95: SettingWithCopyWarning: \n",
      "A value is trying to be set on a copy of a slice from a DataFrame.\n",
      "Try using .loc[row_indexer,col_indexer] = value instead\n",
      "\n",
      "See the caveats in the documentation: https://pandas.pydata.org/pandas-docs/stable/user_guide/indexing.html#returning-a-view-versus-a-copy\n",
      "  slack_df['policy_cost'] = slack_df['elev_invst'].cumsum()\n",
      "/tmp/ipykernel_1041572/369906587.py:107: SettingWithCopyWarning: \n",
      "A value is trying to be set on a copy of a slice from a DataFrame.\n",
      "Try using .loc[row_indexer,col_indexer] = value instead\n",
      "\n",
      "See the caveats in the documentation: https://pandas.pydata.org/pandas-docs/stable/user_guide/indexing.html#returning-a-view-versus-a-copy\n",
      "  slack_elev['npv_check'] = slack_elev['npv_opt'].cumsum()\n"
     ]
    },
    {
     "name": "stdout",
     "output_type": "stream",
     "text": [
      "Calculate objective values for policy:\n",
      "Sort by cejst\n",
      "With Budget of $M 10000000.0\n",
      "Calculate objective values for policy:\n",
      "Sort by npv_opt\n",
      "With Budget of $M 11000000.0\n",
      "Calculate objective values for policy:\n",
      "Sort by avoid_rel_eal\n",
      "With Budget of $M 11000000.0\n",
      "Calculate objective values for policy:\n",
      "Sort by rel_eal\n",
      "With Budget of $M 11000000.0\n"
     ]
    },
    {
     "name": "stderr",
     "output_type": "stream",
     "text": [
      "/tmp/ipykernel_1041572/369906587.py:94: SettingWithCopyWarning: \n",
      "A value is trying to be set on a copy of a slice from a DataFrame.\n",
      "Try using .loc[row_indexer,col_indexer] = value instead\n",
      "\n",
      "See the caveats in the documentation: https://pandas.pydata.org/pandas-docs/stable/user_guide/indexing.html#returning-a-view-versus-a-copy\n",
      "  pri_df['policy_cost'] = pri_df['elev_invst'].cumsum()\n",
      "/tmp/ipykernel_1041572/369906587.py:95: SettingWithCopyWarning: \n",
      "A value is trying to be set on a copy of a slice from a DataFrame.\n",
      "Try using .loc[row_indexer,col_indexer] = value instead\n",
      "\n",
      "See the caveats in the documentation: https://pandas.pydata.org/pandas-docs/stable/user_guide/indexing.html#returning-a-view-versus-a-copy\n",
      "  slack_df['policy_cost'] = slack_df['elev_invst'].cumsum()\n"
     ]
    },
    {
     "name": "stdout",
     "output_type": "stream",
     "text": [
      "Calculate objective values for policy:\n",
      "Sort by lmi\n",
      "With Budget of $M 11000000.0\n"
     ]
    },
    {
     "name": "stderr",
     "output_type": "stream",
     "text": [
      "/tmp/ipykernel_1041572/369906587.py:94: SettingWithCopyWarning: \n",
      "A value is trying to be set on a copy of a slice from a DataFrame.\n",
      "Try using .loc[row_indexer,col_indexer] = value instead\n",
      "\n",
      "See the caveats in the documentation: https://pandas.pydata.org/pandas-docs/stable/user_guide/indexing.html#returning-a-view-versus-a-copy\n",
      "  pri_df['policy_cost'] = pri_df['elev_invst'].cumsum()\n",
      "/tmp/ipykernel_1041572/369906587.py:95: SettingWithCopyWarning: \n",
      "A value is trying to be set on a copy of a slice from a DataFrame.\n",
      "Try using .loc[row_indexer,col_indexer] = value instead\n",
      "\n",
      "See the caveats in the documentation: https://pandas.pydata.org/pandas-docs/stable/user_guide/indexing.html#returning-a-view-versus-a-copy\n",
      "  slack_df['policy_cost'] = slack_df['elev_invst'].cumsum()\n"
     ]
    },
    {
     "name": "stdout",
     "output_type": "stream",
     "text": [
      "Calculate objective values for policy:\n",
      "Sort by ovb\n",
      "With Budget of $M 11000000.0\n"
     ]
    },
    {
     "name": "stderr",
     "output_type": "stream",
     "text": [
      "/tmp/ipykernel_1041572/369906587.py:94: SettingWithCopyWarning: \n",
      "A value is trying to be set on a copy of a slice from a DataFrame.\n",
      "Try using .loc[row_indexer,col_indexer] = value instead\n",
      "\n",
      "See the caveats in the documentation: https://pandas.pydata.org/pandas-docs/stable/user_guide/indexing.html#returning-a-view-versus-a-copy\n",
      "  pri_df['policy_cost'] = pri_df['elev_invst'].cumsum()\n",
      "/tmp/ipykernel_1041572/369906587.py:95: SettingWithCopyWarning: \n",
      "A value is trying to be set on a copy of a slice from a DataFrame.\n",
      "Try using .loc[row_indexer,col_indexer] = value instead\n",
      "\n",
      "See the caveats in the documentation: https://pandas.pydata.org/pandas-docs/stable/user_guide/indexing.html#returning-a-view-versus-a-copy\n",
      "  slack_df['policy_cost'] = slack_df['elev_invst'].cumsum()\n",
      "/tmp/ipykernel_1041572/369906587.py:107: SettingWithCopyWarning: \n",
      "A value is trying to be set on a copy of a slice from a DataFrame.\n",
      "Try using .loc[row_indexer,col_indexer] = value instead\n",
      "\n",
      "See the caveats in the documentation: https://pandas.pydata.org/pandas-docs/stable/user_guide/indexing.html#returning-a-view-versus-a-copy\n",
      "  slack_elev['npv_check'] = slack_elev['npv_opt'].cumsum()\n"
     ]
    },
    {
     "name": "stdout",
     "output_type": "stream",
     "text": [
      "Calculate objective values for policy:\n",
      "Sort by cejst\n",
      "With Budget of $M 11000000.0\n",
      "Calculate objective values for policy:\n",
      "Sort by npv_opt\n",
      "With Budget of $M 12000000.0\n",
      "Calculate objective values for policy:\n",
      "Sort by avoid_rel_eal\n",
      "With Budget of $M 12000000.0\n",
      "Calculate objective values for policy:\n",
      "Sort by rel_eal\n",
      "With Budget of $M 12000000.0\n"
     ]
    },
    {
     "name": "stderr",
     "output_type": "stream",
     "text": [
      "/tmp/ipykernel_1041572/369906587.py:94: SettingWithCopyWarning: \n",
      "A value is trying to be set on a copy of a slice from a DataFrame.\n",
      "Try using .loc[row_indexer,col_indexer] = value instead\n",
      "\n",
      "See the caveats in the documentation: https://pandas.pydata.org/pandas-docs/stable/user_guide/indexing.html#returning-a-view-versus-a-copy\n",
      "  pri_df['policy_cost'] = pri_df['elev_invst'].cumsum()\n",
      "/tmp/ipykernel_1041572/369906587.py:95: SettingWithCopyWarning: \n",
      "A value is trying to be set on a copy of a slice from a DataFrame.\n",
      "Try using .loc[row_indexer,col_indexer] = value instead\n",
      "\n",
      "See the caveats in the documentation: https://pandas.pydata.org/pandas-docs/stable/user_guide/indexing.html#returning-a-view-versus-a-copy\n",
      "  slack_df['policy_cost'] = slack_df['elev_invst'].cumsum()\n"
     ]
    },
    {
     "name": "stdout",
     "output_type": "stream",
     "text": [
      "Calculate objective values for policy:\n",
      "Sort by lmi\n",
      "With Budget of $M 12000000.0\n"
     ]
    },
    {
     "name": "stderr",
     "output_type": "stream",
     "text": [
      "/tmp/ipykernel_1041572/369906587.py:94: SettingWithCopyWarning: \n",
      "A value is trying to be set on a copy of a slice from a DataFrame.\n",
      "Try using .loc[row_indexer,col_indexer] = value instead\n",
      "\n",
      "See the caveats in the documentation: https://pandas.pydata.org/pandas-docs/stable/user_guide/indexing.html#returning-a-view-versus-a-copy\n",
      "  pri_df['policy_cost'] = pri_df['elev_invst'].cumsum()\n",
      "/tmp/ipykernel_1041572/369906587.py:95: SettingWithCopyWarning: \n",
      "A value is trying to be set on a copy of a slice from a DataFrame.\n",
      "Try using .loc[row_indexer,col_indexer] = value instead\n",
      "\n",
      "See the caveats in the documentation: https://pandas.pydata.org/pandas-docs/stable/user_guide/indexing.html#returning-a-view-versus-a-copy\n",
      "  slack_df['policy_cost'] = slack_df['elev_invst'].cumsum()\n"
     ]
    },
    {
     "name": "stdout",
     "output_type": "stream",
     "text": [
      "Calculate objective values for policy:\n",
      "Sort by ovb\n",
      "With Budget of $M 12000000.0\n"
     ]
    },
    {
     "name": "stderr",
     "output_type": "stream",
     "text": [
      "/tmp/ipykernel_1041572/369906587.py:94: SettingWithCopyWarning: \n",
      "A value is trying to be set on a copy of a slice from a DataFrame.\n",
      "Try using .loc[row_indexer,col_indexer] = value instead\n",
      "\n",
      "See the caveats in the documentation: https://pandas.pydata.org/pandas-docs/stable/user_guide/indexing.html#returning-a-view-versus-a-copy\n",
      "  pri_df['policy_cost'] = pri_df['elev_invst'].cumsum()\n",
      "/tmp/ipykernel_1041572/369906587.py:95: SettingWithCopyWarning: \n",
      "A value is trying to be set on a copy of a slice from a DataFrame.\n",
      "Try using .loc[row_indexer,col_indexer] = value instead\n",
      "\n",
      "See the caveats in the documentation: https://pandas.pydata.org/pandas-docs/stable/user_guide/indexing.html#returning-a-view-versus-a-copy\n",
      "  slack_df['policy_cost'] = slack_df['elev_invst'].cumsum()\n",
      "/tmp/ipykernel_1041572/369906587.py:107: SettingWithCopyWarning: \n",
      "A value is trying to be set on a copy of a slice from a DataFrame.\n",
      "Try using .loc[row_indexer,col_indexer] = value instead\n",
      "\n",
      "See the caveats in the documentation: https://pandas.pydata.org/pandas-docs/stable/user_guide/indexing.html#returning-a-view-versus-a-copy\n",
      "  slack_elev['npv_check'] = slack_elev['npv_opt'].cumsum()\n"
     ]
    },
    {
     "name": "stdout",
     "output_type": "stream",
     "text": [
      "Calculate objective values for policy:\n",
      "Sort by cejst\n",
      "With Budget of $M 12000000.0\n",
      "Calculate objective values for policy:\n",
      "Sort by npv_opt\n",
      "With Budget of $M 13000000.0\n",
      "Calculate objective values for policy:\n",
      "Sort by avoid_rel_eal\n",
      "With Budget of $M 13000000.0\n",
      "Calculate objective values for policy:\n",
      "Sort by rel_eal\n",
      "With Budget of $M 13000000.0\n"
     ]
    },
    {
     "name": "stderr",
     "output_type": "stream",
     "text": [
      "/tmp/ipykernel_1041572/369906587.py:94: SettingWithCopyWarning: \n",
      "A value is trying to be set on a copy of a slice from a DataFrame.\n",
      "Try using .loc[row_indexer,col_indexer] = value instead\n",
      "\n",
      "See the caveats in the documentation: https://pandas.pydata.org/pandas-docs/stable/user_guide/indexing.html#returning-a-view-versus-a-copy\n",
      "  pri_df['policy_cost'] = pri_df['elev_invst'].cumsum()\n",
      "/tmp/ipykernel_1041572/369906587.py:95: SettingWithCopyWarning: \n",
      "A value is trying to be set on a copy of a slice from a DataFrame.\n",
      "Try using .loc[row_indexer,col_indexer] = value instead\n",
      "\n",
      "See the caveats in the documentation: https://pandas.pydata.org/pandas-docs/stable/user_guide/indexing.html#returning-a-view-versus-a-copy\n",
      "  slack_df['policy_cost'] = slack_df['elev_invst'].cumsum()\n"
     ]
    },
    {
     "name": "stdout",
     "output_type": "stream",
     "text": [
      "Calculate objective values for policy:\n",
      "Sort by lmi\n",
      "With Budget of $M 13000000.0\n"
     ]
    },
    {
     "name": "stderr",
     "output_type": "stream",
     "text": [
      "/tmp/ipykernel_1041572/369906587.py:94: SettingWithCopyWarning: \n",
      "A value is trying to be set on a copy of a slice from a DataFrame.\n",
      "Try using .loc[row_indexer,col_indexer] = value instead\n",
      "\n",
      "See the caveats in the documentation: https://pandas.pydata.org/pandas-docs/stable/user_guide/indexing.html#returning-a-view-versus-a-copy\n",
      "  pri_df['policy_cost'] = pri_df['elev_invst'].cumsum()\n",
      "/tmp/ipykernel_1041572/369906587.py:95: SettingWithCopyWarning: \n",
      "A value is trying to be set on a copy of a slice from a DataFrame.\n",
      "Try using .loc[row_indexer,col_indexer] = value instead\n",
      "\n",
      "See the caveats in the documentation: https://pandas.pydata.org/pandas-docs/stable/user_guide/indexing.html#returning-a-view-versus-a-copy\n",
      "  slack_df['policy_cost'] = slack_df['elev_invst'].cumsum()\n"
     ]
    },
    {
     "name": "stdout",
     "output_type": "stream",
     "text": [
      "Calculate objective values for policy:\n",
      "Sort by ovb\n",
      "With Budget of $M 13000000.0\n"
     ]
    },
    {
     "name": "stderr",
     "output_type": "stream",
     "text": [
      "/tmp/ipykernel_1041572/369906587.py:94: SettingWithCopyWarning: \n",
      "A value is trying to be set on a copy of a slice from a DataFrame.\n",
      "Try using .loc[row_indexer,col_indexer] = value instead\n",
      "\n",
      "See the caveats in the documentation: https://pandas.pydata.org/pandas-docs/stable/user_guide/indexing.html#returning-a-view-versus-a-copy\n",
      "  pri_df['policy_cost'] = pri_df['elev_invst'].cumsum()\n",
      "/tmp/ipykernel_1041572/369906587.py:95: SettingWithCopyWarning: \n",
      "A value is trying to be set on a copy of a slice from a DataFrame.\n",
      "Try using .loc[row_indexer,col_indexer] = value instead\n",
      "\n",
      "See the caveats in the documentation: https://pandas.pydata.org/pandas-docs/stable/user_guide/indexing.html#returning-a-view-versus-a-copy\n",
      "  slack_df['policy_cost'] = slack_df['elev_invst'].cumsum()\n",
      "/tmp/ipykernel_1041572/369906587.py:107: SettingWithCopyWarning: \n",
      "A value is trying to be set on a copy of a slice from a DataFrame.\n",
      "Try using .loc[row_indexer,col_indexer] = value instead\n",
      "\n",
      "See the caveats in the documentation: https://pandas.pydata.org/pandas-docs/stable/user_guide/indexing.html#returning-a-view-versus-a-copy\n",
      "  slack_elev['npv_check'] = slack_elev['npv_opt'].cumsum()\n"
     ]
    },
    {
     "name": "stdout",
     "output_type": "stream",
     "text": [
      "Calculate objective values for policy:\n",
      "Sort by cejst\n",
      "With Budget of $M 13000000.0\n",
      "Calculate objective values for policy:\n",
      "Sort by npv_opt\n",
      "With Budget of $M 14000000.0\n",
      "Calculate objective values for policy:\n",
      "Sort by avoid_rel_eal\n",
      "With Budget of $M 14000000.0\n",
      "Calculate objective values for policy:\n",
      "Sort by rel_eal\n",
      "With Budget of $M 14000000.0\n"
     ]
    },
    {
     "name": "stderr",
     "output_type": "stream",
     "text": [
      "/tmp/ipykernel_1041572/369906587.py:94: SettingWithCopyWarning: \n",
      "A value is trying to be set on a copy of a slice from a DataFrame.\n",
      "Try using .loc[row_indexer,col_indexer] = value instead\n",
      "\n",
      "See the caveats in the documentation: https://pandas.pydata.org/pandas-docs/stable/user_guide/indexing.html#returning-a-view-versus-a-copy\n",
      "  pri_df['policy_cost'] = pri_df['elev_invst'].cumsum()\n",
      "/tmp/ipykernel_1041572/369906587.py:95: SettingWithCopyWarning: \n",
      "A value is trying to be set on a copy of a slice from a DataFrame.\n",
      "Try using .loc[row_indexer,col_indexer] = value instead\n",
      "\n",
      "See the caveats in the documentation: https://pandas.pydata.org/pandas-docs/stable/user_guide/indexing.html#returning-a-view-versus-a-copy\n",
      "  slack_df['policy_cost'] = slack_df['elev_invst'].cumsum()\n"
     ]
    },
    {
     "name": "stdout",
     "output_type": "stream",
     "text": [
      "Calculate objective values for policy:\n",
      "Sort by lmi\n",
      "With Budget of $M 14000000.0\n"
     ]
    },
    {
     "name": "stderr",
     "output_type": "stream",
     "text": [
      "/tmp/ipykernel_1041572/369906587.py:94: SettingWithCopyWarning: \n",
      "A value is trying to be set on a copy of a slice from a DataFrame.\n",
      "Try using .loc[row_indexer,col_indexer] = value instead\n",
      "\n",
      "See the caveats in the documentation: https://pandas.pydata.org/pandas-docs/stable/user_guide/indexing.html#returning-a-view-versus-a-copy\n",
      "  pri_df['policy_cost'] = pri_df['elev_invst'].cumsum()\n",
      "/tmp/ipykernel_1041572/369906587.py:95: SettingWithCopyWarning: \n",
      "A value is trying to be set on a copy of a slice from a DataFrame.\n",
      "Try using .loc[row_indexer,col_indexer] = value instead\n",
      "\n",
      "See the caveats in the documentation: https://pandas.pydata.org/pandas-docs/stable/user_guide/indexing.html#returning-a-view-versus-a-copy\n",
      "  slack_df['policy_cost'] = slack_df['elev_invst'].cumsum()\n"
     ]
    },
    {
     "name": "stdout",
     "output_type": "stream",
     "text": [
      "Calculate objective values for policy:\n",
      "Sort by ovb\n",
      "With Budget of $M 14000000.0\n"
     ]
    },
    {
     "name": "stderr",
     "output_type": "stream",
     "text": [
      "/tmp/ipykernel_1041572/369906587.py:94: SettingWithCopyWarning: \n",
      "A value is trying to be set on a copy of a slice from a DataFrame.\n",
      "Try using .loc[row_indexer,col_indexer] = value instead\n",
      "\n",
      "See the caveats in the documentation: https://pandas.pydata.org/pandas-docs/stable/user_guide/indexing.html#returning-a-view-versus-a-copy\n",
      "  pri_df['policy_cost'] = pri_df['elev_invst'].cumsum()\n",
      "/tmp/ipykernel_1041572/369906587.py:95: SettingWithCopyWarning: \n",
      "A value is trying to be set on a copy of a slice from a DataFrame.\n",
      "Try using .loc[row_indexer,col_indexer] = value instead\n",
      "\n",
      "See the caveats in the documentation: https://pandas.pydata.org/pandas-docs/stable/user_guide/indexing.html#returning-a-view-versus-a-copy\n",
      "  slack_df['policy_cost'] = slack_df['elev_invst'].cumsum()\n",
      "/tmp/ipykernel_1041572/369906587.py:107: SettingWithCopyWarning: \n",
      "A value is trying to be set on a copy of a slice from a DataFrame.\n",
      "Try using .loc[row_indexer,col_indexer] = value instead\n",
      "\n",
      "See the caveats in the documentation: https://pandas.pydata.org/pandas-docs/stable/user_guide/indexing.html#returning-a-view-versus-a-copy\n",
      "  slack_elev['npv_check'] = slack_elev['npv_opt'].cumsum()\n"
     ]
    },
    {
     "name": "stdout",
     "output_type": "stream",
     "text": [
      "Calculate objective values for policy:\n",
      "Sort by cejst\n",
      "With Budget of $M 14000000.0\n",
      "Calculate objective values for policy:\n",
      "Sort by npv_opt\n",
      "With Budget of $M 15000000.0\n",
      "Calculate objective values for policy:\n",
      "Sort by avoid_rel_eal\n",
      "With Budget of $M 15000000.0\n",
      "Calculate objective values for policy:\n",
      "Sort by rel_eal\n",
      "With Budget of $M 15000000.0\n"
     ]
    },
    {
     "name": "stderr",
     "output_type": "stream",
     "text": [
      "/tmp/ipykernel_1041572/369906587.py:94: SettingWithCopyWarning: \n",
      "A value is trying to be set on a copy of a slice from a DataFrame.\n",
      "Try using .loc[row_indexer,col_indexer] = value instead\n",
      "\n",
      "See the caveats in the documentation: https://pandas.pydata.org/pandas-docs/stable/user_guide/indexing.html#returning-a-view-versus-a-copy\n",
      "  pri_df['policy_cost'] = pri_df['elev_invst'].cumsum()\n",
      "/tmp/ipykernel_1041572/369906587.py:95: SettingWithCopyWarning: \n",
      "A value is trying to be set on a copy of a slice from a DataFrame.\n",
      "Try using .loc[row_indexer,col_indexer] = value instead\n",
      "\n",
      "See the caveats in the documentation: https://pandas.pydata.org/pandas-docs/stable/user_guide/indexing.html#returning-a-view-versus-a-copy\n",
      "  slack_df['policy_cost'] = slack_df['elev_invst'].cumsum()\n",
      "/tmp/ipykernel_1041572/369906587.py:107: SettingWithCopyWarning: \n",
      "A value is trying to be set on a copy of a slice from a DataFrame.\n",
      "Try using .loc[row_indexer,col_indexer] = value instead\n",
      "\n",
      "See the caveats in the documentation: https://pandas.pydata.org/pandas-docs/stable/user_guide/indexing.html#returning-a-view-versus-a-copy\n",
      "  slack_elev['npv_check'] = slack_elev['npv_opt'].cumsum()\n"
     ]
    },
    {
     "name": "stdout",
     "output_type": "stream",
     "text": [
      "Calculate objective values for policy:\n",
      "Sort by lmi\n",
      "With Budget of $M 15000000.0\n"
     ]
    },
    {
     "name": "stderr",
     "output_type": "stream",
     "text": [
      "/tmp/ipykernel_1041572/369906587.py:94: SettingWithCopyWarning: \n",
      "A value is trying to be set on a copy of a slice from a DataFrame.\n",
      "Try using .loc[row_indexer,col_indexer] = value instead\n",
      "\n",
      "See the caveats in the documentation: https://pandas.pydata.org/pandas-docs/stable/user_guide/indexing.html#returning-a-view-versus-a-copy\n",
      "  pri_df['policy_cost'] = pri_df['elev_invst'].cumsum()\n",
      "/tmp/ipykernel_1041572/369906587.py:95: SettingWithCopyWarning: \n",
      "A value is trying to be set on a copy of a slice from a DataFrame.\n",
      "Try using .loc[row_indexer,col_indexer] = value instead\n",
      "\n",
      "See the caveats in the documentation: https://pandas.pydata.org/pandas-docs/stable/user_guide/indexing.html#returning-a-view-versus-a-copy\n",
      "  slack_df['policy_cost'] = slack_df['elev_invst'].cumsum()\n"
     ]
    },
    {
     "name": "stdout",
     "output_type": "stream",
     "text": [
      "Calculate objective values for policy:\n",
      "Sort by ovb\n",
      "With Budget of $M 15000000.0\n"
     ]
    },
    {
     "name": "stderr",
     "output_type": "stream",
     "text": [
      "/tmp/ipykernel_1041572/369906587.py:94: SettingWithCopyWarning: \n",
      "A value is trying to be set on a copy of a slice from a DataFrame.\n",
      "Try using .loc[row_indexer,col_indexer] = value instead\n",
      "\n",
      "See the caveats in the documentation: https://pandas.pydata.org/pandas-docs/stable/user_guide/indexing.html#returning-a-view-versus-a-copy\n",
      "  pri_df['policy_cost'] = pri_df['elev_invst'].cumsum()\n",
      "/tmp/ipykernel_1041572/369906587.py:95: SettingWithCopyWarning: \n",
      "A value is trying to be set on a copy of a slice from a DataFrame.\n",
      "Try using .loc[row_indexer,col_indexer] = value instead\n",
      "\n",
      "See the caveats in the documentation: https://pandas.pydata.org/pandas-docs/stable/user_guide/indexing.html#returning-a-view-versus-a-copy\n",
      "  slack_df['policy_cost'] = slack_df['elev_invst'].cumsum()\n",
      "/tmp/ipykernel_1041572/369906587.py:107: SettingWithCopyWarning: \n",
      "A value is trying to be set on a copy of a slice from a DataFrame.\n",
      "Try using .loc[row_indexer,col_indexer] = value instead\n",
      "\n",
      "See the caveats in the documentation: https://pandas.pydata.org/pandas-docs/stable/user_guide/indexing.html#returning-a-view-versus-a-copy\n",
      "  slack_elev['npv_check'] = slack_elev['npv_opt'].cumsum()\n"
     ]
    },
    {
     "name": "stdout",
     "output_type": "stream",
     "text": [
      "Calculate objective values for policy:\n",
      "Sort by cejst\n",
      "With Budget of $M 15000000.0\n",
      "Scenario: Mid_hazus\n",
      "Calculate objective values for policy:\n",
      "Sort by npv_opt\n",
      "With Budget of $M 1000000.0\n",
      "Calculate objective values for policy:\n",
      "Sort by avoid_rel_eal\n",
      "With Budget of $M 1000000.0\n",
      "Calculate objective values for policy:\n",
      "Sort by rel_eal\n",
      "With Budget of $M 1000000.0\n"
     ]
    },
    {
     "name": "stderr",
     "output_type": "stream",
     "text": [
      "/tmp/ipykernel_1041572/369906587.py:94: SettingWithCopyWarning: \n",
      "A value is trying to be set on a copy of a slice from a DataFrame.\n",
      "Try using .loc[row_indexer,col_indexer] = value instead\n",
      "\n",
      "See the caveats in the documentation: https://pandas.pydata.org/pandas-docs/stable/user_guide/indexing.html#returning-a-view-versus-a-copy\n",
      "  pri_df['policy_cost'] = pri_df['elev_invst'].cumsum()\n",
      "/tmp/ipykernel_1041572/369906587.py:95: SettingWithCopyWarning: \n",
      "A value is trying to be set on a copy of a slice from a DataFrame.\n",
      "Try using .loc[row_indexer,col_indexer] = value instead\n",
      "\n",
      "See the caveats in the documentation: https://pandas.pydata.org/pandas-docs/stable/user_guide/indexing.html#returning-a-view-versus-a-copy\n",
      "  slack_df['policy_cost'] = slack_df['elev_invst'].cumsum()\n"
     ]
    },
    {
     "name": "stdout",
     "output_type": "stream",
     "text": [
      "Calculate objective values for policy:\n",
      "Sort by lmi\n",
      "With Budget of $M 1000000.0\n"
     ]
    },
    {
     "name": "stderr",
     "output_type": "stream",
     "text": [
      "/tmp/ipykernel_1041572/369906587.py:94: SettingWithCopyWarning: \n",
      "A value is trying to be set on a copy of a slice from a DataFrame.\n",
      "Try using .loc[row_indexer,col_indexer] = value instead\n",
      "\n",
      "See the caveats in the documentation: https://pandas.pydata.org/pandas-docs/stable/user_guide/indexing.html#returning-a-view-versus-a-copy\n",
      "  pri_df['policy_cost'] = pri_df['elev_invst'].cumsum()\n",
      "/tmp/ipykernel_1041572/369906587.py:95: SettingWithCopyWarning: \n",
      "A value is trying to be set on a copy of a slice from a DataFrame.\n",
      "Try using .loc[row_indexer,col_indexer] = value instead\n",
      "\n",
      "See the caveats in the documentation: https://pandas.pydata.org/pandas-docs/stable/user_guide/indexing.html#returning-a-view-versus-a-copy\n",
      "  slack_df['policy_cost'] = slack_df['elev_invst'].cumsum()\n"
     ]
    },
    {
     "name": "stdout",
     "output_type": "stream",
     "text": [
      "Calculate objective values for policy:\n",
      "Sort by ovb\n",
      "With Budget of $M 1000000.0\n"
     ]
    },
    {
     "name": "stderr",
     "output_type": "stream",
     "text": [
      "/tmp/ipykernel_1041572/369906587.py:94: SettingWithCopyWarning: \n",
      "A value is trying to be set on a copy of a slice from a DataFrame.\n",
      "Try using .loc[row_indexer,col_indexer] = value instead\n",
      "\n",
      "See the caveats in the documentation: https://pandas.pydata.org/pandas-docs/stable/user_guide/indexing.html#returning-a-view-versus-a-copy\n",
      "  pri_df['policy_cost'] = pri_df['elev_invst'].cumsum()\n",
      "/tmp/ipykernel_1041572/369906587.py:95: SettingWithCopyWarning: \n",
      "A value is trying to be set on a copy of a slice from a DataFrame.\n",
      "Try using .loc[row_indexer,col_indexer] = value instead\n",
      "\n",
      "See the caveats in the documentation: https://pandas.pydata.org/pandas-docs/stable/user_guide/indexing.html#returning-a-view-versus-a-copy\n",
      "  slack_df['policy_cost'] = slack_df['elev_invst'].cumsum()\n",
      "/tmp/ipykernel_1041572/369906587.py:107: SettingWithCopyWarning: \n",
      "A value is trying to be set on a copy of a slice from a DataFrame.\n",
      "Try using .loc[row_indexer,col_indexer] = value instead\n",
      "\n",
      "See the caveats in the documentation: https://pandas.pydata.org/pandas-docs/stable/user_guide/indexing.html#returning-a-view-versus-a-copy\n",
      "  slack_elev['npv_check'] = slack_elev['npv_opt'].cumsum()\n"
     ]
    },
    {
     "name": "stdout",
     "output_type": "stream",
     "text": [
      "Calculate objective values for policy:\n",
      "Sort by cejst\n",
      "With Budget of $M 1000000.0\n",
      "Calculate objective values for policy:\n",
      "Sort by npv_opt\n",
      "With Budget of $M 1500000.0\n",
      "Calculate objective values for policy:\n",
      "Sort by avoid_rel_eal\n",
      "With Budget of $M 1500000.0\n",
      "Calculate objective values for policy:\n",
      "Sort by rel_eal\n",
      "With Budget of $M 1500000.0\n"
     ]
    },
    {
     "name": "stderr",
     "output_type": "stream",
     "text": [
      "/tmp/ipykernel_1041572/369906587.py:94: SettingWithCopyWarning: \n",
      "A value is trying to be set on a copy of a slice from a DataFrame.\n",
      "Try using .loc[row_indexer,col_indexer] = value instead\n",
      "\n",
      "See the caveats in the documentation: https://pandas.pydata.org/pandas-docs/stable/user_guide/indexing.html#returning-a-view-versus-a-copy\n",
      "  pri_df['policy_cost'] = pri_df['elev_invst'].cumsum()\n",
      "/tmp/ipykernel_1041572/369906587.py:95: SettingWithCopyWarning: \n",
      "A value is trying to be set on a copy of a slice from a DataFrame.\n",
      "Try using .loc[row_indexer,col_indexer] = value instead\n",
      "\n",
      "See the caveats in the documentation: https://pandas.pydata.org/pandas-docs/stable/user_guide/indexing.html#returning-a-view-versus-a-copy\n",
      "  slack_df['policy_cost'] = slack_df['elev_invst'].cumsum()\n"
     ]
    },
    {
     "name": "stdout",
     "output_type": "stream",
     "text": [
      "Calculate objective values for policy:\n",
      "Sort by lmi\n",
      "With Budget of $M 1500000.0\n"
     ]
    },
    {
     "name": "stderr",
     "output_type": "stream",
     "text": [
      "/tmp/ipykernel_1041572/369906587.py:94: SettingWithCopyWarning: \n",
      "A value is trying to be set on a copy of a slice from a DataFrame.\n",
      "Try using .loc[row_indexer,col_indexer] = value instead\n",
      "\n",
      "See the caveats in the documentation: https://pandas.pydata.org/pandas-docs/stable/user_guide/indexing.html#returning-a-view-versus-a-copy\n",
      "  pri_df['policy_cost'] = pri_df['elev_invst'].cumsum()\n",
      "/tmp/ipykernel_1041572/369906587.py:95: SettingWithCopyWarning: \n",
      "A value is trying to be set on a copy of a slice from a DataFrame.\n",
      "Try using .loc[row_indexer,col_indexer] = value instead\n",
      "\n",
      "See the caveats in the documentation: https://pandas.pydata.org/pandas-docs/stable/user_guide/indexing.html#returning-a-view-versus-a-copy\n",
      "  slack_df['policy_cost'] = slack_df['elev_invst'].cumsum()\n"
     ]
    },
    {
     "name": "stdout",
     "output_type": "stream",
     "text": [
      "Calculate objective values for policy:\n",
      "Sort by ovb\n",
      "With Budget of $M 1500000.0\n"
     ]
    },
    {
     "name": "stderr",
     "output_type": "stream",
     "text": [
      "/tmp/ipykernel_1041572/369906587.py:94: SettingWithCopyWarning: \n",
      "A value is trying to be set on a copy of a slice from a DataFrame.\n",
      "Try using .loc[row_indexer,col_indexer] = value instead\n",
      "\n",
      "See the caveats in the documentation: https://pandas.pydata.org/pandas-docs/stable/user_guide/indexing.html#returning-a-view-versus-a-copy\n",
      "  pri_df['policy_cost'] = pri_df['elev_invst'].cumsum()\n",
      "/tmp/ipykernel_1041572/369906587.py:95: SettingWithCopyWarning: \n",
      "A value is trying to be set on a copy of a slice from a DataFrame.\n",
      "Try using .loc[row_indexer,col_indexer] = value instead\n",
      "\n",
      "See the caveats in the documentation: https://pandas.pydata.org/pandas-docs/stable/user_guide/indexing.html#returning-a-view-versus-a-copy\n",
      "  slack_df['policy_cost'] = slack_df['elev_invst'].cumsum()\n",
      "/tmp/ipykernel_1041572/369906587.py:107: SettingWithCopyWarning: \n",
      "A value is trying to be set on a copy of a slice from a DataFrame.\n",
      "Try using .loc[row_indexer,col_indexer] = value instead\n",
      "\n",
      "See the caveats in the documentation: https://pandas.pydata.org/pandas-docs/stable/user_guide/indexing.html#returning-a-view-versus-a-copy\n",
      "  slack_elev['npv_check'] = slack_elev['npv_opt'].cumsum()\n"
     ]
    },
    {
     "name": "stdout",
     "output_type": "stream",
     "text": [
      "Calculate objective values for policy:\n",
      "Sort by cejst\n",
      "With Budget of $M 1500000.0\n",
      "Calculate objective values for policy:\n",
      "Sort by npv_opt\n",
      "With Budget of $M 2000000.0\n",
      "Calculate objective values for policy:\n",
      "Sort by avoid_rel_eal\n",
      "With Budget of $M 2000000.0\n",
      "Calculate objective values for policy:\n",
      "Sort by rel_eal\n",
      "With Budget of $M 2000000.0\n"
     ]
    },
    {
     "name": "stderr",
     "output_type": "stream",
     "text": [
      "/tmp/ipykernel_1041572/369906587.py:94: SettingWithCopyWarning: \n",
      "A value is trying to be set on a copy of a slice from a DataFrame.\n",
      "Try using .loc[row_indexer,col_indexer] = value instead\n",
      "\n",
      "See the caveats in the documentation: https://pandas.pydata.org/pandas-docs/stable/user_guide/indexing.html#returning-a-view-versus-a-copy\n",
      "  pri_df['policy_cost'] = pri_df['elev_invst'].cumsum()\n",
      "/tmp/ipykernel_1041572/369906587.py:95: SettingWithCopyWarning: \n",
      "A value is trying to be set on a copy of a slice from a DataFrame.\n",
      "Try using .loc[row_indexer,col_indexer] = value instead\n",
      "\n",
      "See the caveats in the documentation: https://pandas.pydata.org/pandas-docs/stable/user_guide/indexing.html#returning-a-view-versus-a-copy\n",
      "  slack_df['policy_cost'] = slack_df['elev_invst'].cumsum()\n"
     ]
    },
    {
     "name": "stdout",
     "output_type": "stream",
     "text": [
      "Calculate objective values for policy:\n",
      "Sort by lmi\n",
      "With Budget of $M 2000000.0\n"
     ]
    },
    {
     "name": "stderr",
     "output_type": "stream",
     "text": [
      "/tmp/ipykernel_1041572/369906587.py:94: SettingWithCopyWarning: \n",
      "A value is trying to be set on a copy of a slice from a DataFrame.\n",
      "Try using .loc[row_indexer,col_indexer] = value instead\n",
      "\n",
      "See the caveats in the documentation: https://pandas.pydata.org/pandas-docs/stable/user_guide/indexing.html#returning-a-view-versus-a-copy\n",
      "  pri_df['policy_cost'] = pri_df['elev_invst'].cumsum()\n",
      "/tmp/ipykernel_1041572/369906587.py:95: SettingWithCopyWarning: \n",
      "A value is trying to be set on a copy of a slice from a DataFrame.\n",
      "Try using .loc[row_indexer,col_indexer] = value instead\n",
      "\n",
      "See the caveats in the documentation: https://pandas.pydata.org/pandas-docs/stable/user_guide/indexing.html#returning-a-view-versus-a-copy\n",
      "  slack_df['policy_cost'] = slack_df['elev_invst'].cumsum()\n"
     ]
    },
    {
     "name": "stdout",
     "output_type": "stream",
     "text": [
      "Calculate objective values for policy:\n",
      "Sort by ovb\n",
      "With Budget of $M 2000000.0\n"
     ]
    },
    {
     "name": "stderr",
     "output_type": "stream",
     "text": [
      "/tmp/ipykernel_1041572/369906587.py:94: SettingWithCopyWarning: \n",
      "A value is trying to be set on a copy of a slice from a DataFrame.\n",
      "Try using .loc[row_indexer,col_indexer] = value instead\n",
      "\n",
      "See the caveats in the documentation: https://pandas.pydata.org/pandas-docs/stable/user_guide/indexing.html#returning-a-view-versus-a-copy\n",
      "  pri_df['policy_cost'] = pri_df['elev_invst'].cumsum()\n",
      "/tmp/ipykernel_1041572/369906587.py:95: SettingWithCopyWarning: \n",
      "A value is trying to be set on a copy of a slice from a DataFrame.\n",
      "Try using .loc[row_indexer,col_indexer] = value instead\n",
      "\n",
      "See the caveats in the documentation: https://pandas.pydata.org/pandas-docs/stable/user_guide/indexing.html#returning-a-view-versus-a-copy\n",
      "  slack_df['policy_cost'] = slack_df['elev_invst'].cumsum()\n",
      "/tmp/ipykernel_1041572/369906587.py:107: SettingWithCopyWarning: \n",
      "A value is trying to be set on a copy of a slice from a DataFrame.\n",
      "Try using .loc[row_indexer,col_indexer] = value instead\n",
      "\n",
      "See the caveats in the documentation: https://pandas.pydata.org/pandas-docs/stable/user_guide/indexing.html#returning-a-view-versus-a-copy\n",
      "  slack_elev['npv_check'] = slack_elev['npv_opt'].cumsum()\n"
     ]
    },
    {
     "name": "stdout",
     "output_type": "stream",
     "text": [
      "Calculate objective values for policy:\n",
      "Sort by cejst\n",
      "With Budget of $M 2000000.0\n",
      "Calculate objective values for policy:\n",
      "Sort by npv_opt\n",
      "With Budget of $M 2500000.0\n",
      "Calculate objective values for policy:\n",
      "Sort by avoid_rel_eal\n",
      "With Budget of $M 2500000.0\n",
      "Calculate objective values for policy:\n",
      "Sort by rel_eal\n",
      "With Budget of $M 2500000.0\n"
     ]
    },
    {
     "name": "stderr",
     "output_type": "stream",
     "text": [
      "/tmp/ipykernel_1041572/369906587.py:94: SettingWithCopyWarning: \n",
      "A value is trying to be set on a copy of a slice from a DataFrame.\n",
      "Try using .loc[row_indexer,col_indexer] = value instead\n",
      "\n",
      "See the caveats in the documentation: https://pandas.pydata.org/pandas-docs/stable/user_guide/indexing.html#returning-a-view-versus-a-copy\n",
      "  pri_df['policy_cost'] = pri_df['elev_invst'].cumsum()\n",
      "/tmp/ipykernel_1041572/369906587.py:95: SettingWithCopyWarning: \n",
      "A value is trying to be set on a copy of a slice from a DataFrame.\n",
      "Try using .loc[row_indexer,col_indexer] = value instead\n",
      "\n",
      "See the caveats in the documentation: https://pandas.pydata.org/pandas-docs/stable/user_guide/indexing.html#returning-a-view-versus-a-copy\n",
      "  slack_df['policy_cost'] = slack_df['elev_invst'].cumsum()\n"
     ]
    },
    {
     "name": "stdout",
     "output_type": "stream",
     "text": [
      "Calculate objective values for policy:\n",
      "Sort by lmi\n",
      "With Budget of $M 2500000.0\n"
     ]
    },
    {
     "name": "stderr",
     "output_type": "stream",
     "text": [
      "/tmp/ipykernel_1041572/369906587.py:94: SettingWithCopyWarning: \n",
      "A value is trying to be set on a copy of a slice from a DataFrame.\n",
      "Try using .loc[row_indexer,col_indexer] = value instead\n",
      "\n",
      "See the caveats in the documentation: https://pandas.pydata.org/pandas-docs/stable/user_guide/indexing.html#returning-a-view-versus-a-copy\n",
      "  pri_df['policy_cost'] = pri_df['elev_invst'].cumsum()\n",
      "/tmp/ipykernel_1041572/369906587.py:95: SettingWithCopyWarning: \n",
      "A value is trying to be set on a copy of a slice from a DataFrame.\n",
      "Try using .loc[row_indexer,col_indexer] = value instead\n",
      "\n",
      "See the caveats in the documentation: https://pandas.pydata.org/pandas-docs/stable/user_guide/indexing.html#returning-a-view-versus-a-copy\n",
      "  slack_df['policy_cost'] = slack_df['elev_invst'].cumsum()\n"
     ]
    },
    {
     "name": "stdout",
     "output_type": "stream",
     "text": [
      "Calculate objective values for policy:\n",
      "Sort by ovb\n",
      "With Budget of $M 2500000.0\n"
     ]
    },
    {
     "name": "stderr",
     "output_type": "stream",
     "text": [
      "/tmp/ipykernel_1041572/369906587.py:94: SettingWithCopyWarning: \n",
      "A value is trying to be set on a copy of a slice from a DataFrame.\n",
      "Try using .loc[row_indexer,col_indexer] = value instead\n",
      "\n",
      "See the caveats in the documentation: https://pandas.pydata.org/pandas-docs/stable/user_guide/indexing.html#returning-a-view-versus-a-copy\n",
      "  pri_df['policy_cost'] = pri_df['elev_invst'].cumsum()\n",
      "/tmp/ipykernel_1041572/369906587.py:95: SettingWithCopyWarning: \n",
      "A value is trying to be set on a copy of a slice from a DataFrame.\n",
      "Try using .loc[row_indexer,col_indexer] = value instead\n",
      "\n",
      "See the caveats in the documentation: https://pandas.pydata.org/pandas-docs/stable/user_guide/indexing.html#returning-a-view-versus-a-copy\n",
      "  slack_df['policy_cost'] = slack_df['elev_invst'].cumsum()\n",
      "/tmp/ipykernel_1041572/369906587.py:107: SettingWithCopyWarning: \n",
      "A value is trying to be set on a copy of a slice from a DataFrame.\n",
      "Try using .loc[row_indexer,col_indexer] = value instead\n",
      "\n",
      "See the caveats in the documentation: https://pandas.pydata.org/pandas-docs/stable/user_guide/indexing.html#returning-a-view-versus-a-copy\n",
      "  slack_elev['npv_check'] = slack_elev['npv_opt'].cumsum()\n"
     ]
    },
    {
     "name": "stdout",
     "output_type": "stream",
     "text": [
      "Calculate objective values for policy:\n",
      "Sort by cejst\n",
      "With Budget of $M 2500000.0\n",
      "Calculate objective values for policy:\n",
      "Sort by npv_opt\n",
      "With Budget of $M 3000000.0\n",
      "Calculate objective values for policy:\n",
      "Sort by avoid_rel_eal\n",
      "With Budget of $M 3000000.0\n",
      "Calculate objective values for policy:\n",
      "Sort by rel_eal\n",
      "With Budget of $M 3000000.0\n"
     ]
    },
    {
     "name": "stderr",
     "output_type": "stream",
     "text": [
      "/tmp/ipykernel_1041572/369906587.py:94: SettingWithCopyWarning: \n",
      "A value is trying to be set on a copy of a slice from a DataFrame.\n",
      "Try using .loc[row_indexer,col_indexer] = value instead\n",
      "\n",
      "See the caveats in the documentation: https://pandas.pydata.org/pandas-docs/stable/user_guide/indexing.html#returning-a-view-versus-a-copy\n",
      "  pri_df['policy_cost'] = pri_df['elev_invst'].cumsum()\n",
      "/tmp/ipykernel_1041572/369906587.py:95: SettingWithCopyWarning: \n",
      "A value is trying to be set on a copy of a slice from a DataFrame.\n",
      "Try using .loc[row_indexer,col_indexer] = value instead\n",
      "\n",
      "See the caveats in the documentation: https://pandas.pydata.org/pandas-docs/stable/user_guide/indexing.html#returning-a-view-versus-a-copy\n",
      "  slack_df['policy_cost'] = slack_df['elev_invst'].cumsum()\n"
     ]
    },
    {
     "name": "stdout",
     "output_type": "stream",
     "text": [
      "Calculate objective values for policy:\n",
      "Sort by lmi\n",
      "With Budget of $M 3000000.0\n"
     ]
    },
    {
     "name": "stderr",
     "output_type": "stream",
     "text": [
      "/tmp/ipykernel_1041572/369906587.py:94: SettingWithCopyWarning: \n",
      "A value is trying to be set on a copy of a slice from a DataFrame.\n",
      "Try using .loc[row_indexer,col_indexer] = value instead\n",
      "\n",
      "See the caveats in the documentation: https://pandas.pydata.org/pandas-docs/stable/user_guide/indexing.html#returning-a-view-versus-a-copy\n",
      "  pri_df['policy_cost'] = pri_df['elev_invst'].cumsum()\n",
      "/tmp/ipykernel_1041572/369906587.py:95: SettingWithCopyWarning: \n",
      "A value is trying to be set on a copy of a slice from a DataFrame.\n",
      "Try using .loc[row_indexer,col_indexer] = value instead\n",
      "\n",
      "See the caveats in the documentation: https://pandas.pydata.org/pandas-docs/stable/user_guide/indexing.html#returning-a-view-versus-a-copy\n",
      "  slack_df['policy_cost'] = slack_df['elev_invst'].cumsum()\n",
      "/tmp/ipykernel_1041572/369906587.py:107: SettingWithCopyWarning: \n",
      "A value is trying to be set on a copy of a slice from a DataFrame.\n",
      "Try using .loc[row_indexer,col_indexer] = value instead\n",
      "\n",
      "See the caveats in the documentation: https://pandas.pydata.org/pandas-docs/stable/user_guide/indexing.html#returning-a-view-versus-a-copy\n",
      "  slack_elev['npv_check'] = slack_elev['npv_opt'].cumsum()\n"
     ]
    },
    {
     "name": "stdout",
     "output_type": "stream",
     "text": [
      "Calculate objective values for policy:\n",
      "Sort by ovb\n",
      "With Budget of $M 3000000.0\n"
     ]
    },
    {
     "name": "stderr",
     "output_type": "stream",
     "text": [
      "/tmp/ipykernel_1041572/369906587.py:94: SettingWithCopyWarning: \n",
      "A value is trying to be set on a copy of a slice from a DataFrame.\n",
      "Try using .loc[row_indexer,col_indexer] = value instead\n",
      "\n",
      "See the caveats in the documentation: https://pandas.pydata.org/pandas-docs/stable/user_guide/indexing.html#returning-a-view-versus-a-copy\n",
      "  pri_df['policy_cost'] = pri_df['elev_invst'].cumsum()\n",
      "/tmp/ipykernel_1041572/369906587.py:95: SettingWithCopyWarning: \n",
      "A value is trying to be set on a copy of a slice from a DataFrame.\n",
      "Try using .loc[row_indexer,col_indexer] = value instead\n",
      "\n",
      "See the caveats in the documentation: https://pandas.pydata.org/pandas-docs/stable/user_guide/indexing.html#returning-a-view-versus-a-copy\n",
      "  slack_df['policy_cost'] = slack_df['elev_invst'].cumsum()\n",
      "/tmp/ipykernel_1041572/369906587.py:107: SettingWithCopyWarning: \n",
      "A value is trying to be set on a copy of a slice from a DataFrame.\n",
      "Try using .loc[row_indexer,col_indexer] = value instead\n",
      "\n",
      "See the caveats in the documentation: https://pandas.pydata.org/pandas-docs/stable/user_guide/indexing.html#returning-a-view-versus-a-copy\n",
      "  slack_elev['npv_check'] = slack_elev['npv_opt'].cumsum()\n"
     ]
    },
    {
     "name": "stdout",
     "output_type": "stream",
     "text": [
      "Calculate objective values for policy:\n",
      "Sort by cejst\n",
      "With Budget of $M 3000000.0\n",
      "Calculate objective values for policy:\n",
      "Sort by npv_opt\n",
      "With Budget of $M 3500000.0\n",
      "Calculate objective values for policy:\n",
      "Sort by avoid_rel_eal\n",
      "With Budget of $M 3500000.0\n",
      "Calculate objective values for policy:\n",
      "Sort by rel_eal\n",
      "With Budget of $M 3500000.0\n"
     ]
    },
    {
     "name": "stderr",
     "output_type": "stream",
     "text": [
      "/tmp/ipykernel_1041572/369906587.py:94: SettingWithCopyWarning: \n",
      "A value is trying to be set on a copy of a slice from a DataFrame.\n",
      "Try using .loc[row_indexer,col_indexer] = value instead\n",
      "\n",
      "See the caveats in the documentation: https://pandas.pydata.org/pandas-docs/stable/user_guide/indexing.html#returning-a-view-versus-a-copy\n",
      "  pri_df['policy_cost'] = pri_df['elev_invst'].cumsum()\n",
      "/tmp/ipykernel_1041572/369906587.py:95: SettingWithCopyWarning: \n",
      "A value is trying to be set on a copy of a slice from a DataFrame.\n",
      "Try using .loc[row_indexer,col_indexer] = value instead\n",
      "\n",
      "See the caveats in the documentation: https://pandas.pydata.org/pandas-docs/stable/user_guide/indexing.html#returning-a-view-versus-a-copy\n",
      "  slack_df['policy_cost'] = slack_df['elev_invst'].cumsum()\n"
     ]
    },
    {
     "name": "stdout",
     "output_type": "stream",
     "text": [
      "Calculate objective values for policy:\n",
      "Sort by lmi\n",
      "With Budget of $M 3500000.0\n"
     ]
    },
    {
     "name": "stderr",
     "output_type": "stream",
     "text": [
      "/tmp/ipykernel_1041572/369906587.py:94: SettingWithCopyWarning: \n",
      "A value is trying to be set on a copy of a slice from a DataFrame.\n",
      "Try using .loc[row_indexer,col_indexer] = value instead\n",
      "\n",
      "See the caveats in the documentation: https://pandas.pydata.org/pandas-docs/stable/user_guide/indexing.html#returning-a-view-versus-a-copy\n",
      "  pri_df['policy_cost'] = pri_df['elev_invst'].cumsum()\n",
      "/tmp/ipykernel_1041572/369906587.py:95: SettingWithCopyWarning: \n",
      "A value is trying to be set on a copy of a slice from a DataFrame.\n",
      "Try using .loc[row_indexer,col_indexer] = value instead\n",
      "\n",
      "See the caveats in the documentation: https://pandas.pydata.org/pandas-docs/stable/user_guide/indexing.html#returning-a-view-versus-a-copy\n",
      "  slack_df['policy_cost'] = slack_df['elev_invst'].cumsum()\n"
     ]
    },
    {
     "name": "stdout",
     "output_type": "stream",
     "text": [
      "Calculate objective values for policy:\n",
      "Sort by ovb\n",
      "With Budget of $M 3500000.0\n"
     ]
    },
    {
     "name": "stderr",
     "output_type": "stream",
     "text": [
      "/tmp/ipykernel_1041572/369906587.py:94: SettingWithCopyWarning: \n",
      "A value is trying to be set on a copy of a slice from a DataFrame.\n",
      "Try using .loc[row_indexer,col_indexer] = value instead\n",
      "\n",
      "See the caveats in the documentation: https://pandas.pydata.org/pandas-docs/stable/user_guide/indexing.html#returning-a-view-versus-a-copy\n",
      "  pri_df['policy_cost'] = pri_df['elev_invst'].cumsum()\n",
      "/tmp/ipykernel_1041572/369906587.py:95: SettingWithCopyWarning: \n",
      "A value is trying to be set on a copy of a slice from a DataFrame.\n",
      "Try using .loc[row_indexer,col_indexer] = value instead\n",
      "\n",
      "See the caveats in the documentation: https://pandas.pydata.org/pandas-docs/stable/user_guide/indexing.html#returning-a-view-versus-a-copy\n",
      "  slack_df['policy_cost'] = slack_df['elev_invst'].cumsum()\n",
      "/tmp/ipykernel_1041572/369906587.py:107: SettingWithCopyWarning: \n",
      "A value is trying to be set on a copy of a slice from a DataFrame.\n",
      "Try using .loc[row_indexer,col_indexer] = value instead\n",
      "\n",
      "See the caveats in the documentation: https://pandas.pydata.org/pandas-docs/stable/user_guide/indexing.html#returning-a-view-versus-a-copy\n",
      "  slack_elev['npv_check'] = slack_elev['npv_opt'].cumsum()\n"
     ]
    },
    {
     "name": "stdout",
     "output_type": "stream",
     "text": [
      "Calculate objective values for policy:\n",
      "Sort by cejst\n",
      "With Budget of $M 3500000.0\n",
      "Calculate objective values for policy:\n",
      "Sort by npv_opt\n",
      "With Budget of $M 4000000.0\n",
      "Calculate objective values for policy:\n",
      "Sort by avoid_rel_eal\n",
      "With Budget of $M 4000000.0\n",
      "Calculate objective values for policy:\n",
      "Sort by rel_eal\n",
      "With Budget of $M 4000000.0\n"
     ]
    },
    {
     "name": "stderr",
     "output_type": "stream",
     "text": [
      "/tmp/ipykernel_1041572/369906587.py:94: SettingWithCopyWarning: \n",
      "A value is trying to be set on a copy of a slice from a DataFrame.\n",
      "Try using .loc[row_indexer,col_indexer] = value instead\n",
      "\n",
      "See the caveats in the documentation: https://pandas.pydata.org/pandas-docs/stable/user_guide/indexing.html#returning-a-view-versus-a-copy\n",
      "  pri_df['policy_cost'] = pri_df['elev_invst'].cumsum()\n",
      "/tmp/ipykernel_1041572/369906587.py:95: SettingWithCopyWarning: \n",
      "A value is trying to be set on a copy of a slice from a DataFrame.\n",
      "Try using .loc[row_indexer,col_indexer] = value instead\n",
      "\n",
      "See the caveats in the documentation: https://pandas.pydata.org/pandas-docs/stable/user_guide/indexing.html#returning-a-view-versus-a-copy\n",
      "  slack_df['policy_cost'] = slack_df['elev_invst'].cumsum()\n"
     ]
    },
    {
     "name": "stdout",
     "output_type": "stream",
     "text": [
      "Calculate objective values for policy:\n",
      "Sort by lmi\n",
      "With Budget of $M 4000000.0\n"
     ]
    },
    {
     "name": "stderr",
     "output_type": "stream",
     "text": [
      "/tmp/ipykernel_1041572/369906587.py:94: SettingWithCopyWarning: \n",
      "A value is trying to be set on a copy of a slice from a DataFrame.\n",
      "Try using .loc[row_indexer,col_indexer] = value instead\n",
      "\n",
      "See the caveats in the documentation: https://pandas.pydata.org/pandas-docs/stable/user_guide/indexing.html#returning-a-view-versus-a-copy\n",
      "  pri_df['policy_cost'] = pri_df['elev_invst'].cumsum()\n",
      "/tmp/ipykernel_1041572/369906587.py:95: SettingWithCopyWarning: \n",
      "A value is trying to be set on a copy of a slice from a DataFrame.\n",
      "Try using .loc[row_indexer,col_indexer] = value instead\n",
      "\n",
      "See the caveats in the documentation: https://pandas.pydata.org/pandas-docs/stable/user_guide/indexing.html#returning-a-view-versus-a-copy\n",
      "  slack_df['policy_cost'] = slack_df['elev_invst'].cumsum()\n"
     ]
    },
    {
     "name": "stdout",
     "output_type": "stream",
     "text": [
      "Calculate objective values for policy:\n",
      "Sort by ovb\n",
      "With Budget of $M 4000000.0\n"
     ]
    },
    {
     "name": "stderr",
     "output_type": "stream",
     "text": [
      "/tmp/ipykernel_1041572/369906587.py:94: SettingWithCopyWarning: \n",
      "A value is trying to be set on a copy of a slice from a DataFrame.\n",
      "Try using .loc[row_indexer,col_indexer] = value instead\n",
      "\n",
      "See the caveats in the documentation: https://pandas.pydata.org/pandas-docs/stable/user_guide/indexing.html#returning-a-view-versus-a-copy\n",
      "  pri_df['policy_cost'] = pri_df['elev_invst'].cumsum()\n",
      "/tmp/ipykernel_1041572/369906587.py:95: SettingWithCopyWarning: \n",
      "A value is trying to be set on a copy of a slice from a DataFrame.\n",
      "Try using .loc[row_indexer,col_indexer] = value instead\n",
      "\n",
      "See the caveats in the documentation: https://pandas.pydata.org/pandas-docs/stable/user_guide/indexing.html#returning-a-view-versus-a-copy\n",
      "  slack_df['policy_cost'] = slack_df['elev_invst'].cumsum()\n",
      "/tmp/ipykernel_1041572/369906587.py:107: SettingWithCopyWarning: \n",
      "A value is trying to be set on a copy of a slice from a DataFrame.\n",
      "Try using .loc[row_indexer,col_indexer] = value instead\n",
      "\n",
      "See the caveats in the documentation: https://pandas.pydata.org/pandas-docs/stable/user_guide/indexing.html#returning-a-view-versus-a-copy\n",
      "  slack_elev['npv_check'] = slack_elev['npv_opt'].cumsum()\n"
     ]
    },
    {
     "name": "stdout",
     "output_type": "stream",
     "text": [
      "Calculate objective values for policy:\n",
      "Sort by cejst\n",
      "With Budget of $M 4000000.0\n",
      "Calculate objective values for policy:\n",
      "Sort by npv_opt\n",
      "With Budget of $M 4500000.0\n",
      "Calculate objective values for policy:\n",
      "Sort by avoid_rel_eal\n",
      "With Budget of $M 4500000.0\n",
      "Calculate objective values for policy:\n",
      "Sort by rel_eal\n",
      "With Budget of $M 4500000.0\n"
     ]
    },
    {
     "name": "stderr",
     "output_type": "stream",
     "text": [
      "/tmp/ipykernel_1041572/369906587.py:94: SettingWithCopyWarning: \n",
      "A value is trying to be set on a copy of a slice from a DataFrame.\n",
      "Try using .loc[row_indexer,col_indexer] = value instead\n",
      "\n",
      "See the caveats in the documentation: https://pandas.pydata.org/pandas-docs/stable/user_guide/indexing.html#returning-a-view-versus-a-copy\n",
      "  pri_df['policy_cost'] = pri_df['elev_invst'].cumsum()\n",
      "/tmp/ipykernel_1041572/369906587.py:95: SettingWithCopyWarning: \n",
      "A value is trying to be set on a copy of a slice from a DataFrame.\n",
      "Try using .loc[row_indexer,col_indexer] = value instead\n",
      "\n",
      "See the caveats in the documentation: https://pandas.pydata.org/pandas-docs/stable/user_guide/indexing.html#returning-a-view-versus-a-copy\n",
      "  slack_df['policy_cost'] = slack_df['elev_invst'].cumsum()\n"
     ]
    },
    {
     "name": "stdout",
     "output_type": "stream",
     "text": [
      "Calculate objective values for policy:\n",
      "Sort by lmi\n",
      "With Budget of $M 4500000.0\n"
     ]
    },
    {
     "name": "stderr",
     "output_type": "stream",
     "text": [
      "/tmp/ipykernel_1041572/369906587.py:94: SettingWithCopyWarning: \n",
      "A value is trying to be set on a copy of a slice from a DataFrame.\n",
      "Try using .loc[row_indexer,col_indexer] = value instead\n",
      "\n",
      "See the caveats in the documentation: https://pandas.pydata.org/pandas-docs/stable/user_guide/indexing.html#returning-a-view-versus-a-copy\n",
      "  pri_df['policy_cost'] = pri_df['elev_invst'].cumsum()\n",
      "/tmp/ipykernel_1041572/369906587.py:95: SettingWithCopyWarning: \n",
      "A value is trying to be set on a copy of a slice from a DataFrame.\n",
      "Try using .loc[row_indexer,col_indexer] = value instead\n",
      "\n",
      "See the caveats in the documentation: https://pandas.pydata.org/pandas-docs/stable/user_guide/indexing.html#returning-a-view-versus-a-copy\n",
      "  slack_df['policy_cost'] = slack_df['elev_invst'].cumsum()\n"
     ]
    },
    {
     "name": "stdout",
     "output_type": "stream",
     "text": [
      "Calculate objective values for policy:\n",
      "Sort by ovb\n",
      "With Budget of $M 4500000.0\n"
     ]
    },
    {
     "name": "stderr",
     "output_type": "stream",
     "text": [
      "/tmp/ipykernel_1041572/369906587.py:94: SettingWithCopyWarning: \n",
      "A value is trying to be set on a copy of a slice from a DataFrame.\n",
      "Try using .loc[row_indexer,col_indexer] = value instead\n",
      "\n",
      "See the caveats in the documentation: https://pandas.pydata.org/pandas-docs/stable/user_guide/indexing.html#returning-a-view-versus-a-copy\n",
      "  pri_df['policy_cost'] = pri_df['elev_invst'].cumsum()\n",
      "/tmp/ipykernel_1041572/369906587.py:95: SettingWithCopyWarning: \n",
      "A value is trying to be set on a copy of a slice from a DataFrame.\n",
      "Try using .loc[row_indexer,col_indexer] = value instead\n",
      "\n",
      "See the caveats in the documentation: https://pandas.pydata.org/pandas-docs/stable/user_guide/indexing.html#returning-a-view-versus-a-copy\n",
      "  slack_df['policy_cost'] = slack_df['elev_invst'].cumsum()\n",
      "/tmp/ipykernel_1041572/369906587.py:107: SettingWithCopyWarning: \n",
      "A value is trying to be set on a copy of a slice from a DataFrame.\n",
      "Try using .loc[row_indexer,col_indexer] = value instead\n",
      "\n",
      "See the caveats in the documentation: https://pandas.pydata.org/pandas-docs/stable/user_guide/indexing.html#returning-a-view-versus-a-copy\n",
      "  slack_elev['npv_check'] = slack_elev['npv_opt'].cumsum()\n"
     ]
    },
    {
     "name": "stdout",
     "output_type": "stream",
     "text": [
      "Calculate objective values for policy:\n",
      "Sort by cejst\n",
      "With Budget of $M 4500000.0\n",
      "Calculate objective values for policy:\n",
      "Sort by npv_opt\n",
      "With Budget of $M 5000000.0\n",
      "Calculate objective values for policy:\n",
      "Sort by avoid_rel_eal\n",
      "With Budget of $M 5000000.0\n",
      "Calculate objective values for policy:\n",
      "Sort by rel_eal\n",
      "With Budget of $M 5000000.0\n"
     ]
    },
    {
     "name": "stderr",
     "output_type": "stream",
     "text": [
      "/tmp/ipykernel_1041572/369906587.py:94: SettingWithCopyWarning: \n",
      "A value is trying to be set on a copy of a slice from a DataFrame.\n",
      "Try using .loc[row_indexer,col_indexer] = value instead\n",
      "\n",
      "See the caveats in the documentation: https://pandas.pydata.org/pandas-docs/stable/user_guide/indexing.html#returning-a-view-versus-a-copy\n",
      "  pri_df['policy_cost'] = pri_df['elev_invst'].cumsum()\n",
      "/tmp/ipykernel_1041572/369906587.py:95: SettingWithCopyWarning: \n",
      "A value is trying to be set on a copy of a slice from a DataFrame.\n",
      "Try using .loc[row_indexer,col_indexer] = value instead\n",
      "\n",
      "See the caveats in the documentation: https://pandas.pydata.org/pandas-docs/stable/user_guide/indexing.html#returning-a-view-versus-a-copy\n",
      "  slack_df['policy_cost'] = slack_df['elev_invst'].cumsum()\n"
     ]
    },
    {
     "name": "stdout",
     "output_type": "stream",
     "text": [
      "Calculate objective values for policy:\n",
      "Sort by lmi\n",
      "With Budget of $M 5000000.0\n"
     ]
    },
    {
     "name": "stderr",
     "output_type": "stream",
     "text": [
      "/tmp/ipykernel_1041572/369906587.py:94: SettingWithCopyWarning: \n",
      "A value is trying to be set on a copy of a slice from a DataFrame.\n",
      "Try using .loc[row_indexer,col_indexer] = value instead\n",
      "\n",
      "See the caveats in the documentation: https://pandas.pydata.org/pandas-docs/stable/user_guide/indexing.html#returning-a-view-versus-a-copy\n",
      "  pri_df['policy_cost'] = pri_df['elev_invst'].cumsum()\n",
      "/tmp/ipykernel_1041572/369906587.py:95: SettingWithCopyWarning: \n",
      "A value is trying to be set on a copy of a slice from a DataFrame.\n",
      "Try using .loc[row_indexer,col_indexer] = value instead\n",
      "\n",
      "See the caveats in the documentation: https://pandas.pydata.org/pandas-docs/stable/user_guide/indexing.html#returning-a-view-versus-a-copy\n",
      "  slack_df['policy_cost'] = slack_df['elev_invst'].cumsum()\n"
     ]
    },
    {
     "name": "stdout",
     "output_type": "stream",
     "text": [
      "Calculate objective values for policy:\n",
      "Sort by ovb\n",
      "With Budget of $M 5000000.0\n"
     ]
    },
    {
     "name": "stderr",
     "output_type": "stream",
     "text": [
      "/tmp/ipykernel_1041572/369906587.py:94: SettingWithCopyWarning: \n",
      "A value is trying to be set on a copy of a slice from a DataFrame.\n",
      "Try using .loc[row_indexer,col_indexer] = value instead\n",
      "\n",
      "See the caveats in the documentation: https://pandas.pydata.org/pandas-docs/stable/user_guide/indexing.html#returning-a-view-versus-a-copy\n",
      "  pri_df['policy_cost'] = pri_df['elev_invst'].cumsum()\n",
      "/tmp/ipykernel_1041572/369906587.py:95: SettingWithCopyWarning: \n",
      "A value is trying to be set on a copy of a slice from a DataFrame.\n",
      "Try using .loc[row_indexer,col_indexer] = value instead\n",
      "\n",
      "See the caveats in the documentation: https://pandas.pydata.org/pandas-docs/stable/user_guide/indexing.html#returning-a-view-versus-a-copy\n",
      "  slack_df['policy_cost'] = slack_df['elev_invst'].cumsum()\n",
      "/tmp/ipykernel_1041572/369906587.py:107: SettingWithCopyWarning: \n",
      "A value is trying to be set on a copy of a slice from a DataFrame.\n",
      "Try using .loc[row_indexer,col_indexer] = value instead\n",
      "\n",
      "See the caveats in the documentation: https://pandas.pydata.org/pandas-docs/stable/user_guide/indexing.html#returning-a-view-versus-a-copy\n",
      "  slack_elev['npv_check'] = slack_elev['npv_opt'].cumsum()\n"
     ]
    },
    {
     "name": "stdout",
     "output_type": "stream",
     "text": [
      "Calculate objective values for policy:\n",
      "Sort by cejst\n",
      "With Budget of $M 5000000.0\n",
      "Calculate objective values for policy:\n",
      "Sort by npv_opt\n",
      "With Budget of $M 5500000.0\n",
      "Calculate objective values for policy:\n",
      "Sort by avoid_rel_eal\n",
      "With Budget of $M 5500000.0\n",
      "Calculate objective values for policy:\n",
      "Sort by rel_eal\n",
      "With Budget of $M 5500000.0\n"
     ]
    },
    {
     "name": "stderr",
     "output_type": "stream",
     "text": [
      "/tmp/ipykernel_1041572/369906587.py:94: SettingWithCopyWarning: \n",
      "A value is trying to be set on a copy of a slice from a DataFrame.\n",
      "Try using .loc[row_indexer,col_indexer] = value instead\n",
      "\n",
      "See the caveats in the documentation: https://pandas.pydata.org/pandas-docs/stable/user_guide/indexing.html#returning-a-view-versus-a-copy\n",
      "  pri_df['policy_cost'] = pri_df['elev_invst'].cumsum()\n",
      "/tmp/ipykernel_1041572/369906587.py:95: SettingWithCopyWarning: \n",
      "A value is trying to be set on a copy of a slice from a DataFrame.\n",
      "Try using .loc[row_indexer,col_indexer] = value instead\n",
      "\n",
      "See the caveats in the documentation: https://pandas.pydata.org/pandas-docs/stable/user_guide/indexing.html#returning-a-view-versus-a-copy\n",
      "  slack_df['policy_cost'] = slack_df['elev_invst'].cumsum()\n"
     ]
    },
    {
     "name": "stdout",
     "output_type": "stream",
     "text": [
      "Calculate objective values for policy:\n",
      "Sort by lmi\n",
      "With Budget of $M 5500000.0\n"
     ]
    },
    {
     "name": "stderr",
     "output_type": "stream",
     "text": [
      "/tmp/ipykernel_1041572/369906587.py:94: SettingWithCopyWarning: \n",
      "A value is trying to be set on a copy of a slice from a DataFrame.\n",
      "Try using .loc[row_indexer,col_indexer] = value instead\n",
      "\n",
      "See the caveats in the documentation: https://pandas.pydata.org/pandas-docs/stable/user_guide/indexing.html#returning-a-view-versus-a-copy\n",
      "  pri_df['policy_cost'] = pri_df['elev_invst'].cumsum()\n",
      "/tmp/ipykernel_1041572/369906587.py:95: SettingWithCopyWarning: \n",
      "A value is trying to be set on a copy of a slice from a DataFrame.\n",
      "Try using .loc[row_indexer,col_indexer] = value instead\n",
      "\n",
      "See the caveats in the documentation: https://pandas.pydata.org/pandas-docs/stable/user_guide/indexing.html#returning-a-view-versus-a-copy\n",
      "  slack_df['policy_cost'] = slack_df['elev_invst'].cumsum()\n"
     ]
    },
    {
     "name": "stdout",
     "output_type": "stream",
     "text": [
      "Calculate objective values for policy:\n",
      "Sort by ovb\n",
      "With Budget of $M 5500000.0\n"
     ]
    },
    {
     "name": "stderr",
     "output_type": "stream",
     "text": [
      "/tmp/ipykernel_1041572/369906587.py:94: SettingWithCopyWarning: \n",
      "A value is trying to be set on a copy of a slice from a DataFrame.\n",
      "Try using .loc[row_indexer,col_indexer] = value instead\n",
      "\n",
      "See the caveats in the documentation: https://pandas.pydata.org/pandas-docs/stable/user_guide/indexing.html#returning-a-view-versus-a-copy\n",
      "  pri_df['policy_cost'] = pri_df['elev_invst'].cumsum()\n",
      "/tmp/ipykernel_1041572/369906587.py:95: SettingWithCopyWarning: \n",
      "A value is trying to be set on a copy of a slice from a DataFrame.\n",
      "Try using .loc[row_indexer,col_indexer] = value instead\n",
      "\n",
      "See the caveats in the documentation: https://pandas.pydata.org/pandas-docs/stable/user_guide/indexing.html#returning-a-view-versus-a-copy\n",
      "  slack_df['policy_cost'] = slack_df['elev_invst'].cumsum()\n",
      "/tmp/ipykernel_1041572/369906587.py:107: SettingWithCopyWarning: \n",
      "A value is trying to be set on a copy of a slice from a DataFrame.\n",
      "Try using .loc[row_indexer,col_indexer] = value instead\n",
      "\n",
      "See the caveats in the documentation: https://pandas.pydata.org/pandas-docs/stable/user_guide/indexing.html#returning-a-view-versus-a-copy\n",
      "  slack_elev['npv_check'] = slack_elev['npv_opt'].cumsum()\n"
     ]
    },
    {
     "name": "stdout",
     "output_type": "stream",
     "text": [
      "Calculate objective values for policy:\n",
      "Sort by cejst\n",
      "With Budget of $M 5500000.0\n",
      "Calculate objective values for policy:\n",
      "Sort by npv_opt\n",
      "With Budget of $M 6000000.0\n",
      "Calculate objective values for policy:\n",
      "Sort by avoid_rel_eal\n",
      "With Budget of $M 6000000.0\n",
      "Calculate objective values for policy:\n",
      "Sort by rel_eal\n",
      "With Budget of $M 6000000.0\n"
     ]
    },
    {
     "name": "stderr",
     "output_type": "stream",
     "text": [
      "/tmp/ipykernel_1041572/369906587.py:94: SettingWithCopyWarning: \n",
      "A value is trying to be set on a copy of a slice from a DataFrame.\n",
      "Try using .loc[row_indexer,col_indexer] = value instead\n",
      "\n",
      "See the caveats in the documentation: https://pandas.pydata.org/pandas-docs/stable/user_guide/indexing.html#returning-a-view-versus-a-copy\n",
      "  pri_df['policy_cost'] = pri_df['elev_invst'].cumsum()\n",
      "/tmp/ipykernel_1041572/369906587.py:95: SettingWithCopyWarning: \n",
      "A value is trying to be set on a copy of a slice from a DataFrame.\n",
      "Try using .loc[row_indexer,col_indexer] = value instead\n",
      "\n",
      "See the caveats in the documentation: https://pandas.pydata.org/pandas-docs/stable/user_guide/indexing.html#returning-a-view-versus-a-copy\n",
      "  slack_df['policy_cost'] = slack_df['elev_invst'].cumsum()\n"
     ]
    },
    {
     "name": "stdout",
     "output_type": "stream",
     "text": [
      "Calculate objective values for policy:\n",
      "Sort by lmi\n",
      "With Budget of $M 6000000.0\n"
     ]
    },
    {
     "name": "stderr",
     "output_type": "stream",
     "text": [
      "/tmp/ipykernel_1041572/369906587.py:94: SettingWithCopyWarning: \n",
      "A value is trying to be set on a copy of a slice from a DataFrame.\n",
      "Try using .loc[row_indexer,col_indexer] = value instead\n",
      "\n",
      "See the caveats in the documentation: https://pandas.pydata.org/pandas-docs/stable/user_guide/indexing.html#returning-a-view-versus-a-copy\n",
      "  pri_df['policy_cost'] = pri_df['elev_invst'].cumsum()\n",
      "/tmp/ipykernel_1041572/369906587.py:95: SettingWithCopyWarning: \n",
      "A value is trying to be set on a copy of a slice from a DataFrame.\n",
      "Try using .loc[row_indexer,col_indexer] = value instead\n",
      "\n",
      "See the caveats in the documentation: https://pandas.pydata.org/pandas-docs/stable/user_guide/indexing.html#returning-a-view-versus-a-copy\n",
      "  slack_df['policy_cost'] = slack_df['elev_invst'].cumsum()\n"
     ]
    },
    {
     "name": "stdout",
     "output_type": "stream",
     "text": [
      "Calculate objective values for policy:\n",
      "Sort by ovb\n",
      "With Budget of $M 6000000.0\n"
     ]
    },
    {
     "name": "stderr",
     "output_type": "stream",
     "text": [
      "/tmp/ipykernel_1041572/369906587.py:94: SettingWithCopyWarning: \n",
      "A value is trying to be set on a copy of a slice from a DataFrame.\n",
      "Try using .loc[row_indexer,col_indexer] = value instead\n",
      "\n",
      "See the caveats in the documentation: https://pandas.pydata.org/pandas-docs/stable/user_guide/indexing.html#returning-a-view-versus-a-copy\n",
      "  pri_df['policy_cost'] = pri_df['elev_invst'].cumsum()\n",
      "/tmp/ipykernel_1041572/369906587.py:95: SettingWithCopyWarning: \n",
      "A value is trying to be set on a copy of a slice from a DataFrame.\n",
      "Try using .loc[row_indexer,col_indexer] = value instead\n",
      "\n",
      "See the caveats in the documentation: https://pandas.pydata.org/pandas-docs/stable/user_guide/indexing.html#returning-a-view-versus-a-copy\n",
      "  slack_df['policy_cost'] = slack_df['elev_invst'].cumsum()\n",
      "/tmp/ipykernel_1041572/369906587.py:107: SettingWithCopyWarning: \n",
      "A value is trying to be set on a copy of a slice from a DataFrame.\n",
      "Try using .loc[row_indexer,col_indexer] = value instead\n",
      "\n",
      "See the caveats in the documentation: https://pandas.pydata.org/pandas-docs/stable/user_guide/indexing.html#returning-a-view-versus-a-copy\n",
      "  slack_elev['npv_check'] = slack_elev['npv_opt'].cumsum()\n"
     ]
    },
    {
     "name": "stdout",
     "output_type": "stream",
     "text": [
      "Calculate objective values for policy:\n",
      "Sort by cejst\n",
      "With Budget of $M 6000000.0\n",
      "Calculate objective values for policy:\n",
      "Sort by npv_opt\n",
      "With Budget of $M 7000000.0\n",
      "Calculate objective values for policy:\n",
      "Sort by avoid_rel_eal\n",
      "With Budget of $M 7000000.0\n",
      "Calculate objective values for policy:\n",
      "Sort by rel_eal\n",
      "With Budget of $M 7000000.0\n"
     ]
    },
    {
     "name": "stderr",
     "output_type": "stream",
     "text": [
      "/tmp/ipykernel_1041572/369906587.py:94: SettingWithCopyWarning: \n",
      "A value is trying to be set on a copy of a slice from a DataFrame.\n",
      "Try using .loc[row_indexer,col_indexer] = value instead\n",
      "\n",
      "See the caveats in the documentation: https://pandas.pydata.org/pandas-docs/stable/user_guide/indexing.html#returning-a-view-versus-a-copy\n",
      "  pri_df['policy_cost'] = pri_df['elev_invst'].cumsum()\n",
      "/tmp/ipykernel_1041572/369906587.py:95: SettingWithCopyWarning: \n",
      "A value is trying to be set on a copy of a slice from a DataFrame.\n",
      "Try using .loc[row_indexer,col_indexer] = value instead\n",
      "\n",
      "See the caveats in the documentation: https://pandas.pydata.org/pandas-docs/stable/user_guide/indexing.html#returning-a-view-versus-a-copy\n",
      "  slack_df['policy_cost'] = slack_df['elev_invst'].cumsum()\n"
     ]
    },
    {
     "name": "stdout",
     "output_type": "stream",
     "text": [
      "Calculate objective values for policy:\n",
      "Sort by lmi\n",
      "With Budget of $M 7000000.0\n"
     ]
    },
    {
     "name": "stderr",
     "output_type": "stream",
     "text": [
      "/tmp/ipykernel_1041572/369906587.py:94: SettingWithCopyWarning: \n",
      "A value is trying to be set on a copy of a slice from a DataFrame.\n",
      "Try using .loc[row_indexer,col_indexer] = value instead\n",
      "\n",
      "See the caveats in the documentation: https://pandas.pydata.org/pandas-docs/stable/user_guide/indexing.html#returning-a-view-versus-a-copy\n",
      "  pri_df['policy_cost'] = pri_df['elev_invst'].cumsum()\n",
      "/tmp/ipykernel_1041572/369906587.py:95: SettingWithCopyWarning: \n",
      "A value is trying to be set on a copy of a slice from a DataFrame.\n",
      "Try using .loc[row_indexer,col_indexer] = value instead\n",
      "\n",
      "See the caveats in the documentation: https://pandas.pydata.org/pandas-docs/stable/user_guide/indexing.html#returning-a-view-versus-a-copy\n",
      "  slack_df['policy_cost'] = slack_df['elev_invst'].cumsum()\n"
     ]
    },
    {
     "name": "stdout",
     "output_type": "stream",
     "text": [
      "Calculate objective values for policy:\n",
      "Sort by ovb\n",
      "With Budget of $M 7000000.0\n"
     ]
    },
    {
     "name": "stderr",
     "output_type": "stream",
     "text": [
      "/tmp/ipykernel_1041572/369906587.py:94: SettingWithCopyWarning: \n",
      "A value is trying to be set on a copy of a slice from a DataFrame.\n",
      "Try using .loc[row_indexer,col_indexer] = value instead\n",
      "\n",
      "See the caveats in the documentation: https://pandas.pydata.org/pandas-docs/stable/user_guide/indexing.html#returning-a-view-versus-a-copy\n",
      "  pri_df['policy_cost'] = pri_df['elev_invst'].cumsum()\n",
      "/tmp/ipykernel_1041572/369906587.py:95: SettingWithCopyWarning: \n",
      "A value is trying to be set on a copy of a slice from a DataFrame.\n",
      "Try using .loc[row_indexer,col_indexer] = value instead\n",
      "\n",
      "See the caveats in the documentation: https://pandas.pydata.org/pandas-docs/stable/user_guide/indexing.html#returning-a-view-versus-a-copy\n",
      "  slack_df['policy_cost'] = slack_df['elev_invst'].cumsum()\n",
      "/tmp/ipykernel_1041572/369906587.py:107: SettingWithCopyWarning: \n",
      "A value is trying to be set on a copy of a slice from a DataFrame.\n",
      "Try using .loc[row_indexer,col_indexer] = value instead\n",
      "\n",
      "See the caveats in the documentation: https://pandas.pydata.org/pandas-docs/stable/user_guide/indexing.html#returning-a-view-versus-a-copy\n",
      "  slack_elev['npv_check'] = slack_elev['npv_opt'].cumsum()\n"
     ]
    },
    {
     "name": "stdout",
     "output_type": "stream",
     "text": [
      "Calculate objective values for policy:\n",
      "Sort by cejst\n",
      "With Budget of $M 7000000.0\n",
      "Calculate objective values for policy:\n",
      "Sort by npv_opt\n",
      "With Budget of $M 8000000.0\n",
      "Calculate objective values for policy:\n",
      "Sort by avoid_rel_eal\n",
      "With Budget of $M 8000000.0\n",
      "Calculate objective values for policy:\n",
      "Sort by rel_eal\n",
      "With Budget of $M 8000000.0\n"
     ]
    },
    {
     "name": "stderr",
     "output_type": "stream",
     "text": [
      "/tmp/ipykernel_1041572/369906587.py:94: SettingWithCopyWarning: \n",
      "A value is trying to be set on a copy of a slice from a DataFrame.\n",
      "Try using .loc[row_indexer,col_indexer] = value instead\n",
      "\n",
      "See the caveats in the documentation: https://pandas.pydata.org/pandas-docs/stable/user_guide/indexing.html#returning-a-view-versus-a-copy\n",
      "  pri_df['policy_cost'] = pri_df['elev_invst'].cumsum()\n",
      "/tmp/ipykernel_1041572/369906587.py:95: SettingWithCopyWarning: \n",
      "A value is trying to be set on a copy of a slice from a DataFrame.\n",
      "Try using .loc[row_indexer,col_indexer] = value instead\n",
      "\n",
      "See the caveats in the documentation: https://pandas.pydata.org/pandas-docs/stable/user_guide/indexing.html#returning-a-view-versus-a-copy\n",
      "  slack_df['policy_cost'] = slack_df['elev_invst'].cumsum()\n"
     ]
    },
    {
     "name": "stdout",
     "output_type": "stream",
     "text": [
      "Calculate objective values for policy:\n",
      "Sort by lmi\n",
      "With Budget of $M 8000000.0\n"
     ]
    },
    {
     "name": "stderr",
     "output_type": "stream",
     "text": [
      "/tmp/ipykernel_1041572/369906587.py:94: SettingWithCopyWarning: \n",
      "A value is trying to be set on a copy of a slice from a DataFrame.\n",
      "Try using .loc[row_indexer,col_indexer] = value instead\n",
      "\n",
      "See the caveats in the documentation: https://pandas.pydata.org/pandas-docs/stable/user_guide/indexing.html#returning-a-view-versus-a-copy\n",
      "  pri_df['policy_cost'] = pri_df['elev_invst'].cumsum()\n",
      "/tmp/ipykernel_1041572/369906587.py:95: SettingWithCopyWarning: \n",
      "A value is trying to be set on a copy of a slice from a DataFrame.\n",
      "Try using .loc[row_indexer,col_indexer] = value instead\n",
      "\n",
      "See the caveats in the documentation: https://pandas.pydata.org/pandas-docs/stable/user_guide/indexing.html#returning-a-view-versus-a-copy\n",
      "  slack_df['policy_cost'] = slack_df['elev_invst'].cumsum()\n"
     ]
    },
    {
     "name": "stdout",
     "output_type": "stream",
     "text": [
      "Calculate objective values for policy:\n",
      "Sort by ovb\n",
      "With Budget of $M 8000000.0\n"
     ]
    },
    {
     "name": "stderr",
     "output_type": "stream",
     "text": [
      "/tmp/ipykernel_1041572/369906587.py:94: SettingWithCopyWarning: \n",
      "A value is trying to be set on a copy of a slice from a DataFrame.\n",
      "Try using .loc[row_indexer,col_indexer] = value instead\n",
      "\n",
      "See the caveats in the documentation: https://pandas.pydata.org/pandas-docs/stable/user_guide/indexing.html#returning-a-view-versus-a-copy\n",
      "  pri_df['policy_cost'] = pri_df['elev_invst'].cumsum()\n",
      "/tmp/ipykernel_1041572/369906587.py:95: SettingWithCopyWarning: \n",
      "A value is trying to be set on a copy of a slice from a DataFrame.\n",
      "Try using .loc[row_indexer,col_indexer] = value instead\n",
      "\n",
      "See the caveats in the documentation: https://pandas.pydata.org/pandas-docs/stable/user_guide/indexing.html#returning-a-view-versus-a-copy\n",
      "  slack_df['policy_cost'] = slack_df['elev_invst'].cumsum()\n",
      "/tmp/ipykernel_1041572/369906587.py:107: SettingWithCopyWarning: \n",
      "A value is trying to be set on a copy of a slice from a DataFrame.\n",
      "Try using .loc[row_indexer,col_indexer] = value instead\n",
      "\n",
      "See the caveats in the documentation: https://pandas.pydata.org/pandas-docs/stable/user_guide/indexing.html#returning-a-view-versus-a-copy\n",
      "  slack_elev['npv_check'] = slack_elev['npv_opt'].cumsum()\n"
     ]
    },
    {
     "name": "stdout",
     "output_type": "stream",
     "text": [
      "Calculate objective values for policy:\n",
      "Sort by cejst\n",
      "With Budget of $M 8000000.0\n",
      "Calculate objective values for policy:\n",
      "Sort by npv_opt\n",
      "With Budget of $M 9000000.0\n",
      "Calculate objective values for policy:\n",
      "Sort by avoid_rel_eal\n",
      "With Budget of $M 9000000.0\n",
      "Calculate objective values for policy:\n",
      "Sort by rel_eal\n",
      "With Budget of $M 9000000.0\n"
     ]
    },
    {
     "name": "stderr",
     "output_type": "stream",
     "text": [
      "/tmp/ipykernel_1041572/369906587.py:94: SettingWithCopyWarning: \n",
      "A value is trying to be set on a copy of a slice from a DataFrame.\n",
      "Try using .loc[row_indexer,col_indexer] = value instead\n",
      "\n",
      "See the caveats in the documentation: https://pandas.pydata.org/pandas-docs/stable/user_guide/indexing.html#returning-a-view-versus-a-copy\n",
      "  pri_df['policy_cost'] = pri_df['elev_invst'].cumsum()\n",
      "/tmp/ipykernel_1041572/369906587.py:95: SettingWithCopyWarning: \n",
      "A value is trying to be set on a copy of a slice from a DataFrame.\n",
      "Try using .loc[row_indexer,col_indexer] = value instead\n",
      "\n",
      "See the caveats in the documentation: https://pandas.pydata.org/pandas-docs/stable/user_guide/indexing.html#returning-a-view-versus-a-copy\n",
      "  slack_df['policy_cost'] = slack_df['elev_invst'].cumsum()\n"
     ]
    },
    {
     "name": "stdout",
     "output_type": "stream",
     "text": [
      "Calculate objective values for policy:\n",
      "Sort by lmi\n",
      "With Budget of $M 9000000.0\n"
     ]
    },
    {
     "name": "stderr",
     "output_type": "stream",
     "text": [
      "/tmp/ipykernel_1041572/369906587.py:94: SettingWithCopyWarning: \n",
      "A value is trying to be set on a copy of a slice from a DataFrame.\n",
      "Try using .loc[row_indexer,col_indexer] = value instead\n",
      "\n",
      "See the caveats in the documentation: https://pandas.pydata.org/pandas-docs/stable/user_guide/indexing.html#returning-a-view-versus-a-copy\n",
      "  pri_df['policy_cost'] = pri_df['elev_invst'].cumsum()\n",
      "/tmp/ipykernel_1041572/369906587.py:95: SettingWithCopyWarning: \n",
      "A value is trying to be set on a copy of a slice from a DataFrame.\n",
      "Try using .loc[row_indexer,col_indexer] = value instead\n",
      "\n",
      "See the caveats in the documentation: https://pandas.pydata.org/pandas-docs/stable/user_guide/indexing.html#returning-a-view-versus-a-copy\n",
      "  slack_df['policy_cost'] = slack_df['elev_invst'].cumsum()\n"
     ]
    },
    {
     "name": "stdout",
     "output_type": "stream",
     "text": [
      "Calculate objective values for policy:\n",
      "Sort by ovb\n",
      "With Budget of $M 9000000.0\n"
     ]
    },
    {
     "name": "stderr",
     "output_type": "stream",
     "text": [
      "/tmp/ipykernel_1041572/369906587.py:94: SettingWithCopyWarning: \n",
      "A value is trying to be set on a copy of a slice from a DataFrame.\n",
      "Try using .loc[row_indexer,col_indexer] = value instead\n",
      "\n",
      "See the caveats in the documentation: https://pandas.pydata.org/pandas-docs/stable/user_guide/indexing.html#returning-a-view-versus-a-copy\n",
      "  pri_df['policy_cost'] = pri_df['elev_invst'].cumsum()\n",
      "/tmp/ipykernel_1041572/369906587.py:95: SettingWithCopyWarning: \n",
      "A value is trying to be set on a copy of a slice from a DataFrame.\n",
      "Try using .loc[row_indexer,col_indexer] = value instead\n",
      "\n",
      "See the caveats in the documentation: https://pandas.pydata.org/pandas-docs/stable/user_guide/indexing.html#returning-a-view-versus-a-copy\n",
      "  slack_df['policy_cost'] = slack_df['elev_invst'].cumsum()\n",
      "/tmp/ipykernel_1041572/369906587.py:107: SettingWithCopyWarning: \n",
      "A value is trying to be set on a copy of a slice from a DataFrame.\n",
      "Try using .loc[row_indexer,col_indexer] = value instead\n",
      "\n",
      "See the caveats in the documentation: https://pandas.pydata.org/pandas-docs/stable/user_guide/indexing.html#returning-a-view-versus-a-copy\n",
      "  slack_elev['npv_check'] = slack_elev['npv_opt'].cumsum()\n"
     ]
    },
    {
     "name": "stdout",
     "output_type": "stream",
     "text": [
      "Calculate objective values for policy:\n",
      "Sort by cejst\n",
      "With Budget of $M 9000000.0\n",
      "Calculate objective values for policy:\n",
      "Sort by npv_opt\n",
      "With Budget of $M 10000000.0\n",
      "Calculate objective values for policy:\n",
      "Sort by avoid_rel_eal\n",
      "With Budget of $M 10000000.0\n",
      "Calculate objective values for policy:\n",
      "Sort by rel_eal\n",
      "With Budget of $M 10000000.0\n"
     ]
    },
    {
     "name": "stderr",
     "output_type": "stream",
     "text": [
      "/tmp/ipykernel_1041572/369906587.py:94: SettingWithCopyWarning: \n",
      "A value is trying to be set on a copy of a slice from a DataFrame.\n",
      "Try using .loc[row_indexer,col_indexer] = value instead\n",
      "\n",
      "See the caveats in the documentation: https://pandas.pydata.org/pandas-docs/stable/user_guide/indexing.html#returning-a-view-versus-a-copy\n",
      "  pri_df['policy_cost'] = pri_df['elev_invst'].cumsum()\n",
      "/tmp/ipykernel_1041572/369906587.py:95: SettingWithCopyWarning: \n",
      "A value is trying to be set on a copy of a slice from a DataFrame.\n",
      "Try using .loc[row_indexer,col_indexer] = value instead\n",
      "\n",
      "See the caveats in the documentation: https://pandas.pydata.org/pandas-docs/stable/user_guide/indexing.html#returning-a-view-versus-a-copy\n",
      "  slack_df['policy_cost'] = slack_df['elev_invst'].cumsum()\n"
     ]
    },
    {
     "name": "stdout",
     "output_type": "stream",
     "text": [
      "Calculate objective values for policy:\n",
      "Sort by lmi\n",
      "With Budget of $M 10000000.0\n"
     ]
    },
    {
     "name": "stderr",
     "output_type": "stream",
     "text": [
      "/tmp/ipykernel_1041572/369906587.py:94: SettingWithCopyWarning: \n",
      "A value is trying to be set on a copy of a slice from a DataFrame.\n",
      "Try using .loc[row_indexer,col_indexer] = value instead\n",
      "\n",
      "See the caveats in the documentation: https://pandas.pydata.org/pandas-docs/stable/user_guide/indexing.html#returning-a-view-versus-a-copy\n",
      "  pri_df['policy_cost'] = pri_df['elev_invst'].cumsum()\n",
      "/tmp/ipykernel_1041572/369906587.py:95: SettingWithCopyWarning: \n",
      "A value is trying to be set on a copy of a slice from a DataFrame.\n",
      "Try using .loc[row_indexer,col_indexer] = value instead\n",
      "\n",
      "See the caveats in the documentation: https://pandas.pydata.org/pandas-docs/stable/user_guide/indexing.html#returning-a-view-versus-a-copy\n",
      "  slack_df['policy_cost'] = slack_df['elev_invst'].cumsum()\n"
     ]
    },
    {
     "name": "stdout",
     "output_type": "stream",
     "text": [
      "Calculate objective values for policy:\n",
      "Sort by ovb\n",
      "With Budget of $M 10000000.0\n"
     ]
    },
    {
     "name": "stderr",
     "output_type": "stream",
     "text": [
      "/tmp/ipykernel_1041572/369906587.py:94: SettingWithCopyWarning: \n",
      "A value is trying to be set on a copy of a slice from a DataFrame.\n",
      "Try using .loc[row_indexer,col_indexer] = value instead\n",
      "\n",
      "See the caveats in the documentation: https://pandas.pydata.org/pandas-docs/stable/user_guide/indexing.html#returning-a-view-versus-a-copy\n",
      "  pri_df['policy_cost'] = pri_df['elev_invst'].cumsum()\n",
      "/tmp/ipykernel_1041572/369906587.py:95: SettingWithCopyWarning: \n",
      "A value is trying to be set on a copy of a slice from a DataFrame.\n",
      "Try using .loc[row_indexer,col_indexer] = value instead\n",
      "\n",
      "See the caveats in the documentation: https://pandas.pydata.org/pandas-docs/stable/user_guide/indexing.html#returning-a-view-versus-a-copy\n",
      "  slack_df['policy_cost'] = slack_df['elev_invst'].cumsum()\n",
      "/tmp/ipykernel_1041572/369906587.py:107: SettingWithCopyWarning: \n",
      "A value is trying to be set on a copy of a slice from a DataFrame.\n",
      "Try using .loc[row_indexer,col_indexer] = value instead\n",
      "\n",
      "See the caveats in the documentation: https://pandas.pydata.org/pandas-docs/stable/user_guide/indexing.html#returning-a-view-versus-a-copy\n",
      "  slack_elev['npv_check'] = slack_elev['npv_opt'].cumsum()\n"
     ]
    },
    {
     "name": "stdout",
     "output_type": "stream",
     "text": [
      "Calculate objective values for policy:\n",
      "Sort by cejst\n",
      "With Budget of $M 10000000.0\n",
      "Calculate objective values for policy:\n",
      "Sort by npv_opt\n",
      "With Budget of $M 11000000.0\n",
      "Calculate objective values for policy:\n",
      "Sort by avoid_rel_eal\n",
      "With Budget of $M 11000000.0\n",
      "Calculate objective values for policy:\n",
      "Sort by rel_eal\n",
      "With Budget of $M 11000000.0\n"
     ]
    },
    {
     "name": "stderr",
     "output_type": "stream",
     "text": [
      "/tmp/ipykernel_1041572/369906587.py:94: SettingWithCopyWarning: \n",
      "A value is trying to be set on a copy of a slice from a DataFrame.\n",
      "Try using .loc[row_indexer,col_indexer] = value instead\n",
      "\n",
      "See the caveats in the documentation: https://pandas.pydata.org/pandas-docs/stable/user_guide/indexing.html#returning-a-view-versus-a-copy\n",
      "  pri_df['policy_cost'] = pri_df['elev_invst'].cumsum()\n",
      "/tmp/ipykernel_1041572/369906587.py:95: SettingWithCopyWarning: \n",
      "A value is trying to be set on a copy of a slice from a DataFrame.\n",
      "Try using .loc[row_indexer,col_indexer] = value instead\n",
      "\n",
      "See the caveats in the documentation: https://pandas.pydata.org/pandas-docs/stable/user_guide/indexing.html#returning-a-view-versus-a-copy\n",
      "  slack_df['policy_cost'] = slack_df['elev_invst'].cumsum()\n"
     ]
    },
    {
     "name": "stdout",
     "output_type": "stream",
     "text": [
      "Calculate objective values for policy:\n",
      "Sort by lmi\n",
      "With Budget of $M 11000000.0\n"
     ]
    },
    {
     "name": "stderr",
     "output_type": "stream",
     "text": [
      "/tmp/ipykernel_1041572/369906587.py:94: SettingWithCopyWarning: \n",
      "A value is trying to be set on a copy of a slice from a DataFrame.\n",
      "Try using .loc[row_indexer,col_indexer] = value instead\n",
      "\n",
      "See the caveats in the documentation: https://pandas.pydata.org/pandas-docs/stable/user_guide/indexing.html#returning-a-view-versus-a-copy\n",
      "  pri_df['policy_cost'] = pri_df['elev_invst'].cumsum()\n",
      "/tmp/ipykernel_1041572/369906587.py:95: SettingWithCopyWarning: \n",
      "A value is trying to be set on a copy of a slice from a DataFrame.\n",
      "Try using .loc[row_indexer,col_indexer] = value instead\n",
      "\n",
      "See the caveats in the documentation: https://pandas.pydata.org/pandas-docs/stable/user_guide/indexing.html#returning-a-view-versus-a-copy\n",
      "  slack_df['policy_cost'] = slack_df['elev_invst'].cumsum()\n"
     ]
    },
    {
     "name": "stdout",
     "output_type": "stream",
     "text": [
      "Calculate objective values for policy:\n",
      "Sort by ovb\n",
      "With Budget of $M 11000000.0\n"
     ]
    },
    {
     "name": "stderr",
     "output_type": "stream",
     "text": [
      "/tmp/ipykernel_1041572/369906587.py:94: SettingWithCopyWarning: \n",
      "A value is trying to be set on a copy of a slice from a DataFrame.\n",
      "Try using .loc[row_indexer,col_indexer] = value instead\n",
      "\n",
      "See the caveats in the documentation: https://pandas.pydata.org/pandas-docs/stable/user_guide/indexing.html#returning-a-view-versus-a-copy\n",
      "  pri_df['policy_cost'] = pri_df['elev_invst'].cumsum()\n",
      "/tmp/ipykernel_1041572/369906587.py:95: SettingWithCopyWarning: \n",
      "A value is trying to be set on a copy of a slice from a DataFrame.\n",
      "Try using .loc[row_indexer,col_indexer] = value instead\n",
      "\n",
      "See the caveats in the documentation: https://pandas.pydata.org/pandas-docs/stable/user_guide/indexing.html#returning-a-view-versus-a-copy\n",
      "  slack_df['policy_cost'] = slack_df['elev_invst'].cumsum()\n",
      "/tmp/ipykernel_1041572/369906587.py:107: SettingWithCopyWarning: \n",
      "A value is trying to be set on a copy of a slice from a DataFrame.\n",
      "Try using .loc[row_indexer,col_indexer] = value instead\n",
      "\n",
      "See the caveats in the documentation: https://pandas.pydata.org/pandas-docs/stable/user_guide/indexing.html#returning-a-view-versus-a-copy\n",
      "  slack_elev['npv_check'] = slack_elev['npv_opt'].cumsum()\n"
     ]
    },
    {
     "name": "stdout",
     "output_type": "stream",
     "text": [
      "Calculate objective values for policy:\n",
      "Sort by cejst\n",
      "With Budget of $M 11000000.0\n",
      "Calculate objective values for policy:\n",
      "Sort by npv_opt\n",
      "With Budget of $M 12000000.0\n",
      "Calculate objective values for policy:\n",
      "Sort by avoid_rel_eal\n",
      "With Budget of $M 12000000.0\n",
      "Calculate objective values for policy:\n",
      "Sort by rel_eal\n",
      "With Budget of $M 12000000.0\n"
     ]
    },
    {
     "name": "stderr",
     "output_type": "stream",
     "text": [
      "/tmp/ipykernel_1041572/369906587.py:94: SettingWithCopyWarning: \n",
      "A value is trying to be set on a copy of a slice from a DataFrame.\n",
      "Try using .loc[row_indexer,col_indexer] = value instead\n",
      "\n",
      "See the caveats in the documentation: https://pandas.pydata.org/pandas-docs/stable/user_guide/indexing.html#returning-a-view-versus-a-copy\n",
      "  pri_df['policy_cost'] = pri_df['elev_invst'].cumsum()\n",
      "/tmp/ipykernel_1041572/369906587.py:95: SettingWithCopyWarning: \n",
      "A value is trying to be set on a copy of a slice from a DataFrame.\n",
      "Try using .loc[row_indexer,col_indexer] = value instead\n",
      "\n",
      "See the caveats in the documentation: https://pandas.pydata.org/pandas-docs/stable/user_guide/indexing.html#returning-a-view-versus-a-copy\n",
      "  slack_df['policy_cost'] = slack_df['elev_invst'].cumsum()\n"
     ]
    },
    {
     "name": "stdout",
     "output_type": "stream",
     "text": [
      "Calculate objective values for policy:\n",
      "Sort by lmi\n",
      "With Budget of $M 12000000.0\n"
     ]
    },
    {
     "name": "stderr",
     "output_type": "stream",
     "text": [
      "/tmp/ipykernel_1041572/369906587.py:94: SettingWithCopyWarning: \n",
      "A value is trying to be set on a copy of a slice from a DataFrame.\n",
      "Try using .loc[row_indexer,col_indexer] = value instead\n",
      "\n",
      "See the caveats in the documentation: https://pandas.pydata.org/pandas-docs/stable/user_guide/indexing.html#returning-a-view-versus-a-copy\n",
      "  pri_df['policy_cost'] = pri_df['elev_invst'].cumsum()\n",
      "/tmp/ipykernel_1041572/369906587.py:95: SettingWithCopyWarning: \n",
      "A value is trying to be set on a copy of a slice from a DataFrame.\n",
      "Try using .loc[row_indexer,col_indexer] = value instead\n",
      "\n",
      "See the caveats in the documentation: https://pandas.pydata.org/pandas-docs/stable/user_guide/indexing.html#returning-a-view-versus-a-copy\n",
      "  slack_df['policy_cost'] = slack_df['elev_invst'].cumsum()\n"
     ]
    },
    {
     "name": "stdout",
     "output_type": "stream",
     "text": [
      "Calculate objective values for policy:\n",
      "Sort by ovb\n",
      "With Budget of $M 12000000.0\n"
     ]
    },
    {
     "name": "stderr",
     "output_type": "stream",
     "text": [
      "/tmp/ipykernel_1041572/369906587.py:94: SettingWithCopyWarning: \n",
      "A value is trying to be set on a copy of a slice from a DataFrame.\n",
      "Try using .loc[row_indexer,col_indexer] = value instead\n",
      "\n",
      "See the caveats in the documentation: https://pandas.pydata.org/pandas-docs/stable/user_guide/indexing.html#returning-a-view-versus-a-copy\n",
      "  pri_df['policy_cost'] = pri_df['elev_invst'].cumsum()\n",
      "/tmp/ipykernel_1041572/369906587.py:95: SettingWithCopyWarning: \n",
      "A value is trying to be set on a copy of a slice from a DataFrame.\n",
      "Try using .loc[row_indexer,col_indexer] = value instead\n",
      "\n",
      "See the caveats in the documentation: https://pandas.pydata.org/pandas-docs/stable/user_guide/indexing.html#returning-a-view-versus-a-copy\n",
      "  slack_df['policy_cost'] = slack_df['elev_invst'].cumsum()\n",
      "/tmp/ipykernel_1041572/369906587.py:107: SettingWithCopyWarning: \n",
      "A value is trying to be set on a copy of a slice from a DataFrame.\n",
      "Try using .loc[row_indexer,col_indexer] = value instead\n",
      "\n",
      "See the caveats in the documentation: https://pandas.pydata.org/pandas-docs/stable/user_guide/indexing.html#returning-a-view-versus-a-copy\n",
      "  slack_elev['npv_check'] = slack_elev['npv_opt'].cumsum()\n"
     ]
    },
    {
     "name": "stdout",
     "output_type": "stream",
     "text": [
      "Calculate objective values for policy:\n",
      "Sort by cejst\n",
      "With Budget of $M 12000000.0\n",
      "Calculate objective values for policy:\n",
      "Sort by npv_opt\n",
      "With Budget of $M 13000000.0\n",
      "Calculate objective values for policy:\n",
      "Sort by avoid_rel_eal\n",
      "With Budget of $M 13000000.0\n",
      "Calculate objective values for policy:\n",
      "Sort by rel_eal\n",
      "With Budget of $M 13000000.0\n"
     ]
    },
    {
     "name": "stderr",
     "output_type": "stream",
     "text": [
      "/tmp/ipykernel_1041572/369906587.py:94: SettingWithCopyWarning: \n",
      "A value is trying to be set on a copy of a slice from a DataFrame.\n",
      "Try using .loc[row_indexer,col_indexer] = value instead\n",
      "\n",
      "See the caveats in the documentation: https://pandas.pydata.org/pandas-docs/stable/user_guide/indexing.html#returning-a-view-versus-a-copy\n",
      "  pri_df['policy_cost'] = pri_df['elev_invst'].cumsum()\n",
      "/tmp/ipykernel_1041572/369906587.py:95: SettingWithCopyWarning: \n",
      "A value is trying to be set on a copy of a slice from a DataFrame.\n",
      "Try using .loc[row_indexer,col_indexer] = value instead\n",
      "\n",
      "See the caveats in the documentation: https://pandas.pydata.org/pandas-docs/stable/user_guide/indexing.html#returning-a-view-versus-a-copy\n",
      "  slack_df['policy_cost'] = slack_df['elev_invst'].cumsum()\n"
     ]
    },
    {
     "name": "stdout",
     "output_type": "stream",
     "text": [
      "Calculate objective values for policy:\n",
      "Sort by lmi\n",
      "With Budget of $M 13000000.0\n"
     ]
    },
    {
     "name": "stderr",
     "output_type": "stream",
     "text": [
      "/tmp/ipykernel_1041572/369906587.py:94: SettingWithCopyWarning: \n",
      "A value is trying to be set on a copy of a slice from a DataFrame.\n",
      "Try using .loc[row_indexer,col_indexer] = value instead\n",
      "\n",
      "See the caveats in the documentation: https://pandas.pydata.org/pandas-docs/stable/user_guide/indexing.html#returning-a-view-versus-a-copy\n",
      "  pri_df['policy_cost'] = pri_df['elev_invst'].cumsum()\n",
      "/tmp/ipykernel_1041572/369906587.py:95: SettingWithCopyWarning: \n",
      "A value is trying to be set on a copy of a slice from a DataFrame.\n",
      "Try using .loc[row_indexer,col_indexer] = value instead\n",
      "\n",
      "See the caveats in the documentation: https://pandas.pydata.org/pandas-docs/stable/user_guide/indexing.html#returning-a-view-versus-a-copy\n",
      "  slack_df['policy_cost'] = slack_df['elev_invst'].cumsum()\n"
     ]
    },
    {
     "name": "stdout",
     "output_type": "stream",
     "text": [
      "Calculate objective values for policy:\n",
      "Sort by ovb\n",
      "With Budget of $M 13000000.0\n"
     ]
    },
    {
     "name": "stderr",
     "output_type": "stream",
     "text": [
      "/tmp/ipykernel_1041572/369906587.py:94: SettingWithCopyWarning: \n",
      "A value is trying to be set on a copy of a slice from a DataFrame.\n",
      "Try using .loc[row_indexer,col_indexer] = value instead\n",
      "\n",
      "See the caveats in the documentation: https://pandas.pydata.org/pandas-docs/stable/user_guide/indexing.html#returning-a-view-versus-a-copy\n",
      "  pri_df['policy_cost'] = pri_df['elev_invst'].cumsum()\n",
      "/tmp/ipykernel_1041572/369906587.py:95: SettingWithCopyWarning: \n",
      "A value is trying to be set on a copy of a slice from a DataFrame.\n",
      "Try using .loc[row_indexer,col_indexer] = value instead\n",
      "\n",
      "See the caveats in the documentation: https://pandas.pydata.org/pandas-docs/stable/user_guide/indexing.html#returning-a-view-versus-a-copy\n",
      "  slack_df['policy_cost'] = slack_df['elev_invst'].cumsum()\n",
      "/tmp/ipykernel_1041572/369906587.py:107: SettingWithCopyWarning: \n",
      "A value is trying to be set on a copy of a slice from a DataFrame.\n",
      "Try using .loc[row_indexer,col_indexer] = value instead\n",
      "\n",
      "See the caveats in the documentation: https://pandas.pydata.org/pandas-docs/stable/user_guide/indexing.html#returning-a-view-versus-a-copy\n",
      "  slack_elev['npv_check'] = slack_elev['npv_opt'].cumsum()\n"
     ]
    },
    {
     "name": "stdout",
     "output_type": "stream",
     "text": [
      "Calculate objective values for policy:\n",
      "Sort by cejst\n",
      "With Budget of $M 13000000.0\n",
      "Calculate objective values for policy:\n",
      "Sort by npv_opt\n",
      "With Budget of $M 14000000.0\n",
      "Calculate objective values for policy:\n",
      "Sort by avoid_rel_eal\n",
      "With Budget of $M 14000000.0\n",
      "Calculate objective values for policy:\n",
      "Sort by rel_eal\n",
      "With Budget of $M 14000000.0\n"
     ]
    },
    {
     "name": "stderr",
     "output_type": "stream",
     "text": [
      "/tmp/ipykernel_1041572/369906587.py:94: SettingWithCopyWarning: \n",
      "A value is trying to be set on a copy of a slice from a DataFrame.\n",
      "Try using .loc[row_indexer,col_indexer] = value instead\n",
      "\n",
      "See the caveats in the documentation: https://pandas.pydata.org/pandas-docs/stable/user_guide/indexing.html#returning-a-view-versus-a-copy\n",
      "  pri_df['policy_cost'] = pri_df['elev_invst'].cumsum()\n",
      "/tmp/ipykernel_1041572/369906587.py:95: SettingWithCopyWarning: \n",
      "A value is trying to be set on a copy of a slice from a DataFrame.\n",
      "Try using .loc[row_indexer,col_indexer] = value instead\n",
      "\n",
      "See the caveats in the documentation: https://pandas.pydata.org/pandas-docs/stable/user_guide/indexing.html#returning-a-view-versus-a-copy\n",
      "  slack_df['policy_cost'] = slack_df['elev_invst'].cumsum()\n"
     ]
    },
    {
     "name": "stdout",
     "output_type": "stream",
     "text": [
      "Calculate objective values for policy:\n",
      "Sort by lmi\n",
      "With Budget of $M 14000000.0\n"
     ]
    },
    {
     "name": "stderr",
     "output_type": "stream",
     "text": [
      "/tmp/ipykernel_1041572/369906587.py:94: SettingWithCopyWarning: \n",
      "A value is trying to be set on a copy of a slice from a DataFrame.\n",
      "Try using .loc[row_indexer,col_indexer] = value instead\n",
      "\n",
      "See the caveats in the documentation: https://pandas.pydata.org/pandas-docs/stable/user_guide/indexing.html#returning-a-view-versus-a-copy\n",
      "  pri_df['policy_cost'] = pri_df['elev_invst'].cumsum()\n",
      "/tmp/ipykernel_1041572/369906587.py:95: SettingWithCopyWarning: \n",
      "A value is trying to be set on a copy of a slice from a DataFrame.\n",
      "Try using .loc[row_indexer,col_indexer] = value instead\n",
      "\n",
      "See the caveats in the documentation: https://pandas.pydata.org/pandas-docs/stable/user_guide/indexing.html#returning-a-view-versus-a-copy\n",
      "  slack_df['policy_cost'] = slack_df['elev_invst'].cumsum()\n"
     ]
    },
    {
     "name": "stdout",
     "output_type": "stream",
     "text": [
      "Calculate objective values for policy:\n",
      "Sort by ovb\n",
      "With Budget of $M 14000000.0\n"
     ]
    },
    {
     "name": "stderr",
     "output_type": "stream",
     "text": [
      "/tmp/ipykernel_1041572/369906587.py:94: SettingWithCopyWarning: \n",
      "A value is trying to be set on a copy of a slice from a DataFrame.\n",
      "Try using .loc[row_indexer,col_indexer] = value instead\n",
      "\n",
      "See the caveats in the documentation: https://pandas.pydata.org/pandas-docs/stable/user_guide/indexing.html#returning-a-view-versus-a-copy\n",
      "  pri_df['policy_cost'] = pri_df['elev_invst'].cumsum()\n",
      "/tmp/ipykernel_1041572/369906587.py:95: SettingWithCopyWarning: \n",
      "A value is trying to be set on a copy of a slice from a DataFrame.\n",
      "Try using .loc[row_indexer,col_indexer] = value instead\n",
      "\n",
      "See the caveats in the documentation: https://pandas.pydata.org/pandas-docs/stable/user_guide/indexing.html#returning-a-view-versus-a-copy\n",
      "  slack_df['policy_cost'] = slack_df['elev_invst'].cumsum()\n",
      "/tmp/ipykernel_1041572/369906587.py:107: SettingWithCopyWarning: \n",
      "A value is trying to be set on a copy of a slice from a DataFrame.\n",
      "Try using .loc[row_indexer,col_indexer] = value instead\n",
      "\n",
      "See the caveats in the documentation: https://pandas.pydata.org/pandas-docs/stable/user_guide/indexing.html#returning-a-view-versus-a-copy\n",
      "  slack_elev['npv_check'] = slack_elev['npv_opt'].cumsum()\n"
     ]
    },
    {
     "name": "stdout",
     "output_type": "stream",
     "text": [
      "Calculate objective values for policy:\n",
      "Sort by cejst\n",
      "With Budget of $M 14000000.0\n",
      "Calculate objective values for policy:\n",
      "Sort by npv_opt\n",
      "With Budget of $M 15000000.0\n",
      "Calculate objective values for policy:\n",
      "Sort by avoid_rel_eal\n",
      "With Budget of $M 15000000.0\n",
      "Calculate objective values for policy:\n",
      "Sort by rel_eal\n",
      "With Budget of $M 15000000.0\n"
     ]
    },
    {
     "name": "stderr",
     "output_type": "stream",
     "text": [
      "/tmp/ipykernel_1041572/369906587.py:94: SettingWithCopyWarning: \n",
      "A value is trying to be set on a copy of a slice from a DataFrame.\n",
      "Try using .loc[row_indexer,col_indexer] = value instead\n",
      "\n",
      "See the caveats in the documentation: https://pandas.pydata.org/pandas-docs/stable/user_guide/indexing.html#returning-a-view-versus-a-copy\n",
      "  pri_df['policy_cost'] = pri_df['elev_invst'].cumsum()\n",
      "/tmp/ipykernel_1041572/369906587.py:95: SettingWithCopyWarning: \n",
      "A value is trying to be set on a copy of a slice from a DataFrame.\n",
      "Try using .loc[row_indexer,col_indexer] = value instead\n",
      "\n",
      "See the caveats in the documentation: https://pandas.pydata.org/pandas-docs/stable/user_guide/indexing.html#returning-a-view-versus-a-copy\n",
      "  slack_df['policy_cost'] = slack_df['elev_invst'].cumsum()\n",
      "/tmp/ipykernel_1041572/369906587.py:107: SettingWithCopyWarning: \n",
      "A value is trying to be set on a copy of a slice from a DataFrame.\n",
      "Try using .loc[row_indexer,col_indexer] = value instead\n",
      "\n",
      "See the caveats in the documentation: https://pandas.pydata.org/pandas-docs/stable/user_guide/indexing.html#returning-a-view-versus-a-copy\n",
      "  slack_elev['npv_check'] = slack_elev['npv_opt'].cumsum()\n"
     ]
    },
    {
     "name": "stdout",
     "output_type": "stream",
     "text": [
      "Calculate objective values for policy:\n",
      "Sort by lmi\n",
      "With Budget of $M 15000000.0\n"
     ]
    },
    {
     "name": "stderr",
     "output_type": "stream",
     "text": [
      "/tmp/ipykernel_1041572/369906587.py:94: SettingWithCopyWarning: \n",
      "A value is trying to be set on a copy of a slice from a DataFrame.\n",
      "Try using .loc[row_indexer,col_indexer] = value instead\n",
      "\n",
      "See the caveats in the documentation: https://pandas.pydata.org/pandas-docs/stable/user_guide/indexing.html#returning-a-view-versus-a-copy\n",
      "  pri_df['policy_cost'] = pri_df['elev_invst'].cumsum()\n",
      "/tmp/ipykernel_1041572/369906587.py:95: SettingWithCopyWarning: \n",
      "A value is trying to be set on a copy of a slice from a DataFrame.\n",
      "Try using .loc[row_indexer,col_indexer] = value instead\n",
      "\n",
      "See the caveats in the documentation: https://pandas.pydata.org/pandas-docs/stable/user_guide/indexing.html#returning-a-view-versus-a-copy\n",
      "  slack_df['policy_cost'] = slack_df['elev_invst'].cumsum()\n"
     ]
    },
    {
     "name": "stdout",
     "output_type": "stream",
     "text": [
      "Calculate objective values for policy:\n",
      "Sort by ovb\n",
      "With Budget of $M 15000000.0\n"
     ]
    },
    {
     "name": "stderr",
     "output_type": "stream",
     "text": [
      "/tmp/ipykernel_1041572/369906587.py:94: SettingWithCopyWarning: \n",
      "A value is trying to be set on a copy of a slice from a DataFrame.\n",
      "Try using .loc[row_indexer,col_indexer] = value instead\n",
      "\n",
      "See the caveats in the documentation: https://pandas.pydata.org/pandas-docs/stable/user_guide/indexing.html#returning-a-view-versus-a-copy\n",
      "  pri_df['policy_cost'] = pri_df['elev_invst'].cumsum()\n",
      "/tmp/ipykernel_1041572/369906587.py:95: SettingWithCopyWarning: \n",
      "A value is trying to be set on a copy of a slice from a DataFrame.\n",
      "Try using .loc[row_indexer,col_indexer] = value instead\n",
      "\n",
      "See the caveats in the documentation: https://pandas.pydata.org/pandas-docs/stable/user_guide/indexing.html#returning-a-view-versus-a-copy\n",
      "  slack_df['policy_cost'] = slack_df['elev_invst'].cumsum()\n",
      "/tmp/ipykernel_1041572/369906587.py:107: SettingWithCopyWarning: \n",
      "A value is trying to be set on a copy of a slice from a DataFrame.\n",
      "Try using .loc[row_indexer,col_indexer] = value instead\n",
      "\n",
      "See the caveats in the documentation: https://pandas.pydata.org/pandas-docs/stable/user_guide/indexing.html#returning-a-view-versus-a-copy\n",
      "  slack_elev['npv_check'] = slack_elev['npv_opt'].cumsum()\n"
     ]
    },
    {
     "name": "stdout",
     "output_type": "stream",
     "text": [
      "Calculate objective values for policy:\n",
      "Sort by cejst\n",
      "With Budget of $M 15000000.0\n",
      "Scenario: Upper_naccs\n",
      "Calculate objective values for policy:\n",
      "Sort by npv_opt\n",
      "With Budget of $M 1000000.0\n",
      "Calculate objective values for policy:\n",
      "Sort by avoid_rel_eal\n",
      "With Budget of $M 1000000.0\n",
      "Calculate objective values for policy:\n",
      "Sort by rel_eal\n",
      "With Budget of $M 1000000.0\n"
     ]
    },
    {
     "name": "stderr",
     "output_type": "stream",
     "text": [
      "/tmp/ipykernel_1041572/369906587.py:94: SettingWithCopyWarning: \n",
      "A value is trying to be set on a copy of a slice from a DataFrame.\n",
      "Try using .loc[row_indexer,col_indexer] = value instead\n",
      "\n",
      "See the caveats in the documentation: https://pandas.pydata.org/pandas-docs/stable/user_guide/indexing.html#returning-a-view-versus-a-copy\n",
      "  pri_df['policy_cost'] = pri_df['elev_invst'].cumsum()\n",
      "/tmp/ipykernel_1041572/369906587.py:95: SettingWithCopyWarning: \n",
      "A value is trying to be set on a copy of a slice from a DataFrame.\n",
      "Try using .loc[row_indexer,col_indexer] = value instead\n",
      "\n",
      "See the caveats in the documentation: https://pandas.pydata.org/pandas-docs/stable/user_guide/indexing.html#returning-a-view-versus-a-copy\n",
      "  slack_df['policy_cost'] = slack_df['elev_invst'].cumsum()\n"
     ]
    },
    {
     "name": "stdout",
     "output_type": "stream",
     "text": [
      "Calculate objective values for policy:\n",
      "Sort by lmi\n",
      "With Budget of $M 1000000.0\n"
     ]
    },
    {
     "name": "stderr",
     "output_type": "stream",
     "text": [
      "/tmp/ipykernel_1041572/369906587.py:94: SettingWithCopyWarning: \n",
      "A value is trying to be set on a copy of a slice from a DataFrame.\n",
      "Try using .loc[row_indexer,col_indexer] = value instead\n",
      "\n",
      "See the caveats in the documentation: https://pandas.pydata.org/pandas-docs/stable/user_guide/indexing.html#returning-a-view-versus-a-copy\n",
      "  pri_df['policy_cost'] = pri_df['elev_invst'].cumsum()\n",
      "/tmp/ipykernel_1041572/369906587.py:95: SettingWithCopyWarning: \n",
      "A value is trying to be set on a copy of a slice from a DataFrame.\n",
      "Try using .loc[row_indexer,col_indexer] = value instead\n",
      "\n",
      "See the caveats in the documentation: https://pandas.pydata.org/pandas-docs/stable/user_guide/indexing.html#returning-a-view-versus-a-copy\n",
      "  slack_df['policy_cost'] = slack_df['elev_invst'].cumsum()\n"
     ]
    },
    {
     "name": "stdout",
     "output_type": "stream",
     "text": [
      "Calculate objective values for policy:\n",
      "Sort by ovb\n",
      "With Budget of $M 1000000.0\n"
     ]
    },
    {
     "name": "stderr",
     "output_type": "stream",
     "text": [
      "/tmp/ipykernel_1041572/369906587.py:94: SettingWithCopyWarning: \n",
      "A value is trying to be set on a copy of a slice from a DataFrame.\n",
      "Try using .loc[row_indexer,col_indexer] = value instead\n",
      "\n",
      "See the caveats in the documentation: https://pandas.pydata.org/pandas-docs/stable/user_guide/indexing.html#returning-a-view-versus-a-copy\n",
      "  pri_df['policy_cost'] = pri_df['elev_invst'].cumsum()\n",
      "/tmp/ipykernel_1041572/369906587.py:95: SettingWithCopyWarning: \n",
      "A value is trying to be set on a copy of a slice from a DataFrame.\n",
      "Try using .loc[row_indexer,col_indexer] = value instead\n",
      "\n",
      "See the caveats in the documentation: https://pandas.pydata.org/pandas-docs/stable/user_guide/indexing.html#returning-a-view-versus-a-copy\n",
      "  slack_df['policy_cost'] = slack_df['elev_invst'].cumsum()\n"
     ]
    },
    {
     "name": "stdout",
     "output_type": "stream",
     "text": [
      "Calculate objective values for policy:\n",
      "Sort by cejst\n",
      "With Budget of $M 1000000.0\n",
      "Calculate objective values for policy:\n",
      "Sort by npv_opt\n",
      "With Budget of $M 1500000.0\n",
      "Calculate objective values for policy:\n",
      "Sort by avoid_rel_eal\n",
      "With Budget of $M 1500000.0\n",
      "Calculate objective values for policy:\n",
      "Sort by rel_eal\n",
      "With Budget of $M 1500000.0\n"
     ]
    },
    {
     "name": "stderr",
     "output_type": "stream",
     "text": [
      "/tmp/ipykernel_1041572/369906587.py:94: SettingWithCopyWarning: \n",
      "A value is trying to be set on a copy of a slice from a DataFrame.\n",
      "Try using .loc[row_indexer,col_indexer] = value instead\n",
      "\n",
      "See the caveats in the documentation: https://pandas.pydata.org/pandas-docs/stable/user_guide/indexing.html#returning-a-view-versus-a-copy\n",
      "  pri_df['policy_cost'] = pri_df['elev_invst'].cumsum()\n",
      "/tmp/ipykernel_1041572/369906587.py:95: SettingWithCopyWarning: \n",
      "A value is trying to be set on a copy of a slice from a DataFrame.\n",
      "Try using .loc[row_indexer,col_indexer] = value instead\n",
      "\n",
      "See the caveats in the documentation: https://pandas.pydata.org/pandas-docs/stable/user_guide/indexing.html#returning-a-view-versus-a-copy\n",
      "  slack_df['policy_cost'] = slack_df['elev_invst'].cumsum()\n"
     ]
    },
    {
     "name": "stdout",
     "output_type": "stream",
     "text": [
      "Calculate objective values for policy:\n",
      "Sort by lmi\n",
      "With Budget of $M 1500000.0\n"
     ]
    },
    {
     "name": "stderr",
     "output_type": "stream",
     "text": [
      "/tmp/ipykernel_1041572/369906587.py:94: SettingWithCopyWarning: \n",
      "A value is trying to be set on a copy of a slice from a DataFrame.\n",
      "Try using .loc[row_indexer,col_indexer] = value instead\n",
      "\n",
      "See the caveats in the documentation: https://pandas.pydata.org/pandas-docs/stable/user_guide/indexing.html#returning-a-view-versus-a-copy\n",
      "  pri_df['policy_cost'] = pri_df['elev_invst'].cumsum()\n",
      "/tmp/ipykernel_1041572/369906587.py:95: SettingWithCopyWarning: \n",
      "A value is trying to be set on a copy of a slice from a DataFrame.\n",
      "Try using .loc[row_indexer,col_indexer] = value instead\n",
      "\n",
      "See the caveats in the documentation: https://pandas.pydata.org/pandas-docs/stable/user_guide/indexing.html#returning-a-view-versus-a-copy\n",
      "  slack_df['policy_cost'] = slack_df['elev_invst'].cumsum()\n"
     ]
    },
    {
     "name": "stdout",
     "output_type": "stream",
     "text": [
      "Calculate objective values for policy:\n",
      "Sort by ovb\n",
      "With Budget of $M 1500000.0\n"
     ]
    },
    {
     "name": "stderr",
     "output_type": "stream",
     "text": [
      "/tmp/ipykernel_1041572/369906587.py:94: SettingWithCopyWarning: \n",
      "A value is trying to be set on a copy of a slice from a DataFrame.\n",
      "Try using .loc[row_indexer,col_indexer] = value instead\n",
      "\n",
      "See the caveats in the documentation: https://pandas.pydata.org/pandas-docs/stable/user_guide/indexing.html#returning-a-view-versus-a-copy\n",
      "  pri_df['policy_cost'] = pri_df['elev_invst'].cumsum()\n",
      "/tmp/ipykernel_1041572/369906587.py:95: SettingWithCopyWarning: \n",
      "A value is trying to be set on a copy of a slice from a DataFrame.\n",
      "Try using .loc[row_indexer,col_indexer] = value instead\n",
      "\n",
      "See the caveats in the documentation: https://pandas.pydata.org/pandas-docs/stable/user_guide/indexing.html#returning-a-view-versus-a-copy\n",
      "  slack_df['policy_cost'] = slack_df['elev_invst'].cumsum()\n"
     ]
    },
    {
     "name": "stdout",
     "output_type": "stream",
     "text": [
      "Calculate objective values for policy:\n",
      "Sort by cejst\n",
      "With Budget of $M 1500000.0\n",
      "Calculate objective values for policy:\n",
      "Sort by npv_opt\n",
      "With Budget of $M 2000000.0\n",
      "Calculate objective values for policy:\n",
      "Sort by avoid_rel_eal\n",
      "With Budget of $M 2000000.0\n",
      "Calculate objective values for policy:\n",
      "Sort by rel_eal\n",
      "With Budget of $M 2000000.0\n"
     ]
    },
    {
     "name": "stderr",
     "output_type": "stream",
     "text": [
      "/tmp/ipykernel_1041572/369906587.py:94: SettingWithCopyWarning: \n",
      "A value is trying to be set on a copy of a slice from a DataFrame.\n",
      "Try using .loc[row_indexer,col_indexer] = value instead\n",
      "\n",
      "See the caveats in the documentation: https://pandas.pydata.org/pandas-docs/stable/user_guide/indexing.html#returning-a-view-versus-a-copy\n",
      "  pri_df['policy_cost'] = pri_df['elev_invst'].cumsum()\n",
      "/tmp/ipykernel_1041572/369906587.py:95: SettingWithCopyWarning: \n",
      "A value is trying to be set on a copy of a slice from a DataFrame.\n",
      "Try using .loc[row_indexer,col_indexer] = value instead\n",
      "\n",
      "See the caveats in the documentation: https://pandas.pydata.org/pandas-docs/stable/user_guide/indexing.html#returning-a-view-versus-a-copy\n",
      "  slack_df['policy_cost'] = slack_df['elev_invst'].cumsum()\n"
     ]
    },
    {
     "name": "stdout",
     "output_type": "stream",
     "text": [
      "Calculate objective values for policy:\n",
      "Sort by lmi\n",
      "With Budget of $M 2000000.0\n"
     ]
    },
    {
     "name": "stderr",
     "output_type": "stream",
     "text": [
      "/tmp/ipykernel_1041572/369906587.py:94: SettingWithCopyWarning: \n",
      "A value is trying to be set on a copy of a slice from a DataFrame.\n",
      "Try using .loc[row_indexer,col_indexer] = value instead\n",
      "\n",
      "See the caveats in the documentation: https://pandas.pydata.org/pandas-docs/stable/user_guide/indexing.html#returning-a-view-versus-a-copy\n",
      "  pri_df['policy_cost'] = pri_df['elev_invst'].cumsum()\n",
      "/tmp/ipykernel_1041572/369906587.py:95: SettingWithCopyWarning: \n",
      "A value is trying to be set on a copy of a slice from a DataFrame.\n",
      "Try using .loc[row_indexer,col_indexer] = value instead\n",
      "\n",
      "See the caveats in the documentation: https://pandas.pydata.org/pandas-docs/stable/user_guide/indexing.html#returning-a-view-versus-a-copy\n",
      "  slack_df['policy_cost'] = slack_df['elev_invst'].cumsum()\n"
     ]
    },
    {
     "name": "stdout",
     "output_type": "stream",
     "text": [
      "Calculate objective values for policy:\n",
      "Sort by ovb\n",
      "With Budget of $M 2000000.0\n"
     ]
    },
    {
     "name": "stderr",
     "output_type": "stream",
     "text": [
      "/tmp/ipykernel_1041572/369906587.py:94: SettingWithCopyWarning: \n",
      "A value is trying to be set on a copy of a slice from a DataFrame.\n",
      "Try using .loc[row_indexer,col_indexer] = value instead\n",
      "\n",
      "See the caveats in the documentation: https://pandas.pydata.org/pandas-docs/stable/user_guide/indexing.html#returning-a-view-versus-a-copy\n",
      "  pri_df['policy_cost'] = pri_df['elev_invst'].cumsum()\n",
      "/tmp/ipykernel_1041572/369906587.py:95: SettingWithCopyWarning: \n",
      "A value is trying to be set on a copy of a slice from a DataFrame.\n",
      "Try using .loc[row_indexer,col_indexer] = value instead\n",
      "\n",
      "See the caveats in the documentation: https://pandas.pydata.org/pandas-docs/stable/user_guide/indexing.html#returning-a-view-versus-a-copy\n",
      "  slack_df['policy_cost'] = slack_df['elev_invst'].cumsum()\n"
     ]
    },
    {
     "name": "stdout",
     "output_type": "stream",
     "text": [
      "Calculate objective values for policy:\n",
      "Sort by cejst\n",
      "With Budget of $M 2000000.0\n",
      "Calculate objective values for policy:\n",
      "Sort by npv_opt\n",
      "With Budget of $M 2500000.0\n",
      "Calculate objective values for policy:\n",
      "Sort by avoid_rel_eal\n",
      "With Budget of $M 2500000.0\n",
      "Calculate objective values for policy:\n",
      "Sort by rel_eal\n",
      "With Budget of $M 2500000.0\n"
     ]
    },
    {
     "name": "stderr",
     "output_type": "stream",
     "text": [
      "/tmp/ipykernel_1041572/369906587.py:94: SettingWithCopyWarning: \n",
      "A value is trying to be set on a copy of a slice from a DataFrame.\n",
      "Try using .loc[row_indexer,col_indexer] = value instead\n",
      "\n",
      "See the caveats in the documentation: https://pandas.pydata.org/pandas-docs/stable/user_guide/indexing.html#returning-a-view-versus-a-copy\n",
      "  pri_df['policy_cost'] = pri_df['elev_invst'].cumsum()\n",
      "/tmp/ipykernel_1041572/369906587.py:95: SettingWithCopyWarning: \n",
      "A value is trying to be set on a copy of a slice from a DataFrame.\n",
      "Try using .loc[row_indexer,col_indexer] = value instead\n",
      "\n",
      "See the caveats in the documentation: https://pandas.pydata.org/pandas-docs/stable/user_guide/indexing.html#returning-a-view-versus-a-copy\n",
      "  slack_df['policy_cost'] = slack_df['elev_invst'].cumsum()\n"
     ]
    },
    {
     "name": "stdout",
     "output_type": "stream",
     "text": [
      "Calculate objective values for policy:\n",
      "Sort by lmi\n",
      "With Budget of $M 2500000.0\n"
     ]
    },
    {
     "name": "stderr",
     "output_type": "stream",
     "text": [
      "/tmp/ipykernel_1041572/369906587.py:94: SettingWithCopyWarning: \n",
      "A value is trying to be set on a copy of a slice from a DataFrame.\n",
      "Try using .loc[row_indexer,col_indexer] = value instead\n",
      "\n",
      "See the caveats in the documentation: https://pandas.pydata.org/pandas-docs/stable/user_guide/indexing.html#returning-a-view-versus-a-copy\n",
      "  pri_df['policy_cost'] = pri_df['elev_invst'].cumsum()\n",
      "/tmp/ipykernel_1041572/369906587.py:95: SettingWithCopyWarning: \n",
      "A value is trying to be set on a copy of a slice from a DataFrame.\n",
      "Try using .loc[row_indexer,col_indexer] = value instead\n",
      "\n",
      "See the caveats in the documentation: https://pandas.pydata.org/pandas-docs/stable/user_guide/indexing.html#returning-a-view-versus-a-copy\n",
      "  slack_df['policy_cost'] = slack_df['elev_invst'].cumsum()\n"
     ]
    },
    {
     "name": "stdout",
     "output_type": "stream",
     "text": [
      "Calculate objective values for policy:\n",
      "Sort by ovb\n",
      "With Budget of $M 2500000.0\n"
     ]
    },
    {
     "name": "stderr",
     "output_type": "stream",
     "text": [
      "/tmp/ipykernel_1041572/369906587.py:94: SettingWithCopyWarning: \n",
      "A value is trying to be set on a copy of a slice from a DataFrame.\n",
      "Try using .loc[row_indexer,col_indexer] = value instead\n",
      "\n",
      "See the caveats in the documentation: https://pandas.pydata.org/pandas-docs/stable/user_guide/indexing.html#returning-a-view-versus-a-copy\n",
      "  pri_df['policy_cost'] = pri_df['elev_invst'].cumsum()\n",
      "/tmp/ipykernel_1041572/369906587.py:95: SettingWithCopyWarning: \n",
      "A value is trying to be set on a copy of a slice from a DataFrame.\n",
      "Try using .loc[row_indexer,col_indexer] = value instead\n",
      "\n",
      "See the caveats in the documentation: https://pandas.pydata.org/pandas-docs/stable/user_guide/indexing.html#returning-a-view-versus-a-copy\n",
      "  slack_df['policy_cost'] = slack_df['elev_invst'].cumsum()\n"
     ]
    },
    {
     "name": "stdout",
     "output_type": "stream",
     "text": [
      "Calculate objective values for policy:\n",
      "Sort by cejst\n",
      "With Budget of $M 2500000.0\n",
      "Calculate objective values for policy:\n",
      "Sort by npv_opt\n",
      "With Budget of $M 3000000.0\n",
      "Calculate objective values for policy:\n",
      "Sort by avoid_rel_eal\n",
      "With Budget of $M 3000000.0\n",
      "Calculate objective values for policy:\n",
      "Sort by rel_eal\n",
      "With Budget of $M 3000000.0\n"
     ]
    },
    {
     "name": "stderr",
     "output_type": "stream",
     "text": [
      "/tmp/ipykernel_1041572/369906587.py:94: SettingWithCopyWarning: \n",
      "A value is trying to be set on a copy of a slice from a DataFrame.\n",
      "Try using .loc[row_indexer,col_indexer] = value instead\n",
      "\n",
      "See the caveats in the documentation: https://pandas.pydata.org/pandas-docs/stable/user_guide/indexing.html#returning-a-view-versus-a-copy\n",
      "  pri_df['policy_cost'] = pri_df['elev_invst'].cumsum()\n",
      "/tmp/ipykernel_1041572/369906587.py:95: SettingWithCopyWarning: \n",
      "A value is trying to be set on a copy of a slice from a DataFrame.\n",
      "Try using .loc[row_indexer,col_indexer] = value instead\n",
      "\n",
      "See the caveats in the documentation: https://pandas.pydata.org/pandas-docs/stable/user_guide/indexing.html#returning-a-view-versus-a-copy\n",
      "  slack_df['policy_cost'] = slack_df['elev_invst'].cumsum()\n"
     ]
    },
    {
     "name": "stdout",
     "output_type": "stream",
     "text": [
      "Calculate objective values for policy:\n",
      "Sort by lmi\n",
      "With Budget of $M 3000000.0\n"
     ]
    },
    {
     "name": "stderr",
     "output_type": "stream",
     "text": [
      "/tmp/ipykernel_1041572/369906587.py:94: SettingWithCopyWarning: \n",
      "A value is trying to be set on a copy of a slice from a DataFrame.\n",
      "Try using .loc[row_indexer,col_indexer] = value instead\n",
      "\n",
      "See the caveats in the documentation: https://pandas.pydata.org/pandas-docs/stable/user_guide/indexing.html#returning-a-view-versus-a-copy\n",
      "  pri_df['policy_cost'] = pri_df['elev_invst'].cumsum()\n",
      "/tmp/ipykernel_1041572/369906587.py:95: SettingWithCopyWarning: \n",
      "A value is trying to be set on a copy of a slice from a DataFrame.\n",
      "Try using .loc[row_indexer,col_indexer] = value instead\n",
      "\n",
      "See the caveats in the documentation: https://pandas.pydata.org/pandas-docs/stable/user_guide/indexing.html#returning-a-view-versus-a-copy\n",
      "  slack_df['policy_cost'] = slack_df['elev_invst'].cumsum()\n"
     ]
    },
    {
     "name": "stdout",
     "output_type": "stream",
     "text": [
      "Calculate objective values for policy:\n",
      "Sort by ovb\n",
      "With Budget of $M 3000000.0\n"
     ]
    },
    {
     "name": "stderr",
     "output_type": "stream",
     "text": [
      "/tmp/ipykernel_1041572/369906587.py:94: SettingWithCopyWarning: \n",
      "A value is trying to be set on a copy of a slice from a DataFrame.\n",
      "Try using .loc[row_indexer,col_indexer] = value instead\n",
      "\n",
      "See the caveats in the documentation: https://pandas.pydata.org/pandas-docs/stable/user_guide/indexing.html#returning-a-view-versus-a-copy\n",
      "  pri_df['policy_cost'] = pri_df['elev_invst'].cumsum()\n",
      "/tmp/ipykernel_1041572/369906587.py:95: SettingWithCopyWarning: \n",
      "A value is trying to be set on a copy of a slice from a DataFrame.\n",
      "Try using .loc[row_indexer,col_indexer] = value instead\n",
      "\n",
      "See the caveats in the documentation: https://pandas.pydata.org/pandas-docs/stable/user_guide/indexing.html#returning-a-view-versus-a-copy\n",
      "  slack_df['policy_cost'] = slack_df['elev_invst'].cumsum()\n"
     ]
    },
    {
     "name": "stdout",
     "output_type": "stream",
     "text": [
      "Calculate objective values for policy:\n",
      "Sort by cejst\n",
      "With Budget of $M 3000000.0\n",
      "Calculate objective values for policy:\n",
      "Sort by npv_opt\n",
      "With Budget of $M 3500000.0\n",
      "Calculate objective values for policy:\n",
      "Sort by avoid_rel_eal\n",
      "With Budget of $M 3500000.0\n",
      "Calculate objective values for policy:\n",
      "Sort by rel_eal\n",
      "With Budget of $M 3500000.0\n"
     ]
    },
    {
     "name": "stderr",
     "output_type": "stream",
     "text": [
      "/tmp/ipykernel_1041572/369906587.py:94: SettingWithCopyWarning: \n",
      "A value is trying to be set on a copy of a slice from a DataFrame.\n",
      "Try using .loc[row_indexer,col_indexer] = value instead\n",
      "\n",
      "See the caveats in the documentation: https://pandas.pydata.org/pandas-docs/stable/user_guide/indexing.html#returning-a-view-versus-a-copy\n",
      "  pri_df['policy_cost'] = pri_df['elev_invst'].cumsum()\n",
      "/tmp/ipykernel_1041572/369906587.py:95: SettingWithCopyWarning: \n",
      "A value is trying to be set on a copy of a slice from a DataFrame.\n",
      "Try using .loc[row_indexer,col_indexer] = value instead\n",
      "\n",
      "See the caveats in the documentation: https://pandas.pydata.org/pandas-docs/stable/user_guide/indexing.html#returning-a-view-versus-a-copy\n",
      "  slack_df['policy_cost'] = slack_df['elev_invst'].cumsum()\n"
     ]
    },
    {
     "name": "stdout",
     "output_type": "stream",
     "text": [
      "Calculate objective values for policy:\n",
      "Sort by lmi\n",
      "With Budget of $M 3500000.0\n"
     ]
    },
    {
     "name": "stderr",
     "output_type": "stream",
     "text": [
      "/tmp/ipykernel_1041572/369906587.py:94: SettingWithCopyWarning: \n",
      "A value is trying to be set on a copy of a slice from a DataFrame.\n",
      "Try using .loc[row_indexer,col_indexer] = value instead\n",
      "\n",
      "See the caveats in the documentation: https://pandas.pydata.org/pandas-docs/stable/user_guide/indexing.html#returning-a-view-versus-a-copy\n",
      "  pri_df['policy_cost'] = pri_df['elev_invst'].cumsum()\n",
      "/tmp/ipykernel_1041572/369906587.py:95: SettingWithCopyWarning: \n",
      "A value is trying to be set on a copy of a slice from a DataFrame.\n",
      "Try using .loc[row_indexer,col_indexer] = value instead\n",
      "\n",
      "See the caveats in the documentation: https://pandas.pydata.org/pandas-docs/stable/user_guide/indexing.html#returning-a-view-versus-a-copy\n",
      "  slack_df['policy_cost'] = slack_df['elev_invst'].cumsum()\n"
     ]
    },
    {
     "name": "stdout",
     "output_type": "stream",
     "text": [
      "Calculate objective values for policy:\n",
      "Sort by ovb\n",
      "With Budget of $M 3500000.0\n"
     ]
    },
    {
     "name": "stderr",
     "output_type": "stream",
     "text": [
      "/tmp/ipykernel_1041572/369906587.py:94: SettingWithCopyWarning: \n",
      "A value is trying to be set on a copy of a slice from a DataFrame.\n",
      "Try using .loc[row_indexer,col_indexer] = value instead\n",
      "\n",
      "See the caveats in the documentation: https://pandas.pydata.org/pandas-docs/stable/user_guide/indexing.html#returning-a-view-versus-a-copy\n",
      "  pri_df['policy_cost'] = pri_df['elev_invst'].cumsum()\n",
      "/tmp/ipykernel_1041572/369906587.py:95: SettingWithCopyWarning: \n",
      "A value is trying to be set on a copy of a slice from a DataFrame.\n",
      "Try using .loc[row_indexer,col_indexer] = value instead\n",
      "\n",
      "See the caveats in the documentation: https://pandas.pydata.org/pandas-docs/stable/user_guide/indexing.html#returning-a-view-versus-a-copy\n",
      "  slack_df['policy_cost'] = slack_df['elev_invst'].cumsum()\n"
     ]
    },
    {
     "name": "stdout",
     "output_type": "stream",
     "text": [
      "Calculate objective values for policy:\n",
      "Sort by cejst\n",
      "With Budget of $M 3500000.0\n",
      "Calculate objective values for policy:\n",
      "Sort by npv_opt\n",
      "With Budget of $M 4000000.0\n",
      "Calculate objective values for policy:\n",
      "Sort by avoid_rel_eal\n",
      "With Budget of $M 4000000.0\n",
      "Calculate objective values for policy:\n",
      "Sort by rel_eal\n",
      "With Budget of $M 4000000.0\n"
     ]
    },
    {
     "name": "stderr",
     "output_type": "stream",
     "text": [
      "/tmp/ipykernel_1041572/369906587.py:94: SettingWithCopyWarning: \n",
      "A value is trying to be set on a copy of a slice from a DataFrame.\n",
      "Try using .loc[row_indexer,col_indexer] = value instead\n",
      "\n",
      "See the caveats in the documentation: https://pandas.pydata.org/pandas-docs/stable/user_guide/indexing.html#returning-a-view-versus-a-copy\n",
      "  pri_df['policy_cost'] = pri_df['elev_invst'].cumsum()\n",
      "/tmp/ipykernel_1041572/369906587.py:95: SettingWithCopyWarning: \n",
      "A value is trying to be set on a copy of a slice from a DataFrame.\n",
      "Try using .loc[row_indexer,col_indexer] = value instead\n",
      "\n",
      "See the caveats in the documentation: https://pandas.pydata.org/pandas-docs/stable/user_guide/indexing.html#returning-a-view-versus-a-copy\n",
      "  slack_df['policy_cost'] = slack_df['elev_invst'].cumsum()\n"
     ]
    },
    {
     "name": "stdout",
     "output_type": "stream",
     "text": [
      "Calculate objective values for policy:\n",
      "Sort by lmi\n",
      "With Budget of $M 4000000.0\n"
     ]
    },
    {
     "name": "stderr",
     "output_type": "stream",
     "text": [
      "/tmp/ipykernel_1041572/369906587.py:94: SettingWithCopyWarning: \n",
      "A value is trying to be set on a copy of a slice from a DataFrame.\n",
      "Try using .loc[row_indexer,col_indexer] = value instead\n",
      "\n",
      "See the caveats in the documentation: https://pandas.pydata.org/pandas-docs/stable/user_guide/indexing.html#returning-a-view-versus-a-copy\n",
      "  pri_df['policy_cost'] = pri_df['elev_invst'].cumsum()\n",
      "/tmp/ipykernel_1041572/369906587.py:95: SettingWithCopyWarning: \n",
      "A value is trying to be set on a copy of a slice from a DataFrame.\n",
      "Try using .loc[row_indexer,col_indexer] = value instead\n",
      "\n",
      "See the caveats in the documentation: https://pandas.pydata.org/pandas-docs/stable/user_guide/indexing.html#returning-a-view-versus-a-copy\n",
      "  slack_df['policy_cost'] = slack_df['elev_invst'].cumsum()\n"
     ]
    },
    {
     "name": "stdout",
     "output_type": "stream",
     "text": [
      "Calculate objective values for policy:\n",
      "Sort by ovb\n",
      "With Budget of $M 4000000.0\n"
     ]
    },
    {
     "name": "stderr",
     "output_type": "stream",
     "text": [
      "/tmp/ipykernel_1041572/369906587.py:94: SettingWithCopyWarning: \n",
      "A value is trying to be set on a copy of a slice from a DataFrame.\n",
      "Try using .loc[row_indexer,col_indexer] = value instead\n",
      "\n",
      "See the caveats in the documentation: https://pandas.pydata.org/pandas-docs/stable/user_guide/indexing.html#returning-a-view-versus-a-copy\n",
      "  pri_df['policy_cost'] = pri_df['elev_invst'].cumsum()\n",
      "/tmp/ipykernel_1041572/369906587.py:95: SettingWithCopyWarning: \n",
      "A value is trying to be set on a copy of a slice from a DataFrame.\n",
      "Try using .loc[row_indexer,col_indexer] = value instead\n",
      "\n",
      "See the caveats in the documentation: https://pandas.pydata.org/pandas-docs/stable/user_guide/indexing.html#returning-a-view-versus-a-copy\n",
      "  slack_df['policy_cost'] = slack_df['elev_invst'].cumsum()\n"
     ]
    },
    {
     "name": "stdout",
     "output_type": "stream",
     "text": [
      "Calculate objective values for policy:\n",
      "Sort by cejst\n",
      "With Budget of $M 4000000.0\n",
      "Calculate objective values for policy:\n",
      "Sort by npv_opt\n",
      "With Budget of $M 4500000.0\n",
      "Calculate objective values for policy:\n",
      "Sort by avoid_rel_eal\n",
      "With Budget of $M 4500000.0\n",
      "Calculate objective values for policy:\n",
      "Sort by rel_eal\n",
      "With Budget of $M 4500000.0\n"
     ]
    },
    {
     "name": "stderr",
     "output_type": "stream",
     "text": [
      "/tmp/ipykernel_1041572/369906587.py:94: SettingWithCopyWarning: \n",
      "A value is trying to be set on a copy of a slice from a DataFrame.\n",
      "Try using .loc[row_indexer,col_indexer] = value instead\n",
      "\n",
      "See the caveats in the documentation: https://pandas.pydata.org/pandas-docs/stable/user_guide/indexing.html#returning-a-view-versus-a-copy\n",
      "  pri_df['policy_cost'] = pri_df['elev_invst'].cumsum()\n",
      "/tmp/ipykernel_1041572/369906587.py:95: SettingWithCopyWarning: \n",
      "A value is trying to be set on a copy of a slice from a DataFrame.\n",
      "Try using .loc[row_indexer,col_indexer] = value instead\n",
      "\n",
      "See the caveats in the documentation: https://pandas.pydata.org/pandas-docs/stable/user_guide/indexing.html#returning-a-view-versus-a-copy\n",
      "  slack_df['policy_cost'] = slack_df['elev_invst'].cumsum()\n"
     ]
    },
    {
     "name": "stdout",
     "output_type": "stream",
     "text": [
      "Calculate objective values for policy:\n",
      "Sort by lmi\n",
      "With Budget of $M 4500000.0\n"
     ]
    },
    {
     "name": "stderr",
     "output_type": "stream",
     "text": [
      "/tmp/ipykernel_1041572/369906587.py:94: SettingWithCopyWarning: \n",
      "A value is trying to be set on a copy of a slice from a DataFrame.\n",
      "Try using .loc[row_indexer,col_indexer] = value instead\n",
      "\n",
      "See the caveats in the documentation: https://pandas.pydata.org/pandas-docs/stable/user_guide/indexing.html#returning-a-view-versus-a-copy\n",
      "  pri_df['policy_cost'] = pri_df['elev_invst'].cumsum()\n",
      "/tmp/ipykernel_1041572/369906587.py:95: SettingWithCopyWarning: \n",
      "A value is trying to be set on a copy of a slice from a DataFrame.\n",
      "Try using .loc[row_indexer,col_indexer] = value instead\n",
      "\n",
      "See the caveats in the documentation: https://pandas.pydata.org/pandas-docs/stable/user_guide/indexing.html#returning-a-view-versus-a-copy\n",
      "  slack_df['policy_cost'] = slack_df['elev_invst'].cumsum()\n"
     ]
    },
    {
     "name": "stdout",
     "output_type": "stream",
     "text": [
      "Calculate objective values for policy:\n",
      "Sort by ovb\n",
      "With Budget of $M 4500000.0\n"
     ]
    },
    {
     "name": "stderr",
     "output_type": "stream",
     "text": [
      "/tmp/ipykernel_1041572/369906587.py:94: SettingWithCopyWarning: \n",
      "A value is trying to be set on a copy of a slice from a DataFrame.\n",
      "Try using .loc[row_indexer,col_indexer] = value instead\n",
      "\n",
      "See the caveats in the documentation: https://pandas.pydata.org/pandas-docs/stable/user_guide/indexing.html#returning-a-view-versus-a-copy\n",
      "  pri_df['policy_cost'] = pri_df['elev_invst'].cumsum()\n",
      "/tmp/ipykernel_1041572/369906587.py:95: SettingWithCopyWarning: \n",
      "A value is trying to be set on a copy of a slice from a DataFrame.\n",
      "Try using .loc[row_indexer,col_indexer] = value instead\n",
      "\n",
      "See the caveats in the documentation: https://pandas.pydata.org/pandas-docs/stable/user_guide/indexing.html#returning-a-view-versus-a-copy\n",
      "  slack_df['policy_cost'] = slack_df['elev_invst'].cumsum()\n"
     ]
    },
    {
     "name": "stdout",
     "output_type": "stream",
     "text": [
      "Calculate objective values for policy:\n",
      "Sort by cejst\n",
      "With Budget of $M 4500000.0\n",
      "Calculate objective values for policy:\n",
      "Sort by npv_opt\n",
      "With Budget of $M 5000000.0\n",
      "Calculate objective values for policy:\n",
      "Sort by avoid_rel_eal\n",
      "With Budget of $M 5000000.0\n",
      "Calculate objective values for policy:\n",
      "Sort by rel_eal\n",
      "With Budget of $M 5000000.0\n"
     ]
    },
    {
     "name": "stderr",
     "output_type": "stream",
     "text": [
      "/tmp/ipykernel_1041572/369906587.py:94: SettingWithCopyWarning: \n",
      "A value is trying to be set on a copy of a slice from a DataFrame.\n",
      "Try using .loc[row_indexer,col_indexer] = value instead\n",
      "\n",
      "See the caveats in the documentation: https://pandas.pydata.org/pandas-docs/stable/user_guide/indexing.html#returning-a-view-versus-a-copy\n",
      "  pri_df['policy_cost'] = pri_df['elev_invst'].cumsum()\n",
      "/tmp/ipykernel_1041572/369906587.py:95: SettingWithCopyWarning: \n",
      "A value is trying to be set on a copy of a slice from a DataFrame.\n",
      "Try using .loc[row_indexer,col_indexer] = value instead\n",
      "\n",
      "See the caveats in the documentation: https://pandas.pydata.org/pandas-docs/stable/user_guide/indexing.html#returning-a-view-versus-a-copy\n",
      "  slack_df['policy_cost'] = slack_df['elev_invst'].cumsum()\n"
     ]
    },
    {
     "name": "stdout",
     "output_type": "stream",
     "text": [
      "Calculate objective values for policy:\n",
      "Sort by lmi\n",
      "With Budget of $M 5000000.0\n"
     ]
    },
    {
     "name": "stderr",
     "output_type": "stream",
     "text": [
      "/tmp/ipykernel_1041572/369906587.py:94: SettingWithCopyWarning: \n",
      "A value is trying to be set on a copy of a slice from a DataFrame.\n",
      "Try using .loc[row_indexer,col_indexer] = value instead\n",
      "\n",
      "See the caveats in the documentation: https://pandas.pydata.org/pandas-docs/stable/user_guide/indexing.html#returning-a-view-versus-a-copy\n",
      "  pri_df['policy_cost'] = pri_df['elev_invst'].cumsum()\n",
      "/tmp/ipykernel_1041572/369906587.py:95: SettingWithCopyWarning: \n",
      "A value is trying to be set on a copy of a slice from a DataFrame.\n",
      "Try using .loc[row_indexer,col_indexer] = value instead\n",
      "\n",
      "See the caveats in the documentation: https://pandas.pydata.org/pandas-docs/stable/user_guide/indexing.html#returning-a-view-versus-a-copy\n",
      "  slack_df['policy_cost'] = slack_df['elev_invst'].cumsum()\n"
     ]
    },
    {
     "name": "stdout",
     "output_type": "stream",
     "text": [
      "Calculate objective values for policy:\n",
      "Sort by ovb\n",
      "With Budget of $M 5000000.0\n"
     ]
    },
    {
     "name": "stderr",
     "output_type": "stream",
     "text": [
      "/tmp/ipykernel_1041572/369906587.py:94: SettingWithCopyWarning: \n",
      "A value is trying to be set on a copy of a slice from a DataFrame.\n",
      "Try using .loc[row_indexer,col_indexer] = value instead\n",
      "\n",
      "See the caveats in the documentation: https://pandas.pydata.org/pandas-docs/stable/user_guide/indexing.html#returning-a-view-versus-a-copy\n",
      "  pri_df['policy_cost'] = pri_df['elev_invst'].cumsum()\n",
      "/tmp/ipykernel_1041572/369906587.py:95: SettingWithCopyWarning: \n",
      "A value is trying to be set on a copy of a slice from a DataFrame.\n",
      "Try using .loc[row_indexer,col_indexer] = value instead\n",
      "\n",
      "See the caveats in the documentation: https://pandas.pydata.org/pandas-docs/stable/user_guide/indexing.html#returning-a-view-versus-a-copy\n",
      "  slack_df['policy_cost'] = slack_df['elev_invst'].cumsum()\n"
     ]
    },
    {
     "name": "stdout",
     "output_type": "stream",
     "text": [
      "Calculate objective values for policy:\n",
      "Sort by cejst\n",
      "With Budget of $M 5000000.0\n",
      "Calculate objective values for policy:\n",
      "Sort by npv_opt\n",
      "With Budget of $M 5500000.0\n",
      "Calculate objective values for policy:\n",
      "Sort by avoid_rel_eal\n",
      "With Budget of $M 5500000.0\n",
      "Calculate objective values for policy:\n",
      "Sort by rel_eal\n",
      "With Budget of $M 5500000.0\n"
     ]
    },
    {
     "name": "stderr",
     "output_type": "stream",
     "text": [
      "/tmp/ipykernel_1041572/369906587.py:94: SettingWithCopyWarning: \n",
      "A value is trying to be set on a copy of a slice from a DataFrame.\n",
      "Try using .loc[row_indexer,col_indexer] = value instead\n",
      "\n",
      "See the caveats in the documentation: https://pandas.pydata.org/pandas-docs/stable/user_guide/indexing.html#returning-a-view-versus-a-copy\n",
      "  pri_df['policy_cost'] = pri_df['elev_invst'].cumsum()\n",
      "/tmp/ipykernel_1041572/369906587.py:95: SettingWithCopyWarning: \n",
      "A value is trying to be set on a copy of a slice from a DataFrame.\n",
      "Try using .loc[row_indexer,col_indexer] = value instead\n",
      "\n",
      "See the caveats in the documentation: https://pandas.pydata.org/pandas-docs/stable/user_guide/indexing.html#returning-a-view-versus-a-copy\n",
      "  slack_df['policy_cost'] = slack_df['elev_invst'].cumsum()\n"
     ]
    },
    {
     "name": "stdout",
     "output_type": "stream",
     "text": [
      "Calculate objective values for policy:\n",
      "Sort by lmi\n",
      "With Budget of $M 5500000.0\n"
     ]
    },
    {
     "name": "stderr",
     "output_type": "stream",
     "text": [
      "/tmp/ipykernel_1041572/369906587.py:94: SettingWithCopyWarning: \n",
      "A value is trying to be set on a copy of a slice from a DataFrame.\n",
      "Try using .loc[row_indexer,col_indexer] = value instead\n",
      "\n",
      "See the caveats in the documentation: https://pandas.pydata.org/pandas-docs/stable/user_guide/indexing.html#returning-a-view-versus-a-copy\n",
      "  pri_df['policy_cost'] = pri_df['elev_invst'].cumsum()\n",
      "/tmp/ipykernel_1041572/369906587.py:95: SettingWithCopyWarning: \n",
      "A value is trying to be set on a copy of a slice from a DataFrame.\n",
      "Try using .loc[row_indexer,col_indexer] = value instead\n",
      "\n",
      "See the caveats in the documentation: https://pandas.pydata.org/pandas-docs/stable/user_guide/indexing.html#returning-a-view-versus-a-copy\n",
      "  slack_df['policy_cost'] = slack_df['elev_invst'].cumsum()\n"
     ]
    },
    {
     "name": "stdout",
     "output_type": "stream",
     "text": [
      "Calculate objective values for policy:\n",
      "Sort by ovb\n",
      "With Budget of $M 5500000.0\n"
     ]
    },
    {
     "name": "stderr",
     "output_type": "stream",
     "text": [
      "/tmp/ipykernel_1041572/369906587.py:94: SettingWithCopyWarning: \n",
      "A value is trying to be set on a copy of a slice from a DataFrame.\n",
      "Try using .loc[row_indexer,col_indexer] = value instead\n",
      "\n",
      "See the caveats in the documentation: https://pandas.pydata.org/pandas-docs/stable/user_guide/indexing.html#returning-a-view-versus-a-copy\n",
      "  pri_df['policy_cost'] = pri_df['elev_invst'].cumsum()\n",
      "/tmp/ipykernel_1041572/369906587.py:95: SettingWithCopyWarning: \n",
      "A value is trying to be set on a copy of a slice from a DataFrame.\n",
      "Try using .loc[row_indexer,col_indexer] = value instead\n",
      "\n",
      "See the caveats in the documentation: https://pandas.pydata.org/pandas-docs/stable/user_guide/indexing.html#returning-a-view-versus-a-copy\n",
      "  slack_df['policy_cost'] = slack_df['elev_invst'].cumsum()\n"
     ]
    },
    {
     "name": "stdout",
     "output_type": "stream",
     "text": [
      "Calculate objective values for policy:\n",
      "Sort by cejst\n",
      "With Budget of $M 5500000.0\n",
      "Calculate objective values for policy:\n",
      "Sort by npv_opt\n",
      "With Budget of $M 6000000.0\n",
      "Calculate objective values for policy:\n",
      "Sort by avoid_rel_eal\n",
      "With Budget of $M 6000000.0\n",
      "Calculate objective values for policy:\n",
      "Sort by rel_eal\n",
      "With Budget of $M 6000000.0\n"
     ]
    },
    {
     "name": "stderr",
     "output_type": "stream",
     "text": [
      "/tmp/ipykernel_1041572/369906587.py:94: SettingWithCopyWarning: \n",
      "A value is trying to be set on a copy of a slice from a DataFrame.\n",
      "Try using .loc[row_indexer,col_indexer] = value instead\n",
      "\n",
      "See the caveats in the documentation: https://pandas.pydata.org/pandas-docs/stable/user_guide/indexing.html#returning-a-view-versus-a-copy\n",
      "  pri_df['policy_cost'] = pri_df['elev_invst'].cumsum()\n",
      "/tmp/ipykernel_1041572/369906587.py:95: SettingWithCopyWarning: \n",
      "A value is trying to be set on a copy of a slice from a DataFrame.\n",
      "Try using .loc[row_indexer,col_indexer] = value instead\n",
      "\n",
      "See the caveats in the documentation: https://pandas.pydata.org/pandas-docs/stable/user_guide/indexing.html#returning-a-view-versus-a-copy\n",
      "  slack_df['policy_cost'] = slack_df['elev_invst'].cumsum()\n"
     ]
    },
    {
     "name": "stdout",
     "output_type": "stream",
     "text": [
      "Calculate objective values for policy:\n",
      "Sort by lmi\n",
      "With Budget of $M 6000000.0\n"
     ]
    },
    {
     "name": "stderr",
     "output_type": "stream",
     "text": [
      "/tmp/ipykernel_1041572/369906587.py:94: SettingWithCopyWarning: \n",
      "A value is trying to be set on a copy of a slice from a DataFrame.\n",
      "Try using .loc[row_indexer,col_indexer] = value instead\n",
      "\n",
      "See the caveats in the documentation: https://pandas.pydata.org/pandas-docs/stable/user_guide/indexing.html#returning-a-view-versus-a-copy\n",
      "  pri_df['policy_cost'] = pri_df['elev_invst'].cumsum()\n",
      "/tmp/ipykernel_1041572/369906587.py:95: SettingWithCopyWarning: \n",
      "A value is trying to be set on a copy of a slice from a DataFrame.\n",
      "Try using .loc[row_indexer,col_indexer] = value instead\n",
      "\n",
      "See the caveats in the documentation: https://pandas.pydata.org/pandas-docs/stable/user_guide/indexing.html#returning-a-view-versus-a-copy\n",
      "  slack_df['policy_cost'] = slack_df['elev_invst'].cumsum()\n"
     ]
    },
    {
     "name": "stdout",
     "output_type": "stream",
     "text": [
      "Calculate objective values for policy:\n",
      "Sort by ovb\n",
      "With Budget of $M 6000000.0\n"
     ]
    },
    {
     "name": "stderr",
     "output_type": "stream",
     "text": [
      "/tmp/ipykernel_1041572/369906587.py:94: SettingWithCopyWarning: \n",
      "A value is trying to be set on a copy of a slice from a DataFrame.\n",
      "Try using .loc[row_indexer,col_indexer] = value instead\n",
      "\n",
      "See the caveats in the documentation: https://pandas.pydata.org/pandas-docs/stable/user_guide/indexing.html#returning-a-view-versus-a-copy\n",
      "  pri_df['policy_cost'] = pri_df['elev_invst'].cumsum()\n",
      "/tmp/ipykernel_1041572/369906587.py:95: SettingWithCopyWarning: \n",
      "A value is trying to be set on a copy of a slice from a DataFrame.\n",
      "Try using .loc[row_indexer,col_indexer] = value instead\n",
      "\n",
      "See the caveats in the documentation: https://pandas.pydata.org/pandas-docs/stable/user_guide/indexing.html#returning-a-view-versus-a-copy\n",
      "  slack_df['policy_cost'] = slack_df['elev_invst'].cumsum()\n"
     ]
    },
    {
     "name": "stdout",
     "output_type": "stream",
     "text": [
      "Calculate objective values for policy:\n",
      "Sort by cejst\n",
      "With Budget of $M 6000000.0\n",
      "Calculate objective values for policy:\n",
      "Sort by npv_opt\n",
      "With Budget of $M 7000000.0\n",
      "Calculate objective values for policy:\n",
      "Sort by avoid_rel_eal\n",
      "With Budget of $M 7000000.0\n",
      "Calculate objective values for policy:\n",
      "Sort by rel_eal\n",
      "With Budget of $M 7000000.0\n"
     ]
    },
    {
     "name": "stderr",
     "output_type": "stream",
     "text": [
      "/tmp/ipykernel_1041572/369906587.py:94: SettingWithCopyWarning: \n",
      "A value is trying to be set on a copy of a slice from a DataFrame.\n",
      "Try using .loc[row_indexer,col_indexer] = value instead\n",
      "\n",
      "See the caveats in the documentation: https://pandas.pydata.org/pandas-docs/stable/user_guide/indexing.html#returning-a-view-versus-a-copy\n",
      "  pri_df['policy_cost'] = pri_df['elev_invst'].cumsum()\n",
      "/tmp/ipykernel_1041572/369906587.py:95: SettingWithCopyWarning: \n",
      "A value is trying to be set on a copy of a slice from a DataFrame.\n",
      "Try using .loc[row_indexer,col_indexer] = value instead\n",
      "\n",
      "See the caveats in the documentation: https://pandas.pydata.org/pandas-docs/stable/user_guide/indexing.html#returning-a-view-versus-a-copy\n",
      "  slack_df['policy_cost'] = slack_df['elev_invst'].cumsum()\n"
     ]
    },
    {
     "name": "stdout",
     "output_type": "stream",
     "text": [
      "Calculate objective values for policy:\n",
      "Sort by lmi\n",
      "With Budget of $M 7000000.0\n"
     ]
    },
    {
     "name": "stderr",
     "output_type": "stream",
     "text": [
      "/tmp/ipykernel_1041572/369906587.py:94: SettingWithCopyWarning: \n",
      "A value is trying to be set on a copy of a slice from a DataFrame.\n",
      "Try using .loc[row_indexer,col_indexer] = value instead\n",
      "\n",
      "See the caveats in the documentation: https://pandas.pydata.org/pandas-docs/stable/user_guide/indexing.html#returning-a-view-versus-a-copy\n",
      "  pri_df['policy_cost'] = pri_df['elev_invst'].cumsum()\n",
      "/tmp/ipykernel_1041572/369906587.py:95: SettingWithCopyWarning: \n",
      "A value is trying to be set on a copy of a slice from a DataFrame.\n",
      "Try using .loc[row_indexer,col_indexer] = value instead\n",
      "\n",
      "See the caveats in the documentation: https://pandas.pydata.org/pandas-docs/stable/user_guide/indexing.html#returning-a-view-versus-a-copy\n",
      "  slack_df['policy_cost'] = slack_df['elev_invst'].cumsum()\n"
     ]
    },
    {
     "name": "stdout",
     "output_type": "stream",
     "text": [
      "Calculate objective values for policy:\n",
      "Sort by ovb\n",
      "With Budget of $M 7000000.0\n"
     ]
    },
    {
     "name": "stderr",
     "output_type": "stream",
     "text": [
      "/tmp/ipykernel_1041572/369906587.py:94: SettingWithCopyWarning: \n",
      "A value is trying to be set on a copy of a slice from a DataFrame.\n",
      "Try using .loc[row_indexer,col_indexer] = value instead\n",
      "\n",
      "See the caveats in the documentation: https://pandas.pydata.org/pandas-docs/stable/user_guide/indexing.html#returning-a-view-versus-a-copy\n",
      "  pri_df['policy_cost'] = pri_df['elev_invst'].cumsum()\n",
      "/tmp/ipykernel_1041572/369906587.py:95: SettingWithCopyWarning: \n",
      "A value is trying to be set on a copy of a slice from a DataFrame.\n",
      "Try using .loc[row_indexer,col_indexer] = value instead\n",
      "\n",
      "See the caveats in the documentation: https://pandas.pydata.org/pandas-docs/stable/user_guide/indexing.html#returning-a-view-versus-a-copy\n",
      "  slack_df['policy_cost'] = slack_df['elev_invst'].cumsum()\n"
     ]
    },
    {
     "name": "stdout",
     "output_type": "stream",
     "text": [
      "Calculate objective values for policy:\n",
      "Sort by cejst\n",
      "With Budget of $M 7000000.0\n",
      "Calculate objective values for policy:\n",
      "Sort by npv_opt\n",
      "With Budget of $M 8000000.0\n",
      "Calculate objective values for policy:\n",
      "Sort by avoid_rel_eal\n",
      "With Budget of $M 8000000.0\n",
      "Calculate objective values for policy:\n",
      "Sort by rel_eal\n",
      "With Budget of $M 8000000.0\n"
     ]
    },
    {
     "name": "stderr",
     "output_type": "stream",
     "text": [
      "/tmp/ipykernel_1041572/369906587.py:94: SettingWithCopyWarning: \n",
      "A value is trying to be set on a copy of a slice from a DataFrame.\n",
      "Try using .loc[row_indexer,col_indexer] = value instead\n",
      "\n",
      "See the caveats in the documentation: https://pandas.pydata.org/pandas-docs/stable/user_guide/indexing.html#returning-a-view-versus-a-copy\n",
      "  pri_df['policy_cost'] = pri_df['elev_invst'].cumsum()\n",
      "/tmp/ipykernel_1041572/369906587.py:95: SettingWithCopyWarning: \n",
      "A value is trying to be set on a copy of a slice from a DataFrame.\n",
      "Try using .loc[row_indexer,col_indexer] = value instead\n",
      "\n",
      "See the caveats in the documentation: https://pandas.pydata.org/pandas-docs/stable/user_guide/indexing.html#returning-a-view-versus-a-copy\n",
      "  slack_df['policy_cost'] = slack_df['elev_invst'].cumsum()\n"
     ]
    },
    {
     "name": "stdout",
     "output_type": "stream",
     "text": [
      "Calculate objective values for policy:\n",
      "Sort by lmi\n",
      "With Budget of $M 8000000.0\n"
     ]
    },
    {
     "name": "stderr",
     "output_type": "stream",
     "text": [
      "/tmp/ipykernel_1041572/369906587.py:94: SettingWithCopyWarning: \n",
      "A value is trying to be set on a copy of a slice from a DataFrame.\n",
      "Try using .loc[row_indexer,col_indexer] = value instead\n",
      "\n",
      "See the caveats in the documentation: https://pandas.pydata.org/pandas-docs/stable/user_guide/indexing.html#returning-a-view-versus-a-copy\n",
      "  pri_df['policy_cost'] = pri_df['elev_invst'].cumsum()\n",
      "/tmp/ipykernel_1041572/369906587.py:95: SettingWithCopyWarning: \n",
      "A value is trying to be set on a copy of a slice from a DataFrame.\n",
      "Try using .loc[row_indexer,col_indexer] = value instead\n",
      "\n",
      "See the caveats in the documentation: https://pandas.pydata.org/pandas-docs/stable/user_guide/indexing.html#returning-a-view-versus-a-copy\n",
      "  slack_df['policy_cost'] = slack_df['elev_invst'].cumsum()\n"
     ]
    },
    {
     "name": "stdout",
     "output_type": "stream",
     "text": [
      "Calculate objective values for policy:\n",
      "Sort by ovb\n",
      "With Budget of $M 8000000.0\n"
     ]
    },
    {
     "name": "stderr",
     "output_type": "stream",
     "text": [
      "/tmp/ipykernel_1041572/369906587.py:94: SettingWithCopyWarning: \n",
      "A value is trying to be set on a copy of a slice from a DataFrame.\n",
      "Try using .loc[row_indexer,col_indexer] = value instead\n",
      "\n",
      "See the caveats in the documentation: https://pandas.pydata.org/pandas-docs/stable/user_guide/indexing.html#returning-a-view-versus-a-copy\n",
      "  pri_df['policy_cost'] = pri_df['elev_invst'].cumsum()\n",
      "/tmp/ipykernel_1041572/369906587.py:95: SettingWithCopyWarning: \n",
      "A value is trying to be set on a copy of a slice from a DataFrame.\n",
      "Try using .loc[row_indexer,col_indexer] = value instead\n",
      "\n",
      "See the caveats in the documentation: https://pandas.pydata.org/pandas-docs/stable/user_guide/indexing.html#returning-a-view-versus-a-copy\n",
      "  slack_df['policy_cost'] = slack_df['elev_invst'].cumsum()\n"
     ]
    },
    {
     "name": "stdout",
     "output_type": "stream",
     "text": [
      "Calculate objective values for policy:\n",
      "Sort by cejst\n",
      "With Budget of $M 8000000.0\n",
      "Calculate objective values for policy:\n",
      "Sort by npv_opt\n",
      "With Budget of $M 9000000.0\n",
      "Calculate objective values for policy:\n",
      "Sort by avoid_rel_eal\n",
      "With Budget of $M 9000000.0\n",
      "Calculate objective values for policy:\n",
      "Sort by rel_eal\n",
      "With Budget of $M 9000000.0\n"
     ]
    },
    {
     "name": "stderr",
     "output_type": "stream",
     "text": [
      "/tmp/ipykernel_1041572/369906587.py:94: SettingWithCopyWarning: \n",
      "A value is trying to be set on a copy of a slice from a DataFrame.\n",
      "Try using .loc[row_indexer,col_indexer] = value instead\n",
      "\n",
      "See the caveats in the documentation: https://pandas.pydata.org/pandas-docs/stable/user_guide/indexing.html#returning-a-view-versus-a-copy\n",
      "  pri_df['policy_cost'] = pri_df['elev_invst'].cumsum()\n",
      "/tmp/ipykernel_1041572/369906587.py:95: SettingWithCopyWarning: \n",
      "A value is trying to be set on a copy of a slice from a DataFrame.\n",
      "Try using .loc[row_indexer,col_indexer] = value instead\n",
      "\n",
      "See the caveats in the documentation: https://pandas.pydata.org/pandas-docs/stable/user_guide/indexing.html#returning-a-view-versus-a-copy\n",
      "  slack_df['policy_cost'] = slack_df['elev_invst'].cumsum()\n"
     ]
    },
    {
     "name": "stdout",
     "output_type": "stream",
     "text": [
      "Calculate objective values for policy:\n",
      "Sort by lmi\n",
      "With Budget of $M 9000000.0\n"
     ]
    },
    {
     "name": "stderr",
     "output_type": "stream",
     "text": [
      "/tmp/ipykernel_1041572/369906587.py:94: SettingWithCopyWarning: \n",
      "A value is trying to be set on a copy of a slice from a DataFrame.\n",
      "Try using .loc[row_indexer,col_indexer] = value instead\n",
      "\n",
      "See the caveats in the documentation: https://pandas.pydata.org/pandas-docs/stable/user_guide/indexing.html#returning-a-view-versus-a-copy\n",
      "  pri_df['policy_cost'] = pri_df['elev_invst'].cumsum()\n",
      "/tmp/ipykernel_1041572/369906587.py:95: SettingWithCopyWarning: \n",
      "A value is trying to be set on a copy of a slice from a DataFrame.\n",
      "Try using .loc[row_indexer,col_indexer] = value instead\n",
      "\n",
      "See the caveats in the documentation: https://pandas.pydata.org/pandas-docs/stable/user_guide/indexing.html#returning-a-view-versus-a-copy\n",
      "  slack_df['policy_cost'] = slack_df['elev_invst'].cumsum()\n"
     ]
    },
    {
     "name": "stdout",
     "output_type": "stream",
     "text": [
      "Calculate objective values for policy:\n",
      "Sort by ovb\n",
      "With Budget of $M 9000000.0\n"
     ]
    },
    {
     "name": "stderr",
     "output_type": "stream",
     "text": [
      "/tmp/ipykernel_1041572/369906587.py:94: SettingWithCopyWarning: \n",
      "A value is trying to be set on a copy of a slice from a DataFrame.\n",
      "Try using .loc[row_indexer,col_indexer] = value instead\n",
      "\n",
      "See the caveats in the documentation: https://pandas.pydata.org/pandas-docs/stable/user_guide/indexing.html#returning-a-view-versus-a-copy\n",
      "  pri_df['policy_cost'] = pri_df['elev_invst'].cumsum()\n",
      "/tmp/ipykernel_1041572/369906587.py:95: SettingWithCopyWarning: \n",
      "A value is trying to be set on a copy of a slice from a DataFrame.\n",
      "Try using .loc[row_indexer,col_indexer] = value instead\n",
      "\n",
      "See the caveats in the documentation: https://pandas.pydata.org/pandas-docs/stable/user_guide/indexing.html#returning-a-view-versus-a-copy\n",
      "  slack_df['policy_cost'] = slack_df['elev_invst'].cumsum()\n"
     ]
    },
    {
     "name": "stdout",
     "output_type": "stream",
     "text": [
      "Calculate objective values for policy:\n",
      "Sort by cejst\n",
      "With Budget of $M 9000000.0\n",
      "Calculate objective values for policy:\n",
      "Sort by npv_opt\n",
      "With Budget of $M 10000000.0\n",
      "Calculate objective values for policy:\n",
      "Sort by avoid_rel_eal\n",
      "With Budget of $M 10000000.0\n",
      "Calculate objective values for policy:\n",
      "Sort by rel_eal\n",
      "With Budget of $M 10000000.0\n"
     ]
    },
    {
     "name": "stderr",
     "output_type": "stream",
     "text": [
      "/tmp/ipykernel_1041572/369906587.py:94: SettingWithCopyWarning: \n",
      "A value is trying to be set on a copy of a slice from a DataFrame.\n",
      "Try using .loc[row_indexer,col_indexer] = value instead\n",
      "\n",
      "See the caveats in the documentation: https://pandas.pydata.org/pandas-docs/stable/user_guide/indexing.html#returning-a-view-versus-a-copy\n",
      "  pri_df['policy_cost'] = pri_df['elev_invst'].cumsum()\n",
      "/tmp/ipykernel_1041572/369906587.py:95: SettingWithCopyWarning: \n",
      "A value is trying to be set on a copy of a slice from a DataFrame.\n",
      "Try using .loc[row_indexer,col_indexer] = value instead\n",
      "\n",
      "See the caveats in the documentation: https://pandas.pydata.org/pandas-docs/stable/user_guide/indexing.html#returning-a-view-versus-a-copy\n",
      "  slack_df['policy_cost'] = slack_df['elev_invst'].cumsum()\n"
     ]
    },
    {
     "name": "stdout",
     "output_type": "stream",
     "text": [
      "Calculate objective values for policy:\n",
      "Sort by lmi\n",
      "With Budget of $M 10000000.0\n"
     ]
    },
    {
     "name": "stderr",
     "output_type": "stream",
     "text": [
      "/tmp/ipykernel_1041572/369906587.py:94: SettingWithCopyWarning: \n",
      "A value is trying to be set on a copy of a slice from a DataFrame.\n",
      "Try using .loc[row_indexer,col_indexer] = value instead\n",
      "\n",
      "See the caveats in the documentation: https://pandas.pydata.org/pandas-docs/stable/user_guide/indexing.html#returning-a-view-versus-a-copy\n",
      "  pri_df['policy_cost'] = pri_df['elev_invst'].cumsum()\n",
      "/tmp/ipykernel_1041572/369906587.py:95: SettingWithCopyWarning: \n",
      "A value is trying to be set on a copy of a slice from a DataFrame.\n",
      "Try using .loc[row_indexer,col_indexer] = value instead\n",
      "\n",
      "See the caveats in the documentation: https://pandas.pydata.org/pandas-docs/stable/user_guide/indexing.html#returning-a-view-versus-a-copy\n",
      "  slack_df['policy_cost'] = slack_df['elev_invst'].cumsum()\n",
      "/tmp/ipykernel_1041572/369906587.py:107: SettingWithCopyWarning: \n",
      "A value is trying to be set on a copy of a slice from a DataFrame.\n",
      "Try using .loc[row_indexer,col_indexer] = value instead\n",
      "\n",
      "See the caveats in the documentation: https://pandas.pydata.org/pandas-docs/stable/user_guide/indexing.html#returning-a-view-versus-a-copy\n",
      "  slack_elev['npv_check'] = slack_elev['npv_opt'].cumsum()\n"
     ]
    },
    {
     "name": "stdout",
     "output_type": "stream",
     "text": [
      "Calculate objective values for policy:\n",
      "Sort by ovb\n",
      "With Budget of $M 10000000.0\n"
     ]
    },
    {
     "name": "stderr",
     "output_type": "stream",
     "text": [
      "/tmp/ipykernel_1041572/369906587.py:94: SettingWithCopyWarning: \n",
      "A value is trying to be set on a copy of a slice from a DataFrame.\n",
      "Try using .loc[row_indexer,col_indexer] = value instead\n",
      "\n",
      "See the caveats in the documentation: https://pandas.pydata.org/pandas-docs/stable/user_guide/indexing.html#returning-a-view-versus-a-copy\n",
      "  pri_df['policy_cost'] = pri_df['elev_invst'].cumsum()\n",
      "/tmp/ipykernel_1041572/369906587.py:95: SettingWithCopyWarning: \n",
      "A value is trying to be set on a copy of a slice from a DataFrame.\n",
      "Try using .loc[row_indexer,col_indexer] = value instead\n",
      "\n",
      "See the caveats in the documentation: https://pandas.pydata.org/pandas-docs/stable/user_guide/indexing.html#returning-a-view-versus-a-copy\n",
      "  slack_df['policy_cost'] = slack_df['elev_invst'].cumsum()\n"
     ]
    },
    {
     "name": "stdout",
     "output_type": "stream",
     "text": [
      "Calculate objective values for policy:\n",
      "Sort by cejst\n",
      "With Budget of $M 10000000.0\n",
      "Calculate objective values for policy:\n",
      "Sort by npv_opt\n",
      "With Budget of $M 11000000.0\n",
      "Calculate objective values for policy:\n",
      "Sort by avoid_rel_eal\n",
      "With Budget of $M 11000000.0\n",
      "Calculate objective values for policy:\n",
      "Sort by rel_eal\n",
      "With Budget of $M 11000000.0\n"
     ]
    },
    {
     "name": "stderr",
     "output_type": "stream",
     "text": [
      "/tmp/ipykernel_1041572/369906587.py:94: SettingWithCopyWarning: \n",
      "A value is trying to be set on a copy of a slice from a DataFrame.\n",
      "Try using .loc[row_indexer,col_indexer] = value instead\n",
      "\n",
      "See the caveats in the documentation: https://pandas.pydata.org/pandas-docs/stable/user_guide/indexing.html#returning-a-view-versus-a-copy\n",
      "  pri_df['policy_cost'] = pri_df['elev_invst'].cumsum()\n",
      "/tmp/ipykernel_1041572/369906587.py:95: SettingWithCopyWarning: \n",
      "A value is trying to be set on a copy of a slice from a DataFrame.\n",
      "Try using .loc[row_indexer,col_indexer] = value instead\n",
      "\n",
      "See the caveats in the documentation: https://pandas.pydata.org/pandas-docs/stable/user_guide/indexing.html#returning-a-view-versus-a-copy\n",
      "  slack_df['policy_cost'] = slack_df['elev_invst'].cumsum()\n"
     ]
    },
    {
     "name": "stdout",
     "output_type": "stream",
     "text": [
      "Calculate objective values for policy:\n",
      "Sort by lmi\n",
      "With Budget of $M 11000000.0\n"
     ]
    },
    {
     "name": "stderr",
     "output_type": "stream",
     "text": [
      "/tmp/ipykernel_1041572/369906587.py:94: SettingWithCopyWarning: \n",
      "A value is trying to be set on a copy of a slice from a DataFrame.\n",
      "Try using .loc[row_indexer,col_indexer] = value instead\n",
      "\n",
      "See the caveats in the documentation: https://pandas.pydata.org/pandas-docs/stable/user_guide/indexing.html#returning-a-view-versus-a-copy\n",
      "  pri_df['policy_cost'] = pri_df['elev_invst'].cumsum()\n",
      "/tmp/ipykernel_1041572/369906587.py:95: SettingWithCopyWarning: \n",
      "A value is trying to be set on a copy of a slice from a DataFrame.\n",
      "Try using .loc[row_indexer,col_indexer] = value instead\n",
      "\n",
      "See the caveats in the documentation: https://pandas.pydata.org/pandas-docs/stable/user_guide/indexing.html#returning-a-view-versus-a-copy\n",
      "  slack_df['policy_cost'] = slack_df['elev_invst'].cumsum()\n"
     ]
    },
    {
     "name": "stdout",
     "output_type": "stream",
     "text": [
      "Calculate objective values for policy:\n",
      "Sort by ovb\n",
      "With Budget of $M 11000000.0\n"
     ]
    },
    {
     "name": "stderr",
     "output_type": "stream",
     "text": [
      "/tmp/ipykernel_1041572/369906587.py:94: SettingWithCopyWarning: \n",
      "A value is trying to be set on a copy of a slice from a DataFrame.\n",
      "Try using .loc[row_indexer,col_indexer] = value instead\n",
      "\n",
      "See the caveats in the documentation: https://pandas.pydata.org/pandas-docs/stable/user_guide/indexing.html#returning-a-view-versus-a-copy\n",
      "  pri_df['policy_cost'] = pri_df['elev_invst'].cumsum()\n",
      "/tmp/ipykernel_1041572/369906587.py:95: SettingWithCopyWarning: \n",
      "A value is trying to be set on a copy of a slice from a DataFrame.\n",
      "Try using .loc[row_indexer,col_indexer] = value instead\n",
      "\n",
      "See the caveats in the documentation: https://pandas.pydata.org/pandas-docs/stable/user_guide/indexing.html#returning-a-view-versus-a-copy\n",
      "  slack_df['policy_cost'] = slack_df['elev_invst'].cumsum()\n"
     ]
    },
    {
     "name": "stdout",
     "output_type": "stream",
     "text": [
      "Calculate objective values for policy:\n",
      "Sort by cejst\n",
      "With Budget of $M 11000000.0\n",
      "Calculate objective values for policy:\n",
      "Sort by npv_opt\n",
      "With Budget of $M 12000000.0\n",
      "Calculate objective values for policy:\n",
      "Sort by avoid_rel_eal\n",
      "With Budget of $M 12000000.0\n",
      "Calculate objective values for policy:\n",
      "Sort by rel_eal\n",
      "With Budget of $M 12000000.0\n"
     ]
    },
    {
     "name": "stderr",
     "output_type": "stream",
     "text": [
      "/tmp/ipykernel_1041572/369906587.py:94: SettingWithCopyWarning: \n",
      "A value is trying to be set on a copy of a slice from a DataFrame.\n",
      "Try using .loc[row_indexer,col_indexer] = value instead\n",
      "\n",
      "See the caveats in the documentation: https://pandas.pydata.org/pandas-docs/stable/user_guide/indexing.html#returning-a-view-versus-a-copy\n",
      "  pri_df['policy_cost'] = pri_df['elev_invst'].cumsum()\n",
      "/tmp/ipykernel_1041572/369906587.py:95: SettingWithCopyWarning: \n",
      "A value is trying to be set on a copy of a slice from a DataFrame.\n",
      "Try using .loc[row_indexer,col_indexer] = value instead\n",
      "\n",
      "See the caveats in the documentation: https://pandas.pydata.org/pandas-docs/stable/user_guide/indexing.html#returning-a-view-versus-a-copy\n",
      "  slack_df['policy_cost'] = slack_df['elev_invst'].cumsum()\n"
     ]
    },
    {
     "name": "stdout",
     "output_type": "stream",
     "text": [
      "Calculate objective values for policy:\n",
      "Sort by lmi\n",
      "With Budget of $M 12000000.0\n"
     ]
    },
    {
     "name": "stderr",
     "output_type": "stream",
     "text": [
      "/tmp/ipykernel_1041572/369906587.py:94: SettingWithCopyWarning: \n",
      "A value is trying to be set on a copy of a slice from a DataFrame.\n",
      "Try using .loc[row_indexer,col_indexer] = value instead\n",
      "\n",
      "See the caveats in the documentation: https://pandas.pydata.org/pandas-docs/stable/user_guide/indexing.html#returning-a-view-versus-a-copy\n",
      "  pri_df['policy_cost'] = pri_df['elev_invst'].cumsum()\n",
      "/tmp/ipykernel_1041572/369906587.py:95: SettingWithCopyWarning: \n",
      "A value is trying to be set on a copy of a slice from a DataFrame.\n",
      "Try using .loc[row_indexer,col_indexer] = value instead\n",
      "\n",
      "See the caveats in the documentation: https://pandas.pydata.org/pandas-docs/stable/user_guide/indexing.html#returning-a-view-versus-a-copy\n",
      "  slack_df['policy_cost'] = slack_df['elev_invst'].cumsum()\n"
     ]
    },
    {
     "name": "stdout",
     "output_type": "stream",
     "text": [
      "Calculate objective values for policy:\n",
      "Sort by ovb\n",
      "With Budget of $M 12000000.0\n"
     ]
    },
    {
     "name": "stderr",
     "output_type": "stream",
     "text": [
      "/tmp/ipykernel_1041572/369906587.py:94: SettingWithCopyWarning: \n",
      "A value is trying to be set on a copy of a slice from a DataFrame.\n",
      "Try using .loc[row_indexer,col_indexer] = value instead\n",
      "\n",
      "See the caveats in the documentation: https://pandas.pydata.org/pandas-docs/stable/user_guide/indexing.html#returning-a-view-versus-a-copy\n",
      "  pri_df['policy_cost'] = pri_df['elev_invst'].cumsum()\n",
      "/tmp/ipykernel_1041572/369906587.py:95: SettingWithCopyWarning: \n",
      "A value is trying to be set on a copy of a slice from a DataFrame.\n",
      "Try using .loc[row_indexer,col_indexer] = value instead\n",
      "\n",
      "See the caveats in the documentation: https://pandas.pydata.org/pandas-docs/stable/user_guide/indexing.html#returning-a-view-versus-a-copy\n",
      "  slack_df['policy_cost'] = slack_df['elev_invst'].cumsum()\n"
     ]
    },
    {
     "name": "stdout",
     "output_type": "stream",
     "text": [
      "Calculate objective values for policy:\n",
      "Sort by cejst\n",
      "With Budget of $M 12000000.0\n",
      "Calculate objective values for policy:\n",
      "Sort by npv_opt\n",
      "With Budget of $M 13000000.0\n",
      "Calculate objective values for policy:\n",
      "Sort by avoid_rel_eal\n",
      "With Budget of $M 13000000.0\n",
      "Calculate objective values for policy:\n",
      "Sort by rel_eal\n",
      "With Budget of $M 13000000.0\n"
     ]
    },
    {
     "name": "stderr",
     "output_type": "stream",
     "text": [
      "/tmp/ipykernel_1041572/369906587.py:94: SettingWithCopyWarning: \n",
      "A value is trying to be set on a copy of a slice from a DataFrame.\n",
      "Try using .loc[row_indexer,col_indexer] = value instead\n",
      "\n",
      "See the caveats in the documentation: https://pandas.pydata.org/pandas-docs/stable/user_guide/indexing.html#returning-a-view-versus-a-copy\n",
      "  pri_df['policy_cost'] = pri_df['elev_invst'].cumsum()\n",
      "/tmp/ipykernel_1041572/369906587.py:95: SettingWithCopyWarning: \n",
      "A value is trying to be set on a copy of a slice from a DataFrame.\n",
      "Try using .loc[row_indexer,col_indexer] = value instead\n",
      "\n",
      "See the caveats in the documentation: https://pandas.pydata.org/pandas-docs/stable/user_guide/indexing.html#returning-a-view-versus-a-copy\n",
      "  slack_df['policy_cost'] = slack_df['elev_invst'].cumsum()\n"
     ]
    },
    {
     "name": "stdout",
     "output_type": "stream",
     "text": [
      "Calculate objective values for policy:\n",
      "Sort by lmi\n",
      "With Budget of $M 13000000.0\n"
     ]
    },
    {
     "name": "stderr",
     "output_type": "stream",
     "text": [
      "/tmp/ipykernel_1041572/369906587.py:94: SettingWithCopyWarning: \n",
      "A value is trying to be set on a copy of a slice from a DataFrame.\n",
      "Try using .loc[row_indexer,col_indexer] = value instead\n",
      "\n",
      "See the caveats in the documentation: https://pandas.pydata.org/pandas-docs/stable/user_guide/indexing.html#returning-a-view-versus-a-copy\n",
      "  pri_df['policy_cost'] = pri_df['elev_invst'].cumsum()\n",
      "/tmp/ipykernel_1041572/369906587.py:95: SettingWithCopyWarning: \n",
      "A value is trying to be set on a copy of a slice from a DataFrame.\n",
      "Try using .loc[row_indexer,col_indexer] = value instead\n",
      "\n",
      "See the caveats in the documentation: https://pandas.pydata.org/pandas-docs/stable/user_guide/indexing.html#returning-a-view-versus-a-copy\n",
      "  slack_df['policy_cost'] = slack_df['elev_invst'].cumsum()\n"
     ]
    },
    {
     "name": "stdout",
     "output_type": "stream",
     "text": [
      "Calculate objective values for policy:\n",
      "Sort by ovb\n",
      "With Budget of $M 13000000.0\n"
     ]
    },
    {
     "name": "stderr",
     "output_type": "stream",
     "text": [
      "/tmp/ipykernel_1041572/369906587.py:94: SettingWithCopyWarning: \n",
      "A value is trying to be set on a copy of a slice from a DataFrame.\n",
      "Try using .loc[row_indexer,col_indexer] = value instead\n",
      "\n",
      "See the caveats in the documentation: https://pandas.pydata.org/pandas-docs/stable/user_guide/indexing.html#returning-a-view-versus-a-copy\n",
      "  pri_df['policy_cost'] = pri_df['elev_invst'].cumsum()\n",
      "/tmp/ipykernel_1041572/369906587.py:95: SettingWithCopyWarning: \n",
      "A value is trying to be set on a copy of a slice from a DataFrame.\n",
      "Try using .loc[row_indexer,col_indexer] = value instead\n",
      "\n",
      "See the caveats in the documentation: https://pandas.pydata.org/pandas-docs/stable/user_guide/indexing.html#returning-a-view-versus-a-copy\n",
      "  slack_df['policy_cost'] = slack_df['elev_invst'].cumsum()\n"
     ]
    },
    {
     "name": "stdout",
     "output_type": "stream",
     "text": [
      "Calculate objective values for policy:\n",
      "Sort by cejst\n",
      "With Budget of $M 13000000.0\n",
      "Calculate objective values for policy:\n",
      "Sort by npv_opt\n",
      "With Budget of $M 14000000.0\n",
      "Calculate objective values for policy:\n",
      "Sort by avoid_rel_eal\n",
      "With Budget of $M 14000000.0\n",
      "Calculate objective values for policy:\n",
      "Sort by rel_eal\n",
      "With Budget of $M 14000000.0\n"
     ]
    },
    {
     "name": "stderr",
     "output_type": "stream",
     "text": [
      "/tmp/ipykernel_1041572/369906587.py:94: SettingWithCopyWarning: \n",
      "A value is trying to be set on a copy of a slice from a DataFrame.\n",
      "Try using .loc[row_indexer,col_indexer] = value instead\n",
      "\n",
      "See the caveats in the documentation: https://pandas.pydata.org/pandas-docs/stable/user_guide/indexing.html#returning-a-view-versus-a-copy\n",
      "  pri_df['policy_cost'] = pri_df['elev_invst'].cumsum()\n",
      "/tmp/ipykernel_1041572/369906587.py:95: SettingWithCopyWarning: \n",
      "A value is trying to be set on a copy of a slice from a DataFrame.\n",
      "Try using .loc[row_indexer,col_indexer] = value instead\n",
      "\n",
      "See the caveats in the documentation: https://pandas.pydata.org/pandas-docs/stable/user_guide/indexing.html#returning-a-view-versus-a-copy\n",
      "  slack_df['policy_cost'] = slack_df['elev_invst'].cumsum()\n"
     ]
    },
    {
     "name": "stdout",
     "output_type": "stream",
     "text": [
      "Calculate objective values for policy:\n",
      "Sort by lmi\n",
      "With Budget of $M 14000000.0\n"
     ]
    },
    {
     "name": "stderr",
     "output_type": "stream",
     "text": [
      "/tmp/ipykernel_1041572/369906587.py:94: SettingWithCopyWarning: \n",
      "A value is trying to be set on a copy of a slice from a DataFrame.\n",
      "Try using .loc[row_indexer,col_indexer] = value instead\n",
      "\n",
      "See the caveats in the documentation: https://pandas.pydata.org/pandas-docs/stable/user_guide/indexing.html#returning-a-view-versus-a-copy\n",
      "  pri_df['policy_cost'] = pri_df['elev_invst'].cumsum()\n",
      "/tmp/ipykernel_1041572/369906587.py:95: SettingWithCopyWarning: \n",
      "A value is trying to be set on a copy of a slice from a DataFrame.\n",
      "Try using .loc[row_indexer,col_indexer] = value instead\n",
      "\n",
      "See the caveats in the documentation: https://pandas.pydata.org/pandas-docs/stable/user_guide/indexing.html#returning-a-view-versus-a-copy\n",
      "  slack_df['policy_cost'] = slack_df['elev_invst'].cumsum()\n"
     ]
    },
    {
     "name": "stdout",
     "output_type": "stream",
     "text": [
      "Calculate objective values for policy:\n",
      "Sort by ovb\n",
      "With Budget of $M 14000000.0\n"
     ]
    },
    {
     "name": "stderr",
     "output_type": "stream",
     "text": [
      "/tmp/ipykernel_1041572/369906587.py:94: SettingWithCopyWarning: \n",
      "A value is trying to be set on a copy of a slice from a DataFrame.\n",
      "Try using .loc[row_indexer,col_indexer] = value instead\n",
      "\n",
      "See the caveats in the documentation: https://pandas.pydata.org/pandas-docs/stable/user_guide/indexing.html#returning-a-view-versus-a-copy\n",
      "  pri_df['policy_cost'] = pri_df['elev_invst'].cumsum()\n",
      "/tmp/ipykernel_1041572/369906587.py:95: SettingWithCopyWarning: \n",
      "A value is trying to be set on a copy of a slice from a DataFrame.\n",
      "Try using .loc[row_indexer,col_indexer] = value instead\n",
      "\n",
      "See the caveats in the documentation: https://pandas.pydata.org/pandas-docs/stable/user_guide/indexing.html#returning-a-view-versus-a-copy\n",
      "  slack_df['policy_cost'] = slack_df['elev_invst'].cumsum()\n"
     ]
    },
    {
     "name": "stdout",
     "output_type": "stream",
     "text": [
      "Calculate objective values for policy:\n",
      "Sort by cejst\n",
      "With Budget of $M 14000000.0\n",
      "Calculate objective values for policy:\n",
      "Sort by npv_opt\n",
      "With Budget of $M 15000000.0\n",
      "Calculate objective values for policy:\n",
      "Sort by avoid_rel_eal\n",
      "With Budget of $M 15000000.0\n",
      "Calculate objective values for policy:\n",
      "Sort by rel_eal\n",
      "With Budget of $M 15000000.0\n"
     ]
    },
    {
     "name": "stderr",
     "output_type": "stream",
     "text": [
      "/tmp/ipykernel_1041572/369906587.py:94: SettingWithCopyWarning: \n",
      "A value is trying to be set on a copy of a slice from a DataFrame.\n",
      "Try using .loc[row_indexer,col_indexer] = value instead\n",
      "\n",
      "See the caveats in the documentation: https://pandas.pydata.org/pandas-docs/stable/user_guide/indexing.html#returning-a-view-versus-a-copy\n",
      "  pri_df['policy_cost'] = pri_df['elev_invst'].cumsum()\n",
      "/tmp/ipykernel_1041572/369906587.py:95: SettingWithCopyWarning: \n",
      "A value is trying to be set on a copy of a slice from a DataFrame.\n",
      "Try using .loc[row_indexer,col_indexer] = value instead\n",
      "\n",
      "See the caveats in the documentation: https://pandas.pydata.org/pandas-docs/stable/user_guide/indexing.html#returning-a-view-versus-a-copy\n",
      "  slack_df['policy_cost'] = slack_df['elev_invst'].cumsum()\n"
     ]
    },
    {
     "name": "stdout",
     "output_type": "stream",
     "text": [
      "Calculate objective values for policy:\n",
      "Sort by lmi\n",
      "With Budget of $M 15000000.0\n"
     ]
    },
    {
     "name": "stderr",
     "output_type": "stream",
     "text": [
      "/tmp/ipykernel_1041572/369906587.py:94: SettingWithCopyWarning: \n",
      "A value is trying to be set on a copy of a slice from a DataFrame.\n",
      "Try using .loc[row_indexer,col_indexer] = value instead\n",
      "\n",
      "See the caveats in the documentation: https://pandas.pydata.org/pandas-docs/stable/user_guide/indexing.html#returning-a-view-versus-a-copy\n",
      "  pri_df['policy_cost'] = pri_df['elev_invst'].cumsum()\n",
      "/tmp/ipykernel_1041572/369906587.py:95: SettingWithCopyWarning: \n",
      "A value is trying to be set on a copy of a slice from a DataFrame.\n",
      "Try using .loc[row_indexer,col_indexer] = value instead\n",
      "\n",
      "See the caveats in the documentation: https://pandas.pydata.org/pandas-docs/stable/user_guide/indexing.html#returning-a-view-versus-a-copy\n",
      "  slack_df['policy_cost'] = slack_df['elev_invst'].cumsum()\n"
     ]
    },
    {
     "name": "stdout",
     "output_type": "stream",
     "text": [
      "Calculate objective values for policy:\n",
      "Sort by ovb\n",
      "With Budget of $M 15000000.0\n"
     ]
    },
    {
     "name": "stderr",
     "output_type": "stream",
     "text": [
      "/tmp/ipykernel_1041572/369906587.py:94: SettingWithCopyWarning: \n",
      "A value is trying to be set on a copy of a slice from a DataFrame.\n",
      "Try using .loc[row_indexer,col_indexer] = value instead\n",
      "\n",
      "See the caveats in the documentation: https://pandas.pydata.org/pandas-docs/stable/user_guide/indexing.html#returning-a-view-versus-a-copy\n",
      "  pri_df['policy_cost'] = pri_df['elev_invst'].cumsum()\n",
      "/tmp/ipykernel_1041572/369906587.py:95: SettingWithCopyWarning: \n",
      "A value is trying to be set on a copy of a slice from a DataFrame.\n",
      "Try using .loc[row_indexer,col_indexer] = value instead\n",
      "\n",
      "See the caveats in the documentation: https://pandas.pydata.org/pandas-docs/stable/user_guide/indexing.html#returning-a-view-versus-a-copy\n",
      "  slack_df['policy_cost'] = slack_df['elev_invst'].cumsum()\n"
     ]
    },
    {
     "name": "stdout",
     "output_type": "stream",
     "text": [
      "Calculate objective values for policy:\n",
      "Sort by cejst\n",
      "With Budget of $M 15000000.0\n",
      "Scenario: Upper_hazus\n",
      "Calculate objective values for policy:\n",
      "Sort by npv_opt\n",
      "With Budget of $M 1000000.0\n",
      "Calculate objective values for policy:\n",
      "Sort by avoid_rel_eal\n",
      "With Budget of $M 1000000.0\n",
      "Calculate objective values for policy:\n",
      "Sort by rel_eal\n",
      "With Budget of $M 1000000.0\n"
     ]
    },
    {
     "name": "stderr",
     "output_type": "stream",
     "text": [
      "/tmp/ipykernel_1041572/369906587.py:94: SettingWithCopyWarning: \n",
      "A value is trying to be set on a copy of a slice from a DataFrame.\n",
      "Try using .loc[row_indexer,col_indexer] = value instead\n",
      "\n",
      "See the caveats in the documentation: https://pandas.pydata.org/pandas-docs/stable/user_guide/indexing.html#returning-a-view-versus-a-copy\n",
      "  pri_df['policy_cost'] = pri_df['elev_invst'].cumsum()\n",
      "/tmp/ipykernel_1041572/369906587.py:95: SettingWithCopyWarning: \n",
      "A value is trying to be set on a copy of a slice from a DataFrame.\n",
      "Try using .loc[row_indexer,col_indexer] = value instead\n",
      "\n",
      "See the caveats in the documentation: https://pandas.pydata.org/pandas-docs/stable/user_guide/indexing.html#returning-a-view-versus-a-copy\n",
      "  slack_df['policy_cost'] = slack_df['elev_invst'].cumsum()\n"
     ]
    },
    {
     "name": "stdout",
     "output_type": "stream",
     "text": [
      "Calculate objective values for policy:\n",
      "Sort by lmi\n",
      "With Budget of $M 1000000.0\n"
     ]
    },
    {
     "name": "stderr",
     "output_type": "stream",
     "text": [
      "/tmp/ipykernel_1041572/369906587.py:94: SettingWithCopyWarning: \n",
      "A value is trying to be set on a copy of a slice from a DataFrame.\n",
      "Try using .loc[row_indexer,col_indexer] = value instead\n",
      "\n",
      "See the caveats in the documentation: https://pandas.pydata.org/pandas-docs/stable/user_guide/indexing.html#returning-a-view-versus-a-copy\n",
      "  pri_df['policy_cost'] = pri_df['elev_invst'].cumsum()\n",
      "/tmp/ipykernel_1041572/369906587.py:95: SettingWithCopyWarning: \n",
      "A value is trying to be set on a copy of a slice from a DataFrame.\n",
      "Try using .loc[row_indexer,col_indexer] = value instead\n",
      "\n",
      "See the caveats in the documentation: https://pandas.pydata.org/pandas-docs/stable/user_guide/indexing.html#returning-a-view-versus-a-copy\n",
      "  slack_df['policy_cost'] = slack_df['elev_invst'].cumsum()\n"
     ]
    },
    {
     "name": "stdout",
     "output_type": "stream",
     "text": [
      "Calculate objective values for policy:\n",
      "Sort by ovb\n",
      "With Budget of $M 1000000.0\n"
     ]
    },
    {
     "name": "stderr",
     "output_type": "stream",
     "text": [
      "/tmp/ipykernel_1041572/369906587.py:94: SettingWithCopyWarning: \n",
      "A value is trying to be set on a copy of a slice from a DataFrame.\n",
      "Try using .loc[row_indexer,col_indexer] = value instead\n",
      "\n",
      "See the caveats in the documentation: https://pandas.pydata.org/pandas-docs/stable/user_guide/indexing.html#returning-a-view-versus-a-copy\n",
      "  pri_df['policy_cost'] = pri_df['elev_invst'].cumsum()\n",
      "/tmp/ipykernel_1041572/369906587.py:95: SettingWithCopyWarning: \n",
      "A value is trying to be set on a copy of a slice from a DataFrame.\n",
      "Try using .loc[row_indexer,col_indexer] = value instead\n",
      "\n",
      "See the caveats in the documentation: https://pandas.pydata.org/pandas-docs/stable/user_guide/indexing.html#returning-a-view-versus-a-copy\n",
      "  slack_df['policy_cost'] = slack_df['elev_invst'].cumsum()\n"
     ]
    },
    {
     "name": "stdout",
     "output_type": "stream",
     "text": [
      "Calculate objective values for policy:\n",
      "Sort by cejst\n",
      "With Budget of $M 1000000.0\n",
      "Calculate objective values for policy:\n",
      "Sort by npv_opt\n",
      "With Budget of $M 1500000.0\n",
      "Calculate objective values for policy:\n",
      "Sort by avoid_rel_eal\n",
      "With Budget of $M 1500000.0\n",
      "Calculate objective values for policy:\n",
      "Sort by rel_eal\n",
      "With Budget of $M 1500000.0\n"
     ]
    },
    {
     "name": "stderr",
     "output_type": "stream",
     "text": [
      "/tmp/ipykernel_1041572/369906587.py:94: SettingWithCopyWarning: \n",
      "A value is trying to be set on a copy of a slice from a DataFrame.\n",
      "Try using .loc[row_indexer,col_indexer] = value instead\n",
      "\n",
      "See the caveats in the documentation: https://pandas.pydata.org/pandas-docs/stable/user_guide/indexing.html#returning-a-view-versus-a-copy\n",
      "  pri_df['policy_cost'] = pri_df['elev_invst'].cumsum()\n",
      "/tmp/ipykernel_1041572/369906587.py:95: SettingWithCopyWarning: \n",
      "A value is trying to be set on a copy of a slice from a DataFrame.\n",
      "Try using .loc[row_indexer,col_indexer] = value instead\n",
      "\n",
      "See the caveats in the documentation: https://pandas.pydata.org/pandas-docs/stable/user_guide/indexing.html#returning-a-view-versus-a-copy\n",
      "  slack_df['policy_cost'] = slack_df['elev_invst'].cumsum()\n"
     ]
    },
    {
     "name": "stdout",
     "output_type": "stream",
     "text": [
      "Calculate objective values for policy:\n",
      "Sort by lmi\n",
      "With Budget of $M 1500000.0\n"
     ]
    },
    {
     "name": "stderr",
     "output_type": "stream",
     "text": [
      "/tmp/ipykernel_1041572/369906587.py:94: SettingWithCopyWarning: \n",
      "A value is trying to be set on a copy of a slice from a DataFrame.\n",
      "Try using .loc[row_indexer,col_indexer] = value instead\n",
      "\n",
      "See the caveats in the documentation: https://pandas.pydata.org/pandas-docs/stable/user_guide/indexing.html#returning-a-view-versus-a-copy\n",
      "  pri_df['policy_cost'] = pri_df['elev_invst'].cumsum()\n",
      "/tmp/ipykernel_1041572/369906587.py:95: SettingWithCopyWarning: \n",
      "A value is trying to be set on a copy of a slice from a DataFrame.\n",
      "Try using .loc[row_indexer,col_indexer] = value instead\n",
      "\n",
      "See the caveats in the documentation: https://pandas.pydata.org/pandas-docs/stable/user_guide/indexing.html#returning-a-view-versus-a-copy\n",
      "  slack_df['policy_cost'] = slack_df['elev_invst'].cumsum()\n"
     ]
    },
    {
     "name": "stdout",
     "output_type": "stream",
     "text": [
      "Calculate objective values for policy:\n",
      "Sort by ovb\n",
      "With Budget of $M 1500000.0\n"
     ]
    },
    {
     "name": "stderr",
     "output_type": "stream",
     "text": [
      "/tmp/ipykernel_1041572/369906587.py:94: SettingWithCopyWarning: \n",
      "A value is trying to be set on a copy of a slice from a DataFrame.\n",
      "Try using .loc[row_indexer,col_indexer] = value instead\n",
      "\n",
      "See the caveats in the documentation: https://pandas.pydata.org/pandas-docs/stable/user_guide/indexing.html#returning-a-view-versus-a-copy\n",
      "  pri_df['policy_cost'] = pri_df['elev_invst'].cumsum()\n",
      "/tmp/ipykernel_1041572/369906587.py:95: SettingWithCopyWarning: \n",
      "A value is trying to be set on a copy of a slice from a DataFrame.\n",
      "Try using .loc[row_indexer,col_indexer] = value instead\n",
      "\n",
      "See the caveats in the documentation: https://pandas.pydata.org/pandas-docs/stable/user_guide/indexing.html#returning-a-view-versus-a-copy\n",
      "  slack_df['policy_cost'] = slack_df['elev_invst'].cumsum()\n"
     ]
    },
    {
     "name": "stdout",
     "output_type": "stream",
     "text": [
      "Calculate objective values for policy:\n",
      "Sort by cejst\n",
      "With Budget of $M 1500000.0\n",
      "Calculate objective values for policy:\n",
      "Sort by npv_opt\n",
      "With Budget of $M 2000000.0\n",
      "Calculate objective values for policy:\n",
      "Sort by avoid_rel_eal\n",
      "With Budget of $M 2000000.0\n",
      "Calculate objective values for policy:\n",
      "Sort by rel_eal\n",
      "With Budget of $M 2000000.0\n"
     ]
    },
    {
     "name": "stderr",
     "output_type": "stream",
     "text": [
      "/tmp/ipykernel_1041572/369906587.py:94: SettingWithCopyWarning: \n",
      "A value is trying to be set on a copy of a slice from a DataFrame.\n",
      "Try using .loc[row_indexer,col_indexer] = value instead\n",
      "\n",
      "See the caveats in the documentation: https://pandas.pydata.org/pandas-docs/stable/user_guide/indexing.html#returning-a-view-versus-a-copy\n",
      "  pri_df['policy_cost'] = pri_df['elev_invst'].cumsum()\n",
      "/tmp/ipykernel_1041572/369906587.py:95: SettingWithCopyWarning: \n",
      "A value is trying to be set on a copy of a slice from a DataFrame.\n",
      "Try using .loc[row_indexer,col_indexer] = value instead\n",
      "\n",
      "See the caveats in the documentation: https://pandas.pydata.org/pandas-docs/stable/user_guide/indexing.html#returning-a-view-versus-a-copy\n",
      "  slack_df['policy_cost'] = slack_df['elev_invst'].cumsum()\n"
     ]
    },
    {
     "name": "stdout",
     "output_type": "stream",
     "text": [
      "Calculate objective values for policy:\n",
      "Sort by lmi\n",
      "With Budget of $M 2000000.0\n"
     ]
    },
    {
     "name": "stderr",
     "output_type": "stream",
     "text": [
      "/tmp/ipykernel_1041572/369906587.py:94: SettingWithCopyWarning: \n",
      "A value is trying to be set on a copy of a slice from a DataFrame.\n",
      "Try using .loc[row_indexer,col_indexer] = value instead\n",
      "\n",
      "See the caveats in the documentation: https://pandas.pydata.org/pandas-docs/stable/user_guide/indexing.html#returning-a-view-versus-a-copy\n",
      "  pri_df['policy_cost'] = pri_df['elev_invst'].cumsum()\n",
      "/tmp/ipykernel_1041572/369906587.py:95: SettingWithCopyWarning: \n",
      "A value is trying to be set on a copy of a slice from a DataFrame.\n",
      "Try using .loc[row_indexer,col_indexer] = value instead\n",
      "\n",
      "See the caveats in the documentation: https://pandas.pydata.org/pandas-docs/stable/user_guide/indexing.html#returning-a-view-versus-a-copy\n",
      "  slack_df['policy_cost'] = slack_df['elev_invst'].cumsum()\n"
     ]
    },
    {
     "name": "stdout",
     "output_type": "stream",
     "text": [
      "Calculate objective values for policy:\n",
      "Sort by ovb\n",
      "With Budget of $M 2000000.0\n"
     ]
    },
    {
     "name": "stderr",
     "output_type": "stream",
     "text": [
      "/tmp/ipykernel_1041572/369906587.py:94: SettingWithCopyWarning: \n",
      "A value is trying to be set on a copy of a slice from a DataFrame.\n",
      "Try using .loc[row_indexer,col_indexer] = value instead\n",
      "\n",
      "See the caveats in the documentation: https://pandas.pydata.org/pandas-docs/stable/user_guide/indexing.html#returning-a-view-versus-a-copy\n",
      "  pri_df['policy_cost'] = pri_df['elev_invst'].cumsum()\n",
      "/tmp/ipykernel_1041572/369906587.py:95: SettingWithCopyWarning: \n",
      "A value is trying to be set on a copy of a slice from a DataFrame.\n",
      "Try using .loc[row_indexer,col_indexer] = value instead\n",
      "\n",
      "See the caveats in the documentation: https://pandas.pydata.org/pandas-docs/stable/user_guide/indexing.html#returning-a-view-versus-a-copy\n",
      "  slack_df['policy_cost'] = slack_df['elev_invst'].cumsum()\n"
     ]
    },
    {
     "name": "stdout",
     "output_type": "stream",
     "text": [
      "Calculate objective values for policy:\n",
      "Sort by cejst\n",
      "With Budget of $M 2000000.0\n",
      "Calculate objective values for policy:\n",
      "Sort by npv_opt\n",
      "With Budget of $M 2500000.0\n",
      "Calculate objective values for policy:\n",
      "Sort by avoid_rel_eal\n",
      "With Budget of $M 2500000.0\n",
      "Calculate objective values for policy:\n",
      "Sort by rel_eal\n",
      "With Budget of $M 2500000.0\n"
     ]
    },
    {
     "name": "stderr",
     "output_type": "stream",
     "text": [
      "/tmp/ipykernel_1041572/369906587.py:94: SettingWithCopyWarning: \n",
      "A value is trying to be set on a copy of a slice from a DataFrame.\n",
      "Try using .loc[row_indexer,col_indexer] = value instead\n",
      "\n",
      "See the caveats in the documentation: https://pandas.pydata.org/pandas-docs/stable/user_guide/indexing.html#returning-a-view-versus-a-copy\n",
      "  pri_df['policy_cost'] = pri_df['elev_invst'].cumsum()\n",
      "/tmp/ipykernel_1041572/369906587.py:95: SettingWithCopyWarning: \n",
      "A value is trying to be set on a copy of a slice from a DataFrame.\n",
      "Try using .loc[row_indexer,col_indexer] = value instead\n",
      "\n",
      "See the caveats in the documentation: https://pandas.pydata.org/pandas-docs/stable/user_guide/indexing.html#returning-a-view-versus-a-copy\n",
      "  slack_df['policy_cost'] = slack_df['elev_invst'].cumsum()\n"
     ]
    },
    {
     "name": "stdout",
     "output_type": "stream",
     "text": [
      "Calculate objective values for policy:\n",
      "Sort by lmi\n",
      "With Budget of $M 2500000.0\n"
     ]
    },
    {
     "name": "stderr",
     "output_type": "stream",
     "text": [
      "/tmp/ipykernel_1041572/369906587.py:94: SettingWithCopyWarning: \n",
      "A value is trying to be set on a copy of a slice from a DataFrame.\n",
      "Try using .loc[row_indexer,col_indexer] = value instead\n",
      "\n",
      "See the caveats in the documentation: https://pandas.pydata.org/pandas-docs/stable/user_guide/indexing.html#returning-a-view-versus-a-copy\n",
      "  pri_df['policy_cost'] = pri_df['elev_invst'].cumsum()\n",
      "/tmp/ipykernel_1041572/369906587.py:95: SettingWithCopyWarning: \n",
      "A value is trying to be set on a copy of a slice from a DataFrame.\n",
      "Try using .loc[row_indexer,col_indexer] = value instead\n",
      "\n",
      "See the caveats in the documentation: https://pandas.pydata.org/pandas-docs/stable/user_guide/indexing.html#returning-a-view-versus-a-copy\n",
      "  slack_df['policy_cost'] = slack_df['elev_invst'].cumsum()\n"
     ]
    },
    {
     "name": "stdout",
     "output_type": "stream",
     "text": [
      "Calculate objective values for policy:\n",
      "Sort by ovb\n",
      "With Budget of $M 2500000.0\n"
     ]
    },
    {
     "name": "stderr",
     "output_type": "stream",
     "text": [
      "/tmp/ipykernel_1041572/369906587.py:94: SettingWithCopyWarning: \n",
      "A value is trying to be set on a copy of a slice from a DataFrame.\n",
      "Try using .loc[row_indexer,col_indexer] = value instead\n",
      "\n",
      "See the caveats in the documentation: https://pandas.pydata.org/pandas-docs/stable/user_guide/indexing.html#returning-a-view-versus-a-copy\n",
      "  pri_df['policy_cost'] = pri_df['elev_invst'].cumsum()\n",
      "/tmp/ipykernel_1041572/369906587.py:95: SettingWithCopyWarning: \n",
      "A value is trying to be set on a copy of a slice from a DataFrame.\n",
      "Try using .loc[row_indexer,col_indexer] = value instead\n",
      "\n",
      "See the caveats in the documentation: https://pandas.pydata.org/pandas-docs/stable/user_guide/indexing.html#returning-a-view-versus-a-copy\n",
      "  slack_df['policy_cost'] = slack_df['elev_invst'].cumsum()\n"
     ]
    },
    {
     "name": "stdout",
     "output_type": "stream",
     "text": [
      "Calculate objective values for policy:\n",
      "Sort by cejst\n",
      "With Budget of $M 2500000.0\n",
      "Calculate objective values for policy:\n",
      "Sort by npv_opt\n",
      "With Budget of $M 3000000.0\n",
      "Calculate objective values for policy:\n",
      "Sort by avoid_rel_eal\n",
      "With Budget of $M 3000000.0\n",
      "Calculate objective values for policy:\n",
      "Sort by rel_eal\n",
      "With Budget of $M 3000000.0\n"
     ]
    },
    {
     "name": "stderr",
     "output_type": "stream",
     "text": [
      "/tmp/ipykernel_1041572/369906587.py:94: SettingWithCopyWarning: \n",
      "A value is trying to be set on a copy of a slice from a DataFrame.\n",
      "Try using .loc[row_indexer,col_indexer] = value instead\n",
      "\n",
      "See the caveats in the documentation: https://pandas.pydata.org/pandas-docs/stable/user_guide/indexing.html#returning-a-view-versus-a-copy\n",
      "  pri_df['policy_cost'] = pri_df['elev_invst'].cumsum()\n",
      "/tmp/ipykernel_1041572/369906587.py:95: SettingWithCopyWarning: \n",
      "A value is trying to be set on a copy of a slice from a DataFrame.\n",
      "Try using .loc[row_indexer,col_indexer] = value instead\n",
      "\n",
      "See the caveats in the documentation: https://pandas.pydata.org/pandas-docs/stable/user_guide/indexing.html#returning-a-view-versus-a-copy\n",
      "  slack_df['policy_cost'] = slack_df['elev_invst'].cumsum()\n"
     ]
    },
    {
     "name": "stdout",
     "output_type": "stream",
     "text": [
      "Calculate objective values for policy:\n",
      "Sort by lmi\n",
      "With Budget of $M 3000000.0\n"
     ]
    },
    {
     "name": "stderr",
     "output_type": "stream",
     "text": [
      "/tmp/ipykernel_1041572/369906587.py:94: SettingWithCopyWarning: \n",
      "A value is trying to be set on a copy of a slice from a DataFrame.\n",
      "Try using .loc[row_indexer,col_indexer] = value instead\n",
      "\n",
      "See the caveats in the documentation: https://pandas.pydata.org/pandas-docs/stable/user_guide/indexing.html#returning-a-view-versus-a-copy\n",
      "  pri_df['policy_cost'] = pri_df['elev_invst'].cumsum()\n",
      "/tmp/ipykernel_1041572/369906587.py:95: SettingWithCopyWarning: \n",
      "A value is trying to be set on a copy of a slice from a DataFrame.\n",
      "Try using .loc[row_indexer,col_indexer] = value instead\n",
      "\n",
      "See the caveats in the documentation: https://pandas.pydata.org/pandas-docs/stable/user_guide/indexing.html#returning-a-view-versus-a-copy\n",
      "  slack_df['policy_cost'] = slack_df['elev_invst'].cumsum()\n"
     ]
    },
    {
     "ename": "KeyboardInterrupt",
     "evalue": "",
     "output_type": "error",
     "traceback": [
      "\u001b[0;31m---------------------------------------------------------------------------\u001b[0m",
      "\u001b[0;31mKeyboardInterrupt\u001b[0m                         Traceback (most recent call last)",
      "Cell \u001b[0;32mIn[71], line 126\u001b[0m\n\u001b[1;32m    120\u001b[0m \u001b[38;5;66;03m# Calculated objectives\u001b[39;00m\n\u001b[1;32m    121\u001b[0m \u001b[38;5;66;03m# We do this by finding the subset in ens_df that are elevated\u001b[39;00m\n\u001b[1;32m    122\u001b[0m \u001b[38;5;66;03m# and the subset that are not. That's where we calculate\u001b[39;00m\n\u001b[1;32m    123\u001b[0m \u001b[38;5;66;03m# our objectives for within each SOW, and then we take\u001b[39;00m\n\u001b[1;32m    124\u001b[0m \u001b[38;5;66;03m# the expected values across the SOWs\u001b[39;00m\n\u001b[1;32m    125\u001b[0m elev_ens \u001b[38;5;241m=\u001b[39m ens_df[ens_df[\u001b[38;5;124m'\u001b[39m\u001b[38;5;124mfd_id\u001b[39m\u001b[38;5;124m'\u001b[39m]\u001b[38;5;241m.\u001b[39misin(elevated[\u001b[38;5;124m'\u001b[39m\u001b[38;5;124mfd_id\u001b[39m\u001b[38;5;124m'\u001b[39m])]\n\u001b[0;32m--> 126\u001b[0m orig_ens \u001b[38;5;241m=\u001b[39m ens_df[\u001b[38;5;241m~\u001b[39m\u001b[43mens_df\u001b[49m\u001b[43m[\u001b[49m\u001b[38;5;124;43m'\u001b[39;49m\u001b[38;5;124;43mfd_id\u001b[39;49m\u001b[38;5;124;43m'\u001b[39;49m\u001b[43m]\u001b[49m\u001b[38;5;241;43m.\u001b[39;49m\u001b[43misin\u001b[49m\u001b[43m(\u001b[49m\u001b[43melevated\u001b[49m\u001b[43m[\u001b[49m\u001b[38;5;124;43m'\u001b[39;49m\u001b[38;5;124;43mfd_id\u001b[39;49m\u001b[38;5;124;43m'\u001b[39;49m\u001b[43m]\u001b[49m\u001b[43m)\u001b[49m]\n\u001b[1;32m    128\u001b[0m \u001b[38;5;66;03m# For npv, we calculate the sum of npv of elevated homes\u001b[39;00m\n\u001b[1;32m    129\u001b[0m npvs \u001b[38;5;241m=\u001b[39m elev_ens\u001b[38;5;241m.\u001b[39mgroupby(\u001b[38;5;124m'\u001b[39m\u001b[38;5;124msow_ind\u001b[39m\u001b[38;5;124m'\u001b[39m)[\u001b[38;5;124m'\u001b[39m\u001b[38;5;124mnpv_opt\u001b[39m\u001b[38;5;124m'\u001b[39m]\u001b[38;5;241m.\u001b[39msum()\n",
      "File \u001b[0;32m/jumbo/keller-lab/Applications/mambaforge/envs/flrisk/lib/python3.11/site-packages/pandas/core/series.py:5406\u001b[0m, in \u001b[0;36mSeries.isin\u001b[0;34m(self, values)\u001b[0m\n\u001b[1;32m   5333\u001b[0m \u001b[38;5;28;01mdef\u001b[39;00m \u001b[38;5;21misin\u001b[39m(\u001b[38;5;28mself\u001b[39m, values) \u001b[38;5;241m-\u001b[39m\u001b[38;5;241m>\u001b[39m Series:\n\u001b[1;32m   5334\u001b[0m \u001b[38;5;250m    \u001b[39m\u001b[38;5;124;03m\"\"\"\u001b[39;00m\n\u001b[1;32m   5335\u001b[0m \u001b[38;5;124;03m    Whether elements in Series are contained in `values`.\u001b[39;00m\n\u001b[1;32m   5336\u001b[0m \n\u001b[0;32m   (...)\u001b[0m\n\u001b[1;32m   5404\u001b[0m \u001b[38;5;124;03m    dtype: bool\u001b[39;00m\n\u001b[1;32m   5405\u001b[0m \u001b[38;5;124;03m    \"\"\"\u001b[39;00m\n\u001b[0;32m-> 5406\u001b[0m     result \u001b[38;5;241m=\u001b[39m \u001b[43malgorithms\u001b[49m\u001b[38;5;241;43m.\u001b[39;49m\u001b[43misin\u001b[49m\u001b[43m(\u001b[49m\u001b[38;5;28;43mself\u001b[39;49m\u001b[38;5;241;43m.\u001b[39;49m\u001b[43m_values\u001b[49m\u001b[43m,\u001b[49m\u001b[43m \u001b[49m\u001b[43mvalues\u001b[49m\u001b[43m)\u001b[49m\n\u001b[1;32m   5407\u001b[0m     \u001b[38;5;28;01mreturn\u001b[39;00m \u001b[38;5;28mself\u001b[39m\u001b[38;5;241m.\u001b[39m_constructor(result, index\u001b[38;5;241m=\u001b[39m\u001b[38;5;28mself\u001b[39m\u001b[38;5;241m.\u001b[39mindex, copy\u001b[38;5;241m=\u001b[39m\u001b[38;5;28;01mFalse\u001b[39;00m)\u001b[38;5;241m.\u001b[39m__finalize__(\n\u001b[1;32m   5408\u001b[0m         \u001b[38;5;28mself\u001b[39m, method\u001b[38;5;241m=\u001b[39m\u001b[38;5;124m\"\u001b[39m\u001b[38;5;124misin\u001b[39m\u001b[38;5;124m\"\u001b[39m\n\u001b[1;32m   5409\u001b[0m     )\n",
      "File \u001b[0;32m/jumbo/keller-lab/Applications/mambaforge/envs/flrisk/lib/python3.11/site-packages/pandas/core/algorithms.py:531\u001b[0m, in \u001b[0;36misin\u001b[0;34m(comps, values)\u001b[0m\n\u001b[1;32m    528\u001b[0m     comps_array \u001b[38;5;241m=\u001b[39m comps_array\u001b[38;5;241m.\u001b[39mastype(common, copy\u001b[38;5;241m=\u001b[39m\u001b[38;5;28;01mFalse\u001b[39;00m)\n\u001b[1;32m    529\u001b[0m     f \u001b[38;5;241m=\u001b[39m htable\u001b[38;5;241m.\u001b[39mismember\n\u001b[0;32m--> 531\u001b[0m \u001b[38;5;28;01mreturn\u001b[39;00m \u001b[43mf\u001b[49m\u001b[43m(\u001b[49m\u001b[43mcomps_array\u001b[49m\u001b[43m,\u001b[49m\u001b[43m \u001b[49m\u001b[43mvalues\u001b[49m\u001b[43m)\u001b[49m\n",
      "File \u001b[0;32m<__array_function__ internals>:200\u001b[0m, in \u001b[0;36min1d\u001b[0;34m(*args, **kwargs)\u001b[0m\n",
      "File \u001b[0;32m/jumbo/keller-lab/Applications/mambaforge/envs/flrisk/lib/python3.11/site-packages/numpy/lib/arraysetops.py:733\u001b[0m, in \u001b[0;36min1d\u001b[0;34m(ar1, ar2, assume_unique, invert, kind)\u001b[0m\n\u001b[1;32m    731\u001b[0m         mask \u001b[38;5;241m=\u001b[39m np\u001b[38;5;241m.\u001b[39mzeros(\u001b[38;5;28mlen\u001b[39m(ar1), dtype\u001b[38;5;241m=\u001b[39m\u001b[38;5;28mbool\u001b[39m)\n\u001b[1;32m    732\u001b[0m         \u001b[38;5;28;01mfor\u001b[39;00m a \u001b[38;5;129;01min\u001b[39;00m ar2:\n\u001b[0;32m--> 733\u001b[0m             mask \u001b[38;5;241m|\u001b[39m\u001b[38;5;241m=\u001b[39m (ar1 \u001b[38;5;241m==\u001b[39m a)\n\u001b[1;32m    734\u001b[0m     \u001b[38;5;28;01mreturn\u001b[39;00m mask\n\u001b[1;32m    736\u001b[0m \u001b[38;5;66;03m# Otherwise use sorting\u001b[39;00m\n",
      "\u001b[0;31mKeyboardInterrupt\u001b[0m: "
     ]
    }
   ],
   "source": [
    "# Sorting\n",
    "\n",
    "# We also want to write out the ordering and\n",
    "# the allocations\n",
    "elev_dict = {}\n",
    "obj_dict = {}\n",
    "\n",
    "# Columns we sort from top to bottom\n",
    "h_sort_desc = ['npv_opt', 'avoid_rel_eal',\n",
    "               'rel_eal']\n",
    "\n",
    "# We loop through each scen_ddftype combo\n",
    "# to execute the code below so that we have a potentially\n",
    "# different set of elevated homes for each policy\n",
    "# for each scenario\n",
    "for scen, sort_df in sort_dfs.items():\n",
    "    # Dict of sort keys to fd_id values\n",
    "    sort_dict = {}\n",
    "    # This is for community sorting, more explanation later\n",
    "    slack_dict = {}\n",
    "    \n",
    "    print('Scenario: ' + scen)\n",
    "\n",
    "    # Get the corresponding ensemble df\n",
    "    ens_df = ens_dfs[scen]\n",
    "    \n",
    "    # Loop through ascending columns and sort, store in dict\n",
    "    # We want to sort on the col, and give ties to lower\n",
    "    # valued structures\n",
    "    for col in h_sort_desc:\n",
    "        sort_dict[col] = sort_df.sort_values([col, 'val_s'],\n",
    "                                              ascending=[False, True]).index\n",
    "    \n",
    "    # Community based sorting\n",
    "    sort_c_df = sort_df.join(sovi_df, how='inner')\n",
    "    \n",
    "    # Columns for community sorting\n",
    "    c_sort_cols = ['lmi', 'ovb', 'cejst']\n",
    "    \n",
    "    # Loop through these to subset, sort by npv_opt\n",
    "    # and follow the code from above\n",
    "    # Loop through ascending columns and sort, store in dict\n",
    "    # We add in the remaining observations in case we have\n",
    "    # budget left over\n",
    "    # TODO if the sort_col is in c_sort_cols,\n",
    "    # we need to add a step where we ensure\n",
    "    # the majority of benefits come from\n",
    "    # the sort_pri. We will need to loop separately\n",
    "    # from the remainder of the sort_dict.items() (or put\n",
    "    # a switch on the loop) to do the processing separately\n",
    "    # and then calculate objectives all the same\n",
    "    # The thing that changes is subsetting df based on budget. \n",
    "    # We need to add an if/else where if sort_col is in c_sort_cols\n",
    "    # there is some cross checking. It will help to have\n",
    "    # a separate dict that stores the ids of sort_pri and sort_slack\n",
    "    # for each of the columns in c_sort_cols. \n",
    "    for col in c_sort_cols:\n",
    "        sort_temp = sort_c_df[sort_c_df[col] == False]\n",
    "        sort_slack = sort_temp.sort_values(['npv_opt', 'val_s'],\n",
    "                                             ascending=[False, True]).index.to_list()\n",
    "        # We want the community based sorting to be\n",
    "        # based on greatest to lowest benefits, subject to our\n",
    "        # community constraint\n",
    "        sort_dict[col] = sort_df.sort_values(['npv_opt', 'val_s'],\n",
    "                                               ascending=[False, True]).index.to_list()\n",
    "        # If we have extra budget, we can use it for\n",
    "        # homes outside the community of interest\n",
    "        slack_dict[col] = sort_slack\n",
    "    \n",
    "    # Loop through budgets and the keys in sort_dict\n",
    "    # Calculate the elev_inst cumulative sum and subset to\n",
    "    # the value just under the budget\n",
    "    # Then calculate all of the objective values\n",
    "    # Store in a dict of\n",
    "    # sort_key_budget keys to objectives values\n",
    "    for budget in budgets:\n",
    "        for sort_col, fd_id in sort_dict.items():\n",
    "            # Key for obj dict\n",
    "            obj_key = scen + '_' + sort_col + '_' + str(budget)\n",
    "            # Sort our df according to the rule at hand\n",
    "            sorted_df = sort_df.reindex(fd_id)\n",
    "    \n",
    "            # Calculate the cumulative sum of elev_inst\n",
    "            sorted_df['policy_cost'] = sorted_df['elev_invst'].cumsum()\n",
    "    \n",
    "            # Subset df based on budget\n",
    "            # But also with some additional rules for\n",
    "            # community based sorting\n",
    "            # We want to make sure the majority of our budget\n",
    "            # goes to homes in the prioritization area.\n",
    "            # This appears to be the way FEMA is tracking\n",
    "            # this, so we want to be consistent. \n",
    "            if sort_col in c_sort_cols:\n",
    "                # The way we can do this is by taking the homes in the\n",
    "                # prioritization area, and making sure that we\n",
    "                # spend just over half our budget on them.\n",
    "                # Then we take all the remaining homes, regardless\n",
    "                # of their prioritization status, in terms of\n",
    "                # top to bottom benefits. This is what is stored\n",
    "                # in sorted_df            \n",
    "                \n",
    "                # First we need to identify the homes that are in\n",
    "                # our prioritizaton area. This is the set of homes\n",
    "                # not in our \"slack\" \n",
    "                slack_ids = slack_dict[sort_col]\n",
    "                pri_df = sorted_df[~sorted_df['fd_id'].isin(slack_ids)]\n",
    "                \n",
    "                # Next we need to allocate half of our budget\n",
    "                # plus 500K (higher than our max elevaton cost ensures\n",
    "                # majority of expenses go to these homes) to homes in the\n",
    "                # prioritization area\n",
    "                budget_alloc = budget/2 + 500000\n",
    "                # We want running cost of homes we are prioritizing\n",
    "                pri_df['policy_cost'] = pri_df['elev_invst'].cumsum()\n",
    "                \n",
    "                # Now subset based on our budget allocation limit\n",
    "                elevated_sub = pri_df[pri_df['policy_cost'] <= budget_alloc]\n",
    "                \n",
    "                # Then we get the amount of budget we have left\n",
    "                slack = budget - elevated_sub['policy_cost'].max()\n",
    "                \n",
    "                # Now, for all homes in sorted_df that are not in\n",
    "                # elevated_sub, we subset based on slack\n",
    "                slack_df = sorted_df[~sorted_df['fd_id'].isin(elevated_sub['fd_id'])]\n",
    "                # Get the running cost\n",
    "                slack_df['policy_cost'] = slack_df['elev_invst'].cumsum()\n",
    "                \n",
    "                slack_elev = slack_df[slack_df['policy_cost'] <= slack]\n",
    "                \n",
    "                # And we also have to subset based on the majority\n",
    "                # of npv coming from our elevated_sub df\n",
    "                slack_ben_max = elevated_sub['npv_opt'].sum() \n",
    "                slack_elev['npv_check'] = slack_elev['npv_opt'].cumsum()\n",
    "                slack_elev_sub = slack_elev[(slack_elev['npv_check']\n",
    "                                             < slack_ben_max)]\n",
    "                slack_elev_sub = slack_elev_sub.drop(columns='npv_check')\n",
    "                \n",
    "                # Now concat\n",
    "                elevated = pd.concat([elevated_sub, slack_elev_sub], axis=0)\n",
    "                \n",
    "            # If not community sorting, you just go through the sorted\n",
    "            # dataframe and subset subject to your budget\n",
    "            else:\n",
    "                elevated = sorted_df[sorted_df['policy_cost'] <= budget]\n",
    "    \n",
    "            # Calculated objectives\n",
    "            # We do this by finding the subset in ens_df that are elevated\n",
    "            # and the subset that are not. That's where we calculate\n",
    "            # our objectives for within each SOW, and then we take\n",
    "            # the expected values across the SOWs\n",
    "            elev_ens = ens_df[ens_df['fd_id'].isin(elevated['fd_id'])]\n",
    "            orig_ens = ens_df[~ens_df['fd_id'].isin(elevated['fd_id'])]\n",
    "    \n",
    "            # For npv, we calculate the sum of npv of elevated homes\n",
    "            npvs = elev_ens.groupby('sow_ind')['npv_opt'].sum()\n",
    "            # Our objective value for this policy is the mean of that\n",
    "            npv = np.mean(npvs)\n",
    "            \n",
    "            # For up_cost, we calculate the sum of elev_invst \n",
    "            up_costs = elev_ens.groupby('sow_ind')['elev_invst'].sum()\n",
    "            # Then we take the mean\n",
    "            up_cost = np.mean(up_costs)\n",
    "    \n",
    "            # Get the pv resid based on the whole set\n",
    "            # of homes with risk (there are benefits out of scope\n",
    "            # of our npv calculation which could be associated\n",
    "            # with lowering pv of residual risk, so we want\n",
    "            # policies that balance the npv of elevation while\n",
    "            # also not leaving more residual risk than needed)\n",
    "            \n",
    "            # We calculate the sum of pv_resid for elev_ens\n",
    "            # And we calculate the sum of pv_base for orig_ens\n",
    "            # Since these are indexed on sow_ind, we can add the\n",
    "            # two series. That's our resids, then we take the\n",
    "            # mean for our resid objective value for this policy\n",
    "            resid_elev = elev_ens.groupby('sow_ind')['pv_resid'].sum()\n",
    "            resid_orig = orig_ens.groupby('sow_ind')['pv_base'].sum()\n",
    "            resids = resid_elev + resid_orig\n",
    "            resid = np.mean(resids)\n",
    "    \n",
    "            # Slope between residual relative risk and structure\n",
    "            # value. We want to do this for all of the houses\n",
    "            # So, we need to go back to sort_df. For homes in sort_df\n",
    "            # that are in elevated, we want to use their\n",
    "            # reid_rel_eal for \"y\". For homes that are not elevated, \n",
    "            # we want to use rel_eal for \"y\".\n",
    "            # We want to evaluate this for each SOW\n",
    "            # and then take the average of the vaues\n",
    "            x = np.log(ens_df['val_s'])\n",
    "            y = np.where(ens_df['fd_id'].isin(elevated['fd_id']),\n",
    "                         ens_df['resid_rel_eal'],\n",
    "                         ens_df['rel_eal'])\n",
    "            # So we need to take a copy of fd_id & sow_ind from ens_df\n",
    "            ens_resid = ens_df[['fd_id', 'sow_ind']].copy()\n",
    "            # We need to link our x/y for the policy\n",
    "            ens_resid['resid_rel_eal'] = y\n",
    "            ens_resid['val_s'] = x\n",
    "            # We need to group on SOW index\n",
    "            ens_r_gb = ens_resid.groupby('sow_ind')\n",
    "            # Then we evaluate the correlation\n",
    "            resid_eqs = ens_r_gb.apply(lambda x:\n",
    "                                       x['val_s'].corr(x['resid_rel_eal']))\n",
    "            # Take the absolute value\n",
    "            resid_eqs = np.abs(resid_eqs)\n",
    "            # Resid_eqs is across SOWs and that goes into the\n",
    "            # objs_all_sows dict\n",
    "            # Resid_eq is the mean of this, which is our objective value\n",
    "            resid_eq = np.mean(resid_eqs)\n",
    "    \n",
    "            # The avoid_eq metric is the average residual eal\n",
    "            # after elevation\n",
    "            # We get this by grouping on sow_ind and calculating the\n",
    "            # mean of resid_rel_eal (avoid_eqs) and then taking \n",
    "            # the mean of that. Like above, avoid_eqs goes\n",
    "            # in the objs_all_sows dict\n",
    "            avoid_eqs = ens_r_gb['resid_rel_eal'].mean()\n",
    "            avoid_eq = np.mean(avoid_eqs)\n",
    "    \n",
    "            # Store objectives in dict\n",
    "            obj_dict[obj_key] = (npv, resid, up_cost,\n",
    "                                 avoid_eq,\n",
    "                                 resid_eq)\n",
    "    \n",
    "            # Need to store the fd_id that end up in elevated in a dict\n",
    "            elev_dict[obj_key] = elevated['fd_id'].astype(int).to_list()\n",
    "    \n",
    "            print('Calculate objective values for policy:\\n'+\n",
    "                  'Sort by ' + sort_col + '\\nWith Budget of $M ' + str(budget))"
   ]
  },
  {
   "cell_type": "code",
   "execution_count": null,
   "id": "6374e832-5e5f-454d-8cd8-19d091667d44",
   "metadata": {
    "execution": {
     "iopub.status.busy": "2024-02-28T19:39:56.287555Z",
     "iopub.status.idle": "2024-02-28T19:39:56.287708Z",
     "shell.execute_reply": "2024-02-28T19:39:56.287638Z",
     "shell.execute_reply.started": "2024-02-28T19:39:56.287631Z"
    }
   },
   "outputs": [],
   "source": [
    "# Get the dataframe of objectives\n",
    "# Need to have scen_policy then split into scen & policy columns\n",
    "objs = pd.DataFrame.from_dict(obj_dict).T.reset_index()\n",
    "objs.columns =  ['scen_policy', 'npv', 'pv_resid', 'up_cost',\n",
    "                 'avoid_eq', 'resid_eq']\n",
    "objs['policy'] = objs['scen_policy'].str.split('_').str[2:].apply(lambda x: '_'.join(x))\n",
    "objs['scen'] = objs['scen_policy'].str.split('_').str[:2].apply(lambda x: '_'.join(x))\n",
    "objs['sort'] = objs['policy'].str.split('_').str[:-1].apply(lambda x: '_'.join(x))\n",
    "objs['budget'] = objs['policy'].str.split('_').str[-1].astype(float).astype(int)\n",
    "\n",
    "# Add a community vs. household indicator\n",
    "objs.loc[objs['sort'].isin(c_sort_cols), 'res'] = 'community'\n",
    "objs.loc[~objs['sort'].isin(c_sort_cols), 'res'] = 'household'"
   ]
  },
  {
   "cell_type": "code",
   "execution_count": null,
   "id": "6c8e698c-7e41-47e7-b58a-e665006a5eab",
   "metadata": {
    "execution": {
     "iopub.status.busy": "2024-02-28T19:39:56.288446Z",
     "iopub.status.idle": "2024-02-28T19:39:56.288581Z",
     "shell.execute_reply": "2024-02-28T19:39:56.288519Z",
     "shell.execute_reply.started": "2024-02-28T19:39:56.288512Z"
    }
   },
   "outputs": [],
   "source": [
    "# Write out the dataframe of objective values\n",
    "# and the dictionary of policy to fd_ids that are\n",
    "# elevated\n",
    "obj_filep = join(FO, 'pol_obj_vals.pqt')\n",
    "objs.to_parquet(obj_filep)\n",
    "\n",
    "elev_ids_filep = join(FO, 'pol_elev_ids.json')\n",
    "with open(elev_ids_filep, 'w') as fp:\n",
    "    json.dump(elev_dict, fp)"
   ]
  },
  {
   "cell_type": "code",
   "execution_count": null,
   "id": "22712dae-65cd-46cd-b2fc-cd37a13715e5",
   "metadata": {},
   "outputs": [],
   "source": []
  }
 ],
 "metadata": {
  "kernelspec": {
   "display_name": "flrisk",
   "language": "python",
   "name": "flrisk"
  },
  "language_info": {
   "codemirror_mode": {
    "name": "ipython",
    "version": 3
   },
   "file_extension": ".py",
   "mimetype": "text/x-python",
   "name": "python",
   "nbconvert_exporter": "python",
   "pygments_lexer": "ipython3",
   "version": "3.11.5"
  },
  "widgets": {
   "application/vnd.jupyter.widget-state+json": {
    "state": {},
    "version_major": 2,
    "version_minor": 0
   }
  }
 },
 "nbformat": 4,
 "nbformat_minor": 5
}

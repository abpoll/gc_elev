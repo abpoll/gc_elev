{
 "cells": [
  {
   "cell_type": "code",
   "execution_count": 1,
   "id": "8127ac76-50ac-4a49-b1a6-2ff4d124bca1",
   "metadata": {
    "execution": {
     "iopub.execute_input": "2023-10-20T20:34:44.547568Z",
     "iopub.status.busy": "2023-10-20T20:34:44.547119Z",
     "iopub.status.idle": "2023-10-20T20:34:44.597508Z",
     "shell.execute_reply": "2023-10-20T20:34:44.596073Z",
     "shell.execute_reply.started": "2023-10-20T20:34:44.547519Z"
    }
   },
   "outputs": [],
   "source": [
    "%load_ext autoreload\n",
    "%autoreload 2"
   ]
  },
  {
   "cell_type": "code",
   "execution_count": 2,
   "id": "66c50021-e313-4b5c-8978-c41bb4b28bcd",
   "metadata": {
    "execution": {
     "iopub.execute_input": "2023-10-20T20:34:44.600576Z",
     "iopub.status.busy": "2023-10-20T20:34:44.600095Z",
     "iopub.status.idle": "2023-10-20T20:34:46.484505Z",
     "shell.execute_reply": "2023-10-20T20:34:46.483073Z",
     "shell.execute_reply.started": "2023-10-20T20:34:44.600526Z"
    }
   },
   "outputs": [],
   "source": [
    "import geopandas as gpd\n",
    "import pandas as pd\n",
    "import numpy as np\n",
    "import rasterio \n",
    "from rasterio.warp import calculate_default_transform, reproject, Resampling\n",
    "import rasterio.mask\n",
    "from pyproj import CRS\n",
    "import os\n",
    "os.environ['USE_PYGEOS'] = '0'\n",
    "\n",
    "from util.files import *\n",
    "from util.const import *"
   ]
  },
  {
   "cell_type": "markdown",
   "id": "865c0670-eb81-43d2-b837-bb909b784d4e",
   "metadata": {},
   "source": [
    "# Process Hazard Data"
   ]
  },
  {
   "cell_type": "code",
   "execution_count": 3,
   "id": "e4d30e70-f0f2-4ce9-b504-0d424e0a4499",
   "metadata": {
    "execution": {
     "iopub.execute_input": "2023-10-20T20:35:07.194528Z",
     "iopub.status.busy": "2023-10-20T20:35:07.194025Z",
     "iopub.status.idle": "2023-10-20T20:35:07.230346Z",
     "shell.execute_reply": "2023-10-20T20:35:07.228575Z",
     "shell.execute_reply.started": "2023-10-20T20:35:07.194484Z"
    }
   },
   "outputs": [],
   "source": [
    "base_haz_dir = join(HAZ_DIR_UZ, HAZ_DIR)\n",
    "rp = RET_PERS[0]"
   ]
  },
  {
   "cell_type": "code",
   "execution_count": 19,
   "id": "95372cbd-75d9-446a-9ea0-1dce09fca7be",
   "metadata": {
    "execution": {
     "iopub.execute_input": "2023-10-20T21:02:14.036777Z",
     "iopub.status.busy": "2023-10-20T21:02:14.036256Z",
     "iopub.status.idle": "2023-10-20T21:02:14.900282Z",
     "shell.execute_reply": "2023-10-20T21:02:14.898689Z",
     "shell.execute_reply.started": "2023-10-20T21:02:14.036728Z"
    }
   },
   "outputs": [],
   "source": [
    "# Add Max_WD_Comb_{RP}.asc as a config...\n",
    "temp_rp = join(base_haz_dir, \"RP_\" + rp)\n",
    "temp_rp_filep = join(temp_rp, \"Max_WD_Comb_{RP}.asc\")\n",
    "temp_rp_filep = temp_rp_filep.replace('{RP}', rp)"
   ]
  },
  {
   "cell_type": "code",
   "execution_count": 20,
   "id": "ca85864e-2301-4bc6-ae45-6c373d869779",
   "metadata": {
    "execution": {
     "iopub.execute_input": "2023-10-20T21:02:21.518553Z",
     "iopub.status.busy": "2023-10-20T21:02:21.517959Z",
     "iopub.status.idle": "2023-10-20T21:02:21.554427Z",
     "shell.execute_reply": "2023-10-20T21:02:21.552851Z",
     "shell.execute_reply.started": "2023-10-20T21:02:21.518502Z"
    }
   },
   "outputs": [
    {
     "data": {
      "text/plain": [
       "'/jumbo/keller-lab/projects/mach/gc_elev/data/raw/unzipped/external/haz/Combination_Rain_WL/RP_001/Max_WD_Comb_001.asc'"
      ]
     },
     "execution_count": 20,
     "metadata": {},
     "output_type": "execute_result"
    }
   ],
   "source": [
    "temp_rp_filep"
   ]
  },
  {
   "cell_type": "code",
   "execution_count": 10,
   "id": "5f69b323-4f65-41f1-83a8-e9d194962377",
   "metadata": {
    "execution": {
     "iopub.execute_input": "2023-10-20T20:38:12.628739Z",
     "iopub.status.busy": "2023-10-20T20:38:12.628186Z",
     "iopub.status.idle": "2023-10-20T20:38:23.538875Z",
     "shell.execute_reply": "2023-10-20T20:38:23.537253Z",
     "shell.execute_reply.started": "2023-10-20T20:38:12.628690Z"
    }
   },
   "outputs": [],
   "source": [
    "temp = rasterio.open(temp_rp_filep)"
   ]
  },
  {
   "cell_type": "code",
   "execution_count": 18,
   "id": "6f376f3b-9c21-4503-99f5-7524e976e76b",
   "metadata": {
    "execution": {
     "iopub.execute_input": "2023-10-20T20:45:50.611589Z",
     "iopub.status.busy": "2023-10-20T20:45:50.611032Z",
     "iopub.status.idle": "2023-10-20T20:45:50.648107Z",
     "shell.execute_reply": "2023-10-20T20:45:50.646543Z",
     "shell.execute_reply.started": "2023-10-20T20:45:50.611538Z"
    }
   },
   "outputs": [
    {
     "data": {
      "text/plain": [
       "BoundingBox(left=485175.24429968, bottom=4411030.1644404, right=497988.2736156416, top=4422536.292764013)"
      ]
     },
     "execution_count": 18,
     "metadata": {},
     "output_type": "execute_result"
    }
   ],
   "source": [
    "# I want to reproject other files to thet hazard CRS because\n",
    "# this is the data we want to maintain spatial accuracy with the most\n",
    "# I do want to clip this to the GC clip boundary since it can\n",
    "# potentially speed up some code for doing \n",
    "# point in raster, etc. \n",
    "# For my first pass linking up, I also want to include\n",
    "# the 5th and 95th percentile grids and just use\n",
    "# a heuristic approach for estimating the standard deviation\n",
    "# for a normal distribution\n",
    "# Get this standard deviation parameter and then use the median\n",
    "# value as the mean \n",
    "# That's all we get from the link NSI with hazard step...\n",
    "# Then in the ensemble merge step, we sample from\n",
    "# the spatially varying distribution across all RPs"
   ]
  },
  {
   "cell_type": "code",
   "execution_count": null,
   "id": "4e43975e-17bb-4a84-ae12-563d232ad6a7",
   "metadata": {},
   "outputs": [],
   "source": []
  },
  {
   "cell_type": "markdown",
   "id": "4c32b723-f55f-49a3-abc9-0b596ce24f00",
   "metadata": {},
   "source": [
    "# Link NSI with Hazard"
   ]
  },
  {
   "cell_type": "code",
   "execution_count": null,
   "id": "487d44a4-ac64-41d8-9490-f578c1569f0e",
   "metadata": {},
   "outputs": [],
   "source": [
    "# Load in each "
   ]
  }
 ],
 "metadata": {
  "kernelspec": {
   "display_name": "flrisk",
   "language": "python",
   "name": "flrisk"
  },
  "language_info": {
   "codemirror_mode": {
    "name": "ipython",
    "version": 3
   },
   "file_extension": ".py",
   "mimetype": "text/x-python",
   "name": "python",
   "nbconvert_exporter": "python",
   "pygments_lexer": "ipython3",
   "version": "3.11.5"
  },
  "widgets": {
   "application/vnd.jupyter.widget-state+json": {
    "state": {},
    "version_major": 2,
    "version_minor": 0
   }
  }
 },
 "nbformat": 4,
 "nbformat_minor": 5
}

{
 "cells": [
  {
   "cell_type": "markdown",
   "id": "979af7c5-cb4c-4f2d-8e52-48f5d83dbcba",
   "metadata": {},
   "source": [
    "# Configure"
   ]
  },
  {
   "cell_type": "code",
   "execution_count": 1,
   "id": "da785d38-4665-4f51-9b2f-7b1813545a0c",
   "metadata": {
    "execution": {
     "iopub.execute_input": "2023-10-20T21:25:17.421199Z",
     "iopub.status.busy": "2023-10-20T21:25:17.420711Z",
     "iopub.status.idle": "2023-10-20T21:25:17.462127Z",
     "shell.execute_reply": "2023-10-20T21:25:17.460668Z",
     "shell.execute_reply.started": "2023-10-20T21:25:17.421151Z"
    }
   },
   "outputs": [],
   "source": [
    "%load_ext autoreload\n",
    "%autoreload 2"
   ]
  },
  {
   "cell_type": "code",
   "execution_count": 2,
   "id": "592d198d-00c4-45b5-a8f7-599538bfaf95",
   "metadata": {
    "execution": {
     "iopub.execute_input": "2023-10-20T21:25:17.802826Z",
     "iopub.status.busy": "2023-10-20T21:25:17.802333Z",
     "iopub.status.idle": "2023-10-20T21:25:19.472299Z",
     "shell.execute_reply": "2023-10-20T21:25:19.471108Z",
     "shell.execute_reply.started": "2023-10-20T21:25:17.802779Z"
    }
   },
   "outputs": [],
   "source": [
    "# Packages\n",
    "import requests\n",
    "import os\n",
    "from os.path import join\n",
    "from pathlib import Path\n",
    "import pandas as pd\n",
    "from util.download import *\n",
    "from util.files import *\n",
    "from util.const import *"
   ]
  },
  {
   "cell_type": "code",
   "execution_count": 3,
   "id": "740ce41b-8103-4a0a-b2d6-797e0f6b736b",
   "metadata": {
    "execution": {
     "iopub.execute_input": "2023-10-20T21:25:19.473777Z",
     "iopub.status.busy": "2023-10-20T21:25:19.473465Z",
     "iopub.status.idle": "2023-10-20T21:25:19.490222Z",
     "shell.execute_reply": "2023-10-20T21:25:19.489149Z",
     "shell.execute_reply.started": "2023-10-20T21:25:19.473757Z"
    }
   },
   "outputs": [],
   "source": [
    "# Need a wcard_dict where we map\n",
    "# the items in URL_WILDCARDS to the\n",
    "# fips, state_abbr, or state_fips\n",
    "# For our case study, we can specify\n",
    "# a dict for all of these\n",
    "# But in the future we can have a .csv\n",
    "# that maps STATE_FIPS to STATE_ABBR\n",
    "wcard_dict = {x: CONFIG[x[1:-1]][0] for x in URL_WILDCARDS}"
   ]
  },
  {
   "cell_type": "markdown",
   "id": "3eaffd7e-f718-46b8-bd36-60efb097cd3d",
   "metadata": {},
   "source": [
    "# Download data"
   ]
  },
  {
   "cell_type": "code",
   "execution_count": 4,
   "id": "d66177a7-0497-41bb-b719-28b63af8e5ec",
   "metadata": {
    "execution": {
     "iopub.execute_input": "2023-10-20T21:25:21.485952Z",
     "iopub.status.busy": "2023-10-20T21:25:21.485644Z",
     "iopub.status.idle": "2023-10-20T21:25:21.514552Z",
     "shell.execute_reply": "2023-10-20T21:25:21.512695Z",
     "shell.execute_reply.started": "2023-10-20T21:25:21.485926Z"
    }
   },
   "outputs": [],
   "source": [
    "# NSI API is down at least\n",
    "# from Oct 13 through Oct 19\n",
    "# so testing on other files\n",
    "temp = DOWNLOAD.iloc[1:]"
   ]
  },
  {
   "cell_type": "code",
   "execution_count": 5,
   "id": "a8b0ad8a-7312-45ad-8134-4fdcf71c388b",
   "metadata": {
    "execution": {
     "iopub.execute_input": "2023-10-20T21:25:22.154867Z",
     "iopub.status.busy": "2023-10-20T21:25:22.154349Z",
     "iopub.status.idle": "2023-10-20T21:25:22.291370Z",
     "shell.execute_reply": "2023-10-20T21:25:22.289725Z",
     "shell.execute_reply.started": "2023-10-20T21:25:22.154818Z"
    }
   },
   "outputs": [
    {
     "name": "stdout",
     "output_type": "stream",
     "text": [
      "Downloaded from: https://services3.arcgis.com/JGF6qCAQFbROcocK/arcgis/rest/services/CamdenCountyMunicipalLayer/FeatureServer/0/query?f=geojson&where=(NAMELSAD%20IN%20(%27Gloucester%20City%20city%27))&outFields=*\n"
     ]
    }
   ],
   "source": [
    "download_raw(temp, wcard_dict)"
   ]
  },
  {
   "cell_type": "code",
   "execution_count": null,
   "id": "23853146-ebf5-4531-81b4-039e467b949b",
   "metadata": {},
   "outputs": [],
   "source": []
  }
 ],
 "metadata": {
  "kernelspec": {
   "display_name": "flrisk",
   "language": "python",
   "name": "flrisk"
  },
  "language_info": {
   "codemirror_mode": {
    "name": "ipython",
    "version": 3
   },
   "file_extension": ".py",
   "mimetype": "text/x-python",
   "name": "python",
   "nbconvert_exporter": "python",
   "pygments_lexer": "ipython3",
   "version": "3.11.5"
  },
  "widgets": {
   "application/vnd.jupyter.widget-state+json": {
    "state": {},
    "version_major": 2,
    "version_minor": 0
   }
  }
 },
 "nbformat": 4,
 "nbformat_minor": 5
}

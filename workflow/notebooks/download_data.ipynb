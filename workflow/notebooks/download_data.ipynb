{
 "cells": [
  {
   "cell_type": "markdown",
   "id": "979af7c5-cb4c-4f2d-8e52-48f5d83dbcba",
   "metadata": {},
   "source": [
    "# Configure"
   ]
  },
  {
   "cell_type": "code",
   "execution_count": 4,
   "id": "da785d38-4665-4f51-9b2f-7b1813545a0c",
   "metadata": {
    "execution": {
     "iopub.execute_input": "2023-10-19T16:42:17.043598Z",
     "iopub.status.busy": "2023-10-19T16:42:17.043027Z",
     "iopub.status.idle": "2023-10-19T16:42:17.079509Z",
     "shell.execute_reply": "2023-10-19T16:42:17.077570Z",
     "shell.execute_reply.started": "2023-10-19T16:42:17.043546Z"
    }
   },
   "outputs": [
    {
     "name": "stdout",
     "output_type": "stream",
     "text": [
      "The autoreload extension is already loaded. To reload it, use:\n",
      "  %reload_ext autoreload\n"
     ]
    }
   ],
   "source": [
    "%load_ext autoreload\n",
    "%autoreload 2"
   ]
  },
  {
   "cell_type": "code",
   "execution_count": 5,
   "id": "592d198d-00c4-45b5-a8f7-599538bfaf95",
   "metadata": {
    "execution": {
     "iopub.execute_input": "2023-10-19T16:42:17.287658Z",
     "iopub.status.busy": "2023-10-19T16:42:17.287153Z",
     "iopub.status.idle": "2023-10-19T16:42:17.320800Z",
     "shell.execute_reply": "2023-10-19T16:42:17.319028Z",
     "shell.execute_reply.started": "2023-10-19T16:42:17.287611Z"
    }
   },
   "outputs": [],
   "source": [
    "# Packages\n",
    "import requests\n",
    "import os\n",
    "from os.path import join\n",
    "from pathlib import Path\n",
    "import pandas as pd\n",
    "from util.download import *\n",
    "from util.files import *\n",
    "from util.const import *"
   ]
  },
  {
   "cell_type": "code",
   "execution_count": 6,
   "id": "740ce41b-8103-4a0a-b2d6-797e0f6b736b",
   "metadata": {
    "execution": {
     "iopub.execute_input": "2023-10-19T16:42:20.034580Z",
     "iopub.status.busy": "2023-10-19T16:42:20.033976Z",
     "iopub.status.idle": "2023-10-19T16:42:20.068324Z",
     "shell.execute_reply": "2023-10-19T16:42:20.066416Z",
     "shell.execute_reply.started": "2023-10-19T16:42:20.034530Z"
    }
   },
   "outputs": [],
   "source": [
    "# Need a wcard_dict where we map\n",
    "# the items in URL_WILDCARDS to the\n",
    "# fips, state_abbr, or state_fips\n",
    "# For our case study, we can specify\n",
    "# a dict for all of these\n",
    "# But in the future we can have a .csv\n",
    "# that maps STATE_FIPS to STATE_ABBR\n",
    "wcard_dict = {x: CONFIG[x[1:-1]][0] for x in URL_WILDCARDS}\n"
   ]
  },
  {
   "cell_type": "markdown",
   "id": "3eaffd7e-f718-46b8-bd36-60efb097cd3d",
   "metadata": {},
   "source": [
    "# Download data"
   ]
  },
  {
   "cell_type": "code",
   "execution_count": 13,
   "id": "d66177a7-0497-41bb-b719-28b63af8e5ec",
   "metadata": {
    "execution": {
     "iopub.execute_input": "2023-10-19T16:42:51.636615Z",
     "iopub.status.busy": "2023-10-19T16:42:51.636081Z",
     "iopub.status.idle": "2023-10-19T16:42:51.669593Z",
     "shell.execute_reply": "2023-10-19T16:42:51.667758Z",
     "shell.execute_reply.started": "2023-10-19T16:42:51.636568Z"
    }
   },
   "outputs": [],
   "source": [
    "# NSI API is down at least\n",
    "# from Oct 13 through Oct 19\n",
    "# so testing on other files\n",
    "temp = DOWNLOAD.iloc[1:]"
   ]
  },
  {
   "cell_type": "code",
   "execution_count": 14,
   "id": "a8b0ad8a-7312-45ad-8134-4fdcf71c388b",
   "metadata": {
    "execution": {
     "iopub.execute_input": "2023-10-19T16:42:52.610481Z",
     "iopub.status.busy": "2023-10-19T16:42:52.609951Z",
     "iopub.status.idle": "2023-10-19T16:43:47.158924Z",
     "shell.execute_reply": "2023-10-19T16:43:47.158072Z",
     "shell.execute_reply.started": "2023-10-19T16:42:52.610436Z"
    }
   },
   "outputs": [
    {
     "name": "stdout",
     "output_type": "stream",
     "text": [
      "Downloaded from: https://hazards.fema.gov/nfhlv2/output/County/34007C_20160816.zip\n",
      "Downloaded from: https://coast.noaa.gov/htdata/SocioEconomic/SoVI2010/SoVI_2010_NJ.zip\n",
      "Downloaded from: https://www2.census.gov/geo/tiger/TIGER2022/TRACT/tl_2022_34_tract.zip\n",
      "Downloaded from: https://www2.census.gov/geo/tiger/TIGER2022/BG/tl_2022_34_bg.zip\n",
      "Downloaded from: https://www2.census.gov/geo/tiger/TIGER2022/TABBLOCK20/tl_2022_34_tabblock20.zip\n",
      "Downloaded from: https://static-data-screeningtool.geoplatform.gov/data-versions/1.0/data/score/downloadable/1.0-communities.csv\n",
      "Downloaded from: https://www.hudexchange.info/sites/onecpd/assets/File/ACS_2015_lowmod_blockgroup_all.xlsx\n",
      "Downloaded from: https://www2.census.gov/geo/tiger/TIGER2022/COUNTY/tl_2022_us_county.zip\n",
      "Downloaded from: https://www2.census.gov/geo/tiger/TIGER2022/ZCTA520/tl_2022_us_zcta520.zip\n"
     ]
    }
   ],
   "source": [
    "download_raw(temp, wcard_dict)"
   ]
  },
  {
   "cell_type": "code",
   "execution_count": null,
   "id": "6a244047-f3dc-4348-b36c-d7778436a8dd",
   "metadata": {},
   "outputs": [],
   "source": []
  }
 ],
 "metadata": {
  "kernelspec": {
   "display_name": "flrisk",
   "language": "python",
   "name": "flrisk"
  },
  "language_info": {
   "codemirror_mode": {
    "name": "ipython",
    "version": 3
   },
   "file_extension": ".py",
   "mimetype": "text/x-python",
   "name": "python",
   "nbconvert_exporter": "python",
   "pygments_lexer": "ipython3",
   "version": "3.11.5"
  },
  "widgets": {
   "application/vnd.jupyter.widget-state+json": {
    "state": {},
    "version_major": 2,
    "version_minor": 0
   }
  }
 },
 "nbformat": 4,
 "nbformat_minor": 5
}

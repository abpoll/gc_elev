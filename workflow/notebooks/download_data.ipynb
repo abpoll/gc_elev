{
 "cells": [
  {
   "cell_type": "markdown",
   "id": "979af7c5-cb4c-4f2d-8e52-48f5d83dbcba",
   "metadata": {},
   "source": [
    "# Configure"
   ]
  },
  {
   "cell_type": "code",
   "execution_count": 1,
   "id": "da785d38-4665-4f51-9b2f-7b1813545a0c",
   "metadata": {
    "execution": {
     "iopub.execute_input": "2023-10-20T17:08:01.493287Z",
     "iopub.status.busy": "2023-10-20T17:08:01.492763Z",
     "iopub.status.idle": "2023-10-20T17:08:01.542669Z",
     "shell.execute_reply": "2023-10-20T17:08:01.540817Z",
     "shell.execute_reply.started": "2023-10-20T17:08:01.493238Z"
    }
   },
   "outputs": [],
   "source": [
    "%load_ext autoreload\n",
    "%autoreload 2"
   ]
  },
  {
   "cell_type": "code",
   "execution_count": 2,
   "id": "592d198d-00c4-45b5-a8f7-599538bfaf95",
   "metadata": {
    "execution": {
     "iopub.execute_input": "2023-10-20T17:08:01.738937Z",
     "iopub.status.busy": "2023-10-20T17:08:01.738449Z",
     "iopub.status.idle": "2023-10-20T17:08:03.544848Z",
     "shell.execute_reply": "2023-10-20T17:08:03.543718Z",
     "shell.execute_reply.started": "2023-10-20T17:08:01.738892Z"
    }
   },
   "outputs": [],
   "source": [
    "# Packages\n",
    "import requests\n",
    "import os\n",
    "from os.path import join\n",
    "from pathlib import Path\n",
    "import pandas as pd\n",
    "from util.download import *\n",
    "from util.files import *\n",
    "from util.const import *"
   ]
  },
  {
   "cell_type": "code",
   "execution_count": 3,
   "id": "740ce41b-8103-4a0a-b2d6-797e0f6b736b",
   "metadata": {
    "execution": {
     "iopub.execute_input": "2023-10-20T17:08:03.546438Z",
     "iopub.status.busy": "2023-10-20T17:08:03.546120Z",
     "iopub.status.idle": "2023-10-20T17:08:03.563363Z",
     "shell.execute_reply": "2023-10-20T17:08:03.562290Z",
     "shell.execute_reply.started": "2023-10-20T17:08:03.546417Z"
    }
   },
   "outputs": [],
   "source": [
    "# Need a wcard_dict where we map\n",
    "# the items in URL_WILDCARDS to the\n",
    "# fips, state_abbr, or state_fips\n",
    "# For our case study, we can specify\n",
    "# a dict for all of these\n",
    "# But in the future we can have a .csv\n",
    "# that maps STATE_FIPS to STATE_ABBR\n",
    "wcard_dict = {x: CONFIG[x[1:-1]][0] for x in URL_WILDCARDS}"
   ]
  },
  {
   "cell_type": "markdown",
   "id": "3eaffd7e-f718-46b8-bd36-60efb097cd3d",
   "metadata": {},
   "source": [
    "# Download data"
   ]
  },
  {
   "cell_type": "code",
   "execution_count": 20,
   "id": "d66177a7-0497-41bb-b719-28b63af8e5ec",
   "metadata": {
    "execution": {
     "iopub.execute_input": "2023-10-20T17:19:40.916573Z",
     "iopub.status.busy": "2023-10-20T17:19:40.916011Z",
     "iopub.status.idle": "2023-10-20T17:19:41.642602Z",
     "shell.execute_reply": "2023-10-20T17:19:41.640986Z",
     "shell.execute_reply.started": "2023-10-20T17:19:40.916524Z"
    }
   },
   "outputs": [],
   "source": [
    "# NSI API is down at least\n",
    "# from Oct 13 through Oct 19\n",
    "# so testing on other files\n",
    "temp = DOWNLOAD.iloc[1:]"
   ]
  },
  {
   "cell_type": "code",
   "execution_count": 11,
   "id": "a8b0ad8a-7312-45ad-8134-4fdcf71c388b",
   "metadata": {
    "execution": {
     "iopub.execute_input": "2023-10-20T17:09:06.502531Z",
     "iopub.status.busy": "2023-10-20T17:09:06.502003Z",
     "iopub.status.idle": "2023-10-20T17:09:07.738882Z",
     "shell.execute_reply": "2023-10-20T17:09:07.737110Z",
     "shell.execute_reply.started": "2023-10-20T17:09:06.502483Z"
    }
   },
   "outputs": [
    {
     "name": "stdout",
     "output_type": "stream",
     "text": [
      "Downloaded from: https://zenodo.org/api/records/10027236/files-archive?access_token=tOm4oKjP52p4H1C0xed7nBT2zydbgY3t7dq9gtK6VRR74I9BETGpQWTjvtIv\n"
     ]
    }
   ],
   "source": [
    "download_raw(temp, wcard_dict)"
   ]
  },
  {
   "cell_type": "code",
   "execution_count": null,
   "id": "1ec5397d-3494-4063-9d99-4dcc0a9d3939",
   "metadata": {},
   "outputs": [],
   "source": []
  }
 ],
 "metadata": {
  "kernelspec": {
   "display_name": "flrisk",
   "language": "python",
   "name": "flrisk"
  },
  "language_info": {
   "codemirror_mode": {
    "name": "ipython",
    "version": 3
   },
   "file_extension": ".py",
   "mimetype": "text/x-python",
   "name": "python",
   "nbconvert_exporter": "python",
   "pygments_lexer": "ipython3",
   "version": "3.11.5"
  },
  "widgets": {
   "application/vnd.jupyter.widget-state+json": {
    "state": {},
    "version_major": 2,
    "version_minor": 0
   }
  }
 },
 "nbformat": 4,
 "nbformat_minor": 5
}

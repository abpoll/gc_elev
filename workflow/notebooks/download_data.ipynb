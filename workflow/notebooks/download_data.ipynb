{
 "cells": [
  {
   "cell_type": "markdown",
   "id": "979af7c5-cb4c-4f2d-8e52-48f5d83dbcba",
   "metadata": {},
   "source": [
    "# Configure"
   ]
  },
  {
   "cell_type": "code",
   "execution_count": null,
   "id": "da785d38-4665-4f51-9b2f-7b1813545a0c",
   "metadata": {},
   "outputs": [],
   "source": [
    "%load_ext autoreload\n",
    "%autoreload 2"
   ]
  },
  {
   "cell_type": "code",
   "execution_count": null,
   "id": "592d198d-00c4-45b5-a8f7-599538bfaf95",
   "metadata": {},
   "outputs": [],
   "source": [
    "# Packages\n",
    "import requests\n",
    "import os\n",
    "from os.path import join\n",
    "from pathlib import Path\n",
    "import pandas as pd\n",
    "from util.download import *\n",
    "from util.files import *\n",
    "from util.const import *"
   ]
  },
  {
   "cell_type": "code",
   "execution_count": null,
   "id": "740ce41b-8103-4a0a-b2d6-797e0f6b736b",
   "metadata": {},
   "outputs": [],
   "source": [
    "# Need a wcard_dict where we map\n",
    "# the items in URL_WILDCARDS to the\n",
    "# fips, state_abbr, or state_fips\n",
    "# For our case study, we can specify\n",
    "# a dict for all of these\n",
    "# But in the future we can have a .csv\n",
    "# that maps STATE_FIPS to STATE_ABBR\n",
    "wcard_dict = {x: CONFIG[x[1:-1]][0] for x in URL_WILDCARDS}"
   ]
  },
  {
   "cell_type": "markdown",
   "id": "3eaffd7e-f718-46b8-bd36-60efb097cd3d",
   "metadata": {},
   "source": [
    "# Download data"
   ]
  },
  {
   "cell_type": "code",
   "execution_count": null,
   "id": "a8b0ad8a-7312-45ad-8134-4fdcf71c388b",
   "metadata": {},
   "outputs": [],
   "source": [
    "download_raw(DOWNLOAD, wcard_dict)"
   ]
  }
 ],
 "metadata": {
  "kernelspec": {
   "display_name": "flrisk",
   "language": "python",
   "name": "flrisk"
  },
  "language_info": {
   "codemirror_mode": {
    "name": "ipython",
    "version": 3
   },
   "file_extension": ".py",
   "mimetype": "text/x-python",
   "name": "python",
   "nbconvert_exporter": "python",
   "pygments_lexer": "ipython3",
   "version": "3.11.5"
  },
  "widgets": {
   "application/vnd.jupyter.widget-state+json": {
    "state": {},
    "version_major": 2,
    "version_minor": 0
   }
  }
 },
 "nbformat": 4,
 "nbformat_minor": 5
}

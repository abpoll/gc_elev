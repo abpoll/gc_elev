{
 "cells": [
  {
   "cell_type": "code",
   "execution_count": 1,
   "id": "391442f0-8bb5-4019-b898-119fc960223c",
   "metadata": {
    "execution": {
     "iopub.execute_input": "2023-10-19T22:11:58.896794Z",
     "iopub.status.busy": "2023-10-19T22:11:58.896247Z",
     "iopub.status.idle": "2023-10-19T22:11:59.255857Z",
     "shell.execute_reply": "2023-10-19T22:11:59.254049Z",
     "shell.execute_reply.started": "2023-10-19T22:11:58.896741Z"
    }
   },
   "outputs": [],
   "source": [
    "%load_ext autoreload\n",
    "%autoreload 2"
   ]
  },
  {
   "cell_type": "code",
   "execution_count": 3,
   "id": "889bb0dc-fcc8-4b4a-9d6c-55e4cfc1aac3",
   "metadata": {
    "execution": {
     "iopub.execute_input": "2023-10-19T22:12:21.042191Z",
     "iopub.status.busy": "2023-10-19T22:12:21.041896Z",
     "iopub.status.idle": "2023-10-19T22:12:22.299393Z",
     "shell.execute_reply": "2023-10-19T22:12:22.297954Z",
     "shell.execute_reply.started": "2023-10-19T22:12:21.042165Z"
    }
   },
   "outputs": [],
   "source": [
    "from zipfile import ZipFile\n",
    "import zipfile_deflate64\n",
    "import os\n",
    "from pathlib import Path\n",
    "from util.unzip import *"
   ]
  },
  {
   "cell_type": "code",
   "execution_count": 4,
   "id": "b7d5b995-f53f-400a-8ab0-2b4770de8ea6",
   "metadata": {
    "execution": {
     "iopub.execute_input": "2023-10-19T22:12:23.009299Z",
     "iopub.status.busy": "2023-10-19T22:12:23.008856Z",
     "iopub.status.idle": "2023-10-19T22:12:23.113695Z",
     "shell.execute_reply": "2023-10-19T22:12:23.112196Z",
     "shell.execute_reply.started": "2023-10-19T22:12:23.009267Z"
    }
   },
   "outputs": [],
   "source": [
    "# Call zipped_downloads and unzipped_dirs\n",
    "# from the util.unzip script\n",
    "# This gives us a list\n",
    "# of files to unzip, and the directories\n",
    "# to unzip them to\n",
    "to_unzip = zipped_downloads()\n",
    "unzip_dirs = unzipped_dirs()"
   ]
  },
  {
   "cell_type": "code",
   "execution_count": 5,
   "id": "b65e9eab-6f4a-4454-908c-fbc96c271a46",
   "metadata": {
    "execution": {
     "iopub.execute_input": "2023-10-19T22:12:27.898794Z",
     "iopub.status.busy": "2023-10-19T22:12:27.898235Z",
     "iopub.status.idle": "2023-10-19T22:14:36.717881Z",
     "shell.execute_reply": "2023-10-19T22:14:36.715998Z",
     "shell.execute_reply.started": "2023-10-19T22:12:27.898743Z"
    }
   },
   "outputs": [
    {
     "name": "stdout",
     "output_type": "stream",
     "text": [
      "Unzipped: noaa\n",
      "Unzipped: noaa\n",
      "Unzipped: nfhl\n",
      "Unzipped: Combination_Rain_WL\n",
      "Unzipped: block\n",
      "Unzipped: tract\n",
      "Unzipped: bg\n",
      "Unzipped: county\n",
      "Unzipped: zcta\n"
     ]
    }
   ],
   "source": [
    "for i, filepath in enumerate(to_unzip):\n",
    "    # Get path version of filepath\n",
    "    path = Path(filepath)\n",
    "    # The destination directory\n",
    "    unzip_path = Path(unzip_dirs[i])\n",
    "    with ZipFile(path, \"r\") as zip_ref:\n",
    "        zip_ref.extractall(unzip_path)\n",
    "    \n",
    "    #TODO helpful log message\n",
    "    print('Unzipped: ' + str(path.name).split('.')[0])"
   ]
  },
  {
   "cell_type": "code",
   "execution_count": null,
   "id": "399fa01f-26d8-4688-bbd4-92c9c468a00b",
   "metadata": {},
   "outputs": [],
   "source": []
  }
 ],
 "metadata": {
  "kernelspec": {
   "display_name": "flrisk",
   "language": "python",
   "name": "flrisk"
  },
  "language_info": {
   "codemirror_mode": {
    "name": "ipython",
    "version": 3
   },
   "file_extension": ".py",
   "mimetype": "text/x-python",
   "name": "python",
   "nbconvert_exporter": "python",
   "pygments_lexer": "ipython3",
   "version": "3.11.5"
  },
  "widgets": {
   "application/vnd.jupyter.widget-state+json": {
    "state": {},
    "version_major": 2,
    "version_minor": 0
   }
  }
 },
 "nbformat": 4,
 "nbformat_minor": 5
}

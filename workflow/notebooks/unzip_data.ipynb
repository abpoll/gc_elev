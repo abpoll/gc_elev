{
 "cells": [
  {
   "cell_type": "code",
   "execution_count": null,
   "id": "391442f0-8bb5-4019-b898-119fc960223c",
   "metadata": {},
   "outputs": [],
   "source": [
    "%load_ext autoreload\n",
    "%autoreload 2"
   ]
  },
  {
   "cell_type": "code",
   "execution_count": null,
   "id": "889bb0dc-fcc8-4b4a-9d6c-55e4cfc1aac3",
   "metadata": {},
   "outputs": [],
   "source": [
    "from zipfile import ZipFile\n",
    "import zipfile_deflate64\n",
    "import os\n",
    "from pathlib import Path\n",
    "from collections import Counter\n",
    "from util.unzip import *"
   ]
  },
  {
   "cell_type": "code",
   "execution_count": null,
   "id": "b7d5b995-f53f-400a-8ab0-2b4770de8ea6",
   "metadata": {},
   "outputs": [],
   "source": [
    "# Call zipped_downloads and unzipped_dirs\n",
    "# from the util.unzip script\n",
    "# This gives us a list\n",
    "# of files to unzip, and the directories\n",
    "# to unzip them to\n",
    "to_unzip = zipped_downloads()\n",
    "unzip_dirs = unzipped_dirs()"
   ]
  },
  {
   "cell_type": "code",
   "execution_count": null,
   "id": "b65e9eab-6f4a-4454-908c-fbc96c271a46",
   "metadata": {},
   "outputs": [],
   "source": [
    "# We're going to loop through the files we need to unzip\n",
    "# and extract them into the appropriate directories\n",
    "# One thing that will help the directory structure stay organized\n",
    "# is to keep track of what the destination parent directory is\n",
    "# If the parent directory appears multiple times in unzip_dirs\n",
    "# we should also use the name of the file (excluding extension)\n",
    "# as a subdirectory\n",
    "# We can use the Counter() class from collections for this...\n",
    "count = Counter(unzip_dirs)\n",
    "need_subdir = [k for k, v in count.items() if v > 1]\n",
    "\n",
    "for i, filepath in enumerate(to_unzip):\n",
    "    # Get path version of filepath tjat\n",
    "    # we are unzipping\n",
    "    path = Path(filepath)\n",
    "\n",
    "    # If unzip_dirs[i] is in need_subdir\n",
    "    # we are going to add a subdirectory\n",
    "    # from str.split('/')[-1][:-4]\n",
    "    # This gives us noaa from noaa.zip, for example\n",
    "\n",
    "    # So first, we get our out_filedir\n",
    "    out_filedir = unzip_dirs[i]\n",
    "    # Then we add subdir if we need it\n",
    "    if unzip_dirs[i] in need_subdir:\n",
    "        subdir = filepath.split('/')[-1][:-4]\n",
    "        out_filedir = join(out_filedir, subdir)\n",
    "        \n",
    "    # Extract to out_filedir\n",
    "    with ZipFile(path, \"r\") as zip_ref:\n",
    "        zip_ref.extractall(out_filedir)\n",
    "    \n",
    "    #TODO helpful log message\n",
    "    print('Unzipped: ' + str(path.name).split('.')[0])"
   ]
  },
  {
   "cell_type": "code",
   "execution_count": null,
   "id": "9302e9c9-2574-4316-b72b-57c8fd0a4e4e",
   "metadata": {},
   "outputs": [],
   "source": []
  }
 ],
 "metadata": {
  "kernelspec": {
   "display_name": "flrisk",
   "language": "python",
   "name": "flrisk"
  },
  "language_info": {
   "codemirror_mode": {
    "name": "ipython",
    "version": 3
   },
   "file_extension": ".py",
   "mimetype": "text/x-python",
   "name": "python",
   "nbconvert_exporter": "python",
   "pygments_lexer": "ipython3",
   "version": "3.11.5"
  },
  "widgets": {
   "application/vnd.jupyter.widget-state+json": {
    "state": {},
    "version_major": 2,
    "version_minor": 0
   }
  }
 },
 "nbformat": 4,
 "nbformat_minor": 5
}

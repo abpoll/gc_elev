{
 "cells": [
  {
   "cell_type": "code",
   "execution_count": 1,
   "id": "2df130da-8ff7-481a-9f41-49220ebbb9de",
   "metadata": {
    "execution": {
     "iopub.execute_input": "2023-11-06T22:08:34.828778Z",
     "iopub.status.busy": "2023-11-06T22:08:34.827365Z",
     "iopub.status.idle": "2023-11-06T22:08:34.879398Z",
     "shell.execute_reply": "2023-11-06T22:08:34.877511Z",
     "shell.execute_reply.started": "2023-11-06T22:08:34.828708Z"
    }
   },
   "outputs": [],
   "source": [
    "%load_ext autoreload\n",
    "%autoreload 2"
   ]
  },
  {
   "cell_type": "code",
   "execution_count": 2,
   "id": "aea6c73e-9b4f-4bf1-a40c-0d4105e9eafb",
   "metadata": {
    "execution": {
     "iopub.execute_input": "2023-11-06T22:08:35.099060Z",
     "iopub.status.busy": "2023-11-06T22:08:35.098568Z",
     "iopub.status.idle": "2023-11-06T22:08:37.397334Z",
     "shell.execute_reply": "2023-11-06T22:08:37.396473Z",
     "shell.execute_reply.started": "2023-11-06T22:08:35.099016Z"
    }
   },
   "outputs": [],
   "source": [
    "import os\n",
    "import json\n",
    "from pathlib import Path\n",
    "from os.path import join\n",
    "os.environ[\"USE_PYGEOS\"] = \"0\"\n",
    "import geopandas as gpd\n",
    "import pandas as pd\n",
    "import numpy as np\n",
    "\n",
    "from util.files import *\n",
    "from util.const import *\n",
    "from util.ddfs import *"
   ]
  },
  {
   "cell_type": "code",
   "execution_count": 3,
   "id": "62a43d5d-4b14-43c7-80ec-eb029a6e5529",
   "metadata": {
    "execution": {
     "iopub.execute_input": "2023-11-06T22:08:37.399268Z",
     "iopub.status.busy": "2023-11-06T22:08:37.398830Z",
     "iopub.status.idle": "2023-11-06T22:08:37.419379Z",
     "shell.execute_reply": "2023-11-06T22:08:37.418634Z",
     "shell.execute_reply.started": "2023-11-06T22:08:37.399238Z"
    }
   },
   "outputs": [],
   "source": [
    "# FIPS will be passed in as an argument, one day...\n",
    "FIPS = '34007'\n",
    "# STATE ABBR and NATION will be derived from FIPS, one day...\n",
    "STATEABBR = 'NJ'\n",
    "NATION = 'US'"
   ]
  },
  {
   "cell_type": "markdown",
   "id": "c6111f5a-c61f-469a-92b2-265c90f3cd6d",
   "metadata": {},
   "source": [
    "# Prepare data for ensemble generation"
   ]
  },
  {
   "cell_type": "code",
   "execution_count": 4,
   "id": "120b6681-df66-4e80-8f4b-d2e7495fe878",
   "metadata": {
    "execution": {
     "iopub.execute_input": "2023-11-06T22:08:37.420461Z",
     "iopub.status.busy": "2023-11-06T22:08:37.420198Z",
     "iopub.status.idle": "2023-11-06T22:08:37.449343Z",
     "shell.execute_reply": "2023-11-06T22:08:37.448563Z",
     "shell.execute_reply.started": "2023-11-06T22:08:37.420434Z"
    }
   },
   "outputs": [],
   "source": [
    "# Generate structure ensemble\n",
    "# Merge hazard data in\n",
    "# Sample from the depth grids\n",
    "# Add our vulnerability uncertainty\n",
    "# (it's conditioned on the depth value in \n",
    "# a particular state of the world)"
   ]
  },
  {
   "cell_type": "markdown",
   "id": "23370d86-7c25-4b42-afad-11395b3a819f",
   "metadata": {},
   "source": [
    "## Load and subset exposure data"
   ]
  },
  {
   "cell_type": "code",
   "execution_count": 5,
   "id": "59719ccf-11fb-4507-bc0a-86cf020e58d7",
   "metadata": {
    "execution": {
     "iopub.execute_input": "2023-11-06T22:08:37.451351Z",
     "iopub.status.busy": "2023-11-06T22:08:37.451059Z",
     "iopub.status.idle": "2023-11-06T22:08:38.507854Z",
     "shell.execute_reply": "2023-11-06T22:08:38.506402Z",
     "shell.execute_reply.started": "2023-11-06T22:08:37.451322Z"
    }
   },
   "outputs": [],
   "source": [
    "# Load the single family homes,\n",
    "# the fd_id/reference file\n",
    "# the fd_id/depths file\n",
    "# the fd_id flood zone file\n",
    "nsi_struct = gpd.read_file(join(EXP_DIR_I, FIPS, 'nsi_sf.gpkg'))\n",
    "nsi_ref = pd.read_parquet(join(EXP_DIR_I, FIPS, 'nsi_ref.pqt'))\n",
    "nsi_depths = pd.read_parquet(join(EXP_DIR_I, FIPS, 'nsi_depths.pqt'))\n",
    "nsi_fz = pd.read_parquet(join(EXP_DIR_I, FIPS, 'nsi_fz.pqt'))"
   ]
  },
  {
   "cell_type": "code",
   "execution_count": 6,
   "id": "5fcd531e-6d19-4f32-908e-04184401466e",
   "metadata": {
    "execution": {
     "iopub.execute_input": "2023-11-06T22:08:38.509027Z",
     "iopub.status.busy": "2023-11-06T22:08:38.508855Z",
     "iopub.status.idle": "2023-11-06T22:08:38.526021Z",
     "shell.execute_reply": "2023-11-06T22:08:38.525508Z",
     "shell.execute_reply.started": "2023-11-06T22:08:38.509010Z"
    }
   },
   "outputs": [],
   "source": [
    "# The point of the code below is to make it so that\n",
    "# we can draw from triangular distributions\n",
    "# This is a very case-study specific solution\n",
    "# Ultimately, we'd like to have a pdf of depths\n",
    "# to draw from - either a distribution & fitted parameters\n",
    "# or an empirical distribution\n",
    "# So, we are going to round depths to the nearest foot\n",
    "# and we're going to retain the rows that have non-zero\n",
    "# foot relative to grade depths\n",
    "# Don't want to bake this processing into the process_haz\n",
    "# scripts because it is case-study specific\n",
    "\n",
    "# Round depths to the nearest foot\n",
    "# We do not have depth-damage functions\n",
    "# that would make reasonable use of finer precision\n",
    "nsi_depths = nsi_depths.round()\n",
    "# Filter to properties with > 0 \n",
    "nsi_depths = nsi_depths[nsi_depths.iloc[:,1:].sum(axis=1) > 0]"
   ]
  },
  {
   "cell_type": "code",
   "execution_count": 7,
   "id": "e57e6ce7-c2d3-4fa4-9613-a52c31e004a5",
   "metadata": {
    "execution": {
     "iopub.execute_input": "2023-11-06T22:08:38.526907Z",
     "iopub.status.busy": "2023-11-06T22:08:38.526673Z",
     "iopub.status.idle": "2023-11-06T22:08:38.572605Z",
     "shell.execute_reply": "2023-11-06T22:08:38.572109Z",
     "shell.execute_reply.started": "2023-11-06T22:08:38.526891Z"
    }
   },
   "outputs": [],
   "source": [
    "# Need foundation type, number stories, structure value\n",
    "# for our ensemble. Structure value will be the center of \n",
    "# the distribution and will be passed to the loss estimation\n",
    "# function. Foundation type will be drawn from the implicit\n",
    "# distribution in the NSI data. For each census block, \n",
    "# we are going to get the multinomial probabilities of \n",
    "# a building having a certain foundation type & number of stories\n",
    "# Ideally, we would do this conditioned on prefirm but the\n",
    "# building year column is based on median year built from ACS\n",
    "# data\n",
    "# From the foundation type that is drawn from the multinomial in \n",
    "# the ensemble, we will get the FFE from the distribution \n",
    "# defined in the code for the Wing et al. 2022 paper\n",
    "# The point estimate version will just use default values\n",
    "\n",
    "# Start by retaining only relevant columns in nsi_struct\n",
    "# Then subset this and nsi_ref to the fd_id in nsi_depths\n",
    "# We do need sqft for elevation cost or floodproof estimates\n",
    "keep_cols = ['fd_id', 'occtype', 'found_type', 'val_struct']\n",
    "nsi_res = nsi_struct[keep_cols]\n",
    "\n",
    "# Let's merge in refs into nsi_res\n",
    "nsi_res = nsi_res.merge(nsi_ref, on='fd_id')\n",
    "\n",
    "# We're also going to merge in fzs\n",
    "nsi_res = nsi_res.merge(nsi_fz[['fd_id', 'fld_zone']], on='fd_id')\n",
    "\n",
    "# Split occtype to get the number of stories and basement\n",
    "# We only need to keep stories for the purposes\n",
    "# of estimating the distribution that stories comes from\n",
    "# We will draw basement from the foundation type\n",
    "# distribution which also gives us first floor elevation\n",
    "structs = nsi_res['occtype'].str.split('-').str[1]\n",
    "basements = structs.str[2:]\n",
    "stories = structs.str[:2]\n",
    "\n",
    "nsi_res = nsi_res.assign(stories=stories)\n",
    "\n",
    "# Retain only the rows that correspond to structures\n",
    "# that are exposed to flood depths\n",
    "nsi_res_f = nsi_res[nsi_res['fd_id'].isin(nsi_depths['fd_id'])]\n",
    "\n",
    "# Merge in the depths to the struct df you are working with\n",
    "# Also merge in the refs - there are inconsistencies\n",
    "# with the cbfips column from nsi directly and the\n",
    "# block data I downloaded from the census webpage\n",
    "# You retain more structures if you use the block data \n",
    "full_df = nsi_res_f.merge(nsi_depths, on='fd_id')\n",
    "\n",
    "# This dataset can be directly used for estimating the \n",
    "# benchmark losses of using NSI as-is\n",
    "# Use the Hazus DDFs with no uncertainty"
   ]
  },
  {
   "cell_type": "code",
   "execution_count": 8,
   "id": "ada9027e-c015-4fec-bee8-cb05132e88b4",
   "metadata": {
    "execution": {
     "iopub.execute_input": "2023-11-06T22:08:38.573526Z",
     "iopub.status.busy": "2023-11-06T22:08:38.573259Z",
     "iopub.status.idle": "2023-11-06T22:08:38.588829Z",
     "shell.execute_reply": "2023-11-06T22:08:38.588362Z",
     "shell.execute_reply.started": "2023-11-06T22:08:38.573509Z"
    }
   },
   "outputs": [],
   "source": [
    "# Let's get the fld_zone column processed for the way it needs\n",
    "# to be done for using hazus ddfs\n",
    "# Get the first character of the flood zone and only retain it\n",
    "# if it's a V zone. We are going to use A zone for A and outside\n",
    "# (if any) flood zone depth exposures\n",
    "ve_zone = np.where(full_df['fld_zone'].str[0] == 'V',\n",
    "                   'V',\n",
    "                   'A')\n",
    "full_df = full_df.assign(fz_ddf = ve_zone)\n"
   ]
  },
  {
   "cell_type": "markdown",
   "id": "3fc1a487-2c5b-45f2-9d51-0bec86293572",
   "metadata": {},
   "source": [
    "## Get parameters for structures"
   ]
  },
  {
   "cell_type": "code",
   "execution_count": 9,
   "id": "941ef1b8-8c14-4ba0-9ba4-879fe974dbf0",
   "metadata": {
    "execution": {
     "iopub.execute_input": "2023-11-06T22:08:38.590097Z",
     "iopub.status.busy": "2023-11-06T22:08:38.589839Z",
     "iopub.status.idle": "2023-11-06T22:08:38.616988Z",
     "shell.execute_reply": "2023-11-06T22:08:38.616460Z",
     "shell.execute_reply.started": "2023-11-06T22:08:38.590081Z"
    }
   },
   "outputs": [],
   "source": [
    "# We are also going to use nsi_struct merged with refs\n",
    "# to determine the multinomial probabilities of basement\n",
    "# and number stories (binomial) from block level which matches\n",
    "# up with NSI tech reference on where data is randomly assigned\n",
    "# from. While there are maps from parcel data, where available, \n",
    "# it's not clear which entries have this non-random assignment. \n",
    "# In addition, it is known that parcel aggregation datasets like\n",
    "# ZTRAX may have data errors. The sources the NSI used\n",
    "# have unknown validation/accuracy so we can treat these as\n",
    "# part of estimating the distribution to draw from\n",
    "\n",
    "# The method for estimating number of stories is based on assignment\n",
    "# from parcel data. Where missing, square footage is divided by the \n",
    "# structure's footprint (when sq. ft. is missing, they take 86% of\n",
    "# the structure's footprint as sq. ft). If > 1.25,\n",
    "# a second floor is assumed\n",
    "# If no footprint is available, \n",
    "# stories is randomly assigned from a distribution that varies by\n",
    "# year built and census region. So, we can use census block again\n",
    "# here\n",
    "\n",
    "# The methodology for the structure valuation is obscure\n",
    "# and there is no reporting on how accurate it is to some\n",
    "# observed data on market values\n",
    "# In a conservative thrust, we can take the reported\n",
    "# coefficient of determination from Philadelphia Assesor's \n",
    "# methodology for estimating market values. This COD can be\n",
    "# multiplied by the estimated value from NSI for a presumably\n",
    "# conservative estimate of the standard deviation surrounding\n",
    "# structure value estimates to observed market values\n",
    "# We can also show in a representative example what would\n",
    "# happen to the loss estimate distribution\n",
    "# if the NSI COD is a factor of 2 larger. We still don't know\n",
    "# if this is a reasonable representation since we assume\n",
    "# there is no bias in the NSI structure valuation by\n",
    "# centering the noise distribution at their estimated value. \n",
    "# In reality, the Philly assessor office reports their estimates\n",
    "# are slightly biased which allows us to use a bias correction\n",
    "# factor if we used that data. Down the line, comparing\n",
    "# what the structure inventory distributions are using different\n",
    "# data sources could be very interesting, including accounting\n",
    "# for different # of RES1 buildings based on more detailed\n",
    "# and survye-based methods in the city assessor data\n",
    "# From the Nolte et al. (2023) large-scale parcel data good\n",
    "# practices data, we know that there are many issues in using parcel\n",
    "# data to fill in important data fields (even occupancy type)\n",
    "# It is not the panacea it appears framed as in the NSI technical\n",
    "# documentation\n",
    "\n",
    "# There are not nearly enough observations at the block level\n",
    "# to reliably estimate the parameter for binomial # stories\n",
    "# or multinomial foundation type. Sometimes just one observation\n",
    "# in general. Tract appears to have enough\n",
    "# This check is based on the subset of tracts (or other ref)\n",
    "# in nsi_res that are also in full_df (these are the ones) we need\n",
    "# the probabilities for\n",
    "# I guess STRUCT_REF should either be a config, \n",
    "# or something identified on-the-fly based on \n",
    "# whether we have enough observations at block or blockgroup\n",
    "# before \"rolling back\" to coarser resolution to get\n",
    "# proportions\n",
    "STRUCT_REF = 'tract_id'\n",
    "struct_tot = nsi_res[nsi_res[STRUCT_REF].isin(full_df[STRUCT_REF])]\n"
   ]
  },
  {
   "cell_type": "markdown",
   "id": "eb04bc15-8355-4697-b864-9b77af2a1d25",
   "metadata": {},
   "source": [
    "### Number of stories"
   ]
  },
  {
   "cell_type": "code",
   "execution_count": 10,
   "id": "f63184d1-481b-411b-a2d6-7f192d8bb8c7",
   "metadata": {
    "execution": {
     "iopub.execute_input": "2023-11-06T22:08:39.105774Z",
     "iopub.status.busy": "2023-11-06T22:08:39.105559Z",
     "iopub.status.idle": "2023-11-06T22:08:39.133560Z",
     "shell.execute_reply": "2023-11-06T22:08:39.132407Z",
     "shell.execute_reply.started": "2023-11-06T22:08:39.105757Z"
    }
   },
   "outputs": [],
   "source": [
    "# Get the total number of structures w/ number of stories \n",
    "# in each block gruop\n",
    "stories_sum = struct_tot.groupby([STRUCT_REF, 'stories']).size()\n",
    "# Then get the proportion\n",
    "stories_prop = stories_sum/struct_tot.groupby([STRUCT_REF]).size()\n",
    "# Our parameters can be drawn from this table based on the bg_id\n",
    "# of a structure we are estimating losses for\n",
    "stories_param = stories_prop.reset_index().pivot(index=STRUCT_REF,\n",
    "                                                 columns='stories',\n",
    "                                                 values=0).fillna(0)\n",
    "# Since it's a binomial distribution, we only need to specify\n",
    "# one param. Arbitrarily choose 1S\n",
    "# Round the param to the hundredth place\n",
    "# Store in a dict\n",
    "stories_param = stories_param['1S'].round(2)\n",
    "STRY_DICT = dict(stories_param)\n",
    "\n"
   ]
  },
  {
   "cell_type": "markdown",
   "id": "7e298834-f43d-4d33-9146-2dfc53f20097",
   "metadata": {},
   "source": [
    "### Foundation types"
   ]
  },
  {
   "cell_type": "code",
   "execution_count": 11,
   "id": "fc9cbc33-bd3c-4379-9dc8-edabb73545f7",
   "metadata": {
    "execution": {
     "iopub.execute_input": "2023-11-06T22:08:40.108217Z",
     "iopub.status.busy": "2023-11-06T22:08:40.107678Z",
     "iopub.status.idle": "2023-11-06T22:08:40.156110Z",
     "shell.execute_reply": "2023-11-06T22:08:40.154658Z",
     "shell.execute_reply.started": "2023-11-06T22:08:40.108170Z"
    }
   },
   "outputs": [],
   "source": [
    "# Repeat procedure above\n",
    "found_sum = struct_tot.groupby([STRUCT_REF, 'found_type']).size()\n",
    "found_prop = found_sum/struct_tot.groupby([STRUCT_REF]).size()\n",
    "found_param = found_prop.reset_index().pivot(index=STRUCT_REF,\n",
    "                                             columns='found_type',\n",
    "                                             values=0).fillna(0)\n",
    "\n",
    "# We want a dictionary of bg_id to a list of B, C, S\n",
    "# for direct use in our multinomial distribution draw\n",
    "# Store params in a list (each row is bg_id and corresponds to\n",
    "# its own probabilities of each foundation type)\n",
    "params = found_param.values.round(2)\n",
    "# Then create our dictionary\n",
    "FND_DICT = dict(zip(found_param.index, params))\n"
   ]
  },
  {
   "cell_type": "markdown",
   "id": "808b7511-969a-4853-8e2e-aa7b9eb805b7",
   "metadata": {},
   "source": [
    "## Load depth damage functions"
   ]
  },
  {
   "cell_type": "code",
   "execution_count": 12,
   "id": "db2b3e0d-7253-45b0-9eb0-88b5acd96bbf",
   "metadata": {
    "execution": {
     "iopub.execute_input": "2023-11-06T22:08:40.885269Z",
     "iopub.status.busy": "2023-11-06T22:08:40.884750Z",
     "iopub.status.idle": "2023-11-06T22:08:40.943341Z",
     "shell.execute_reply": "2023-11-06T22:08:40.941871Z",
     "shell.execute_reply.started": "2023-11-06T22:08:40.885223Z"
    }
   },
   "outputs": [],
   "source": [
    "# Load DDFs\n",
    "naccs_ddfs = pd.read_parquet(join(VULN_DIR_I, 'physical', 'naccs_ddfs.pqt'))\n",
    "hazus_ddfs = pd.read_parquet(join(VULN_DIR_I, 'physical', 'hazus_ddfs.pqt'))\n",
    "\n",
    "# Load helper dictionaries\n",
    "with open(join(VULN_DIR_I, 'physical', 'hazus.json'), 'r') as fp:\n",
    "    HAZUS_MAX_DICT = json.load(fp)\n",
    "\n",
    "with open(join(VULN_DIR_I, 'physical', 'hazus_nounc.json'), 'r') as fp:\n",
    "    HAZUS_MAX_NOUNC_DICT = json.load(fp)\n",
    "\n",
    "with open(join(VULN_DIR_I, 'physical', 'naccs.json'), 'r') as fp:\n",
    "    NACCS_MAX_DICT = json.load(fp)"
   ]
  },
  {
   "cell_type": "markdown",
   "id": "70af95c2-be74-41f7-862e-df0fe0f0beca",
   "metadata": {},
   "source": [
    "# Generate ensemble"
   ]
  },
  {
   "cell_type": "code",
   "execution_count": 13,
   "id": "73c0b6e3-68e3-447d-ba42-a70f1a5a0421",
   "metadata": {
    "execution": {
     "iopub.execute_input": "2023-11-06T22:08:41.644641Z",
     "iopub.status.busy": "2023-11-06T22:08:41.644070Z",
     "iopub.status.idle": "2023-11-06T22:08:41.680127Z",
     "shell.execute_reply": "2023-11-06T22:08:41.678652Z",
     "shell.execute_reply.started": "2023-11-06T22:08:41.644592Z"
    }
   },
   "outputs": [],
   "source": [
    "# Reminder of the dataframes/dictionaries we have to help generate\n",
    "# our ensemble members efficiently\n",
    "# STRY_DICT\n",
    "# FND_DICT\n",
    "# FFE_DICT\n",
    "# hazus\n",
    "# naccs\n",
    "# HAZUS_MAX_DICT\n",
    "# NACCS_MAX_DICT\n",
    "# HAZUS_MAX_NOUNC_DICT\n",
    "\n",
    "# And some constants\n",
    "# COEF_VARIATION\n",
    "# N_SOW\n",
    "# RET_PERS\n",
    "\n",
    "# We need a randon number generator\n",
    "rng = np.random.default_rng()"
   ]
  },
  {
   "cell_type": "code",
   "execution_count": 14,
   "id": "d28457a0-b693-4514-b38e-e2ee0a9f8742",
   "metadata": {
    "execution": {
     "iopub.execute_input": "2023-11-06T22:08:42.072397Z",
     "iopub.status.busy": "2023-11-06T22:08:42.071867Z",
     "iopub.status.idle": "2023-11-06T22:08:48.181551Z",
     "shell.execute_reply": "2023-11-06T22:08:48.181078Z",
     "shell.execute_reply.started": "2023-11-06T22:08:42.072351Z"
    }
   },
   "outputs": [
    {
     "name": "stdout",
     "output_type": "stream",
     "text": [
      "Created Index for Ensemble\n"
     ]
    }
   ],
   "source": [
    "# Need to create a dataframe w/ 10,000 rows for each fd_id\n",
    "# From full_df, keep fd_id, val_struct, bg_id, and the\n",
    "# depth columns. \n",
    "# The way I usually do this is with\n",
    "# df.loc[np.repeat(df.index, N)].reset_index(drop=True)\n",
    "# With this approach, we can do everything in a vectorized\n",
    "# form by passing array_like data of size N*len(df)\n",
    "# to different rng() calls to get all the draws from\n",
    "# distributions that we need\n",
    "drop_cols = ['occtype', 'found_type', 'block_id', 'fld_zone',\n",
    "             'stories']\n",
    "\n",
    "ens_df = full_df.drop(columns=drop_cols)\n",
    "ens_df = ens_df.loc[np.repeat(ens_df.index, N_SOW)].reset_index(drop=True)\n",
    "print('Created Index for Ensemble')"
   ]
  },
  {
   "cell_type": "markdown",
   "id": "1ed0718d-ebdb-44eb-ab6f-c036548a3062",
   "metadata": {},
   "source": [
    "## Sample depths"
   ]
  },
  {
   "cell_type": "code",
   "execution_count": 15,
   "id": "4c4ec57b-c9d2-42d0-b7a1-6cc809b52561",
   "metadata": {
    "execution": {
     "iopub.execute_input": "2023-11-06T22:08:48.182570Z",
     "iopub.status.busy": "2023-11-06T22:08:48.182424Z",
     "iopub.status.idle": "2023-11-06T22:09:00.375559Z",
     "shell.execute_reply": "2023-11-06T22:09:00.375004Z",
     "shell.execute_reply.started": "2023-11-06T22:08:48.182558Z"
    }
   },
   "outputs": [
    {
     "name": "stdout",
     "output_type": "stream",
     "text": [
      "Got sampled depth values: 001\n",
      "Got sampled depth values: 002\n",
      "Got sampled depth values: 005\n",
      "Got sampled depth values: 010\n",
      "Got sampled depth values: 015\n",
      "Got sampled depth values: 020\n",
      "Got sampled depth values: 025\n",
      "Got sampled depth values: 050\n",
      "Got sampled depth values: 075\n",
      "Got sampled depth values: 100\n",
      "Got sampled depth values: 200\n",
      "Got sampled depth values: 500\n"
     ]
    }
   ],
   "source": [
    "# We want to store our sampled depths for each \n",
    "# return period in a list\n",
    "# And will put these in a dataframe later\n",
    "depths_l = []\n",
    "# Let's loop through each return period\n",
    "for rp in RET_PERS:\n",
    "    # Let's store rp + scen as strings for easy reference\n",
    "    left = rp + '_Lower'\n",
    "    mid = rp + '_Mid'\n",
    "    right = rp + '_Upper'\n",
    "    \n",
    "    # Let's create a temporary dataframe with the same index\n",
    "    # as ens_df and for just the three columns we want to use\n",
    "    # to draw from a triangular distribution\n",
    "    draw_df = ens_df[[left, mid, right]].copy()\n",
    "\n",
    "    # We need a mask for when the left and right are the same\n",
    "    # In such a case we do not need (and cannot) draw from \n",
    "    # a triangular distribution and just need to take one of \n",
    "    # the values\n",
    "    no_tri_mask = draw_df[left] == draw_df[right]\n",
    "\n",
    "    # Now, we either take the left value, or we draw from\n",
    "    # the triangular distribution\n",
    "    draw_df.loc[no_tri_mask, rp] = draw_df.loc[no_tri_mask][left]\n",
    "    \n",
    "    draws = rng.triangular(draw_df.loc[~no_tri_mask][left],\n",
    "                           draw_df.loc[~no_tri_mask][mid],\n",
    "                           draw_df.loc[~no_tri_mask][right])\n",
    "    draw_df.loc[~no_tri_mask, rp] = draws\n",
    "\n",
    "    # Replace 0 values with na\n",
    "    draw_df.loc[draw_df[rp] == 0, rp] = np.nan\n",
    "    \n",
    "    # Now we just want to store the series for our rp\n",
    "    # in a list which we will concat after all this\n",
    "    # looping is done\n",
    "    # This will be our final depth dataframe\n",
    "    depths_l.append(draw_df[rp])\n",
    "    \n",
    "    # Helpful logging message\n",
    "    print('Got sampled depth values: ' + rp)\n",
    "\n",
    "# Round sapmled depth to nearest foot\n",
    "depth_df = pd.concat(depths_l, axis=1).round()\n"
   ]
  },
  {
   "cell_type": "markdown",
   "id": "e8a1b82c-188c-41d8-b638-69bc88db4ef9",
   "metadata": {},
   "source": [
    "## Sample structure characteristics"
   ]
  },
  {
   "cell_type": "code",
   "execution_count": 16,
   "id": "9da0470a-5553-47bb-97ab-ac937aef3020",
   "metadata": {
    "execution": {
     "iopub.execute_input": "2023-11-06T22:09:00.376560Z",
     "iopub.status.busy": "2023-11-06T22:09:00.376344Z",
     "iopub.status.idle": "2023-11-06T22:09:44.425271Z",
     "shell.execute_reply": "2023-11-06T22:09:44.424885Z",
     "shell.execute_reply.started": "2023-11-06T22:09:00.376547Z"
    }
   },
   "outputs": [
    {
     "name": "stdout",
     "output_type": "stream",
     "text": [
      "Draw values\n",
      "Draw stories\n",
      "Draw foundation type\n",
      "Generated Structure Characteristics\n"
     ]
    }
   ],
   "source": [
    "# Values\n",
    "# Draw from the structure value distribution for each property\n",
    "# normal(val_struct, val_struct*CF_DET) where these are array_like\n",
    "# I also want to treat this as truncated\n",
    "# on the lower end since there is a risk of drawing impossibly\n",
    "# low numbers (like negative) with this approach\n",
    "# https://github.com/kieranrcampbell/blog-notebooks/blob/master/\n",
    "# Fast%20vectorized%20sampling%20from%20truncated%\n",
    "# 20normal%20distributions%20in%20python.ipynb\n",
    "# outlines an approach to use numpy to do a truncated sample\n",
    "# TODO move this to a util file\n",
    "def truncnorm_rvs_recursive(x, sigma, lower_clip):\n",
    "    rng = np.random.default_rng()\n",
    "    q = rng.normal(x, sigma)\n",
    "    if np.any(q < lower_clip):\n",
    "        # Adjustment to the code provided to index the sigma vector\n",
    "        q[q < lower_clip] = truncnorm_rvs_recursive(x[q < lower_clip],\n",
    "                                                    sigma[q < lower_clip],\n",
    "                                                    lower_clip)\n",
    "\n",
    "    return q\n",
    "# Using 20000 as an artificial, arbitrary lower bound on value\n",
    "values = truncnorm_rvs_recursive(ens_df['val_struct'],\n",
    "                                 ens_df['val_struct']*COEF_VARIATION,\n",
    "                                 20000)\n",
    "\n",
    "print('Draw values')\n",
    "\n",
    "# Draw from the #stories distribution\n",
    "# We do this by mapping ens_df values with STRY_DICT\n",
    "# and passing this parameter to rng.binomial()\n",
    "# We also need to create an array of 1s with length\n",
    "# N_SOW * len(full_df) - i.e. len(ens_df)\n",
    "# full_df['bg_id'].map(STRY_DICT)\n",
    "bin_n = np.ones(len(ens_df), dtype=np.int8)\n",
    "bin_p = ens_df[STRUCT_REF].map(STRY_DICT).values\n",
    "# This gives us an array of 0s and 1s\n",
    "# Based on how STRY_DICT is defined, the probability of\n",
    "# success parameter corresponds to 1S, so we need to\n",
    "# swap out 1 with 1S and 0 with 2S\n",
    "stories = rng.binomial(bin_n, bin_p)\n",
    "stories = np.where(stories == 1,\n",
    "                   '1S',\n",
    "                   '2S')\n",
    "\n",
    "print('Draw stories')\n",
    "\n",
    "# Draw from the fnd_type distribution\n",
    "# We do the same thing as above but with\n",
    "# the FND_DICT. This is a multinomial distribution\n",
    "# and 0, 1, 2 correspond to B, C, S\n",
    "# We get an array returned of the form \n",
    "# [0, 0, 1] (if we have Slab foundation, for example)\n",
    "# so we need to transform this into the corresponding\n",
    "# foundation type array\n",
    "# Can do this with fnds[fnds[0] == 1] = 'B'\n",
    "# fnds[fnds[1]] == 1] = 'C' & fnds[fnds[2] == 1] = 'S'\n",
    "# One way to do the mapping is by treating each\n",
    "# row-array as a binary string and converting it\n",
    "# to an int\n",
    "# So you get [a, b, c] => a*2^2 + b*2^1 + c*2^0\n",
    "# This uniquely maps to 4, 2, and 1\n",
    "# So we can create a dict for 4: 'B', 2: 'C', and 1: 'S'\n",
    "# and make it a pd.Series() (I think this is useful because\n",
    "# pandas can combine this with the 1S and 2S string easily\n",
    "# into a series and we'll need to use that bld_type\n",
    "# for the other dicts we have)\n",
    "\n",
    "# This is our ens_df index aligned multinomial\n",
    "# probabilities array\n",
    "# np.stack makes sure the dtype is correct\n",
    "# Not sure why it is cast to object dtype if\n",
    "# I call .values, but this works...\n",
    "\n",
    "mult_p = np.stack(ens_df[STRUCT_REF].map(FND_DICT))\n",
    "# This is our map of binary string/int\n",
    "# conversions to the foundation type\n",
    "bin_str_map = {4: 'B', 2: 'C', 1: 'S'}\n",
    "# We need our np.ones array \n",
    "mult_n = np.ones(len(ens_df), dtype=np.int8)\n",
    "# Draw from mult_p\n",
    "fnds = rng.multinomial(mult_n, mult_p)\n",
    "# Create a series of 4, 2, and 1 from the binary strings\n",
    "# This code accomplishes the conversion outlined in the\n",
    "# note above and comes from this stackoverflow post\n",
    "# https://stackoverflow.com/questions/41069825/\n",
    "# convert-binary-01-numpy-to-integer-or-binary-string\n",
    "fnds_ints = pd.Series(fnds.dot(2**np.arange(fnds.shape[1])[::-1]))\n",
    "# Replace these values with the fnd_type\n",
    "fnd_types = fnds_ints.map(bin_str_map)\n",
    "\n",
    "\n",
    "print('Draw foundation type')\n",
    "\n",
    "# We take fnd_types for two tasks now\n",
    "# First, if B, it's WB type home and we\n",
    "# combine this with stories to get the bld_type\n",
    "# This is naccs_ddf_type \n",
    "# We combine bld_type with fz_ddf to get hazus_ddf_type\n",
    "# For our case study, it turns out we will use the same hazus\n",
    "# ddf for the basement houses (_A) since no V zone houses\n",
    "# For no basement, hazus_ddf_type does not add the _fz\n",
    "\n",
    "# Let's get bld_type\n",
    "# Basement type from fnd_types\n",
    "base_types = np.where(fnd_types == 'B',\n",
    "                      'WB',\n",
    "                      'NB')\n",
    "\n",
    "# Combine 1S and this\n",
    "bld_types = pd.Series(stories) + pd.Series(base_types)\n",
    "\n",
    "# In theory, bld_type is naccs_ddf_type. No need to \n",
    "# take this storage up in practice... just refer to bld_type\n",
    "# when needed\n",
    "# For WB homes, hazus_ddf_type is bld_types + '_' + ens_df['fz_ddf']\n",
    "# For NB homes, it's bld_types\n",
    "# It makes practical sense to create a new series for this\n",
    "hazus_ddf_types = pd.Series(np.where(base_types == 'WB',\n",
    "                                     bld_types + '_' + ens_df['fz_ddf'],\n",
    "                                     bld_types))\n",
    "\n",
    "# Second, we are going to use the fnd_type to draw from the\n",
    "# FFE distribution\n",
    "# Need to use np.stack to get the array of floats\n",
    "tri_params = np.stack(fnd_types.map(FFE_DICT))\n",
    "\n",
    "# Can use [:] to access like a matrix and directly input to \n",
    "# rng.triangular\n",
    "# 0, 1, and 2 are column indices corresponding to left,\n",
    "# mode, and right\n",
    "# We round this to the nearest foot\n",
    "ffes = np.round(rng.triangular(tri_params[:,0],\n",
    "                               tri_params[:,1],\n",
    "                               tri_params[:,2]))\n",
    "\n",
    "print('Generated Structure Characteristics')\n"
   ]
  },
  {
   "cell_type": "markdown",
   "id": "922d7659-03e2-4c2f-bed5-5d435df1233a",
   "metadata": {},
   "source": [
    "## Estimate losses"
   ]
  },
  {
   "cell_type": "code",
   "execution_count": 17,
   "id": "d124645c-368f-4b45-b114-df8731e83aa5",
   "metadata": {
    "execution": {
     "iopub.execute_input": "2023-11-06T22:09:44.426286Z",
     "iopub.status.busy": "2023-11-06T22:09:44.426141Z",
     "iopub.status.idle": "2023-11-06T22:09:45.435632Z",
     "shell.execute_reply": "2023-11-06T22:09:45.435201Z",
     "shell.execute_reply.started": "2023-11-06T22:09:44.426274Z"
    }
   },
   "outputs": [],
   "source": [
    "# First, we need to link up the depths and ffes\n",
    "# They have the same index, so I think we can do it by\n",
    "# just take our depth df and adusting each column\n",
    "# by the ffe amount\n",
    "depth_ffe_df = depth_df.subtract(ffes, axis=0)"
   ]
  },
  {
   "cell_type": "code",
   "execution_count": 18,
   "id": "f0eae160-2001-4315-8699-f57e7f15cec3",
   "metadata": {
    "execution": {
     "iopub.execute_input": "2023-11-06T22:09:45.436276Z",
     "iopub.status.busy": "2023-11-06T22:09:45.436147Z",
     "iopub.status.idle": "2023-11-06T22:09:45.446597Z",
     "shell.execute_reply": "2023-11-06T22:09:45.446247Z",
     "shell.execute_reply.started": "2023-11-06T22:09:45.436265Z"
    }
   },
   "outputs": [],
   "source": [
    "depths = depth_ffe_df[rp]\n",
    "ddfs = naccs_ddfs\n",
    "MAX_DICT = NACCS_MAX_DICT"
   ]
  },
  {
   "cell_type": "code",
   "execution_count": 19,
   "id": "003f5629-dbc4-4da1-b408-5a0f6b96351f",
   "metadata": {
    "execution": {
     "iopub.execute_input": "2023-11-06T22:09:45.447117Z",
     "iopub.status.busy": "2023-11-06T22:09:45.447006Z",
     "iopub.status.idle": "2023-11-06T22:12:57.175242Z",
     "shell.execute_reply": "2023-11-06T22:12:57.174757Z",
     "shell.execute_reply.started": "2023-11-06T22:09:45.447106Z"
    }
   },
   "outputs": [
    {
     "name": "stdout",
     "output_type": "stream",
     "text": [
      "Estimate Losses for NACCS & Hazus, RP: 001\n",
      "Estimate Losses for NACCS & Hazus, RP: 002\n",
      "Estimate Losses for NACCS & Hazus, RP: 005\n",
      "Estimate Losses for NACCS & Hazus, RP: 010\n",
      "Estimate Losses for NACCS & Hazus, RP: 015\n",
      "Estimate Losses for NACCS & Hazus, RP: 020\n",
      "Estimate Losses for NACCS & Hazus, RP: 025\n",
      "Estimate Losses for NACCS & Hazus, RP: 050\n",
      "Estimate Losses for NACCS & Hazus, RP: 075\n",
      "Estimate Losses for NACCS & Hazus, RP: 100\n",
      "Estimate Losses for NACCS & Hazus, RP: 200\n",
      "Estimate Losses for NACCS & Hazus, RP: 500\n",
      "Randomly assigned NACCS or HAZUS Loss\n"
     ]
    }
   ],
   "source": [
    "# Now, we are going to loop through each return period\n",
    "# and estimate losses for NACCS and HAZUS using our helper\n",
    "# functions for each of these\n",
    "# We will store these in dictionaries with return period keys\n",
    "hazus_loss = {}\n",
    "naccs_loss = {}\n",
    "for rp in RET_PERS:\n",
    "    naccs_loss[rp] = est_naccs_loss(bld_types, depth_ffe_df[rp],\n",
    "                                    naccs_ddfs, NACCS_MAX_DICT)\n",
    "    hazus_loss[rp] = est_hazus_loss(hazus_ddf_types, depth_ffe_df[rp],\n",
    "                                    hazus_ddfs, HAZUS_MAX_DICT)\n",
    "\n",
    "    print('Estimate Losses for NACCS & Hazus, RP: ' + rp)\n",
    "\n",
    "# Then, we convert these to dataframes\n",
    "hazus_df = pd.DataFrame.from_dict(hazus_loss)\n",
    "naccs_df = pd.DataFrame.from_dict(naccs_loss)\n",
    "\n",
    "# And we use a binomial rv to determine if we use the hazus or naccs\n",
    "# loss estimate for a particular return period\n",
    "# Binomial\n",
    "random_loss = rng.binomial(1, .5, size=len(ens_df))\n",
    "\n",
    "# Get indices to take from each df\n",
    "hazus_ind = (random_loss == 0)\n",
    "naccs_ind = (random_loss == 1)\n",
    "\n",
    "# Concat subsetted dataframes\n",
    "losses_df = pd.concat([hazus_df.loc[hazus_ind],\n",
    "                       naccs_df.loc[naccs_ind]], axis=0).sort_index()\n",
    "# Rename columns to make it more clear what this is\n",
    "losses_df.columns = ['rel_dam_' + x for x in losses_df.columns]\n",
    "\n",
    "print('Randomly assigned NACCS or HAZUS Loss')"
   ]
  },
  {
   "cell_type": "code",
   "execution_count": 20,
   "id": "5103e260-3f59-4baa-a0b3-504a4b15ed5b",
   "metadata": {
    "execution": {
     "iopub.execute_input": "2023-11-06T22:12:57.176069Z",
     "iopub.status.busy": "2023-11-06T22:12:57.175925Z",
     "iopub.status.idle": "2023-11-06T22:13:03.099835Z",
     "shell.execute_reply": "2023-11-06T22:13:03.099355Z",
     "shell.execute_reply.started": "2023-11-06T22:12:57.176057Z"
    }
   },
   "outputs": [
    {
     "name": "stdout",
     "output_type": "stream",
     "text": [
      "Obtained Full Ensemble\n"
     ]
    }
   ],
   "source": [
    "# Now we concat these with ens_df, stories, fnd_type,\n",
    "# ffe, structure value, and depth_ffe_df\n",
    "depth_ffe = pd.DataFrame.from_dict(depth_ffe_df)\n",
    "\n",
    "# Add clearer column names\n",
    "depth_ffe.columns = ['depth_ffe_' + x for x in depth_ffe.columns]\n",
    "\n",
    "# Concat for our full ensemble\n",
    "ens_df = pd.concat([ens_df, losses_df, depth_ffe,\n",
    "                    pd.Series(stories, name='stories'),\n",
    "                    pd.Series(fnd_types, name='fnd_type'),\n",
    "                    pd.Series(ffes, name='ffe'),\n",
    "                    pd.Series(values, name='val_s')],\n",
    "                   axis=1)\n",
    "# Get relative damage columns\n",
    "rel_cols = [x for x in ens_df.columns if 'rel_dam' in x]\n",
    "# For each relative damage column, scale by val_s, the structure\n",
    "# value realization\n",
    "for col in rel_cols:\n",
    "    rp = col.split('_')[-1]\n",
    "    ens_df['loss_' + rp] = ens_df[col]*ens_df['val_s']\n",
    "\n",
    "print('Obtained Full Ensemble')"
   ]
  },
  {
   "cell_type": "code",
   "execution_count": 21,
   "id": "76e45ea4-16cd-4881-99e7-b2f89536e2fd",
   "metadata": {
    "execution": {
     "iopub.execute_input": "2023-11-06T22:13:03.100674Z",
     "iopub.status.busy": "2023-11-06T22:13:03.100533Z",
     "iopub.status.idle": "2023-11-06T22:13:12.463867Z",
     "shell.execute_reply": "2023-11-06T22:13:12.463439Z",
     "shell.execute_reply.started": "2023-11-06T22:13:03.100662Z"
    }
   },
   "outputs": [],
   "source": [
    "# Now we calculate EAL\n",
    "# We will use trapezoidal approximation for this\n",
    "# Using trapezoid method and adding bin of lowest probability\n",
    "# events to obtain expected annual \n",
    "\n",
    "# We make a list of our loss columns\n",
    "loss_list = ['loss_' + x for x in RET_PERS]\n",
    "# As well as the corresponding probabilities\n",
    "p_rp_list = [round(1/int(x), 4) for x in RET_PERS]\n",
    "\n",
    "# Then we create an empty series\n",
    "eal = pd.Series(index=ens_df.index).fillna(0)\n",
    "\n",
    "# We loop through our loss list and apply the \n",
    "# trapezoidal approximation\n",
    "for i in range(len(loss_list) - 1):\n",
    "    loss1 = ens_df[loss_list[i]]\n",
    "    loss2 = ens_df[loss_list[i+1]]\n",
    "    rp1 = p_rp_list[i]\n",
    "    rp2 = p_rp_list[i+1]\n",
    "    # We add each approximation\n",
    "    eal += (loss1 + loss2)*(rp1-rp2)/2\n",
    "# This is the final trapezoid to add in\n",
    "final_eal = eal + ens_df[loss_list[-1]]*p_rp_list[-1]\n",
    "\n",
    "# Add eal column to our dataframe\n",
    "ens_df = pd.concat([ens_df, pd.Series(final_eal, name='eal')], axis=1)\n",
    "\n",
    "# Let's also get the SOW index - start at 0\n",
    "sow_ind = np.arange(len(ens_df))%N_SOW\n",
    "ens_df = pd.concat([ens_df, pd.Series(sow_ind, name='sow_ind')], axis=1)"
   ]
  },
  {
   "cell_type": "code",
   "execution_count": 40,
   "id": "f7c4ee00-630f-442b-8729-aabe0df5ad49",
   "metadata": {
    "execution": {
     "iopub.execute_input": "2023-11-06T22:23:38.568685Z",
     "iopub.status.busy": "2023-11-06T22:23:38.568496Z",
     "iopub.status.idle": "2023-11-06T22:23:39.120081Z",
     "shell.execute_reply": "2023-11-06T22:23:39.119314Z",
     "shell.execute_reply.started": "2023-11-06T22:23:38.568671Z"
    }
   },
   "outputs": [],
   "source": [
    "# Ok this is great. Now I need to write this out\n",
    "# And, I need to get the no uncertainty benchmark losses as well\n",
    "# Should be able to plot the benchmark value pdf against\n",
    "# this pdf, to see how things shake out. Plus, these val vs. risk\n",
    "# plots would be interesting, to see if you get\n",
    "# different representations which may have implications for\n",
    "# the decisions you make later on \n",
    "temp = ens_df.groupby('fd_id')[['eal', 'val_s']].mean()\n",
    "temp['rel_eal'] = temp['eal']/temp['val_s']"
   ]
  },
  {
   "cell_type": "code",
   "execution_count": 42,
   "id": "dac3754d-90e6-4fd8-87ee-72c55b3c4a9f",
   "metadata": {
    "execution": {
     "iopub.execute_input": "2023-11-06T22:23:52.249828Z",
     "iopub.status.busy": "2023-11-06T22:23:52.249427Z",
     "iopub.status.idle": "2023-11-06T22:23:52.546101Z",
     "shell.execute_reply": "2023-11-06T22:23:52.544996Z",
     "shell.execute_reply.started": "2023-11-06T22:23:52.249809Z"
    }
   },
   "outputs": [
    {
     "data": {
      "text/plain": [
       "<Axes: xlabel='val_s', ylabel='rel_eal'>"
      ]
     },
     "execution_count": 42,
     "metadata": {},
     "output_type": "execute_result"
    },
    {
     "data": {
      "image/png": "[encoded data removed]",
      "text/plain": [
       "<Figure size 1000x600 with 2 Axes>"
      ]
     },
     "metadata": {},
     "output_type": "display_data"
    }
   ],
   "source": [
    "import matplotlib.pyplot as plt\n",
    "fig, ax = plt.subplots(ncols=2, figsize=(10, 6))\n",
    "temp.plot(x='val_s', y='eal', kind='scatter', ax=ax[0])\n",
    "temp.plot(x='val_s', y='rel_eal', kind='scatter', ax=ax[1])"
   ]
  },
  {
   "cell_type": "markdown",
   "id": "bc67e94c-6821-4f3e-b8ff-4a52ecac8882",
   "metadata": {},
   "source": [
    "# Generate losses without uncertainty"
   ]
  },
  {
   "cell_type": "code",
   "execution_count": 73,
   "id": "ba65bf86-18ac-42af-b769-6dbf1b8b5ea4",
   "metadata": {
    "execution": {
     "iopub.execute_input": "2023-11-06T21:58:05.610219Z",
     "iopub.status.busy": "2023-11-06T21:58:05.609969Z",
     "iopub.status.idle": "2023-11-06T21:58:06.532772Z",
     "shell.execute_reply": "2023-11-06T21:58:06.530927Z",
     "shell.execute_reply.started": "2023-11-06T21:58:05.610201Z"
    }
   },
   "outputs": [
    {
     "data": {
      "text/html": [
       "<div>\n",
       "<style scoped>\n",
       "    .dataframe tbody tr th:only-of-type {\n",
       "        vertical-align: middle;\n",
       "    }\n",
       "\n",
       "    .dataframe tbody tr th {\n",
       "        vertical-align: top;\n",
       "    }\n",
       "\n",
       "    .dataframe thead th {\n",
       "        text-align: right;\n",
       "    }\n",
       "</style>\n",
       "<table border=\"1\" class=\"dataframe\">\n",
       "  <thead>\n",
       "    <tr style=\"text-align: right;\">\n",
       "      <th></th>\n",
       "      <th>fd_id</th>\n",
       "      <th>occtype</th>\n",
       "      <th>found_type</th>\n",
       "      <th>val_struct</th>\n",
       "      <th>tract_id</th>\n",
       "      <th>block_id</th>\n",
       "      <th>bg_id</th>\n",
       "      <th>zcta_id</th>\n",
       "      <th>fld_zone</th>\n",
       "      <th>stories</th>\n",
       "    </tr>\n",
       "  </thead>\n",
       "  <tbody>\n",
       "    <tr>\n",
       "      <th>0</th>\n",
       "      <td>550368098</td>\n",
       "      <td>RES1-2SWB</td>\n",
       "      <td>B</td>\n",
       "      <td>216021.012</td>\n",
       "      <td>34007605200</td>\n",
       "      <td>340076052002021</td>\n",
       "      <td>340076052002</td>\n",
       "      <td>08030</td>\n",
       "      <td>X</td>\n",
       "      <td>2S</td>\n",
       "    </tr>\n",
       "    <tr>\n",
       "      <th>1</th>\n",
       "      <td>550368104</td>\n",
       "      <td>RES1-1SWB</td>\n",
       "      <td>B</td>\n",
       "      <td>264359.376</td>\n",
       "      <td>34007605200</td>\n",
       "      <td>340076052002021</td>\n",
       "      <td>340076052002</td>\n",
       "      <td>08030</td>\n",
       "      <td>X</td>\n",
       "      <td>1S</td>\n",
       "    </tr>\n",
       "    <tr>\n",
       "      <th>2</th>\n",
       "      <td>550368108</td>\n",
       "      <td>RES1-2SWB</td>\n",
       "      <td>B</td>\n",
       "      <td>233771.754</td>\n",
       "      <td>34007605200</td>\n",
       "      <td>340076052002021</td>\n",
       "      <td>340076052002</td>\n",
       "      <td>08030</td>\n",
       "      <td>X</td>\n",
       "      <td>2S</td>\n",
       "    </tr>\n",
       "    <tr>\n",
       "      <th>3</th>\n",
       "      <td>550368096</td>\n",
       "      <td>RES1-2SNB</td>\n",
       "      <td>C</td>\n",
       "      <td>246408.102</td>\n",
       "      <td>34007605200</td>\n",
       "      <td>340076052002021</td>\n",
       "      <td>340076052002</td>\n",
       "      <td>08030</td>\n",
       "      <td>X</td>\n",
       "      <td>2S</td>\n",
       "    </tr>\n",
       "    <tr>\n",
       "      <th>4</th>\n",
       "      <td>550577105</td>\n",
       "      <td>RES1-1SWB</td>\n",
       "      <td>B</td>\n",
       "      <td>220274.562</td>\n",
       "      <td>34007605200</td>\n",
       "      <td>340076052002008</td>\n",
       "      <td>340076052002</td>\n",
       "      <td>08030</td>\n",
       "      <td>X</td>\n",
       "      <td>1S</td>\n",
       "    </tr>\n",
       "  </tbody>\n",
       "</table>\n",
       "</div>"
      ],
      "text/plain": [
       "       fd_id    occtype found_type  val_struct     tract_id         block_id  \\\n",
       "0  550368098  RES1-2SWB          B  216021.012  34007605200  340076052002021   \n",
       "1  550368104  RES1-1SWB          B  264359.376  34007605200  340076052002021   \n",
       "2  550368108  RES1-2SWB          B  233771.754  34007605200  340076052002021   \n",
       "3  550368096  RES1-2SNB          C  246408.102  34007605200  340076052002021   \n",
       "4  550577105  RES1-1SWB          B  220274.562  34007605200  340076052002008   \n",
       "\n",
       "          bg_id zcta_id fld_zone stories  \n",
       "0  340076052002   08030        X      2S  \n",
       "1  340076052002   08030        X      1S  \n",
       "2  340076052002   08030        X      2S  \n",
       "3  340076052002   08030        X      2S  \n",
       "4  340076052002   08030        X      1S  "
      ]
     },
     "execution_count": 73,
     "metadata": {},
     "output_type": "execute_result"
    }
   ],
   "source": [
    "nsi_res.head()"
   ]
  },
  {
   "cell_type": "code",
   "execution_count": null,
   "id": "e7d20faa-68cb-4a91-9ac9-dad58c6318b0",
   "metadata": {},
   "outputs": [],
   "source": []
  }
 ],
 "metadata": {
  "kernelspec": {
   "display_name": "flrisk",
   "language": "python",
   "name": "flrisk"
  },
  "language_info": {
   "codemirror_mode": {
    "name": "ipython",
    "version": 3
   },
   "file_extension": ".py",
   "mimetype": "text/x-python",
   "name": "python",
   "nbconvert_exporter": "python",
   "pygments_lexer": "ipython3",
   "version": "3.11.5"
  },
  "widgets": {
   "application/vnd.jupyter.widget-state+json": {
    "state": {},
    "version_major": 2,
    "version_minor": 0
   }
  }
 },
 "nbformat": 4,
 "nbformat_minor": 5
}
